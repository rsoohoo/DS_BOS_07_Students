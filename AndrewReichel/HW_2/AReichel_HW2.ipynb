{
 "cells": [
  {
   "cell_type": "code",
   "execution_count": 146,
   "metadata": {
    "collapsed": false
   },
   "outputs": [
    {
     "data": {
      "text/html": [
       "<div>\n",
       "<table border=\"1\" class=\"dataframe\">\n",
       "  <thead>\n",
       "    <tr style=\"text-align: right;\">\n",
       "      <th></th>\n",
       "      <th>PLAYER</th>\n",
       "      <th>POSITION</th>\n",
       "      <th>TEAM</th>\n",
       "      <th>GP</th>\n",
       "      <th>MPG</th>\n",
       "      <th>AST</th>\n",
       "      <th>APG</th>\n",
       "      <th>TO</th>\n",
       "      <th>TOPG</th>\n",
       "      <th>AP48M</th>\n",
       "      <th>AST/TO</th>\n",
       "    </tr>\n",
       "  </thead>\n",
       "  <tbody>\n",
       "    <tr>\n",
       "      <th>0</th>\n",
       "      <td>Russell Westbrook</td>\n",
       "      <td>PG</td>\n",
       "      <td>OKC</td>\n",
       "      <td>8</td>\n",
       "      <td>34.8</td>\n",
       "      <td>87</td>\n",
       "      <td>10.9</td>\n",
       "      <td>39</td>\n",
       "      <td>4.9</td>\n",
       "      <td>15.0</td>\n",
       "      <td>2.23</td>\n",
       "    </tr>\n",
       "    <tr>\n",
       "      <th>1</th>\n",
       "      <td>Ricky Rubio</td>\n",
       "      <td>PG</td>\n",
       "      <td>MIN</td>\n",
       "      <td>6</td>\n",
       "      <td>30.8</td>\n",
       "      <td>54</td>\n",
       "      <td>9.0</td>\n",
       "      <td>12</td>\n",
       "      <td>2.0</td>\n",
       "      <td>14.0</td>\n",
       "      <td>4.50</td>\n",
       "    </tr>\n",
       "    <tr>\n",
       "      <th>2</th>\n",
       "      <td>John Wall</td>\n",
       "      <td>PG</td>\n",
       "      <td>WSH</td>\n",
       "      <td>7</td>\n",
       "      <td>33.4</td>\n",
       "      <td>58</td>\n",
       "      <td>8.3</td>\n",
       "      <td>30</td>\n",
       "      <td>4.3</td>\n",
       "      <td>11.9</td>\n",
       "      <td>1.93</td>\n",
       "    </tr>\n",
       "    <tr>\n",
       "      <th>3</th>\n",
       "      <td>Ish Smith</td>\n",
       "      <td>PG</td>\n",
       "      <td>NO</td>\n",
       "      <td>7</td>\n",
       "      <td>26.9</td>\n",
       "      <td>57</td>\n",
       "      <td>8.1</td>\n",
       "      <td>13</td>\n",
       "      <td>1.9</td>\n",
       "      <td>14.6</td>\n",
       "      <td>4.38</td>\n",
       "    </tr>\n",
       "    <tr>\n",
       "      <th>4</th>\n",
       "      <td>Rajon Rondo</td>\n",
       "      <td>PG</td>\n",
       "      <td>SAC</td>\n",
       "      <td>8</td>\n",
       "      <td>31.9</td>\n",
       "      <td>62</td>\n",
       "      <td>7.8</td>\n",
       "      <td>27</td>\n",
       "      <td>3.4</td>\n",
       "      <td>11.7</td>\n",
       "      <td>2.30</td>\n",
       "    </tr>\n",
       "  </tbody>\n",
       "</table>\n",
       "</div>"
      ],
      "text/plain": [
       "              PLAYER POSITION TEAM GP   MPG AST   APG  TO TOPG AP48M AST/TO\n",
       "0  Russell Westbrook       PG  OKC  8  34.8  87  10.9  39  4.9  15.0   2.23\n",
       "1        Ricky Rubio       PG  MIN  6  30.8  54   9.0  12  2.0  14.0   4.50\n",
       "2          John Wall       PG  WSH  7  33.4  58   8.3  30  4.3  11.9   1.93\n",
       "3          Ish Smith       PG   NO  7  26.9  57   8.1  13  1.9  14.6   4.38\n",
       "4        Rajon Rondo       PG  SAC  8  31.9  62   7.8  27  3.4  11.7   2.30"
      ]
     },
     "execution_count": 146,
     "metadata": {},
     "output_type": "execute_result"
    }
   ],
   "source": [
    "from bs4 import BeautifulSoup\n",
    "import urllib2\n",
    "import pandas as pd\n",
    "import numpy as np\n",
    "page = urllib2.urlopen('http://espn.go.com/nba/statistics/player/_/stat/assists/qualified/false/').read()\n",
    "url_base = 'http://espn.go.com/nba/statistics/player/_/stat/%s/qualified/false/'\n",
    "url_scoring_base = url_base % 'scoring'\n",
    "url_assists_base = url_base % 'assists'\n",
    "\n",
    "soup = BeautifulSoup(page)\n",
    "\n",
    "soup.prettify()[0:1000]\n",
    "table_div = soup.find(id = 'my-players-table')\n",
    "table = table_div.find('table')\n",
    "table_head = table.find(attrs={\"class\":'colhead'})\n",
    "header_cols = table_head.findAll('td')\n",
    "cols = []\n",
    "\n",
    "for header_col in header_cols:\n",
    "    val = header_col.string\n",
    "    if val != 'RK':\n",
    "        cols.append(val)\n",
    "    if val == 'PLAYER':\n",
    "        cols.append('POSITION')\n",
    "\n",
    "table_rows = table.findAll('tr')\n",
    "\n",
    "players_stats_dicts = []\n",
    "players_stats_array = []\n",
    "for row in table_rows:\n",
    "    if row.attrs['class'][0]=='colhead':\n",
    "        continue\n",
    "    player_stats = []\n",
    "    row_cols = row.find_all('td')\n",
    "    col_vals = []\n",
    "    player_col = row_cols[1]\n",
    "    player_name = player_col.find('a').string\n",
    "    player_position = player_col.contents[1]\n",
    "    player_position = player_position.split(' ')[1]\n",
    "    player_stats.append(player_name)\n",
    "    player_stats.append(player_position)\n",
    "    for i in range(2, len(row_cols)):\n",
    "        stat = row_cols[i].string\n",
    "        player_stats.append(stat)\n",
    "    players_stats_array.append(player_stats)\n",
    "    player_stats = dict(zip(cols, player_stats))\n",
    "    players_stats_dicts.append(player_stats)\n",
    "\n",
    "df = pd.DataFrame.from_dict(players_stats_dicts)\n",
    "np_array = np.array(players_stats_array)\n",
    "df = pd.DataFrame(np_array, columns=cols)\n",
    "df.head()"
   ]
  },
  {
   "cell_type": "code",
   "execution_count": 57,
   "metadata": {
    "collapsed": false
   },
   "outputs": [],
   "source": [
    "#funtion to retreive the names of header columns, given a table element\n",
    "def get_cols(table):\n",
    "    header_cols = table.find(attrs={'class':'colhead'}).findAll('td')\n",
    "    name_cols = []\n",
    "    for element in header_cols:\n",
    "        if (element.string == 'RK'):\n",
    "            continue\n",
    "        name_cols.append(element.string)\n",
    "        if (element.string == 'PLAYER'):\n",
    "            name_cols.append('POSITION')\n",
    "    return name_cols\n"
   ]
  },
  {
   "cell_type": "code",
   "execution_count": 143,
   "metadata": {
    "collapsed": false
   },
   "outputs": [],
   "source": [
    "#function to retireve the actual data given a tabel element\n",
    "def get_data(table, header_col):\n",
    "    players = []\n",
    "    rows = table.findAll('tr')\n",
    "    for i in rows:\n",
    "        if i.attrs['class'][0]=='colhead':\n",
    "            continue\n",
    "        player_stats = []\n",
    "        row_cols = row.find_all('td')\n",
    "        col_vals = []\n",
    "        player_col = row_cols[1]\n",
    "        player_name = player_col.find('a').string\n",
    "        player_position = player_col.contents[1]\n",
    "        player_position = player_position.split(' ')[1]\n",
    "        player_stats.append(player_name)\n",
    "        player_stats.append(player_position)\n",
    "        for i in range(2, len(row_cols)):\n",
    "            stat = row_cols[i].string\n",
    "            player_stats.append(stat)\n",
    "        players_stats_array.append(player_stats)\n",
    "        #player_stats = dict(zip(cols, player_stats))\n",
    "        #players_stats_dicts.append(player_stats)\n",
    "    return players_stats_array\n",
    "        \n",
    "               "
   ]
  },
  {
   "cell_type": "code",
   "execution_count": 141,
   "metadata": {
    "collapsed": true
   },
   "outputs": [],
   "source": [
    "#iterate through various pages\n",
    "pagination = np.arrange(1,402,40)\n",
    "scoring = []\n",
    "for i in pagination:\n",
    "    page = urllib2.urlopen(base_url+'i').read()\n",
    "    soup = BeautifulSoup(page)\n",
    "    table = soup.find('tabe')\n",
    "    s = get_data(table, header)\n",
    "    scoring.extend(s)\n"
   ]
  },
  {
   "cell_type": "code",
   "execution_count": 145,
   "metadata": {
    "collapsed": false
   },
   "outputs": [
    {
     "ename": "NameError",
     "evalue": "name 'df_scoring' is not defined",
     "output_type": "error",
     "traceback": [
      "\u001b[1;31m---------------------------------------------------------------------------\u001b[0m",
      "\u001b[1;31mNameError\u001b[0m                                 Traceback (most recent call last)",
      "\u001b[1;32m<ipython-input-145-3c356b409104>\u001b[0m in \u001b[0;36m<module>\u001b[1;34m()\u001b[0m\n\u001b[1;32m----> 1\u001b[1;33m \u001b[0mdf_combined\u001b[0m \u001b[1;33m=\u001b[0m \u001b[0mpd\u001b[0m\u001b[1;33m.\u001b[0m\u001b[0mDataFrame\u001b[0m\u001b[1;33m.\u001b[0m\u001b[0mmerge\u001b[0m\u001b[1;33m(\u001b[0m\u001b[0mdf_scoring\u001b[0m\u001b[1;33m,\u001b[0m \u001b[0mdf_assists\u001b[0m\u001b[1;33m)\u001b[0m\u001b[1;33m\u001b[0m\u001b[0m\n\u001b[0m\u001b[0;32m      2\u001b[0m \u001b[0mdf_combined\u001b[0m\u001b[1;33m.\u001b[0m\u001b[0mhead\u001b[0m\u001b[1;33m(\u001b[0m\u001b[1;33m)\u001b[0m\u001b[1;33m\u001b[0m\u001b[0m\n",
      "\u001b[1;31mNameError\u001b[0m: name 'df_scoring' is not defined"
     ]
    }
   ],
   "source": [
    "#combine scoring and assists data sets into common data frame\n",
    "df_combined = pd.DataFrame.merge(df_scoring, df_assists)\n",
    "df_combined.head()"
   ]
  }
 ],
 "metadata": {
  "kernelspec": {
   "display_name": "Python 2",
   "language": "python",
   "name": "python2"
  },
  "language_info": {
   "codemirror_mode": {
    "name": "ipython",
    "version": 2
   },
   "file_extension": ".py",
   "mimetype": "text/x-python",
   "name": "python",
   "nbconvert_exporter": "python",
   "pygments_lexer": "ipython2",
   "version": "2.7.10"
  }
 },
 "nbformat": 4,
 "nbformat_minor": 0
}
