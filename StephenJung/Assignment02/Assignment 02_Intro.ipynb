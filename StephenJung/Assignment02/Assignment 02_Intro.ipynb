{
 "cells": [
  {
   "cell_type": "code",
   "execution_count": 24,
   "metadata": {
    "collapsed": true
   },
   "outputs": [],
   "source": [
    "# Import relevant python modules\n",
    "import pandas as pd\n",
    "import numpy as np\n",
    "import seaborn as sns\n",
    "import matplotlib.pyplot as plt\n",
    "\n",
    "# inline matlab plots\n",
    "%matplotlib inline\n"
   ]
  },
  {
   "cell_type": "code",
   "execution_count": 25,
   "metadata": {
    "collapsed": true
   },
   "outputs": [],
   "source": [
    "# import soup and Requests\n",
    "from bs4 import BeautifulSoup\n",
    "import requests"
   ]
  },
  {
   "cell_type": "code",
   "execution_count": 26,
   "metadata": {
    "collapsed": true
   },
   "outputs": [],
   "source": [
    "# http get espn stats page\n",
    "page = requests.get('http://espn.go.com/nba/statistics/player/_/stat/scoring-per-game/sort/avgPoints/qualified/false')"
   ]
  },
  {
   "cell_type": "code",
   "execution_count": 27,
   "metadata": {
    "collapsed": false
   },
   "outputs": [
    {
     "name": "stdout",
     "output_type": "stream",
     "text": [
      "<class 'bs4.BeautifulSoup'>\n"
     ]
    }
   ],
   "source": [
    "# use urllib2 to get webpage and input into beautiful soup\n",
    "import urllib2\n",
    "page=urllib2.urlopen('http://espn.go.com/nba/statistics/player/_/stat/scoring-per-game/sort/avgPoints/qualified/false').read()\n",
    "soup = BeautifulSoup(page)\n",
    "print type(soup)"
   ]
  },
  {
   "cell_type": "code",
   "execution_count": 28,
   "metadata": {
    "collapsed": false
   },
   "outputs": [
    {
     "data": {
      "text/plain": [
       "u'<!DOCTYPE html>\\n<html xmlns:fb=\"http://www.facebook.com/2008/fbml\">\\n <head>\\n  <script src=\"http://sports-ak.espn.go.com/sports/optimizely.js\">\\n  </script>\\n  <meta charset=\"utf-8\"/>\\n  <meta content=\"IE=edge,chrome=1\" http-equiv=\"X-UA-Compatible\"/>\\n  <link href=\"http://a.espncdn.com/prod/assets/icons/E.svg\" mask=\"\" rel=\"icon\" sizes=\"any\"/>\\n  <meta content=\"#CC0000\" name=\"theme-color\"/>\\n  <script type=\"text/javascript\">\\n   if(true && navigator && navigator.userAgent.toLowerCase().indexOf(\"teamstream\") >= 0) {\\n        window.location = \\'http://a.m.espn.go.com/mobilecache/general/apps/sc\\';\\n    }\\n  </script>\\n  <title>\\n   2015-16 Regular Season NBA Player Stats and League Leaders - Scoring Per Game - National Basketball Association - ESPN\\n  </title>\\n  <meta content=\"xuj1ODRluWa0frM-BjIr_aSHoUC7HB5C1MgmYAM_GkA\" name=\"google-site-verification\"/>\\n  <meta content=\"B1FEB7C682C46C8FCDA3130F3D18AC28\" name=\"msvalidate.01\"/>\\n  <meta content=\"noodp\" name=\"googlebot\"/>\\n  <meta content=\"index, follow\" na'"
      ]
     },
     "execution_count": 28,
     "metadata": {},
     "output_type": "execute_result"
    }
   ],
   "source": [
    "soup.prettify()[0:1000]"
   ]
  },
  {
   "cell_type": "code",
   "execution_count": 29,
   "metadata": {
    "collapsed": false
   },
   "outputs": [
    {
     "name": "stdout",
     "output_type": "stream",
     "text": [
      "<div class=\"col-main\" id=\"my-players-table\">\n",
      " <div class=\"mod-container mod-table\">\n",
      "  <div class=\"mod-header stathead\">\n",
      "   <h4>\n",
      "    Points Per Game Leaders - All Players\n",
      "   </h4>\n",
      "  </div>\n",
      "  <div class=\"mod-content\">\n",
      "   <table cellpadding=\"3\" cellspacing=\"1\" class=\"tablehead\">\n",
      "    <tr align=\"right\" class=\"colhead\">\n",
      "     <td align=\"left\" style=\"width:20px;\">\n",
      "      RK\n",
      "     </td>\n",
      "     <td align=\"left\">\n",
      "      PLAYER\n",
      "     </td>\n",
      "     <td align=\"left\">\n",
      "      TEAM\n",
      "     </td>\n",
      "     <td>\n",
      "      <a href=\"http://espn.go.com/nba/statistics/player/_/stat/scoring-per-game/sort/gamesPlayed/qualified/false\" title=\"Games Played\">\n",
      "       GP\n",
      "      </a>\n",
      "     </td>\n",
      "     <td>\n",
      "      <a href=\"http://espn.go.com/nba/statistics/player/_/stat/scoring-per-game/sort/avgMinutes/qualified/false\" title=\"Minutes Per Game\">\n",
      "       MPG\n",
      "      </a>\n",
      "     </td>\n",
      "     <td>\n",
      "      <a href=\"http://espn.go.com/nba/statistics/player/_/stat/scoring-per-game/sort/avgPoints/qualified/false/order/false\" title=\"Points Per Game\">\n",
      "       PTS\n",
      "      </a>\n",
      "     </td>\n",
      "     <td>\n",
      "      <span title=\"Field Goals Made-Attempted Per Game\">\n",
      "       FGM-FGA\n",
      "      </span>\n",
      "     </td>\n",
      "     <td>\n",
      "      <a href=\"http://espn.go.com/nba/statistics/player/_/stat/scoring-per-game/sort/fieldGoalPct/qualified/false\" title=\"Field Goal Percentage\">\n",
      "       FG%\n",
      "      </a>\n",
      "     </td>\n",
      "     <td>\n",
      "      <span title=\"3-Point Field Goals Made-Attempted Per Game\">\n",
      "       3PM-3PA\n",
      "      </span>\n",
      "     </td>\n",
      "     <td>\n",
      "      <a href=\"http://espn.go.com/nba/statistics/player/_/stat/scoring-per-game/sort/threePointFieldGoalPct/qualified/false\" title=\"3-Point Field Goal Percentage\">\n",
      "       3P%\n",
      "      </a>\n",
      "     </td>\n",
      "     <td>\n",
      "      <span title=\"Free Throws Made-Attempted Per Game\">\n",
      "       FTM-FTA\n",
      "      </span>\n",
      "     </td>\n",
      "     <td>\n",
      "      <a href=\"http://espn.go.com/nba/statistics/player/_/stat/scoring-per-game/sort/freeThrowPct/qualified/false\" title=\"Free Throws Percentage\">\n",
      "       FT%\n",
      "      </a>\n",
      "     </td>\n",
      "    </tr>\n",
      "    <tr align=\"right\" class=\"oddrow player-46-3975\">\n",
      "     <td align=\"left\">\n",
      "      1\n",
      "     </td>\n",
      "     <td align=\"left\">\n",
      "      <a href=\"http://espn.go.com/nba/player/_/id/3975/stephen-curry\">\n",
      "       Stephen Curry\n",
      "      </a>\n",
      "      , PG\n",
      "     </td>\n",
      "     <td align=\"left\">\n",
      "      GS\n",
      "     </td>\n",
      "     <td>\n",
      "      7\n",
      "     </td>\n",
      "     <td>\n",
      "      33.3\n",
      "     </td>\n",
      "     <td class=\"sortcell\">\n",
      "      33.9\n",
      "     </td>\n",
      "     <td>\n",
      "      11.1-20.1\n",
      "     </td>\n",
      "     <td>\n",
      "      .553\n",
      "     </td>\n",
      "     <td>\n",
      "      5.4-11.4\n",
      "     </td>\n",
      "     <td>\n",
      "      .475\n",
      "     </td>\n",
      "     <td>\n",
      "      6.1-6.7\n",
      "     </td>\n",
      "     <td>\n",
      "      .915\n",
      "     </td>\n",
      "    </tr>\n",
      "    <tr align=\"right\" class=\"evenrow player-46-3202\">\n",
      "     <td align=\"left\">\n",
      "      2\n",
      "     </td>\n",
      "     <td align=\"left\">\n",
      "      <a href=\"http://espn.go.com/nba/player/_/id/3202/kevin-durant\">\n",
      "       Kevin Durant\n",
      "      </a>\n",
      "      , SF\n",
      "     </td>\n",
      "     <td align=\"left\">\n",
      "      OKC\n",
      "     </td>\n",
      "     <td>\n",
      "      7\n",
      "     </td>\n",
      "     <td>\n",
      "      37.3\n",
      "     </td>\n",
      "     <td class=\"sortcell\">\n",
      "      30.1\n",
      "     </td>\n",
      "     <td>\n",
      "      10.4-20.7\n",
      "     </td>\n",
      "     <td>\n",
      "      .503\n",
      "     </td>\n",
      "     <td>\n",
      "      2.7-6.4\n",
      "     </td>\n",
      "     <td>\n",
      "      .422\n",
      "     </td>\n",
      "     <td>\n",
      "      6.6-7.4\n",
      "     </td>\n",
      "     <td>\n",
      "      .885\n",
      "     </td>\n",
      "    </tr>\n",
      "    <tr align=\"right\" class=\"oddrow player-46-3992\">\n",
      "     <td align=\"left\">\n",
      "      3\n",
      "     </td>\n",
      "     <td align=\"left\">\n",
      "      <a href=\"http://espn.go.com/nba/player/_/id/3992/james-harden\">\n",
      "       James Harden\n",
      "      </a>\n",
      "      , SG\n",
      "     </td>\n",
      "     <td align=\"left\">\n",
      "      HOU\n",
      "     </td>\n",
      "     <td>\n",
      "      7\n",
      "     </td>\n",
      "     <td>\n",
      "      39.4\n",
      "     </td>\n",
      "     <td class=\"sortcell\">\n",
      "      29.7\n",
      "     </td>\n",
      "     <td>\n",
      "      8.1-21.6\n",
      "     </td>\n",
      "     <td>\n",
      "      .377\n",
      "     </td>\n",
      "     <td>\n",
      "      2.6-10.7\n",
      "     </td>\n",
      "     <td>\n",
      "      .240\n",
      "     </td>\n",
      "     <td>\n",
      "      10.9-12.7\n",
      "     </td>\n",
      "     <td>\n",
      "      .854\n",
      "     </td>\n",
      "    </tr>\n",
      "    <tr align=\"right\" class=\"evenrow player-46-3989\">\n",
      "     <td align=\"left\">\n",
      "      4\n",
      "     </td>\n",
      "     <td align=\"left\">\n",
      "      <a href=\"http://espn.go.com/nba/player/_/id/3989/blake-griffin\">\n",
      "       Blake Griffin\n",
      "      </a>\n",
      " \n"
     ]
    }
   ],
   "source": [
    "table_div = soup.find(id='my-players-table')\n",
    "print table_div.prettify()[0:4000]"
   ]
  },
  {
   "cell_type": "code",
   "execution_count": 30,
   "metadata": {
    "collapsed": false
   },
   "outputs": [
    {
     "name": "stdout",
     "output_type": "stream",
     "text": [
      "<table cellpadding=\"3\" cellspacing=\"1\" class=\"tablehead\">\n",
      "<tr align=\"right\" class=\"colhead\"><td align=\"left\" style=\"width:20px;\">RK</td><td align=\"left\">PLAYER</td><td align=\"left\">TEAM</td><td><a href=\"http://espn.go.com/nba/statistics/player/_/stat/scoring-per-game/sort/gamesPlayed/qualified/false\" title=\"Games Played\">GP</a></td><td><a href=\"http://espn.go.com/nba/statistics/player/_/stat/scoring-per-game/sort/avgMinutes/qualified/false\" title=\"Minutes Per Game\">MPG</a></td><td><a href=\"http://espn.go.com/nba/statistics/player/_/stat/scoring-per-game/sort/avgPoints/qualified/false/order/false\" title=\"Points Per Game\">PTS</a></td><td><span title=\"Field Goals Made-Attempted Per Game\">FGM-FGA</span></td><td><a href=\"http://espn.go.com/nba/statistics/player/_/stat/scoring-per-game/sort/fieldGoalPct/qualified/false\" title=\"Field Goal Percentage\">FG%</a></td><td><span title=\"3-Point Field Goals Made-Attempted Per Game\">3PM-3PA</span></td><td><a href=\"http://espn.go.com/nba/statistics/player/_/stat/scoring-per-game/sort/threePointFieldGoalPct/qualified/false\" title=\"3-Point Field Goal Percentage\">3P%</a></td><td><span title=\"Free Throws Made-Attempted Per Game\">FTM-FTA</span></td><td><a href=\"http://espn.go.com/nba/statistics/player/_/stat/scoring-per-game/sort/freeThrowPct/qualified/false\" title=\"Free Throws Percentage\">FT%</a></td></tr><tr align=\"right\" class=\"oddrow player-46-3975\"><td align=\"left\">1</td><td align=\"left\"><a href=\"http://espn.go.com/nba/player/_/id/3975/stephen-curry\">Stephen Curry</a>, PG</td><td align=\"left\">GS</td><td>7</td><td>33.3</td><td class=\"sortcell\">33.9</td><td>11.1-20.1</td><td>.553</td><td>5.4-11.4</td><td>.475</td><td>6.1-6.7</td><td>.915</td></tr><tr align=\"right\" class=\"evenrow player-46-3202\"><td align=\"left\">2</td><td align=\"left\"><a href=\"http://espn.go.com/nba/player/_/id/3202/kevin-durant\">Kevin Durant</a>, SF</td><td align=\"left\">OKC</td><td>7</td><td>37.3</td><td class=\"sortcell\">30.1</td><td>10.4-20.7</td><td>.503</td><td>2.7-6.4</td><td>.422</td><td>6.6-7.4</td><td>.885</td></tr><tr align=\"right\" class=\"oddrow player-46-3992\"><td align=\"left\">3</td><td align=\"left\"><a href=\"http://espn.go.com/nba/player/_/id/3992/james-harden\">James Harden</a>, SG</td><td align=\"left\">HOU</td><td>7</td><td>39.4</td><td class=\"sortcell\">29.7</td><td>8.1-21.6</td><td>.377</td><td>2.6-10.7</td><td>.240</td><td>10.9-12.7</td><td>.854</td></tr><tr align=\"right\" class=\"evenrow player-46-3989\"><td align=\"left\">4</td><td align=\"left\"><a href=\"http://espn.go.com/nba/player/_/id/3989/blake-griffin\">Blake Griffin</a>, PF</td><td align=\"left\">LAC</td><td>6</td><td>35.2</td><td class=\"sortcell\">29.3</td><td>11.7-19.5</td><td>.598</td><td>0.0-0.5</td><td>.000</td><td>6.0-7.7</td><td>.783</td></tr><tr align=\"right\" class=\"oddrow player-46-6606\"><td align=\"left\">5</td><td align=\"left\"><a href=\"http://espn.go.com/nba/player/_/id/6606/damian-lillard\">Damian Lillard</a>, PG</td><td align=\"left\">POR</td><td>7</td><td>36.4</td><td class=\"sortcell\">27.1</td><td>9.7-20.4</td><td>.476</td><td>3.9-9.0</td><td>.429</td><td>3.9-4.4</td><td>.871</td></tr><tr align=\"right\" class=\"evenrow player-46-3468\"><td align=\"left\">6</td><td align=\"left\"><a href=\"http://espn.go.com/nba/player/_/id/3468/russell-westbrook\">Russell Westbrook</a>, PG</td><td align=\"left\">OKC</td><td>7</td><td>35.7</td><td class=\"sortcell\">26.3</td><td>10.0-21.0</td><td>.476</td><td>1.6-5.0</td><td>.314</td><td>4.7-5.6</td><td>.846</td></tr><tr align=\"right\" class=\"oddrow player-46-6583\"><td align=\"left\">7</td><td align=\"left\"><a href=\"http://espn.go.com/nba/player/_/id/6583/anthony-davis\">Anthony Davis</a>, PF</td><td align=\"left\">NO</td><td>6</td><td>38.2</td><td class=\"sortcell\">25.2</td><td>8.3-18.0</td><td>.463</td><td>0.8-2.3</td><td>.357</td><td>7.7-10.2</td><td>.754</td></tr><tr align=\"right\" class=\"evenrow player-46-1966\"><td align=\"left\">8</td><td align=\"left\"><a href=\"http://espn.go.com/nba/player/_/id/1966/lebron-james\">LeBron James</a>, SF</td><td align=\"left\">CLE</td><td>7</td><td>34.4</td><td class=\"sortcell\">24.4</td><td>9.9-20.1</td><td>.489</td><td>0.7-3.7</td><td>.192</td><td>4.0-6.7</td><td>.596</td></tr><tr align=\"right\" class=\"oddrow player-46-6443\"><td align=\"left\">9</td><td align=\"left\"><a href=\"http://espn.go.com/nba/player/_/id/6443/reggie-jackson\">Reggie Jackson</a>, PG</td><td align=\"left\">DET</td><td>6</td><td>33.2</td><td class=\"sortcell\">23.2</td><td>8.5-18.7</td><td>.455</td><td>1.7-3.7</td><td>.455</td><td>4.5-5.7</td><td>.794</td></tr><tr align=\"right\" class=\"evenrow player-46-4251\"><td align=\"left\">10</td><td align=\"left\"><a href=\"http://espn.go.com/nba/player/_/id/4251/paul-george\">Paul George</a>, SF</td><td align=\"left\">IND</td><td>7</td><td>35.7</td><td class=\"sortcell\">23.0</td><td>7.6-18.0</td><td>.421</td><td>2.0-6.1</td><td>.326</td><td>5.9-6.9</td><td>.854</td></tr><tr align=\"right\" class=\"colhead\"><td align=\"left\" style=\"width:20px;\">RK</td><td align=\"left\">PLAYER</td><td align=\"left\">TEAM</td><td><a href=\"http://espn.go.com/nba/statistics/player/_/stat/scoring-per-game/sort/gamesPlayed/qualified/false\" title=\"Games Played\">GP</a></td><td><a href=\"http://espn.go.com/nba/statistics/player/_/stat/scoring-per-game/sort/avgMinutes/qualified/false\" title=\"Minutes Per Game\">MPG</a></td><td><a href=\"http://espn.go.com/nba/statistics/player/_/stat/scoring-per-game/sort/avgPoints/qualified/false/order/false\" title=\"Points Per Game\">PTS</a></td><td><span title=\"Field Goals Made-Attempted Per Game\">FGM-FGA</span></td><td><a href=\"http://espn.go.com/nba/statistics/player/_/stat/scoring-per-game/sort/fieldGoalPct/qualified/false\" title=\"Field Goal Percentage\">FG%</a></td><td><span title=\"3-Point Field Goals Made-Attempted Per Game\">3PM-3PA</span></td><td><a href=\"http://espn.go.com/nba/statistics/player/_/stat/scoring-per-game/sort/threePointFieldGoalPct/qualified/false\" title=\"3-Point Field Goal Percentage\">3P%</a></td><td><span title=\"Free Throws Made-Attempted Per Game\">FTM-FTA</span></td><td><a href=\"http://espn.go.com/nba/statistics/player/_/stat/scoring-per-game/sort/freeThrowPct/qualified/false\" title=\"Free Throws Percentage\">FT%</a></td></tr><tr align=\"right\" class=\"oddrow player-46-6580\"><td align=\"left\">11</td><td align=\"left\"><a href=\"http://espn.go.com/nba/player/_/id/6580/bradley-beal\">Bradley Beal</a>, SG</td><td align=\"left\">WSH</td><td>6</td><td>34.7</td><td class=\"sortcell\">22.7</td><td>8.7-17.8</td><td>.486</td><td>2.7-5.7</td><td>.471</td><td>2.7-3.3</td><td>.800</td></tr><tr align=\"right\" class=\"evenrow player-46-6472\"><td align=\"left\">12</td><td align=\"left\"><a href=\"http://espn.go.com/nba/player/_/id/6472/isaiah-thomas\">Isaiah Thomas</a>, PG</td><td align=\"left\">BOS</td><td>5</td><td>29.2</td><td class=\"sortcell\">22.0</td><td>7.0-17.4</td><td>.402</td><td>1.6-5.0</td><td>.320</td><td>6.4-7.0</td><td>.914</td></tr><tr align=\"right\" class=\"oddrow player-46-4258\"><td align=\"left\"> </td><td align=\"left\"><a href=\"http://espn.go.com/nba/player/_/id/4258/demarcus-cousins\">DeMarcus Cousins</a>, PF</td><td align=\"left\">SAC</td><td>3</td><td>26.0</td><td class=\"sortcell\">22.0</td><td>7.0-16.7</td><td>.420</td><td>1.3-3.3</td><td>.400</td><td>6.7-9.0</td><td>.741</td></tr><tr align=\"right\" class=\"evenrow player-46-4238\"><td align=\"left\">14</td><td align=\"left\"><a href=\"http://espn.go.com/nba/player/_/id/4238/eric-bledsoe\">Eric Bledsoe</a>, PG</td><td align=\"left\">PHX</td><td>7</td><td>34.4</td><td class=\"sortcell\">21.9</td><td>7.9-17.4</td><td>.451</td><td>1.3-3.7</td><td>.346</td><td>4.9-6.3</td><td>.773</td></tr><tr align=\"right\" class=\"oddrow player-46-6450\"><td align=\"left\">15</td><td align=\"left\"><a href=\"http://espn.go.com/nba/player/_/id/6450/kawhi-leonard\">Kawhi Leonard</a>, SF</td><td align=\"left\">SA</td><td>6</td><td>33.3</td><td class=\"sortcell\">21.8</td><td>9.2-18.3</td><td>.500</td><td>1.0-3.3</td><td>.300</td><td>2.5-2.7</td><td>.938</td></tr><tr align=\"right\" class=\"evenrow player-46-2490149\"><td align=\"left\">16</td><td align=\"left\"><a href=\"http://espn.go.com/nba/player/_/id/2490149/c.j.-mccollum\">C.J. McCollum</a>, SG</td><td align=\"left\">POR</td><td>7</td><td>34.3</td><td class=\"sortcell\">21.6</td><td>8.4-17.9</td><td>.472</td><td>2.6-6.1</td><td>.419</td><td>2.1-2.6</td><td>.833</td></tr><tr align=\"right\" class=\"oddrow player-46-1975\"><td align=\"left\">17</td><td align=\"left\"><a href=\"http://espn.go.com/nba/player/_/id/1975/carmelo-anthony\">Carmelo Anthony</a>, SF</td><td align=\"left\">NY</td><td>7</td><td>34.0</td><td class=\"sortcell\">21.4</td><td>7.0-18.9</td><td>.371</td><td>1.6-4.9</td><td>.324</td><td>5.9-6.4</td><td>.911</td></tr><tr align=\"right\" class=\"evenrow player-46-3978\"><td align=\"left\"> </td><td align=\"left\"><a href=\"http://espn.go.com/nba/player/_/id/3978/demar-derozan\">DeMar DeRozan</a>, SG</td><td align=\"left\">TOR</td><td>7</td><td>36.0</td><td class=\"sortcell\">21.4</td><td>6.3-15.0</td><td>.419</td><td>0.3-1.6</td><td>.182</td><td>8.6-10.4</td><td>.822</td></tr><tr align=\"right\" class=\"oddrow player-46-3448\"><td align=\"left\">19</td><td align=\"left\"><a href=\"http://espn.go.com/nba/player/_/id/3448/brook-lopez\">Brook Lopez</a>, C</td><td align=\"left\">BKN</td><td>7</td><td>33.1</td><td class=\"sortcell\">20.4</td><td>7.7-14.4</td><td>.535</td><td>0.0-0.3</td><td>.000</td><td>5.0-6.0</td><td>.833</td></tr><tr align=\"right\" class=\"evenrow player-46-6585\"><td align=\"left\">20</td><td align=\"left\"><a href=\"http://espn.go.com/nba/player/_/id/6585/andre-drummond\">Andre Drummond</a>, C</td><td align=\"left\">DET</td><td>6</td><td>38.0</td><td class=\"sortcell\">20.3</td><td>8.3-15.2</td><td>.549</td><td>0.0-0.0</td><td>.000</td><td>3.7-8.7</td><td>.423</td></tr><tr align=\"right\" class=\"colhead\"><td align=\"left\" style=\"width:20px;\">RK</td><td align=\"left\">PLAYER</td><td align=\"left\">TEAM</td><td><a href=\"http://espn.go.com/nba/statistics/player/_/stat/scoring-per-game/sort/gamesPlayed/qualified/false\" title=\"Games Played\">GP</a></td><td><a href=\"http://espn.go.com/nba/statistics/player/_/stat/scoring-per-game/sort/avgMinutes/qualified/false\" title=\"Minutes Per Game\">MPG</a></td><td><a href=\"http://espn.go.com/nba/statistics/player/_/stat/scoring-per-game/sort/avgPoints/qualified/false/order/false\" title=\"Points Per Game\">PTS</a></td><td><span title=\"Field Goals Made-Attempted Per Game\">FGM-FGA</span></td><td><a href=\"http://espn.go.com/nba/statistics/player/_/stat/scoring-per-game/sort/fieldGoalPct/qualified/false\" title=\"Field Goal Percentage\">FG%</a></td><td><span title=\"3-Point Field Goals Made-Attempted Per Game\">3PM-3PA</span></td><td><a href=\"http://espn.go.com/nba/statistics/player/_/stat/scoring-per-game/sort/threePointFieldGoalPct/qualified/false\" title=\"3-Point Field Goal Percentage\">3P%</a></td><td><span title=\"Free Throws Made-Attempted Per Game\">FTM-FTA</span></td><td><a href=\"http://espn.go.com/nba/statistics/player/_/stat/scoring-per-game/sort/freeThrowPct/qualified/false\" title=\"Free Throws Percentage\">FT%</a></td></tr><tr align=\"right\" class=\"oddrow player-46-6430\"><td align=\"left\">21</td><td align=\"left\"><a href=\"http://espn.go.com/nba/player/_/id/6430/jimmy-butler\">Jimmy Butler</a>, SG</td><td align=\"left\">CHI</td><td>7</td><td>36.7</td><td class=\"sortcell\">20.1</td><td>6.6-15.0</td><td>.438</td><td>1.7-4.0</td><td>.429</td><td>5.3-6.7</td><td>.787</td></tr><tr align=\"right\" class=\"evenrow player-46-3135048\"><td align=\"left\">22</td><td align=\"left\"><a href=\"http://espn.go.com/nba/player/_/id/3135048/jahlil-okafor\">Jahlil Okafor</a>, C</td><td align=\"left\">PHI</td><td>6</td><td>34.3</td><td class=\"sortcell\">19.7</td><td>8.2-15.5</td><td>.527</td><td>0.0-0.0</td><td>.000</td><td>3.3-4.8</td><td>.690</td></tr><tr align=\"right\" class=\"oddrow player-46-3032977\"><td align=\"left\">23</td><td align=\"left\"><a href=\"http://espn.go.com/nba/player/_/id/3032977/giannis-antetokounmpo\">Giannis Antetokounmpo</a>, SF</td><td align=\"left\">MIL</td><td>6</td><td>37.0</td><td class=\"sortcell\">19.3</td><td>7.2-12.5</td><td>.573</td><td>0.8-1.8</td><td>.455</td><td>4.2-4.8</td><td>.862</td></tr><tr align=\"right\" class=\"evenrow player-46-4237\"><td align=\"left\">24</td><td align=\"left\"><a href=\"http://espn.go.com/nba/player/_/id/4237/john-wall\">John Wall</a>, PG</td><td align=\"left\">WSH</td><td>6</td><td>34.8</td><td class=\"sortcell\">19.2</td><td>6.5-15.7</td><td>.415</td><td>1.3-4.7</td><td>.286</td><td>4.8-6.3</td><td>.763</td></tr><tr align=\"right\" class=\"oddrow player-46-1987\"><td align=\"left\">25</td><td align=\"left\"><a href=\"http://espn.go.com/nba/player/_/id/1987/dwyane-wade\">Dwyane Wade</a>, SG</td><td align=\"left\">MIA</td><td>7</td><td>29.3</td><td class=\"sortcell\">18.9</td><td>6.9-15.6</td><td>.440</td><td>0.9-2.1</td><td>.400</td><td>4.3-5.3</td><td>.811</td></tr><tr align=\"right\" class=\"evenrow player-46-2394\"><td align=\"left\">26</td><td align=\"left\"><a href=\"http://espn.go.com/nba/player/_/id/2394/kevin-martin\">Kevin Martin</a>, SG</td><td align=\"left\">MIN</td><td>4</td><td>28.0</td><td class=\"sortcell\">18.8</td><td>5.3-11.5</td><td>.457</td><td>0.8-3.3</td><td>.231</td><td>7.5-8.8</td><td>.857</td></tr><tr align=\"right\" class=\"oddrow player-46-6588\"><td align=\"left\">27</td><td align=\"left\"><a href=\"http://espn.go.com/nba/player/_/id/6588/evan-fournier\">Evan Fournier</a>, SF</td><td align=\"left\">ORL</td><td>7</td><td>37.6</td><td class=\"sortcell\">18.7</td><td>7.1-15.3</td><td>.467</td><td>2.1-5.7</td><td>.375</td><td>2.3-3.0</td><td>.762</td></tr><tr align=\"right\" class=\"evenrow player-46-3428\"><td align=\"left\"> </td><td align=\"left\"><a href=\"http://espn.go.com/nba/player/_/id/3428/danilo-gallinari\">Danilo Gallinari</a>, SF</td><td align=\"left\">DEN</td><td>6</td><td>33.7</td><td class=\"sortcell\">18.7</td><td>5.5-13.0</td><td>.423</td><td>1.2-3.2</td><td>.368</td><td>6.5-7.3</td><td>.886</td></tr><tr align=\"right\" class=\"oddrow player-46-3012\"><td align=\"left\">29</td><td align=\"left\"><a href=\"http://espn.go.com/nba/player/_/id/3012/kyle-lowry\">Kyle Lowry</a>, PG</td><td align=\"left\">TOR</td><td>7</td><td>34.6</td><td class=\"sortcell\">18.3</td><td>5.7-14.1</td><td>.404</td><td>2.1-5.4</td><td>.395</td><td>4.7-5.7</td><td>.825</td></tr><tr align=\"right\" class=\"evenrow player-46-4260\"><td align=\"left\">30</td><td align=\"left\"><a href=\"http://espn.go.com/nba/player/_/id/4260/greg-monroe\">Greg Monroe</a>, C</td><td align=\"left\">MIL</td><td>7</td><td>33.0</td><td class=\"sortcell\">18.1</td><td>7.1-13.4</td><td>.532</td><td>0.0-0.0</td><td>.000</td><td>3.9-4.7</td><td>.818</td></tr><tr align=\"right\" class=\"colhead\"><td align=\"left\" style=\"width:20px;\">RK</td><td align=\"left\">PLAYER</td><td align=\"left\">TEAM</td><td><a href=\"http://espn.go.com/nba/statistics/player/_/stat/scoring-per-game/sort/gamesPlayed/qualified/false\" title=\"Games Played\">GP</a></td><td><a href=\"http://espn.go.com/nba/statistics/player/_/stat/scoring-per-game/sort/avgMinutes/qualified/false\" title=\"Minutes Per Game\">MPG</a></td><td><a href=\"http://espn.go.com/nba/statistics/player/_/stat/scoring-per-game/sort/avgPoints/qualified/false/order/false\" title=\"Points Per Game\">PTS</a></td><td><span title=\"Field Goals Made-Attempted Per Game\">FGM-FGA</span></td><td><a href=\"http://espn.go.com/nba/statistics/player/_/stat/scoring-per-game/sort/fieldGoalPct/qualified/false\" title=\"Field Goal Percentage\">FG%</a></td><td><span title=\"3-Point Field Goals Made-Attempted Per Game\">3PM-3PA</span></td><td><a href=\"http://espn.go.com/nba/statistics/player/_/stat/scoring-per-game/sort/threePointFieldGoalPct/qualified/false\" title=\"3-Point Field Goal Percentage\">3P%</a></td><td><span title=\"Free Throws Made-Attempted Per Game\">FTM-FTA</span></td><td><a href=\"http://espn.go.com/nba/statistics/player/_/stat/scoring-per-game/sort/freeThrowPct/qualified/false\" title=\"Free Throws Percentage\">FT%</a></td></tr><tr align=\"right\" class=\"oddrow player-46-4015\"><td align=\"left\">31</td><td align=\"left\"><a href=\"http://espn.go.com/nba/player/_/id/4015/jeff-teague\">Jeff Teague</a>, PG</td><td align=\"left\">ATL</td><td>8</td><td>31.1</td><td class=\"sortcell\">18.0</td><td>6.0-14.5</td><td>.414</td><td>1.0-3.1</td><td>.320</td><td>5.0-5.9</td><td>.851</td></tr><tr align=\"right\" class=\"evenrow player-46-6448\"><td align=\"left\">32</td><td align=\"left\"><a href=\"http://espn.go.com/nba/player/_/id/6448/brandon-knight\">Brandon Knight</a>, PG</td><td align=\"left\">PHX</td><td>7</td><td>35.1</td><td class=\"sortcell\">17.9</td><td>6.9-16.4</td><td>.417</td><td>2.3-6.7</td><td>.340</td><td>1.9-2.1</td><td>.867</td></tr><tr align=\"right\" class=\"oddrow player-46-3431\"><td align=\"left\">33</td><td align=\"left\"><a href=\"http://espn.go.com/nba/player/_/id/3431/eric-gordon\">Eric Gordon</a>, SG</td><td align=\"left\">NO</td><td>6</td><td>36.2</td><td class=\"sortcell\">17.8</td><td>6.2-15.0</td><td>.411</td><td>3.0-7.8</td><td>.383</td><td>2.5-3.0</td><td>.833</td></tr><tr align=\"right\" class=\"evenrow player-46-3059319\"><td align=\"left\">34</td><td align=\"left\"><a href=\"http://espn.go.com/nba/player/_/id/3059319/andrew-wiggins\">Andrew Wiggins</a>, SG</td><td align=\"left\">MIN</td><td>5</td><td>31.2</td><td class=\"sortcell\">17.2</td><td>5.6-17.0</td><td>.329</td><td>1.0-2.8</td><td>.357</td><td>5.0-7.0</td><td>.714</td></tr><tr align=\"right\" class=\"oddrow player-46-6479\"><td align=\"left\"> </td><td align=\"left\"><a href=\"http://espn.go.com/nba/player/_/id/6479/kemba-walker\">Kemba Walker</a>, PG</td><td align=\"left\">CHA</td><td>6</td><td>31.0</td><td class=\"sortcell\">17.2</td><td>5.8-13.0</td><td>.449</td><td>1.3-3.5</td><td>.381</td><td>4.2-4.8</td><td>.862</td></tr><tr align=\"right\" class=\"evenrow player-46-3005\"><td align=\"left\">36</td><td align=\"left\"><a href=\"http://espn.go.com/nba/player/_/id/3005/rudy-gay\">Rudy Gay</a>, SF</td><td align=\"left\">SAC</td><td>7</td><td>30.9</td><td class=\"sortcell\">17.1</td><td>7.0-17.3</td><td>.405</td><td>1.1-3.1</td><td>.364</td><td>2.0-2.7</td><td>.737</td></tr><tr align=\"right\" class=\"oddrow player-46-3213\"><td align=\"left\">37</td><td align=\"left\"><a href=\"http://espn.go.com/nba/player/_/id/3213/al-horford\">Al Horford</a>, PF</td><td align=\"left\">ATL</td><td>8</td><td>31.6</td><td class=\"sortcell\">17.0</td><td>7.3-14.1</td><td>.513</td><td>0.8-3.1</td><td>.240</td><td>1.8-2.0</td><td>.875</td></tr><tr align=\"right\" class=\"evenrow player-46-3449\"><td align=\"left\"> </td><td align=\"left\"><a href=\"http://espn.go.com/nba/player/_/id/3449/kevin-love\">Kevin Love</a>, PF</td><td align=\"left\">CLE</td><td>7</td><td>33.0</td><td class=\"sortcell\">17.0</td><td>6.3-15.3</td><td>.411</td><td>2.0-6.7</td><td>.298</td><td>2.4-2.6</td><td>.944</td></tr><tr align=\"right\" class=\"oddrow player-46-609\"><td align=\"left\"> </td><td align=\"left\"><a href=\"http://espn.go.com/nba/player/_/id/609/dirk-nowitzki\">Dirk Nowitzki</a>, PF</td><td align=\"left\">DAL</td><td>6</td><td>28.0</td><td class=\"sortcell\">17.0</td><td>6.5-12.7</td><td>.513</td><td>1.7-3.3</td><td>.500</td><td>2.3-2.5</td><td>.933</td></tr><tr align=\"right\" class=\"evenrow player-46-6462\"><td align=\"left\"> </td><td align=\"left\"><a href=\"http://espn.go.com/nba/player/_/id/6462/marcus-morris\">Marcus Morris</a>, PF</td><td align=\"left\">DET</td><td>6</td><td>38.2</td><td class=\"sortcell\">17.0</td><td>6.0-14.5</td><td>.414</td><td>1.3-4.0</td><td>.333</td><td>3.7-5.0</td><td>.733</td></tr>\n",
      "</table>\n"
     ]
    }
   ],
   "source": [
    "table = table_div.find('table')\n",
    "print table"
   ]
  },
  {
   "cell_type": "code",
   "execution_count": 31,
   "metadata": {
    "collapsed": false
   },
   "outputs": [
    {
     "name": "stdout",
     "output_type": "stream",
     "text": [
      "<tr align=\"right\" class=\"colhead\">\n",
      " <td align=\"left\" style=\"width:20px;\">\n",
      "  RK\n",
      " </td>\n",
      " <td align=\"left\">\n",
      "  PLAYER\n",
      " </td>\n",
      " <td align=\"left\">\n",
      "  TEAM\n",
      " </td>\n",
      " <td>\n",
      "  <a href=\"http://espn.go.com/nba/statistics/player/_/stat/scoring-per-game/sort/gamesPlayed/qualified/false\" title=\"Games Played\">\n",
      "   GP\n",
      "  </a>\n",
      " </td>\n",
      " <td>\n",
      "  <a href=\"http://espn.go.com/nba/statistics/player/_/stat/scoring-per-game/sort/avgMinutes/qualified/false\" title=\"Minutes Per Game\">\n",
      "   MPG\n",
      "  </a>\n",
      " </td>\n",
      " <td>\n",
      "  <a href=\"http://espn.go.com/nba/statistics/player/_/stat/scoring-per-game/sort/avgPoints/qualified/false/order/false\" title=\"Points Per Game\">\n",
      "   PTS\n",
      "  </a>\n",
      " </td>\n",
      " <td>\n",
      "  <span title=\"Field Goals Made-Attempted Per Game\">\n",
      "   FGM-FGA\n",
      "  </span>\n",
      " </td>\n",
      " <td>\n",
      "  <a href=\"http://espn.go.com/nba/statistics/player/_/stat/scoring-per-game/sort/fieldGoalPct/qualified/false\" title=\"Field Goal Percentage\">\n",
      "   FG%\n",
      "  </a>\n",
      " </td>\n",
      " <td>\n",
      "  <span title=\"3-Point Field Goals Made-Attempted Per Game\">\n",
      "   3PM-3PA\n",
      "  </span>\n",
      " </td>\n",
      " <td>\n",
      "  <a href=\"http://espn.go.com/nba/statistics/player/_/stat/scoring-per-game/sort/threePointFieldGoalPct/qualified/false\" title=\"3-Point Field Goal Percentage\">\n",
      "   3P%\n",
      "  </a>\n",
      " </td>\n",
      " <td>\n",
      "  <span title=\"Free Throws Made-Attempted Per Game\">\n",
      "   FTM-FTA\n",
      "  </span>\n",
      " </td>\n",
      " <td>\n",
      "  <a href=\"http://espn.go.com/nba/statistics/player/_/stat/scoring-per-game/sort/freeThrowPct/qualified/false\" title=\"Free Throws Percentage\">\n",
      "   FT%\n",
      "  </a>\n",
      " </td>\n",
      "</tr>\n",
      "\n"
     ]
    }
   ],
   "source": [
    "# searching by attributes\n",
    "table_head = table.find(attrs={\"class\":\"colhead\"})\n",
    "print table_head.prettify()"
   ]
  },
  {
   "cell_type": "code",
   "execution_count": 33,
   "metadata": {
    "collapsed": false
   },
   "outputs": [
    {
     "name": "stdout",
     "output_type": "stream",
     "text": [
      "[<td align=\"left\" style=\"width:20px;\">RK</td>, <td align=\"left\">PLAYER</td>, <td align=\"left\">TEAM</td>, <td><a href=\"http://espn.go.com/nba/statistics/player/_/stat/scoring-per-game/sort/gamesPlayed/qualified/false\" title=\"Games Played\">GP</a></td>, <td><a href=\"http://espn.go.com/nba/statistics/player/_/stat/scoring-per-game/sort/avgMinutes/qualified/false\" title=\"Minutes Per Game\">MPG</a></td>, <td><a href=\"http://espn.go.com/nba/statistics/player/_/stat/scoring-per-game/sort/avgPoints/qualified/false/order/false\" title=\"Points Per Game\">PTS</a></td>, <td><span title=\"Field Goals Made-Attempted Per Game\">FGM-FGA</span></td>, <td><a href=\"http://espn.go.com/nba/statistics/player/_/stat/scoring-per-game/sort/fieldGoalPct/qualified/false\" title=\"Field Goal Percentage\">FG%</a></td>, <td><span title=\"3-Point Field Goals Made-Attempted Per Game\">3PM-3PA</span></td>, <td><a href=\"http://espn.go.com/nba/statistics/player/_/stat/scoring-per-game/sort/threePointFieldGoalPct/qualified/false\" title=\"3-Point Field Goal Percentage\">3P%</a></td>, <td><span title=\"Free Throws Made-Attempted Per Game\">FTM-FTA</span></td>, <td><a href=\"http://espn.go.com/nba/statistics/player/_/stat/scoring-per-game/sort/freeThrowPct/qualified/false\" title=\"Free Throws Percentage\">FT%</a></td>]\n"
     ]
    }
   ],
   "source": [
    "header_cols = table_head.findAll('td')\n",
    "print header_cols"
   ]
  },
  {
   "cell_type": "code",
   "execution_count": 34,
   "metadata": {
    "collapsed": false
   },
   "outputs": [
    {
     "name": "stdout",
     "output_type": "stream",
     "text": [
      "[u'PLAYER', 'POSITION', u'TEAM', u'GP', u'MPG', u'PTS', u'FGM-FGA', u'FG%', u'3PM-3PA', u'3P%', u'FTM-FTA', u'FT%']\n"
     ]
    }
   ],
   "source": [
    "cols = []\n",
    "for header_col in header_cols:\n",
    "    val = header_col.string\n",
    "    if val != 'RK':\n",
    "        cols.append(val)\n",
    "    if val == 'PLAYER':\n",
    "        cols.append('POSITION')\n",
    "print cols"
   ]
  },
  {
   "cell_type": "code",
   "execution_count": 36,
   "metadata": {
    "collapsed": false
   },
   "outputs": [
    {
     "name": "stdout",
     "output_type": "stream",
     "text": [
      "[<tr align=\"right\" class=\"colhead\"><td align=\"left\" style=\"width:20px;\">RK</td><td align=\"left\">PLAYER</td><td align=\"left\">TEAM</td><td><a href=\"http://espn.go.com/nba/statistics/player/_/stat/scoring-per-game/sort/gamesPlayed/qualified/false\" title=\"Games Played\">GP</a></td><td><a href=\"http://espn.go.com/nba/statistics/player/_/stat/scoring-per-game/sort/avgMinutes/qualified/false\" title=\"Minutes Per Game\">MPG</a></td><td><a href=\"http://espn.go.com/nba/statistics/player/_/stat/scoring-per-game/sort/avgPoints/qualified/false/order/false\" title=\"Points Per Game\">PTS</a></td><td><span title=\"Field Goals Made-Attempted Per Game\">FGM-FGA</span></td><td><a href=\"http://espn.go.com/nba/statistics/player/_/stat/scoring-per-game/sort/fieldGoalPct/qualified/false\" title=\"Field Goal Percentage\">FG%</a></td><td><span title=\"3-Point Field Goals Made-Attempted Per Game\">3PM-3PA</span></td><td><a href=\"http://espn.go.com/nba/statistics/player/_/stat/scoring-per-game/sort/threePointFieldGoalPct/qualified/false\" title=\"3-Point Field Goal Percentage\">3P%</a></td><td><span title=\"Free Throws Made-Attempted Per Game\">FTM-FTA</span></td><td><a href=\"http://espn.go.com/nba/statistics/player/_/stat/scoring-per-game/sort/freeThrowPct/qualified/false\" title=\"Free Throws Percentage\">FT%</a></td></tr>, <tr align=\"right\" class=\"oddrow player-46-3975\"><td align=\"left\">1</td><td align=\"left\"><a href=\"http://espn.go.com/nba/player/_/id/3975/stephen-curry\">Stephen Curry</a>, PG</td><td align=\"left\">GS</td><td>7</td><td>33.3</td><td class=\"sortcell\">33.9</td><td>11.1-20.1</td><td>.553</td><td>5.4-11.4</td><td>.475</td><td>6.1-6.7</td><td>.915</td></tr>, <tr align=\"right\" class=\"evenrow player-46-3202\"><td align=\"left\">2</td><td align=\"left\"><a href=\"http://espn.go.com/nba/player/_/id/3202/kevin-durant\">Kevin Durant</a>, SF</td><td align=\"left\">OKC</td><td>7</td><td>37.3</td><td class=\"sortcell\">30.1</td><td>10.4-20.7</td><td>.503</td><td>2.7-6.4</td><td>.422</td><td>6.6-7.4</td><td>.885</td></tr>, <tr align=\"right\" class=\"oddrow player-46-3992\"><td align=\"left\">3</td><td align=\"left\"><a href=\"http://espn.go.com/nba/player/_/id/3992/james-harden\">James Harden</a>, SG</td><td align=\"left\">HOU</td><td>7</td><td>39.4</td><td class=\"sortcell\">29.7</td><td>8.1-21.6</td><td>.377</td><td>2.6-10.7</td><td>.240</td><td>10.9-12.7</td><td>.854</td></tr>, <tr align=\"right\" class=\"evenrow player-46-3989\"><td align=\"left\">4</td><td align=\"left\"><a href=\"http://espn.go.com/nba/player/_/id/3989/blake-griffin\">Blake Griffin</a>, PF</td><td align=\"left\">LAC</td><td>6</td><td>35.2</td><td class=\"sortcell\">29.3</td><td>11.7-19.5</td><td>.598</td><td>0.0-0.5</td><td>.000</td><td>6.0-7.7</td><td>.783</td></tr>, <tr align=\"right\" class=\"oddrow player-46-6606\"><td align=\"left\">5</td><td align=\"left\"><a href=\"http://espn.go.com/nba/player/_/id/6606/damian-lillard\">Damian Lillard</a>, PG</td><td align=\"left\">POR</td><td>7</td><td>36.4</td><td class=\"sortcell\">27.1</td><td>9.7-20.4</td><td>.476</td><td>3.9-9.0</td><td>.429</td><td>3.9-4.4</td><td>.871</td></tr>, <tr align=\"right\" class=\"evenrow player-46-3468\"><td align=\"left\">6</td><td align=\"left\"><a href=\"http://espn.go.com/nba/player/_/id/3468/russell-westbrook\">Russell Westbrook</a>, PG</td><td align=\"left\">OKC</td><td>7</td><td>35.7</td><td class=\"sortcell\">26.3</td><td>10.0-21.0</td><td>.476</td><td>1.6-5.0</td><td>.314</td><td>4.7-5.6</td><td>.846</td></tr>, <tr align=\"right\" class=\"oddrow player-46-6583\"><td align=\"left\">7</td><td align=\"left\"><a href=\"http://espn.go.com/nba/player/_/id/6583/anthony-davis\">Anthony Davis</a>, PF</td><td align=\"left\">NO</td><td>6</td><td>38.2</td><td class=\"sortcell\">25.2</td><td>8.3-18.0</td><td>.463</td><td>0.8-2.3</td><td>.357</td><td>7.7-10.2</td><td>.754</td></tr>, <tr align=\"right\" class=\"evenrow player-46-1966\"><td align=\"left\">8</td><td align=\"left\"><a href=\"http://espn.go.com/nba/player/_/id/1966/lebron-james\">LeBron James</a>, SF</td><td align=\"left\">CLE</td><td>7</td><td>34.4</td><td class=\"sortcell\">24.4</td><td>9.9-20.1</td><td>.489</td><td>0.7-3.7</td><td>.192</td><td>4.0-6.7</td><td>.596</td></tr>, <tr align=\"right\" class=\"oddrow player-46-6443\"><td align=\"left\">9</td><td align=\"left\"><a href=\"http://espn.go.com/nba/player/_/id/6443/reggie-jackson\">Reggie Jackson</a>, PG</td><td align=\"left\">DET</td><td>6</td><td>33.2</td><td class=\"sortcell\">23.2</td><td>8.5-18.7</td><td>.455</td><td>1.7-3.7</td><td>.455</td><td>4.5-5.7</td><td>.794</td></tr>, <tr align=\"right\" class=\"evenrow player-46-4251\"><td align=\"left\">10</td><td align=\"left\"><a href=\"http://espn.go.com/nba/player/_/id/4251/paul-george\">Paul George</a>, SF</td><td align=\"left\">IND</td><td>7</td><td>35.7</td><td class=\"sortcell\">23.0</td><td>7.6-18.0</td><td>.421</td><td>2.0-6.1</td><td>.326</td><td>5.9-6.9</td><td>.854</td></tr>, <tr align=\"right\" class=\"colhead\"><td align=\"left\" style=\"width:20px;\">RK</td><td align=\"left\">PLAYER</td><td align=\"left\">TEAM</td><td><a href=\"http://espn.go.com/nba/statistics/player/_/stat/scoring-per-game/sort/gamesPlayed/qualified/false\" title=\"Games Played\">GP</a></td><td><a href=\"http://espn.go.com/nba/statistics/player/_/stat/scoring-per-game/sort/avgMinutes/qualified/false\" title=\"Minutes Per Game\">MPG</a></td><td><a href=\"http://espn.go.com/nba/statistics/player/_/stat/scoring-per-game/sort/avgPoints/qualified/false/order/false\" title=\"Points Per Game\">PTS</a></td><td><span title=\"Field Goals Made-Attempted Per Game\">FGM-FGA</span></td><td><a href=\"http://espn.go.com/nba/statistics/player/_/stat/scoring-per-game/sort/fieldGoalPct/qualified/false\" title=\"Field Goal Percentage\">FG%</a></td><td><span title=\"3-Point Field Goals Made-Attempted Per Game\">3PM-3PA</span></td><td><a href=\"http://espn.go.com/nba/statistics/player/_/stat/scoring-per-game/sort/threePointFieldGoalPct/qualified/false\" title=\"3-Point Field Goal Percentage\">3P%</a></td><td><span title=\"Free Throws Made-Attempted Per Game\">FTM-FTA</span></td><td><a href=\"http://espn.go.com/nba/statistics/player/_/stat/scoring-per-game/sort/freeThrowPct/qualified/false\" title=\"Free Throws Percentage\">FT%</a></td></tr>, <tr align=\"right\" class=\"oddrow player-46-6580\"><td align=\"left\">11</td><td align=\"left\"><a href=\"http://espn.go.com/nba/player/_/id/6580/bradley-beal\">Bradley Beal</a>, SG</td><td align=\"left\">WSH</td><td>6</td><td>34.7</td><td class=\"sortcell\">22.7</td><td>8.7-17.8</td><td>.486</td><td>2.7-5.7</td><td>.471</td><td>2.7-3.3</td><td>.800</td></tr>, <tr align=\"right\" class=\"evenrow player-46-6472\"><td align=\"left\">12</td><td align=\"left\"><a href=\"http://espn.go.com/nba/player/_/id/6472/isaiah-thomas\">Isaiah Thomas</a>, PG</td><td align=\"left\">BOS</td><td>5</td><td>29.2</td><td class=\"sortcell\">22.0</td><td>7.0-17.4</td><td>.402</td><td>1.6-5.0</td><td>.320</td><td>6.4-7.0</td><td>.914</td></tr>, <tr align=\"right\" class=\"oddrow player-46-4258\"><td align=\"left\"> </td><td align=\"left\"><a href=\"http://espn.go.com/nba/player/_/id/4258/demarcus-cousins\">DeMarcus Cousins</a>, PF</td><td align=\"left\">SAC</td><td>3</td><td>26.0</td><td class=\"sortcell\">22.0</td><td>7.0-16.7</td><td>.420</td><td>1.3-3.3</td><td>.400</td><td>6.7-9.0</td><td>.741</td></tr>, <tr align=\"right\" class=\"evenrow player-46-4238\"><td align=\"left\">14</td><td align=\"left\"><a href=\"http://espn.go.com/nba/player/_/id/4238/eric-bledsoe\">Eric Bledsoe</a>, PG</td><td align=\"left\">PHX</td><td>7</td><td>34.4</td><td class=\"sortcell\">21.9</td><td>7.9-17.4</td><td>.451</td><td>1.3-3.7</td><td>.346</td><td>4.9-6.3</td><td>.773</td></tr>, <tr align=\"right\" class=\"oddrow player-46-6450\"><td align=\"left\">15</td><td align=\"left\"><a href=\"http://espn.go.com/nba/player/_/id/6450/kawhi-leonard\">Kawhi Leonard</a>, SF</td><td align=\"left\">SA</td><td>6</td><td>33.3</td><td class=\"sortcell\">21.8</td><td>9.2-18.3</td><td>.500</td><td>1.0-3.3</td><td>.300</td><td>2.5-2.7</td><td>.938</td></tr>, <tr align=\"right\" class=\"evenrow player-46-2490149\"><td align=\"left\">16</td><td align=\"left\"><a href=\"http://espn.go.com/nba/player/_/id/2490149/c.j.-mccollum\">C.J. McCollum</a>, SG</td><td align=\"left\">POR</td><td>7</td><td>34.3</td><td class=\"sortcell\">21.6</td><td>8.4-17.9</td><td>.472</td><td>2.6-6.1</td><td>.419</td><td>2.1-2.6</td><td>.833</td></tr>, <tr align=\"right\" class=\"oddrow player-46-1975\"><td align=\"left\">17</td><td align=\"left\"><a href=\"http://espn.go.com/nba/player/_/id/1975/carmelo-anthony\">Carmelo Anthony</a>, SF</td><td align=\"left\">NY</td><td>7</td><td>34.0</td><td class=\"sortcell\">21.4</td><td>7.0-18.9</td><td>.371</td><td>1.6-4.9</td><td>.324</td><td>5.9-6.4</td><td>.911</td></tr>, <tr align=\"right\" class=\"evenrow player-46-3978\"><td align=\"left\"> </td><td align=\"left\"><a href=\"http://espn.go.com/nba/player/_/id/3978/demar-derozan\">DeMar DeRozan</a>, SG</td><td align=\"left\">TOR</td><td>7</td><td>36.0</td><td class=\"sortcell\">21.4</td><td>6.3-15.0</td><td>.419</td><td>0.3-1.6</td><td>.182</td><td>8.6-10.4</td><td>.822</td></tr>, <tr align=\"right\" class=\"oddrow player-46-3448\"><td align=\"left\">19</td><td align=\"left\"><a href=\"http://espn.go.com/nba/player/_/id/3448/brook-lopez\">Brook Lopez</a>, C</td><td align=\"left\">BKN</td><td>7</td><td>33.1</td><td class=\"sortcell\">20.4</td><td>7.7-14.4</td><td>.535</td><td>0.0-0.3</td><td>.000</td><td>5.0-6.0</td><td>.833</td></tr>, <tr align=\"right\" class=\"evenrow player-46-6585\"><td align=\"left\">20</td><td align=\"left\"><a href=\"http://espn.go.com/nba/player/_/id/6585/andre-drummond\">Andre Drummond</a>, C</td><td align=\"left\">DET</td><td>6</td><td>38.0</td><td class=\"sortcell\">20.3</td><td>8.3-15.2</td><td>.549</td><td>0.0-0.0</td><td>.000</td><td>3.7-8.7</td><td>.423</td></tr>, <tr align=\"right\" class=\"colhead\"><td align=\"left\" style=\"width:20px;\">RK</td><td align=\"left\">PLAYER</td><td align=\"left\">TEAM</td><td><a href=\"http://espn.go.com/nba/statistics/player/_/stat/scoring-per-game/sort/gamesPlayed/qualified/false\" title=\"Games Played\">GP</a></td><td><a href=\"http://espn.go.com/nba/statistics/player/_/stat/scoring-per-game/sort/avgMinutes/qualified/false\" title=\"Minutes Per Game\">MPG</a></td><td><a href=\"http://espn.go.com/nba/statistics/player/_/stat/scoring-per-game/sort/avgPoints/qualified/false/order/false\" title=\"Points Per Game\">PTS</a></td><td><span title=\"Field Goals Made-Attempted Per Game\">FGM-FGA</span></td><td><a href=\"http://espn.go.com/nba/statistics/player/_/stat/scoring-per-game/sort/fieldGoalPct/qualified/false\" title=\"Field Goal Percentage\">FG%</a></td><td><span title=\"3-Point Field Goals Made-Attempted Per Game\">3PM-3PA</span></td><td><a href=\"http://espn.go.com/nba/statistics/player/_/stat/scoring-per-game/sort/threePointFieldGoalPct/qualified/false\" title=\"3-Point Field Goal Percentage\">3P%</a></td><td><span title=\"Free Throws Made-Attempted Per Game\">FTM-FTA</span></td><td><a href=\"http://espn.go.com/nba/statistics/player/_/stat/scoring-per-game/sort/freeThrowPct/qualified/false\" title=\"Free Throws Percentage\">FT%</a></td></tr>, <tr align=\"right\" class=\"oddrow player-46-6430\"><td align=\"left\">21</td><td align=\"left\"><a href=\"http://espn.go.com/nba/player/_/id/6430/jimmy-butler\">Jimmy Butler</a>, SG</td><td align=\"left\">CHI</td><td>7</td><td>36.7</td><td class=\"sortcell\">20.1</td><td>6.6-15.0</td><td>.438</td><td>1.7-4.0</td><td>.429</td><td>5.3-6.7</td><td>.787</td></tr>, <tr align=\"right\" class=\"evenrow player-46-3135048\"><td align=\"left\">22</td><td align=\"left\"><a href=\"http://espn.go.com/nba/player/_/id/3135048/jahlil-okafor\">Jahlil Okafor</a>, C</td><td align=\"left\">PHI</td><td>6</td><td>34.3</td><td class=\"sortcell\">19.7</td><td>8.2-15.5</td><td>.527</td><td>0.0-0.0</td><td>.000</td><td>3.3-4.8</td><td>.690</td></tr>, <tr align=\"right\" class=\"oddrow player-46-3032977\"><td align=\"left\">23</td><td align=\"left\"><a href=\"http://espn.go.com/nba/player/_/id/3032977/giannis-antetokounmpo\">Giannis Antetokounmpo</a>, SF</td><td align=\"left\">MIL</td><td>6</td><td>37.0</td><td class=\"sortcell\">19.3</td><td>7.2-12.5</td><td>.573</td><td>0.8-1.8</td><td>.455</td><td>4.2-4.8</td><td>.862</td></tr>, <tr align=\"right\" class=\"evenrow player-46-4237\"><td align=\"left\">24</td><td align=\"left\"><a href=\"http://espn.go.com/nba/player/_/id/4237/john-wall\">John Wall</a>, PG</td><td align=\"left\">WSH</td><td>6</td><td>34.8</td><td class=\"sortcell\">19.2</td><td>6.5-15.7</td><td>.415</td><td>1.3-4.7</td><td>.286</td><td>4.8-6.3</td><td>.763</td></tr>, <tr align=\"right\" class=\"oddrow player-46-1987\"><td align=\"left\">25</td><td align=\"left\"><a href=\"http://espn.go.com/nba/player/_/id/1987/dwyane-wade\">Dwyane Wade</a>, SG</td><td align=\"left\">MIA</td><td>7</td><td>29.3</td><td class=\"sortcell\">18.9</td><td>6.9-15.6</td><td>.440</td><td>0.9-2.1</td><td>.400</td><td>4.3-5.3</td><td>.811</td></tr>, <tr align=\"right\" class=\"evenrow player-46-2394\"><td align=\"left\">26</td><td align=\"left\"><a href=\"http://espn.go.com/nba/player/_/id/2394/kevin-martin\">Kevin Martin</a>, SG</td><td align=\"left\">MIN</td><td>4</td><td>28.0</td><td class=\"sortcell\">18.8</td><td>5.3-11.5</td><td>.457</td><td>0.8-3.3</td><td>.231</td><td>7.5-8.8</td><td>.857</td></tr>, <tr align=\"right\" class=\"oddrow player-46-6588\"><td align=\"left\">27</td><td align=\"left\"><a href=\"http://espn.go.com/nba/player/_/id/6588/evan-fournier\">Evan Fournier</a>, SF</td><td align=\"left\">ORL</td><td>7</td><td>37.6</td><td class=\"sortcell\">18.7</td><td>7.1-15.3</td><td>.467</td><td>2.1-5.7</td><td>.375</td><td>2.3-3.0</td><td>.762</td></tr>, <tr align=\"right\" class=\"evenrow player-46-3428\"><td align=\"left\"> </td><td align=\"left\"><a href=\"http://espn.go.com/nba/player/_/id/3428/danilo-gallinari\">Danilo Gallinari</a>, SF</td><td align=\"left\">DEN</td><td>6</td><td>33.7</td><td class=\"sortcell\">18.7</td><td>5.5-13.0</td><td>.423</td><td>1.2-3.2</td><td>.368</td><td>6.5-7.3</td><td>.886</td></tr>, <tr align=\"right\" class=\"oddrow player-46-3012\"><td align=\"left\">29</td><td align=\"left\"><a href=\"http://espn.go.com/nba/player/_/id/3012/kyle-lowry\">Kyle Lowry</a>, PG</td><td align=\"left\">TOR</td><td>7</td><td>34.6</td><td class=\"sortcell\">18.3</td><td>5.7-14.1</td><td>.404</td><td>2.1-5.4</td><td>.395</td><td>4.7-5.7</td><td>.825</td></tr>, <tr align=\"right\" class=\"evenrow player-46-4260\"><td align=\"left\">30</td><td align=\"left\"><a href=\"http://espn.go.com/nba/player/_/id/4260/greg-monroe\">Greg Monroe</a>, C</td><td align=\"left\">MIL</td><td>7</td><td>33.0</td><td class=\"sortcell\">18.1</td><td>7.1-13.4</td><td>.532</td><td>0.0-0.0</td><td>.000</td><td>3.9-4.7</td><td>.818</td></tr>, <tr align=\"right\" class=\"colhead\"><td align=\"left\" style=\"width:20px;\">RK</td><td align=\"left\">PLAYER</td><td align=\"left\">TEAM</td><td><a href=\"http://espn.go.com/nba/statistics/player/_/stat/scoring-per-game/sort/gamesPlayed/qualified/false\" title=\"Games Played\">GP</a></td><td><a href=\"http://espn.go.com/nba/statistics/player/_/stat/scoring-per-game/sort/avgMinutes/qualified/false\" title=\"Minutes Per Game\">MPG</a></td><td><a href=\"http://espn.go.com/nba/statistics/player/_/stat/scoring-per-game/sort/avgPoints/qualified/false/order/false\" title=\"Points Per Game\">PTS</a></td><td><span title=\"Field Goals Made-Attempted Per Game\">FGM-FGA</span></td><td><a href=\"http://espn.go.com/nba/statistics/player/_/stat/scoring-per-game/sort/fieldGoalPct/qualified/false\" title=\"Field Goal Percentage\">FG%</a></td><td><span title=\"3-Point Field Goals Made-Attempted Per Game\">3PM-3PA</span></td><td><a href=\"http://espn.go.com/nba/statistics/player/_/stat/scoring-per-game/sort/threePointFieldGoalPct/qualified/false\" title=\"3-Point Field Goal Percentage\">3P%</a></td><td><span title=\"Free Throws Made-Attempted Per Game\">FTM-FTA</span></td><td><a href=\"http://espn.go.com/nba/statistics/player/_/stat/scoring-per-game/sort/freeThrowPct/qualified/false\" title=\"Free Throws Percentage\">FT%</a></td></tr>, <tr align=\"right\" class=\"oddrow player-46-4015\"><td align=\"left\">31</td><td align=\"left\"><a href=\"http://espn.go.com/nba/player/_/id/4015/jeff-teague\">Jeff Teague</a>, PG</td><td align=\"left\">ATL</td><td>8</td><td>31.1</td><td class=\"sortcell\">18.0</td><td>6.0-14.5</td><td>.414</td><td>1.0-3.1</td><td>.320</td><td>5.0-5.9</td><td>.851</td></tr>, <tr align=\"right\" class=\"evenrow player-46-6448\"><td align=\"left\">32</td><td align=\"left\"><a href=\"http://espn.go.com/nba/player/_/id/6448/brandon-knight\">Brandon Knight</a>, PG</td><td align=\"left\">PHX</td><td>7</td><td>35.1</td><td class=\"sortcell\">17.9</td><td>6.9-16.4</td><td>.417</td><td>2.3-6.7</td><td>.340</td><td>1.9-2.1</td><td>.867</td></tr>, <tr align=\"right\" class=\"oddrow player-46-3431\"><td align=\"left\">33</td><td align=\"left\"><a href=\"http://espn.go.com/nba/player/_/id/3431/eric-gordon\">Eric Gordon</a>, SG</td><td align=\"left\">NO</td><td>6</td><td>36.2</td><td class=\"sortcell\">17.8</td><td>6.2-15.0</td><td>.411</td><td>3.0-7.8</td><td>.383</td><td>2.5-3.0</td><td>.833</td></tr>, <tr align=\"right\" class=\"evenrow player-46-3059319\"><td align=\"left\">34</td><td align=\"left\"><a href=\"http://espn.go.com/nba/player/_/id/3059319/andrew-wiggins\">Andrew Wiggins</a>, SG</td><td align=\"left\">MIN</td><td>5</td><td>31.2</td><td class=\"sortcell\">17.2</td><td>5.6-17.0</td><td>.329</td><td>1.0-2.8</td><td>.357</td><td>5.0-7.0</td><td>.714</td></tr>, <tr align=\"right\" class=\"oddrow player-46-6479\"><td align=\"left\"> </td><td align=\"left\"><a href=\"http://espn.go.com/nba/player/_/id/6479/kemba-walker\">Kemba Walker</a>, PG</td><td align=\"left\">CHA</td><td>6</td><td>31.0</td><td class=\"sortcell\">17.2</td><td>5.8-13.0</td><td>.449</td><td>1.3-3.5</td><td>.381</td><td>4.2-4.8</td><td>.862</td></tr>, <tr align=\"right\" class=\"evenrow player-46-3005\"><td align=\"left\">36</td><td align=\"left\"><a href=\"http://espn.go.com/nba/player/_/id/3005/rudy-gay\">Rudy Gay</a>, SF</td><td align=\"left\">SAC</td><td>7</td><td>30.9</td><td class=\"sortcell\">17.1</td><td>7.0-17.3</td><td>.405</td><td>1.1-3.1</td><td>.364</td><td>2.0-2.7</td><td>.737</td></tr>, <tr align=\"right\" class=\"oddrow player-46-3213\"><td align=\"left\">37</td><td align=\"left\"><a href=\"http://espn.go.com/nba/player/_/id/3213/al-horford\">Al Horford</a>, PF</td><td align=\"left\">ATL</td><td>8</td><td>31.6</td><td class=\"sortcell\">17.0</td><td>7.3-14.1</td><td>.513</td><td>0.8-3.1</td><td>.240</td><td>1.8-2.0</td><td>.875</td></tr>, <tr align=\"right\" class=\"evenrow player-46-3449\"><td align=\"left\"> </td><td align=\"left\"><a href=\"http://espn.go.com/nba/player/_/id/3449/kevin-love\">Kevin Love</a>, PF</td><td align=\"left\">CLE</td><td>7</td><td>33.0</td><td class=\"sortcell\">17.0</td><td>6.3-15.3</td><td>.411</td><td>2.0-6.7</td><td>.298</td><td>2.4-2.6</td><td>.944</td></tr>, <tr align=\"right\" class=\"oddrow player-46-609\"><td align=\"left\"> </td><td align=\"left\"><a href=\"http://espn.go.com/nba/player/_/id/609/dirk-nowitzki\">Dirk Nowitzki</a>, PF</td><td align=\"left\">DAL</td><td>6</td><td>28.0</td><td class=\"sortcell\">17.0</td><td>6.5-12.7</td><td>.513</td><td>1.7-3.3</td><td>.500</td><td>2.3-2.5</td><td>.933</td></tr>, <tr align=\"right\" class=\"evenrow player-46-6462\"><td align=\"left\"> </td><td align=\"left\"><a href=\"http://espn.go.com/nba/player/_/id/6462/marcus-morris\">Marcus Morris</a>, PF</td><td align=\"left\">DET</td><td>6</td><td>38.2</td><td class=\"sortcell\">17.0</td><td>6.0-14.5</td><td>.414</td><td>1.3-4.0</td><td>.333</td><td>3.7-5.0</td><td>.733</td></tr>]\n"
     ]
    }
   ],
   "source": [
    "# example of stepping through a table (indicated by 'tr')\n",
    "table_rows = table.findAll('tr')\n",
    "print table_rows"
   ]
  },
  {
   "cell_type": "code",
   "execution_count": 38,
   "metadata": {
    "collapsed": false
   },
   "outputs": [
    {
     "name": "stdout",
     "output_type": "stream",
     "text": [
      "[{u'FGM-FGA': u'11.1-20.1', u'MPG': u'33.3', u'FTM-FTA': u'6.1-6.7', u'FG%': u'.553', u'GP': u'7', u'PLAYER': u'Stephen Curry', u'FT%': u'.915', u'TEAM': u'GS', u'3PM-3PA': u'5.4-11.4', 'POSITION': u'PG', u'PTS': u'33.9', u'3P%': u'.475'}, {u'FGM-FGA': u'10.4-20.7', u'MPG': u'37.3', u'FTM-FTA': u'6.6-7.4', u'FG%': u'.503', u'GP': u'7', u'PLAYER': u'Kevin Durant', u'FT%': u'.885', u'TEAM': u'OKC', u'3PM-3PA': u'2.7-6.4', 'POSITION': u'SF', u'PTS': u'30.1', u'3P%': u'.422'}, {u'FGM-FGA': u'8.1-21.6', u'MPG': u'39.4', u'FTM-FTA': u'10.9-12.7', u'FG%': u'.377', u'GP': u'7', u'PLAYER': u'James Harden', u'FT%': u'.854', u'TEAM': u'HOU', u'3PM-3PA': u'2.6-10.7', 'POSITION': u'SG', u'PTS': u'29.7', u'3P%': u'.240'}, {u'FGM-FGA': u'11.7-19.5', u'MPG': u'35.2', u'FTM-FTA': u'6.0-7.7', u'FG%': u'.598', u'GP': u'6', u'PLAYER': u'Blake Griffin', u'FT%': u'.783', u'TEAM': u'LAC', u'3PM-3PA': u'0.0-0.5', 'POSITION': u'PF', u'PTS': u'29.3', u'3P%': u'.000'}, {u'FGM-FGA': u'9.7-20.4', u'MPG': u'36.4', u'FTM-FTA': u'3.9-4.4', u'FG%': u'.476', u'GP': u'7', u'PLAYER': u'Damian Lillard', u'FT%': u'.871', u'TEAM': u'POR', u'3PM-3PA': u'3.9-9.0', 'POSITION': u'PG', u'PTS': u'27.1', u'3P%': u'.429'}]\n"
     ]
    }
   ],
   "source": [
    "players_stats_dicts = []\n",
    "players_stats_array = []\n",
    "for row in table_rows:\n",
    "    if row.attrs['class'][0] == 'colhead':\n",
    "        continue # skip colhead?\n",
    "    player_stats = []\n",
    "    row_cols = row.find_all('td')\n",
    "    col_vals = []\n",
    "    player_col = row_cols[1]\n",
    "    player_name = player_col.find('a').string\n",
    "    player_position = player_col.contents[1]\n",
    "    player_position = player_position.split(' ')[1]\n",
    "    player_stats.append(player_name)\n",
    "    player_stats.append(player_position)\n",
    "    for i in range(2, len(row_cols)):\n",
    "        stat = row_cols[i].string\n",
    "        player_stats.append(stat)\n",
    "    players_stats_array.append(player_stats)\n",
    "    player_stats = dict(zip(cols, player_stats))\n",
    "    players_stats_dicts.append(player_stats)\n",
    "print players_stats_dicts[0:5]"
   ]
  },
  {
   "cell_type": "code",
   "execution_count": 39,
   "metadata": {
    "collapsed": false
   },
   "outputs": [
    {
     "data": {
      "text/html": [
       "<div>\n",
       "<table border=\"1\" class=\"dataframe\">\n",
       "  <thead>\n",
       "    <tr style=\"text-align: right;\">\n",
       "      <th></th>\n",
       "      <th>3P%</th>\n",
       "      <th>3PM-3PA</th>\n",
       "      <th>FG%</th>\n",
       "      <th>FGM-FGA</th>\n",
       "      <th>FT%</th>\n",
       "      <th>FTM-FTA</th>\n",
       "      <th>GP</th>\n",
       "      <th>MPG</th>\n",
       "      <th>PLAYER</th>\n",
       "      <th>POSITION</th>\n",
       "      <th>PTS</th>\n",
       "      <th>TEAM</th>\n",
       "    </tr>\n",
       "  </thead>\n",
       "  <tbody>\n",
       "    <tr>\n",
       "      <th>0</th>\n",
       "      <td>.475</td>\n",
       "      <td>5.4-11.4</td>\n",
       "      <td>.553</td>\n",
       "      <td>11.1-20.1</td>\n",
       "      <td>.915</td>\n",
       "      <td>6.1-6.7</td>\n",
       "      <td>7</td>\n",
       "      <td>33.3</td>\n",
       "      <td>Stephen Curry</td>\n",
       "      <td>PG</td>\n",
       "      <td>33.9</td>\n",
       "      <td>GS</td>\n",
       "    </tr>\n",
       "    <tr>\n",
       "      <th>1</th>\n",
       "      <td>.422</td>\n",
       "      <td>2.7-6.4</td>\n",
       "      <td>.503</td>\n",
       "      <td>10.4-20.7</td>\n",
       "      <td>.885</td>\n",
       "      <td>6.6-7.4</td>\n",
       "      <td>7</td>\n",
       "      <td>37.3</td>\n",
       "      <td>Kevin Durant</td>\n",
       "      <td>SF</td>\n",
       "      <td>30.1</td>\n",
       "      <td>OKC</td>\n",
       "    </tr>\n",
       "    <tr>\n",
       "      <th>2</th>\n",
       "      <td>.240</td>\n",
       "      <td>2.6-10.7</td>\n",
       "      <td>.377</td>\n",
       "      <td>8.1-21.6</td>\n",
       "      <td>.854</td>\n",
       "      <td>10.9-12.7</td>\n",
       "      <td>7</td>\n",
       "      <td>39.4</td>\n",
       "      <td>James Harden</td>\n",
       "      <td>SG</td>\n",
       "      <td>29.7</td>\n",
       "      <td>HOU</td>\n",
       "    </tr>\n",
       "    <tr>\n",
       "      <th>3</th>\n",
       "      <td>.000</td>\n",
       "      <td>0.0-0.5</td>\n",
       "      <td>.598</td>\n",
       "      <td>11.7-19.5</td>\n",
       "      <td>.783</td>\n",
       "      <td>6.0-7.7</td>\n",
       "      <td>6</td>\n",
       "      <td>35.2</td>\n",
       "      <td>Blake Griffin</td>\n",
       "      <td>PF</td>\n",
       "      <td>29.3</td>\n",
       "      <td>LAC</td>\n",
       "    </tr>\n",
       "    <tr>\n",
       "      <th>4</th>\n",
       "      <td>.429</td>\n",
       "      <td>3.9-9.0</td>\n",
       "      <td>.476</td>\n",
       "      <td>9.7-20.4</td>\n",
       "      <td>.871</td>\n",
       "      <td>3.9-4.4</td>\n",
       "      <td>7</td>\n",
       "      <td>36.4</td>\n",
       "      <td>Damian Lillard</td>\n",
       "      <td>PG</td>\n",
       "      <td>27.1</td>\n",
       "      <td>POR</td>\n",
       "    </tr>\n",
       "  </tbody>\n",
       "</table>\n",
       "</div>"
      ],
      "text/plain": [
       "    3P%   3PM-3PA   FG%    FGM-FGA   FT%    FTM-FTA GP   MPG          PLAYER  \\\n",
       "0  .475  5.4-11.4  .553  11.1-20.1  .915    6.1-6.7  7  33.3   Stephen Curry   \n",
       "1  .422   2.7-6.4  .503  10.4-20.7  .885    6.6-7.4  7  37.3    Kevin Durant   \n",
       "2  .240  2.6-10.7  .377   8.1-21.6  .854  10.9-12.7  7  39.4    James Harden   \n",
       "3  .000   0.0-0.5  .598  11.7-19.5  .783    6.0-7.7  6  35.2   Blake Griffin   \n",
       "4  .429   3.9-9.0  .476   9.7-20.4  .871    3.9-4.4  7  36.4  Damian Lillard   \n",
       "\n",
       "  POSITION   PTS TEAM  \n",
       "0       PG  33.9   GS  \n",
       "1       SF  30.1  OKC  \n",
       "2       SG  29.7  HOU  \n",
       "3       PF  29.3  LAC  \n",
       "4       PG  27.1  POR  "
      ]
     },
     "execution_count": 39,
     "metadata": {},
     "output_type": "execute_result"
    }
   ],
   "source": [
    "# Assuming pandas import in block 1\n",
    "df = pd.DataFrame.from_dict(players_stats_dicts)\n",
    "df.head()"
   ]
  },
  {
   "cell_type": "code",
   "execution_count": 41,
   "metadata": {
    "collapsed": false
   },
   "outputs": [
    {
     "data": {
      "text/html": [
       "<div>\n",
       "<table border=\"1\" class=\"dataframe\">\n",
       "  <thead>\n",
       "    <tr style=\"text-align: right;\">\n",
       "      <th></th>\n",
       "      <th>PLAYER</th>\n",
       "      <th>POSITION</th>\n",
       "      <th>TEAM</th>\n",
       "      <th>GP</th>\n",
       "      <th>MPG</th>\n",
       "      <th>PTS</th>\n",
       "      <th>FGM-FGA</th>\n",
       "      <th>FG%</th>\n",
       "      <th>3PM-3PA</th>\n",
       "      <th>3P%</th>\n",
       "      <th>FTM-FTA</th>\n",
       "      <th>FT%</th>\n",
       "    </tr>\n",
       "  </thead>\n",
       "  <tbody>\n",
       "    <tr>\n",
       "      <th>0</th>\n",
       "      <td>Stephen Curry</td>\n",
       "      <td>PG</td>\n",
       "      <td>GS</td>\n",
       "      <td>7</td>\n",
       "      <td>33.3</td>\n",
       "      <td>33.9</td>\n",
       "      <td>11.1-20.1</td>\n",
       "      <td>.553</td>\n",
       "      <td>5.4-11.4</td>\n",
       "      <td>.475</td>\n",
       "      <td>6.1-6.7</td>\n",
       "      <td>.915</td>\n",
       "    </tr>\n",
       "    <tr>\n",
       "      <th>1</th>\n",
       "      <td>Kevin Durant</td>\n",
       "      <td>SF</td>\n",
       "      <td>OKC</td>\n",
       "      <td>7</td>\n",
       "      <td>37.3</td>\n",
       "      <td>30.1</td>\n",
       "      <td>10.4-20.7</td>\n",
       "      <td>.503</td>\n",
       "      <td>2.7-6.4</td>\n",
       "      <td>.422</td>\n",
       "      <td>6.6-7.4</td>\n",
       "      <td>.885</td>\n",
       "    </tr>\n",
       "    <tr>\n",
       "      <th>2</th>\n",
       "      <td>James Harden</td>\n",
       "      <td>SG</td>\n",
       "      <td>HOU</td>\n",
       "      <td>7</td>\n",
       "      <td>39.4</td>\n",
       "      <td>29.7</td>\n",
       "      <td>8.1-21.6</td>\n",
       "      <td>.377</td>\n",
       "      <td>2.6-10.7</td>\n",
       "      <td>.240</td>\n",
       "      <td>10.9-12.7</td>\n",
       "      <td>.854</td>\n",
       "    </tr>\n",
       "    <tr>\n",
       "      <th>3</th>\n",
       "      <td>Blake Griffin</td>\n",
       "      <td>PF</td>\n",
       "      <td>LAC</td>\n",
       "      <td>6</td>\n",
       "      <td>35.2</td>\n",
       "      <td>29.3</td>\n",
       "      <td>11.7-19.5</td>\n",
       "      <td>.598</td>\n",
       "      <td>0.0-0.5</td>\n",
       "      <td>.000</td>\n",
       "      <td>6.0-7.7</td>\n",
       "      <td>.783</td>\n",
       "    </tr>\n",
       "    <tr>\n",
       "      <th>4</th>\n",
       "      <td>Damian Lillard</td>\n",
       "      <td>PG</td>\n",
       "      <td>POR</td>\n",
       "      <td>7</td>\n",
       "      <td>36.4</td>\n",
       "      <td>27.1</td>\n",
       "      <td>9.7-20.4</td>\n",
       "      <td>.476</td>\n",
       "      <td>3.9-9.0</td>\n",
       "      <td>.429</td>\n",
       "      <td>3.9-4.4</td>\n",
       "      <td>.871</td>\n",
       "    </tr>\n",
       "  </tbody>\n",
       "</table>\n",
       "</div>"
      ],
      "text/plain": [
       "           PLAYER POSITION TEAM GP   MPG   PTS    FGM-FGA   FG%   3PM-3PA  \\\n",
       "0   Stephen Curry       PG   GS  7  33.3  33.9  11.1-20.1  .553  5.4-11.4   \n",
       "1    Kevin Durant       SF  OKC  7  37.3  30.1  10.4-20.7  .503   2.7-6.4   \n",
       "2    James Harden       SG  HOU  7  39.4  29.7   8.1-21.6  .377  2.6-10.7   \n",
       "3   Blake Griffin       PF  LAC  6  35.2  29.3  11.7-19.5  .598   0.0-0.5   \n",
       "4  Damian Lillard       PG  POR  7  36.4  27.1   9.7-20.4  .476   3.9-9.0   \n",
       "\n",
       "    3P%    FTM-FTA   FT%  \n",
       "0  .475    6.1-6.7  .915  \n",
       "1  .422    6.6-7.4  .885  \n",
       "2  .240  10.9-12.7  .854  \n",
       "3  .000    6.0-7.7  .783  \n",
       "4  .429    3.9-4.4  .871  "
      ]
     },
     "execution_count": 41,
     "metadata": {},
     "output_type": "execute_result"
    }
   ],
   "source": [
    "np_array = np.array(players_stats_array)\n",
    "df = pd.DataFrame(np_array, columns=cols)\n",
    "df.head()"
   ]
  },
  {
   "cell_type": "code",
   "execution_count": null,
   "metadata": {
    "collapsed": true
   },
   "outputs": [],
   "source": [
    "# Exercise"
   ]
  }
 ],
 "metadata": {
  "kernelspec": {
   "display_name": "Python 2",
   "language": "python",
   "name": "python2"
  },
  "language_info": {
   "codemirror_mode": {
    "name": "ipython",
    "version": 2
   },
   "file_extension": ".py",
   "mimetype": "text/x-python",
   "name": "python",
   "nbconvert_exporter": "python",
   "pygments_lexer": "ipython2",
   "version": "2.7.10"
  }
 },
 "nbformat": 4,
 "nbformat_minor": 0
}
