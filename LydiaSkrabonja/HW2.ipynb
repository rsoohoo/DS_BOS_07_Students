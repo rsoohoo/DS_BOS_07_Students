{
 "cells": [
  {
   "cell_type": "markdown",
   "metadata": {},
   "source": [
    "# Web Scraping with Beautiful Soup\n",
    "\n",
    "This tutorial will provide a very basic introduction to using the Beautiful Soup package to scrape text data from the web. \n",
    "\n",
    "## Installation\n",
    "\n",
    "In a terminal, install Beautiful Soup if necessary by running <pre><code>conda install beautiful-soup</code></pre>\n",
    "\n",
    "## Retrieving HTML\n",
    "\n",
    "The general idea behind web scraping is to retrieve data that exists on a website, and convert it into a format that is usable for analysis. Webpages are rendered by the brower from HTML and CSS code, but much of the information included in the HTML underlying any website is not interesting to us.\n",
    "\n",
    "We begin by reading in the source code for a given web page and creating a Beautiful Soup object with the BeautifulSoup function.\n",
    "\n",
    "### urllib2\n",
    "urllib2 is a module for working with urls, we will use it to open connections to urls and retrieve the webpage source."
   ]
  },
  {
   "cell_type": "code",
   "execution_count": 46,
   "metadata": {
    "collapsed": false
   },
   "outputs": [
    {
     "name": "stdout",
     "output_type": "stream",
     "text": [
      "<class 'bs4.BeautifulSoup'>\n"
     ]
    }
   ],
   "source": [
    "from bs4 import BeautifulSoup\n",
    "import urllib2\n",
    "page = urllib2.urlopen('http://espn.go.com/nba/statistics/player/_/stat/scoring-per-game/sort/avgPoints/qualified/false').read()\n",
    "soup = BeautifulSoup(page)\n",
    "print type(soup)"
   ]
  },
  {
   "cell_type": "markdown",
   "metadata": {},
   "source": [
    "The soup object contains all of the HTML in the original document."
   ]
  },
  {
   "cell_type": "code",
   "execution_count": 47,
   "metadata": {
    "collapsed": false
   },
   "outputs": [
    {
     "name": "stdout",
     "output_type": "stream",
     "text": [
      "<!DOCTYPE html>\n",
      "<html xmlns:fb=\"http://www.facebook.com/2008/fbml\">\n",
      " <head>\n",
      "  <script src=\"http://sports-ak.espn.go.com/sports/optimizely.js\">\n",
      "  </script>\n",
      "  <meta charset=\"utf-8\"/>\n",
      "  <meta content=\"IE=edge,chrome=1\" http-equiv=\"X-UA-Compatible\"/>\n",
      "  <link href=\"http://a.espncdn.com/prod/assets/icons/E.svg\" mask=\"\" rel=\"icon\" sizes=\"any\"/>\n",
      "  <meta content=\"#CC0000\" name=\"theme-color\"/>\n",
      "  <script type=\"text/javascript\">\n",
      "   if(true && navigator && navigator.userAgent.toLowerCase().indexOf(\"teamstream\") >= 0) {\n",
      "        window.location = 'http://a.m.espn.go.com/mobilecache/general/apps/sc';\n",
      "    }\n",
      "  </script>\n",
      "  <title>\n",
      "   2015-16 Regular Season NBA Player Stats and League Leaders - Scoring Per Game - National Basketball Association - ESPN\n",
      "  </title>\n",
      "  <meta content=\"xuj1ODRluWa0frM-BjIr_aSHoUC7HB5C1MgmYAM_GkA\" name=\"google-site-verification\"/>\n",
      "  <meta content=\"B1FEB7C682C46C8FCDA3130F3D18AC28\" name=\"msvalidate.01\"/>\n",
      "  <meta content=\"noodp\" name=\"googlebot\"/>\n",
      "  <meta content=\"index, follow\" na\n"
     ]
    }
   ],
   "source": [
    "print soup.prettify()[0:1000]"
   ]
  },
  {
   "cell_type": "markdown",
   "metadata": {},
   "source": [
    "## Parsing HTML\n",
    "\n",
    "By \"parsing HTML\", we mean pulling out only the relevant tags/attributes for our analysis.  What Beautiful Soup does is provide a handy bunch of methods for doing this efficiently.\n",
    "\n",
    "### find method\n",
    "\n",
    "The find method will search for and return the first tag matching your corresponding search criteria, if it exists.  You can specify tag and attribute info etc.  There is also a findAll method that will return a collection of tags matching your query."
   ]
  },
  {
   "cell_type": "code",
   "execution_count": 48,
   "metadata": {
    "collapsed": false
   },
   "outputs": [
    {
     "name": "stdout",
     "output_type": "stream",
     "text": [
      "<div class=\"col-main\" id=\"my-players-table\">\n",
      " <div class=\"mod-container mod-table\">\n",
      "  <div class=\"mod-header stathead\">\n",
      "   <h4>\n",
      "    Points Per Game Leaders - All Players\n",
      "   </h4>\n",
      "  </div>\n",
      "  <div class=\"mod-content\">\n",
      "   <table cellpadding=\"3\" cellspacing=\"1\" class=\"tablehead\">\n",
      "    <tr align=\"right\" class=\"colhead\">\n",
      "     <td align=\"left\" style=\"width:20px;\">\n",
      "      RK\n",
      "     </td>\n",
      "     <td align=\"left\">\n",
      "      PLAYER\n",
      "     </td>\n",
      "     <td align=\"left\">\n",
      "      TEAM\n",
      "     </td>\n",
      "     <td>\n",
      "      <a href=\"http://espn.go.com/nba/statistics/player/_/stat/scoring-per-game/sort/gamesPlayed/qualified/false\" title=\"Games Played\">\n",
      "       GP\n",
      "      </a>\n",
      "     </td>\n",
      "     <td>\n",
      "      <a href=\"http://espn.go.com/nba/statistics/player/_/stat/scoring-per-game/sort/avgMinutes/qualified/false\" title=\"Minutes Per Game\">\n",
      "       MPG\n",
      "      </a>\n",
      "     </td>\n",
      "     <td>\n",
      "      <a href=\"http://espn.go.com/nba/statistics/player/_/stat/scoring-per-game/sort/avgPoints/qualified/false/order/false\" title=\"Points Per Game\">\n",
      "       PTS\n",
      "      </a>\n",
      "     </td>\n",
      "     <td>\n",
      "      <span title=\"Field Goals Made-Attempted Per Game\">\n",
      "       FGM-FGA\n",
      "      </span>\n",
      "     </td>\n",
      "     <td>\n",
      "      <a href=\"http://espn.go.com/nba/statistics/player/_/stat/scoring-per-game/sort/fieldGoalPct/qualified/false\" title=\"Field Goal Percentage\">\n",
      "       FG%\n",
      "      </a>\n",
      "     </td>\n",
      "     <td>\n",
      "      <span title=\"3-Point Field Goals Made-Attempted Per Game\">\n",
      "       3PM-3PA\n",
      "      </span>\n",
      "     </td>\n",
      "     <td>\n",
      "      <a href=\"http://espn.go.com/nba/statistics/player/_/stat/scoring-per-game/sort/threePointFieldGoalPct/qualified/false\" title=\"3-Point Field Goal Percentage\">\n",
      "       3P%\n",
      "      </a>\n",
      "     </td>\n",
      "     <td>\n",
      "      <span title=\"Free Throws Made-Attempted Per Game\">\n",
      "       FTM-FTA\n",
      "      </span>\n",
      "     </td>\n",
      "     <td>\n",
      "      <a href=\"http://espn.go.com/nba/statistics/player/_/stat/scoring-per-game/sort/freeThrowPct/qualified/false\" title=\"Free Throws Percentage\">\n",
      "       FT%\n",
      "      </a>\n",
      "     </td>\n",
      "    </tr>\n",
      "    <tr align=\"right\" class=\"oddrow player-46-3975\">\n",
      "     <td align=\"left\">\n",
      "      1\n",
      "     </td>\n",
      "     <td align=\"left\">\n",
      "      <a href=\"http://espn.go.com/nba/player/_/id/3975/stephen-curry\">\n",
      "       Stephen Curry\n",
      "      </a>\n",
      "      , PG\n",
      "     </td>\n",
      "     <td align=\"left\">\n",
      "      GS\n",
      "     </td>\n",
      "     <td>\n",
      "      8\n",
      "     </td>\n",
      "     <td>\n",
      "      33.8\n",
      "     </td>\n",
      "     <td class=\"sortcell\">\n",
      "      32.4\n",
      "     </td>\n",
      "     <td>\n",
      "      10.6-19.9\n",
      "     </td>\n",
      "     <td>\n",
      "      .535\n",
      "     </td>\n",
      "     <td>\n",
      "      5.1-10.9\n",
      "     </td>\n",
      "     <td>\n",
      "      .471\n",
      "     </td>\n",
      "     <td>\n",
      "      6.0-6.6\n",
      "     </td>\n",
      "     <td>\n",
      "      .906\n",
      "     </td>\n",
      "    </tr>\n",
      "    <tr align=\"right\" class=\"evenrow player-46-3202\">\n",
      "     <td align=\"left\">\n",
      "      2\n",
      "     </td>\n",
      "     <td align=\"left\">\n",
      "      <a href=\"http://espn.go.com/nba/player/_/id/3202/kevin-durant\">\n",
      "       Kevin Durant\n",
      "      </a>\n",
      "      , SF\n",
      "     </td>\n",
      "     <td align=\"left\">\n",
      "      OKC\n",
      "     </td>\n",
      "     <td>\n",
      "      7\n",
      "     </td>\n",
      "     <td>\n",
      "      37.3\n",
      "     </td>\n",
      "     <td class=\"sortcell\">\n",
      "      30.1\n",
      "     </td>\n",
      "     <td>\n",
      "      10.4-20.7\n",
      "     </td>\n",
      "     <td>\n",
      "      .503\n",
      "     </td>\n",
      "     <td>\n",
      "      2.7-6.4\n",
      "     </td>\n",
      "     <td>\n",
      "      .422\n",
      "     </td>\n",
      "     <td>\n",
      "      6.6-7.4\n",
      "     </td>\n",
      "     <td>\n",
      "      .885\n",
      "     </td>\n",
      "    </tr>\n",
      "    <tr align=\"right\" class=\"oddrow player-46-3992\">\n",
      "     <td align=\"left\">\n",
      "      3\n",
      "     </td>\n",
      "     <td align=\"left\">\n",
      "      <a href=\"http://espn.go.com/nba/player/_/id/3992/james-harden\">\n",
      "       James Harden\n",
      "      </a>\n",
      "      , SG\n",
      "     </td>\n",
      "     <td align=\"left\">\n",
      "      HOU\n",
      "     </td>\n",
      "     <td>\n",
      "      7\n",
      "     </td>\n",
      "     <td>\n",
      "      39.4\n",
      "     </td>\n",
      "     <td class=\"sortcell\">\n",
      "      29.7\n",
      "     </td>\n",
      "     <td>\n",
      "      8.1-21.6\n",
      "     </td>\n",
      "     <td>\n",
      "      .377\n",
      "     </td>\n",
      "     <td>\n",
      "      2.6-10.7\n",
      "     </td>\n",
      "     <td>\n",
      "      .240\n",
      "     </td>\n",
      "     <td>\n",
      "      10.9-12.7\n",
      "     </td>\n",
      "     <td>\n",
      "      .854\n",
      "     </td>\n",
      "    </tr>\n",
      "    <tr align=\"right\" class=\"evenrow player-46-3989\">\n",
      "     <td align=\"left\">\n",
      "      4\n",
      "     </td>\n",
      "     <td align=\"left\">\n",
      "      <a href=\"http://espn.go.com/nba/player/_/id/3989/blake-griffin\">\n",
      "       Blake Griffin\n",
      "      </a>\n",
      " \n"
     ]
    }
   ],
   "source": [
    "table_div = soup.find(id='my-players-table')\n",
    "print table_div.prettify()[0:4000]"
   ]
  },
  {
   "cell_type": "markdown",
   "metadata": {},
   "source": [
    "Notice that the object returned by the find method is just another inner HTML structure, which we can step through just like we would have with the original soup object.  We've gone to the location in the webpage where the table that we seek starts, now we can use find again to get to the table data."
   ]
  },
  {
   "cell_type": "code",
   "execution_count": 49,
   "metadata": {
    "collapsed": false
   },
   "outputs": [
    {
     "name": "stdout",
     "output_type": "stream",
     "text": [
      "<table cellpadding=\"3\" cellspacing=\"1\" class=\"tablehead\">\n",
      "<tr align=\"right\" class=\"colhead\"><td align=\"left\" style=\"width:20px;\">RK</td><td align=\"left\">PLAYER</td><td align=\"left\">TEAM</td><td><a href=\"http://espn.go.com/nba/statistics/player/_/stat/scoring-per-game/sort/gamesPlayed/qualified/false\" title=\"Games Played\">GP</a></td><td><a href=\"http://espn.go.com/nba/statistics/player/_/stat/scoring-per-game/sort/avgMinutes/qualified/false\" title=\"Minutes Per Game\">MPG</a></td><td><a href=\"http://espn.go.com/nba/statistics/player/_/stat/scoring-per-game/sort/avgPoints/qualified/false/order/false\" title=\"Points Per Game\">PTS</a></td><td><span title=\"Field Goals Made-Attempted Per Game\">FGM-FGA</span></td><td><a href=\"http://espn.go.com/nba/statistics/player/_/stat/scoring-per-game/sort/fieldGoalPct/qualified/false\" title=\"Field Goal Percentage\">FG%</a></td><td><span title=\"3-Point Field Goals Made-Attempted Per Game\">3PM-3PA</span></td><td><a href=\"http://espn.go.com/nba/statistics/player/_/stat/scoring-per-game/sort/threePointFieldGoalPct/qualified/false\" title=\"3-Point Field Goal Percentage\">3P%</a></td><td><span title=\"Free Throws Made-Attempted Per Game\">FTM-FTA</span></td><td><a href=\"http://espn.go.com/nba/statistics/player/_/stat/scoring-per-game/sort/freeThrowPct/qualified/false\" title=\"Free Throws Percentage\">FT%</a></td></tr><tr align=\"right\" class=\"oddrow player-46-3975\"><td align=\"left\">1</td><td align=\"left\"><a href=\"http://espn.go.com/nba/player/_/id/3975/stephen-curry\">Stephen Curry</a>, PG</td><td align=\"left\">GS</td><td>8</td><td>33.8</td><td class=\"sortcell\">32.4</td><td>10.6-19.9</td><td>.535</td><td>5.1-10.9</td><td>.471</td><td>6.0-6.6</td><td>.906</td></tr><tr align=\"right\" class=\"evenrow player-46-3202\"><td align=\"left\">2</td><td align=\"left\"><a href=\"http://espn.go.com/nba/player/_/id/3202/kevin-durant\">Kevin Durant</a>, SF</td><td align=\"left\">OKC</td><td>7</td><td>37.3</td><td class=\"sortcell\">30.1</td><td>10.4-20.7</td><td>.503</td><td>2.7-6.4</td><td>.422</td><td>6.6-7.4</td><td>.885</td></tr><tr align=\"right\" class=\"oddrow player-46-3992\"><td align=\"left\">3</td><td align=\"left\"><a href=\"http://espn.go.com/nba/player/_/id/3992/james-harden\">James Harden</a>, SG</td><td align=\"left\">HOU</td><td>7</td><td>39.4</td><td class=\"sortcell\">29.7</td><td>8.1-21.6</td><td>.377</td><td>2.6-10.7</td><td>.240</td><td>10.9-12.7</td><td>.854</td></tr><tr align=\"right\" class=\"evenrow player-46-3989\"><td align=\"left\">4</td><td align=\"left\"><a href=\"http://espn.go.com/nba/player/_/id/3989/blake-griffin\">Blake Griffin</a>, PF</td><td align=\"left\">LAC</td><td>7</td><td>35.6</td><td class=\"sortcell\">28.6</td><td>11.3-19.4</td><td>.581</td><td>0.0-0.4</td><td>.000</td><td>6.0-7.4</td><td>.808</td></tr><tr align=\"right\" class=\"oddrow player-46-6606\"><td align=\"left\">5</td><td align=\"left\"><a href=\"http://espn.go.com/nba/player/_/id/6606/damian-lillard\">Damian Lillard</a>, PG</td><td align=\"left\">POR</td><td>8</td><td>36.6</td><td class=\"sortcell\">27.5</td><td>9.6-20.6</td><td>.467</td><td>3.8-8.8</td><td>.429</td><td>4.5-5.0</td><td>.900</td></tr><tr align=\"right\" class=\"evenrow player-46-3468\"><td align=\"left\">6</td><td align=\"left\"><a href=\"http://espn.go.com/nba/player/_/id/3468/russell-westbrook\">Russell Westbrook</a>, PG</td><td align=\"left\">OKC</td><td>7</td><td>35.7</td><td class=\"sortcell\">26.3</td><td>10.0-21.0</td><td>.476</td><td>1.6-5.0</td><td>.314</td><td>4.7-5.6</td><td>.846</td></tr><tr align=\"right\" class=\"oddrow player-46-6583\"><td align=\"left\">7</td><td align=\"left\"><a href=\"http://espn.go.com/nba/player/_/id/6583/anthony-davis\">Anthony Davis</a>, PF</td><td align=\"left\">NO</td><td>6</td><td>38.2</td><td class=\"sortcell\">25.2</td><td>8.3-18.0</td><td>.463</td><td>0.8-2.3</td><td>.357</td><td>7.7-10.2</td><td>.754</td></tr><tr align=\"right\" class=\"evenrow player-46-1966\"><td align=\"left\">8</td><td align=\"left\"><a href=\"http://espn.go.com/nba/player/_/id/1966/lebron-james\">LeBron James</a>, SF</td><td align=\"left\">CLE</td><td>7</td><td>34.4</td><td class=\"sortcell\">24.4</td><td>9.9-20.1</td><td>.489</td><td>0.7-3.7</td><td>.192</td><td>4.0-6.7</td><td>.596</td></tr><tr align=\"right\" class=\"oddrow player-46-4251\"><td align=\"left\">9</td><td align=\"left\"><a href=\"http://espn.go.com/nba/player/_/id/4251/paul-george\">Paul George</a>, SF</td><td align=\"left\">IND</td><td>8</td><td>35.9</td><td class=\"sortcell\">23.5</td><td>7.5-17.9</td><td>.420</td><td>2.1-6.1</td><td>.347</td><td>6.4-7.4</td><td>.864</td></tr><tr align=\"right\" class=\"evenrow player-46-6443\"><td align=\"left\">10</td><td align=\"left\"><a href=\"http://espn.go.com/nba/player/_/id/6443/reggie-jackson\">Reggie Jackson</a>, PG</td><td align=\"left\">DET</td><td>7</td><td>32.7</td><td class=\"sortcell\">22.7</td><td>8.3-18.7</td><td>.443</td><td>1.6-4.0</td><td>.393</td><td>4.6-5.7</td><td>.800</td></tr><tr align=\"right\" class=\"colhead\"><td align=\"left\" style=\"width:20px;\">RK</td><td align=\"left\">PLAYER</td><td align=\"left\">TEAM</td><td><a href=\"http://espn.go.com/nba/statistics/player/_/stat/scoring-per-game/sort/gamesPlayed/qualified/false\" title=\"Games Played\">GP</a></td><td><a href=\"http://espn.go.com/nba/statistics/player/_/stat/scoring-per-game/sort/avgMinutes/qualified/false\" title=\"Minutes Per Game\">MPG</a></td><td><a href=\"http://espn.go.com/nba/statistics/player/_/stat/scoring-per-game/sort/avgPoints/qualified/false/order/false\" title=\"Points Per Game\">PTS</a></td><td><span title=\"Field Goals Made-Attempted Per Game\">FGM-FGA</span></td><td><a href=\"http://espn.go.com/nba/statistics/player/_/stat/scoring-per-game/sort/fieldGoalPct/qualified/false\" title=\"Field Goal Percentage\">FG%</a></td><td><span title=\"3-Point Field Goals Made-Attempted Per Game\">3PM-3PA</span></td><td><a href=\"http://espn.go.com/nba/statistics/player/_/stat/scoring-per-game/sort/threePointFieldGoalPct/qualified/false\" title=\"3-Point Field Goal Percentage\">3P%</a></td><td><span title=\"Free Throws Made-Attempted Per Game\">FTM-FTA</span></td><td><a href=\"http://espn.go.com/nba/statistics/player/_/stat/scoring-per-game/sort/freeThrowPct/qualified/false\" title=\"Free Throws Percentage\">FT%</a></td></tr><tr align=\"right\" class=\"oddrow player-46-6580\"><td align=\"left\"> </td><td align=\"left\"><a href=\"http://espn.go.com/nba/player/_/id/6580/bradley-beal\">Bradley Beal</a>, SG</td><td align=\"left\">WSH</td><td>6</td><td>34.7</td><td class=\"sortcell\">22.7</td><td>8.7-17.8</td><td>.486</td><td>2.7-5.7</td><td>.471</td><td>2.7-3.3</td><td>.800</td></tr><tr align=\"right\" class=\"evenrow player-46-6450\"><td align=\"left\">12</td><td align=\"left\"><a href=\"http://espn.go.com/nba/player/_/id/6450/kawhi-leonard\">Kawhi Leonard</a>, SF</td><td align=\"left\">SA</td><td>7</td><td>33.1</td><td class=\"sortcell\">22.1</td><td>9.3-17.6</td><td>.528</td><td>1.3-3.4</td><td>.375</td><td>2.3-2.6</td><td>.889</td></tr><tr align=\"right\" class=\"oddrow player-46-6472\"><td align=\"left\">13</td><td align=\"left\"><a href=\"http://espn.go.com/nba/player/_/id/6472/isaiah-thomas\">Isaiah Thomas</a>, PG</td><td align=\"left\">BOS</td><td>5</td><td>29.2</td><td class=\"sortcell\">22.0</td><td>7.0-17.4</td><td>.402</td><td>1.6-5.0</td><td>.320</td><td>6.4-7.0</td><td>.914</td></tr><tr align=\"right\" class=\"evenrow player-46-4238\"><td align=\"left\">14</td><td align=\"left\"><a href=\"http://espn.go.com/nba/player/_/id/4238/eric-bledsoe\">Eric Bledsoe</a>, PG</td><td align=\"left\">PHX</td><td>7</td><td>34.4</td><td class=\"sortcell\">21.9</td><td>7.9-17.4</td><td>.451</td><td>1.3-3.7</td><td>.346</td><td>4.9-6.3</td><td>.773</td></tr><tr align=\"right\" class=\"oddrow player-46-4258\"><td align=\"left\">15</td><td align=\"left\"><a href=\"http://espn.go.com/nba/player/_/id/4258/demarcus-cousins\">DeMarcus Cousins</a>, PF</td><td align=\"left\">SAC</td><td>4</td><td>27.5</td><td class=\"sortcell\">21.8</td><td>6.5-17.5</td><td>.371</td><td>1.0-3.5</td><td>.286</td><td>7.8-10.5</td><td>.738</td></tr><tr align=\"right\" class=\"evenrow player-46-1975\"><td align=\"left\">16</td><td align=\"left\"><a href=\"http://espn.go.com/nba/player/_/id/1975/carmelo-anthony\">Carmelo Anthony</a>, SF</td><td align=\"left\">NY</td><td>7</td><td>34.0</td><td class=\"sortcell\">21.4</td><td>7.0-18.9</td><td>.371</td><td>1.6-4.9</td><td>.324</td><td>5.9-6.4</td><td>.911</td></tr><tr align=\"right\" class=\"oddrow player-46-3978\"><td align=\"left\"> </td><td align=\"left\"><a href=\"http://espn.go.com/nba/player/_/id/3978/demar-derozan\">DeMar DeRozan</a>, SG</td><td align=\"left\">TOR</td><td>7</td><td>36.0</td><td class=\"sortcell\">21.4</td><td>6.3-15.0</td><td>.419</td><td>0.3-1.6</td><td>.182</td><td>8.6-10.4</td><td>.822</td></tr><tr align=\"right\" class=\"evenrow player-46-2490149\"><td align=\"left\">18</td><td align=\"left\"><a href=\"http://espn.go.com/nba/player/_/id/2490149/c.j.-mccollum\">C.J. McCollum</a>, SG</td><td align=\"left\">POR</td><td>8</td><td>34.5</td><td class=\"sortcell\">20.9</td><td>8.1-17.5</td><td>.464</td><td>2.5-6.0</td><td>.417</td><td>2.1-2.5</td><td>.850</td></tr><tr align=\"right\" class=\"oddrow player-46-3448\"><td align=\"left\">19</td><td align=\"left\"><a href=\"http://espn.go.com/nba/player/_/id/3448/brook-lopez\">Brook Lopez</a>, C</td><td align=\"left\">BKN</td><td>7</td><td>33.1</td><td class=\"sortcell\">20.4</td><td>7.7-14.4</td><td>.535</td><td>0.0-0.3</td><td>.000</td><td>5.0-6.0</td><td>.833</td></tr><tr align=\"right\" class=\"evenrow player-46-3135048\"><td align=\"left\">20</td><td align=\"left\"><a href=\"http://espn.go.com/nba/player/_/id/3135048/jahlil-okafor\">Jahlil Okafor</a>, C</td><td align=\"left\">PHI</td><td>7</td><td>33.9</td><td class=\"sortcell\">19.9</td><td>8.3-16.9</td><td>.492</td><td>0.0-0.0</td><td>.000</td><td>3.3-5.3</td><td>.622</td></tr><tr align=\"right\" class=\"colhead\"><td align=\"left\" style=\"width:20px;\">RK</td><td align=\"left\">PLAYER</td><td align=\"left\">TEAM</td><td><a href=\"http://espn.go.com/nba/statistics/player/_/stat/scoring-per-game/sort/gamesPlayed/qualified/false\" title=\"Games Played\">GP</a></td><td><a href=\"http://espn.go.com/nba/statistics/player/_/stat/scoring-per-game/sort/avgMinutes/qualified/false\" title=\"Minutes Per Game\">MPG</a></td><td><a href=\"http://espn.go.com/nba/statistics/player/_/stat/scoring-per-game/sort/avgPoints/qualified/false/order/false\" title=\"Points Per Game\">PTS</a></td><td><span title=\"Field Goals Made-Attempted Per Game\">FGM-FGA</span></td><td><a href=\"http://espn.go.com/nba/statistics/player/_/stat/scoring-per-game/sort/fieldGoalPct/qualified/false\" title=\"Field Goal Percentage\">FG%</a></td><td><span title=\"3-Point Field Goals Made-Attempted Per Game\">3PM-3PA</span></td><td><a href=\"http://espn.go.com/nba/statistics/player/_/stat/scoring-per-game/sort/threePointFieldGoalPct/qualified/false\" title=\"3-Point Field Goal Percentage\">3P%</a></td><td><span title=\"Free Throws Made-Attempted Per Game\">FTM-FTA</span></td><td><a href=\"http://espn.go.com/nba/statistics/player/_/stat/scoring-per-game/sort/freeThrowPct/qualified/false\" title=\"Free Throws Percentage\">FT%</a></td></tr><tr align=\"right\" class=\"oddrow player-46-3059319\"><td align=\"left\">21</td><td align=\"left\"><a href=\"http://espn.go.com/nba/player/_/id/3059319/andrew-wiggins\">Andrew Wiggins</a>, SG</td><td align=\"left\">MIN</td><td>6</td><td>32.2</td><td class=\"sortcell\">19.8</td><td>7.2-17.8</td><td>.402</td><td>1.0-2.7</td><td>.375</td><td>4.5-6.5</td><td>.692</td></tr><tr align=\"right\" class=\"evenrow player-46-6585\"><td align=\"left\">22</td><td align=\"left\"><a href=\"http://espn.go.com/nba/player/_/id/6585/andre-drummond\">Andre Drummond</a>, C</td><td align=\"left\">DET</td><td>7</td><td>37.4</td><td class=\"sortcell\">19.4</td><td>8.1-15.3</td><td>.533</td><td>0.0-0.0</td><td>.000</td><td>3.1-7.7</td><td>.407</td></tr><tr align=\"right\" class=\"oddrow player-46-3032977\"><td align=\"left\">23</td><td align=\"left\"><a href=\"http://espn.go.com/nba/player/_/id/3032977/giannis-antetokounmpo\">Giannis Antetokounmpo</a>, SF</td><td align=\"left\">MIL</td><td>6</td><td>37.0</td><td class=\"sortcell\">19.3</td><td>7.2-12.5</td><td>.573</td><td>0.8-1.8</td><td>.455</td><td>4.2-4.8</td><td>.862</td></tr><tr align=\"right\" class=\"evenrow player-46-4237\"><td align=\"left\">24</td><td align=\"left\"><a href=\"http://espn.go.com/nba/player/_/id/4237/john-wall\">John Wall</a>, PG</td><td align=\"left\">WSH</td><td>6</td><td>34.8</td><td class=\"sortcell\">19.2</td><td>6.5-15.7</td><td>.415</td><td>1.3-4.7</td><td>.286</td><td>4.8-6.3</td><td>.763</td></tr><tr align=\"right\" class=\"oddrow player-46-6588\"><td align=\"left\">25</td><td align=\"left\"><a href=\"http://espn.go.com/nba/player/_/id/6588/evan-fournier\">Evan Fournier</a>, SF</td><td align=\"left\">ORL</td><td>8</td><td>37.8</td><td class=\"sortcell\">19.0</td><td>7.1-15.0</td><td>.475</td><td>2.4-6.1</td><td>.388</td><td>2.4-3.1</td><td>.760</td></tr><tr align=\"right\" class=\"evenrow player-46-1987\"><td align=\"left\">26</td><td align=\"left\"><a href=\"http://espn.go.com/nba/player/_/id/1987/dwyane-wade\">Dwyane Wade</a>, SG</td><td align=\"left\">MIA</td><td>7</td><td>29.3</td><td class=\"sortcell\">18.9</td><td>6.9-15.6</td><td>.440</td><td>0.9-2.1</td><td>.400</td><td>4.3-5.3</td><td>.811</td></tr><tr align=\"right\" class=\"oddrow player-46-4015\"><td align=\"left\">27</td><td align=\"left\"><a href=\"http://espn.go.com/nba/player/_/id/4015/jeff-teague\">Jeff Teague</a>, PG</td><td align=\"left\">ATL</td><td>9</td><td>31.6</td><td class=\"sortcell\">18.7</td><td>6.4-14.8</td><td>.436</td><td>1.0-3.2</td><td>.310</td><td>4.8-5.6</td><td>.860</td></tr><tr align=\"right\" class=\"evenrow player-46-6430\"><td align=\"left\">28</td><td align=\"left\"><a href=\"http://espn.go.com/nba/player/_/id/6430/jimmy-butler\">Jimmy Butler</a>, SG</td><td align=\"left\">CHI</td><td>8</td><td>35.4</td><td class=\"sortcell\">18.5</td><td>6.0-13.9</td><td>.432</td><td>1.6-3.9</td><td>.419</td><td>4.9-6.1</td><td>.796</td></tr><tr align=\"right\" class=\"oddrow player-46-3012\"><td align=\"left\">29</td><td align=\"left\"><a href=\"http://espn.go.com/nba/player/_/id/3012/kyle-lowry\">Kyle Lowry</a>, PG</td><td align=\"left\">TOR</td><td>7</td><td>34.6</td><td class=\"sortcell\">18.3</td><td>5.7-14.1</td><td>.404</td><td>2.1-5.4</td><td>.395</td><td>4.7-5.7</td><td>.825</td></tr><tr align=\"right\" class=\"evenrow player-46-4260\"><td align=\"left\">30</td><td align=\"left\"><a href=\"http://espn.go.com/nba/player/_/id/4260/greg-monroe\">Greg Monroe</a>, C</td><td align=\"left\">MIL</td><td>7</td><td>33.0</td><td class=\"sortcell\">18.1</td><td>7.1-13.4</td><td>.532</td><td>0.0-0.0</td><td>.000</td><td>3.9-4.7</td><td>.818</td></tr><tr align=\"right\" class=\"colhead\"><td align=\"left\" style=\"width:20px;\">RK</td><td align=\"left\">PLAYER</td><td align=\"left\">TEAM</td><td><a href=\"http://espn.go.com/nba/statistics/player/_/stat/scoring-per-game/sort/gamesPlayed/qualified/false\" title=\"Games Played\">GP</a></td><td><a href=\"http://espn.go.com/nba/statistics/player/_/stat/scoring-per-game/sort/avgMinutes/qualified/false\" title=\"Minutes Per Game\">MPG</a></td><td><a href=\"http://espn.go.com/nba/statistics/player/_/stat/scoring-per-game/sort/avgPoints/qualified/false/order/false\" title=\"Points Per Game\">PTS</a></td><td><span title=\"Field Goals Made-Attempted Per Game\">FGM-FGA</span></td><td><a href=\"http://espn.go.com/nba/statistics/player/_/stat/scoring-per-game/sort/fieldGoalPct/qualified/false\" title=\"Field Goal Percentage\">FG%</a></td><td><span title=\"3-Point Field Goals Made-Attempted Per Game\">3PM-3PA</span></td><td><a href=\"http://espn.go.com/nba/statistics/player/_/stat/scoring-per-game/sort/threePointFieldGoalPct/qualified/false\" title=\"3-Point Field Goal Percentage\">3P%</a></td><td><span title=\"Free Throws Made-Attempted Per Game\">FTM-FTA</span></td><td><a href=\"http://espn.go.com/nba/statistics/player/_/stat/scoring-per-game/sort/freeThrowPct/qualified/false\" title=\"Free Throws Percentage\">FT%</a></td></tr><tr align=\"right\" class=\"oddrow player-46-6448\"><td align=\"left\">31</td><td align=\"left\"><a href=\"http://espn.go.com/nba/player/_/id/6448/brandon-knight\">Brandon Knight</a>, PG</td><td align=\"left\">PHX</td><td>7</td><td>35.1</td><td class=\"sortcell\">17.9</td><td>6.9-16.4</td><td>.417</td><td>2.3-6.7</td><td>.340</td><td>1.9-2.1</td><td>.867</td></tr><tr align=\"right\" class=\"evenrow player-46-3431\"><td align=\"left\">32</td><td align=\"left\"><a href=\"http://espn.go.com/nba/player/_/id/3431/eric-gordon\">Eric Gordon</a>, SG</td><td align=\"left\">NO</td><td>6</td><td>36.2</td><td class=\"sortcell\">17.8</td><td>6.2-15.0</td><td>.411</td><td>3.0-7.8</td><td>.383</td><td>2.5-3.0</td><td>.833</td></tr><tr align=\"right\" class=\"oddrow player-46-2394\"><td align=\"left\">33</td><td align=\"left\"><a href=\"http://espn.go.com/nba/player/_/id/2394/kevin-martin\">Kevin Martin</a>, SG</td><td align=\"left\">MIN</td><td>5</td><td>27.2</td><td class=\"sortcell\">17.6</td><td>5.0-11.4</td><td>.439</td><td>1.0-3.6</td><td>.278</td><td>6.6-7.8</td><td>.846</td></tr><tr align=\"right\" class=\"evenrow player-46-6479\"><td align=\"left\">34</td><td align=\"left\"><a href=\"http://espn.go.com/nba/player/_/id/6479/kemba-walker\">Kemba Walker</a>, PG</td><td align=\"left\">CHA</td><td>6</td><td>31.0</td><td class=\"sortcell\">17.2</td><td>5.8-13.0</td><td>.449</td><td>1.3-3.5</td><td>.381</td><td>4.2-4.8</td><td>.862</td></tr><tr align=\"right\" class=\"oddrow player-46-3015\"><td align=\"left\">35</td><td align=\"left\"><a href=\"http://espn.go.com/nba/player/_/id/3015/paul-millsap\">Paul Millsap</a>, PF</td><td align=\"left\">ATL</td><td>9</td><td>34.7</td><td class=\"sortcell\">17.0</td><td>5.9-12.3</td><td>.477</td><td>1.6-4.1</td><td>.378</td><td>3.7-5.2</td><td>.702</td></tr><tr align=\"right\" class=\"evenrow player-46-3449\"><td align=\"left\"> </td><td align=\"left\"><a href=\"http://espn.go.com/nba/player/_/id/3449/kevin-love\">Kevin Love</a>, PF</td><td align=\"left\">CLE</td><td>7</td><td>33.0</td><td class=\"sortcell\">17.0</td><td>6.3-15.3</td><td>.411</td><td>2.0-6.7</td><td>.298</td><td>2.4-2.6</td><td>.944</td></tr><tr align=\"right\" class=\"oddrow player-46-609\"><td align=\"left\"> </td><td align=\"left\"><a href=\"http://espn.go.com/nba/player/_/id/609/dirk-nowitzki\">Dirk Nowitzki</a>, PF</td><td align=\"left\">DAL</td><td>6</td><td>28.0</td><td class=\"sortcell\">17.0</td><td>6.5-12.7</td><td>.513</td><td>1.7-3.3</td><td>.500</td><td>2.3-2.5</td><td>.933</td></tr><tr align=\"right\" class=\"evenrow player-46-2384\"><td align=\"left\"> </td><td align=\"left\"><a href=\"http://espn.go.com/nba/player/_/id/2384/dwight-howard\">Dwight Howard</a>, C</td><td align=\"left\">HOU</td><td>4</td><td>29.3</td><td class=\"sortcell\">17.0</td><td>7.0-11.0</td><td>.636</td><td>0.0-0.0</td><td>.000</td><td>3.0-5.3</td><td>.571</td></tr><tr align=\"right\" class=\"oddrow player-46-3428\"><td align=\"left\">39</td><td align=\"left\"><a href=\"http://espn.go.com/nba/player/_/id/3428/danilo-gallinari\">Danilo Gallinari</a>, SF</td><td align=\"left\">DEN</td><td>7</td><td>34.0</td><td class=\"sortcell\">16.9</td><td>5.0-12.6</td><td>.398</td><td>1.0-3.4</td><td>.292</td><td>5.9-6.6</td><td>.891</td></tr><tr align=\"right\" class=\"evenrow player-46-6462\"><td align=\"left\">40</td><td align=\"left\"><a href=\"http://espn.go.com/nba/player/_/id/6462/marcus-morris\">Marcus Morris</a>, PF</td><td align=\"left\">DET</td><td>7</td><td>38.9</td><td class=\"sortcell\">16.7</td><td>6.0-14.1</td><td>.424</td><td>1.3-3.6</td><td>.360</td><td>3.4-4.9</td><td>.706</td></tr>\n",
      "</table>\n"
     ]
    }
   ],
   "source": [
    "table = table_div.find(\"table\")\n",
    "print table"
   ]
  },
  {
   "cell_type": "markdown",
   "metadata": {},
   "source": [
    "### Searching by Attributes\n",
    "\n",
    "Now that we have the table object, we need to step through the rows.  First we'll find the header row so we can populate what the field names will be in our data.  Here we're searching for tags under the table tag whose class attritbute is \"colhead\".  "
   ]
  },
  {
   "cell_type": "code",
   "execution_count": 50,
   "metadata": {
    "collapsed": false
   },
   "outputs": [
    {
     "name": "stdout",
     "output_type": "stream",
     "text": [
      "<tr align=\"right\" class=\"colhead\">\n",
      " <td align=\"left\" style=\"width:20px;\">\n",
      "  RK\n",
      " </td>\n",
      " <td align=\"left\">\n",
      "  PLAYER\n",
      " </td>\n",
      " <td align=\"left\">\n",
      "  TEAM\n",
      " </td>\n",
      " <td>\n",
      "  <a href=\"http://espn.go.com/nba/statistics/player/_/stat/scoring-per-game/sort/gamesPlayed/qualified/false\" title=\"Games Played\">\n",
      "   GP\n",
      "  </a>\n",
      " </td>\n",
      " <td>\n",
      "  <a href=\"http://espn.go.com/nba/statistics/player/_/stat/scoring-per-game/sort/avgMinutes/qualified/false\" title=\"Minutes Per Game\">\n",
      "   MPG\n",
      "  </a>\n",
      " </td>\n",
      " <td>\n",
      "  <a href=\"http://espn.go.com/nba/statistics/player/_/stat/scoring-per-game/sort/avgPoints/qualified/false/order/false\" title=\"Points Per Game\">\n",
      "   PTS\n",
      "  </a>\n",
      " </td>\n",
      " <td>\n",
      "  <span title=\"Field Goals Made-Attempted Per Game\">\n",
      "   FGM-FGA\n",
      "  </span>\n",
      " </td>\n",
      " <td>\n",
      "  <a href=\"http://espn.go.com/nba/statistics/player/_/stat/scoring-per-game/sort/fieldGoalPct/qualified/false\" title=\"Field Goal Percentage\">\n",
      "   FG%\n",
      "  </a>\n",
      " </td>\n",
      " <td>\n",
      "  <span title=\"3-Point Field Goals Made-Attempted Per Game\">\n",
      "   3PM-3PA\n",
      "  </span>\n",
      " </td>\n",
      " <td>\n",
      "  <a href=\"http://espn.go.com/nba/statistics/player/_/stat/scoring-per-game/sort/threePointFieldGoalPct/qualified/false\" title=\"3-Point Field Goal Percentage\">\n",
      "   3P%\n",
      "  </a>\n",
      " </td>\n",
      " <td>\n",
      "  <span title=\"Free Throws Made-Attempted Per Game\">\n",
      "   FTM-FTA\n",
      "  </span>\n",
      " </td>\n",
      " <td>\n",
      "  <a href=\"http://espn.go.com/nba/statistics/player/_/stat/scoring-per-game/sort/freeThrowPct/qualified/false\" title=\"Free Throws Percentage\">\n",
      "   FT%\n",
      "  </a>\n",
      " </td>\n",
      "</tr>\n",
      "\n"
     ]
    }
   ],
   "source": [
    "table_head = table.find(attrs={\"class\":'colhead'})\n",
    "print table_head.prettify()"
   ]
  },
  {
   "cell_type": "markdown",
   "metadata": {},
   "source": [
    "Now we find the actual values by searching for the 'td' tags, which is the tag for table data."
   ]
  },
  {
   "cell_type": "code",
   "execution_count": 51,
   "metadata": {
    "collapsed": false
   },
   "outputs": [
    {
     "name": "stdout",
     "output_type": "stream",
     "text": [
      "[<td align=\"left\" style=\"width:20px;\">RK</td>, <td align=\"left\">PLAYER</td>, <td align=\"left\">TEAM</td>, <td><a href=\"http://espn.go.com/nba/statistics/player/_/stat/scoring-per-game/sort/gamesPlayed/qualified/false\" title=\"Games Played\">GP</a></td>, <td><a href=\"http://espn.go.com/nba/statistics/player/_/stat/scoring-per-game/sort/avgMinutes/qualified/false\" title=\"Minutes Per Game\">MPG</a></td>, <td><a href=\"http://espn.go.com/nba/statistics/player/_/stat/scoring-per-game/sort/avgPoints/qualified/false/order/false\" title=\"Points Per Game\">PTS</a></td>, <td><span title=\"Field Goals Made-Attempted Per Game\">FGM-FGA</span></td>, <td><a href=\"http://espn.go.com/nba/statistics/player/_/stat/scoring-per-game/sort/fieldGoalPct/qualified/false\" title=\"Field Goal Percentage\">FG%</a></td>, <td><span title=\"3-Point Field Goals Made-Attempted Per Game\">3PM-3PA</span></td>, <td><a href=\"http://espn.go.com/nba/statistics/player/_/stat/scoring-per-game/sort/threePointFieldGoalPct/qualified/false\" title=\"3-Point Field Goal Percentage\">3P%</a></td>, <td><span title=\"Free Throws Made-Attempted Per Game\">FTM-FTA</span></td>, <td><a href=\"http://espn.go.com/nba/statistics/player/_/stat/scoring-per-game/sort/freeThrowPct/qualified/false\" title=\"Free Throws Percentage\">FT%</a></td>]\n"
     ]
    }
   ],
   "source": [
    "header_cols = table_head.findAll('td')\n",
    "print header_cols"
   ]
  },
  {
   "cell_type": "markdown",
   "metadata": {},
   "source": [
    "Finally, we step through these columns and save them to a list to be used later.  We'll ignore the rank column (RK) because that doesn't give us anything we want later.  We also separate the **PLAYER** column into **PLAYER** and **POSITION**."
   ]
  },
  {
   "cell_type": "code",
   "execution_count": 52,
   "metadata": {
    "collapsed": false
   },
   "outputs": [
    {
     "name": "stdout",
     "output_type": "stream",
     "text": [
      "[u'PLAYER', 'POSITION', u'TEAM', u'GP', u'MPG', u'PTS', u'FGM-FGA', u'FG%', u'3PM-3PA', u'3P%', u'FTM-FTA', u'FT%']\n"
     ]
    }
   ],
   "source": [
    "cols = []\n",
    "for header_col in header_cols:\n",
    "    val = header_col.string\n",
    "    if val != 'RK':\n",
    "        cols.append(val)\n",
    "    if val == 'PLAYER':\n",
    "        cols.append('POSITION')\n",
    "print cols"
   ]
  },
  {
   "cell_type": "markdown",
   "metadata": {},
   "source": [
    "### Stepping Through a Table\n",
    "\n",
    "The table rows are indicated by the tag 'tr'.  Again we can find them all and iterate through them.  Within each row we iterate through the respective columns."
   ]
  },
  {
   "cell_type": "code",
   "execution_count": 53,
   "metadata": {
    "collapsed": false
   },
   "outputs": [
    {
     "name": "stdout",
     "output_type": "stream",
     "text": [
      "[<tr align=\"right\" class=\"colhead\"><td align=\"left\" style=\"width:20px;\">RK</td><td align=\"left\">PLAYER</td><td align=\"left\">TEAM</td><td><a href=\"http://espn.go.com/nba/statistics/player/_/stat/scoring-per-game/sort/gamesPlayed/qualified/false\" title=\"Games Played\">GP</a></td><td><a href=\"http://espn.go.com/nba/statistics/player/_/stat/scoring-per-game/sort/avgMinutes/qualified/false\" title=\"Minutes Per Game\">MPG</a></td><td><a href=\"http://espn.go.com/nba/statistics/player/_/stat/scoring-per-game/sort/avgPoints/qualified/false/order/false\" title=\"Points Per Game\">PTS</a></td><td><span title=\"Field Goals Made-Attempted Per Game\">FGM-FGA</span></td><td><a href=\"http://espn.go.com/nba/statistics/player/_/stat/scoring-per-game/sort/fieldGoalPct/qualified/false\" title=\"Field Goal Percentage\">FG%</a></td><td><span title=\"3-Point Field Goals Made-Attempted Per Game\">3PM-3PA</span></td><td><a href=\"http://espn.go.com/nba/statistics/player/_/stat/scoring-per-game/sort/threePointFieldGoalPct/qualified/false\" title=\"3-Point Field Goal Percentage\">3P%</a></td><td><span title=\"Free Throws Made-Attempted Per Game\">FTM-FTA</span></td><td><a href=\"http://espn.go.com/nba/statistics/player/_/stat/scoring-per-game/sort/freeThrowPct/qualified/false\" title=\"Free Throws Percentage\">FT%</a></td></tr>, <tr align=\"right\" class=\"oddrow player-46-3975\"><td align=\"left\">1</td><td align=\"left\"><a href=\"http://espn.go.com/nba/player/_/id/3975/stephen-curry\">Stephen Curry</a>, PG</td><td align=\"left\">GS</td><td>8</td><td>33.8</td><td class=\"sortcell\">32.4</td><td>10.6-19.9</td><td>.535</td><td>5.1-10.9</td><td>.471</td><td>6.0-6.6</td><td>.906</td></tr>, <tr align=\"right\" class=\"evenrow player-46-3202\"><td align=\"left\">2</td><td align=\"left\"><a href=\"http://espn.go.com/nba/player/_/id/3202/kevin-durant\">Kevin Durant</a>, SF</td><td align=\"left\">OKC</td><td>7</td><td>37.3</td><td class=\"sortcell\">30.1</td><td>10.4-20.7</td><td>.503</td><td>2.7-6.4</td><td>.422</td><td>6.6-7.4</td><td>.885</td></tr>, <tr align=\"right\" class=\"oddrow player-46-3992\"><td align=\"left\">3</td><td align=\"left\"><a href=\"http://espn.go.com/nba/player/_/id/3992/james-harden\">James Harden</a>, SG</td><td align=\"left\">HOU</td><td>7</td><td>39.4</td><td class=\"sortcell\">29.7</td><td>8.1-21.6</td><td>.377</td><td>2.6-10.7</td><td>.240</td><td>10.9-12.7</td><td>.854</td></tr>, <tr align=\"right\" class=\"evenrow player-46-3989\"><td align=\"left\">4</td><td align=\"left\"><a href=\"http://espn.go.com/nba/player/_/id/3989/blake-griffin\">Blake Griffin</a>, PF</td><td align=\"left\">LAC</td><td>7</td><td>35.6</td><td class=\"sortcell\">28.6</td><td>11.3-19.4</td><td>.581</td><td>0.0-0.4</td><td>.000</td><td>6.0-7.4</td><td>.808</td></tr>, <tr align=\"right\" class=\"oddrow player-46-6606\"><td align=\"left\">5</td><td align=\"left\"><a href=\"http://espn.go.com/nba/player/_/id/6606/damian-lillard\">Damian Lillard</a>, PG</td><td align=\"left\">POR</td><td>8</td><td>36.6</td><td class=\"sortcell\">27.5</td><td>9.6-20.6</td><td>.467</td><td>3.8-8.8</td><td>.429</td><td>4.5-5.0</td><td>.900</td></tr>, <tr align=\"right\" class=\"evenrow player-46-3468\"><td align=\"left\">6</td><td align=\"left\"><a href=\"http://espn.go.com/nba/player/_/id/3468/russell-westbrook\">Russell Westbrook</a>, PG</td><td align=\"left\">OKC</td><td>7</td><td>35.7</td><td class=\"sortcell\">26.3</td><td>10.0-21.0</td><td>.476</td><td>1.6-5.0</td><td>.314</td><td>4.7-5.6</td><td>.846</td></tr>, <tr align=\"right\" class=\"oddrow player-46-6583\"><td align=\"left\">7</td><td align=\"left\"><a href=\"http://espn.go.com/nba/player/_/id/6583/anthony-davis\">Anthony Davis</a>, PF</td><td align=\"left\">NO</td><td>6</td><td>38.2</td><td class=\"sortcell\">25.2</td><td>8.3-18.0</td><td>.463</td><td>0.8-2.3</td><td>.357</td><td>7.7-10.2</td><td>.754</td></tr>, <tr align=\"right\" class=\"evenrow player-46-1966\"><td align=\"left\">8</td><td align=\"left\"><a href=\"http://espn.go.com/nba/player/_/id/1966/lebron-james\">LeBron James</a>, SF</td><td align=\"left\">CLE</td><td>7</td><td>34.4</td><td class=\"sortcell\">24.4</td><td>9.9-20.1</td><td>.489</td><td>0.7-3.7</td><td>.192</td><td>4.0-6.7</td><td>.596</td></tr>, <tr align=\"right\" class=\"oddrow player-46-4251\"><td align=\"left\">9</td><td align=\"left\"><a href=\"http://espn.go.com/nba/player/_/id/4251/paul-george\">Paul George</a>, SF</td><td align=\"left\">IND</td><td>8</td><td>35.9</td><td class=\"sortcell\">23.5</td><td>7.5-17.9</td><td>.420</td><td>2.1-6.1</td><td>.347</td><td>6.4-7.4</td><td>.864</td></tr>, <tr align=\"right\" class=\"evenrow player-46-6443\"><td align=\"left\">10</td><td align=\"left\"><a href=\"http://espn.go.com/nba/player/_/id/6443/reggie-jackson\">Reggie Jackson</a>, PG</td><td align=\"left\">DET</td><td>7</td><td>32.7</td><td class=\"sortcell\">22.7</td><td>8.3-18.7</td><td>.443</td><td>1.6-4.0</td><td>.393</td><td>4.6-5.7</td><td>.800</td></tr>, <tr align=\"right\" class=\"colhead\"><td align=\"left\" style=\"width:20px;\">RK</td><td align=\"left\">PLAYER</td><td align=\"left\">TEAM</td><td><a href=\"http://espn.go.com/nba/statistics/player/_/stat/scoring-per-game/sort/gamesPlayed/qualified/false\" title=\"Games Played\">GP</a></td><td><a href=\"http://espn.go.com/nba/statistics/player/_/stat/scoring-per-game/sort/avgMinutes/qualified/false\" title=\"Minutes Per Game\">MPG</a></td><td><a href=\"http://espn.go.com/nba/statistics/player/_/stat/scoring-per-game/sort/avgPoints/qualified/false/order/false\" title=\"Points Per Game\">PTS</a></td><td><span title=\"Field Goals Made-Attempted Per Game\">FGM-FGA</span></td><td><a href=\"http://espn.go.com/nba/statistics/player/_/stat/scoring-per-game/sort/fieldGoalPct/qualified/false\" title=\"Field Goal Percentage\">FG%</a></td><td><span title=\"3-Point Field Goals Made-Attempted Per Game\">3PM-3PA</span></td><td><a href=\"http://espn.go.com/nba/statistics/player/_/stat/scoring-per-game/sort/threePointFieldGoalPct/qualified/false\" title=\"3-Point Field Goal Percentage\">3P%</a></td><td><span title=\"Free Throws Made-Attempted Per Game\">FTM-FTA</span></td><td><a href=\"http://espn.go.com/nba/statistics/player/_/stat/scoring-per-game/sort/freeThrowPct/qualified/false\" title=\"Free Throws Percentage\">FT%</a></td></tr>, <tr align=\"right\" class=\"oddrow player-46-6580\"><td align=\"left\"> </td><td align=\"left\"><a href=\"http://espn.go.com/nba/player/_/id/6580/bradley-beal\">Bradley Beal</a>, SG</td><td align=\"left\">WSH</td><td>6</td><td>34.7</td><td class=\"sortcell\">22.7</td><td>8.7-17.8</td><td>.486</td><td>2.7-5.7</td><td>.471</td><td>2.7-3.3</td><td>.800</td></tr>, <tr align=\"right\" class=\"evenrow player-46-6450\"><td align=\"left\">12</td><td align=\"left\"><a href=\"http://espn.go.com/nba/player/_/id/6450/kawhi-leonard\">Kawhi Leonard</a>, SF</td><td align=\"left\">SA</td><td>7</td><td>33.1</td><td class=\"sortcell\">22.1</td><td>9.3-17.6</td><td>.528</td><td>1.3-3.4</td><td>.375</td><td>2.3-2.6</td><td>.889</td></tr>, <tr align=\"right\" class=\"oddrow player-46-6472\"><td align=\"left\">13</td><td align=\"left\"><a href=\"http://espn.go.com/nba/player/_/id/6472/isaiah-thomas\">Isaiah Thomas</a>, PG</td><td align=\"left\">BOS</td><td>5</td><td>29.2</td><td class=\"sortcell\">22.0</td><td>7.0-17.4</td><td>.402</td><td>1.6-5.0</td><td>.320</td><td>6.4-7.0</td><td>.914</td></tr>, <tr align=\"right\" class=\"evenrow player-46-4238\"><td align=\"left\">14</td><td align=\"left\"><a href=\"http://espn.go.com/nba/player/_/id/4238/eric-bledsoe\">Eric Bledsoe</a>, PG</td><td align=\"left\">PHX</td><td>7</td><td>34.4</td><td class=\"sortcell\">21.9</td><td>7.9-17.4</td><td>.451</td><td>1.3-3.7</td><td>.346</td><td>4.9-6.3</td><td>.773</td></tr>, <tr align=\"right\" class=\"oddrow player-46-4258\"><td align=\"left\">15</td><td align=\"left\"><a href=\"http://espn.go.com/nba/player/_/id/4258/demarcus-cousins\">DeMarcus Cousins</a>, PF</td><td align=\"left\">SAC</td><td>4</td><td>27.5</td><td class=\"sortcell\">21.8</td><td>6.5-17.5</td><td>.371</td><td>1.0-3.5</td><td>.286</td><td>7.8-10.5</td><td>.738</td></tr>, <tr align=\"right\" class=\"evenrow player-46-1975\"><td align=\"left\">16</td><td align=\"left\"><a href=\"http://espn.go.com/nba/player/_/id/1975/carmelo-anthony\">Carmelo Anthony</a>, SF</td><td align=\"left\">NY</td><td>7</td><td>34.0</td><td class=\"sortcell\">21.4</td><td>7.0-18.9</td><td>.371</td><td>1.6-4.9</td><td>.324</td><td>5.9-6.4</td><td>.911</td></tr>, <tr align=\"right\" class=\"oddrow player-46-3978\"><td align=\"left\"> </td><td align=\"left\"><a href=\"http://espn.go.com/nba/player/_/id/3978/demar-derozan\">DeMar DeRozan</a>, SG</td><td align=\"left\">TOR</td><td>7</td><td>36.0</td><td class=\"sortcell\">21.4</td><td>6.3-15.0</td><td>.419</td><td>0.3-1.6</td><td>.182</td><td>8.6-10.4</td><td>.822</td></tr>, <tr align=\"right\" class=\"evenrow player-46-2490149\"><td align=\"left\">18</td><td align=\"left\"><a href=\"http://espn.go.com/nba/player/_/id/2490149/c.j.-mccollum\">C.J. McCollum</a>, SG</td><td align=\"left\">POR</td><td>8</td><td>34.5</td><td class=\"sortcell\">20.9</td><td>8.1-17.5</td><td>.464</td><td>2.5-6.0</td><td>.417</td><td>2.1-2.5</td><td>.850</td></tr>, <tr align=\"right\" class=\"oddrow player-46-3448\"><td align=\"left\">19</td><td align=\"left\"><a href=\"http://espn.go.com/nba/player/_/id/3448/brook-lopez\">Brook Lopez</a>, C</td><td align=\"left\">BKN</td><td>7</td><td>33.1</td><td class=\"sortcell\">20.4</td><td>7.7-14.4</td><td>.535</td><td>0.0-0.3</td><td>.000</td><td>5.0-6.0</td><td>.833</td></tr>, <tr align=\"right\" class=\"evenrow player-46-3135048\"><td align=\"left\">20</td><td align=\"left\"><a href=\"http://espn.go.com/nba/player/_/id/3135048/jahlil-okafor\">Jahlil Okafor</a>, C</td><td align=\"left\">PHI</td><td>7</td><td>33.9</td><td class=\"sortcell\">19.9</td><td>8.3-16.9</td><td>.492</td><td>0.0-0.0</td><td>.000</td><td>3.3-5.3</td><td>.622</td></tr>, <tr align=\"right\" class=\"colhead\"><td align=\"left\" style=\"width:20px;\">RK</td><td align=\"left\">PLAYER</td><td align=\"left\">TEAM</td><td><a href=\"http://espn.go.com/nba/statistics/player/_/stat/scoring-per-game/sort/gamesPlayed/qualified/false\" title=\"Games Played\">GP</a></td><td><a href=\"http://espn.go.com/nba/statistics/player/_/stat/scoring-per-game/sort/avgMinutes/qualified/false\" title=\"Minutes Per Game\">MPG</a></td><td><a href=\"http://espn.go.com/nba/statistics/player/_/stat/scoring-per-game/sort/avgPoints/qualified/false/order/false\" title=\"Points Per Game\">PTS</a></td><td><span title=\"Field Goals Made-Attempted Per Game\">FGM-FGA</span></td><td><a href=\"http://espn.go.com/nba/statistics/player/_/stat/scoring-per-game/sort/fieldGoalPct/qualified/false\" title=\"Field Goal Percentage\">FG%</a></td><td><span title=\"3-Point Field Goals Made-Attempted Per Game\">3PM-3PA</span></td><td><a href=\"http://espn.go.com/nba/statistics/player/_/stat/scoring-per-game/sort/threePointFieldGoalPct/qualified/false\" title=\"3-Point Field Goal Percentage\">3P%</a></td><td><span title=\"Free Throws Made-Attempted Per Game\">FTM-FTA</span></td><td><a href=\"http://espn.go.com/nba/statistics/player/_/stat/scoring-per-game/sort/freeThrowPct/qualified/false\" title=\"Free Throws Percentage\">FT%</a></td></tr>, <tr align=\"right\" class=\"oddrow player-46-3059319\"><td align=\"left\">21</td><td align=\"left\"><a href=\"http://espn.go.com/nba/player/_/id/3059319/andrew-wiggins\">Andrew Wiggins</a>, SG</td><td align=\"left\">MIN</td><td>6</td><td>32.2</td><td class=\"sortcell\">19.8</td><td>7.2-17.8</td><td>.402</td><td>1.0-2.7</td><td>.375</td><td>4.5-6.5</td><td>.692</td></tr>, <tr align=\"right\" class=\"evenrow player-46-6585\"><td align=\"left\">22</td><td align=\"left\"><a href=\"http://espn.go.com/nba/player/_/id/6585/andre-drummond\">Andre Drummond</a>, C</td><td align=\"left\">DET</td><td>7</td><td>37.4</td><td class=\"sortcell\">19.4</td><td>8.1-15.3</td><td>.533</td><td>0.0-0.0</td><td>.000</td><td>3.1-7.7</td><td>.407</td></tr>, <tr align=\"right\" class=\"oddrow player-46-3032977\"><td align=\"left\">23</td><td align=\"left\"><a href=\"http://espn.go.com/nba/player/_/id/3032977/giannis-antetokounmpo\">Giannis Antetokounmpo</a>, SF</td><td align=\"left\">MIL</td><td>6</td><td>37.0</td><td class=\"sortcell\">19.3</td><td>7.2-12.5</td><td>.573</td><td>0.8-1.8</td><td>.455</td><td>4.2-4.8</td><td>.862</td></tr>, <tr align=\"right\" class=\"evenrow player-46-4237\"><td align=\"left\">24</td><td align=\"left\"><a href=\"http://espn.go.com/nba/player/_/id/4237/john-wall\">John Wall</a>, PG</td><td align=\"left\">WSH</td><td>6</td><td>34.8</td><td class=\"sortcell\">19.2</td><td>6.5-15.7</td><td>.415</td><td>1.3-4.7</td><td>.286</td><td>4.8-6.3</td><td>.763</td></tr>, <tr align=\"right\" class=\"oddrow player-46-6588\"><td align=\"left\">25</td><td align=\"left\"><a href=\"http://espn.go.com/nba/player/_/id/6588/evan-fournier\">Evan Fournier</a>, SF</td><td align=\"left\">ORL</td><td>8</td><td>37.8</td><td class=\"sortcell\">19.0</td><td>7.1-15.0</td><td>.475</td><td>2.4-6.1</td><td>.388</td><td>2.4-3.1</td><td>.760</td></tr>, <tr align=\"right\" class=\"evenrow player-46-1987\"><td align=\"left\">26</td><td align=\"left\"><a href=\"http://espn.go.com/nba/player/_/id/1987/dwyane-wade\">Dwyane Wade</a>, SG</td><td align=\"left\">MIA</td><td>7</td><td>29.3</td><td class=\"sortcell\">18.9</td><td>6.9-15.6</td><td>.440</td><td>0.9-2.1</td><td>.400</td><td>4.3-5.3</td><td>.811</td></tr>, <tr align=\"right\" class=\"oddrow player-46-4015\"><td align=\"left\">27</td><td align=\"left\"><a href=\"http://espn.go.com/nba/player/_/id/4015/jeff-teague\">Jeff Teague</a>, PG</td><td align=\"left\">ATL</td><td>9</td><td>31.6</td><td class=\"sortcell\">18.7</td><td>6.4-14.8</td><td>.436</td><td>1.0-3.2</td><td>.310</td><td>4.8-5.6</td><td>.860</td></tr>, <tr align=\"right\" class=\"evenrow player-46-6430\"><td align=\"left\">28</td><td align=\"left\"><a href=\"http://espn.go.com/nba/player/_/id/6430/jimmy-butler\">Jimmy Butler</a>, SG</td><td align=\"left\">CHI</td><td>8</td><td>35.4</td><td class=\"sortcell\">18.5</td><td>6.0-13.9</td><td>.432</td><td>1.6-3.9</td><td>.419</td><td>4.9-6.1</td><td>.796</td></tr>, <tr align=\"right\" class=\"oddrow player-46-3012\"><td align=\"left\">29</td><td align=\"left\"><a href=\"http://espn.go.com/nba/player/_/id/3012/kyle-lowry\">Kyle Lowry</a>, PG</td><td align=\"left\">TOR</td><td>7</td><td>34.6</td><td class=\"sortcell\">18.3</td><td>5.7-14.1</td><td>.404</td><td>2.1-5.4</td><td>.395</td><td>4.7-5.7</td><td>.825</td></tr>, <tr align=\"right\" class=\"evenrow player-46-4260\"><td align=\"left\">30</td><td align=\"left\"><a href=\"http://espn.go.com/nba/player/_/id/4260/greg-monroe\">Greg Monroe</a>, C</td><td align=\"left\">MIL</td><td>7</td><td>33.0</td><td class=\"sortcell\">18.1</td><td>7.1-13.4</td><td>.532</td><td>0.0-0.0</td><td>.000</td><td>3.9-4.7</td><td>.818</td></tr>, <tr align=\"right\" class=\"colhead\"><td align=\"left\" style=\"width:20px;\">RK</td><td align=\"left\">PLAYER</td><td align=\"left\">TEAM</td><td><a href=\"http://espn.go.com/nba/statistics/player/_/stat/scoring-per-game/sort/gamesPlayed/qualified/false\" title=\"Games Played\">GP</a></td><td><a href=\"http://espn.go.com/nba/statistics/player/_/stat/scoring-per-game/sort/avgMinutes/qualified/false\" title=\"Minutes Per Game\">MPG</a></td><td><a href=\"http://espn.go.com/nba/statistics/player/_/stat/scoring-per-game/sort/avgPoints/qualified/false/order/false\" title=\"Points Per Game\">PTS</a></td><td><span title=\"Field Goals Made-Attempted Per Game\">FGM-FGA</span></td><td><a href=\"http://espn.go.com/nba/statistics/player/_/stat/scoring-per-game/sort/fieldGoalPct/qualified/false\" title=\"Field Goal Percentage\">FG%</a></td><td><span title=\"3-Point Field Goals Made-Attempted Per Game\">3PM-3PA</span></td><td><a href=\"http://espn.go.com/nba/statistics/player/_/stat/scoring-per-game/sort/threePointFieldGoalPct/qualified/false\" title=\"3-Point Field Goal Percentage\">3P%</a></td><td><span title=\"Free Throws Made-Attempted Per Game\">FTM-FTA</span></td><td><a href=\"http://espn.go.com/nba/statistics/player/_/stat/scoring-per-game/sort/freeThrowPct/qualified/false\" title=\"Free Throws Percentage\">FT%</a></td></tr>, <tr align=\"right\" class=\"oddrow player-46-6448\"><td align=\"left\">31</td><td align=\"left\"><a href=\"http://espn.go.com/nba/player/_/id/6448/brandon-knight\">Brandon Knight</a>, PG</td><td align=\"left\">PHX</td><td>7</td><td>35.1</td><td class=\"sortcell\">17.9</td><td>6.9-16.4</td><td>.417</td><td>2.3-6.7</td><td>.340</td><td>1.9-2.1</td><td>.867</td></tr>, <tr align=\"right\" class=\"evenrow player-46-3431\"><td align=\"left\">32</td><td align=\"left\"><a href=\"http://espn.go.com/nba/player/_/id/3431/eric-gordon\">Eric Gordon</a>, SG</td><td align=\"left\">NO</td><td>6</td><td>36.2</td><td class=\"sortcell\">17.8</td><td>6.2-15.0</td><td>.411</td><td>3.0-7.8</td><td>.383</td><td>2.5-3.0</td><td>.833</td></tr>, <tr align=\"right\" class=\"oddrow player-46-2394\"><td align=\"left\">33</td><td align=\"left\"><a href=\"http://espn.go.com/nba/player/_/id/2394/kevin-martin\">Kevin Martin</a>, SG</td><td align=\"left\">MIN</td><td>5</td><td>27.2</td><td class=\"sortcell\">17.6</td><td>5.0-11.4</td><td>.439</td><td>1.0-3.6</td><td>.278</td><td>6.6-7.8</td><td>.846</td></tr>, <tr align=\"right\" class=\"evenrow player-46-6479\"><td align=\"left\">34</td><td align=\"left\"><a href=\"http://espn.go.com/nba/player/_/id/6479/kemba-walker\">Kemba Walker</a>, PG</td><td align=\"left\">CHA</td><td>6</td><td>31.0</td><td class=\"sortcell\">17.2</td><td>5.8-13.0</td><td>.449</td><td>1.3-3.5</td><td>.381</td><td>4.2-4.8</td><td>.862</td></tr>, <tr align=\"right\" class=\"oddrow player-46-3015\"><td align=\"left\">35</td><td align=\"left\"><a href=\"http://espn.go.com/nba/player/_/id/3015/paul-millsap\">Paul Millsap</a>, PF</td><td align=\"left\">ATL</td><td>9</td><td>34.7</td><td class=\"sortcell\">17.0</td><td>5.9-12.3</td><td>.477</td><td>1.6-4.1</td><td>.378</td><td>3.7-5.2</td><td>.702</td></tr>, <tr align=\"right\" class=\"evenrow player-46-3449\"><td align=\"left\"> </td><td align=\"left\"><a href=\"http://espn.go.com/nba/player/_/id/3449/kevin-love\">Kevin Love</a>, PF</td><td align=\"left\">CLE</td><td>7</td><td>33.0</td><td class=\"sortcell\">17.0</td><td>6.3-15.3</td><td>.411</td><td>2.0-6.7</td><td>.298</td><td>2.4-2.6</td><td>.944</td></tr>, <tr align=\"right\" class=\"oddrow player-46-609\"><td align=\"left\"> </td><td align=\"left\"><a href=\"http://espn.go.com/nba/player/_/id/609/dirk-nowitzki\">Dirk Nowitzki</a>, PF</td><td align=\"left\">DAL</td><td>6</td><td>28.0</td><td class=\"sortcell\">17.0</td><td>6.5-12.7</td><td>.513</td><td>1.7-3.3</td><td>.500</td><td>2.3-2.5</td><td>.933</td></tr>, <tr align=\"right\" class=\"evenrow player-46-2384\"><td align=\"left\"> </td><td align=\"left\"><a href=\"http://espn.go.com/nba/player/_/id/2384/dwight-howard\">Dwight Howard</a>, C</td><td align=\"left\">HOU</td><td>4</td><td>29.3</td><td class=\"sortcell\">17.0</td><td>7.0-11.0</td><td>.636</td><td>0.0-0.0</td><td>.000</td><td>3.0-5.3</td><td>.571</td></tr>, <tr align=\"right\" class=\"oddrow player-46-3428\"><td align=\"left\">39</td><td align=\"left\"><a href=\"http://espn.go.com/nba/player/_/id/3428/danilo-gallinari\">Danilo Gallinari</a>, SF</td><td align=\"left\">DEN</td><td>7</td><td>34.0</td><td class=\"sortcell\">16.9</td><td>5.0-12.6</td><td>.398</td><td>1.0-3.4</td><td>.292</td><td>5.9-6.6</td><td>.891</td></tr>, <tr align=\"right\" class=\"evenrow player-46-6462\"><td align=\"left\">40</td><td align=\"left\"><a href=\"http://espn.go.com/nba/player/_/id/6462/marcus-morris\">Marcus Morris</a>, PF</td><td align=\"left\">DET</td><td>7</td><td>38.9</td><td class=\"sortcell\">16.7</td><td>6.0-14.1</td><td>.424</td><td>1.3-3.6</td><td>.360</td><td>3.4-4.9</td><td>.706</td></tr>]\n"
     ]
    }
   ],
   "source": [
    "table_rows = table.findAll('tr')\n",
    "print table_rows"
   ]
  },
  {
   "cell_type": "markdown",
   "metadata": {},
   "source": [
    "We will save our results in 2 different ways to demonstrate how we can handle both.  The first will be a list of dicts where the key is the field name and the value is the field value.  The second will just be a list of lists of stats with no field name values (we've already defined them earlier)."
   ]
  },
  {
   "cell_type": "code",
   "execution_count": 54,
   "metadata": {
    "collapsed": false,
    "scrolled": true
   },
   "outputs": [
    {
     "name": "stdout",
     "output_type": "stream",
     "text": [
      "[{u'FGM-FGA': u'10.6-19.9', u'MPG': u'33.8', u'FTM-FTA': u'6.0-6.6', u'FG%': u'.535', u'GP': u'8', u'PLAYER': u'Stephen Curry', u'FT%': u'.906', u'TEAM': u'GS', u'3PM-3PA': u'5.1-10.9', 'POSITION': u'PG', u'PTS': u'32.4', u'3P%': u'.471'}, {u'FGM-FGA': u'10.4-20.7', u'MPG': u'37.3', u'FTM-FTA': u'6.6-7.4', u'FG%': u'.503', u'GP': u'7', u'PLAYER': u'Kevin Durant', u'FT%': u'.885', u'TEAM': u'OKC', u'3PM-3PA': u'2.7-6.4', 'POSITION': u'SF', u'PTS': u'30.1', u'3P%': u'.422'}, {u'FGM-FGA': u'8.1-21.6', u'MPG': u'39.4', u'FTM-FTA': u'10.9-12.7', u'FG%': u'.377', u'GP': u'7', u'PLAYER': u'James Harden', u'FT%': u'.854', u'TEAM': u'HOU', u'3PM-3PA': u'2.6-10.7', 'POSITION': u'SG', u'PTS': u'29.7', u'3P%': u'.240'}, {u'FGM-FGA': u'11.3-19.4', u'MPG': u'35.6', u'FTM-FTA': u'6.0-7.4', u'FG%': u'.581', u'GP': u'7', u'PLAYER': u'Blake Griffin', u'FT%': u'.808', u'TEAM': u'LAC', u'3PM-3PA': u'0.0-0.4', 'POSITION': u'PF', u'PTS': u'28.6', u'3P%': u'.000'}, {u'FGM-FGA': u'9.6-20.6', u'MPG': u'36.6', u'FTM-FTA': u'4.5-5.0', u'FG%': u'.467', u'GP': u'8', u'PLAYER': u'Damian Lillard', u'FT%': u'.900', u'TEAM': u'POR', u'3PM-3PA': u'3.8-8.8', 'POSITION': u'PG', u'PTS': u'27.5', u'3P%': u'.429'}]\n"
     ]
    }
   ],
   "source": [
    "players_stats_dicts = []\n",
    "players_stats_array = []\n",
    "for row in table_rows:\n",
    "    if row.attrs['class'][0]=='colhead':\n",
    "        continue\n",
    "    player_stats = []\n",
    "    row_cols = row.find_all('td')\n",
    "    col_vals = []\n",
    "    player_col = row_cols[1]\n",
    "    player_name = player_col.find('a').string\n",
    "    player_position = player_col.contents[1]\n",
    "    player_position = player_position.split(' ')[1]\n",
    "    player_stats.append(player_name)\n",
    "    player_stats.append(player_position)\n",
    "    for i in range(2, len(row_cols)):\n",
    "        stat = row_cols[i].string\n",
    "        player_stats.append(stat)\n",
    "    players_stats_array.append(player_stats)\n",
    "    player_stats = dict(zip(cols, player_stats))\n",
    "    players_stats_dicts.append(player_stats)\n",
    "print players_stats_dicts[0:5]        "
   ]
  },
  {
   "cell_type": "markdown",
   "metadata": {},
   "source": [
    "Here we've used the zip function to combine pairs of lists into tuples, and then transformed that into a dict to get a dictionary of FIELD --> VALUE for every player in the table.\n",
    "\n",
    "Beautiful Soup has many other features, including the ability to step up, down, and sideways in the HTML tree and basically search for any tags, attributes, or values.  For more, take a look at the [Documentation](http://www.crummy.com/software/BeautifulSoup/bs4/doc/)"
   ]
  },
  {
   "cell_type": "markdown",
   "metadata": {},
   "source": [
    "## Load into Pandas\n",
    "\n",
    "Let's load our scraped data into Pandas and take a look at it.  Here is the first way we can do it, simply directly from the dictionary we defined."
   ]
  },
  {
   "cell_type": "code",
   "execution_count": 55,
   "metadata": {
    "collapsed": false
   },
   "outputs": [
    {
     "name": "stdout",
     "output_type": "stream",
     "text": [
      "[{u'FGM-FGA': u'10.6-19.9', u'MPG': u'33.8', u'FTM-FTA': u'6.0-6.6', u'FG%': u'.535', u'GP': u'8', u'PLAYER': u'Stephen Curry', u'FT%': u'.906', u'TEAM': u'GS', u'3PM-3PA': u'5.1-10.9', 'POSITION': u'PG', u'PTS': u'32.4', u'3P%': u'.471'}, {u'FGM-FGA': u'10.4-20.7', u'MPG': u'37.3', u'FTM-FTA': u'6.6-7.4', u'FG%': u'.503', u'GP': u'7', u'PLAYER': u'Kevin Durant', u'FT%': u'.885', u'TEAM': u'OKC', u'3PM-3PA': u'2.7-6.4', 'POSITION': u'SF', u'PTS': u'30.1', u'3P%': u'.422'}, {u'FGM-FGA': u'8.1-21.6', u'MPG': u'39.4', u'FTM-FTA': u'10.9-12.7', u'FG%': u'.377', u'GP': u'7', u'PLAYER': u'James Harden', u'FT%': u'.854', u'TEAM': u'HOU', u'3PM-3PA': u'2.6-10.7', 'POSITION': u'SG', u'PTS': u'29.7', u'3P%': u'.240'}, {u'FGM-FGA': u'11.3-19.4', u'MPG': u'35.6', u'FTM-FTA': u'6.0-7.4', u'FG%': u'.581', u'GP': u'7', u'PLAYER': u'Blake Griffin', u'FT%': u'.808', u'TEAM': u'LAC', u'3PM-3PA': u'0.0-0.4', 'POSITION': u'PF', u'PTS': u'28.6', u'3P%': u'.000'}, {u'FGM-FGA': u'9.6-20.6', u'MPG': u'36.6', u'FTM-FTA': u'4.5-5.0', u'FG%': u'.467', u'GP': u'8', u'PLAYER': u'Damian Lillard', u'FT%': u'.900', u'TEAM': u'POR', u'3PM-3PA': u'3.8-8.8', 'POSITION': u'PG', u'PTS': u'27.5', u'3P%': u'.429'}, {u'FGM-FGA': u'10.0-21.0', u'MPG': u'35.7', u'FTM-FTA': u'4.7-5.6', u'FG%': u'.476', u'GP': u'7', u'PLAYER': u'Russell Westbrook', u'FT%': u'.846', u'TEAM': u'OKC', u'3PM-3PA': u'1.6-5.0', 'POSITION': u'PG', u'PTS': u'26.3', u'3P%': u'.314'}, {u'FGM-FGA': u'8.3-18.0', u'MPG': u'38.2', u'FTM-FTA': u'7.7-10.2', u'FG%': u'.463', u'GP': u'6', u'PLAYER': u'Anthony Davis', u'FT%': u'.754', u'TEAM': u'NO', u'3PM-3PA': u'0.8-2.3', 'POSITION': u'PF', u'PTS': u'25.2', u'3P%': u'.357'}, {u'FGM-FGA': u'9.9-20.1', u'MPG': u'34.4', u'FTM-FTA': u'4.0-6.7', u'FG%': u'.489', u'GP': u'7', u'PLAYER': u'LeBron James', u'FT%': u'.596', u'TEAM': u'CLE', u'3PM-3PA': u'0.7-3.7', 'POSITION': u'SF', u'PTS': u'24.4', u'3P%': u'.192'}, {u'FGM-FGA': u'7.5-17.9', u'MPG': u'35.9', u'FTM-FTA': u'6.4-7.4', u'FG%': u'.420', u'GP': u'8', u'PLAYER': u'Paul George', u'FT%': u'.864', u'TEAM': u'IND', u'3PM-3PA': u'2.1-6.1', 'POSITION': u'SF', u'PTS': u'23.5', u'3P%': u'.347'}, {u'FGM-FGA': u'8.3-18.7', u'MPG': u'32.7', u'FTM-FTA': u'4.6-5.7', u'FG%': u'.443', u'GP': u'7', u'PLAYER': u'Reggie Jackson', u'FT%': u'.800', u'TEAM': u'DET', u'3PM-3PA': u'1.6-4.0', 'POSITION': u'PG', u'PTS': u'22.7', u'3P%': u'.393'}, {u'FGM-FGA': u'8.7-17.8', u'MPG': u'34.7', u'FTM-FTA': u'2.7-3.3', u'FG%': u'.486', u'GP': u'6', u'PLAYER': u'Bradley Beal', u'FT%': u'.800', u'TEAM': u'WSH', u'3PM-3PA': u'2.7-5.7', 'POSITION': u'SG', u'PTS': u'22.7', u'3P%': u'.471'}, {u'FGM-FGA': u'9.3-17.6', u'MPG': u'33.1', u'FTM-FTA': u'2.3-2.6', u'FG%': u'.528', u'GP': u'7', u'PLAYER': u'Kawhi Leonard', u'FT%': u'.889', u'TEAM': u'SA', u'3PM-3PA': u'1.3-3.4', 'POSITION': u'SF', u'PTS': u'22.1', u'3P%': u'.375'}, {u'FGM-FGA': u'7.0-17.4', u'MPG': u'29.2', u'FTM-FTA': u'6.4-7.0', u'FG%': u'.402', u'GP': u'5', u'PLAYER': u'Isaiah Thomas', u'FT%': u'.914', u'TEAM': u'BOS', u'3PM-3PA': u'1.6-5.0', 'POSITION': u'PG', u'PTS': u'22.0', u'3P%': u'.320'}, {u'FGM-FGA': u'7.9-17.4', u'MPG': u'34.4', u'FTM-FTA': u'4.9-6.3', u'FG%': u'.451', u'GP': u'7', u'PLAYER': u'Eric Bledsoe', u'FT%': u'.773', u'TEAM': u'PHX', u'3PM-3PA': u'1.3-3.7', 'POSITION': u'PG', u'PTS': u'21.9', u'3P%': u'.346'}, {u'FGM-FGA': u'6.5-17.5', u'MPG': u'27.5', u'FTM-FTA': u'7.8-10.5', u'FG%': u'.371', u'GP': u'4', u'PLAYER': u'DeMarcus Cousins', u'FT%': u'.738', u'TEAM': u'SAC', u'3PM-3PA': u'1.0-3.5', 'POSITION': u'PF', u'PTS': u'21.8', u'3P%': u'.286'}, {u'FGM-FGA': u'7.0-18.9', u'MPG': u'34.0', u'FTM-FTA': u'5.9-6.4', u'FG%': u'.371', u'GP': u'7', u'PLAYER': u'Carmelo Anthony', u'FT%': u'.911', u'TEAM': u'NY', u'3PM-3PA': u'1.6-4.9', 'POSITION': u'SF', u'PTS': u'21.4', u'3P%': u'.324'}, {u'FGM-FGA': u'6.3-15.0', u'MPG': u'36.0', u'FTM-FTA': u'8.6-10.4', u'FG%': u'.419', u'GP': u'7', u'PLAYER': u'DeMar DeRozan', u'FT%': u'.822', u'TEAM': u'TOR', u'3PM-3PA': u'0.3-1.6', 'POSITION': u'SG', u'PTS': u'21.4', u'3P%': u'.182'}, {u'FGM-FGA': u'8.1-17.5', u'MPG': u'34.5', u'FTM-FTA': u'2.1-2.5', u'FG%': u'.464', u'GP': u'8', u'PLAYER': u'C.J. McCollum', u'FT%': u'.850', u'TEAM': u'POR', u'3PM-3PA': u'2.5-6.0', 'POSITION': u'SG', u'PTS': u'20.9', u'3P%': u'.417'}, {u'FGM-FGA': u'7.7-14.4', u'MPG': u'33.1', u'FTM-FTA': u'5.0-6.0', u'FG%': u'.535', u'GP': u'7', u'PLAYER': u'Brook Lopez', u'FT%': u'.833', u'TEAM': u'BKN', u'3PM-3PA': u'0.0-0.3', 'POSITION': u'C', u'PTS': u'20.4', u'3P%': u'.000'}, {u'FGM-FGA': u'8.3-16.9', u'MPG': u'33.9', u'FTM-FTA': u'3.3-5.3', u'FG%': u'.492', u'GP': u'7', u'PLAYER': u'Jahlil Okafor', u'FT%': u'.622', u'TEAM': u'PHI', u'3PM-3PA': u'0.0-0.0', 'POSITION': u'C', u'PTS': u'19.9', u'3P%': u'.000'}, {u'FGM-FGA': u'7.2-17.8', u'MPG': u'32.2', u'FTM-FTA': u'4.5-6.5', u'FG%': u'.402', u'GP': u'6', u'PLAYER': u'Andrew Wiggins', u'FT%': u'.692', u'TEAM': u'MIN', u'3PM-3PA': u'1.0-2.7', 'POSITION': u'SG', u'PTS': u'19.8', u'3P%': u'.375'}, {u'FGM-FGA': u'8.1-15.3', u'MPG': u'37.4', u'FTM-FTA': u'3.1-7.7', u'FG%': u'.533', u'GP': u'7', u'PLAYER': u'Andre Drummond', u'FT%': u'.407', u'TEAM': u'DET', u'3PM-3PA': u'0.0-0.0', 'POSITION': u'C', u'PTS': u'19.4', u'3P%': u'.000'}, {u'FGM-FGA': u'7.2-12.5', u'MPG': u'37.0', u'FTM-FTA': u'4.2-4.8', u'FG%': u'.573', u'GP': u'6', u'PLAYER': u'Giannis Antetokounmpo', u'FT%': u'.862', u'TEAM': u'MIL', u'3PM-3PA': u'0.8-1.8', 'POSITION': u'SF', u'PTS': u'19.3', u'3P%': u'.455'}, {u'FGM-FGA': u'6.5-15.7', u'MPG': u'34.8', u'FTM-FTA': u'4.8-6.3', u'FG%': u'.415', u'GP': u'6', u'PLAYER': u'John Wall', u'FT%': u'.763', u'TEAM': u'WSH', u'3PM-3PA': u'1.3-4.7', 'POSITION': u'PG', u'PTS': u'19.2', u'3P%': u'.286'}, {u'FGM-FGA': u'7.1-15.0', u'MPG': u'37.8', u'FTM-FTA': u'2.4-3.1', u'FG%': u'.475', u'GP': u'8', u'PLAYER': u'Evan Fournier', u'FT%': u'.760', u'TEAM': u'ORL', u'3PM-3PA': u'2.4-6.1', 'POSITION': u'SF', u'PTS': u'19.0', u'3P%': u'.388'}, {u'FGM-FGA': u'6.9-15.6', u'MPG': u'29.3', u'FTM-FTA': u'4.3-5.3', u'FG%': u'.440', u'GP': u'7', u'PLAYER': u'Dwyane Wade', u'FT%': u'.811', u'TEAM': u'MIA', u'3PM-3PA': u'0.9-2.1', 'POSITION': u'SG', u'PTS': u'18.9', u'3P%': u'.400'}, {u'FGM-FGA': u'6.4-14.8', u'MPG': u'31.6', u'FTM-FTA': u'4.8-5.6', u'FG%': u'.436', u'GP': u'9', u'PLAYER': u'Jeff Teague', u'FT%': u'.860', u'TEAM': u'ATL', u'3PM-3PA': u'1.0-3.2', 'POSITION': u'PG', u'PTS': u'18.7', u'3P%': u'.310'}, {u'FGM-FGA': u'6.0-13.9', u'MPG': u'35.4', u'FTM-FTA': u'4.9-6.1', u'FG%': u'.432', u'GP': u'8', u'PLAYER': u'Jimmy Butler', u'FT%': u'.796', u'TEAM': u'CHI', u'3PM-3PA': u'1.6-3.9', 'POSITION': u'SG', u'PTS': u'18.5', u'3P%': u'.419'}, {u'FGM-FGA': u'5.7-14.1', u'MPG': u'34.6', u'FTM-FTA': u'4.7-5.7', u'FG%': u'.404', u'GP': u'7', u'PLAYER': u'Kyle Lowry', u'FT%': u'.825', u'TEAM': u'TOR', u'3PM-3PA': u'2.1-5.4', 'POSITION': u'PG', u'PTS': u'18.3', u'3P%': u'.395'}, {u'FGM-FGA': u'7.1-13.4', u'MPG': u'33.0', u'FTM-FTA': u'3.9-4.7', u'FG%': u'.532', u'GP': u'7', u'PLAYER': u'Greg Monroe', u'FT%': u'.818', u'TEAM': u'MIL', u'3PM-3PA': u'0.0-0.0', 'POSITION': u'C', u'PTS': u'18.1', u'3P%': u'.000'}, {u'FGM-FGA': u'6.9-16.4', u'MPG': u'35.1', u'FTM-FTA': u'1.9-2.1', u'FG%': u'.417', u'GP': u'7', u'PLAYER': u'Brandon Knight', u'FT%': u'.867', u'TEAM': u'PHX', u'3PM-3PA': u'2.3-6.7', 'POSITION': u'PG', u'PTS': u'17.9', u'3P%': u'.340'}, {u'FGM-FGA': u'6.2-15.0', u'MPG': u'36.2', u'FTM-FTA': u'2.5-3.0', u'FG%': u'.411', u'GP': u'6', u'PLAYER': u'Eric Gordon', u'FT%': u'.833', u'TEAM': u'NO', u'3PM-3PA': u'3.0-7.8', 'POSITION': u'SG', u'PTS': u'17.8', u'3P%': u'.383'}, {u'FGM-FGA': u'5.0-11.4', u'MPG': u'27.2', u'FTM-FTA': u'6.6-7.8', u'FG%': u'.439', u'GP': u'5', u'PLAYER': u'Kevin Martin', u'FT%': u'.846', u'TEAM': u'MIN', u'3PM-3PA': u'1.0-3.6', 'POSITION': u'SG', u'PTS': u'17.6', u'3P%': u'.278'}, {u'FGM-FGA': u'5.8-13.0', u'MPG': u'31.0', u'FTM-FTA': u'4.2-4.8', u'FG%': u'.449', u'GP': u'6', u'PLAYER': u'Kemba Walker', u'FT%': u'.862', u'TEAM': u'CHA', u'3PM-3PA': u'1.3-3.5', 'POSITION': u'PG', u'PTS': u'17.2', u'3P%': u'.381'}, {u'FGM-FGA': u'5.9-12.3', u'MPG': u'34.7', u'FTM-FTA': u'3.7-5.2', u'FG%': u'.477', u'GP': u'9', u'PLAYER': u'Paul Millsap', u'FT%': u'.702', u'TEAM': u'ATL', u'3PM-3PA': u'1.6-4.1', 'POSITION': u'PF', u'PTS': u'17.0', u'3P%': u'.378'}, {u'FGM-FGA': u'6.3-15.3', u'MPG': u'33.0', u'FTM-FTA': u'2.4-2.6', u'FG%': u'.411', u'GP': u'7', u'PLAYER': u'Kevin Love', u'FT%': u'.944', u'TEAM': u'CLE', u'3PM-3PA': u'2.0-6.7', 'POSITION': u'PF', u'PTS': u'17.0', u'3P%': u'.298'}, {u'FGM-FGA': u'6.5-12.7', u'MPG': u'28.0', u'FTM-FTA': u'2.3-2.5', u'FG%': u'.513', u'GP': u'6', u'PLAYER': u'Dirk Nowitzki', u'FT%': u'.933', u'TEAM': u'DAL', u'3PM-3PA': u'1.7-3.3', 'POSITION': u'PF', u'PTS': u'17.0', u'3P%': u'.500'}, {u'FGM-FGA': u'7.0-11.0', u'MPG': u'29.3', u'FTM-FTA': u'3.0-5.3', u'FG%': u'.636', u'GP': u'4', u'PLAYER': u'Dwight Howard', u'FT%': u'.571', u'TEAM': u'HOU', u'3PM-3PA': u'0.0-0.0', 'POSITION': u'C', u'PTS': u'17.0', u'3P%': u'.000'}, {u'FGM-FGA': u'5.0-12.6', u'MPG': u'34.0', u'FTM-FTA': u'5.9-6.6', u'FG%': u'.398', u'GP': u'7', u'PLAYER': u'Danilo Gallinari', u'FT%': u'.891', u'TEAM': u'DEN', u'3PM-3PA': u'1.0-3.4', 'POSITION': u'SF', u'PTS': u'16.9', u'3P%': u'.292'}, {u'FGM-FGA': u'6.0-14.1', u'MPG': u'38.9', u'FTM-FTA': u'3.4-4.9', u'FG%': u'.424', u'GP': u'7', u'PLAYER': u'Marcus Morris', u'FT%': u'.706', u'TEAM': u'DET', u'3PM-3PA': u'1.3-3.6', 'POSITION': u'PF', u'PTS': u'16.7', u'3P%': u'.360'}]\n"
     ]
    }
   ],
   "source": [
    "import pandas as pd\n",
    "import numpy as np\n",
    "print players_stats_dicts\n",
    "df = pd.DataFrame.from_dict(players_stats_dicts)\n",
    "#df.head()"
   ]
  },
  {
   "cell_type": "markdown",
   "metadata": {},
   "source": [
    "Now here is a 2nd way we can do it.  We convert the 2D stats array into a numpy array and create a Pandas dataframe from it along with the list of column headers we defined earlier."
   ]
  },
  {
   "cell_type": "code",
   "execution_count": 11,
   "metadata": {
    "collapsed": false
   },
   "outputs": [
    {
     "data": {
      "text/html": [
       "<div>\n",
       "<table border=\"1\" class=\"dataframe\">\n",
       "  <thead>\n",
       "    <tr style=\"text-align: right;\">\n",
       "      <th></th>\n",
       "      <th>PLAYER</th>\n",
       "      <th>POSITION</th>\n",
       "      <th>TEAM</th>\n",
       "      <th>GP</th>\n",
       "      <th>MPG</th>\n",
       "      <th>PTS</th>\n",
       "      <th>FGM-FGA</th>\n",
       "      <th>FG%</th>\n",
       "      <th>3PM-3PA</th>\n",
       "      <th>3P%</th>\n",
       "      <th>FTM-FTA</th>\n",
       "      <th>FT%</th>\n",
       "    </tr>\n",
       "  </thead>\n",
       "  <tbody>\n",
       "    <tr>\n",
       "      <th>0</th>\n",
       "      <td>Stephen Curry</td>\n",
       "      <td>PG</td>\n",
       "      <td>GS</td>\n",
       "      <td>8</td>\n",
       "      <td>33.8</td>\n",
       "      <td>32.4</td>\n",
       "      <td>10.6-19.9</td>\n",
       "      <td>.535</td>\n",
       "      <td>5.1-10.9</td>\n",
       "      <td>.471</td>\n",
       "      <td>6.0-6.6</td>\n",
       "      <td>.906</td>\n",
       "    </tr>\n",
       "    <tr>\n",
       "      <th>1</th>\n",
       "      <td>Kevin Durant</td>\n",
       "      <td>SF</td>\n",
       "      <td>OKC</td>\n",
       "      <td>7</td>\n",
       "      <td>37.3</td>\n",
       "      <td>30.1</td>\n",
       "      <td>10.4-20.7</td>\n",
       "      <td>.503</td>\n",
       "      <td>2.7-6.4</td>\n",
       "      <td>.422</td>\n",
       "      <td>6.6-7.4</td>\n",
       "      <td>.885</td>\n",
       "    </tr>\n",
       "    <tr>\n",
       "      <th>2</th>\n",
       "      <td>James Harden</td>\n",
       "      <td>SG</td>\n",
       "      <td>HOU</td>\n",
       "      <td>7</td>\n",
       "      <td>39.4</td>\n",
       "      <td>29.7</td>\n",
       "      <td>8.1-21.6</td>\n",
       "      <td>.377</td>\n",
       "      <td>2.6-10.7</td>\n",
       "      <td>.240</td>\n",
       "      <td>10.9-12.7</td>\n",
       "      <td>.854</td>\n",
       "    </tr>\n",
       "    <tr>\n",
       "      <th>3</th>\n",
       "      <td>Blake Griffin</td>\n",
       "      <td>PF</td>\n",
       "      <td>LAC</td>\n",
       "      <td>7</td>\n",
       "      <td>35.6</td>\n",
       "      <td>28.6</td>\n",
       "      <td>11.3-19.4</td>\n",
       "      <td>.581</td>\n",
       "      <td>0.0-0.4</td>\n",
       "      <td>.000</td>\n",
       "      <td>6.0-7.4</td>\n",
       "      <td>.808</td>\n",
       "    </tr>\n",
       "    <tr>\n",
       "      <th>4</th>\n",
       "      <td>Damian Lillard</td>\n",
       "      <td>PG</td>\n",
       "      <td>POR</td>\n",
       "      <td>8</td>\n",
       "      <td>36.6</td>\n",
       "      <td>27.5</td>\n",
       "      <td>9.6-20.6</td>\n",
       "      <td>.467</td>\n",
       "      <td>3.8-8.8</td>\n",
       "      <td>.429</td>\n",
       "      <td>4.5-5.0</td>\n",
       "      <td>.900</td>\n",
       "    </tr>\n",
       "  </tbody>\n",
       "</table>\n",
       "</div>"
      ],
      "text/plain": [
       "           PLAYER POSITION TEAM GP   MPG   PTS    FGM-FGA   FG%   3PM-3PA  \\\n",
       "0   Stephen Curry       PG   GS  8  33.8  32.4  10.6-19.9  .535  5.1-10.9   \n",
       "1    Kevin Durant       SF  OKC  7  37.3  30.1  10.4-20.7  .503   2.7-6.4   \n",
       "2    James Harden       SG  HOU  7  39.4  29.7   8.1-21.6  .377  2.6-10.7   \n",
       "3   Blake Griffin       PF  LAC  7  35.6  28.6  11.3-19.4  .581   0.0-0.4   \n",
       "4  Damian Lillard       PG  POR  8  36.6  27.5   9.6-20.6  .467   3.8-8.8   \n",
       "\n",
       "    3P%    FTM-FTA   FT%  \n",
       "0  .471    6.0-6.6  .906  \n",
       "1  .422    6.6-7.4  .885  \n",
       "2  .240  10.9-12.7  .854  \n",
       "3  .000    6.0-7.4  .808  \n",
       "4  .429    4.5-5.0  .900  "
      ]
     },
     "execution_count": 11,
     "metadata": {},
     "output_type": "execute_result"
    }
   ],
   "source": [
    "np_array = np.array(players_stats_array)\n",
    "df = pd.DataFrame(np_array, columns=cols)\n",
    "df.head()"
   ]
  },
  {
   "cell_type": "markdown",
   "metadata": {},
   "source": [
    "## Exercise\n",
    "\n",
    "The goal of this exercise is to combine the scoring and assists statistics for every player in the NBA in 2014-2015.  The end result will have them in a pandas dataframe with the fields from both pages for every player.\n",
    "\n",
    "The general steps should be as follows:\n",
    "- Create a function get_cols that retrieves the names of the header columns given a table element (skip the ranks, split the positions)\n",
    "- Create a function get_data that retrieves the actual table data given a table element (skip the ranks, split the positions).  You can use either the dict approach or the numpy array approach.\n",
    "- Write a python loop to loop through the various pages and call these functions on the appropriate urls so that you can retrieve every player (rather than just the top few).\n",
    "- Repeat the above on both the scoring and assists URLs to get a pandas dataframe for both of them\n",
    "- Use the pandas.DataFrame.merge() function to join your 2 pandas dataframes together and get a total result"
   ]
  },
  {
   "cell_type": "code",
   "execution_count": 3,
   "metadata": {
    "collapsed": true
   },
   "outputs": [],
   "source": [
    "def get_cols(this_table):\n",
    "    table_head = this_table.find(attrs={\"class\":'colhead'})\n",
    "    header_cols = table_head.findAll('td')\n",
    "    cols = []\n",
    "    for header_col in header_cols:\n",
    "        val = header_col.string\n",
    "        if val != 'RK':\n",
    "            cols.append(val)\n",
    "        if val == 'PLAYER':\n",
    "            cols.append('POSITION')\n",
    "    return cols"
   ]
  },
  {
   "cell_type": "markdown",
   "metadata": {},
   "source": [
    "Definition of get_data"
   ]
  },
  {
   "cell_type": "code",
   "execution_count": 1,
   "metadata": {
    "collapsed": true
   },
   "outputs": [],
   "source": [
    "def get_data(this_table):\n",
    "    #players_stats_dicts = []\n",
    "    players_stats_array = []\n",
    "    table_rows = this_table.findAll('tr')\n",
    "    for row in table_rows:\n",
    "        if row.attrs['class'][0]=='colhead':\n",
    "            continue\n",
    "        player_stats = []\n",
    "        #print row\n",
    "        row_cols = row.find_all('td')\n",
    "        col_vals = []\n",
    "        player_col = row_cols[1]\n",
    "        player_name = player_col.find('a').string\n",
    "        player_position = player_col.contents[1]\n",
    "        player_position = player_position.split(' ')[1]\n",
    "        player_stats.append(player_name)\n",
    "        player_stats.append(player_position)\n",
    "        for i in range(2, len(row_cols)):\n",
    "            stat = row_cols[i].string\n",
    "            player_stats.append(stat)\n",
    "        players_stats_array.append(player_stats)\n",
    "        #player_stats = dict(zip(header_col, player_stats))\n",
    "        #players_stats_dicts.append(player_stats)\n",
    "    return players_stats_array"
   ]
  },
  {
   "cell_type": "markdown",
   "metadata": {},
   "source": [
    "Python loop for various pages"
   ]
  },
  {
   "cell_type": "code",
   "execution_count": 6,
   "metadata": {
    "collapsed": false
   },
   "outputs": [],
   "source": [
    "import pandas as pd\n",
    "import numpy as np\n",
    "from bs4 import BeautifulSoup\n",
    "import urllib2\n",
    "\n",
    "base_url = 'http://espn.go.com/nba/statistics/player/_/stat/scoring-per-game/sort/avgPoints/qualified/false/count/'\n",
    "\n",
    "page = urllib2.urlopen(base_url).read()\n",
    "soup = BeautifulSoup(page)\n",
    "table = soup.find(\"table\")\n",
    "header = get_cols(table)\n",
    "\n",
    "step_through = np.arange(1,402,40)\n",
    "scoring = []\n",
    "for i in step_through:\n",
    "    page = urllib2.urlopen(base_url+`i`).read()\n",
    "    soup = BeautifulSoup(page)\n",
    "    table = soup.find(\"table\")\n",
    "    s = get_data(table)\n",
    "    scoring.extend(s)\n",
    "np_array = np.array(scoring)\n",
    "df_scoring = pd.DataFrame(np_array, columns=header)\n",
    "\n",
    "base_url_assists = 'http://espn.go.com/nba/statistics/player/_/stat/assists/sort/avgAssists/qualified/false/count/'\n",
    "\n",
    "page = urllib2.urlopen(base_url_assists).read()\n",
    "soup = BeautifulSoup(page)\n",
    "table = soup.find(\"table\")\n",
    "header = get_cols(table)\n",
    "\n",
    "assists = []\n",
    "for i in step_through:\n",
    "    page = urllib2.urlopen(base_url_assists+`i`).read()\n",
    "    soup_assists = BeautifulSoup(page)\n",
    "    table = soup.find(\"table\")\n",
    "    s = get_data(table)\n",
    "    assists.extend(s)\n",
    "np_array = np.array(assists)\n",
    "df_assists = pd.DataFrame(np_array, columns=header)"
   ]
  },
  {
   "cell_type": "markdown",
   "metadata": {},
   "source": [
    "Putting them together"
   ]
  },
  {
   "cell_type": "code",
   "execution_count": 7,
   "metadata": {
    "collapsed": false
   },
   "outputs": [
    {
     "data": {
      "text/html": [
       "<div>\n",
       "<table border=\"1\" class=\"dataframe\">\n",
       "  <thead>\n",
       "    <tr style=\"text-align: right;\">\n",
       "      <th></th>\n",
       "      <th>PLAYER</th>\n",
       "      <th>POSITION</th>\n",
       "      <th>TEAM</th>\n",
       "      <th>GP</th>\n",
       "      <th>MPG</th>\n",
       "      <th>PTS</th>\n",
       "      <th>FGM-FGA</th>\n",
       "      <th>FG%</th>\n",
       "      <th>3PM-3PA</th>\n",
       "      <th>3P%</th>\n",
       "      <th>FTM-FTA</th>\n",
       "      <th>FT%</th>\n",
       "      <th>AST</th>\n",
       "      <th>APG</th>\n",
       "      <th>TO</th>\n",
       "      <th>TOPG</th>\n",
       "      <th>AP48M</th>\n",
       "      <th>AST/TO</th>\n",
       "    </tr>\n",
       "  </thead>\n",
       "  <tbody>\n",
       "    <tr>\n",
       "      <th>0</th>\n",
       "      <td>Stephen Curry</td>\n",
       "      <td>PG</td>\n",
       "      <td>GS</td>\n",
       "      <td>8</td>\n",
       "      <td>33.8</td>\n",
       "      <td>32.4</td>\n",
       "      <td>10.6-19.9</td>\n",
       "      <td>.535</td>\n",
       "      <td>5.1-10.9</td>\n",
       "      <td>.471</td>\n",
       "      <td>6.0-6.6</td>\n",
       "      <td>.906</td>\n",
       "      <td>47</td>\n",
       "      <td>5.9</td>\n",
       "      <td>23</td>\n",
       "      <td>2.9</td>\n",
       "      <td>8.4</td>\n",
       "      <td>2.04</td>\n",
       "    </tr>\n",
       "    <tr>\n",
       "      <th>1</th>\n",
       "      <td>Stephen Curry</td>\n",
       "      <td>PG</td>\n",
       "      <td>GS</td>\n",
       "      <td>8</td>\n",
       "      <td>33.8</td>\n",
       "      <td>32.4</td>\n",
       "      <td>10.6-19.9</td>\n",
       "      <td>.535</td>\n",
       "      <td>5.1-10.9</td>\n",
       "      <td>.471</td>\n",
       "      <td>6.0-6.6</td>\n",
       "      <td>.906</td>\n",
       "      <td>47</td>\n",
       "      <td>5.9</td>\n",
       "      <td>23</td>\n",
       "      <td>2.9</td>\n",
       "      <td>8.4</td>\n",
       "      <td>2.04</td>\n",
       "    </tr>\n",
       "    <tr>\n",
       "      <th>2</th>\n",
       "      <td>Stephen Curry</td>\n",
       "      <td>PG</td>\n",
       "      <td>GS</td>\n",
       "      <td>8</td>\n",
       "      <td>33.8</td>\n",
       "      <td>32.4</td>\n",
       "      <td>10.6-19.9</td>\n",
       "      <td>.535</td>\n",
       "      <td>5.1-10.9</td>\n",
       "      <td>.471</td>\n",
       "      <td>6.0-6.6</td>\n",
       "      <td>.906</td>\n",
       "      <td>47</td>\n",
       "      <td>5.9</td>\n",
       "      <td>23</td>\n",
       "      <td>2.9</td>\n",
       "      <td>8.4</td>\n",
       "      <td>2.04</td>\n",
       "    </tr>\n",
       "    <tr>\n",
       "      <th>3</th>\n",
       "      <td>Stephen Curry</td>\n",
       "      <td>PG</td>\n",
       "      <td>GS</td>\n",
       "      <td>8</td>\n",
       "      <td>33.8</td>\n",
       "      <td>32.4</td>\n",
       "      <td>10.6-19.9</td>\n",
       "      <td>.535</td>\n",
       "      <td>5.1-10.9</td>\n",
       "      <td>.471</td>\n",
       "      <td>6.0-6.6</td>\n",
       "      <td>.906</td>\n",
       "      <td>47</td>\n",
       "      <td>5.9</td>\n",
       "      <td>23</td>\n",
       "      <td>2.9</td>\n",
       "      <td>8.4</td>\n",
       "      <td>2.04</td>\n",
       "    </tr>\n",
       "    <tr>\n",
       "      <th>4</th>\n",
       "      <td>Stephen Curry</td>\n",
       "      <td>PG</td>\n",
       "      <td>GS</td>\n",
       "      <td>8</td>\n",
       "      <td>33.8</td>\n",
       "      <td>32.4</td>\n",
       "      <td>10.6-19.9</td>\n",
       "      <td>.535</td>\n",
       "      <td>5.1-10.9</td>\n",
       "      <td>.471</td>\n",
       "      <td>6.0-6.6</td>\n",
       "      <td>.906</td>\n",
       "      <td>47</td>\n",
       "      <td>5.9</td>\n",
       "      <td>23</td>\n",
       "      <td>2.9</td>\n",
       "      <td>8.4</td>\n",
       "      <td>2.04</td>\n",
       "    </tr>\n",
       "  </tbody>\n",
       "</table>\n",
       "</div>"
      ],
      "text/plain": [
       "          PLAYER POSITION TEAM GP   MPG   PTS    FGM-FGA   FG%   3PM-3PA  \\\n",
       "0  Stephen Curry       PG   GS  8  33.8  32.4  10.6-19.9  .535  5.1-10.9   \n",
       "1  Stephen Curry       PG   GS  8  33.8  32.4  10.6-19.9  .535  5.1-10.9   \n",
       "2  Stephen Curry       PG   GS  8  33.8  32.4  10.6-19.9  .535  5.1-10.9   \n",
       "3  Stephen Curry       PG   GS  8  33.8  32.4  10.6-19.9  .535  5.1-10.9   \n",
       "4  Stephen Curry       PG   GS  8  33.8  32.4  10.6-19.9  .535  5.1-10.9   \n",
       "\n",
       "    3P%  FTM-FTA   FT% AST  APG  TO TOPG AP48M AST/TO  \n",
       "0  .471  6.0-6.6  .906  47  5.9  23  2.9   8.4   2.04  \n",
       "1  .471  6.0-6.6  .906  47  5.9  23  2.9   8.4   2.04  \n",
       "2  .471  6.0-6.6  .906  47  5.9  23  2.9   8.4   2.04  \n",
       "3  .471  6.0-6.6  .906  47  5.9  23  2.9   8.4   2.04  \n",
       "4  .471  6.0-6.6  .906  47  5.9  23  2.9   8.4   2.04  "
      ]
     },
     "execution_count": 7,
     "metadata": {},
     "output_type": "execute_result"
    }
   ],
   "source": [
    "df_combined = pd.DataFrame.merge(df_scoring, df_assists)\n",
    "df_combined.head()"
   ]
  },
  {
   "cell_type": "code",
   "execution_count": null,
   "metadata": {
    "collapsed": true
   },
   "outputs": [],
   "source": []
  }
 ],
 "metadata": {
  "kernelspec": {
   "display_name": "Python 2",
   "language": "python",
   "name": "python2"
  },
  "language_info": {
   "codemirror_mode": {
    "name": "ipython",
    "version": 2
   },
   "file_extension": ".py",
   "mimetype": "text/x-python",
   "name": "python",
   "nbconvert_exporter": "python",
   "pygments_lexer": "ipython2",
   "version": "2.7.10"
  }
 },
 "nbformat": 4,
 "nbformat_minor": 0
}
