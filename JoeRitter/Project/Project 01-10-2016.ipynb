{
 "cells": [
  {
   "cell_type": "code",
   "execution_count": 1,
   "metadata": {
    "collapsed": false
   },
   "outputs": [],
   "source": [
    "import pandas as pd\n",
    "import numpy as np\n",
    "import statsmodels.formula.api as smf\n",
    "import patsy\n",
    "import seaborn as sns\n",
    "from seaborn import plt\n",
    "from sklearn.linear_model import LinearRegression\n",
    "from sklearn.cross_validation import train_test_split\n",
    "from sklearn.linear_model import RidgeCV\n",
    "import matplotlib.pyplot as plt\n",
    "%matplotlib inline"
   ]
  },
  {
   "cell_type": "code",
   "execution_count": 2,
   "metadata": {
    "collapsed": false
   },
   "outputs": [],
   "source": [
    "# import data set\n",
    "tdf = pd.read_csv('C:/Users/josep/documents/winston/train.csv')"
   ]
  },
  {
   "cell_type": "code",
   "execution_count": 3,
   "metadata": {
    "collapsed": false
   },
   "outputs": [
    {
     "name": "stdout",
     "output_type": "stream",
     "text": [
      "<class 'pandas.core.frame.DataFrame'>\n",
      "Int64Index: 40000 entries, 0 to 39999\n",
      "Columns: 211 entries, Id to Weight_Daily\n",
      "dtypes: float64(209), int64(2)\n",
      "memory usage: 64.7 MB\n"
     ]
    },
    {
     "data": {
      "text/plain": [
       "(40000, 211)"
      ]
     },
     "execution_count": 3,
     "metadata": {},
     "output_type": "execute_result"
    }
   ],
   "source": [
    "# review df info & shape\n",
    "tdf.info()\n",
    "tdf.shape"
   ]
  },
  {
   "cell_type": "code",
   "execution_count": 4,
   "metadata": {
    "collapsed": false,
    "scrolled": false
   },
   "outputs": [
    {
     "data": {
      "text/plain": [
       "Index([u'Id', u'Feature_1', u'Feature_2', u'Feature_3', u'Feature_4',\n",
       "       u'Feature_5', u'Feature_6', u'Feature_7', u'Feature_8', u'Feature_9',\n",
       "       ...\n",
       "       u'Ret_175', u'Ret_176', u'Ret_177', u'Ret_178', u'Ret_179', u'Ret_180',\n",
       "       u'Ret_PlusOne', u'Ret_PlusTwo', u'Weight_Intraday', u'Weight_Daily'],\n",
       "      dtype='object', length=211)"
      ]
     },
     "execution_count": 4,
     "metadata": {},
     "output_type": "execute_result"
    }
   ],
   "source": [
    "# replace blanks w/ zeros, not sure if this is necessary\n",
    "tdf0 = tdf.fillna(value=0)\n",
    "tdf0.columns"
   ]
  },
  {
   "cell_type": "code",
   "execution_count": 6,
   "metadata": {
    "collapsed": false
   },
   "outputs": [
    {
     "data": {
      "text/plain": [
       "Index([u'Feature_1', u'Feature_2', u'Feature_3', u'Feature_4', u'Feature_5',\n",
       "       u'Feature_6', u'Feature_7', u'Feature_8', u'Feature_9', u'Feature_10',\n",
       "       u'Feature_11', u'Feature_12', u'Feature_13', u'Feature_14',\n",
       "       u'Feature_15', u'Feature_16', u'Feature_17', u'Feature_18',\n",
       "       u'Feature_19', u'Feature_20', u'Feature_21', u'Feature_22',\n",
       "       u'Feature_23', u'Feature_24', u'Feature_25', u'Ret_MinusTwo',\n",
       "       u'Ret_MinusOne'],\n",
       "      dtype='object')"
      ]
     },
     "execution_count": 6,
     "metadata": {},
     "output_type": "execute_result"
    }
   ],
   "source": [
    "# create seperate of df of features\n",
    "df_features = tdf0.iloc[:, 1:28]\n",
    "df_features.columns"
   ]
  },
  {
   "cell_type": "code",
   "execution_count": 7,
   "metadata": {
    "collapsed": false
   },
   "outputs": [
    {
     "name": "stderr",
     "output_type": "stream",
     "text": [
      "C:\\Users\\josep\\Anaconda\\lib\\site-packages\\matplotlib\\collections.py:590: FutureWarning: elementwise comparison failed; returning scalar instead, but in the future will perform elementwise comparison\n",
      "  if self._edgecolors == str('face'):\n"
     ]
    },
    {
     "data": {
      "text/plain": [
       "<matplotlib.axes._subplots.AxesSubplot at 0x1f81e390>"
      ]
     },
     "execution_count": 7,
     "metadata": {},
     "output_type": "execute_result"
    },
    {
     "data": {
      "image/png": "[encoded data removed]",
      "text/plain": [
       "<matplotlib.figure.Figure at 0x3bd08d0>"
      ]
     },
     "metadata": {},
     "output_type": "display_data"
    }
   ],
   "source": [
    "# correlation of features\n",
    "sns.set(style=\"white\")\n",
    "corr = df_features.corr()\n",
    "mask = np.zeros_like(corr, dtype=np.bool)\n",
    "mask[np.triu_indices_from(mask)] = True\n",
    "f, ax = plt.subplots(figsize=(11, 9))\n",
    "cmap = sns.diverging_palette(220, 10, as_cmap=True)\n",
    "sns.heatmap(corr, mask=mask, cmap=cmap, vmax=.3,\n",
    "            square=True, xticklabels=10, yticklabels=10,\n",
    "            linewidths=.5, cbar_kws={\"shrink\": 0.8}, ax=ax)"
   ]
  },
  {
   "cell_type": "code",
   "execution_count": 11,
   "metadata": {
    "collapsed": false
   },
   "outputs": [
    {
     "name": "stderr",
     "output_type": "stream",
     "text": [
      "C:\\Users\\josep\\Anaconda\\lib\\site-packages\\ipykernel\\__main__.py:1: FutureWarning: order is deprecated, use sort_values(...)\n",
      "  if __name__ == '__main__':\n"
     ]
    },
    {
     "data": {
      "text/plain": [
       "Ret_MinusTwo    1.000000\n",
       "Ret_MinusOne    0.041609\n",
       "Feature_20      0.027358\n",
       "Feature_6       0.009513\n",
       "Feature_18      0.007927\n",
       "Feature_12      0.007498\n",
       "Feature_21      0.006131\n",
       "Feature_22      0.005272\n",
       "Feature_2       0.003246\n",
       "Feature_8       0.002575\n",
       "Feature_1       0.002356\n",
       "Feature_25      0.001715\n",
       "Feature_10      0.001558\n",
       "Feature_14      0.001398\n",
       "Feature_24      0.001102\n",
       "Feature_4       0.000378\n",
       "Feature_11      0.000215\n",
       "Feature_23     -0.000052\n",
       "Feature_16     -0.000132\n",
       "Feature_15     -0.000782\n",
       "Feature_9      -0.002522\n",
       "Feature_3      -0.003759\n",
       "Feature_19     -0.003771\n",
       "Feature_5      -0.006809\n",
       "Feature_17     -0.010090\n",
       "Feature_13     -0.016573\n",
       "Feature_7      -0.020485\n",
       "Name: Ret_MinusTwo, dtype: float64"
      ]
     },
     "execution_count": 11,
     "metadata": {},
     "output_type": "execute_result"
    }
   ],
   "source": [
    "df_features.corr()['Ret_MinusTwo'].order(ascending=False)"
   ]
  },
  {
   "cell_type": "code",
   "execution_count": 12,
   "metadata": {
    "collapsed": false
   },
   "outputs": [
    {
     "name": "stderr",
     "output_type": "stream",
     "text": [
      "C:\\Users\\josep\\Anaconda\\lib\\site-packages\\ipykernel\\__main__.py:1: FutureWarning: order is deprecated, use sort_values(...)\n",
      "  if __name__ == '__main__':\n"
     ]
    },
    {
     "data": {
      "text/plain": [
       "Ret_MinusOne    1.000000\n",
       "Ret_MinusTwo    0.041609\n",
       "Feature_16      0.032606\n",
       "Feature_14      0.023691\n",
       "Feature_13      0.022273\n",
       "Feature_20      0.019291\n",
       "Feature_15      0.011651\n",
       "Feature_4       0.009792\n",
       "Feature_3       0.006571\n",
       "Feature_24      0.004266\n",
       "Feature_21      0.002894\n",
       "Feature_23      0.002817\n",
       "Feature_1       0.002131\n",
       "Feature_17      0.000320\n",
       "Feature_2      -0.000129\n",
       "Feature_18     -0.000160\n",
       "Feature_6      -0.000558\n",
       "Feature_9      -0.005009\n",
       "Feature_11     -0.005417\n",
       "Feature_8      -0.005684\n",
       "Feature_10     -0.006315\n",
       "Feature_5      -0.006562\n",
       "Feature_12     -0.007372\n",
       "Feature_22     -0.009005\n",
       "Feature_7      -0.011394\n",
       "Feature_25     -0.013835\n",
       "Feature_19     -0.015150\n",
       "Name: Ret_MinusOne, dtype: float64"
      ]
     },
     "execution_count": 12,
     "metadata": {},
     "output_type": "execute_result"
    }
   ],
   "source": [
    "df_features.corr()['Ret_MinusOne'].order(ascending=False)"
   ]
  },
  {
   "cell_type": "code",
   "execution_count": null,
   "metadata": {
    "collapsed": false,
    "scrolled": true
   },
   "outputs": [],
   "source": []
  },
  {
   "cell_type": "code",
   "execution_count": null,
   "metadata": {
    "collapsed": true
   },
   "outputs": [],
   "source": []
  },
  {
   "cell_type": "code",
   "execution_count": null,
   "metadata": {
    "collapsed": true
   },
   "outputs": [],
   "source": []
  },
  {
   "cell_type": "code",
   "execution_count": null,
   "metadata": {
    "collapsed": true
   },
   "outputs": [],
   "source": []
  },
  {
   "cell_type": "code",
   "execution_count": null,
   "metadata": {
    "collapsed": false
   },
   "outputs": [],
   "source": [
    "df_intra = tdf0.iloc[:, 28:207]\n",
    "df_intra.info()"
   ]
  },
  {
   "cell_type": "code",
   "execution_count": null,
   "metadata": {
    "collapsed": true
   },
   "outputs": [],
   "source": []
  },
  {
   "cell_type": "code",
   "execution_count": null,
   "metadata": {
    "collapsed": true
   },
   "outputs": [],
   "source": []
  }
 ],
 "metadata": {
  "kernelspec": {
   "display_name": "Python 2",
   "language": "python",
   "name": "python2"
  },
  "language_info": {
   "codemirror_mode": {
    "name": "ipython",
    "version": 2
   },
   "file_extension": ".py",
   "mimetype": "text/x-python",
   "name": "python",
   "nbconvert_exporter": "python",
   "pygments_lexer": "ipython2",
   "version": "2.7.10"
  }
 },
 "nbformat": 4,
 "nbformat_minor": 0
}
