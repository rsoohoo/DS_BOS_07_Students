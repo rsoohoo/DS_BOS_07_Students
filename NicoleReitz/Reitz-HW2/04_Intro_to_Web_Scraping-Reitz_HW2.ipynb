{
 "cells": [
  {
   "cell_type": "markdown",
   "metadata": {},
   "source": [
    "# Web Scraping with Beautiful Soup\n",
    "\n",
    "This tutorial will provide a very basic introduction to using the Beautiful Soup package to scrape text data from the web. \n",
    "\n",
    "## Installation\n",
    "\n",
    "In a terminal, install Beautiful Soup if necessary by running <pre><code>conda install beautiful-soup</code></pre>\n",
    "\n",
    "## Retrieving HTML\n",
    "\n",
    "The general idea behind web scraping is to retrieve data that exists on a website, and convert it into a format that is usable for analysis. Webpages are rendered by the brower from HTML and CSS code, but much of the information included in the HTML underlying any website is not interesting to us.\n",
    "\n",
    "We begin by reading in the source code for a given web page and creating a Beautiful Soup object with the BeautifulSoup function.\n",
    "\n",
    "### urllib2\n",
    "urllib2 is a module for working with urls, we will use it to open connections to urls and retrieve the webpage source."
   ]
  },
  {
   "cell_type": "code",
   "execution_count": 1,
   "metadata": {
    "collapsed": false
   },
   "outputs": [
    {
     "name": "stdout",
     "output_type": "stream",
     "text": [
      "<class 'bs4.BeautifulSoup'>\n"
     ]
    }
   ],
   "source": [
    "from bs4 import BeautifulSoup\n",
    "import urllib2\n",
    "page = urllib2.urlopen('http://espn.go.com/nba/statistics/player/_/stat/scoring-per-game/sort/avgPoints/qualified/false').read()\n",
    "soup = BeautifulSoup(page)\n",
    "print type(soup)"
   ]
  },
  {
   "cell_type": "markdown",
   "metadata": {},
   "source": [
    "The soup object contains all of the HTML in the original document."
   ]
  },
  {
   "cell_type": "code",
   "execution_count": 2,
   "metadata": {
    "collapsed": false
   },
   "outputs": [
    {
     "data": {
      "text/plain": [
       "u'<!DOCTYPE html>\\n<html xmlns:fb=\"http://www.facebook.com/2008/fbml\">\\n <head>\\n  <script src=\"http://sports-ak.espn.go.com/sports/optimizely.js\">\\n  </script>\\n  <meta charset=\"utf-8\"/>\\n  <meta content=\"IE=edge,chrome=1\" http-equiv=\"X-UA-Compatible\"/>\\n  <link href=\"http://a.espncdn.com/prod/assets/icons/E.svg\" mask=\"\" rel=\"icon\" sizes=\"any\"/>\\n  <meta content=\"#CC0000\" name=\"theme-color\"/>\\n  <script type=\"text/javascript\">\\n   if(true && navigator && navigator.userAgent.toLowerCase().indexOf(\"teamstream\") >= 0) {\\n        window.location = \\'http://a.m.espn.go.com/mobilecache/general/apps/sc\\';\\n    }\\n  </script>\\n  <title>\\n   2015-16 Regular Season NBA Player Stats and League Leaders - Scoring Per Game - National Basketball Association - ESPN\\n  </title>\\n  <meta content=\"xuj1ODRluWa0frM-BjIr_aSHoUC7HB5C1MgmYAM_GkA\" name=\"google-site-verification\"/>\\n  <meta content=\"B1FEB7C682C46C8FCDA3130F3D18AC28\" name=\"msvalidate.01\"/>\\n  <meta content=\"noodp\" name=\"googlebot\"/>\\n  <meta content=\"index, follow\" na'"
      ]
     },
     "execution_count": 2,
     "metadata": {},
     "output_type": "execute_result"
    }
   ],
   "source": [
    "soup.prettify()[0:1000]"
   ]
  },
  {
   "cell_type": "markdown",
   "metadata": {},
   "source": [
    "## Parsing HTML\n",
    "\n",
    "By \"parsing HTML\", we mean pulling out only the relevant tags/attributes for our analysis.  What Beautiful Soup does is provide a handy bunch of methods for doing this efficiently.\n",
    "\n",
    "### find method\n",
    "\n",
    "The find method will search for and return the first tag matching your corresponding search criteria, if it exists.  You can specify tag and attribute info etc.  There is also a findAll method that will return a collection of tags matching your query."
   ]
  },
  {
   "cell_type": "code",
   "execution_count": 3,
   "metadata": {
    "collapsed": false
   },
   "outputs": [
    {
     "name": "stdout",
     "output_type": "stream",
     "text": [
      "<div class=\"col-main\" id=\"my-players-table\">\n",
      " <div class=\"mod-container mod-table\">\n",
      "  <div class=\"mod-header stathead\">\n",
      "   <h4>\n",
      "    Points Per Game Leaders - All Players\n",
      "   </h4>\n",
      "  </div>\n",
      "  <div class=\"mod-content\">\n",
      "   <table cellpadding=\"3\" cellspacing=\"1\" class=\"tablehead\">\n",
      "    <tr align=\"right\" class=\"colhead\">\n",
      "     <td align=\"left\" style=\"width:20px;\">\n",
      "      RK\n",
      "     </td>\n",
      "     <td align=\"left\">\n",
      "      PLAYER\n",
      "     </td>\n",
      "     <td align=\"left\">\n",
      "      TEAM\n",
      "     </td>\n",
      "     <td>\n",
      "      <a href=\"http://espn.go.com/nba/statistics/player/_/stat/scoring-per-game/sort/gamesPlayed/qualified/false\" title=\"Games Played\">\n",
      "       GP\n",
      "      </a>\n",
      "     </td>\n",
      "     <td>\n",
      "      <a href=\"http://espn.go.com/nba/statistics/player/_/stat/scoring-per-game/sort/avgMinutes/qualified/false\" title=\"Minutes Per Game\">\n",
      "       MPG\n",
      "      </a>\n",
      "     </td>\n",
      "     <td>\n",
      "      <a href=\"http://espn.go.com/nba/statistics/player/_/stat/scoring-per-game/sort/avgPoints/qualified/false/order/false\" title=\"Points Per Game\">\n",
      "       PTS\n",
      "      </a>\n",
      "     </td>\n",
      "     <td>\n",
      "      <span title=\"Field Goals Made-Attempted Per Game\">\n",
      "       FGM-FGA\n",
      "      </span>\n",
      "     </td>\n",
      "     <td>\n",
      "      <a href=\"http://espn.go.com/nba/statistics/player/_/stat/scoring-per-game/sort/fieldGoalPct/qualified/false\" title=\"Field Goal Percentage\">\n",
      "       FG%\n",
      "      </a>\n",
      "     </td>\n",
      "     <td>\n",
      "      <span title=\"3-Point Field Goals Made-Attempted Per Game\">\n",
      "       3PM-3PA\n",
      "      </span>\n",
      "     </td>\n",
      "     <td>\n",
      "      <a href=\"http://espn.go.com/nba/statistics/player/_/stat/scoring-per-game/sort/threePointFieldGoalPct/qualified/false\" title=\"3-Point Field Goal Percentage\">\n",
      "       3P%\n",
      "      </a>\n",
      "     </td>\n",
      "     <td>\n",
      "      <span title=\"Free Throws Made-Attempted Per Game\">\n",
      "       FTM-FTA\n",
      "      </span>\n",
      "     </td>\n",
      "     <td>\n",
      "      <a href=\"http://espn.go.com/nba/statistics/player/_/stat/scoring-per-game/sort/freeThrowPct/qualified/false\" title=\"Free Throws Percentage\">\n",
      "       FT%\n",
      "      </a>\n",
      "     </td>\n",
      "    </tr>\n",
      "    <tr align=\"right\" class=\"oddrow player-46-3975\">\n",
      "     <td align=\"left\">\n",
      "      1\n",
      "     </td>\n",
      "     <td align=\"left\">\n",
      "      <a href=\"http://espn.go.com/nba/player/_/id/3975/stephen-curry\">\n",
      "       Stephen Curry\n",
      "      </a>\n",
      "      , PG\n",
      "     </td>\n",
      "     <td align=\"left\">\n",
      "      GS\n",
      "     </td>\n",
      "     <td>\n",
      "      14\n",
      "     </td>\n",
      "     <td>\n",
      "      35.6\n",
      "     </td>\n",
      "     <td class=\"sortcell\">\n",
      "      33.6\n",
      "     </td>\n",
      "     <td>\n",
      "      11.1-21.5\n",
      "     </td>\n",
      "     <td>\n",
      "      .515\n",
      "     </td>\n",
      "     <td>\n",
      "      5.1-11.5\n",
      "     </td>\n",
      "     <td>\n",
      "      .441\n",
      "     </td>\n",
      "     <td>\n",
      "      6.4-6.9\n",
      "     </td>\n",
      "     <td>\n",
      "      .938\n",
      "     </td>\n",
      "    </tr>\n",
      "    <tr align=\"right\" class=\"evenrow player-46-3468\">\n",
      "     <td align=\"left\">\n",
      "      2\n",
      "     </td>\n",
      "     <td align=\"left\">\n",
      "      <a href=\"http://espn.go.com/nba/player/_/id/3468/russell-westbrook\">\n",
      "       Russell Westbrook\n",
      "      </a>\n",
      "      , PG\n",
      "     </td>\n",
      "     <td align=\"left\">\n",
      "      OKC\n",
      "     </td>\n",
      "     <td>\n",
      "      13\n",
      "     </td>\n",
      "     <td>\n",
      "      35.2\n",
      "     </td>\n",
      "     <td class=\"sortcell\">\n",
      "      28.5\n",
      "     </td>\n",
      "     <td>\n",
      "      9.8-21.5\n",
      "     </td>\n",
      "     <td>\n",
      "      .459\n",
      "     </td>\n",
      "     <td>\n",
      "      1.9-5.8\n",
      "     </td>\n",
      "     <td>\n",
      "      .329\n",
      "     </td>\n",
      "     <td>\n",
      "      6.9-8.5\n",
      "     </td>\n",
      "     <td>\n",
      "      .811\n",
      "     </td>\n",
      "    </tr>\n",
      "    <tr align=\"right\" class=\"oddrow player-46-3992\">\n",
      "     <td align=\"left\">\n",
      "      3\n",
      "     </td>\n",
      "     <td align=\"left\">\n",
      "      <a href=\"http://espn.go.com/nba/player/_/id/3992/james-harden\">\n",
      "       James Harden\n",
      "      </a>\n",
      "      , SG\n",
      "     </td>\n",
      "     <td align=\"left\">\n",
      "      HOU\n",
      "     </td>\n",
      "     <td>\n",
      "      13\n",
      "     </td>\n",
      "     <td>\n",
      "      39.0\n",
      "     </td>\n",
      "     <td class=\"sortcell\">\n",
      "      28.2\n",
      "     </td>\n",
      "     <td>\n",
      "      7.8-20.5\n",
      "     </td>\n",
      "     <td>\n",
      "      .378\n",
      "     </td>\n",
      "     <td>\n",
      "      2.5-9.6\n",
      "     </td>\n",
      "     <td>\n",
      "      .256\n",
      "     </td>\n",
      "     <td>\n",
      "      10.2-11.6\n",
      "     </td>\n",
      "     <td>\n",
      "      .881\n",
      "     </td>\n",
      "    </tr>\n",
      "    <tr align=\"right\" class=\"evenrow player-46-3202\">\n",
      "     <td align=\"left\">\n",
      "      4\n",
      "     </td>\n",
      "     <td align=\"left\">\n",
      "      <a href=\"http://espn.go.com/nba/player/_/id/3202/kevin-durant\">\n",
      "       Kevin Durant\n",
      "   \n"
     ]
    }
   ],
   "source": [
    "table_div = soup.find(id='my-players-table')\n",
    "print table_div.prettify()[0:4000]"
   ]
  },
  {
   "cell_type": "markdown",
   "metadata": {},
   "source": [
    "Notice that the object returned by the find method is just another inner HTML structure, which we can step through just like we would have with the original soup object.  We've gone to the location in the webpage where the table that we seek starts, now we can use find again to get to the table data."
   ]
  },
  {
   "cell_type": "code",
   "execution_count": 4,
   "metadata": {
    "collapsed": false
   },
   "outputs": [
    {
     "name": "stdout",
     "output_type": "stream",
     "text": [
      "<table cellpadding=\"3\" cellspacing=\"1\" class=\"tablehead\">\n",
      "<tr align=\"right\" class=\"colhead\"><td align=\"left\" style=\"width:20px;\">RK</td><td align=\"left\">PLAYER</td><td align=\"left\">TEAM</td><td><a href=\"http://espn.go.com/nba/statistics/player/_/stat/scoring-per-game/sort/gamesPlayed/qualified/false\" title=\"Games Played\">GP</a></td><td><a href=\"http://espn.go.com/nba/statistics/player/_/stat/scoring-per-game/sort/avgMinutes/qualified/false\" title=\"Minutes Per Game\">MPG</a></td><td><a href=\"http://espn.go.com/nba/statistics/player/_/stat/scoring-per-game/sort/avgPoints/qualified/false/order/false\" title=\"Points Per Game\">PTS</a></td><td><span title=\"Field Goals Made-Attempted Per Game\">FGM-FGA</span></td><td><a href=\"http://espn.go.com/nba/statistics/player/_/stat/scoring-per-game/sort/fieldGoalPct/qualified/false\" title=\"Field Goal Percentage\">FG%</a></td><td><span title=\"3-Point Field Goals Made-Attempted Per Game\">3PM-3PA</span></td><td><a href=\"http://espn.go.com/nba/statistics/player/_/stat/scoring-per-game/sort/threePointFieldGoalPct/qualified/false\" title=\"3-Point Field Goal Percentage\">3P%</a></td><td><span title=\"Free Throws Made-Attempted Per Game\">FTM-FTA</span></td><td><a href=\"http://espn.go.com/nba/statistics/player/_/stat/scoring-per-game/sort/freeThrowPct/qualified/false\" title=\"Free Throws Percentage\">FT%</a></td></tr><tr align=\"right\" class=\"oddrow player-46-3975\"><td align=\"left\">1</td><td align=\"left\"><a href=\"http://espn.go.com/nba/player/_/id/3975/stephen-curry\">Stephen Curry</a>, PG</td><td align=\"left\">GS</td><td>14</td><td>35.6</td><td class=\"sortcell\">33.6</td><td>11.1-21.5</td><td>.515</td><td>5.1-11.5</td><td>.441</td><td>6.4-6.9</td><td>.938</td></tr><tr align=\"right\" class=\"evenrow player-46-3468\"><td align=\"left\">2</td><td align=\"left\"><a href=\"http://espn.go.com/nba/player/_/id/3468/russell-westbrook\">Russell Westbrook</a>, PG</td><td align=\"left\">OKC</td><td>13</td><td>35.2</td><td class=\"sortcell\">28.5</td><td>9.8-21.5</td><td>.459</td><td>1.9-5.8</td><td>.329</td><td>6.9-8.5</td><td>.811</td></tr><tr align=\"right\" class=\"oddrow player-46-3992\"><td align=\"left\">3</td><td align=\"left\"><a href=\"http://espn.go.com/nba/player/_/id/3992/james-harden\">James Harden</a>, SG</td><td align=\"left\">HOU</td><td>13</td><td>39.0</td><td class=\"sortcell\">28.2</td><td>7.8-20.5</td><td>.378</td><td>2.5-9.6</td><td>.256</td><td>10.2-11.6</td><td>.881</td></tr><tr align=\"right\" class=\"evenrow player-46-3202\"><td align=\"left\">4</td><td align=\"left\"><a href=\"http://espn.go.com/nba/player/_/id/3202/kevin-durant\">Kevin Durant</a>, SF</td><td align=\"left\">OKC</td><td>8</td><td>34.8</td><td class=\"sortcell\">28.1</td><td>9.6-19.1</td><td>.503</td><td>2.6-5.9</td><td>.447</td><td>6.3-7.0</td><td>.893</td></tr><tr align=\"right\" class=\"oddrow player-46-4258\"><td align=\"left\">5</td><td align=\"left\"><a href=\"http://espn.go.com/nba/player/_/id/4258/demarcus-cousins\">DeMarcus Cousins</a>, PF</td><td align=\"left\">SAC</td><td>8</td><td>32.3</td><td class=\"sortcell\">27.5</td><td>8.6-20.0</td><td>.431</td><td>1.8-4.3</td><td>.412</td><td>8.5-11.1</td><td>.764</td></tr><tr align=\"right\" class=\"evenrow player-46-1966\"><td align=\"left\">6</td><td align=\"left\"><a href=\"http://espn.go.com/nba/player/_/id/1966/lebron-james\">LeBron James</a>, SF</td><td align=\"left\">CLE</td><td>12</td><td>36.5</td><td class=\"sortcell\">27.3</td><td>10.4-20.2</td><td>.517</td><td>1.3-4.2</td><td>.320</td><td>5.1-7.9</td><td>.642</td></tr><tr align=\"right\" class=\"oddrow player-46-3989\"><td align=\"left\">7</td><td align=\"left\"><a href=\"http://espn.go.com/nba/player/_/id/3989/blake-griffin\">Blake Griffin</a>, PF</td><td align=\"left\">LAC</td><td>12</td><td>34.3</td><td class=\"sortcell\">26.2</td><td>10.6-19.2</td><td>.552</td><td>0.1-0.4</td><td>.200</td><td>4.9-6.6</td><td>.747</td></tr><tr align=\"right\" class=\"evenrow player-46-4251\"><td align=\"left\">8</td><td align=\"left\"><a href=\"http://espn.go.com/nba/player/_/id/4251/paul-george\">Paul George</a>, SF</td><td align=\"left\">IND</td><td>12</td><td>36.1</td><td class=\"sortcell\">25.3</td><td>8.3-18.8</td><td>.442</td><td>2.7-6.3</td><td>.427</td><td>5.9-7.0</td><td>.845</td></tr><tr align=\"right\" class=\"oddrow player-46-6606\"><td align=\"left\">9</td><td align=\"left\"><a href=\"http://espn.go.com/nba/player/_/id/6606/damian-lillard\">Damian Lillard</a>, PG</td><td align=\"left\">POR</td><td>14</td><td>37.6</td><td class=\"sortcell\">25.2</td><td>8.9-20.6</td><td>.429</td><td>3.0-8.0</td><td>.375</td><td>4.5-5.2</td><td>.863</td></tr><tr align=\"right\" class=\"evenrow player-46-1975\"><td align=\"left\">10</td><td align=\"left\"><a href=\"http://espn.go.com/nba/player/_/id/1975/carmelo-anthony\">Carmelo Anthony</a>, SF</td><td align=\"left\">NY</td><td>13</td><td>34.8</td><td class=\"sortcell\">23.2</td><td>8.2-19.9</td><td>.409</td><td>1.8-5.1</td><td>.348</td><td>5.2-5.9</td><td>.870</td></tr><tr align=\"right\" class=\"colhead\"><td align=\"left\" style=\"width:20px;\">RK</td><td align=\"left\">PLAYER</td><td align=\"left\">TEAM</td><td><a href=\"http://espn.go.com/nba/statistics/player/_/stat/scoring-per-game/sort/gamesPlayed/qualified/false\" title=\"Games Played\">GP</a></td><td><a href=\"http://espn.go.com/nba/statistics/player/_/stat/scoring-per-game/sort/avgMinutes/qualified/false\" title=\"Minutes Per Game\">MPG</a></td><td><a href=\"http://espn.go.com/nba/statistics/player/_/stat/scoring-per-game/sort/avgPoints/qualified/false/order/false\" title=\"Points Per Game\">PTS</a></td><td><span title=\"Field Goals Made-Attempted Per Game\">FGM-FGA</span></td><td><a href=\"http://espn.go.com/nba/statistics/player/_/stat/scoring-per-game/sort/fieldGoalPct/qualified/false\" title=\"Field Goal Percentage\">FG%</a></td><td><span title=\"3-Point Field Goals Made-Attempted Per Game\">3PM-3PA</span></td><td><a href=\"http://espn.go.com/nba/statistics/player/_/stat/scoring-per-game/sort/threePointFieldGoalPct/qualified/false\" title=\"3-Point Field Goal Percentage\">3P%</a></td><td><span title=\"Free Throws Made-Attempted Per Game\">FTM-FTA</span></td><td><a href=\"http://espn.go.com/nba/statistics/player/_/stat/scoring-per-game/sort/freeThrowPct/qualified/false\" title=\"Free Throws Percentage\">FT%</a></td></tr><tr align=\"right\" class=\"oddrow player-46-4238\"><td align=\"left\">11</td><td align=\"left\"><a href=\"http://espn.go.com/nba/player/_/id/4238/eric-bledsoe\">Eric Bledsoe</a>, PG</td><td align=\"left\">PHX</td><td>12</td><td>34.3</td><td class=\"sortcell\">22.8</td><td>8.3-17.2</td><td>.481</td><td>1.7-4.4</td><td>.377</td><td>4.6-5.8</td><td>.797</td></tr><tr align=\"right\" class=\"evenrow player-46-6580\"><td align=\"left\">12</td><td align=\"left\"><a href=\"http://espn.go.com/nba/player/_/id/6580/bradley-beal\">Bradley Beal</a>, SG</td><td align=\"left\">WSH</td><td>6</td><td>34.7</td><td class=\"sortcell\">22.7</td><td>8.7-17.8</td><td>.486</td><td>2.7-5.7</td><td>.471</td><td>2.7-3.3</td><td>.800</td></tr><tr align=\"right\" class=\"oddrow player-46-6583\"><td align=\"left\">13</td><td align=\"left\"><a href=\"http://espn.go.com/nba/player/_/id/6583/anthony-davis\">Anthony Davis</a>, PF</td><td align=\"left\">NO</td><td>10</td><td>33.4</td><td class=\"sortcell\">22.4</td><td>8.1-17.4</td><td>.466</td><td>0.7-2.0</td><td>.350</td><td>5.5-7.4</td><td>.743</td></tr><tr align=\"right\" class=\"evenrow player-46-6448\"><td align=\"left\">14</td><td align=\"left\"><a href=\"http://espn.go.com/nba/player/_/id/6448/brandon-knight\">Brandon Knight</a>, PG</td><td align=\"left\">PHX</td><td>12</td><td>34.8</td><td class=\"sortcell\">21.9</td><td>8.0-17.7</td><td>.453</td><td>2.8-6.7</td><td>.413</td><td>3.2-3.8</td><td>.844</td></tr><tr align=\"right\" class=\"oddrow player-46-3059319\"><td align=\"left\">15</td><td align=\"left\"><a href=\"http://espn.go.com/nba/player/_/id/3059319/andrew-wiggins\">Andrew Wiggins</a>, SG</td><td align=\"left\">MIN</td><td>12</td><td>34.5</td><td class=\"sortcell\">21.5</td><td>7.6-17.7</td><td>.429</td><td>0.8-2.4</td><td>.310</td><td>5.6-7.7</td><td>.728</td></tr><tr align=\"right\" class=\"evenrow player-46-6450\"><td align=\"left\"> </td><td align=\"left\"><a href=\"http://espn.go.com/nba/player/_/id/6450/kawhi-leonard\">Kawhi Leonard</a>, SF</td><td align=\"left\">SA</td><td>11</td><td>33.7</td><td class=\"sortcell\">21.5</td><td>8.8-17.1</td><td>.516</td><td>1.7-3.9</td><td>.442</td><td>2.1-2.5</td><td>.852</td></tr><tr align=\"right\" class=\"oddrow player-46-6430\"><td align=\"left\">17</td><td align=\"left\"><a href=\"http://espn.go.com/nba/player/_/id/6430/jimmy-butler\">Jimmy Butler</a>, SG</td><td align=\"left\">CHI</td><td>12</td><td>36.5</td><td class=\"sortcell\">21.0</td><td>7.0-15.3</td><td>.459</td><td>1.5-3.8</td><td>.391</td><td>5.5-7.2</td><td>.767</td></tr><tr align=\"right\" class=\"evenrow player-46-3978\"><td align=\"left\">18</td><td align=\"left\"><a href=\"http://espn.go.com/nba/player/_/id/3978/demar-derozan\">DeMar DeRozan</a>, SG</td><td align=\"left\">TOR</td><td>14</td><td>35.5</td><td class=\"sortcell\">20.9</td><td>6.6-15.7</td><td>.423</td><td>0.3-1.4</td><td>.200</td><td>7.3-8.9</td><td>.816</td></tr><tr align=\"right\" class=\"oddrow player-46-3012\"><td align=\"left\">19</td><td align=\"left\"><a href=\"http://espn.go.com/nba/player/_/id/3012/kyle-lowry\">Kyle Lowry</a>, PG</td><td align=\"left\">TOR</td><td>14</td><td>35.2</td><td class=\"sortcell\">20.6</td><td>6.1-14.9</td><td>.411</td><td>2.8-6.7</td><td>.415</td><td>5.6-6.3</td><td>.886</td></tr><tr align=\"right\" class=\"evenrow player-46-6472\"><td align=\"left\"> </td><td align=\"left\"><a href=\"http://espn.go.com/nba/player/_/id/6472/isaiah-thomas\">Isaiah Thomas</a>, PG</td><td align=\"left\">BOS</td><td>12</td><td>30.2</td><td class=\"sortcell\">20.6</td><td>7.0-16.6</td><td>.422</td><td>2.2-6.8</td><td>.321</td><td>4.4-5.3</td><td>.841</td></tr><tr align=\"right\" class=\"colhead\"><td align=\"left\" style=\"width:20px;\">RK</td><td align=\"left\">PLAYER</td><td align=\"left\">TEAM</td><td><a href=\"http://espn.go.com/nba/statistics/player/_/stat/scoring-per-game/sort/gamesPlayed/qualified/false\" title=\"Games Played\">GP</a></td><td><a href=\"http://espn.go.com/nba/statistics/player/_/stat/scoring-per-game/sort/avgMinutes/qualified/false\" title=\"Minutes Per Game\">MPG</a></td><td><a href=\"http://espn.go.com/nba/statistics/player/_/stat/scoring-per-game/sort/avgPoints/qualified/false/order/false\" title=\"Points Per Game\">PTS</a></td><td><span title=\"Field Goals Made-Attempted Per Game\">FGM-FGA</span></td><td><a href=\"http://espn.go.com/nba/statistics/player/_/stat/scoring-per-game/sort/fieldGoalPct/qualified/false\" title=\"Field Goal Percentage\">FG%</a></td><td><span title=\"3-Point Field Goals Made-Attempted Per Game\">3PM-3PA</span></td><td><a href=\"http://espn.go.com/nba/statistics/player/_/stat/scoring-per-game/sort/threePointFieldGoalPct/qualified/false\" title=\"3-Point Field Goal Percentage\">3P%</a></td><td><span title=\"Free Throws Made-Attempted Per Game\">FTM-FTA</span></td><td><a href=\"http://espn.go.com/nba/statistics/player/_/stat/scoring-per-game/sort/freeThrowPct/qualified/false\" title=\"Free Throws Percentage\">FT%</a></td></tr><tr align=\"right\" class=\"oddrow player-46-6443\"><td align=\"left\">21</td><td align=\"left\"><a href=\"http://espn.go.com/nba/player/_/id/6443/reggie-jackson\">Reggie Jackson</a>, PG</td><td align=\"left\">DET</td><td>12</td><td>31.8</td><td class=\"sortcell\">20.4</td><td>7.4-17.1</td><td>.434</td><td>1.5-4.3</td><td>.353</td><td>4.1-4.9</td><td>.831</td></tr><tr align=\"right\" class=\"evenrow player-46-2490149\"><td align=\"left\">22</td><td align=\"left\"><a href=\"http://espn.go.com/nba/player/_/id/2490149/c.j.-mccollum\">C.J. McCollum</a>, SG</td><td align=\"left\">POR</td><td>14</td><td>34.9</td><td class=\"sortcell\">20.1</td><td>7.6-17.1</td><td>.442</td><td>1.9-5.3</td><td>.365</td><td>3.1-3.5</td><td>.878</td></tr><tr align=\"right\" class=\"oddrow player-46-3448\"><td align=\"left\">23</td><td align=\"left\"><a href=\"http://espn.go.com/nba/player/_/id/3448/brook-lopez\">Brook Lopez</a>, C</td><td align=\"left\">BKN</td><td>13</td><td>34.0</td><td class=\"sortcell\">19.5</td><td>7.5-15.6</td><td>.478</td><td>0.0-0.2</td><td>.000</td><td>4.5-5.5</td><td>.831</td></tr><tr align=\"right\" class=\"evenrow player-46-6588\"><td align=\"left\">24</td><td align=\"left\"><a href=\"http://espn.go.com/nba/player/_/id/6588/evan-fournier\">Evan Fournier</a>, SF</td><td align=\"left\">ORL</td><td>12</td><td>38.4</td><td class=\"sortcell\">19.4</td><td>7.2-15.4</td><td>.465</td><td>2.4-6.2</td><td>.392</td><td>2.7-3.3</td><td>.800</td></tr><tr align=\"right\" class=\"oddrow player-46-6585\"><td align=\"left\">25</td><td align=\"left\"><a href=\"http://espn.go.com/nba/player/_/id/6585/andre-drummond\">Andre Drummond</a>, C</td><td align=\"left\">DET</td><td>12</td><td>36.7</td><td class=\"sortcell\">19.3</td><td>8.2-14.9</td><td>.547</td><td>0.0-0.0</td><td>.000</td><td>2.9-6.9</td><td>.422</td></tr><tr align=\"right\" class=\"evenrow player-46-609\"><td align=\"left\">26</td><td align=\"left\"><a href=\"http://espn.go.com/nba/player/_/id/609/dirk-nowitzki\">Dirk Nowitzki</a>, PF</td><td align=\"left\">DAL</td><td>12</td><td>28.9</td><td class=\"sortcell\">18.6</td><td>7.0-13.2</td><td>.532</td><td>2.0-3.8</td><td>.533</td><td>2.6-2.8</td><td>.912</td></tr><tr align=\"right\" class=\"oddrow player-46-1977\"><td align=\"left\">27</td><td align=\"left\"><a href=\"http://espn.go.com/nba/player/_/id/1977/chris-bosh\">Chris Bosh</a>, PF</td><td align=\"left\">MIA</td><td>11</td><td>32.5</td><td class=\"sortcell\">18.5</td><td>6.5-13.8</td><td>.467</td><td>1.6-4.4</td><td>.375</td><td>4.0-4.9</td><td>.815</td></tr><tr align=\"right\" class=\"evenrow player-46-3412\"><td align=\"left\"> </td><td align=\"left\"><a href=\"http://espn.go.com/nba/player/_/id/3412/ryan-anderson\">Ryan Anderson</a>, PF</td><td align=\"left\">NO</td><td>13</td><td>32.5</td><td class=\"sortcell\">18.5</td><td>7.2-15.2</td><td>.475</td><td>2.2-5.9</td><td>.377</td><td>1.8-2.3</td><td>.800</td></tr><tr align=\"right\" class=\"oddrow player-46-3431\"><td align=\"left\">29</td><td align=\"left\"><a href=\"http://espn.go.com/nba/player/_/id/3431/eric-gordon\">Eric Gordon</a>, SG</td><td align=\"left\">NO</td><td>13</td><td>35.9</td><td class=\"sortcell\">18.4</td><td>6.5-16.0</td><td>.404</td><td>2.7-7.8</td><td>.343</td><td>2.8-3.2</td><td>.878</td></tr><tr align=\"right\" class=\"evenrow player-46-3032977\"><td align=\"left\"> </td><td align=\"left\"><a href=\"http://espn.go.com/nba/player/_/id/3032977/giannis-antetokounmpo\">Giannis Antetokounmpo</a>, SF</td><td align=\"left\">MIL</td><td>11</td><td>35.9</td><td class=\"sortcell\">18.4</td><td>6.9-13.3</td><td>.521</td><td>0.6-1.9</td><td>.333</td><td>3.9-4.6</td><td>.843</td></tr><tr align=\"right\" class=\"colhead\"><td align=\"left\" style=\"width:20px;\">RK</td><td align=\"left\">PLAYER</td><td align=\"left\">TEAM</td><td><a href=\"http://espn.go.com/nba/statistics/player/_/stat/scoring-per-game/sort/gamesPlayed/qualified/false\" title=\"Games Played\">GP</a></td><td><a href=\"http://espn.go.com/nba/statistics/player/_/stat/scoring-per-game/sort/avgMinutes/qualified/false\" title=\"Minutes Per Game\">MPG</a></td><td><a href=\"http://espn.go.com/nba/statistics/player/_/stat/scoring-per-game/sort/avgPoints/qualified/false/order/false\" title=\"Points Per Game\">PTS</a></td><td><span title=\"Field Goals Made-Attempted Per Game\">FGM-FGA</span></td><td><a href=\"http://espn.go.com/nba/statistics/player/_/stat/scoring-per-game/sort/fieldGoalPct/qualified/false\" title=\"Field Goal Percentage\">FG%</a></td><td><span title=\"3-Point Field Goals Made-Attempted Per Game\">3PM-3PA</span></td><td><a href=\"http://espn.go.com/nba/statistics/player/_/stat/scoring-per-game/sort/threePointFieldGoalPct/qualified/false\" title=\"3-Point Field Goal Percentage\">3P%</a></td><td><span title=\"Free Throws Made-Attempted Per Game\">FTM-FTA</span></td><td><a href=\"http://espn.go.com/nba/statistics/player/_/stat/scoring-per-game/sort/freeThrowPct/qualified/false\" title=\"Free Throws Percentage\">FT%</a></td></tr><tr align=\"right\" class=\"oddrow player-46-3015\"><td align=\"left\">31</td><td align=\"left\"><a href=\"http://espn.go.com/nba/player/_/id/3015/paul-millsap\">Paul Millsap</a>, PF</td><td align=\"left\">ATL</td><td>14</td><td>34.5</td><td class=\"sortcell\">18.1</td><td>6.4-13.0</td><td>.489</td><td>1.3-3.5</td><td>.367</td><td>4.1-5.5</td><td>.753</td></tr><tr align=\"right\" class=\"evenrow player-46-3135048\"><td align=\"left\"> </td><td align=\"left\"><a href=\"http://espn.go.com/nba/player/_/id/3135048/jahlil-okafor\">Jahlil Okafor</a>, C</td><td align=\"left\">PHI</td><td>13</td><td>33.2</td><td class=\"sortcell\">18.1</td><td>7.8-16.4</td><td>.474</td><td>0.0-0.0</td><td>.000</td><td>2.5-4.0</td><td>.635</td></tr><tr align=\"right\" class=\"oddrow player-46-3428\"><td align=\"left\">33</td><td align=\"left\"><a href=\"http://espn.go.com/nba/player/_/id/3428/danilo-gallinari\">Danilo Gallinari</a>, SF</td><td align=\"left\">DEN</td><td>13</td><td>33.9</td><td class=\"sortcell\">18.0</td><td>5.3-12.9</td><td>.411</td><td>1.7-4.4</td><td>.386</td><td>5.7-6.3</td><td>.902</td></tr><tr align=\"right\" class=\"evenrow player-46-1987\"><td align=\"left\">34</td><td align=\"left\"><a href=\"http://espn.go.com/nba/player/_/id/1987/dwyane-wade\">Dwyane Wade</a>, SG</td><td align=\"left\">MIA</td><td>10</td><td>29.3</td><td class=\"sortcell\">17.8</td><td>6.8-15.9</td><td>.428</td><td>0.6-1.9</td><td>.316</td><td>3.6-4.6</td><td>.783</td></tr><tr align=\"right\" class=\"oddrow player-46-3449\"><td align=\"left\"> </td><td align=\"left\"><a href=\"http://espn.go.com/nba/player/_/id/3449/kevin-love\">Kevin Love</a>, PF</td><td align=\"left\">CLE</td><td>12</td><td>34.8</td><td class=\"sortcell\">17.8</td><td>6.2-14.9</td><td>.413</td><td>2.3-6.7</td><td>.338</td><td>3.2-3.6</td><td>.884</td></tr><tr align=\"right\" class=\"evenrow player-46-4237\"><td align=\"left\">36</td><td align=\"left\"><a href=\"http://espn.go.com/nba/player/_/id/4237/john-wall\">John Wall</a>, PG</td><td align=\"left\">WSH</td><td>9</td><td>33.3</td><td class=\"sortcell\">17.6</td><td>6.1-14.6</td><td>.420</td><td>1.2-4.4</td><td>.275</td><td>4.1-5.7</td><td>.725</td></tr><tr align=\"right\" class=\"oddrow player-46-3005\"><td align=\"left\">37</td><td align=\"left\"><a href=\"http://espn.go.com/nba/player/_/id/3005/rudy-gay\">Rudy Gay</a>, SF</td><td align=\"left\">SAC</td><td>12</td><td>31.6</td><td class=\"sortcell\">17.4</td><td>7.1-16.0</td><td>.443</td><td>0.8-2.5</td><td>.333</td><td>2.4-3.0</td><td>.806</td></tr><tr align=\"right\" class=\"evenrow player-46-2779\"><td align=\"left\">38</td><td align=\"left\"><a href=\"http://espn.go.com/nba/player/_/id/2779/chris-paul\">Chris Paul</a>, PG</td><td align=\"left\">LAC</td><td>9</td><td>32.0</td><td class=\"sortcell\">17.3</td><td>5.9-13.3</td><td>.442</td><td>1.4-4.2</td><td>.342</td><td>4.1-4.9</td><td>.841</td></tr><tr align=\"right\" class=\"oddrow player-46-3213\"><td align=\"left\">39</td><td align=\"left\"><a href=\"http://espn.go.com/nba/player/_/id/3213/al-horford\">Al Horford</a>, C</td><td align=\"left\">ATL</td><td>14</td><td>31.7</td><td class=\"sortcell\">17.1</td><td>7.2-14.0</td><td>.515</td><td>1.3-3.5</td><td>.367</td><td>1.4-1.6</td><td>.909</td></tr><tr align=\"right\" class=\"evenrow player-46-4015\"><td align=\"left\"> </td><td align=\"left\"><a href=\"http://espn.go.com/nba/player/_/id/4015/jeff-teague\">Jeff Teague</a>, PG</td><td align=\"left\">ATL</td><td>11</td><td>30.8</td><td class=\"sortcell\">17.1</td><td>6.0-14.1</td><td>.426</td><td>0.9-2.8</td><td>.323</td><td>4.2-4.9</td><td>.852</td></tr>\n",
      "</table>\n"
     ]
    }
   ],
   "source": [
    "table = table_div.find(\"table\")\n",
    "print table"
   ]
  },
  {
   "cell_type": "markdown",
   "metadata": {},
   "source": [
    "### Searching by Attributes\n",
    "\n",
    "Now that we have the table object, we need to step through the rows.  First we'll find the header row so we can populate what the field names will be in our data.  Here we're searching for tags under the table tag whose class attritbute is \"colhead\".  "
   ]
  },
  {
   "cell_type": "code",
   "execution_count": 5,
   "metadata": {
    "collapsed": false
   },
   "outputs": [
    {
     "name": "stdout",
     "output_type": "stream",
     "text": [
      "<tr align=\"right\" class=\"colhead\">\n",
      " <td align=\"left\" style=\"width:20px;\">\n",
      "  RK\n",
      " </td>\n",
      " <td align=\"left\">\n",
      "  PLAYER\n",
      " </td>\n",
      " <td align=\"left\">\n",
      "  TEAM\n",
      " </td>\n",
      " <td>\n",
      "  <a href=\"http://espn.go.com/nba/statistics/player/_/stat/scoring-per-game/sort/gamesPlayed/qualified/false\" title=\"Games Played\">\n",
      "   GP\n",
      "  </a>\n",
      " </td>\n",
      " <td>\n",
      "  <a href=\"http://espn.go.com/nba/statistics/player/_/stat/scoring-per-game/sort/avgMinutes/qualified/false\" title=\"Minutes Per Game\">\n",
      "   MPG\n",
      "  </a>\n",
      " </td>\n",
      " <td>\n",
      "  <a href=\"http://espn.go.com/nba/statistics/player/_/stat/scoring-per-game/sort/avgPoints/qualified/false/order/false\" title=\"Points Per Game\">\n",
      "   PTS\n",
      "  </a>\n",
      " </td>\n",
      " <td>\n",
      "  <span title=\"Field Goals Made-Attempted Per Game\">\n",
      "   FGM-FGA\n",
      "  </span>\n",
      " </td>\n",
      " <td>\n",
      "  <a href=\"http://espn.go.com/nba/statistics/player/_/stat/scoring-per-game/sort/fieldGoalPct/qualified/false\" title=\"Field Goal Percentage\">\n",
      "   FG%\n",
      "  </a>\n",
      " </td>\n",
      " <td>\n",
      "  <span title=\"3-Point Field Goals Made-Attempted Per Game\">\n",
      "   3PM-3PA\n",
      "  </span>\n",
      " </td>\n",
      " <td>\n",
      "  <a href=\"http://espn.go.com/nba/statistics/player/_/stat/scoring-per-game/sort/threePointFieldGoalPct/qualified/false\" title=\"3-Point Field Goal Percentage\">\n",
      "   3P%\n",
      "  </a>\n",
      " </td>\n",
      " <td>\n",
      "  <span title=\"Free Throws Made-Attempted Per Game\">\n",
      "   FTM-FTA\n",
      "  </span>\n",
      " </td>\n",
      " <td>\n",
      "  <a href=\"http://espn.go.com/nba/statistics/player/_/stat/scoring-per-game/sort/freeThrowPct/qualified/false\" title=\"Free Throws Percentage\">\n",
      "   FT%\n",
      "  </a>\n",
      " </td>\n",
      "</tr>\n",
      "\n"
     ]
    }
   ],
   "source": [
    "table_head = table.find(attrs={\"class\":'colhead'})\n",
    "print table_head.prettify()"
   ]
  },
  {
   "cell_type": "markdown",
   "metadata": {},
   "source": [
    "Now we find the actual values by searching for the 'td' tags, which is the tag for table data."
   ]
  },
  {
   "cell_type": "code",
   "execution_count": 6,
   "metadata": {
    "collapsed": false
   },
   "outputs": [
    {
     "name": "stdout",
     "output_type": "stream",
     "text": [
      "[<td align=\"left\" style=\"width:20px;\">RK</td>, <td align=\"left\">PLAYER</td>, <td align=\"left\">TEAM</td>, <td><a href=\"http://espn.go.com/nba/statistics/player/_/stat/scoring-per-game/sort/gamesPlayed/qualified/false\" title=\"Games Played\">GP</a></td>, <td><a href=\"http://espn.go.com/nba/statistics/player/_/stat/scoring-per-game/sort/avgMinutes/qualified/false\" title=\"Minutes Per Game\">MPG</a></td>, <td><a href=\"http://espn.go.com/nba/statistics/player/_/stat/scoring-per-game/sort/avgPoints/qualified/false/order/false\" title=\"Points Per Game\">PTS</a></td>, <td><span title=\"Field Goals Made-Attempted Per Game\">FGM-FGA</span></td>, <td><a href=\"http://espn.go.com/nba/statistics/player/_/stat/scoring-per-game/sort/fieldGoalPct/qualified/false\" title=\"Field Goal Percentage\">FG%</a></td>, <td><span title=\"3-Point Field Goals Made-Attempted Per Game\">3PM-3PA</span></td>, <td><a href=\"http://espn.go.com/nba/statistics/player/_/stat/scoring-per-game/sort/threePointFieldGoalPct/qualified/false\" title=\"3-Point Field Goal Percentage\">3P%</a></td>, <td><span title=\"Free Throws Made-Attempted Per Game\">FTM-FTA</span></td>, <td><a href=\"http://espn.go.com/nba/statistics/player/_/stat/scoring-per-game/sort/freeThrowPct/qualified/false\" title=\"Free Throws Percentage\">FT%</a></td>]\n"
     ]
    }
   ],
   "source": [
    "header_cols = table_head.findAll('td')\n",
    "print header_cols"
   ]
  },
  {
   "cell_type": "markdown",
   "metadata": {},
   "source": [
    "Finally, we step through these columns and save them to a list to be used later.  We'll ignore the rank column (RK) because that doesn't give us anything we want later.  We also separate the **PLAYER** column into **PLAYER** and **POSITION**."
   ]
  },
  {
   "cell_type": "code",
   "execution_count": 7,
   "metadata": {
    "collapsed": false
   },
   "outputs": [
    {
     "name": "stdout",
     "output_type": "stream",
     "text": [
      "[u'PLAYER', 'POSITION', u'TEAM', u'GP', u'MPG', u'PTS', u'FGM-FGA', u'FG%', u'3PM-3PA', u'3P%', u'FTM-FTA', u'FT%']\n"
     ]
    }
   ],
   "source": [
    "cols = []\n",
    "for header_col in header_cols:\n",
    "    val = header_col.string\n",
    "    if val != 'RK':\n",
    "        cols.append(val)\n",
    "    if val == 'PLAYER':\n",
    "        cols.append('POSITION')\n",
    "print cols"
   ]
  },
  {
   "cell_type": "markdown",
   "metadata": {},
   "source": [
    "### Stepping Through a Table\n",
    "\n",
    "The table rows are indicated by the tag 'tr'.  Again we can find them all and iterate through them.  Within each row we iterate through the respective columns."
   ]
  },
  {
   "cell_type": "code",
   "execution_count": 8,
   "metadata": {
    "collapsed": false
   },
   "outputs": [
    {
     "name": "stdout",
     "output_type": "stream",
     "text": [
      "[<tr align=\"right\" class=\"colhead\"><td align=\"left\" style=\"width:20px;\">RK</td><td align=\"left\">PLAYER</td><td align=\"left\">TEAM</td><td><a href=\"http://espn.go.com/nba/statistics/player/_/stat/scoring-per-game/sort/gamesPlayed/qualified/false\" title=\"Games Played\">GP</a></td><td><a href=\"http://espn.go.com/nba/statistics/player/_/stat/scoring-per-game/sort/avgMinutes/qualified/false\" title=\"Minutes Per Game\">MPG</a></td><td><a href=\"http://espn.go.com/nba/statistics/player/_/stat/scoring-per-game/sort/avgPoints/qualified/false/order/false\" title=\"Points Per Game\">PTS</a></td><td><span title=\"Field Goals Made-Attempted Per Game\">FGM-FGA</span></td><td><a href=\"http://espn.go.com/nba/statistics/player/_/stat/scoring-per-game/sort/fieldGoalPct/qualified/false\" title=\"Field Goal Percentage\">FG%</a></td><td><span title=\"3-Point Field Goals Made-Attempted Per Game\">3PM-3PA</span></td><td><a href=\"http://espn.go.com/nba/statistics/player/_/stat/scoring-per-game/sort/threePointFieldGoalPct/qualified/false\" title=\"3-Point Field Goal Percentage\">3P%</a></td><td><span title=\"Free Throws Made-Attempted Per Game\">FTM-FTA</span></td><td><a href=\"http://espn.go.com/nba/statistics/player/_/stat/scoring-per-game/sort/freeThrowPct/qualified/false\" title=\"Free Throws Percentage\">FT%</a></td></tr>, <tr align=\"right\" class=\"oddrow player-46-3975\"><td align=\"left\">1</td><td align=\"left\"><a href=\"http://espn.go.com/nba/player/_/id/3975/stephen-curry\">Stephen Curry</a>, PG</td><td align=\"left\">GS</td><td>14</td><td>35.6</td><td class=\"sortcell\">33.6</td><td>11.1-21.5</td><td>.515</td><td>5.1-11.5</td><td>.441</td><td>6.4-6.9</td><td>.938</td></tr>, <tr align=\"right\" class=\"evenrow player-46-3468\"><td align=\"left\">2</td><td align=\"left\"><a href=\"http://espn.go.com/nba/player/_/id/3468/russell-westbrook\">Russell Westbrook</a>, PG</td><td align=\"left\">OKC</td><td>13</td><td>35.2</td><td class=\"sortcell\">28.5</td><td>9.8-21.5</td><td>.459</td><td>1.9-5.8</td><td>.329</td><td>6.9-8.5</td><td>.811</td></tr>, <tr align=\"right\" class=\"oddrow player-46-3992\"><td align=\"left\">3</td><td align=\"left\"><a href=\"http://espn.go.com/nba/player/_/id/3992/james-harden\">James Harden</a>, SG</td><td align=\"left\">HOU</td><td>13</td><td>39.0</td><td class=\"sortcell\">28.2</td><td>7.8-20.5</td><td>.378</td><td>2.5-9.6</td><td>.256</td><td>10.2-11.6</td><td>.881</td></tr>, <tr align=\"right\" class=\"evenrow player-46-3202\"><td align=\"left\">4</td><td align=\"left\"><a href=\"http://espn.go.com/nba/player/_/id/3202/kevin-durant\">Kevin Durant</a>, SF</td><td align=\"left\">OKC</td><td>8</td><td>34.8</td><td class=\"sortcell\">28.1</td><td>9.6-19.1</td><td>.503</td><td>2.6-5.9</td><td>.447</td><td>6.3-7.0</td><td>.893</td></tr>, <tr align=\"right\" class=\"oddrow player-46-4258\"><td align=\"left\">5</td><td align=\"left\"><a href=\"http://espn.go.com/nba/player/_/id/4258/demarcus-cousins\">DeMarcus Cousins</a>, PF</td><td align=\"left\">SAC</td><td>8</td><td>32.3</td><td class=\"sortcell\">27.5</td><td>8.6-20.0</td><td>.431</td><td>1.8-4.3</td><td>.412</td><td>8.5-11.1</td><td>.764</td></tr>, <tr align=\"right\" class=\"evenrow player-46-1966\"><td align=\"left\">6</td><td align=\"left\"><a href=\"http://espn.go.com/nba/player/_/id/1966/lebron-james\">LeBron James</a>, SF</td><td align=\"left\">CLE</td><td>12</td><td>36.5</td><td class=\"sortcell\">27.3</td><td>10.4-20.2</td><td>.517</td><td>1.3-4.2</td><td>.320</td><td>5.1-7.9</td><td>.642</td></tr>, <tr align=\"right\" class=\"oddrow player-46-3989\"><td align=\"left\">7</td><td align=\"left\"><a href=\"http://espn.go.com/nba/player/_/id/3989/blake-griffin\">Blake Griffin</a>, PF</td><td align=\"left\">LAC</td><td>12</td><td>34.3</td><td class=\"sortcell\">26.2</td><td>10.6-19.2</td><td>.552</td><td>0.1-0.4</td><td>.200</td><td>4.9-6.6</td><td>.747</td></tr>, <tr align=\"right\" class=\"evenrow player-46-4251\"><td align=\"left\">8</td><td align=\"left\"><a href=\"http://espn.go.com/nba/player/_/id/4251/paul-george\">Paul George</a>, SF</td><td align=\"left\">IND</td><td>12</td><td>36.1</td><td class=\"sortcell\">25.3</td><td>8.3-18.8</td><td>.442</td><td>2.7-6.3</td><td>.427</td><td>5.9-7.0</td><td>.845</td></tr>, <tr align=\"right\" class=\"oddrow player-46-6606\"><td align=\"left\">9</td><td align=\"left\"><a href=\"http://espn.go.com/nba/player/_/id/6606/damian-lillard\">Damian Lillard</a>, PG</td><td align=\"left\">POR</td><td>14</td><td>37.6</td><td class=\"sortcell\">25.2</td><td>8.9-20.6</td><td>.429</td><td>3.0-8.0</td><td>.375</td><td>4.5-5.2</td><td>.863</td></tr>, <tr align=\"right\" class=\"evenrow player-46-1975\"><td align=\"left\">10</td><td align=\"left\"><a href=\"http://espn.go.com/nba/player/_/id/1975/carmelo-anthony\">Carmelo Anthony</a>, SF</td><td align=\"left\">NY</td><td>13</td><td>34.8</td><td class=\"sortcell\">23.2</td><td>8.2-19.9</td><td>.409</td><td>1.8-5.1</td><td>.348</td><td>5.2-5.9</td><td>.870</td></tr>, <tr align=\"right\" class=\"colhead\"><td align=\"left\" style=\"width:20px;\">RK</td><td align=\"left\">PLAYER</td><td align=\"left\">TEAM</td><td><a href=\"http://espn.go.com/nba/statistics/player/_/stat/scoring-per-game/sort/gamesPlayed/qualified/false\" title=\"Games Played\">GP</a></td><td><a href=\"http://espn.go.com/nba/statistics/player/_/stat/scoring-per-game/sort/avgMinutes/qualified/false\" title=\"Minutes Per Game\">MPG</a></td><td><a href=\"http://espn.go.com/nba/statistics/player/_/stat/scoring-per-game/sort/avgPoints/qualified/false/order/false\" title=\"Points Per Game\">PTS</a></td><td><span title=\"Field Goals Made-Attempted Per Game\">FGM-FGA</span></td><td><a href=\"http://espn.go.com/nba/statistics/player/_/stat/scoring-per-game/sort/fieldGoalPct/qualified/false\" title=\"Field Goal Percentage\">FG%</a></td><td><span title=\"3-Point Field Goals Made-Attempted Per Game\">3PM-3PA</span></td><td><a href=\"http://espn.go.com/nba/statistics/player/_/stat/scoring-per-game/sort/threePointFieldGoalPct/qualified/false\" title=\"3-Point Field Goal Percentage\">3P%</a></td><td><span title=\"Free Throws Made-Attempted Per Game\">FTM-FTA</span></td><td><a href=\"http://espn.go.com/nba/statistics/player/_/stat/scoring-per-game/sort/freeThrowPct/qualified/false\" title=\"Free Throws Percentage\">FT%</a></td></tr>, <tr align=\"right\" class=\"oddrow player-46-4238\"><td align=\"left\">11</td><td align=\"left\"><a href=\"http://espn.go.com/nba/player/_/id/4238/eric-bledsoe\">Eric Bledsoe</a>, PG</td><td align=\"left\">PHX</td><td>12</td><td>34.3</td><td class=\"sortcell\">22.8</td><td>8.3-17.2</td><td>.481</td><td>1.7-4.4</td><td>.377</td><td>4.6-5.8</td><td>.797</td></tr>, <tr align=\"right\" class=\"evenrow player-46-6580\"><td align=\"left\">12</td><td align=\"left\"><a href=\"http://espn.go.com/nba/player/_/id/6580/bradley-beal\">Bradley Beal</a>, SG</td><td align=\"left\">WSH</td><td>6</td><td>34.7</td><td class=\"sortcell\">22.7</td><td>8.7-17.8</td><td>.486</td><td>2.7-5.7</td><td>.471</td><td>2.7-3.3</td><td>.800</td></tr>, <tr align=\"right\" class=\"oddrow player-46-6583\"><td align=\"left\">13</td><td align=\"left\"><a href=\"http://espn.go.com/nba/player/_/id/6583/anthony-davis\">Anthony Davis</a>, PF</td><td align=\"left\">NO</td><td>10</td><td>33.4</td><td class=\"sortcell\">22.4</td><td>8.1-17.4</td><td>.466</td><td>0.7-2.0</td><td>.350</td><td>5.5-7.4</td><td>.743</td></tr>, <tr align=\"right\" class=\"evenrow player-46-6448\"><td align=\"left\">14</td><td align=\"left\"><a href=\"http://espn.go.com/nba/player/_/id/6448/brandon-knight\">Brandon Knight</a>, PG</td><td align=\"left\">PHX</td><td>12</td><td>34.8</td><td class=\"sortcell\">21.9</td><td>8.0-17.7</td><td>.453</td><td>2.8-6.7</td><td>.413</td><td>3.2-3.8</td><td>.844</td></tr>, <tr align=\"right\" class=\"oddrow player-46-3059319\"><td align=\"left\">15</td><td align=\"left\"><a href=\"http://espn.go.com/nba/player/_/id/3059319/andrew-wiggins\">Andrew Wiggins</a>, SG</td><td align=\"left\">MIN</td><td>12</td><td>34.5</td><td class=\"sortcell\">21.5</td><td>7.6-17.7</td><td>.429</td><td>0.8-2.4</td><td>.310</td><td>5.6-7.7</td><td>.728</td></tr>, <tr align=\"right\" class=\"evenrow player-46-6450\"><td align=\"left\"> </td><td align=\"left\"><a href=\"http://espn.go.com/nba/player/_/id/6450/kawhi-leonard\">Kawhi Leonard</a>, SF</td><td align=\"left\">SA</td><td>11</td><td>33.7</td><td class=\"sortcell\">21.5</td><td>8.8-17.1</td><td>.516</td><td>1.7-3.9</td><td>.442</td><td>2.1-2.5</td><td>.852</td></tr>, <tr align=\"right\" class=\"oddrow player-46-6430\"><td align=\"left\">17</td><td align=\"left\"><a href=\"http://espn.go.com/nba/player/_/id/6430/jimmy-butler\">Jimmy Butler</a>, SG</td><td align=\"left\">CHI</td><td>12</td><td>36.5</td><td class=\"sortcell\">21.0</td><td>7.0-15.3</td><td>.459</td><td>1.5-3.8</td><td>.391</td><td>5.5-7.2</td><td>.767</td></tr>, <tr align=\"right\" class=\"evenrow player-46-3978\"><td align=\"left\">18</td><td align=\"left\"><a href=\"http://espn.go.com/nba/player/_/id/3978/demar-derozan\">DeMar DeRozan</a>, SG</td><td align=\"left\">TOR</td><td>14</td><td>35.5</td><td class=\"sortcell\">20.9</td><td>6.6-15.7</td><td>.423</td><td>0.3-1.4</td><td>.200</td><td>7.3-8.9</td><td>.816</td></tr>, <tr align=\"right\" class=\"oddrow player-46-3012\"><td align=\"left\">19</td><td align=\"left\"><a href=\"http://espn.go.com/nba/player/_/id/3012/kyle-lowry\">Kyle Lowry</a>, PG</td><td align=\"left\">TOR</td><td>14</td><td>35.2</td><td class=\"sortcell\">20.6</td><td>6.1-14.9</td><td>.411</td><td>2.8-6.7</td><td>.415</td><td>5.6-6.3</td><td>.886</td></tr>, <tr align=\"right\" class=\"evenrow player-46-6472\"><td align=\"left\"> </td><td align=\"left\"><a href=\"http://espn.go.com/nba/player/_/id/6472/isaiah-thomas\">Isaiah Thomas</a>, PG</td><td align=\"left\">BOS</td><td>12</td><td>30.2</td><td class=\"sortcell\">20.6</td><td>7.0-16.6</td><td>.422</td><td>2.2-6.8</td><td>.321</td><td>4.4-5.3</td><td>.841</td></tr>, <tr align=\"right\" class=\"colhead\"><td align=\"left\" style=\"width:20px;\">RK</td><td align=\"left\">PLAYER</td><td align=\"left\">TEAM</td><td><a href=\"http://espn.go.com/nba/statistics/player/_/stat/scoring-per-game/sort/gamesPlayed/qualified/false\" title=\"Games Played\">GP</a></td><td><a href=\"http://espn.go.com/nba/statistics/player/_/stat/scoring-per-game/sort/avgMinutes/qualified/false\" title=\"Minutes Per Game\">MPG</a></td><td><a href=\"http://espn.go.com/nba/statistics/player/_/stat/scoring-per-game/sort/avgPoints/qualified/false/order/false\" title=\"Points Per Game\">PTS</a></td><td><span title=\"Field Goals Made-Attempted Per Game\">FGM-FGA</span></td><td><a href=\"http://espn.go.com/nba/statistics/player/_/stat/scoring-per-game/sort/fieldGoalPct/qualified/false\" title=\"Field Goal Percentage\">FG%</a></td><td><span title=\"3-Point Field Goals Made-Attempted Per Game\">3PM-3PA</span></td><td><a href=\"http://espn.go.com/nba/statistics/player/_/stat/scoring-per-game/sort/threePointFieldGoalPct/qualified/false\" title=\"3-Point Field Goal Percentage\">3P%</a></td><td><span title=\"Free Throws Made-Attempted Per Game\">FTM-FTA</span></td><td><a href=\"http://espn.go.com/nba/statistics/player/_/stat/scoring-per-game/sort/freeThrowPct/qualified/false\" title=\"Free Throws Percentage\">FT%</a></td></tr>, <tr align=\"right\" class=\"oddrow player-46-6443\"><td align=\"left\">21</td><td align=\"left\"><a href=\"http://espn.go.com/nba/player/_/id/6443/reggie-jackson\">Reggie Jackson</a>, PG</td><td align=\"left\">DET</td><td>12</td><td>31.8</td><td class=\"sortcell\">20.4</td><td>7.4-17.1</td><td>.434</td><td>1.5-4.3</td><td>.353</td><td>4.1-4.9</td><td>.831</td></tr>, <tr align=\"right\" class=\"evenrow player-46-2490149\"><td align=\"left\">22</td><td align=\"left\"><a href=\"http://espn.go.com/nba/player/_/id/2490149/c.j.-mccollum\">C.J. McCollum</a>, SG</td><td align=\"left\">POR</td><td>14</td><td>34.9</td><td class=\"sortcell\">20.1</td><td>7.6-17.1</td><td>.442</td><td>1.9-5.3</td><td>.365</td><td>3.1-3.5</td><td>.878</td></tr>, <tr align=\"right\" class=\"oddrow player-46-3448\"><td align=\"left\">23</td><td align=\"left\"><a href=\"http://espn.go.com/nba/player/_/id/3448/brook-lopez\">Brook Lopez</a>, C</td><td align=\"left\">BKN</td><td>13</td><td>34.0</td><td class=\"sortcell\">19.5</td><td>7.5-15.6</td><td>.478</td><td>0.0-0.2</td><td>.000</td><td>4.5-5.5</td><td>.831</td></tr>, <tr align=\"right\" class=\"evenrow player-46-6588\"><td align=\"left\">24</td><td align=\"left\"><a href=\"http://espn.go.com/nba/player/_/id/6588/evan-fournier\">Evan Fournier</a>, SF</td><td align=\"left\">ORL</td><td>12</td><td>38.4</td><td class=\"sortcell\">19.4</td><td>7.2-15.4</td><td>.465</td><td>2.4-6.2</td><td>.392</td><td>2.7-3.3</td><td>.800</td></tr>, <tr align=\"right\" class=\"oddrow player-46-6585\"><td align=\"left\">25</td><td align=\"left\"><a href=\"http://espn.go.com/nba/player/_/id/6585/andre-drummond\">Andre Drummond</a>, C</td><td align=\"left\">DET</td><td>12</td><td>36.7</td><td class=\"sortcell\">19.3</td><td>8.2-14.9</td><td>.547</td><td>0.0-0.0</td><td>.000</td><td>2.9-6.9</td><td>.422</td></tr>, <tr align=\"right\" class=\"evenrow player-46-609\"><td align=\"left\">26</td><td align=\"left\"><a href=\"http://espn.go.com/nba/player/_/id/609/dirk-nowitzki\">Dirk Nowitzki</a>, PF</td><td align=\"left\">DAL</td><td>12</td><td>28.9</td><td class=\"sortcell\">18.6</td><td>7.0-13.2</td><td>.532</td><td>2.0-3.8</td><td>.533</td><td>2.6-2.8</td><td>.912</td></tr>, <tr align=\"right\" class=\"oddrow player-46-1977\"><td align=\"left\">27</td><td align=\"left\"><a href=\"http://espn.go.com/nba/player/_/id/1977/chris-bosh\">Chris Bosh</a>, PF</td><td align=\"left\">MIA</td><td>11</td><td>32.5</td><td class=\"sortcell\">18.5</td><td>6.5-13.8</td><td>.467</td><td>1.6-4.4</td><td>.375</td><td>4.0-4.9</td><td>.815</td></tr>, <tr align=\"right\" class=\"evenrow player-46-3412\"><td align=\"left\"> </td><td align=\"left\"><a href=\"http://espn.go.com/nba/player/_/id/3412/ryan-anderson\">Ryan Anderson</a>, PF</td><td align=\"left\">NO</td><td>13</td><td>32.5</td><td class=\"sortcell\">18.5</td><td>7.2-15.2</td><td>.475</td><td>2.2-5.9</td><td>.377</td><td>1.8-2.3</td><td>.800</td></tr>, <tr align=\"right\" class=\"oddrow player-46-3431\"><td align=\"left\">29</td><td align=\"left\"><a href=\"http://espn.go.com/nba/player/_/id/3431/eric-gordon\">Eric Gordon</a>, SG</td><td align=\"left\">NO</td><td>13</td><td>35.9</td><td class=\"sortcell\">18.4</td><td>6.5-16.0</td><td>.404</td><td>2.7-7.8</td><td>.343</td><td>2.8-3.2</td><td>.878</td></tr>, <tr align=\"right\" class=\"evenrow player-46-3032977\"><td align=\"left\"> </td><td align=\"left\"><a href=\"http://espn.go.com/nba/player/_/id/3032977/giannis-antetokounmpo\">Giannis Antetokounmpo</a>, SF</td><td align=\"left\">MIL</td><td>11</td><td>35.9</td><td class=\"sortcell\">18.4</td><td>6.9-13.3</td><td>.521</td><td>0.6-1.9</td><td>.333</td><td>3.9-4.6</td><td>.843</td></tr>, <tr align=\"right\" class=\"colhead\"><td align=\"left\" style=\"width:20px;\">RK</td><td align=\"left\">PLAYER</td><td align=\"left\">TEAM</td><td><a href=\"http://espn.go.com/nba/statistics/player/_/stat/scoring-per-game/sort/gamesPlayed/qualified/false\" title=\"Games Played\">GP</a></td><td><a href=\"http://espn.go.com/nba/statistics/player/_/stat/scoring-per-game/sort/avgMinutes/qualified/false\" title=\"Minutes Per Game\">MPG</a></td><td><a href=\"http://espn.go.com/nba/statistics/player/_/stat/scoring-per-game/sort/avgPoints/qualified/false/order/false\" title=\"Points Per Game\">PTS</a></td><td><span title=\"Field Goals Made-Attempted Per Game\">FGM-FGA</span></td><td><a href=\"http://espn.go.com/nba/statistics/player/_/stat/scoring-per-game/sort/fieldGoalPct/qualified/false\" title=\"Field Goal Percentage\">FG%</a></td><td><span title=\"3-Point Field Goals Made-Attempted Per Game\">3PM-3PA</span></td><td><a href=\"http://espn.go.com/nba/statistics/player/_/stat/scoring-per-game/sort/threePointFieldGoalPct/qualified/false\" title=\"3-Point Field Goal Percentage\">3P%</a></td><td><span title=\"Free Throws Made-Attempted Per Game\">FTM-FTA</span></td><td><a href=\"http://espn.go.com/nba/statistics/player/_/stat/scoring-per-game/sort/freeThrowPct/qualified/false\" title=\"Free Throws Percentage\">FT%</a></td></tr>, <tr align=\"right\" class=\"oddrow player-46-3015\"><td align=\"left\">31</td><td align=\"left\"><a href=\"http://espn.go.com/nba/player/_/id/3015/paul-millsap\">Paul Millsap</a>, PF</td><td align=\"left\">ATL</td><td>14</td><td>34.5</td><td class=\"sortcell\">18.1</td><td>6.4-13.0</td><td>.489</td><td>1.3-3.5</td><td>.367</td><td>4.1-5.5</td><td>.753</td></tr>, <tr align=\"right\" class=\"evenrow player-46-3135048\"><td align=\"left\"> </td><td align=\"left\"><a href=\"http://espn.go.com/nba/player/_/id/3135048/jahlil-okafor\">Jahlil Okafor</a>, C</td><td align=\"left\">PHI</td><td>13</td><td>33.2</td><td class=\"sortcell\">18.1</td><td>7.8-16.4</td><td>.474</td><td>0.0-0.0</td><td>.000</td><td>2.5-4.0</td><td>.635</td></tr>, <tr align=\"right\" class=\"oddrow player-46-3428\"><td align=\"left\">33</td><td align=\"left\"><a href=\"http://espn.go.com/nba/player/_/id/3428/danilo-gallinari\">Danilo Gallinari</a>, SF</td><td align=\"left\">DEN</td><td>13</td><td>33.9</td><td class=\"sortcell\">18.0</td><td>5.3-12.9</td><td>.411</td><td>1.7-4.4</td><td>.386</td><td>5.7-6.3</td><td>.902</td></tr>, <tr align=\"right\" class=\"evenrow player-46-1987\"><td align=\"left\">34</td><td align=\"left\"><a href=\"http://espn.go.com/nba/player/_/id/1987/dwyane-wade\">Dwyane Wade</a>, SG</td><td align=\"left\">MIA</td><td>10</td><td>29.3</td><td class=\"sortcell\">17.8</td><td>6.8-15.9</td><td>.428</td><td>0.6-1.9</td><td>.316</td><td>3.6-4.6</td><td>.783</td></tr>, <tr align=\"right\" class=\"oddrow player-46-3449\"><td align=\"left\"> </td><td align=\"left\"><a href=\"http://espn.go.com/nba/player/_/id/3449/kevin-love\">Kevin Love</a>, PF</td><td align=\"left\">CLE</td><td>12</td><td>34.8</td><td class=\"sortcell\">17.8</td><td>6.2-14.9</td><td>.413</td><td>2.3-6.7</td><td>.338</td><td>3.2-3.6</td><td>.884</td></tr>, <tr align=\"right\" class=\"evenrow player-46-4237\"><td align=\"left\">36</td><td align=\"left\"><a href=\"http://espn.go.com/nba/player/_/id/4237/john-wall\">John Wall</a>, PG</td><td align=\"left\">WSH</td><td>9</td><td>33.3</td><td class=\"sortcell\">17.6</td><td>6.1-14.6</td><td>.420</td><td>1.2-4.4</td><td>.275</td><td>4.1-5.7</td><td>.725</td></tr>, <tr align=\"right\" class=\"oddrow player-46-3005\"><td align=\"left\">37</td><td align=\"left\"><a href=\"http://espn.go.com/nba/player/_/id/3005/rudy-gay\">Rudy Gay</a>, SF</td><td align=\"left\">SAC</td><td>12</td><td>31.6</td><td class=\"sortcell\">17.4</td><td>7.1-16.0</td><td>.443</td><td>0.8-2.5</td><td>.333</td><td>2.4-3.0</td><td>.806</td></tr>, <tr align=\"right\" class=\"evenrow player-46-2779\"><td align=\"left\">38</td><td align=\"left\"><a href=\"http://espn.go.com/nba/player/_/id/2779/chris-paul\">Chris Paul</a>, PG</td><td align=\"left\">LAC</td><td>9</td><td>32.0</td><td class=\"sortcell\">17.3</td><td>5.9-13.3</td><td>.442</td><td>1.4-4.2</td><td>.342</td><td>4.1-4.9</td><td>.841</td></tr>, <tr align=\"right\" class=\"oddrow player-46-3213\"><td align=\"left\">39</td><td align=\"left\"><a href=\"http://espn.go.com/nba/player/_/id/3213/al-horford\">Al Horford</a>, C</td><td align=\"left\">ATL</td><td>14</td><td>31.7</td><td class=\"sortcell\">17.1</td><td>7.2-14.0</td><td>.515</td><td>1.3-3.5</td><td>.367</td><td>1.4-1.6</td><td>.909</td></tr>, <tr align=\"right\" class=\"evenrow player-46-4015\"><td align=\"left\"> </td><td align=\"left\"><a href=\"http://espn.go.com/nba/player/_/id/4015/jeff-teague\">Jeff Teague</a>, PG</td><td align=\"left\">ATL</td><td>11</td><td>30.8</td><td class=\"sortcell\">17.1</td><td>6.0-14.1</td><td>.426</td><td>0.9-2.8</td><td>.323</td><td>4.2-4.9</td><td>.852</td></tr>]\n"
     ]
    }
   ],
   "source": [
    "table_rows = table.findAll('tr')\n",
    "print table_rows"
   ]
  },
  {
   "cell_type": "markdown",
   "metadata": {},
   "source": [
    "We will save our results in 2 different ways to demonstrate how we can handle both.  The first will be a list of dicts where the key is the field name and the value is the field value.  The second will just be a list of lists of stats with no field name values (we've already defined them earlier)."
   ]
  },
  {
   "cell_type": "code",
   "execution_count": 9,
   "metadata": {
    "collapsed": false
   },
   "outputs": [
    {
     "name": "stdout",
     "output_type": "stream",
     "text": [
      "[{u'FGM-FGA': u'11.1-21.5', u'MPG': u'35.6', u'FTM-FTA': u'6.4-6.9', u'FG%': u'.515', u'GP': u'14', u'PLAYER': u'Stephen Curry', u'FT%': u'.938', u'TEAM': u'GS', u'3PM-3PA': u'5.1-11.5', 'POSITION': u'PG', u'PTS': u'33.6', u'3P%': u'.441'}, {u'FGM-FGA': u'9.8-21.5', u'MPG': u'35.2', u'FTM-FTA': u'6.9-8.5', u'FG%': u'.459', u'GP': u'13', u'PLAYER': u'Russell Westbrook', u'FT%': u'.811', u'TEAM': u'OKC', u'3PM-3PA': u'1.9-5.8', 'POSITION': u'PG', u'PTS': u'28.5', u'3P%': u'.329'}, {u'FGM-FGA': u'7.8-20.5', u'MPG': u'39.0', u'FTM-FTA': u'10.2-11.6', u'FG%': u'.378', u'GP': u'13', u'PLAYER': u'James Harden', u'FT%': u'.881', u'TEAM': u'HOU', u'3PM-3PA': u'2.5-9.6', 'POSITION': u'SG', u'PTS': u'28.2', u'3P%': u'.256'}, {u'FGM-FGA': u'9.6-19.1', u'MPG': u'34.8', u'FTM-FTA': u'6.3-7.0', u'FG%': u'.503', u'GP': u'8', u'PLAYER': u'Kevin Durant', u'FT%': u'.893', u'TEAM': u'OKC', u'3PM-3PA': u'2.6-5.9', 'POSITION': u'SF', u'PTS': u'28.1', u'3P%': u'.447'}, {u'FGM-FGA': u'8.6-20.0', u'MPG': u'32.3', u'FTM-FTA': u'8.5-11.1', u'FG%': u'.431', u'GP': u'8', u'PLAYER': u'DeMarcus Cousins', u'FT%': u'.764', u'TEAM': u'SAC', u'3PM-3PA': u'1.8-4.3', 'POSITION': u'PF', u'PTS': u'27.5', u'3P%': u'.412'}]\n"
     ]
    }
   ],
   "source": [
    "players_stats_dicts = []\n",
    "players_stats_array = []\n",
    "for row in table_rows:\n",
    "    if row.attrs['class'][0]=='colhead':\n",
    "        continue\n",
    "    player_stats = []\n",
    "    row_cols = row.find_all('td')\n",
    "    col_vals = []\n",
    "    player_col = row_cols[1]\n",
    "    player_name = player_col.find('a').string\n",
    "    player_position = player_col.contents[1]\n",
    "    player_position = player_position.split(' ')[1]\n",
    "    player_stats.append(player_name)\n",
    "    player_stats.append(player_position)\n",
    "    for i in range(2, len(row_cols)):\n",
    "        stat = row_cols[i].string\n",
    "        player_stats.append(stat)\n",
    "    players_stats_array.append(player_stats)\n",
    "    player_stats = dict(zip(cols, player_stats))\n",
    "    players_stats_dicts.append(player_stats)\n",
    "print players_stats_dicts[0:5]        "
   ]
  },
  {
   "cell_type": "markdown",
   "metadata": {},
   "source": [
    "Here we've used the zip function to combine pairs of lists into tuples, and then transformed that into a dict to get a dictionary of FIELD --> VALUE for every player in the table.\n",
    "\n",
    "Beautiful Soup has many other features, including the ability to step up, down, and sideways in the HTML tree and basically search for any tags, attributes, or values.  For more, take a look at the [Documentation](http://www.crummy.com/software/BeautifulSoup/bs4/doc/)"
   ]
  },
  {
   "cell_type": "markdown",
   "metadata": {},
   "source": [
    "## Load into Pandas\n",
    "\n",
    "Let's load our scraped data into Pandas and take a look at it.  Here is the first way we can do it, simply directly from the dictionary we defined."
   ]
  },
  {
   "cell_type": "code",
   "execution_count": 10,
   "metadata": {
    "collapsed": false
   },
   "outputs": [
    {
     "data": {
      "text/html": [
       "<div>\n",
       "<table border=\"1\" class=\"dataframe\">\n",
       "  <thead>\n",
       "    <tr style=\"text-align: right;\">\n",
       "      <th></th>\n",
       "      <th>3P%</th>\n",
       "      <th>3PM-3PA</th>\n",
       "      <th>FG%</th>\n",
       "      <th>FGM-FGA</th>\n",
       "      <th>FT%</th>\n",
       "      <th>FTM-FTA</th>\n",
       "      <th>GP</th>\n",
       "      <th>MPG</th>\n",
       "      <th>PLAYER</th>\n",
       "      <th>POSITION</th>\n",
       "      <th>PTS</th>\n",
       "      <th>TEAM</th>\n",
       "    </tr>\n",
       "  </thead>\n",
       "  <tbody>\n",
       "    <tr>\n",
       "      <th>0</th>\n",
       "      <td>.441</td>\n",
       "      <td>5.1-11.5</td>\n",
       "      <td>.515</td>\n",
       "      <td>11.1-21.5</td>\n",
       "      <td>.938</td>\n",
       "      <td>6.4-6.9</td>\n",
       "      <td>14</td>\n",
       "      <td>35.6</td>\n",
       "      <td>Stephen Curry</td>\n",
       "      <td>PG</td>\n",
       "      <td>33.6</td>\n",
       "      <td>GS</td>\n",
       "    </tr>\n",
       "    <tr>\n",
       "      <th>1</th>\n",
       "      <td>.329</td>\n",
       "      <td>1.9-5.8</td>\n",
       "      <td>.459</td>\n",
       "      <td>9.8-21.5</td>\n",
       "      <td>.811</td>\n",
       "      <td>6.9-8.5</td>\n",
       "      <td>13</td>\n",
       "      <td>35.2</td>\n",
       "      <td>Russell Westbrook</td>\n",
       "      <td>PG</td>\n",
       "      <td>28.5</td>\n",
       "      <td>OKC</td>\n",
       "    </tr>\n",
       "    <tr>\n",
       "      <th>2</th>\n",
       "      <td>.256</td>\n",
       "      <td>2.5-9.6</td>\n",
       "      <td>.378</td>\n",
       "      <td>7.8-20.5</td>\n",
       "      <td>.881</td>\n",
       "      <td>10.2-11.6</td>\n",
       "      <td>13</td>\n",
       "      <td>39.0</td>\n",
       "      <td>James Harden</td>\n",
       "      <td>SG</td>\n",
       "      <td>28.2</td>\n",
       "      <td>HOU</td>\n",
       "    </tr>\n",
       "    <tr>\n",
       "      <th>3</th>\n",
       "      <td>.447</td>\n",
       "      <td>2.6-5.9</td>\n",
       "      <td>.503</td>\n",
       "      <td>9.6-19.1</td>\n",
       "      <td>.893</td>\n",
       "      <td>6.3-7.0</td>\n",
       "      <td>8</td>\n",
       "      <td>34.8</td>\n",
       "      <td>Kevin Durant</td>\n",
       "      <td>SF</td>\n",
       "      <td>28.1</td>\n",
       "      <td>OKC</td>\n",
       "    </tr>\n",
       "    <tr>\n",
       "      <th>4</th>\n",
       "      <td>.412</td>\n",
       "      <td>1.8-4.3</td>\n",
       "      <td>.431</td>\n",
       "      <td>8.6-20.0</td>\n",
       "      <td>.764</td>\n",
       "      <td>8.5-11.1</td>\n",
       "      <td>8</td>\n",
       "      <td>32.3</td>\n",
       "      <td>DeMarcus Cousins</td>\n",
       "      <td>PF</td>\n",
       "      <td>27.5</td>\n",
       "      <td>SAC</td>\n",
       "    </tr>\n",
       "  </tbody>\n",
       "</table>\n",
       "</div>"
      ],
      "text/plain": [
       "    3P%   3PM-3PA   FG%    FGM-FGA   FT%    FTM-FTA  GP   MPG  \\\n",
       "0  .441  5.1-11.5  .515  11.1-21.5  .938    6.4-6.9  14  35.6   \n",
       "1  .329   1.9-5.8  .459   9.8-21.5  .811    6.9-8.5  13  35.2   \n",
       "2  .256   2.5-9.6  .378   7.8-20.5  .881  10.2-11.6  13  39.0   \n",
       "3  .447   2.6-5.9  .503   9.6-19.1  .893    6.3-7.0   8  34.8   \n",
       "4  .412   1.8-4.3  .431   8.6-20.0  .764   8.5-11.1   8  32.3   \n",
       "\n",
       "              PLAYER POSITION   PTS TEAM  \n",
       "0      Stephen Curry       PG  33.6   GS  \n",
       "1  Russell Westbrook       PG  28.5  OKC  \n",
       "2       James Harden       SG  28.2  HOU  \n",
       "3       Kevin Durant       SF  28.1  OKC  \n",
       "4   DeMarcus Cousins       PF  27.5  SAC  "
      ]
     },
     "execution_count": 10,
     "metadata": {},
     "output_type": "execute_result"
    }
   ],
   "source": [
    "import pandas as pd\n",
    "import numpy as np\n",
    "\n",
    "df = pd.DataFrame.from_dict(players_stats_dicts)\n",
    "df.head()"
   ]
  },
  {
   "cell_type": "markdown",
   "metadata": {},
   "source": [
    "Now here is a 2nd way we can do it.  We convert the 2D stats array into a numpy array and create a Pandas dataframe from it along with the list of column headers we defined earlier."
   ]
  },
  {
   "cell_type": "code",
   "execution_count": 11,
   "metadata": {
    "collapsed": false
   },
   "outputs": [
    {
     "data": {
      "text/html": [
       "<div>\n",
       "<table border=\"1\" class=\"dataframe\">\n",
       "  <thead>\n",
       "    <tr style=\"text-align: right;\">\n",
       "      <th></th>\n",
       "      <th>PLAYER</th>\n",
       "      <th>POSITION</th>\n",
       "      <th>TEAM</th>\n",
       "      <th>GP</th>\n",
       "      <th>MPG</th>\n",
       "      <th>PTS</th>\n",
       "      <th>FGM-FGA</th>\n",
       "      <th>FG%</th>\n",
       "      <th>3PM-3PA</th>\n",
       "      <th>3P%</th>\n",
       "      <th>FTM-FTA</th>\n",
       "      <th>FT%</th>\n",
       "    </tr>\n",
       "  </thead>\n",
       "  <tbody>\n",
       "    <tr>\n",
       "      <th>0</th>\n",
       "      <td>Stephen Curry</td>\n",
       "      <td>PG</td>\n",
       "      <td>GS</td>\n",
       "      <td>14</td>\n",
       "      <td>35.6</td>\n",
       "      <td>33.6</td>\n",
       "      <td>11.1-21.5</td>\n",
       "      <td>.515</td>\n",
       "      <td>5.1-11.5</td>\n",
       "      <td>.441</td>\n",
       "      <td>6.4-6.9</td>\n",
       "      <td>.938</td>\n",
       "    </tr>\n",
       "    <tr>\n",
       "      <th>1</th>\n",
       "      <td>Russell Westbrook</td>\n",
       "      <td>PG</td>\n",
       "      <td>OKC</td>\n",
       "      <td>13</td>\n",
       "      <td>35.2</td>\n",
       "      <td>28.5</td>\n",
       "      <td>9.8-21.5</td>\n",
       "      <td>.459</td>\n",
       "      <td>1.9-5.8</td>\n",
       "      <td>.329</td>\n",
       "      <td>6.9-8.5</td>\n",
       "      <td>.811</td>\n",
       "    </tr>\n",
       "    <tr>\n",
       "      <th>2</th>\n",
       "      <td>James Harden</td>\n",
       "      <td>SG</td>\n",
       "      <td>HOU</td>\n",
       "      <td>13</td>\n",
       "      <td>39.0</td>\n",
       "      <td>28.2</td>\n",
       "      <td>7.8-20.5</td>\n",
       "      <td>.378</td>\n",
       "      <td>2.5-9.6</td>\n",
       "      <td>.256</td>\n",
       "      <td>10.2-11.6</td>\n",
       "      <td>.881</td>\n",
       "    </tr>\n",
       "    <tr>\n",
       "      <th>3</th>\n",
       "      <td>Kevin Durant</td>\n",
       "      <td>SF</td>\n",
       "      <td>OKC</td>\n",
       "      <td>8</td>\n",
       "      <td>34.8</td>\n",
       "      <td>28.1</td>\n",
       "      <td>9.6-19.1</td>\n",
       "      <td>.503</td>\n",
       "      <td>2.6-5.9</td>\n",
       "      <td>.447</td>\n",
       "      <td>6.3-7.0</td>\n",
       "      <td>.893</td>\n",
       "    </tr>\n",
       "    <tr>\n",
       "      <th>4</th>\n",
       "      <td>DeMarcus Cousins</td>\n",
       "      <td>PF</td>\n",
       "      <td>SAC</td>\n",
       "      <td>8</td>\n",
       "      <td>32.3</td>\n",
       "      <td>27.5</td>\n",
       "      <td>8.6-20.0</td>\n",
       "      <td>.431</td>\n",
       "      <td>1.8-4.3</td>\n",
       "      <td>.412</td>\n",
       "      <td>8.5-11.1</td>\n",
       "      <td>.764</td>\n",
       "    </tr>\n",
       "  </tbody>\n",
       "</table>\n",
       "</div>"
      ],
      "text/plain": [
       "              PLAYER POSITION TEAM  GP   MPG   PTS    FGM-FGA   FG%   3PM-3PA  \\\n",
       "0      Stephen Curry       PG   GS  14  35.6  33.6  11.1-21.5  .515  5.1-11.5   \n",
       "1  Russell Westbrook       PG  OKC  13  35.2  28.5   9.8-21.5  .459   1.9-5.8   \n",
       "2       James Harden       SG  HOU  13  39.0  28.2   7.8-20.5  .378   2.5-9.6   \n",
       "3       Kevin Durant       SF  OKC   8  34.8  28.1   9.6-19.1  .503   2.6-5.9   \n",
       "4   DeMarcus Cousins       PF  SAC   8  32.3  27.5   8.6-20.0  .431   1.8-4.3   \n",
       "\n",
       "    3P%    FTM-FTA   FT%  \n",
       "0  .441    6.4-6.9  .938  \n",
       "1  .329    6.9-8.5  .811  \n",
       "2  .256  10.2-11.6  .881  \n",
       "3  .447    6.3-7.0  .893  \n",
       "4  .412   8.5-11.1  .764  "
      ]
     },
     "execution_count": 11,
     "metadata": {},
     "output_type": "execute_result"
    }
   ],
   "source": [
    "np_array = np.array(players_stats_array)\n",
    "df = pd.DataFrame(np_array, columns=cols)\n",
    "df.head()"
   ]
  },
  {
   "cell_type": "markdown",
   "metadata": {},
   "source": [
    "### Exercise\n",
    "\n",
    "The goal of this exercise is to combine the scoring and assists statistics for every player in the NBA in 2014-2015.  The end result will have them in a pandas dataframe with the fields from both pages for every player.\n",
    "\n",
    "The general steps should be as follows:\n",
    "- Create a function get_cols that retrieves the names of the header columns given a table element (skip the ranks, split the positions)\n",
    "- Create a function get_data that retrieves the actual table data given a table element (skip the ranks, split the positions).  You can use either the dict approach or the numpy array approach.\n",
    "- Write a python loop to loop through the various pages and call these functions on the appropriate urls so that you can retrieve every player (rather than just the top few).\n",
    "- Repeat the above on both the scoring and assists URLs to get a pandas dataframe for both of them\n",
    "- Use the pandas.DataFrame.join() function to join your 2 pandas dataframes together and get a total result"
   ]
  },
  {
   "cell_type": "code",
   "execution_count": 19,
   "metadata": {
    "collapsed": false
   },
   "outputs": [
    {
     "name": "stdout",
     "output_type": "stream",
     "text": [
      "[u'PLAYER', 'POSITION', u'TEAM', u'GP', u'MPG', u'PTS', u'FGM-FGA', u'FG%', u'3PM-3PA', u'3P%', u'FTM-FTA', u'FT%']\n"
     ]
    }
   ],
   "source": [
    "#Import BeautiFul soup (web scraping tool)\n",
    "from bs4 import BeautifulSoup\n",
    "\n",
    "#Import urllib module\n",
    "import urllib2\n",
    "\n",
    "url = 'http://espn.go.com/nba/statistics/player/_/stat/scoring-per-game/sort/avgPoints/qualified/false'\n",
    "\n",
    "#Define a function get_cols that retrieves the names of the header columns given a table element \n",
    "#(skip the ranks, split the positions)\n",
    "\n",
    "cols = []\n",
    "\n",
    "def get_cols(url):\n",
    "    #Use the urlopen and read() functions from the urllib module to open and read from a URL into an object? called page\n",
    "    page = urllib2.urlopen(url).read()\n",
    "\n",
    "    #create a BeautifulSoup object? called soup by running the BeutifulSoup function on the page we imported\n",
    "    soup = BeautifulSoup(page)\n",
    "\n",
    "    #This line confirms that the object we created belongs toe the BeautifulSoup class\n",
    "    #print type(soup)\n",
    "\n",
    "    #The prettify() method will turn a Beautiful Soup parse tree into a nicely formatted Unicode string, with each HTML/XML tag on its own line:\n",
    "    #This shows us the whole webpage.\n",
    "    soup.prettify()[0:1000]\n",
    "\n",
    "    #But we only want the table. The find() method helps us find the table, and we prettify it too.\n",
    "    table_div = soup.find(id='my-players-table')\n",
    "    #print table_div.prettify()[0:4000]\n",
    "\n",
    "    #I don't quite understand these extra steps to get the table. What's going on here?!?!\n",
    "    table = table_div.find(\"table\")\n",
    "    #print table\n",
    "\n",
    "    #Find the header row of the table by searching for tags under the table tag whose class attritbute is \"colhead\".\n",
    "    table_head = table.find(attrs={\"class\":'colhead'})\n",
    "    #print table_head.prettify()\n",
    "\n",
    "    #Find the actual col values by searching for the 'td' tags, which is the tag for table data.\n",
    "    header_cols = table_head.findAll('td')\n",
    "    #print header_cols\n",
    "\n",
    "    #Step through these columns and save them to a list.\n",
    "    #Note that we don't want the 'RK' column, and we want to split the player column into separate columns for player and position.\n",
    "    for header_col in header_cols:\n",
    "        val = header_col.string\n",
    "        if val != 'RK':\n",
    "            cols.append(val)\n",
    "        if val == 'PLAYER':\n",
    "            cols.append('POSITION')\n",
    "    print cols\n",
    "\n",
    "get_cols(url)"
   ]
  },
  {
   "cell_type": "code",
   "execution_count": 20,
   "metadata": {
    "collapsed": false
   },
   "outputs": [],
   "source": [
    "#Create a function get_data that retrieves the actual table data given a table element (skip the ranks, split the positions).  \n",
    "#You can use either the dict approach or the numpy array approach.\n",
    "\n",
    "#Moved this outside the function so it doesn't reset each time we iterate through URLs.\n",
    "players_stats_dicts = []\n",
    "\n",
    "def get_data(url):\n",
    "\n",
    "    #Use the urlopen and read() functions from the urllib module to open and read from a URL into an object? called page\n",
    "    page = urllib2.urlopen(url).read()\n",
    "\n",
    "    #create a BeautifulSoup object? called soup by running the BeutifulSoup function on the page we imported\n",
    "    soup = BeautifulSoup(page)\n",
    "\n",
    "    #This line confirms that the object we created belongs toe the BeautifulSoup class\n",
    "    #print type(soup)\n",
    "\n",
    "    #The prettify() method will turn a Beautiful Soup parse tree into a nicely formatted Unicode string, with each HTML/XML tag on its own line:\n",
    "    #This shows us the whole webpage.\n",
    "    soup.prettify()[0:1000]\n",
    "\n",
    "    #But we only want the table. The find() method helps us find the table, and we prettify it too.\n",
    "    table_div = soup.find(id='my-players-table')\n",
    "    #print table_div.prettify()[0:4000]\n",
    "\n",
    "    #I don't quite understand these extra steps to get the table. What's going on here?!?!\n",
    "    table = table_div.find(\"table\")\n",
    "    #print table\n",
    "\n",
    "    #The table rows are indicated by the tag 'tr'. \n",
    "    #Again we can find them all and iterate through them. Within each row we iterate through the respective columns.\n",
    "    table_rows = table.findAll('tr')\n",
    "    #print table_rows\n",
    "\n",
    "    #Create a dictionary version of player stats with all of the data points that we want\n",
    "\n",
    "    for row in table_rows:\n",
    "        if row.attrs['class'][0]=='colhead':\n",
    "            continue\n",
    "        player_stats = []\n",
    "        row_cols = row.find_all('td')\n",
    "        col_vals = []\n",
    "        player_col = row_cols[1]\n",
    "        player_name = player_col.find('a').string\n",
    "        player_position = player_col.contents[1]\n",
    "        player_position = player_position.split(' ')[1]\n",
    "        player_stats.append(player_name)\n",
    "        player_stats.append(player_position)\n",
    "        for i in range(2, len(row_cols)):\n",
    "            stat = row_cols[i].string\n",
    "            player_stats.append(stat)\n",
    "        player_stats = dict(zip(cols, player_stats))\n",
    "        players_stats_dicts.append(player_stats)"
   ]
  },
  {
   "cell_type": "code",
   "execution_count": 21,
   "metadata": {
    "collapsed": false,
    "scrolled": false
   },
   "outputs": [],
   "source": [
    "#Run through all URLs (40 players per page) and append data to dictionary using get_data function.\n",
    "for x in range(1, 402):\n",
    "    if x % 40 == 1:\n",
    "        url_no = str(x)\n",
    "        url = 'http://espn.go.com/nba/statistics/player/_/stat/scoring-per-game/sort/avgPoints/qualified/false/count/' + url_no \n",
    "        get_data(url)\n"
   ]
  },
  {
   "cell_type": "code",
   "execution_count": 22,
   "metadata": {
    "collapsed": false
   },
   "outputs": [
    {
     "name": "stdout",
     "output_type": "stream",
     "text": [
      "[{u'FGM-FGA': u'11.1-21.5', u'MPG': u'35.6', u'FTM-FTA': u'6.4-6.9', u'FG%': u'.515', u'GP': u'14', u'PLAYER': u'Stephen Curry', u'FT%': u'.938', u'TEAM': u'GS', u'3PM-3PA': u'5.1-11.5', 'POSITION': u'PG', u'PTS': u'33.6', u'3P%': u'.441'}, {u'FGM-FGA': u'9.8-21.5', u'MPG': u'35.2', u'FTM-FTA': u'6.9-8.5', u'FG%': u'.459', u'GP': u'13', u'PLAYER': u'Russell Westbrook', u'FT%': u'.811', u'TEAM': u'OKC', u'3PM-3PA': u'1.9-5.8', 'POSITION': u'PG', u'PTS': u'28.5', u'3P%': u'.329'}, {u'FGM-FGA': u'9.6-19.1', u'MPG': u'34.8', u'FTM-FTA': u'6.3-7.0', u'FG%': u'.503', u'GP': u'8', u'PLAYER': u'Kevin Durant', u'FT%': u'.893', u'TEAM': u'OKC', u'3PM-3PA': u'2.6-5.9', 'POSITION': u'SF', u'PTS': u'28.1', u'3P%': u'.447'}, {u'FGM-FGA': u'7.8-20.5', u'MPG': u'38.9', u'FTM-FTA': u'9.9-11.1', u'FG%': u'.380', u'GP': u'14', u'PLAYER': u'James Harden', u'FT%': u'.885', u'TEAM': u'HOU', u'3PM-3PA': u'2.5-9.2', 'POSITION': u'SG', u'PTS': u'27.9', u'3P%': u'.271'}, {u'FGM-FGA': u'8.6-19.9', u'MPG': u'33.1', u'FTM-FTA': u'9.0-11.6', u'FG%': u'.430', u'GP': u'9', u'PLAYER': u'DeMarcus Cousins', u'FT%': u'.779', u'TEAM': u'SAC', u'3PM-3PA': u'1.6-4.0', 'POSITION': u'PF', u'PTS': u'27.7', u'3P%': u'.389'}, {u'FGM-FGA': u'10.2-19.8', u'MPG': u'36.2', u'FTM-FTA': u'4.8-7.5', u'FG%': u'.518', u'GP': u'13', u'PLAYER': u'LeBron James', u'FT%': u'.649', u'TEAM': u'CLE', u'3PM-3PA': u'1.3-4.0', 'POSITION': u'SF', u'PTS': u'26.6', u'3P%': u'.327'}, {u'FGM-FGA': u'10.6-19.2', u'MPG': u'34.3', u'FTM-FTA': u'4.9-6.6', u'FG%': u'.552', u'GP': u'12', u'PLAYER': u'Blake Griffin', u'FT%': u'.747', u'TEAM': u'LAC', u'3PM-3PA': u'0.1-0.4', 'POSITION': u'PF', u'PTS': u'26.2', u'3P%': u'.200'}, {u'FGM-FGA': u'8.9-20.6', u'MPG': u'37.6', u'FTM-FTA': u'4.5-5.2', u'FG%': u'.429', u'GP': u'14', u'PLAYER': u'Damian Lillard', u'FT%': u'.863', u'TEAM': u'POR', u'3PM-3PA': u'3.0-8.0', 'POSITION': u'PG', u'PTS': u'25.2', u'3P%': u'.375'}, {u'FGM-FGA': u'8.2-18.7', u'MPG': u'35.5', u'FTM-FTA': u'5.8-6.9', u'FG%': u'.436', u'GP': u'13', u'PLAYER': u'Paul George', u'FT%': u'.844', u'TEAM': u'IND', u'3PM-3PA': u'2.7-6.5', 'POSITION': u'SF', u'PTS': u'24.8', u'3P%': u'.417'}, {u'FGM-FGA': u'8.3-17.2', u'MPG': u'34.3', u'FTM-FTA': u'4.6-5.8', u'FG%': u'.481', u'GP': u'12', u'PLAYER': u'Eric Bledsoe', u'FT%': u'.797', u'TEAM': u'PHX', u'3PM-3PA': u'1.7-4.4', 'POSITION': u'PG', u'PTS': u'22.8', u'3P%': u'.377'}, {u'FGM-FGA': u'7.9-19.2', u'MPG': u'34.1', u'FTM-FTA': u'5.0-5.8', u'FG%': u'.413', u'GP': u'14', u'PLAYER': u'Carmelo Anthony', u'FT%': u'.864', u'TEAM': u'NY', u'3PM-3PA': u'1.7-4.9', 'POSITION': u'SF', u'PTS': u'22.6', u'3P%': u'.353'}, {u'FGM-FGA': u'8.1-17.4', u'MPG': u'33.4', u'FTM-FTA': u'5.5-7.4', u'FG%': u'.466', u'GP': u'10', u'PLAYER': u'Anthony Davis', u'FT%': u'.743', u'TEAM': u'NO', u'3PM-3PA': u'0.7-2.0', 'POSITION': u'PF', u'PTS': u'22.4', u'3P%': u'.350'}, {u'FGM-FGA': u'8.0-17.7', u'MPG': u'34.8', u'FTM-FTA': u'3.2-3.8', u'FG%': u'.453', u'GP': u'12', u'PLAYER': u'Brandon Knight', u'FT%': u'.844', u'TEAM': u'PHX', u'3PM-3PA': u'2.8-6.7', 'POSITION': u'PG', u'PTS': u'21.9', u'3P%': u'.413'}, {u'FGM-FGA': u'7.6-17.7', u'MPG': u'34.5', u'FTM-FTA': u'5.6-7.7', u'FG%': u'.429', u'GP': u'12', u'PLAYER': u'Andrew Wiggins', u'FT%': u'.728', u'TEAM': u'MIN', u'3PM-3PA': u'0.8-2.4', 'POSITION': u'SG', u'PTS': u'21.5', u'3P%': u'.310'}, {u'FGM-FGA': u'8.5-16.9', u'MPG': u'34.3', u'FTM-FTA': u'2.4-2.9', u'FG%': u'.502', u'GP': u'12', u'PLAYER': u'Kawhi Leonard', u'FT%': u'.829', u'TEAM': u'SA', u'3PM-3PA': u'1.8-4.1', 'POSITION': u'SF', u'PTS': u'21.3', u'3P%': u'.449'}, {u'FGM-FGA': u'7.0-15.3', u'MPG': u'36.5', u'FTM-FTA': u'5.5-7.2', u'FG%': u'.459', u'GP': u'12', u'PLAYER': u'Jimmy Butler', u'FT%': u'.767', u'TEAM': u'CHI', u'3PM-3PA': u'1.5-3.8', 'POSITION': u'SG', u'PTS': u'21.0', u'3P%': u'.391'}, {u'FGM-FGA': u'6.6-15.7', u'MPG': u'35.5', u'FTM-FTA': u'7.3-8.9', u'FG%': u'.423', u'GP': u'14', u'PLAYER': u'DeMar DeRozan', u'FT%': u'.816', u'TEAM': u'TOR', u'3PM-3PA': u'0.3-1.4', 'POSITION': u'SG', u'PTS': u'20.9', u'3P%': u'.200'}, {u'FGM-FGA': u'6.1-14.9', u'MPG': u'35.2', u'FTM-FTA': u'5.6-6.3', u'FG%': u'.411', u'GP': u'14', u'PLAYER': u'Kyle Lowry', u'FT%': u'.886', u'TEAM': u'TOR', u'3PM-3PA': u'2.8-6.7', 'POSITION': u'PG', u'PTS': u'20.6', u'3P%': u'.415'}, {u'FGM-FGA': u'7.0-16.6', u'MPG': u'30.2', u'FTM-FTA': u'4.4-5.3', u'FG%': u'.422', u'GP': u'12', u'PLAYER': u'Isaiah Thomas', u'FT%': u'.841', u'TEAM': u'BOS', u'3PM-3PA': u'2.2-6.8', 'POSITION': u'PG', u'PTS': u'20.6', u'3P%': u'.321'}, {u'FGM-FGA': u'7.9-16.4', u'MPG': u'33.9', u'FTM-FTA': u'2.4-3.3', u'FG%': u'.478', u'GP': u'7', u'PLAYER': u'Bradley Beal', u'FT%': u'.739', u'TEAM': u'WSH', u'3PM-3PA': u'2.3-4.9', 'POSITION': u'SG', u'PTS': u'20.4', u'3P%': u'.471'}, {u'FGM-FGA': u'7.5-17.2', u'MPG': u'31.8', u'FTM-FTA': u'4.0-4.8', u'FG%': u'.435', u'GP': u'13', u'PLAYER': u'Reggie Jackson', u'FT%': u'.839', u'TEAM': u'DET', u'3PM-3PA': u'1.5-4.4', 'POSITION': u'PG', u'PTS': u'20.4', u'3P%': u'.333'}, {u'FGM-FGA': u'7.6-17.1', u'MPG': u'34.9', u'FTM-FTA': u'3.1-3.5', u'FG%': u'.442', u'GP': u'14', u'PLAYER': u'C.J. McCollum', u'FT%': u'.878', u'TEAM': u'POR', u'3PM-3PA': u'1.9-5.3', 'POSITION': u'SG', u'PTS': u'20.1', u'3P%': u'.365'}, {u'FGM-FGA': u'7.5-15.6', u'MPG': u'34.0', u'FTM-FTA': u'4.5-5.5', u'FG%': u'.478', u'GP': u'13', u'PLAYER': u'Brook Lopez', u'FT%': u'.831', u'TEAM': u'BKN', u'3PM-3PA': u'0.0-0.2', 'POSITION': u'C', u'PTS': u'19.5', u'3P%': u'.000'}, {u'FGM-FGA': u'7.2-15.8', u'MPG': u'38.2', u'FTM-FTA': u'2.5-3.1', u'FG%': u'.454', u'GP': u'13', u'PLAYER': u'Evan Fournier', u'FT%': u'.800', u'TEAM': u'ORL', u'3PM-3PA': u'2.5-6.5', 'POSITION': u'SF', u'PTS': u'19.2', u'3P%': u'.376'}, {u'FGM-FGA': u'6.9-16.0', u'MPG': u'29.9', u'FTM-FTA': u'4.3-5.4', u'FG%': u'.432', u'GP': u'11', u'PLAYER': u'Dwyane Wade', u'FT%': u'.797', u'TEAM': u'MIA', u'3PM-3PA': u'0.5-1.8', 'POSITION': u'SG', u'PTS': u'18.6', u'3P%': u'.300'}, {u'FGM-FGA': u'7.0-13.2', u'MPG': u'28.9', u'FTM-FTA': u'2.6-2.8', u'FG%': u'.532', u'GP': u'12', u'PLAYER': u'Dirk Nowitzki', u'FT%': u'.912', u'TEAM': u'DAL', u'3PM-3PA': u'2.0-3.8', 'POSITION': u'PF', u'PTS': u'18.6', u'3P%': u'.533'}, {u'FGM-FGA': u'7.2-15.2', u'MPG': u'32.5', u'FTM-FTA': u'1.8-2.3', u'FG%': u'.475', u'GP': u'13', u'PLAYER': u'Ryan Anderson', u'FT%': u'.800', u'TEAM': u'NO', u'3PM-3PA': u'2.2-5.9', 'POSITION': u'PF', u'PTS': u'18.5', u'3P%': u'.377'}, {u'FGM-FGA': u'6.5-16.0', u'MPG': u'35.9', u'FTM-FTA': u'2.8-3.2', u'FG%': u'.404', u'GP': u'13', u'PLAYER': u'Eric Gordon', u'FT%': u'.878', u'TEAM': u'NO', u'3PM-3PA': u'2.7-7.8', 'POSITION': u'SG', u'PTS': u'18.4', u'3P%': u'.343'}, {u'FGM-FGA': u'7.8-14.2', u'MPG': u'36.7', u'FTM-FTA': u'2.8-6.7', u'FG%': u'.546', u'GP': u'13', u'PLAYER': u'Andre Drummond', u'FT%': u'.425', u'TEAM': u'DET', u'3PM-3PA': u'0.0-0.0', 'POSITION': u'C', u'PTS': u'18.4', u'3P%': u'.000'}, {u'FGM-FGA': u'6.4-14.9', u'MPG': u'34.5', u'FTM-FTA': u'3.3-3.8', u'FG%': u'.428', u'GP': u'13', u'PLAYER': u'Kevin Love', u'FT%': u'.878', u'TEAM': u'CLE', u'3PM-3PA': u'2.2-6.7', 'POSITION': u'PF', u'PTS': u'18.3', u'3P%': u'.333'}, {u'FGM-FGA': u'6.2-13.6', u'MPG': u'32.8', u'FTM-FTA': u'4.1-5.2', u'FG%': u'.454', u'GP': u'12', u'PLAYER': u'Chris Bosh', u'FT%': u'.790', u'TEAM': u'MIA', u'3PM-3PA': u'1.7-4.4', 'POSITION': u'PF', u'PTS': u'18.1', u'3P%': u'.377'}, {u'FGM-FGA': u'5.3-12.9', u'MPG': u'33.9', u'FTM-FTA': u'5.7-6.3', u'FG%': u'.411', u'GP': u'13', u'PLAYER': u'Danilo Gallinari', u'FT%': u'.902', u'TEAM': u'DEN', u'3PM-3PA': u'1.7-4.4', 'POSITION': u'SF', u'PTS': u'18.0', u'3P%': u'.386'}, {u'FGM-FGA': u'7.8-16.6', u'MPG': u'33.4', u'FTM-FTA': u'2.4-3.7', u'FG%': u'.468', u'GP': u'14', u'PLAYER': u'Jahlil Okafor', u'FT%': u'.635', u'TEAM': u'PHI', u'3PM-3PA': u'0.0-0.0', 'POSITION': u'C', u'PTS': u'17.9', u'3P%': u'.000'}, {u'FGM-FGA': u'6.1-13.0', u'MPG': u'34.3', u'FTM-FTA': u'4.4-5.7', u'FG%': u'.472', u'GP': u'15', u'PLAYER': u'Paul Millsap', u'FT%': u'.767', u'TEAM': u'ATL', u'3PM-3PA': u'1.2-3.5', 'POSITION': u'PF', u'PTS': u'17.9', u'3P%': u'.346'}, {u'FGM-FGA': u'6.6-12.8', u'MPG': u'35.3', u'FTM-FTA': u'3.8-4.6', u'FG%': u'.513', u'GP': u'12', u'PLAYER': u'Giannis Antetokounmpo', u'FT%': u'.836', u'TEAM': u'MIL', u'3PM-3PA': u'0.6-1.8', 'POSITION': u'SF', u'PTS': u'17.6', u'3P%': u'.333'}, {u'FGM-FGA': u'7.1-16.0', u'MPG': u'31.6', u'FTM-FTA': u'2.4-3.0', u'FG%': u'.443', u'GP': u'12', u'PLAYER': u'Rudy Gay', u'FT%': u'.806', u'TEAM': u'SAC', u'3PM-3PA': u'0.8-2.5', 'POSITION': u'SF', u'PTS': u'17.4', u'3P%': u'.333'}, {u'FGM-FGA': u'5.9-13.3', u'MPG': u'32.0', u'FTM-FTA': u'4.1-4.9', u'FG%': u'.442', u'GP': u'9', u'PLAYER': u'Chris Paul', u'FT%': u'.841', u'TEAM': u'LAC', u'3PM-3PA': u'1.4-4.2', 'POSITION': u'PG', u'PTS': u'17.3', u'3P%': u'.342'}, {u'FGM-FGA': u'5.5-12.2', u'MPG': u'34.6', u'FTM-FTA': u'3.4-3.8', u'FG%': u'.456', u'GP': u'13', u'PLAYER': u'Nicolas Batum', u'FT%': u'.880', u'TEAM': u'CHA', u'3PM-3PA': u'2.4-5.2', 'POSITION': u'SG', u'PTS': u'16.8', u'3P%': u'.456'}, {u'FGM-FGA': u'5.8-13.3', u'MPG': u'32.5', u'FTM-FTA': u'3.8-4.8', u'FG%': u'.434', u'GP': u'13', u'PLAYER': u'Kemba Walker', u'FT%': u'.790', u'TEAM': u'CHA', u'3PM-3PA': u'1.5-3.9', 'POSITION': u'PG', u'PTS': u'16.8', u'3P%': u'.373'}, {u'FGM-FGA': u'5.8-13.9', u'MPG': u'30.4', u'FTM-FTA': u'4.3-4.9', u'FG%': u'.413', u'GP': u'12', u'PLAYER': u'Jeff Teague', u'FT%': u'.864', u'TEAM': u'ATL', u'3PM-3PA': u'1.0-2.8', 'POSITION': u'PG', u'PTS': u'16.8', u'3P%': u'.353'}, {u'FGM-FGA': u'7.0-13.9', u'MPG': u'31.9', u'FTM-FTA': u'1.4-1.5', u'FG%': u'.505', u'GP': u'15', u'PLAYER': u'Al Horford', u'FT%': u'.913', u'TEAM': u'ATL', u'3PM-3PA': u'1.3-3.5', 'POSITION': u'C', u'PTS': u'16.7', u'3P%': u'.365'}, {u'FGM-FGA': u'5.9-14.2', u'MPG': u'32.7', u'FTM-FTA': u'3.7-5.1', u'FG%': u'.415', u'GP': u'10', u'PLAYER': u'John Wall', u'FT%': u'.725', u'TEAM': u'WSH', u'3PM-3PA': u'1.1-4.2', 'POSITION': u'PG', u'PTS': u'16.6', u'3P%': u'.262'}, {u'FGM-FGA': u'5.7-13.8', u'MPG': u'34.7', u'FTM-FTA': u'3.8-5.0', u'FG%': u'.410', u'GP': u'12', u'PLAYER': u'Gordon Hayward', u'FT%': u'.767', u'TEAM': u'UTAH', u'3PM-3PA': u'1.2-3.8', 'POSITION': u'SF', u'PTS': u'16.3', u'3P%': u'.304'}, {u'FGM-FGA': u'6.1-13.5', u'MPG': u'32.0', u'FTM-FTA': u'1.8-2.2', u'FG%': u'.449', u'GP': u'13', u'PLAYER': u'Klay Thompson', u'FT%': u'.857', u'TEAM': u'GS', u'3PM-3PA': u'2.2-5.8', 'POSITION': u'SG', u'PTS': u'16.2', u'3P%': u'.387'}, {u'FGM-FGA': u'6.8-12.5', u'MPG': u'30.8', u'FTM-FTA': u'2.7-4.1', u'FG%': u'.540', u'GP': u'12', u'PLAYER': u'Derrick Favors', u'FT%': u'.653', u'TEAM': u'UTAH', u'3PM-3PA': u'0.0-0.1', 'POSITION': u'PF', u'PTS': u'16.2', u'3P%': u'.000'}, {u'FGM-FGA': u'6.6-12.7', u'MPG': u'32.5', u'FTM-FTA': u'2.9-4.1', u'FG%': u'.521', u'GP': u'13', u'PLAYER': u'Greg Monroe', u'FT%': u'.717', u'TEAM': u'MIL', u'3PM-3PA': u'0.0-0.0', 'POSITION': u'C', u'PTS': u'16.2', u'3P%': u'.000'}, {u'FGM-FGA': u'5.4-16.0', u'MPG': u'31.1', u'FTM-FTA': u'3.7-4.3', u'FG%': u'.340', u'GP': u'9', u'PLAYER': u'Kobe Bryant', u'FT%': u'.846', u'TEAM': u'LAL', u'3PM-3PA': u'1.6-7.2', 'POSITION': u'SF', u'PTS': u'16.1', u'3P%': u'.215'}, {u'FGM-FGA': u'6.5-12.4', u'MPG': u'29.5', u'FTM-FTA': u'3.0-3.3', u'FG%': u'.522', u'GP': u'13', u'PLAYER': u'Karl-Anthony Towns', u'FT%': u'.907', u'TEAM': u'MIN', u'3PM-3PA': u'0.1-0.5', 'POSITION': u'C', u'PTS': u'16.0', u'3P%': u'.167'}, {u'FGM-FGA': u'5.2-12.3', u'MPG': u'28.2', u'FTM-FTA': u'4.3-5.1', u'FG%': u'.422', u'GP': u'12', u'PLAYER': u'Alec Burks', u'FT%': u'.852', u'TEAM': u'UTAH', u'3PM-3PA': u'1.2-2.7', 'POSITION': u'SG', u'PTS': u'15.8', u'3P%': u'.438'}, {u'FGM-FGA': u'5.6-12.1', u'MPG': u'33.5', u'FTM-FTA': u'4.4-5.1', u'FG%': u'.462', u'GP': u'14', u'PLAYER': u'Marc Gasol', u'FT%': u'.861', u'TEAM': u'MEM', u'3PM-3PA': u'0.1-0.2', 'POSITION': u'C', u'PTS': u'15.7', u'3P%': u'.667'}, {u'FGM-FGA': u'7.2-13.7', u'MPG': u'30.9', u'FTM-FTA': u'1.1-1.8', u'FG%': u'.528', u'GP': u'13', u'PLAYER': u'Thaddeus Young', u'FT%': u'.609', u'TEAM': u'BKN', u'3PM-3PA': u'0.1-0.6', 'POSITION': u'SF', u'PTS': u'15.6', u'3P%': u'.125'}, {u'FGM-FGA': u'5.7-12.0', u'MPG': u'31.3', u'FTM-FTA': u'2.3-2.5', u'FG%': u'.477', u'GP': u'11', u'PLAYER': u'Mo Williams', u'FT%': u'.893', u'TEAM': u'CLE', u'3PM-3PA': u'1.8-5.1', 'POSITION': u'PG', u'PTS': u'15.5', u'3P%': u'.357'}, {u'FGM-FGA': u'6.1-12.8', u'MPG': u'30.8', u'FTM-FTA': u'1.8-2.4', u'FG%': u'.477', u'GP': u'12', u'PLAYER': u'Jordan Clarkson', u'FT%': u'.759', u'TEAM': u'LAL', u'3PM-3PA': u'1.5-3.4', 'POSITION': u'PG', u'PTS': u'15.5', u'3P%': u'.439'}, {u'FGM-FGA': u'5.8-13.6', u'MPG': u'31.1', u'FTM-FTA': u'3.6-4.2', u'FG%': u'.429', u'GP': u'12', u'PLAYER': u'LaMarcus Aldridge', u'FT%': u'.860', u'TEAM': u'SA', u'3PM-3PA': u'0.0-0.5', 'POSITION': u'PF', u'PTS': u'15.3', u'3P%': u'.000'}, {u'FGM-FGA': u'6.9-13.4', u'MPG': u'27.4', u'FTM-FTA': u'1.3-2.2', u'FG%': u'.517', u'GP': u'13', u'PLAYER': u'Al Jefferson', u'FT%': u'.607', u'TEAM': u'CHA', u'3PM-3PA': u'0.0-0.0', 'POSITION': u'C', u'PTS': u'15.2', u'3P%': u'.000'}, {u'FGM-FGA': u'6.8-13.7', u'MPG': u'29.0', u'FTM-FTA': u'1.5-1.9', u'FG%': u'.496', u'GP': u'10', u'PLAYER': u'Nikola Vucevic', u'FT%': u'.789', u'TEAM': u'ORL', u'3PM-3PA': u'0.0-0.0', 'POSITION': u'C', u'PTS': u'15.1', u'3P%': u'.000'}, {u'FGM-FGA': u'5.1-12.6', u'MPG': u'31.9', u'FTM-FTA': u'3.1-3.6', u'FG%': u'.407', u'GP': u'14', u'PLAYER': u'Mike Conley', u'FT%': u'.843', u'TEAM': u'MEM', u'3PM-3PA': u'1.6-4.2', 'POSITION': u'PG', u'PTS': u'14.9', u'3P%': u'.373'}, {u'FGM-FGA': u'5.7-12.5', u'MPG': u'33.2', u'FTM-FTA': u'2.7-3.4', u'FG%': u'.457', u'GP': u'13', u'PLAYER': u'Tobias Harris', u'FT%': u'.795', u'TEAM': u'ORL', u'3PM-3PA': u'0.8-2.8', 'POSITION': u'SF', u'PTS': u'14.9', u'3P%': u'.306'}, {u'FGM-FGA': u'5.2-13.5', u'MPG': u'37.5', u'FTM-FTA': u'3.5-4.5', u'FG%': u'.386', u'GP': u'13', u'PLAYER': u'Marcus Morris', u'FT%': u'.763', u'TEAM': u'DET', u'3PM-3PA': u'1.0-4.0', 'POSITION': u'PF', u'PTS': u'14.9', u'3P%': u'.250'}, {u'FGM-FGA': u'6.3-10.2', u'MPG': u'28.8', u'FTM-FTA': u'2.2-4.0', u'FG%': u'.623', u'GP': u'12', u'PLAYER': u'Hassan Whiteside', u'FT%': u'.542', u'TEAM': u'MIA', u'3PM-3PA': u'0.0-0.0', 'POSITION': u'C', u'PTS': u'14.8', u'3P%': u'.000'}, {u'FGM-FGA': u'6.0-12.8', u'MPG': u'30.4', u'FTM-FTA': u'2.5-2.9', u'FG%': u'.471', u'GP': u'12', u'PLAYER': u'Zach Randolph', u'FT%': u'.857', u'TEAM': u'MEM', u'3PM-3PA': u'0.0-0.1', 'POSITION': u'PF', u'PTS': u'14.5', u'3P%': u'.000'}, {u'FGM-FGA': u'5.2-12.8', u'MPG': u'32.3', u'FTM-FTA': u'2.8-3.3', u'FG%': u'.405', u'GP': u'12', u'PLAYER': u'Jarrett Jack', u'FT%': u'.872', u'TEAM': u'BKN', u'3PM-3PA': u'1.3-3.3', 'POSITION': u'PG', u'PTS': u'14.4', u'3P%': u'.375'}, {u'FGM-FGA': u'4.7-10.8', u'MPG': u'27.1', u'FTM-FTA': u'2.3-2.9', u'FG%': u'.435', u'GP': u'10', u'PLAYER': u'C.J. Miles', u'FT%': u'.793', u'TEAM': u'IND', u'3PM-3PA': u'2.6-6.5', 'POSITION': u'SF', u'PTS': u'14.3', u'3P%': u'.400'}, {u'FGM-FGA': u'4.8-11.9', u'MPG': u'25.6', u'FTM-FTA': u'3.5-3.7', u'FG%': u'.399', u'GP': u'12', u'PLAYER': u'Jamal Crawford', u'FT%': u'.955', u'TEAM': u'LAC', u'3PM-3PA': u'1.3-3.9', 'POSITION': u'SG', u'PTS': u'14.3', u'3P%': u'.319'}, {u'FGM-FGA': u'5.2-10.7', u'MPG': u'26.6', u'FTM-FTA': u'2.5-2.8', u'FG%': u'.482', u'GP': u'13', u'PLAYER': u'Will Barton', u'FT%': u'.889', u'TEAM': u'DEN', u'3PM-3PA': u'1.3-3.1', 'POSITION': u'SF', u'PTS': u'14.1', u'3P%': u'.425'}, {u'FGM-FGA': u'5.2-10.6', u'MPG': u'31.1', u'FTM-FTA': u'2.4-2.7', u'FG%': u'.490', u'GP': u'14', u'PLAYER': u'Harrison Barnes', u'FT%': u'.868', u'TEAM': u'GS', u'3PM-3PA': u'1.2-3.4', 'POSITION': u'SF', u'PTS': u'14.0', u'3P%': u'.362'}, {u'FGM-FGA': u'4.6-10.6', u'MPG': u'36.9', u'FTM-FTA': u'2.4-3.3', u'FG%': u'.434', u'GP': u'10', u'PLAYER': u'George Hill', u'FT%': u'.727', u'TEAM': u'IND', u'3PM-3PA': u'2.4-5.3', 'POSITION': u'PG', u'PTS': u'14.0', u'3P%': u'.453'}, {u'FGM-FGA': u'5.2-11.4', u'MPG': u'24.1', u'FTM-FTA': u'2.2-2.5', u'FG%': u'.453', u'GP': u'13', u'PLAYER': u'Zach LaVine', u'FT%': u'.879', u'TEAM': u'MIN', u'3PM-3PA': u'1.4-3.4', 'POSITION': u'PG', u'PTS': u'13.9', u'3P%': u'.409'}, {u'FGM-FGA': u'5.3-10.3', u'MPG': u'32.9', u'FTM-FTA': u'2.3-2.7', u'FG%': u'.515', u'GP': u'10', u'PLAYER': u'Otto Porter Jr.', u'FT%': u'.852', u'TEAM': u'WSH', u'3PM-3PA': u'1.0-3.5', 'POSITION': u'SF', u'PTS': u'13.9', u'3P%': u'.286'}, {u'FGM-FGA': u'4.9-10.0', u'MPG': u'27.7', u'FTM-FTA': u'2.2-2.4', u'FG%': u'.489', u'GP': u'9', u'PLAYER': u'J.J. Redick', u'FT%': u'.909', u'TEAM': u'LAC', u'3PM-3PA': u'1.9-4.6', 'POSITION': u'SG', u'PTS': u'13.9', u'3P%': u'.415'}, {u'FGM-FGA': u'5.8-12.8', u'MPG': u'29.3', u'FTM-FTA': u'2.2-2.8', u'FG%': u'.455', u'GP': u'12', u'PLAYER': u'Pau Gasol', u'FT%': u'.765', u'TEAM': u'CHI', u'3PM-3PA': u'0.0-0.5', 'POSITION': u'C', u'PTS': u'13.8', u'3P%': u'.000'}, {u'FGM-FGA': u'4.8-11.2', u'MPG': u'31.1', u'FTM-FTA': u'2.9-2.9', u'FG%': u'.433', u'GP': u'12', u'PLAYER': u'Deron Williams', u'FT%': u'1.000', u'TEAM': u'DAL', u'3PM-3PA': u'1.3-3.4', 'POSITION': u'PG', u'PTS': u'13.8', u'3P%': u'.366'}, {u'FGM-FGA': u'5.5-11.9', u'MPG': u'27.5', u'FTM-FTA': u'1.0-1.5', u'FG%': u'.462', u'GP': u'10', u'PLAYER': u'Avery Bradley', u'FT%': u'.667', u'TEAM': u'BOS', u'3PM-3PA': u'1.8-4.4', 'POSITION': u'PG', u'PTS': u'13.8', u'3P%': u'.409'}, {u'FGM-FGA': u'5.6-8.9', u'MPG': u'31.9', u'FTM-FTA': u'2.7-4.9', u'FG%': u'.625', u'GP': u'9', u'PLAYER': u'Dwight Howard', u'FT%': u'.545', u'TEAM': u'HOU', u'3PM-3PA': u'0.0-0.0', 'POSITION': u'C', u'PTS': u'13.8', u'3P%': u'.000'}, {u'FGM-FGA': u'5.5-14.6', u'MPG': u'32.4', u'FTM-FTA': u'2.3-2.9', u'FG%': u'.377', u'GP': u'10', u'PLAYER': u'Derrick Rose', u'FT%': u'.793', u'TEAM': u'CHI', u'3PM-3PA': u'0.3-2.0', 'POSITION': u'PG', u'PTS': u'13.6', u'3P%': u'.150'}, {u'FGM-FGA': u'4.5-12.1', u'MPG': u'35.2', u'FTM-FTA': u'2.9-3.3', u'FG%': u'.369', u'GP': u'13', u'PLAYER': u'Khris Middleton', u'FT%': u'.884', u'TEAM': u'MIL', u'3PM-3PA': u'1.7-4.2', 'POSITION': u'SG', u'PTS': u'13.5', u'3P%': u'.407'}, {u'FGM-FGA': u'5.1-12.2', u'MPG': u'37.6', u'FTM-FTA': u'1.9-2.3', u'FG%': u'.418', u'GP': u'13', u'PLAYER': u'Kentavious Caldwell-Pope', u'FT%': u'.833', u'TEAM': u'DET', u'3PM-3PA': u'1.5-4.7', 'POSITION': u'SG', u'PTS': u'13.5', u'3P%': u'.311'}, {u'FGM-FGA': u'4.9-11.6', u'MPG': u'29.8', u'FTM-FTA': u'2.4-3.1', u'FG%': u'.423', u'GP': u'9', u'PLAYER': u'Darren Collison', u'FT%': u'.786', u'TEAM': u'SAC', u'3PM-3PA': u'1.1-2.8', 'POSITION': u'PG', u'PTS': u'13.3', u'3P%': u'.400'}, {u'FGM-FGA': u'5.0-11.7', u'MPG': u'30.3', u'FTM-FTA': u'1.8-2.0', u'FG%': u'.426', u'GP': u'11', u'PLAYER': u'Rodney Hood', u'FT%': u'.909', u'TEAM': u'UTAH', u'3PM-3PA': u'1.5-5.1', 'POSITION': u'SG', u'PTS': u'13.3', u'3P%': u'.286'}, {u'FGM-FGA': u'3.8-10.5', u'MPG': u'25.0', u'FTM-FTA': u'4.9-5.6', u'FG%': u'.365', u'GP': u'12', u'PLAYER': u'Kevin Martin', u'FT%': u'.881', u'TEAM': u'MIN', u'3PM-3PA': u'0.7-2.7', 'POSITION': u'SG', u'PTS': u'13.3', u'3P%': u'.250'}, {u'FGM-FGA': u'4.8-11.2', u'MPG': u'26.1', u'FTM-FTA': u'2.8-3.4', u'FG%': u'.427', u'GP': u'14', u'PLAYER': u'Kristaps Porzingis', u'FT%': u'.830', u'TEAM': u'NY', u'3PM-3PA': u'0.9-2.8', 'POSITION': u'PF', u'PTS': u'13.2', u'3P%': u'.308'}, {u'FGM-FGA': u'5.5-9.4', u'MPG': u'21.7', u'FTM-FTA': u'2.2-2.9', u'FG%': u'.582', u'GP': u'13', u'PLAYER': u'Enes Kanter', u'FT%': u'.737', u'TEAM': u'OKC', u'3PM-3PA': u'0.1-0.1', 'POSITION': u'C', u'PTS': u'13.2', u'3P%': u'1.000'}, {u'FGM-FGA': u'5.1-13.9', u'MPG': u'32.8', u'FTM-FTA': u'1.6-2.2', u'FG%': u'.366', u'GP': u'11', u'PLAYER': u'Victor Oladipo', u'FT%': u'.750', u'TEAM': u'ORL', u'3PM-3PA': u'1.3-4.5', 'POSITION': u'SG', u'PTS': u'13.1', u'3P%': u'.280'}, {u'FGM-FGA': u'5.1-9.5', u'MPG': u'27.8', u'FTM-FTA': u'2.7-3.2', u'FG%': u'.532', u'GP': u'13', u'PLAYER': u'Tony Parker', u'FT%': u'.854', u'TEAM': u'SA', u'3PM-3PA': u'0.2-0.3', 'POSITION': u'PG', u'PTS': u'13.0', u'3P%': u'.500'}, {u'FGM-FGA': u'5.0-10.6', u'MPG': u'27.7', u'FTM-FTA': u'2.1-3.8', u'FG%': u'.474', u'GP': u'9', u'PLAYER': u'Terrence Jones', u'FT%': u'.559', u'TEAM': u'HOU', u'3PM-3PA': u'0.8-1.9', 'POSITION': u'PF', u'PTS': u'12.9', u'3P%': u'.412'}, {u'FGM-FGA': u'4.5-11.1', u'MPG': u'33.1', u'FTM-FTA': u'2.2-2.9', u'FG%': u'.406', u'GP': u'14', u'PLAYER': u'Al-Farouq Aminu', u'FT%': u'.756', u'TEAM': u'POR', u'3PM-3PA': u'1.6-4.6', 'POSITION': u'SF', u'PTS': u'12.9', u'3P%': u'.354'}, {u'FGM-FGA': u'5.7-12.6', u'MPG': u'33.3', u'FTM-FTA': u'0.9-1.5', u'FG%': u'.451', u'GP': u'13', u'PLAYER': u'Serge Ibaka', u'FT%': u'.600', u'TEAM': u'OKC', u'3PM-3PA': u'0.5-1.3', 'POSITION': u'PF', u'PTS': u'12.8', u'3P%': u'.412'}, {u'FGM-FGA': u'4.9-8.9', u'MPG': u'27.3', u'FTM-FTA': u'2.9-3.7', u'FG%': u'.556', u'GP': u'14', u'PLAYER': u'Jonas Valanciunas', u'FT%': u'.769', u'TEAM': u'TOR', u'3PM-3PA': u'0.0-0.0', 'POSITION': u'C', u'PTS': u'12.7', u'3P%': u'.000'}, {u'FGM-FGA': u'5.2-12.6', u'MPG': u'33.0', u'FTM-FTA': u'1.5-2.2', u'FG%': u'.415', u'GP': u'13', u'PLAYER': u'Monta Ellis', u'FT%': u'.714', u'TEAM': u'IND', u'3PM-3PA': u'0.7-2.7', 'POSITION': u'PG', u'PTS': u'12.7', u'3P%': u'.257'}, {u'FGM-FGA': u'5.5-12.8', u'MPG': u'30.7', u'FTM-FTA': u'0.2-0.5', u'FG%': u'.429', u'GP': u'6', u'PLAYER': u'Arron Afflalo', u'FT%': u'.333', u'TEAM': u'NY', u'3PM-3PA': u'1.5-3.8', 'POSITION': u'SG', u'PTS': u'12.7', u'3P%': u'.391'}, {u'FGM-FGA': u'5.6-12.7', u'MPG': u'36.0', u'FTM-FTA': u'0.5-1.4', u'FG%': u'.444', u'GP': u'14', u'PLAYER': u'Rajon Rondo', u'FT%': u'.350', u'TEAM': u'SAC', u'3PM-3PA': u'0.9-2.4', 'POSITION': u'PG', u'PTS': u'12.6', u'3P%': u'.364'}, {u'FGM-FGA': u'4.6-12.3', u'MPG': u'35.6', u'FTM-FTA': u'1.5-2.4', u'FG%': u'.378', u'GP': u'11', u'PLAYER': u'DeMarre Carroll', u'FT%': u'.615', u'TEAM': u'TOR', u'3PM-3PA': u'1.9-5.3', 'POSITION': u'SF', u'PTS': u'12.6', u'3P%': u'.362'}, {u'FGM-FGA': u'5.2-9.7', u'MPG': u'23.9', u'FTM-FTA': u'0.8-1.2', u'FG%': u'.534', u'GP': u'12', u'PLAYER': u'Jeremy Lamb', u'FT%': u'.714', u'TEAM': u'CHA', u'3PM-3PA': u'1.4-3.8', 'POSITION': u'SG', u'PTS': u'12.6', u'3P%': u'.370'}, {u'FGM-FGA': u'4.6-13.8', u'MPG': u'30.2', u'FTM-FTA': u'2.3-3.5', u'FG%': u'.333', u'GP': u'13', u'PLAYER': u'Emmanuel Mudiay', u'FT%': u'.667', u'TEAM': u'DEN', u'3PM-3PA': u'1.0-3.6', 'POSITION': u'PG', u'PTS': u'12.5', u'3P%': u'.277'}, {u'FGM-FGA': u'5.4-9.2', u'MPG': u'27.0', u'FTM-FTA': u'1.7-2.8', u'FG%': u'.588', u'GP': u'13', u'PLAYER': u'Kenneth Faried', u'FT%': u'.595', u'TEAM': u'DEN', u'3PM-3PA': u'0.0-0.0', 'POSITION': u'PF', u'PTS': u'12.5', u'3P%': u'.000'}, {u'FGM-FGA': u'3.3-9.8', u'MPG': u'25.1', u'FTM-FTA': u'4.8-5.8', u'FG%': u'.331', u'GP': u'12', u'PLAYER': u'Louis Williams', u'FT%': u'.829', u'TEAM': u'LAL', u'3PM-3PA': u'1.0-4.3', 'POSITION': u'SG', u'PTS': u'12.3', u'3P%': u'.235'}, {u'FGM-FGA': u'4.1-11.3', u'MPG': u'35.3', u'FTM-FTA': u'2.0-2.6', u'FG%': u'.361', u'GP': u'14', u'PLAYER': u'Trevor Ariza', u'FT%': u'.757', u'TEAM': u'HOU', u'3PM-3PA': u'2.1-6.8', 'POSITION': u'SF', u'PTS': u'12.3', u'3P%': u'.316'}, {u'FGM-FGA': u'4.4-9.6', u'MPG': u'33.8', u'FTM-FTA': u'1.9-2.4', u'FG%': u'.459', u'GP': u'14', u'PLAYER': u'Draymond Green', u'FT%': u'.788', u'TEAM': u'GS', u'3PM-3PA': u'1.6-3.7', 'POSITION': u'SF', u'PTS': u'12.3', u'3P%': u'.423'}, {u'FGM-FGA': u'3.6-9.7', u'MPG': u'27.6', u'FTM-FTA': u'3.2-3.7', u'FG%': u'.368', u'GP': u'14', u'PLAYER': u'Marco Belinelli', u'FT%': u'.865', u'TEAM': u'SAC', u'3PM-3PA': u'1.9-4.9', 'POSITION': u'SG', u'PTS': u'12.2', u'3P%': u'.377'}, {u'FGM-FGA': u'4.7-11.3', u'MPG': u'24.3', u'FTM-FTA': u'1.3-1.7', u'FG%': u'.420', u'GP': u'15', u'PLAYER': u'Dennis Schroder', u'FT%': u'.760', u'TEAM': u'ATL', u'3PM-3PA': u'1.3-3.8', 'POSITION': u'PG', u'PTS': u'12.0', u'3P%': u'.333'}, {u'FGM-FGA': u'4.5-9.2', u'MPG': u'29.0', u'FTM-FTA': u'1.5-1.7', u'FG%': u'.491', u'GP': u'12', u'PLAYER': u'Kent Bazemore', u'FT%': u'.900', u'TEAM': u'ATL', u'3PM-3PA': u'1.5-3.4', 'POSITION': u'SF', u'PTS': u'12.0', u'3P%': u'.439'}, {u'FGM-FGA': u'4.7-9.3', u'MPG': u'20.7', u'FTM-FTA': u'1.0-1.3', u'FG%': u'.505', u'GP': u'10', u'PLAYER': u'Manu Ginobili', u'FT%': u'.769', u'TEAM': u'SA', u'3PM-3PA': u'1.6-3.9', 'POSITION': u'SG', u'PTS': u'12.0', u'3P%': u'.410'}, {u'FGM-FGA': u'4.4-10.0', u'MPG': u'29.9', u'FTM-FTA': u'2.6-3.8', u'FG%': u'.438', u'GP': u'8', u'PLAYER': u'Michael Carter-Williams', u'FT%': u'.700', u'TEAM': u'MIL', u'3PM-3PA': u'0.6-1.9', 'POSITION': u'PG', u'PTS': u'12.0', u'3P%': u'.333'}, {u'FGM-FGA': u'3.7-10.1', u'MPG': u'25.3', u'FTM-FTA': u'2.9-3.4', u'FG%': u'.364', u'GP': u'12', u'PLAYER': u'Nikola Mirotic', u'FT%': u'.854', u'TEAM': u'CHI', u'3PM-3PA': u'1.7-5.3', 'POSITION': u'PF', u'PTS': u'11.9', u'3P%': u'.313'}, {u'FGM-FGA': u'4.0-9.3', u'MPG': u'30.5', u'FTM-FTA': u'2.7-3.2', u'FG%': u'.432', u'GP': u'12', u'PLAYER': u'Jae Crowder', u'FT%': u'.842', u'TEAM': u'BOS', u'3PM-3PA': u'1.3-3.8', 'POSITION': u'SF', u'PTS': u'11.9', u'3P%': u'.326'}, {u'FGM-FGA': u'4.6-9.8', u'MPG': u'22.9', u'FTM-FTA': u'1.3-1.7', u'FG%': u'.470', u'GP': u'12', u'PLAYER': u'Trey Burke', u'FT%': u'.750', u'TEAM': u'UTAH', u'3PM-3PA': u'1.5-3.3', 'POSITION': u'PG', u'PTS': u'11.9', u'3P%': u'.462'}, {u'FGM-FGA': u'4.9-13.3', u'MPG': u'24.9', u'FTM-FTA': u'1.4-2.1', u'FG%': u'.368', u'GP': u'10', u'PLAYER': u'Markieff Morris', u'FT%': u'.667', u'TEAM': u'PHX', u'3PM-3PA': u'0.7-2.6', 'POSITION': u'PF', u'PTS': u'11.9', u'3P%': u'.269'}, {u'FGM-FGA': u'4.3-10.9', u'MPG': u'22.4', u'FTM-FTA': u'2.2-2.8', u'FG%': u'.398', u'GP': u'9', u'PLAYER': u'Jrue Holiday', u'FT%': u'.800', u'TEAM': u'NO', u'3PM-3PA': u'1.0-2.9', 'POSITION': u'PG', u'PTS': u'11.9', u'3P%': u'.346'}, {u'FGM-FGA': u'3.7-10.1', u'MPG': u'30.8', u'FTM-FTA': u'4.0-4.8', u'FG%': u'.363', u'GP': u'9', u'PLAYER': u'Ricky Rubio', u'FT%': u'.837', u'TEAM': u'MIN', u'3PM-3PA': u'0.3-1.9', 'POSITION': u'PG', u'PTS': u'11.7', u'3P%': u'.176'}, {u'FGM-FGA': u'4.0-9.4', u'MPG': u'30.3', u'FTM-FTA': u'1.6-2.0', u'FG%': u'.426', u'GP': u'13', u'PLAYER': u'Jerryd Bayless', u'FT%': u'.808', u'TEAM': u'MIL', u'3PM-3PA': u'2.0-4.5', 'POSITION': u'PG', u'PTS': u'11.6', u'3P%': u'.448'}, {u'FGM-FGA': u'3.8-9.3', u'MPG': u'23.4', u'FTM-FTA': u'3.1-3.7', u'FG%': u'.405', u'GP': u'13', u'PLAYER': u'Jeremy Lin', u'FT%': u'.833', u'TEAM': u'CHA', u'3PM-3PA': u'0.9-3.2', 'POSITION': u'PG', u'PTS': u'11.5', u'3P%': u'.286'}, {u'FGM-FGA': u'4.8-11.9', u'MPG': u'26.3', u'FTM-FTA': u'0.0-0.0', u'FG%': u'.399', u'GP': u'12', u'PLAYER': u'Marcus Thornton', u'FT%': u'.000', u'TEAM': u'HOU', u'3PM-3PA': u'2.0-6.0', 'POSITION': u'SF', u'PTS': u'11.5', u'3P%': u'.333'}, {u'FGM-FGA': u'4.1-8.4', u'MPG': u'27.5', u'FTM-FTA': u'3.0-3.8', u'FG%': u'.488', u'GP': u'10', u'PLAYER': u'Marcin Gortat', u'FT%': u'.789', u'TEAM': u'WSH', u'3PM-3PA': u'0.0-0.0', 'POSITION': u'C', u'PTS': u'11.2', u'3P%': u'.000'}, {u'FGM-FGA': u'4.8-10.2', u'MPG': u'24.3', u'FTM-FTA': u'0.8-1.0', u'FG%': u'.467', u'GP': u'12', u'PLAYER': u'Jared Sullinger', u'FT%': u'.750', u'TEAM': u'BOS', u'3PM-3PA': u'0.8-2.3', 'POSITION': u'C', u'PTS': u'11.1', u'3P%': u'.370'}, {u'FGM-FGA': u'4.3-9.8', u'MPG': u'28.7', u'FTM-FTA': u'2.6-4.0', u'FG%': u'.436', u'GP': u'12', u'PLAYER': u'Julius Randle', u'FT%': u'.646', u'TEAM': u'LAL', u'3PM-3PA': u'0.0-0.3', 'POSITION': u'PF', u'PTS': u'11.1', u'3P%': u'.000'}, {u'FGM-FGA': u'4.6-10.8', u'MPG': u'31.4', u'FTM-FTA': u'1.8-3.1', u'FG%': u'.426', u'GP': u'12', u'PLAYER': u'Nerlens Noel', u'FT%': u'.595', u'TEAM': u'PHI', u'3PM-3PA': u'0.0-0.0', 'POSITION': u'PF', u'PTS': u'11.0', u'3P%': u'.000'}, {u'FGM-FGA': u'4.2-7.8', u'MPG': u'27.2', u'FTM-FTA': u'2.4-3.1', u'FG%': u'.545', u'GP': u'13', u'PLAYER': u'Tim Duncan', u'FT%': u'.775', u'TEAM': u'SA', u'3PM-3PA': u'0.0-0.1', 'POSITION': u'C', u'PTS': u'10.8', u'3P%': u'.000'}, {u'FGM-FGA': u'3.9-11.7', u'MPG': u'34.1', u'FTM-FTA': u'1.9-2.3', u'FG%': u'.336', u'GP': u'13', u'PLAYER': u'Joe Johnson', u'FT%': u'.833', u'TEAM': u'BKN', u'3PM-3PA': u'1.0-3.8', 'POSITION': u'SF', u'PTS': u'10.8', u'3P%': u'.260'}, {u'FGM-FGA': u'3.8-9.5', u'MPG': u'27.8', u'FTM-FTA': u'2.1-2.5', u'FG%': u'.407', u'GP': u'13', u'PLAYER': u'Dion Waiters', u'FT%': u'.844', u'TEAM': u'OKC', u'3PM-3PA': u'1.0-2.6', 'POSITION': u'SG', u'PTS': u'10.8', u'3P%': u'.382'}, {u'FGM-FGA': u'4.3-8.3', u'MPG': u'25.6', u'FTM-FTA': u'0.9-1.8', u'FG%': u'.517', u'GP': u'14', u'PLAYER': u'Omri Casspi', u'FT%': u'.520', u'TEAM': u'SAC', u'3PM-3PA': u'1.2-2.7', 'POSITION': u'SF', u'PTS': u'10.7', u'3P%': u'.447'}, {u'FGM-FGA': u'3.6-7.6', u'MPG': u'26.3', u'FTM-FTA': u'1.7-2.3', u'FG%': u'.472', u'GP': u'14', u'PLAYER': u'Langston Galloway', u'FT%': u'.750', u'TEAM': u'NY', u'3PM-3PA': u'1.9-3.4', 'POSITION': u'PG', u'PTS': u'10.7', u'3P%': u'.553'}, {u'FGM-FGA': u'4.0-11.2', u'MPG': u'32.3', u'FTM-FTA': u'2.2-2.8', u'FG%': u'.359', u'GP': u'13', u'PLAYER': u'Elfrid Payton', u'FT%': u'.757', u'TEAM': u'ORL', u'3PM-3PA': u'0.5-1.5', 'POSITION': u'PG', u'PTS': u'10.7', u'3P%': u'.368'}, {u'FGM-FGA': u'4.0-6.0', u'MPG': u'19.0', u'FTM-FTA': u'1.7-1.7', u'FG%': u'.667', u'GP': u'3', u'PLAYER': u'Joffrey Lauvergne', u'FT%': u'1.000', u'TEAM': u'DEN', u'3PM-3PA': u'1.0-1.3', 'POSITION': u'C', u'PTS': u'10.7', u'3P%': u'.750'}, {u'FGM-FGA': u'4.5-8.7', u'MPG': u'20.5', u'FTM-FTA': u'1.2-1.6', u'FG%': u'.521', u'GP': u'11', u'PLAYER': u'T.J. Warren', u'FT%': u'.722', u'TEAM': u'PHX', u'3PM-3PA': u'0.4-1.1', 'POSITION': u'SF', u'PTS': u'10.6', u'3P%': u'.333'}, {u'FGM-FGA': u'3.2-6.7', u'MPG': u'28.2', u'FTM-FTA': u'4.3-5.5', u'FG%': u'.471', u'GP': u'13', u'PLAYER': u'Zaza Pachulia', u'FT%': u'.789', u'TEAM': u'DAL', u'3PM-3PA': u'0.0-0.0', 'POSITION': u'C', u'PTS': u'10.6', u'3P%': u'.000'}, {u'FGM-FGA': u'3.2-9.6', u'MPG': u'28.0', u'FTM-FTA': u'2.5-2.8', u'FG%': u'.330', u'GP': u'11', u'PLAYER': u'Wesley Matthews', u'FT%': u'.871', u'TEAM': u'DAL', u'3PM-3PA': u'1.7-5.5', 'POSITION': u'SG', u'PTS': u'10.5', u'3P%': u'.311'}, {u'FGM-FGA': u'4.4-10.7', u'MPG': u'28.8', u'FTM-FTA': u'1.2-1.5', u'FG%': u'.410', u'GP': u'13', u'PLAYER': u'Ish Smith', u'FT%': u'.789', u'TEAM': u'NO', u'3PM-3PA': u'0.6-1.8', 'POSITION': u'PG', u'PTS': u'10.5', u'3P%': u'.333'}, {u'FGM-FGA': u'4.0-9.6', u'MPG': u'30.8', u'FTM-FTA': u'1.8-2.3', u'FG%': u'.417', u'GP': u'12', u'PLAYER': u'Goran Dragic', u'FT%': u'.786', u'TEAM': u'MIA', u'3PM-3PA': u'0.7-2.6', 'POSITION': u'SG', u'PTS': u'10.5', u'3P%': u'.258'}, {u'FGM-FGA': u'3.9-8.8', u'MPG': u'28.3', u'FTM-FTA': u'1.3-2.2', u'FG%': u'.448', u'GP': u'12', u'PLAYER': u'Luol Deng', u'FT%': u'.615', u'TEAM': u'MIA', u'3PM-3PA': u'1.3-3.8', 'POSITION': u'SF', u'PTS': u'10.4', u'3P%': u'.326'}, {u'FGM-FGA': u'4.0-7.8', u'MPG': u'31.4', u'FTM-FTA': u'0.6-0.8', u'FG%': u'.510', u'GP': u'13', u'PLAYER': u'Kyle Korver', u'FT%': u'.800', u'TEAM': u'ATL', u'3PM-3PA': u'1.8-4.3', 'POSITION': u'SG', u'PTS': u'10.4', u'3P%': u'.411'}, {u'FGM-FGA': u'4.0-7.4', u'MPG': u'22.2', u'FTM-FTA': u'2.2-3.4', u'FG%': u'.542', u'GP': u'13', u'PLAYER': u'Dwight Powell', u'FT%': u'.659', u'TEAM': u'DAL', u'3PM-3PA': u'0.0-0.0', 'POSITION': u'PF', u'PTS': u'10.2', u'3P%': u'.000'}, {u'FGM-FGA': u'3.0-9.1', u'MPG': u'24.6', u'FTM-FTA': u'2.0-2.4', u'FG%': u'.328', u'GP': u'14', u'PLAYER': u'Isaiah Canaan', u'FT%': u'.824', u'TEAM': u'PHI', u'3PM-3PA': u'2.2-6.2', 'POSITION': u'PG', u'PTS': u'10.2', u'3P%': u'.356'}, {u'FGM-FGA': u'3.9-5.5', u'MPG': u'32.5', u'FTM-FTA': u'2.3-6.2', u'FG%': u'.712', u'GP': u'12', u'PLAYER': u'DeAndre Jordan', u'FT%': u'.378', u'TEAM': u'LAC', u'3PM-3PA': u'0.0-0.0', 'POSITION': u'C', u'PTS': u'10.2', u'3P%': u'.000'}, {u'FGM-FGA': u'4.1-10.3', u'MPG': u'25.5', u'FTM-FTA': u'0.7-0.9', u'FG%': u'.398', u'GP': u'12', u'PLAYER': u\"D'Angelo Russell\", u'FT%': u'.727', u'TEAM': u'LAL', u'3PM-3PA': u'1.3-4.1', 'POSITION': u'PG', u'PTS': u'10.2', u'3P%': u'.327'}, {u'FGM-FGA': u'3.5-7.8', u'MPG': u'25.6', u'FTM-FTA': u'1.4-1.8', u'FG%': u'.455', u'GP': u'13', u'PLAYER': u'Ersan Ilyasova', u'FT%': u'.750', u'TEAM': u'DET', u'3PM-3PA': u'1.7-3.7', 'POSITION': u'PF', u'PTS': u'10.2', u'3P%': u'.458'}, {u'FGM-FGA': u'3.3-7.6', u'MPG': u'19.8', u'FTM-FTA': u'1.3-1.3', u'FG%': u'.440', u'GP': u'12', u'PLAYER': u'Nick Young', u'FT%': u'1.000', u'TEAM': u'LAL', u'3PM-3PA': u'2.1-4.7', 'POSITION': u'SF', u'PTS': u'10.1', u'3P%': u'.446'}, {u'FGM-FGA': u'3.6-8.2', u'MPG': u'32.2', u'FTM-FTA': u'1.2-1.5', u'FG%': u'.443', u'GP': u'13', u'PLAYER': u'Marvin Williams', u'FT%': u'.842', u'TEAM': u'CHA', u'3PM-3PA': u'1.6-4.1', 'POSITION': u'PF', u'PTS': u'10.1', u'3P%': u'.396'}, {u'FGM-FGA': u'3.5-8.3', u'MPG': u'27.1', u'FTM-FTA': u'2.8-3.9', u'FG%': u'.422', u'GP': u'14', u'PLAYER': u'Jerami Grant', u'FT%': u'.709', u'TEAM': u'PHI', u'3PM-3PA': u'0.3-1.8', 'POSITION': u'SF', u'PTS': u'10.1', u'3P%': u'.160'}, {u'FGM-FGA': u'3.8-7.4', u'MPG': u'20.7', u'FTM-FTA': u'0.6-0.8', u'FG%': u'.506', u'GP': u'12', u'PLAYER': u'Doug McDermott', u'FT%': u'.778', u'TEAM': u'CHI', u'3PM-3PA': u'1.8-3.6', 'POSITION': u'SF', u'PTS': u'9.9', u'3P%': u'.512'}, {u'FGM-FGA': u'3.8-6.5', u'MPG': u'28.1', u'FTM-FTA': u'2.3-4.4', u'FG%': u'.582', u'GP': u'14', u'PLAYER': u'Mason Plumlee', u'FT%': u'.525', u'TEAM': u'POR', u'3PM-3PA': u'0.0-0.0', 'POSITION': u'C', u'PTS': u'9.9', u'3P%': u'.000'}, {u'FGM-FGA': u'4.0-8.8', u'MPG': u'26.0', u'FTM-FTA': u'0.9-1.4', u'FG%': u'.452', u'GP': u'13', u'PLAYER': u'Bojan Bogdanovic', u'FT%': u'.667', u'TEAM': u'BKN', u'3PM-3PA': u'0.9-3.1', 'POSITION': u'SG', u'PTS': u'9.8', u'3P%': u'.300'}, {u'FGM-FGA': u'2.8-9.6', u'MPG': u'24.2', u'FTM-FTA': u'3.6-4.0', u'FG%': u'.292', u'GP': u'5', u'PLAYER': u'Robert Covington', u'FT%': u'.900', u'TEAM': u'PHI', u'3PM-3PA': u'0.6-4.8', 'POSITION': u'SF', u'PTS': u'9.8', u'3P%': u'.125'}, {u'FGM-FGA': u'3.6-6.5', u'MPG': u'24.8', u'FTM-FTA': u'2.4-2.9', u'FG%': u'.549', u'GP': u'14', u'PLAYER': u'Cory Joseph', u'FT%': u'.825', u'TEAM': u'TOR', u'3PM-3PA': u'0.3-0.9', 'POSITION': u'PG', u'PTS': u'9.8', u'3P%': u'.308'}, {u'FGM-FGA': u'3.1-9.3', u'MPG': u'29.1', u'FTM-FTA': u'2.4-3.6', u'FG%': u'.333', u'GP': u'9', u'PLAYER': u'Marcus Smart', u'FT%': u'.688', u'TEAM': u'BOS', u'3PM-3PA': u'1.1-4.7', 'POSITION': u'PG', u'PTS': u'9.8', u'3P%': u'.238'}, {u'FGM-FGA': u'3.4-10.2', u'MPG': u'27.8', u'FTM-FTA': u'1.2-1.5', u'FG%': u'.333', u'GP': u'13', u'PLAYER': u'Nik Stauskas', u'FT%': u'.750', u'TEAM': u'PHI', u'3PM-3PA': u'1.8-6.5', 'POSITION': u'SG', u'PTS': u'9.8', u'3P%': u'.282'}, {u'FGM-FGA': u'4.0-9.0', u'MPG': u'22.0', u'FTM-FTA': u'1.6-2.3', u'FG%': u'.444', u'GP': u'8', u'PLAYER': u'Rodney Stuckey', u'FT%': u'.722', u'TEAM': u'IND', u'3PM-3PA': u'0.1-1.1', 'POSITION': u'PG', u'PTS': u'9.8', u'3P%': u'.111'}, {u'FGM-FGA': u'3.8-7.5', u'MPG': u'25.5', u'FTM-FTA': u'0.9-1.2', u'FG%': u'.500', u'GP': u'13', u'PLAYER': u'Gary Harris', u'FT%': u'.800', u'TEAM': u'DEN', u'3PM-3PA': u'1.2-2.8', 'POSITION': u'SG', u'PTS': u'9.7', u'3P%': u'.444'}, {u'FGM-FGA': u'4.2-8.9', u'MPG': u'22.9', u'FTM-FTA': u'0.4-0.7', u'FG%': u'.476', u'GP': u'14', u'PLAYER': u'Luis Scola', u'FT%': u'.600', u'TEAM': u'TOR', u'3PM-3PA': u'0.7-1.4', 'POSITION': u'PF', u'PTS': u'9.6', u'3P%': u'.500'}, {u'FGM-FGA': u'2.4-6.7', u'MPG': u'19.8', u'FTM-FTA': u'4.1-4.4', u'FG%': u'.351', u'GP': u'11', u'PLAYER': u'Mario Chalmers', u'FT%': u'.938', u'TEAM': u'MIA/MEM', u'3PM-3PA': u'0.7-2.4', 'POSITION': u'PG', u'PTS': u'9.5', u'3P%': u'.308'}, {u'FGM-FGA': u'3.9-9.1', u'MPG': u'24.0', u'FTM-FTA': u'1.6-2.2', u'FG%': u'.431', u'GP': u'12', u'PLAYER': u'Jordan Hill', u'FT%': u'.731', u'TEAM': u'IND', u'3PM-3PA': u'0.0-0.0', 'POSITION': u'C', u'PTS': u'9.4', u'3P%': u'.000'}, {u'FGM-FGA': u'2.7-5.3', u'MPG': u'26.8', u'FTM-FTA': u'3.9-4.4', u'FG%': u'.500', u'GP': u'12', u'PLAYER': u'Roy Hibbert', u'FT%': u'.887', u'TEAM': u'LAL', u'3PM-3PA': u'0.0-0.2', 'POSITION': u'C', u'PTS': u'9.3', u'3P%': u'.000'}, {u'FGM-FGA': u'3.5-8.0', u'MPG': u'25.0', u'FTM-FTA': u'1.4-2.5', u'FG%': u'.438', u'GP': u'12', u'PLAYER': u'Austin Rivers', u'FT%': u'.567', u'TEAM': u'LAC', u'3PM-3PA': u'0.8-2.9', 'POSITION': u'SG', u'PTS': u'9.3', u'3P%': u'.286'}, {u'FGM-FGA': u'3.6-10.0', u'MPG': u'30.4', u'FTM-FTA': u'0.3-0.9', u'FG%': u'.360', u'GP': u'10', u'PLAYER': u'J.R. Smith', u'FT%': u'.333', u'TEAM': u'CLE', u'3PM-3PA': u'1.7-5.0', 'POSITION': u'SG', u'PTS': u'9.2', u'3P%': u'.340'}, {u'FGM-FGA': u'3.6-7.0', u'MPG': u'29.1', u'FTM-FTA': u'0.7-1.3', u'FG%': u'.510', u'GP': u'14', u'PLAYER': u'Andre Iguodala', u'FT%': u'.556', u'TEAM': u'GS', u'3PM-3PA': u'1.3-2.9', 'POSITION': u'SG', u'PTS': u'9.1', u'3P%': u'.450'}, {u'FGM-FGA': u'3.1-8.1', u'MPG': u'25.5', u'FTM-FTA': u'2.3-2.6', u'FG%': u'.377', u'GP': u'14', u'PLAYER': u'Jeff Green', u'FT%': u'.889', u'TEAM': u'MEM', u'3PM-3PA': u'0.6-2.1', 'POSITION': u'SF', u'PTS': u'9.1', u'3P%': u'.310'}, {u'FGM-FGA': u'3.1-8.4', u'MPG': u'28.9', u'FTM-FTA': u'2.1-2.2', u'FG%': u'.373', u'GP': u'14', u'PLAYER': u'Courtney Lee', u'FT%': u'.935', u'TEAM': u'MEM', u'3PM-3PA': u'0.6-3.1', 'POSITION': u'SG', u'PTS': u'9.0', u'3P%': u'.209'}, {u'FGM-FGA': u'2.5-5.7', u'MPG': u'18.0', u'FTM-FTA': u'3.4-4.5', u'FG%': u'.439', u'GP': u'10', u'PLAYER': u'Ramon Sessions', u'FT%': u'.756', u'TEAM': u'WSH', u'3PM-3PA': u'0.6-1.1', 'POSITION': u'PG', u'PTS': u'9.0', u'3P%': u'.545'}, {u'FGM-FGA': u'3.2-5.4', u'MPG': u'17.0', u'FTM-FTA': u'1.4-1.6', u'FG%': u'.593', u'GP': u'5', u'PLAYER': u'Kirk Hinrich', u'FT%': u'.875', u'TEAM': u'CHI', u'3PM-3PA': u'1.2-1.6', 'POSITION': u'SG', u'PTS': u'9.0', u'3P%': u'.750'}, {u'FGM-FGA': u'3.8-8.3', u'MPG': u'24.5', u'FTM-FTA': u'1.0-1.2', u'FG%': u'.450', u'GP': u'12', u'PLAYER': u'Evan Turner', u'FT%': u'.857', u'TEAM': u'BOS', u'3PM-3PA': u'0.3-1.6', 'POSITION': u'SG', u'PTS': u'8.8', u'3P%': u'.211'}, {u'FGM-FGA': u'3.2-6.1', u'MPG': u'34.7', u'FTM-FTA': u'2.3-3.8', u'FG%': u'.525', u'GP': u'10', u'PLAYER': u'Rudy Gobert', u'FT%': u'.605', u'TEAM': u'UTAH', u'3PM-3PA': u'0.0-0.0', 'POSITION': u'C', u'PTS': u'8.7', u'3P%': u'.000'}, {u'FGM-FGA': u'3.9-7.4', u'MPG': u'23.4', u'FTM-FTA': u'0.9-1.0', u'FG%': u'.519', u'GP': u'7', u'PLAYER': u'Jabari Parker', u'FT%': u'.857', u'TEAM': u'MIL', u'3PM-3PA': u'0.0-0.0', 'POSITION': u'SF', u'PTS': u'8.6', u'3P%': u'.000'}, {u'FGM-FGA': u'3.3-6.2', u'MPG': u'20.8', u'FTM-FTA': u'1.2-1.6', u'FG%': u'.529', u'GP': u'11', u'PLAYER': u'Tyler Johnson', u'FT%': u'.722', u'TEAM': u'MIA', u'3PM-3PA': u'0.8-1.7', 'POSITION': u'SG', u'PTS': u'8.5', u'3P%': u'.474'}, {u'FGM-FGA': u'3.4-7.7', u'MPG': u'15.6', u'FTM-FTA': u'0.5-0.6', u'FG%': u'.442', u'GP': u'10', u'PLAYER': u'Aaron Brooks', u'FT%': u'.833', u'TEAM': u'CHI', u'3PM-3PA': u'1.2-3.3', 'POSITION': u'PG', u'PTS': u'8.5', u'3P%': u'.364'}, {u'FGM-FGA': u'3.2-8.1', u'MPG': u'24.8', u'FTM-FTA': u'1.5-1.8', u'FG%': u'.400', u'GP': u'13', u'PLAYER': u'Raymond Felton', u'FT%': u'.870', u'TEAM': u'DAL', u'3PM-3PA': u'0.5-2.1', 'POSITION': u'PG', u'PTS': u'8.5', u'3P%': u'.222'}, {u'FGM-FGA': u'3.3-7.6', u'MPG': u'26.3', u'FTM-FTA': u'0.9-1.0', u'FG%': u'.441', u'GP': u'9', u'PLAYER': u'Meyers Leonard', u'FT%': u'.889', u'TEAM': u'POR', u'3PM-3PA': u'0.9-3.4', 'POSITION': u'PF', u'PTS': u'8.4', u'3P%': u'.258'}, {u'FGM-FGA': u'3.3-7.4', u'MPG': u'21.4', u'FTM-FTA': u'0.1-0.2', u'FG%': u'.448', u'GP': u'13', u'PLAYER': u'Patty Mills', u'FT%': u'.500', u'TEAM': u'SA', u'3PM-3PA': u'1.6-3.8', 'POSITION': u'PG', u'PTS': u'8.3', u'3P%': u'.420'}, {u'FGM-FGA': u'2.9-6.5', u'MPG': u'19.8', u'FTM-FTA': u'2.2-3.2', u'FG%': u'.452', u'GP': u'13', u'PLAYER': u'Aaron Gordon', u'FT%': u'.683', u'TEAM': u'ORL', u'3PM-3PA': u'0.3-1.5', 'POSITION': u'PF', u'PTS': u'8.3', u'3P%': u'.211'}, {u'FGM-FGA': u'3.3-5.6', u'MPG': u'20.3', u'FTM-FTA': u'1.7-3.1', u'FG%': u'.590', u'GP': u'14', u'PLAYER': u'Festus Ezeli', u'FT%': u'.558', u'TEAM': u'GS', u'3PM-3PA': u'0.0-0.0', 'POSITION': u'C', u'PTS': u'8.3', u'3P%': u'.000'}, {u'FGM-FGA': u'2.7-7.5', u'MPG': u'27.5', u'FTM-FTA': u'1.0-1.3', u'FG%': u'.362', u'GP': u'14', u'PLAYER': u'Hollis Thompson', u'FT%': u'.778', u'TEAM': u'PHI', u'3PM-3PA': u'1.9-4.8', 'POSITION': u'SG', u'PTS': u'8.3', u'3P%': u'.388'}, {u'FGM-FGA': u'3.4-7.0', u'MPG': u'22.6', u'FTM-FTA': u'0.6-0.8', u'FG%': u'.480', u'GP': u'14', u'PLAYER': u'Allen Crabbe', u'FT%': u'.818', u'TEAM': u'POR', u'3PM-3PA': u'0.9-2.6', 'POSITION': u'SF', u'PTS': u'8.3', u'3P%': u'.361'}, {u'FGM-FGA': u'3.3-5.8', u'MPG': u'18.6', u'FTM-FTA': u'1.6-2.9', u'FG%': u'.577', u'GP': u'9', u'PLAYER': u'Nene Hilario', u'FT%': u'.538', u'TEAM': u'WSH', u'3PM-3PA': u'0.0-0.1', 'POSITION': u'PF', u'PTS': u'8.2', u'3P%': u'.000'}, {u'FGM-FGA': u'2.8-6.7', u'MPG': u'20.8', u'FTM-FTA': u'1.2-1.2', u'FG%': u'.418', u'GP': u'10', u'PLAYER': u'Kris Humphries', u'FT%': u'1.000', u'TEAM': u'WSH', u'3PM-3PA': u'1.4-3.4', 'POSITION': u'PF', u'PTS': u'8.2', u'3P%': u'.412'}, {u'FGM-FGA': u'3.5-6.3', u'MPG': u'17.7', u'FTM-FTA': u'1.3-2.7', u'FG%': u'.551', u'GP': u'11', u'PLAYER': u'J.J. Hickson', u'FT%': u'.467', u'TEAM': u'DEN', u'3PM-3PA': u'0.0-0.0', 'POSITION': u'PF', u'PTS': u'8.2', u'3P%': u'.000'}, {u'FGM-FGA': u'3.4-6.0', u'MPG': u'23.4', u'FTM-FTA': u'1.1-1.8', u'FG%': u'.569', u'GP': u'12', u'PLAYER': u'Amir Johnson', u'FT%': u'.591', u'TEAM': u'BOS', u'3PM-3PA': u'0.3-1.0', 'POSITION': u'PF', u'PTS': u'8.2', u'3P%': u'.250'}, {u'FGM-FGA': u'3.1-7.9', u'MPG': u'20.2', u'FTM-FTA': u'1.3-1.7', u'FG%': u'.388', u'GP': u'13', u'PLAYER': u'J.J. Barea', u'FT%': u'.773', u'TEAM': u'DAL', u'3PM-3PA': u'0.7-2.6', 'POSITION': u'PG', u'PTS': u'8.2', u'3P%': u'.265'}, {u'FGM-FGA': u'2.9-6.7', u'MPG': u'18.0', u'FTM-FTA': u'1.3-1.4', u'FG%': u'.432', u'GP': u'11', u'PLAYER': u'Toney Douglas', u'FT%': u'.933', u'TEAM': u'NO', u'3PM-3PA': u'1.0-2.5', 'POSITION': u'PG', u'PTS': u'8.1', u'3P%': u'.393'}, {u'FGM-FGA': u'3.7-6.8', u'MPG': u'23.4', u'FTM-FTA': u'0.6-1.0', u'FG%': u'.547', u'GP': u'14', u'PLAYER': u'Kosta Koufos', u'FT%': u'.571', u'TEAM': u'SAC', u'3PM-3PA': u'0.0-0.0', 'POSITION': u'C', u'PTS': u'8.0', u'3P%': u'.000'}, {u'FGM-FGA': u'3.0-8.8', u'MPG': u'24.5', u'FTM-FTA': u'0.9-1.2', u'FG%': u'.340', u'GP': u'11', u'PLAYER': u'Jameer Nelson', u'FT%': u'.769', u'TEAM': u'DEN', u'3PM-3PA': u'1.1-4.1', 'POSITION': u'PG', u'PTS': u'8.0', u'3P%': u'.267'}, {u'FGM-FGA': u'3.2-7.1', u'MPG': u'25.7', u'FTM-FTA': u'1.5-1.6', u'FG%': u'.455', u'GP': u'14', u'PLAYER': u'Robin Lopez', u'FT%': u'.955', u'TEAM': u'NY', u'3PM-3PA': u'0.0-0.0', 'POSITION': u'C', u'PTS': u'7.9', u'3P%': u'.000'}, {u'FGM-FGA': u'2.8-5.3', u'MPG': u'20.8', u'FTM-FTA': u'2.3-3.0', u'FG%': u'.516', u'GP': u'12', u'PLAYER': u'Timofey Mozgov', u'FT%': u'.778', u'TEAM': u'CLE', u'3PM-3PA': u'0.1-0.3', 'POSITION': u'C', u'PTS': u'7.9', u'3P%': u'.333'}, {u'FGM-FGA': u'3.0-6.0', u'MPG': u'17.7', u'FTM-FTA': u'1.6-2.1', u'FG%': u'.500', u'GP': u'13', u'PLAYER': u'Shabazz Muhammad', u'FT%': u'.778', u'TEAM': u'MIN', u'3PM-3PA': u'0.2-1.2', 'POSITION': u'SF', u'PTS': u'7.8', u'3P%': u'.188'}, {u'FGM-FGA': u'2.6-8.1', u'MPG': u'32.2', u'FTM-FTA': u'1.9-2.9', u'FG%': u'.316', u'GP': u'14', u'PLAYER': u'Ty Lawson', u'FT%': u'.675', u'TEAM': u'HOU', u'3PM-3PA': u'0.6-2.6', 'POSITION': u'PG', u'PTS': u'7.7', u'3P%': u'.250'}, {u'FGM-FGA': u'3.1-7.1', u'MPG': u'18.7', u'FTM-FTA': u'0.8-0.8', u'FG%': u'.437', u'GP': u'10', u'PLAYER': u'Gary Neal', u'FT%': u'1.000', u'TEAM': u'WSH', u'3PM-3PA': u'0.7-2.1', 'POSITION': u'PG', u'PTS': u'7.7', u'3P%': u'.333'}, {u'FGM-FGA': u'3.2-5.5', u'MPG': u'25.9', u'FTM-FTA': u'1.2-2.3', u'FG%': u'.592', u'GP': u'13', u'PLAYER': u'Tristan Thompson', u'FT%': u'.533', u'TEAM': u'CLE', u'3PM-3PA': u'0.0-0.0', 'POSITION': u'C', u'PTS': u'7.7', u'3P%': u'.000'}, {u'FGM-FGA': u'3.0-7.5', u'MPG': u'17.5', u'FTM-FTA': u'0.7-1.0', u'FG%': u'.402', u'GP': u'11', u'PLAYER': u'Kelly Olynyk', u'FT%': u'.727', u'TEAM': u'BOS', u'3PM-3PA': u'0.9-3.2', 'POSITION': u'C', u'PTS': u'7.6', u'3P%': u'.286'}, {u'FGM-FGA': u'2.7-7.0', u'MPG': u'22.4', u'FTM-FTA': u'1.8-2.8', u'FG%': u'.385', u'GP': u'13', u'PLAYER': u'Devin Harris', u'FT%': u'.622', u'TEAM': u'DAL', u'3PM-3PA': u'0.5-2.7', 'POSITION': u'PG', u'PTS': u'7.6', u'3P%': u'.171'}, {u'FGM-FGA': u'3.2-6.6', u'MPG': u'17.1', u'FTM-FTA': u'0.4-1.2', u'FG%': u'.492', u'GP': u'9', u'PLAYER': u'Chandler Parsons', u'FT%': u'.364', u'TEAM': u'DAL', u'3PM-3PA': u'0.7-2.2', 'POSITION': u'SF', u'PTS': u'7.6', u'3P%': u'.300'}, {u'FGM-FGA': u'2.8-6.1', u'MPG': u'24.4', u'FTM-FTA': u'0.8-1.4', u'FG%': u'.456', u'GP': u'13', u'PLAYER': u'Richard Jefferson', u'FT%': u'.611', u'TEAM': u'CLE', u'3PM-3PA': u'1.2-3.0', 'POSITION': u'SF', u'PTS': u'7.5', u'3P%': u'.385'}, {u'FGM-FGA': u'2.9-6.4', u'MPG': u'25.4', u'FTM-FTA': u'0.5-0.5', u'FG%': u'.449', u'GP': u'14', u'PLAYER': u'Jose Calderon', u'FT%': u'1.000', u'TEAM': u'NY', u'3PM-3PA': u'1.3-3.1', 'POSITION': u'PG', u'PTS': u'7.5', u'3P%': u'.419'}, {u'FGM-FGA': u'2.7-6.5', u'MPG': u'19.4', u'FTM-FTA': u'0.9-1.2', u'FG%': u'.418', u'GP': u'14', u'PLAYER': u'Ben McLemore', u'FT%': u'.765', u'TEAM': u'SAC', u'3PM-3PA': u'1.1-2.5', 'POSITION': u'SG', u'PTS': u'7.5', u'3P%': u'.457'}, {u'FGM-FGA': u'3.2-4.4', u'MPG': u'18.0', u'FTM-FTA': u'1.1-2.2', u'FG%': u'.726', u'GP': u'14', u'PLAYER': u'Clint Capela', u'FT%': u'.484', u'TEAM': u'HOU', u'3PM-3PA': u'0.0-0.0', 'POSITION': u'C', u'PTS': u'7.5', u'3P%': u'.000'}, {u'FGM-FGA': u'3.0-6.5', u'MPG': u'28.1', u'FTM-FTA': u'1.1-1.8', u'FG%': u'.462', u'GP': u'12', u'PLAYER': u'Justise Winslow', u'FT%': u'.619', u'TEAM': u'MIA', u'3PM-3PA': u'0.4-1.8', 'POSITION': u'SF', u'PTS': u'7.5', u'3P%': u'.227'}, {u'FGM-FGA': u'3.1-7.9', u'MPG': u'20.3', u'FTM-FTA': u'0.7-1.2', u'FG%': u'.388', u'GP': u'13', u'PLAYER': u'Stanley Johnson', u'FT%': u'.600', u'TEAM': u'DET', u'3PM-3PA': u'0.6-2.6', 'POSITION': u'SF', u'PTS': u'7.5', u'3P%': u'.235'}, {u'FGM-FGA': u'2.1-5.9', u'MPG': u'12.7', u'FTM-FTA': u'2.6-3.6', u'FG%': u'.366', u'GP': u'14', u'PLAYER': u'Derrick Williams', u'FT%': u'.725', u'TEAM': u'NY', u'3PM-3PA': u'0.4-1.6', 'POSITION': u'PF', u'PTS': u'7.4', u'3P%': u'.273'}, {u'FGM-FGA': u'2.2-7.8', u'MPG': u'19.3', u'FTM-FTA': u'1.7-2.0', u'FG%': u'.277', u'GP': u'6', u'PLAYER': u'Gerald Green', u'FT%': u'.833', u'TEAM': u'MIA', u'3PM-3PA': u'1.3-4.3', 'POSITION': u'SG', u'PTS': u'7.3', u'3P%': u'.308'}, {u'FGM-FGA': u'2.8-6.7', u'MPG': u'27.1', u'FTM-FTA': u'0.8-0.9', u'FG%': u'.425', u'GP': u'13', u'PLAYER': u'Matthew Dellavedova', u'FT%': u'.833', u'TEAM': u'CLE', u'3PM-3PA': u'0.8-2.5', 'POSITION': u'SG', u'PTS': u'7.3', u'3P%': u'.333'}, {u'FGM-FGA': u'2.6-5.1', u'MPG': u'15.8', u'FTM-FTA': u'2.1-2.5', u'FG%': u'.508', u'GP': u'12', u'PLAYER': u'David Lee', u'FT%': u'.833', u'TEAM': u'BOS', u'3PM-3PA': u'0.0-0.0', 'POSITION': u'PF', u'PTS': u'7.3', u'3P%': u'.000'}, {u'FGM-FGA': u'2.5-5.8', u'MPG': u'26.5', u'FTM-FTA': u'0.9-1.6', u'FG%': u'.435', u'GP': u'12', u'PLAYER': u'Nemanja Bjelica', u'FT%': u'.579', u'TEAM': u'MIN', u'3PM-3PA': u'1.3-3.8', 'POSITION': u'PF', u'PTS': u'7.3', u'3P%': u'.356'}, {u'FGM-FGA': u'2.6-7.9', u'MPG': u'28.6', u'FTM-FTA': u'0.6-0.8', u'FG%': u'.330', u'GP': u'13', u'PLAYER': u'Danny Green', u'FT%': u'.727', u'TEAM': u'SA', u'3PM-3PA': u'1.4-4.7', 'POSITION': u'SG', u'PTS': u'7.2', u'3P%': u'.295'}, {u'FGM-FGA': u'2.4-7.3', u'MPG': u'23.8', u'FTM-FTA': u'1.5-1.8', u'FG%': u'.326', u'GP': u'13', u'PLAYER': u'Greivis Vasquez', u'FT%': u'.870', u'TEAM': u'MIL', u'3PM-3PA': u'0.8-3.5', 'POSITION': u'PG', u'PTS': u'7.2', u'3P%': u'.239'}, {u'FGM-FGA': u'2.9-7.3', u'MPG': u'14.3', u'FTM-FTA': u'0.3-0.4', u'FG%': u'.400', u'GP': u'11', u'PLAYER': u'Charlie Villanueva', u'FT%': u'.750', u'TEAM': u'DAL', u'3PM-3PA': u'1.0-3.8', 'POSITION': u'PF', u'PTS': u'7.1', u'3P%': u'.262'}, {u'FGM-FGA': u'3.3-6.5', u'MPG': u'28.8', u'FTM-FTA': u'0.0-0.0', u'FG%': u'.505', u'GP': u'14', u'PLAYER': u'T.J. McConnell', u'FT%': u'.000', u'TEAM': u'PHI', u'3PM-3PA': u'0.5-1.6', 'POSITION': u'PG', u'PTS': u'7.1', u'3P%': u'.318'}, {u'FGM-FGA': u'2.8-5.8', u'MPG': u'17.5', u'FTM-FTA': u'0.5-0.7', u'FG%': u'.487', u'GP': u'13', u'PLAYER': u'Shane Larkin', u'FT%': u'.667', u'TEAM': u'BKN', u'3PM-3PA': u'0.8-1.5', 'POSITION': u'PG', u'PTS': u'6.9', u'3P%': u'.500'}, {u'FGM-FGA': u'2.8-5.5', u'MPG': u'22.2', u'FTM-FTA': u'0.8-1.3', u'FG%': u'.500', u'GP': u'12', u'PLAYER': u'Thabo Sefolosha', u'FT%': u'.563', u'TEAM': u'ATL', u'3PM-3PA': u'0.7-1.7', 'POSITION': u'SG', u'PTS': u'6.9', u'3P%': u'.400'}, {u'FGM-FGA': u'2.8-5.1', u'MPG': u'15.5', u'FTM-FTA': u'1.3-1.8', u'FG%': u'.541', u'GP': u'12', u'PLAYER': u'Nikola Jokic', u'FT%': u'.762', u'TEAM': u'DEN', u'3PM-3PA': u'0.1-0.3', 'POSITION': u'C', u'PTS': u'6.9', u'3P%': u'.333'}, {u'FGM-FGA': u'2.3-5.4', u'MPG': u'18.8', u'FTM-FTA': u'1.0-1.6', u'FG%': u'.419', u'GP': u'8', u'PLAYER': u'Metta World Peace', u'FT%': u'.615', u'TEAM': u'LAL', u'3PM-3PA': u'1.4-3.1', 'POSITION': u'SF', u'PTS': u'6.9', u'3P%': u'.440'}, {u'FGM-FGA': u'3.1-4.6', u'MPG': u'20.3', u'FTM-FTA': u'0.6-1.3', u'FG%': u'.676', u'GP': u'8', u'PLAYER': u'Andrew Bogut', u'FT%': u'.500', u'TEAM': u'GS', u'3PM-3PA': u'0.0-0.0', 'POSITION': u'C', u'PTS': u'6.9', u'3P%': u'.000'}, {u'FGM-FGA': u'2.4-5.5', u'MPG': u'25.3', u'FTM-FTA': u'1.3-1.7', u'FG%': u'.439', u'GP': u'12', u'PLAYER': u'P.J. Tucker', u'FT%': u'.750', u'TEAM': u'PHX', u'3PM-3PA': u'0.8-2.4', 'POSITION': u'SF', u'PTS': u'6.8', u'3P%': u'.310'}, {u'FGM-FGA': u'2.4-5.8', u'MPG': u'16.2', u'FTM-FTA': u'1.8-3.0', u'FG%': u'.414', u'GP': u'5', u'PLAYER': u'Spencer Dinwiddie', u'FT%': u'.600', u'TEAM': u'DET', u'3PM-3PA': u'0.2-1.2', 'POSITION': u'PG', u'PTS': u'6.8', u'3P%': u'.167'}, {u'FGM-FGA': u'3.2-6.1', u'MPG': u'24.3', u'FTM-FTA': u'0.3-1.8', u'FG%': u'.521', u'GP': u'12', u'PLAYER': u'Ian Mahinmi', u'FT%': u'.190', u'TEAM': u'IND', u'3PM-3PA': u'0.0-0.0', 'POSITION': u'C', u'PTS': u'6.7', u'3P%': u'.000'}, {u'FGM-FGA': u'2.3-4.6', u'MPG': u'16.0', u'FTM-FTA': u'1.3-1.9', u'FG%': u'.512', u'GP': u'9', u'PLAYER': u'Glenn Robinson III', u'FT%': u'.706', u'TEAM': u'IND', u'3PM-3PA': u'0.7-1.3', 'POSITION': u'SG', u'PTS': u'6.7', u'3P%': u'.500'}, {u'FGM-FGA': u'2.4-7.8', u'MPG': u'22.0', u'FTM-FTA': u'1.4-1.9', u'FG%': u'.303', u'GP': u'14', u'PLAYER': u'Corey Brewer', u'FT%': u'.704', u'TEAM': u'HOU', u'3PM-3PA': u'0.6-2.6', 'POSITION': u'SG', u'PTS': u'6.6', u'3P%': u'.216'}, {u'FGM-FGA': u'2.4-5.3', u'MPG': u'18.7', u'FTM-FTA': u'1.2-1.4', u'FG%': u'.459', u'GP': u'14', u'PLAYER': u'Lance Thomas', u'FT%': u'.850', u'TEAM': u'NY', u'3PM-3PA': u'0.6-1.4', 'POSITION': u'SF', u'PTS': u'6.6', u'3P%': u'.421'}, {u'FGM-FGA': u'2.4-5.3', u'MPG': u'18.4', u'FTM-FTA': u'1.5-1.9', u'FG%': u'.446', u'GP': u'14', u'PLAYER': u'JaMychal Green', u'FT%': u'.808', u'TEAM': u'MEM', u'3PM-3PA': u'0.4-0.6', 'POSITION': u'PF', u'PTS': u'6.6', u'3P%': u'.556'}, {u'FGM-FGA': u'2.6-4.3', u'MPG': u'17.1', u'FTM-FTA': u'1.4-2.6', u'FG%': u'.600', u'GP': u'7', u'PLAYER': u'Brandan Wright', u'FT%': u'.556', u'TEAM': u'MEM', u'3PM-3PA': u'0.0-0.0', 'POSITION': u'PF', u'PTS': u'6.6', u'3P%': u'.000'}, {u'FGM-FGA': u'2.4-6.3', u'MPG': u'17.0', u'FTM-FTA': u'0.6-0.6', u'FG%': u'.380', u'GP': u'8', u'PLAYER': u'Terrence Ross', u'FT%': u'1.000', u'TEAM': u'TOR', u'3PM-3PA': u'1.1-3.5', 'POSITION': u'SF', u'PTS': u'6.5', u'3P%': u'.321'}, {u'FGM-FGA': u'2.5-5.0', u'MPG': u'18.5', u'FTM-FTA': u'0.0-0.0', u'FG%': u'.500', u'GP': u'2', u'PLAYER': u'O.J. Mayo', u'FT%': u'.000', u'TEAM': u'MIL', u'3PM-3PA': u'1.5-3.5', 'POSITION': u'SG', u'PTS': u'6.5', u'3P%': u'.429'}, {u'FGM-FGA': u'2.6-4.6', u'MPG': u'14.2', u'FTM-FTA': u'1.3-2.1', u'FG%': u'.561', u'GP': u'9', u'PLAYER': u'John Henson', u'FT%': u'.632', u'TEAM': u'MIL', u'3PM-3PA': u'0.0-0.0', 'POSITION': u'PF', u'PTS': u'6.4', u'3P%': u'.000'}, {u'FGM-FGA': u'2.2-6.6', u'MPG': u'22.1', u'FTM-FTA': u'1.1-1.2', u'FG%': u'.333', u'GP': u'14', u'PLAYER': u'Matt Barnes', u'FT%': u'.882', u'TEAM': u'MEM', u'3PM-3PA': u'0.9-3.6', 'POSITION': u'SF', u'PTS': u'6.4', u'3P%': u'.255'}, {u'FGM-FGA': u'2.6-5.3', u'MPG': u'21.9', u'FTM-FTA': u'1.3-2.2', u'FG%': u'.492', u'GP': u'12', u'PLAYER': u'Taj Gibson', u'FT%': u'.577', u'TEAM': u'CHI', u'3PM-3PA': u'0.0-0.1', 'POSITION': u'PF', u'PTS': u'6.4', u'3P%': u'.000'}, {u'FGM-FGA': u'2.3-4.8', u'MPG': u'16.3', u'FTM-FTA': u'1.8-2.6', u'FG%': u'.483', u'GP': u'12', u'PLAYER': u'Alex Len', u'FT%': u'.677', u'TEAM': u'PHX', u'3PM-3PA': u'0.0-0.0', 'POSITION': u'C', u'PTS': u'6.4', u'3P%': u'.000'}, {u'FGM-FGA': u'2.6-5.5', u'MPG': u'18.9', u'FTM-FTA': u'1.2-1.4', u'FG%': u'.479', u'GP': u'13', u'PLAYER': u'Gorgui Dieng', u'FT%': u'.833', u'TEAM': u'MIN', u'3PM-3PA': u'0.0-0.0', 'POSITION': u'C', u'PTS': u'6.4', u'3P%': u'.000'}, {u'FGM-FGA': u'1.9-4.5', u'MPG': u'15.4', u'FTM-FTA': u'1.8-2.1', u'FG%': u'.417', u'GP': u'8', u'PLAYER': u'Garrett Temple', u'FT%': u'.824', u'TEAM': u'WSH', u'3PM-3PA': u'0.9-2.3', 'POSITION': u'SG', u'PTS': u'6.4', u'3P%': u'.389'}, {u'FGM-FGA': u'2.1-4.9', u'MPG': u'21.1', u'FTM-FTA': u'2.2-3.5', u'FG%': u'.426', u'GP': u'11', u'PLAYER': u'Cody Zeller', u'FT%': u'.615', u'TEAM': u'CHA', u'3PM-3PA': u'0.0-0.5', 'POSITION': u'PF', u'PTS': u'6.4', u'3P%': u'.000'}, {u'FGM-FGA': u'1.9-5.4', u'MPG': u'19.5', u'FTM-FTA': u'2.4-2.8', u'FG%': u'.360', u'GP': u'14', u'PLAYER': u'Jerian Grant', u'FT%': u'.846', u'TEAM': u'NY', u'3PM-3PA': u'0.1-1.2', 'POSITION': u'PG', u'PTS': u'6.4', u'3P%': u'.118'}, {u'FGM-FGA': u'2.3-5.0', u'MPG': u'14.9', u'FTM-FTA': u'0.4-0.5', u'FG%': u'.450', u'GP': u'8', u'PLAYER': u'Channing Frye', u'FT%': u'.750', u'TEAM': u'ORL', u'3PM-3PA': u'1.4-3.8', 'POSITION': u'PF', u'PTS': u'6.3', u'3P%': u'.367'}, {u'FGM-FGA': u'2.4-3.9', u'MPG': u'20.9', u'FTM-FTA': u'1.4-2.5', u'FG%': u'.618', u'GP': u'14', u'PLAYER': u'Ed Davis', u'FT%': u'.543', u'TEAM': u'POR', u'3PM-3PA': u'0.0-0.0', 'POSITION': u'PF', u'PTS': u'6.2', u'3P%': u'.000'}, {u'FGM-FGA': u'2.1-4.7', u'MPG': u'17.6', u'FTM-FTA': u'1.2-1.7', u'FG%': u'.443', u'GP': u'13', u'PLAYER': u'D.J. Augustin', u'FT%': u'.682', u'TEAM': u'OKC', u'3PM-3PA': u'0.8-2.0', 'POSITION': u'PG', u'PTS': u'6.2', u'3P%': u'.423'}, {u'FGM-FGA': u'2.7-6.4', u'MPG': u'21.8', u'FTM-FTA': u'0.5-1.0', u'FG%': u'.427', u'GP': u'14', u'PLAYER': u'Tony Allen', u'FT%': u'.500', u'TEAM': u'MEM', u'3PM-3PA': u'0.2-0.7', 'POSITION': u'SF', u'PTS': u'6.1', u'3P%': u'.300'}, {u'FGM-FGA': u'2.6-4.8', u'MPG': u'15.9', u'FTM-FTA': u'0.9-1.3', u'FG%': u'.553', u'GP': u'8', u'PLAYER': u'Myles Turner', u'FT%': u'.700', u'TEAM': u'IND', u'3PM-3PA': u'0.0-0.0', 'POSITION': u'PF', u'PTS': u'6.1', u'3P%': u'.000'}, {u'FGM-FGA': u'2.2-5.4', u'MPG': u'23.8', u'FTM-FTA': u'0.5-0.7', u'FG%': u'.407', u'GP': u'10', u'PLAYER': u'Luke Babbitt', u'FT%': u'.714', u'TEAM': u'NO', u'3PM-3PA': u'1.2-3.6', 'POSITION': u'SF', u'PTS': u'6.1', u'3P%': u'.333'}, {u'FGM-FGA': u'2.2-4.4', u'MPG': u'26.8', u'FTM-FTA': u'1.8-2.5', u'FG%': u'.491', u'GP': u'12', u'PLAYER': u'Tyson Chandler', u'FT%': u'.700', u'TEAM': u'PHX', u'3PM-3PA': u'0.0-0.1', 'POSITION': u'C', u'PTS': u'6.1', u'3P%': u'.000'}, {u'FGM-FGA': u'2.1-6.2', u'MPG': u'23.7', u'FTM-FTA': u'0.6-0.7', u'FG%': u'.338', u'GP': u'12', u'PLAYER': u'Tony Snell', u'FT%': u'.875', u'TEAM': u'CHI', u'3PM-3PA': u'1.3-3.1', 'POSITION': u'SF', u'PTS': u'6.1', u'3P%': u'.432'}, {u'FGM-FGA': u'2.3-4.1', u'MPG': u'24.1', u'FTM-FTA': u'1.5-2.2', u'FG%': u'.566', u'GP': u'13', u'PLAYER': u'Steven Adams', u'FT%': u'.655', u'TEAM': u'OKC', u'3PM-3PA': u'0.0-0.0', 'POSITION': u'C', u'PTS': u'6.1', u'3P%': u'.000'}, {u'FGM-FGA': u'2.2-4.9', u'MPG': u'19.8', u'FTM-FTA': u'0.9-1.4', u'FG%': u'.449', u'GP': u'14', u'PLAYER': u'Maurice Harkless', u'FT%': u'.650', u'TEAM': u'POR', u'3PM-3PA': u'0.7-1.8', 'POSITION': u'SF', u'PTS': u'6.1', u'3P%': u'.400'}, {u'FGM-FGA': u'2.2-4.3', u'MPG': u'15.4', u'FTM-FTA': u'1.5-2.1', u'FG%': u'.517', u'GP': u'14', u'PLAYER': u'JaKarr Sampson', u'FT%': u'.724', u'TEAM': u'PHI', u'3PM-3PA': u'0.1-0.6', 'POSITION': u'SG', u'PTS': u'6.1', u'3P%': u'.250'}, {u'FGM-FGA': u'2.5-6.8', u'MPG': u'13.8', u'FTM-FTA': u'0.8-0.8', u'FG%': u'.370', u'GP': u'4', u'PLAYER': u'John Jenkins', u'FT%': u'1.000', u'TEAM': u'DAL', u'3PM-3PA': u'0.3-2.0', 'POSITION': u'SG', u'PTS': u'6.0', u'3P%': u'.125'}, {u'FGM-FGA': u'2.5-3.5', u'MPG': u'10.0', u'FTM-FTA': u'1.0-1.0', u'FG%': u'.714', u'GP': u'2', u'PLAYER': u\"Amar'e Stoudemire\", u'FT%': u'1.000', u'TEAM': u'MIA', u'3PM-3PA': u'0.0-0.0', 'POSITION': u'PF', u'PTS': u'6.0', u'3P%': u'.000'}, {u'FGM-FGA': u'3.0-5.0', u'MPG': u'10.0', u'FTM-FTA': u'0.0-0.0', u'FG%': u'.600', u'GP': u'2', u'PLAYER': u'Bobby Portis', u'FT%': u'.000', u'TEAM': u'CHI', u'3PM-3PA': u'0.0-0.0', 'POSITION': u'PF', u'PTS': u'6.0', u'3P%': u'.000'}, {u'FGM-FGA': u'2.5-4.9', u'MPG': u'23.8', u'FTM-FTA': u'0.4-0.6', u'FG%': u'.500', u'GP': u'13', u'PLAYER': u'Dante Cunningham', u'FT%': u'.625', u'TEAM': u'NO', u'3PM-3PA': u'0.5-1.8', 'POSITION': u'PF', u'PTS': u'5.8', u'3P%': u'.304'}, {u'FGM-FGA': u'2.2-5.9', u'MPG': u'20.9', u'FTM-FTA': u'0.1-0.1', u'FG%': u'.373', u'GP': u'14', u'PLAYER': u'Patrick Patterson', u'FT%': u'1.000', u'TEAM': u'TOR', u'3PM-3PA': u'1.2-3.8', 'POSITION': u'PF', u'PTS': u'5.8', u'3P%': u'.321'}, {u'FGM-FGA': u'2.0-4.1', u'MPG': u'21.7', u'FTM-FTA': u'0.8-1.0', u'FG%': u'.486', u'GP': u'9', u'PLAYER': u'Jared Dudley', u'FT%': u'.778', u'TEAM': u'WSH', u'3PM-3PA': u'1.0-2.3', 'POSITION': u'SG', u'PTS': u'5.8', u'3P%': u'.429'}, {u'FGM-FGA': u'2.1-5.5', u'MPG': u'16.7', u'FTM-FTA': u'0.7-1.1', u'FG%': u'.379', u'GP': u'12', u'PLAYER': u'Jon Leuer', u'FT%': u'.615', u'TEAM': u'PHX', u'3PM-3PA': u'0.9-1.9', 'POSITION': u'PF', u'PTS': u'5.8', u'3P%': u'.478'}, {u'FGM-FGA': u'2.4-5.0', u'MPG': u'18.4', u'FTM-FTA': u'0.3-0.5', u'FG%': u'.483', u'GP': u'12', u'PLAYER': u\"E'Twaun Moore\", u'FT%': u'.667', u'TEAM': u'CHI', u'3PM-3PA': u'0.5-1.2', 'POSITION': u'SG', u'PTS': u'5.7', u'3P%': u'.429'}, {u'FGM-FGA': u'1.7-5.2', u'MPG': u'22.7', u'FTM-FTA': u'1.2-1.5', u'FG%': u'.333', u'GP': u'11', u'PLAYER': u'Paul Pierce', u'FT%': u'.813', u'TEAM': u'LAC', u'3PM-3PA': u'1.0-3.5', 'POSITION': u'SF', u'PTS': u'5.6', u'3P%': u'.282'}, {u'FGM-FGA': u'2.3-4.7', u'MPG': u'17.3', u'FTM-FTA': u'1.0-1.2', u'FG%': u'.485', u'GP': u'14', u'PLAYER': u'Tiago Splitter', u'FT%': u'.824', u'TEAM': u'ATL', u'3PM-3PA': u'0.0-0.1', 'POSITION': u'PF', u'PTS': u'5.6', u'3P%': u'.000'}, {u'FGM-FGA': u'2.3-4.8', u'MPG': u'18.9', u'FTM-FTA': u'0.6-0.8', u'FG%': u'.484', u'GP': u'13', u'PLAYER': u'Boris Diaw', u'FT%': u'.727', u'TEAM': u'SA', u'3PM-3PA': u'0.3-0.8', 'POSITION': u'C', u'PTS': u'5.5', u'3P%': u'.364'}, {u'FGM-FGA': u'2.5-4.2', u'MPG': u'15.4', u'FTM-FTA': u'0.5-0.8', u'FG%': u'.582', u'GP': u'13', u'PLAYER': u'David West', u'FT%': u'.636', u'TEAM': u'SA', u'3PM-3PA': u'0.0-0.1', 'POSITION': u'PF', u'PTS': u'5.5', u'3P%': u'.000'}, {u'FGM-FGA': u'1.9-4.5', u'MPG': u'18.2', u'FTM-FTA': u'0.7-1.1', u'FG%': u'.424', u'GP': u'13', u'PLAYER': u'Chase Budinger', u'FT%': u'.643', u'TEAM': u'IND', u'3PM-3PA': u'0.9-2.2', 'POSITION': u'SF', u'PTS': u'5.5', u'3P%': u'.414'}, {u'FGM-FGA': u'2.2-5.7', u'MPG': u'12.8', u'FTM-FTA': u'0.9-1.0', u'FG%': u'.378', u'GP': u'13', u'PLAYER': u'Andrea Bargnani', u'FT%': u'.923', u'TEAM': u'BKN', u'3PM-3PA': u'0.2-0.5', 'POSITION': u'C', u'PTS': u'5.4', u'3P%': u'.286'}, {u'FGM-FGA': u'2.1-5.4', u'MPG': u'17.6', u'FTM-FTA': u'0.7-1.0', u'FG%': u'.386', u'GP': u'13', u'PLAYER': u'Spencer Hawes', u'FT%': u'.692', u'TEAM': u'CHA', u'3PM-3PA': u'0.5-1.8', 'POSITION': u'PF', u'PTS': u'5.4', u'3P%': u'.292'}, {u'FGM-FGA': u'2.1-4.1', u'MPG': u'8.9', u'FTM-FTA': u'1.1-1.4', u'FG%': u'.515', u'GP': u'8', u'PLAYER': u'Tyler Zeller', u'FT%': u'.818', u'TEAM': u'BOS', u'3PM-3PA': u'0.0-0.0', 'POSITION': u'C', u'PTS': u'5.4', u'3P%': u'.000'}, {u'FGM-FGA': u'2.2-5.9', u'MPG': u'14.2', u'FTM-FTA': u'0.4-0.6', u'FG%': u'.369', u'GP': u'11', u'PLAYER': u'Leandro Barbosa', u'FT%': u'.571', u'TEAM': u'GS', u'3PM-3PA': u'0.6-1.8', 'POSITION': u'SG', u'PTS': u'5.4', u'3P%': u'.350'}, {u'FGM-FGA': u'2.0-5.3', u'MPG': u'17.7', u'FTM-FTA': u'0.3-0.3', u'FG%': u'.375', u'GP': u'3', u'PLAYER': u'Vince Carter', u'FT%': u'1.000', u'TEAM': u'MEM', u'3PM-3PA': u'1.0-3.0', 'POSITION': u'SG', u'PTS': u'5.3', u'3P%': u'.333'}, {u'FGM-FGA': u'2.7-3.3', u'MPG': u'9.3', u'FTM-FTA': u'0.0-0.0', u'FG%': u'.800', u'GP': u'3', u'PLAYER': u'Kendrick Perkins', u'FT%': u'.000', u'TEAM': u'NO', u'3PM-3PA': u'0.0-0.0', 'POSITION': u'C', u'PTS': u'5.3', u'3P%': u'.000'}, {u'FGM-FGA': u'2.1-5.5', u'MPG': u'19.9', u'FTM-FTA': u'0.5-1.0', u'FG%': u'.377', u'GP': u'11', u'PLAYER': u'Lance Stephenson', u'FT%': u'.545', u'TEAM': u'LAC', u'3PM-3PA': u'0.5-1.6', 'POSITION': u'SF', u'PTS': u'5.3', u'3P%': u'.333'}, {u'FGM-FGA': u'1.8-5.0', u'MPG': u'13.3', u'FTM-FTA': u'0.2-0.3', u'FG%': u'.367', u'GP': u'12', u'PLAYER': u'Mirza Teletovic', u'FT%': u'.667', u'TEAM': u'PHX', u'3PM-3PA': u'1.4-3.7', 'POSITION': u'PF', u'PTS': u'5.3', u'3P%': u'.386'}, {u'FGM-FGA': u'2.1-4.4', u'MPG': u'22.3', u'FTM-FTA': u'0.5-0.8', u'FG%': u'.472', u'GP': u'12', u'PLAYER': u'Andre Roberson', u'FT%': u'.600', u'TEAM': u'OKC', u'3PM-3PA': u'0.6-1.9', 'POSITION': u'SG', u'PTS': u'5.3', u'3P%': u'.304'}, {u'FGM-FGA': u'1.9-3.7', u'MPG': u'14.4', u'FTM-FTA': u'1.3-2.1', u'FG%': u'.500', u'GP': u'7', u'PLAYER': u'Richaun Holmes', u'FT%': u'.600', u'TEAM': u'PHI', u'3PM-3PA': u'0.1-1.0', 'POSITION': u'PF', u'PTS': u'5.1', u'3P%': u'.143'}, {u'FGM-FGA': u'2.0-4.9', u'MPG': u'13.4', u'FTM-FTA': u'1.0-1.1', u'FG%': u'.410', u'GP': u'8', u'PLAYER': u'Jason Smith', u'FT%': u'.889', u'TEAM': u'ORL', u'3PM-3PA': u'0.1-0.3', 'POSITION': u'PF', u'PTS': u'5.1', u'3P%': u'.500'}, {u'FGM-FGA': u'2.2-5.0', u'MPG': u'14.3', u'FTM-FTA': u'0.3-0.3', u'FG%': u'.440', u'GP': u'10', u'PLAYER': u'Beno Udrih', u'FT%': u'1.000', u'TEAM': u'MIA/MEM', u'3PM-3PA': u'0.4-1.1', 'POSITION': u'PG', u'PTS': u'5.1', u'3P%': u'.364'}, {u'FGM-FGA': u'2.0-4.1', u'MPG': u'15.6', u'FTM-FTA': u'1.1-1.3', u'FG%': u'.489', u'GP': u'11', u'PLAYER': u'Brandon Bass', u'FT%': u'.857', u'TEAM': u'LAL', u'3PM-3PA': u'0.0-0.1', 'POSITION': u'PF', u'PTS': u'5.1', u'3P%': u'.000'}, {u'FGM-FGA': u'2.2-4.7', u'MPG': u'13.8', u'FTM-FTA': u'0.8-1.0', u'FG%': u'.464', u'GP': u'12', u'PLAYER': u\"Kyle O'Quinn\", u'FT%': u'.750', u'TEAM': u'NY', u'3PM-3PA': u'0.0-0.3', 'POSITION': u'PF', u'PTS': u'5.1', u'3P%': u'.000'}, {u'FGM-FGA': u'2.1-3.4', u'MPG': u'19.4', u'FTM-FTA': u'0.8-1.5', u'FG%': u'.625', u'GP': u'14', u'PLAYER': u'Willie Cauley-Stein', u'FT%': u'.524', u'TEAM': u'SAC', u'3PM-3PA': u'0.0-0.0', 'POSITION': u'C', u'PTS': u'5.1', u'3P%': u'.000'}, {u'FGM-FGA': u'2.2-4.3', u'MPG': u'12.2', u'FTM-FTA': u'0.5-0.5', u'FG%': u'.518', u'GP': u'13', u'PLAYER': u'Alexis Ajinca', u'FT%': u'1.000', u'TEAM': u'NO', u'3PM-3PA': u'0.0-0.0', 'POSITION': u'C', u'PTS': u'5.0', u'3P%': u'.000'}, {u'FGM-FGA': u'2.0-3.8', u'MPG': u'13.9', u'FTM-FTA': u'0.3-0.5', u'FG%': u'.533', u'GP': u'12', u'PLAYER': u'Wesley Johnson', u'FT%': u'.667', u'TEAM': u'LAC', u'3PM-3PA': u'0.7-1.8', 'POSITION': u'SG', u'PTS': u'5.0', u'3P%': u'.364'}, {u'FGM-FGA': u'1.7-5.4', u'MPG': u'10.5', u'FTM-FTA': u'1.5-1.9', u'FG%': u'.322', u'GP': u'11', u'PLAYER': u'Marreese Speights', u'FT%': u'.762', u'TEAM': u'GS', u'3PM-3PA': u'0.1-0.3', 'POSITION': u'C', u'PTS': u'5.0', u'3P%': u'.333'}, {u'FGM-FGA': u'1.8-6.2', u'MPG': u'18.0', u'FTM-FTA': u'0.5-0.7', u'FG%': u'.296', u'GP': u'13', u'PLAYER': u'Randy Foye', u'FT%': u'.778', u'TEAM': u'DEN', u'3PM-3PA': u'0.7-3.7', 'POSITION': u'SG', u'PTS': u'4.9', u'3P%': u'.188'}, {u'FGM-FGA': u'1.8-4.9', u'MPG': u'14.8', u'FTM-FTA': u'0.8-1.3', u'FG%': u'.356', u'GP': u'12', u'PLAYER': u'Josh Smith', u'FT%': u'.625', u'TEAM': u'LAC', u'3PM-3PA': u'0.6-1.9', 'POSITION': u'SF', u'PTS': u'4.9', u'3P%': u'.304'}, {u'FGM-FGA': u'1.8-3.8', u'MPG': u'17.0', u'FTM-FTA': u'1.3-1.6', u'FG%': u'.478', u'GP': u'12', u'PLAYER': u'Dewayne Dedmon', u'FT%': u'.789', u'TEAM': u'ORL', u'3PM-3PA': u'0.0-0.0', 'POSITION': u'C', u'PTS': u'4.9', u'3P%': u'.000'}, {u'FGM-FGA': u'1.8-4.4', u'MPG': u'16.8', u'FTM-FTA': u'0.3-0.3', u'FG%': u'.396', u'GP': u'12', u'PLAYER': u'Jason Terry', u'FT%': u'1.000', u'TEAM': u'HOU', u'3PM-3PA': u'1.1-3.3', 'POSITION': u'SG', u'PTS': u'4.8', u'3P%': u'.325'}, {u'FGM-FGA': u'2.1-4.1', u'MPG': u'19.5', u'FTM-FTA': u'0.7-0.8', u'FG%': u'.510', u'GP': u'12', u'PLAYER': u'Shaun Livingston', u'FT%': u'.889', u'TEAM': u'GS', u'3PM-3PA': u'0.0-0.3', 'POSITION': u'PG', u'PTS': u'4.8', u'3P%': u'.000'}, {u'FGM-FGA': u'2.2-3.7', u'MPG': u'15.0', u'FTM-FTA': u'0.5-0.7', u'FG%': u'.591', u'GP': u'6', u'PLAYER': u'Andre Miller', u'FT%': u'.750', u'TEAM': u'MIN', u'3PM-3PA': u'0.0-0.2', 'POSITION': u'PG', u'PTS': u'4.8', u'3P%': u'.000'}, {u'FGM-FGA': u'2.0-6.0', u'MPG': u'14.3', u'FTM-FTA': u'0.3-0.7', u'FG%': u'.333', u'GP': u'6', u'PLAYER': u'Gerald Henderson', u'FT%': u'.500', u'TEAM': u'POR', u'3PM-3PA': u'0.5-1.8', 'POSITION': u'SG', u'PTS': u'4.8', u'3P%': u'.273'}, {u'FGM-FGA': u'1.8-4.0', u'MPG': u'14.7', u'FTM-FTA': u'0.8-1.0', u'FG%': u'.458', u'GP': u'6', u'PLAYER': u'Tyler Ennis', u'FT%': u'.833', u'TEAM': u'MIL', u'3PM-3PA': u'0.3-0.5', 'POSITION': u'PG', u'PTS': u'4.8', u'3P%': u'.667'}, {u'FGM-FGA': u'1.8-3.8', u'MPG': u'10.0', u'FTM-FTA': u'0.7-1.5', u'FG%': u'.478', u'GP': u'6', u'PLAYER': u'Kelly Oubre Jr.', u'FT%': u'.444', u'TEAM': u'WSH', u'3PM-3PA': u'0.5-1.7', 'POSITION': u'SF', u'PTS': u'4.8', u'3P%': u'.300'}, {u'FGM-FGA': u'1.6-4.8', u'MPG': u'17.5', u'FTM-FTA': u'0.8-0.9', u'FG%': u'.333', u'GP': u'10', u'PLAYER': u'P.J. Hairston', u'FT%': u'.889', u'TEAM': u'CHA', u'3PM-3PA': u'0.8-3.2', 'POSITION': u'SF', u'PTS': u'4.8', u'3P%': u'.250'}, {u'FGM-FGA': u'1.7-4.5', u'MPG': u'14.5', u'FTM-FTA': u'0.5-0.5', u'FG%': u'.373', u'GP': u'13', u'PLAYER': u'Mario Hezonja', u'FT%': u'1.000', u'TEAM': u'ORL', u'3PM-3PA': u'0.8-2.3', 'POSITION': u'SG', u'PTS': u'4.8', u'3P%': u'.367'}, {u'FGM-FGA': u'1.8-4.1', u'MPG': u'12.3', u'FTM-FTA': u'0.4-0.5', u'FG%': u'.429', u'GP': u'12', u'PLAYER': u'Shabazz Napier', u'FT%': u'.833', u'TEAM': u'ORL', u'3PM-3PA': u'0.8-1.9', 'POSITION': u'PG', u'PTS': u'4.8', u'3P%': u'.435'}, {u'FGM-FGA': u'1.8-4.8', u'MPG': u'19.5', u'FTM-FTA': u'0.6-0.9', u'FG%': u'.368', u'GP': u'8', u'PLAYER': u'C.J. Watson', u'FT%': u'.714', u'TEAM': u'ORL', u'3PM-3PA': u'0.6-2.0', 'POSITION': u'PG', u'PTS': u'4.8', u'3P%': u'.313'}, {u'FGM-FGA': u'1.9-5.4', u'MPG': u'16.0', u'FTM-FTA': u'0.0-0.0', u'FG%': u'.342', u'GP': u'7', u'PLAYER': u'Patrick Beverley', u'FT%': u'.000', u'TEAM': u'HOU', u'3PM-3PA': u'1.0-3.0', 'POSITION': u'PG', u'PTS': u'4.7', u'3P%': u'.333'}, {u'FGM-FGA': u'2.0-4.2', u'MPG': u'20.6', u'FTM-FTA': u'0.6-1.3', u'FG%': u'.481', u'GP': u'13', u'PLAYER': u'Rondae Hollis-Jefferson', u'FT%': u'.471', u'TEAM': u'BKN', u'3PM-3PA': u'0.1-0.4', 'POSITION': u'SG', u'PTS': u'4.7', u'3P%': u'.200'}, {u'FGM-FGA': u'1.4-3.2', u'MPG': u'12.2', u'FTM-FTA': u'1.6-2.7', u'FG%': u'.448', u'GP': u'9', u'PLAYER': u'Archie Goodwin', u'FT%': u'.583', u'TEAM': u'PHX', u'3PM-3PA': u'0.2-0.8', 'POSITION': u'SG', u'PTS': u'4.7', u'3P%': u'.286'}, {u'FGM-FGA': u'1.5-3.2', u'MPG': u'12.6', u'FTM-FTA': u'0.6-0.7', u'FG%': u'.469', u'GP': u'10', u'PLAYER': u'Ronnie Price', u'FT%': u'.857', u'TEAM': u'PHX', u'3PM-3PA': u'1.0-2.4', 'POSITION': u'PG', u'PTS': u'4.6', u'3P%': u'.417'}, {u'FGM-FGA': u'2.0-5.1', u'MPG': u'21.5', u'FTM-FTA': u'0.4-0.9', u'FG%': u'.393', u'GP': u'12', u'PLAYER': u'Lavoy Allen', u'FT%': u'.455', u'TEAM': u'IND', u'3PM-3PA': u'0.0-0.0', 'POSITION': u'PF', u'PTS': u'4.4', u'3P%': u'.000'}, {u'FGM-FGA': u'2.0-3.9', u'MPG': u'17.9', u'FTM-FTA': u'0.3-0.5', u'FG%': u'.516', u'GP': u'8', u'PLAYER': u'Larry Nance Jr.', u'FT%': u'.500', u'TEAM': u'LAL', u'3PM-3PA': u'0.1-0.3', 'POSITION': u'PF', u'PTS': u'4.4', u'3P%': u'.500'}, {u'FGM-FGA': u'1.4-3.4', u'MPG': u'16.9', u'FTM-FTA': u'1.6-2.2', u'FG%': u'.404', u'GP': u'14', u'PLAYER': u'Bismack Biyombo', u'FT%': u'.742', u'TEAM': u'TOR', u'3PM-3PA': u'0.0-0.0', 'POSITION': u'PF', u'PTS': u'4.4', u'3P%': u'.000'}, {u'FGM-FGA': u'1.7-3.7', u'MPG': u'11.6', u'FTM-FTA': u'0.6-1.0', u'FG%': u'.455', u'GP': u'9', u'PLAYER': u'Phil Pressey', u'FT%': u'.556', u'TEAM': u'PHI', u'3PM-3PA': u'0.4-1.1', 'POSITION': u'PG', u'PTS': u'4.3', u'3P%': u'.400'}, {u'FGM-FGA': u'1.6-3.8', u'MPG': u'17.8', u'FTM-FTA': u'1.1-1.5', u'FG%': u'.429', u'GP': u'13', u'PLAYER': u\"Johnny O'Bryant III\", u'FT%': u'.737', u'TEAM': u'MIL', u'3PM-3PA': u'0.0-0.0', 'POSITION': u'PF', u'PTS': u'4.3', u'3P%': u'.000'}, {u'FGM-FGA': u'1.6-3.6', u'MPG': u'13.2', u'FTM-FTA': u'0.4-0.5', u'FG%': u'.442', u'GP': u'12', u'PLAYER': u'Frank Kaminsky III', u'FT%': u'.833', u'TEAM': u'CHA', u'3PM-3PA': u'0.7-1.3', 'POSITION': u'C', u'PTS': u'4.3', u'3P%': u'.533'}, {u'FGM-FGA': u'1.8-3.6', u'MPG': u'11.9', u'FTM-FTA': u'0.4-0.5', u'FG%': u'.483', u'GP': u'8', u'PLAYER': u'Adreian Payne', u'FT%': u'.750', u'TEAM': u'MIN', u'3PM-3PA': u'0.4-0.6', 'POSITION': u'PF', u'PTS': u'4.3', u'3P%': u'.600'}, {u'FGM-FGA': u'1.7-4.3', u'MPG': u'10.5', u'FTM-FTA': u'0.5-0.5', u'FG%': u'.385', u'GP': u'6', u'PLAYER': u'Shelvin Mack', u'FT%': u'1.000', u'TEAM': u'ATL', u'3PM-3PA': u'0.3-1.3', 'POSITION': u'PG', u'PTS': u'4.2', u'3P%': u'.250'}, {u'FGM-FGA': u'1.7-3.2', u'MPG': u'11.6', u'FTM-FTA': u'0.7-1.0', u'FG%': u'.537', u'GP': u'13', u'PLAYER': u'Aron Baynes', u'FT%': u'.692', u'TEAM': u'DET', u'3PM-3PA': u'0.0-0.0', 'POSITION': u'PF', u'PTS': u'4.1', u'3P%': u'.000'}, {u'FGM-FGA': u'1.6-2.3', u'MPG': u'10.3', u'FTM-FTA': u'0.8-1.5', u'FG%': u'.700', u'GP': u'13', u'PLAYER': u'Montrezl Harrell', u'FT%': u'.526', u'TEAM': u'HOU', u'3PM-3PA': u'0.0-0.0', 'POSITION': u'PF', u'PTS': u'4.0', u'3P%': u'.000'}, {u'FGM-FGA': u'1.6-4.3', u'MPG': u'14.8', u'FTM-FTA': u'0.1-0.2', u'FG%': u'.365', u'GP': u'12', u'PLAYER': u'Justin Holiday', u'FT%': u'.500', u'TEAM': u'ATL', u'3PM-3PA': u'0.8-2.6', 'POSITION': u'SG', u'PTS': u'4.0', u'3P%': u'.290'}, {u'FGM-FGA': u'1.6-4.7', u'MPG': u'17.0', u'FTM-FTA': u'0.1-0.2', u'FG%': u'.339', u'GP': u'12', u'PLAYER': u'Raul Neto', u'FT%': u'.500', u'TEAM': u'UTAH', u'3PM-3PA': u'0.8-2.2', 'POSITION': u'PG', u'PTS': u'4.0', u'3P%': u'.346'}, {u'FGM-FGA': u'1.5-3.5', u'MPG': u'10.9', u'FTM-FTA': u'0.8-0.8', u'FG%': u'.422', u'GP': u'13', u'PLAYER': u'Mike Scott', u'FT%': u'.909', u'TEAM': u'ATL', u'3PM-3PA': u'0.2-1.1', 'POSITION': u'PF', u'PTS': u'3.9', u'3P%': u'.214'}, {u'FGM-FGA': u'1.5-4.4', u'MPG': u'15.4', u'FTM-FTA': u'0.0-0.0', u'FG%': u'.340', u'GP': u'12', u'PLAYER': u'Anthony Morrow', u'FT%': u'.000', u'TEAM': u'OKC', u'3PM-3PA': u'0.9-2.9', 'POSITION': u'SG', u'PTS': u'3.9', u'3P%': u'.314'}, {u'FGM-FGA': u'1.5-2.8', u'MPG': u'13.1', u'FTM-FTA': u'0.2-0.2', u'FG%': u'.529', u'GP': u'12', u'PLAYER': u'Joe Ingles', u'FT%': u'1.000', u'TEAM': u'UTAH', u'3PM-3PA': u'0.8-1.7', 'POSITION': u'SF', u'PTS': u'3.9', u'3P%': u'.450'}, {u'FGM-FGA': u'1.6-5.7', u'MPG': u'18.0', u'FTM-FTA': u'0.2-0.3', u'FG%': u'.286', u'GP': u'11', u'PLAYER': u'Sasha Vujacic', u'FT%': u'.667', u'TEAM': u'NY', u'3PM-3PA': u'0.5-2.7', 'POSITION': u'SG', u'PTS': u'3.9', u'3P%': u'.167'}, {u'FGM-FGA': u'1.5-3.5', u'MPG': u'9.2', u'FTM-FTA': u'0.7-1.0', u'FG%': u'.421', u'GP': u'11', u'PLAYER': u'Christian Wood', u'FT%': u'.727', u'TEAM': u'PHI', u'3PM-3PA': u'0.3-0.6', 'POSITION': u'PF', u'PTS': u'3.9', u'3P%': u'.429'}, {u'FGM-FGA': u'1.4-2.4', u'MPG': u'15.0', u'FTM-FTA': u'0.8-1.4', u'FG%': u'.583', u'GP': u'10', u'PLAYER': u'James Johnson', u'FT%': u'.571', u'TEAM': u'TOR', u'3PM-3PA': u'0.2-0.5', 'POSITION': u'PF', u'PTS': u'3.8', u'3P%': u'.400'}, {u'FGM-FGA': u'1.4-2.9', u'MPG': u'9.2', u'FTM-FTA': u'0.1-0.3', u'FG%': u'.500', u'GP': u'9', u'PLAYER': u'Devin Booker', u'FT%': u'.333', u'TEAM': u'PHX', u'3PM-3PA': u'0.8-1.0', 'POSITION': u'SG', u'PTS': u'3.8', u'3P%': u'.778'}, {u'FGM-FGA': u'1.7-5.4', u'MPG': u'17.0', u'FTM-FTA': u'0.2-0.2', u'FG%': u'.308', u'GP': u'12', u'PLAYER': u'Darrell Arthur', u'FT%': u'1.000', u'TEAM': u'DEN', u'3PM-3PA': u'0.3-0.9', 'POSITION': u'PF', u'PTS': u'3.8', u'3P%': u'.273'}, {u'FGM-FGA': u'1.2-2.9', u'MPG': u'11.5', u'FTM-FTA': u'1.1-1.8', u'FG%': u'.406', u'GP': u'11', u'PLAYER': u'Jared Cunningham', u'FT%': u'.600', u'TEAM': u'CLE', u'3PM-3PA': u'0.3-0.8', 'POSITION': u'SG', u'PTS': u'3.7', u'3P%': u'.333'}, {u'FGM-FGA': u'1.3-3.6', u'MPG': u'9.4', u'FTM-FTA': u'0.4-0.5', u'FG%': u'.361', u'GP': u'10', u'PLAYER': u'Chris Copeland', u'FT%': u'.800', u'TEAM': u'MIL', u'3PM-3PA': u'0.7-2.2', 'POSITION': u'SF', u'PTS': u'3.7', u'3P%': u'.318'}, {u'FGM-FGA': u'1.4-4.2', u'MPG': u'15.0', u'FTM-FTA': u'0.6-0.8', u'FG%': u'.333', u'GP': u'5', u'PLAYER': u'Ryan Kelly', u'FT%': u'.750', u'TEAM': u'LAL', u'3PM-3PA': u'0.2-1.6', 'POSITION': u'PF', u'PTS': u'3.6', u'3P%': u'.125'}, {u'FGM-FGA': u'1.5-2.8', u'MPG': u'12.0', u'FTM-FTA': u'0.5-1.1', u'FG%': u'.556', u'GP': u'13', u'PLAYER': u'Thomas Robinson', u'FT%': u'.429', u'TEAM': u'BKN', u'3PM-3PA': u'0.0-0.0', 'POSITION': u'PF', u'PTS': u'3.5', u'3P%': u'.000'}, {u'FGM-FGA': u'1.3-2.6', u'MPG': u'13.3', u'FTM-FTA': u'0.8-0.8', u'FG%': u'.484', u'GP': u'12', u'PLAYER': u'Jonas Jerebko', u'FT%': u'1.000', u'TEAM': u'BOS', u'3PM-3PA': u'0.2-0.5', 'POSITION': u'PF', u'PTS': u'3.5', u'3P%': u'.333'}, {u'FGM-FGA': u'1.0-3.0', u'MPG': u'7.5', u'FTM-FTA': u'1.5-2.5', u'FG%': u'.333', u'GP': u'2', u'PLAYER': u'Jordan Adams', u'FT%': u'.600', u'TEAM': u'MEM', u'3PM-3PA': u'0.0-0.5', 'POSITION': u'SG', u'PTS': u'3.5', u'3P%': u'.000'}, {u'FGM-FGA': u'1.4-4.2', u'MPG': u'13.8', u'FTM-FTA': u'0.2-0.2', u'FG%': u'.327', u'GP': u'13', u'PLAYER': u'Wayne Ellington', u'FT%': u'1.000', u'TEAM': u'BKN', u'3PM-3PA': u'0.5-1.8', 'POSITION': u'SG', u'PTS': u'3.5', u'3P%': u'.292'}, {u'FGM-FGA': u'1.0-2.0', u'MPG': u'10.6', u'FTM-FTA': u'1.0-1.2', u'FG%': u'.500', u'GP': u'9', u'PLAYER': u'Mike Muscala', u'FT%': u'.818', u'TEAM': u'ATL', u'3PM-3PA': u'0.4-0.6', 'POSITION': u'PF', u'PTS': u'3.4', u'3P%': u'.800'}, {u'FGM-FGA': u'1.3-2.4', u'MPG': u'11.3', u'FTM-FTA': u'0.9-1.7', u'FG%': u'.529', u'GP': u'7', u'PLAYER': u'Tarik Black', u'FT%': u'.500', u'TEAM': u'LAL', u'3PM-3PA': u'0.0-0.0', 'POSITION': u'C', u'PTS': u'3.4', u'3P%': u'.000'}, {u'FGM-FGA': u'1.7-3.9', u'MPG': u'9.0', u'FTM-FTA': u'0.0-0.0', u'FG%': u'.436', u'GP': u'10', u'PLAYER': u'Kevin Seraphin', u'FT%': u'.000', u'TEAM': u'NY', u'3PM-3PA': u'0.0-0.0', 'POSITION': u'PF', u'PTS': u'3.4', u'3P%': u'.000'}, {u'FGM-FGA': u'1.3-2.9', u'MPG': u'8.4', u'FTM-FTA': u'0.3-0.3', u'FG%': u'.435', u'GP': u'8', u'PLAYER': u'Rashad Vaughn', u'FT%': u'1.000', u'TEAM': u'MIL', u'3PM-3PA': u'0.6-1.4', 'POSITION': u'SG', u'PTS': u'3.4', u'3P%': u'.455'}, {u'FGM-FGA': u'1.6-5.6', u'MPG': u'19.7', u'FTM-FTA': u'0.0-0.0', u'FG%': u'.290', u'GP': u'11', u'PLAYER': u'Trevor Booker', u'FT%': u'.000', u'TEAM': u'UTAH', u'3PM-3PA': u'0.1-0.7', 'POSITION': u'PF', u'PTS': u'3.4', u'3P%': u'.125'}, {u'FGM-FGA': u'1.3-2.2', u'MPG': u'6.0', u'FTM-FTA': u'0.0-0.0', u'FG%': u'.615', u'GP': u'6', u'PLAYER': u'Seth Curry', u'FT%': u'.000', u'TEAM': u'SAC', u'3PM-3PA': u'0.7-1.0', 'POSITION': u'SG', u'PTS': u'3.3', u'3P%': u'.667'}, {u'FGM-FGA': u'1.7-5.0', u'MPG': u'15.7', u'FTM-FTA': u'0.0-0.0', u'FG%': u'.333', u'GP': u'3', u'PLAYER': u'Chris Kaman', u'FT%': u'.000', u'TEAM': u'POR', u'3PM-3PA': u'0.0-0.0', 'POSITION': u'C', u'PTS': u'3.3', u'3P%': u'.000'}, {u'FGM-FGA': u'1.1-4.1', u'MPG': u'12.4', u'FTM-FTA': u'0.6-0.9', u'FG%': u'.276', u'GP': u'7', u'PLAYER': u'Markel Brown', u'FT%': u'.667', u'TEAM': u'BKN', u'3PM-3PA': u'0.4-2.1', 'POSITION': u'SG', u'PTS': u'3.3', u'3P%': u'.200'}, {u'FGM-FGA': u'1.4-3.3', u'MPG': u'12.9', u'FTM-FTA': u'0.0-0.0', u'FG%': u'.435', u'GP': u'7', u'PLAYER': u'Marcelo Huertas', u'FT%': u'.000', u'TEAM': u'LAL', u'3PM-3PA': u'0.4-1.1', 'POSITION': u'PG', u'PTS': u'3.3', u'3P%': u'.375'}, {u'FGM-FGA': u'1.0-2.5', u'MPG': u'7.7', u'FTM-FTA': u'0.4-0.6', u'FG%': u'.406', u'GP': u'13', u'PLAYER': u'James Jones', u'FT%': u'.625', u'TEAM': u'CLE', u'3PM-3PA': u'0.8-1.9', 'POSITION': u'SG', u'PTS': u'3.2', u'3P%': u'.440'}, {u'FGM-FGA': u'1.3-2.6', u'MPG': u'7.4', u'FTM-FTA': u'0.2-0.2', u'FG%': u'.500', u'GP': u'10', u'PLAYER': u'Justin Anderson', u'FT%': u'1.000', u'TEAM': u'DAL', u'3PM-3PA': u'0.4-1.2', 'POSITION': u'SG', u'PTS': u'3.2', u'3P%': u'.333'}, {u'FGM-FGA': u'1.4-3.0', u'MPG': u'22.2', u'FTM-FTA': u'0.3-0.7', u'FG%': u'.462', u'GP': u'13', u'PLAYER': u'Tayshaun Prince', u'FT%': u'.444', u'TEAM': u'MIN', u'3PM-3PA': u'0.1-0.3', 'POSITION': u'SF', u'PTS': u'3.2', u'3P%': u'.250'}, {u'FGM-FGA': u'1.5-3.2', u'MPG': u'19.8', u'FTM-FTA': u'0.1-0.1', u'FG%': u'.452', u'GP': u'13', u'PLAYER': u'Alonzo Gee', u'FT%': u'1.000', u'TEAM': u'NO', u'3PM-3PA': u'0.2-0.9', 'POSITION': u'SF', u'PTS': u'3.2', u'3P%': u'.167'}, {u'FGM-FGA': u'1.3-3.6', u'MPG': u'11.4', u'FTM-FTA': u'0.0-0.0', u'FG%': u'.360', u'GP': u'7', u'PLAYER': u'R.J. Hunter', u'FT%': u'.000', u'TEAM': u'BOS', u'3PM-3PA': u'0.6-2.3', 'POSITION': u'SG', u'PTS': u'3.1', u'3P%': u'.250'}, {u'FGM-FGA': u'1.2-4.3', u'MPG': u'14.9', u'FTM-FTA': u'0.0-0.0', u'FG%': u'.282', u'GP': u'9', u'PLAYER': u'Steve Blake', u'FT%': u'.000', u'TEAM': u'DET', u'3PM-3PA': u'0.7-2.8', 'POSITION': u'PG', u'PTS': u'3.1', u'3P%': u'.240'}, {u'FGM-FGA': u'0.9-3.2', u'MPG': u'11.0', u'FTM-FTA': u'0.7-0.8', u'FG%': u'.276', u'GP': u'9', u'PLAYER': u'James Anderson', u'FT%': u'.857', u'TEAM': u'SAC', u'3PM-3PA': u'0.7-2.1', 'POSITION': u'SG', u'PTS': u'3.1', u'3P%': u'.316'}, {u'FGM-FGA': u'1.0-4.1', u'MPG': u'20.0', u'FTM-FTA': u'0.3-0.6', u'FG%': u'.245', u'GP': u'12', u'PLAYER': u'Anthony Tolliver', u'FT%': u'.429', u'TEAM': u'DET', u'3PM-3PA': u'0.8-3.3', 'POSITION': u'PF', u'PTS': u'3.1', u'3P%': u'.256'}, {u'FGM-FGA': u'1.3-4.8', u'MPG': u'9.0', u'FTM-FTA': u'0.0-0.0', u'FG%': u'.263', u'GP': u'4', u'PLAYER': u'Andrew Nicholson', u'FT%': u'.000', u'TEAM': u'ORL', u'3PM-3PA': u'0.5-1.0', 'POSITION': u'PF', u'PTS': u'3.0', u'3P%': u'.500'}, {u'FGM-FGA': u'1.0-1.0', u'MPG': u'1.0', u'FTM-FTA': u'0.0-0.0', u'FG%': u'1.000', u'GP': u'1', u'PLAYER': u'Steve Novak', u'FT%': u'.000', u'TEAM': u'OKC', u'3PM-3PA': u'1.0-1.0', 'POSITION': u'SF', u'PTS': u'3.0', u'3P%': u'1.000'}, {u'FGM-FGA': u'0.9-2.2', u'MPG': u'5.4', u'FTM-FTA': u'0.7-0.8', u'FG%': u'.409', u'GP': u'10', u'PLAYER': u'Ian Clark', u'FT%': u'.875', u'TEAM': u'GS', u'3PM-3PA': u'0.4-1.0', 'POSITION': u'SG', u'PTS': u'2.9', u'3P%': u'.400'}, {u'FGM-FGA': u'0.8-2.4', u'MPG': u'15.1', u'FTM-FTA': u'0.9-1.2', u'FG%': u'.318', u'GP': u'9', u'PLAYER': u'Lamar Patterson', u'FT%': u'.727', u'TEAM': u'ATL', u'3PM-3PA': u'0.4-1.7', 'POSITION': u'SG', u'PTS': u'2.9', u'3P%': u'.267'}, {u'FGM-FGA': u'1.3-3.3', u'MPG': u'10.3', u'FTM-FTA': u'0.1-0.3', u'FG%': u'.391', u'GP': u'7', u'PLAYER': u'Caron Butler', u'FT%': u'.500', u'TEAM': u'SAC', u'3PM-3PA': u'0.1-1.1', 'POSITION': u'SF', u'PTS': u'2.9', u'3P%': u'.125'}, {u'FGM-FGA': u'1.1-2.8', u'MPG': u'10.3', u'FTM-FTA': u'0.3-0.3', u'FG%': u'.394', u'GP': u'12', u'PLAYER': u'Rasual Butler', u'FT%': u'.750', u'TEAM': u'SA', u'3PM-3PA': u'0.3-1.5', 'POSITION': u'SF', u'PTS': u'2.8', u'3P%': u'.222'}, {u'FGM-FGA': u'0.9-3.8', u'MPG': u'14.4', u'FTM-FTA': u'0.4-0.8', u'FG%': u'.244', u'GP': u'12', u'PLAYER': u'Kyle Singler', u'FT%': u'.556', u'TEAM': u'OKC', u'3PM-3PA': u'0.5-2.3', 'POSITION': u'SF', u'PTS': u'2.8', u'3P%': u'.222'}, {u'FGM-FGA': u'0.8-2.0', u'MPG': u'4.0', u'FTM-FTA': u'1.0-1.0', u'FG%': u'.375', u'GP': u'4', u'PLAYER': u'Tyler Hansbrough', u'FT%': u'1.000', u'TEAM': u'CHA', u'3PM-3PA': u'0.3-0.3', 'POSITION': u'PF', u'PTS': u'2.8', u'3P%': u'1.000'}, {u'FGM-FGA': u'1.3-2.8', u'MPG': u'7.8', u'FTM-FTA': u'0.0-0.0', u'FG%': u'.455', u'GP': u'4', u'PLAYER': u'Solomon Hill', u'FT%': u'.000', u'TEAM': u'IND', u'3PM-3PA': u'0.3-1.0', 'POSITION': u'SF', u'PTS': u'2.8', u'3P%': u'.250'}, {u'FGM-FGA': u'1.1-2.5', u'MPG': u'9.0', u'FTM-FTA': u'0.5-0.6', u'FG%': u'.444', u'GP': u'11', u'PLAYER': u'Anderson Varejao', u'FT%': u'.857', u'TEAM': u'CLE', u'3PM-3PA': u'0.0-0.1', 'POSITION': u'PF', u'PTS': u'2.7', u'3P%': u'.000'}, {u'FGM-FGA': u'1.0-2.8', u'MPG': u'14.2', u'FTM-FTA': u'0.6-0.9', u'FG%': u'.359', u'GP': u'14', u'PLAYER': u'Noah Vonleh', u'FT%': u'.750', u'TEAM': u'POR', u'3PM-3PA': u'0.1-0.6', 'POSITION': u'PF', u'PTS': u'2.7', u'3P%': u'.125'}, {u'FGM-FGA': u'1.0-4.2', u'MPG': u'12.8', u'FTM-FTA': u'0.3-0.3', u'FG%': u'.240', u'GP': u'6', u'PLAYER': u'Drew Gooden', u'FT%': u'1.000', u'TEAM': u'WSH', u'3PM-3PA': u'0.3-1.7', 'POSITION': u'PF', u'PTS': u'2.7', u'3P%': u'.200'}, {u'FGM-FGA': u'1.1-2.4', u'MPG': u'13.7', u'FTM-FTA': u'0.4-0.4', u'FG%': u'.458', u'GP': u'10', u'PLAYER': u'Nick Collison', u'FT%': u'1.000', u'TEAM': u'OKC', u'3PM-3PA': u'0.0-0.2', 'POSITION': u'PF', u'PTS': u'2.6', u'3P%': u'.000'}, {u'FGM-FGA': u'1.2-2.7', u'MPG': u'15.6', u'FTM-FTA': u'0.2-0.5', u'FG%': u'.433', u'GP': u'11', u'PLAYER': u'Kevin Garnett', u'FT%': u'.333', u'TEAM': u'MIN', u'3PM-3PA': u'0.0-0.0', 'POSITION': u'PF', u'PTS': u'2.5', u'3P%': u'.000'}, {u'FGM-FGA': u'1.1-3.5', u'MPG': u'20.5', u'FTM-FTA': u'0.4-1.2', u'FG%': u'.316', u'GP': u'11', u'PLAYER': u'Joakim Noah', u'FT%': u'.308', u'TEAM': u'CHI', u'3PM-3PA': u'0.0-0.0', 'POSITION': u'C', u'PTS': u'2.5', u'3P%': u'.000'}, {u'FGM-FGA': u'1.0-2.7', u'MPG': u'10.0', u'FTM-FTA': u'0.4-0.8', u'FG%': u'.371', u'GP': u'13', u'PLAYER': u'Kyle Anderson', u'FT%': u'.500', u'TEAM': u'SA', u'3PM-3PA': u'0.2-0.4', 'POSITION': u'SF', u'PTS': u'2.5', u'3P%': u'.400'}, {u'FGM-FGA': u'0.5-1.0', u'MPG': u'2.5', u'FTM-FTA': u'1.5-1.5', u'FG%': u'.500', u'GP': u'2', u'PLAYER': u'Jordan Mickey', u'FT%': u'1.000', u'TEAM': u'BOS', u'3PM-3PA': u'0.0-0.0', 'POSITION': u'PF', u'PTS': u'2.5', u'3P%': u'.000'}, {u'FGM-FGA': u'0.9-2.6', u'MPG': u'8.6', u'FTM-FTA': u'0.3-0.6', u'FG%': u'.333', u'GP': u'7', u'PLAYER': u'Brandon Rush', u'FT%': u'.500', u'TEAM': u'GS', u'3PM-3PA': u'0.4-1.4', 'POSITION': u'SG', u'PTS': u'2.4', u'3P%': u'.300'}, {u'FGM-FGA': u'1.0-1.9', u'MPG': u'7.8', u'FTM-FTA': u'0.1-0.2', u'FG%': u'.529', u'GP': u'9', u'PLAYER': u'Kostas Papanikolaou', u'FT%': u'.500', u'TEAM': u'DEN', u'3PM-3PA': u'0.2-0.9', 'POSITION': u'SF', u'PTS': u'2.3', u'3P%': u'.250'}, {u'FGM-FGA': u'0.5-2.5', u'MPG': u'9.3', u'FTM-FTA': u'1.3-1.5', u'FG%': u'.200', u'GP': u'4', u'PLAYER': u'Joe Young', u'FT%': u'.833', u'TEAM': u'IND', u'3PM-3PA': u'0.0-0.8', 'POSITION': u'PG', u'PTS': u'2.3', u'3P%': u'.000'}, {u'FGM-FGA': u'0.8-2.0', u'MPG': u'11.8', u'FTM-FTA': u'0.3-0.5', u'FG%': u'.375', u'GP': u'4', u'PLAYER': u'Josh Richardson', u'FT%': u'.500', u'TEAM': u'MIA', u'3PM-3PA': u'0.5-1.0', 'POSITION': u'SG', u'PTS': u'2.3', u'3P%': u'.500'}, {u'FGM-FGA': u'0.5-1.3', u'MPG': u'7.5', u'FTM-FTA': u'1.0-1.0', u'FG%': u'.400', u'GP': u'4', u'PLAYER': u'Sergey Karasev', u'FT%': u'1.000', u'TEAM': u'BKN', u'3PM-3PA': u'0.3-1.0', 'POSITION': u'SG', u'PTS': u'2.3', u'3P%': u'.250'}, {u'FGM-FGA': u'0.8-1.3', u'MPG': u'9.5', u'FTM-FTA': u'0.5-0.6', u'FG%': u'.643', u'GP': u'11', u'PLAYER': u'Jeremy Evans', u'FT%': u'.714', u'TEAM': u'DAL', u'3PM-3PA': u'0.1-0.3', 'POSITION': u'SF', u'PTS': u'2.2', u'3P%': u'.333'}, {u'FGM-FGA': u'1.0-1.9', u'MPG': u'7.2', u'FTM-FTA': u'0.2-0.2', u'FG%': u'.524', u'GP': u'11', u'PLAYER': u'Miles Plumlee', u'FT%': u'1.000', u'TEAM': u'MIL', u'3PM-3PA': u'0.0-0.0', 'POSITION': u'C', u'PTS': u'2.2', u'3P%': u'.000'}, {u'FGM-FGA': u'0.8-2.4', u'MPG': u'14.5', u'FTM-FTA': u'0.5-0.8', u'FG%': u'.310', u'GP': u'12', u'PLAYER': u'Josh McRoberts', u'FT%': u'.600', u'TEAM': u'MIA', u'3PM-3PA': u'0.2-0.9', 'POSITION': u'PF', u'PTS': u'2.2', u'3P%': u'.182'}, {u'FGM-FGA': u'0.8-1.5', u'MPG': u'10.8', u'FTM-FTA': u'0.5-1.2', u'FG%': u'.556', u'GP': u'6', u'PLAYER': u'Lou Amundson', u'FT%': u'.429', u'TEAM': u'NY', u'3PM-3PA': u'0.0-0.0', 'POSITION': u'PF', u'PTS': u'2.2', u'3P%': u'.000'}, {u'FGM-FGA': u'0.8-1.7', u'MPG': u'2.8', u'FTM-FTA': u'0.5-0.7', u'FG%': u'.500', u'GP': u'6', u'PLAYER': u'Boban Marjanovic', u'FT%': u'.750', u'TEAM': u'SA', u'3PM-3PA': u'0.0-0.0', 'POSITION': u'C', u'PTS': u'2.2', u'3P%': u'.000'}, {u'FGM-FGA': u'0.6-1.9', u'MPG': u'4.7', u'FTM-FTA': u'0.9-1.3', u'FG%': u'.308', u'GP': u'7', u'PLAYER': u'Russ Smith', u'FT%': u'.667', u'TEAM': u'MEM', u'3PM-3PA': u'0.1-0.6', 'POSITION': u'PG', u'PTS': u'2.1', u'3P%': u'.250'}, {u'FGM-FGA': u'0.9-2.4', u'MPG': u'7.3', u'FTM-FTA': u'0.3-0.4', u'FG%': u'.353', u'GP': u'7', u'PLAYER': u'Brian Roberts', u'FT%': u'.667', u'TEAM': u'CHA', u'3PM-3PA': u'0.0-0.3', 'POSITION': u'PG', u'PTS': u'2.0', u'3P%': u'.000'}, {u'FGM-FGA': u'1.0-1.8', u'MPG': u'5.7', u'FTM-FTA': u'0.0-0.0', u'FG%': u'.545', u'GP': u'6', u'PLAYER': u'Jason Thompson', u'FT%': u'.000', u'TEAM': u'GS', u'3PM-3PA': u'0.0-0.0', 'POSITION': u'PF', u'PTS': u'2.0', u'3P%': u'.000'}, {u'FGM-FGA': u'1.0-1.6', u'MPG': u'8.4', u'FTM-FTA': u'0.0-0.0', u'FG%': u'.625', u'GP': u'5', u'PLAYER': u'Jeff Withey', u'FT%': u'.000', u'TEAM': u'UTAH', u'3PM-3PA': u'0.0-0.0', 'POSITION': u'C', u'PTS': u'2.0', u'3P%': u'.000'}, {u'FGM-FGA': u'1.0-2.3', u'MPG': u'6.8', u'FTM-FTA': u'0.0-0.0', u'FG%': u'.444', u'GP': u'4', u'PLAYER': u'Cliff Alexander', u'FT%': u'.000', u'TEAM': u'POR', u'3PM-3PA': u'0.0-0.0', 'POSITION': u'PF', u'PTS': u'2.0', u'3P%': u'.000'}, {u'FGM-FGA': u'1.0-1.7', u'MPG': u'5.0', u'FTM-FTA': u'0.0-0.0', u'FG%': u'.600', u'GP': u'3', u'PLAYER': u'Udonis Haslem', u'FT%': u'.000', u'TEAM': u'MIA', u'3PM-3PA': u'0.0-0.3', 'POSITION': u'PF', u'PTS': u'2.0', u'3P%': u'.000'}, {u'FGM-FGA': u'0.5-1.0', u'MPG': u'12.0', u'FTM-FTA': u'1.0-1.0', u'FG%': u'.500', u'GP': u'2', u'PLAYER': u'Chuck Hayes', u'FT%': u'1.000', u'TEAM': u'HOU', u'3PM-3PA': u'0.0-0.0', 'POSITION': u'PF', u'PTS': u'2.0', u'3P%': u'.000'}, {u'FGM-FGA': u'1.0-3.0', u'MPG': u'4.0', u'FTM-FTA': u'0.0-0.0', u'FG%': u'.333', u'GP': u'1', u'PLAYER': u'Robert Sacre', u'FT%': u'.000', u'TEAM': u'LAL', u'3PM-3PA': u'0.0-0.0', 'POSITION': u'C', u'PTS': u'2.0', u'3P%': u'.000'}, {u'FGM-FGA': u'1.0-3.0', u'MPG': u'5.0', u'FTM-FTA': u'0.0-2.0', u'FG%': u'.333', u'GP': u'1', u'PLAYER': u'Cory Jefferson', u'FT%': u'.000', u'TEAM': u'PHX', u'3PM-3PA': u'0.0-0.0', 'POSITION': u'PF', u'PTS': u'2.0', u'3P%': u'.000'}, {u'FGM-FGA': u'0.6-1.2', u'MPG': u'5.0', u'FTM-FTA': u'0.6-1.5', u'FG%': u'.538', u'GP': u'11', u'PLAYER': u'James Michael McAdoo', u'FT%': u'.412', u'TEAM': u'GS', u'3PM-3PA': u'0.0-0.0', 'POSITION': u'SF', u'PTS': u'1.9', u'3P%': u'.000'}, {u'FGM-FGA': u'0.8-4.5', u'MPG': u'8.3', u'FTM-FTA': u'0.0-0.0', u'FG%': u'.185', u'GP': u'6', u'PLAYER': u'Terry Rozier', u'FT%': u'.000', u'TEAM': u'BOS', u'3PM-3PA': u'0.2-1.5', 'POSITION': u'PG', u'PTS': u'1.8', u'3P%': u'.111'}, {u'FGM-FGA': u'0.6-2.6', u'MPG': u'6.0', u'FTM-FTA': u'0.4-0.8', u'FG%': u'.231', u'GP': u'5', u'PLAYER': u'K.J. McDaniels', u'FT%': u'.500', u'TEAM': u'HOU', u'3PM-3PA': u'0.2-1.2', 'POSITION': u'SG', u'PTS': u'1.8', u'3P%': u'.167'}, {u'FGM-FGA': u'0.6-1.2', u'MPG': u'6.2', u'FTM-FTA': u'0.6-1.2', u'FG%': u'.500', u'GP': u'5', u'PLAYER': u'Mitch McGary', u'FT%': u'.500', u'TEAM': u'OKC', u'3PM-3PA': u'0.0-0.0', 'POSITION': u'PF', u'PTS': u'1.8', u'3P%': u'.000'}, {u'FGM-FGA': u'0.7-2.6', u'MPG': u'8.3', u'FTM-FTA': u'0.2-0.4', u'FG%': u'.269', u'GP': u'10', u'PLAYER': u'Trey Lyles', u'FT%': u'.500', u'TEAM': u'UTAH', u'3PM-3PA': u'0.1-0.5', 'POSITION': u'PF', u'PTS': u'1.7', u'3P%': u'.200'}, {u'FGM-FGA': u'0.3-0.7', u'MPG': u'3.0', u'FTM-FTA': u'0.7-0.7', u'FG%': u'.500', u'GP': u'3', u'PLAYER': u'Anthony Brown', u'FT%': u'1.000', u'TEAM': u'LAL', u'3PM-3PA': u'0.3-0.7', 'POSITION': u'SF', u'PTS': u'1.7', u'3P%': u'.500'}, {u'FGM-FGA': u'0.4-1.6', u'MPG': u'7.0', u'FTM-FTA': u'0.6-0.8', u'FG%': u'.250', u'GP': u'5', u'PLAYER': u'Damien Inglis', u'FT%': u'.750', u'TEAM': u'MIL', u'3PM-3PA': u'0.2-1.0', 'POSITION': u'SF', u'PTS': u'1.6', u'3P%': u'.200'}, {u'FGM-FGA': u'0.6-1.0', u'MPG': u'11.0', u'FTM-FTA': u'0.3-0.6', u'FG%': u'.571', u'GP': u'7', u'PLAYER': u'Quincy Acy', u'FT%': u'.500', u'TEAM': u'SAC', u'3PM-3PA': u'0.1-0.3', 'POSITION': u'SF', u'PTS': u'1.6', u'3P%': u'.500'}, {u'FGM-FGA': u'0.2-1.0', u'MPG': u'16.0', u'FTM-FTA': u'1.2-2.0', u'FG%': u'.167', u'GP': u'6', u'PLAYER': u'Omer Asik', u'FT%': u'.583', u'TEAM': u'NO', u'3PM-3PA': u'0.0-0.0', 'POSITION': u'C', u'PTS': u'1.5', u'3P%': u'.000'}, {u'FGM-FGA': u'0.5-0.5', u'MPG': u'6.5', u'FTM-FTA': u'0.5-1.0', u'FG%': u'1.000', u'GP': u'2', u'PLAYER': u'Chris Andersen', u'FT%': u'.500', u'TEAM': u'MIA', u'3PM-3PA': u'0.0-0.0', 'POSITION': u'PF', u'PTS': u'1.5', u'3P%': u'.000'}, {u'FGM-FGA': u'0.5-0.5', u'MPG': u'2.5', u'FTM-FTA': u'0.5-0.5', u'FG%': u'1.000', u'GP': u'2', u'PLAYER': u'Lucas Nogueira', u'FT%': u'1.000', u'TEAM': u'TOR', u'3PM-3PA': u'0.0-0.0', 'POSITION': u'C', u'PTS': u'1.5', u'3P%': u'.000'}, {u'FGM-FGA': u'0.5-1.0', u'MPG': u'3.0', u'FTM-FTA': u'0.0-0.0', u'FG%': u'.500', u'GP': u'2', u'PLAYER': u'Luis Montero', u'FT%': u'.000', u'TEAM': u'POR', u'3PM-3PA': u'0.5-0.5', 'POSITION': u'SG', u'PTS': u'1.5', u'3P%': u'1.000'}, {u'FGM-FGA': u'0.3-1.4', u'MPG': u'6.4', u'FTM-FTA': u'0.7-0.9', u'FG%': u'.200', u'GP': u'7', u'PLAYER': u'Elijah Millsap', u'FT%': u'.833', u'TEAM': u'UTAH', u'3PM-3PA': u'0.1-0.4', 'POSITION': u'SG', u'PTS': u'1.4', u'3P%': u'.333'}, {u'FGM-FGA': u'0.4-1.2', u'MPG': u'3.4', u'FTM-FTA': u'0.2-0.4', u'FG%': u'.333', u'GP': u'5', u'PLAYER': u'Troy Daniels', u'FT%': u'.500', u'TEAM': u'CHA', u'3PM-3PA': u'0.4-0.8', 'POSITION': u'SG', u'PTS': u'1.4', u'3P%': u'.500'}, {u'FGM-FGA': u'0.6-0.8', u'MPG': u'3.6', u'FTM-FTA': u'0.0-0.0', u'FG%': u'.750', u'GP': u'5', u'PLAYER': u'Cleanthony Early', u'FT%': u'.000', u'TEAM': u'NY', u'3PM-3PA': u'0.2-0.4', 'POSITION': u'SF', u'PTS': u'1.4', u'3P%': u'.500'}, {u'FGM-FGA': u'0.4-1.0', u'MPG': u'4.1', u'FTM-FTA': u'0.0-0.0', u'FG%': u'.444', u'GP': u'9', u'PLAYER': u'Mike Miller', u'FT%': u'.000', u'TEAM': u'DEN', u'3PM-3PA': u'0.4-1.0', 'POSITION': u'SG', u'PTS': u'1.3', u'3P%': u'.444'}, {u'FGM-FGA': u'0.4-1.6', u'MPG': u'4.8', u'FTM-FTA': u'0.2-0.4', u'FG%': u'.286', u'GP': u'9', u'PLAYER': u'Chris Johnson', u'FT%': u'.500', u'TEAM': u'UTAH', u'3PM-3PA': u'0.2-0.7', 'POSITION': u'SF', u'PTS': u'1.3', u'3P%': u'.333'}, {u'FGM-FGA': u'0.7-1.0', u'MPG': u'4.7', u'FTM-FTA': u'0.0-0.0', u'FG%': u'.667', u'GP': u'3', u'PLAYER': u'Cole Aldrich', u'FT%': u'.000', u'TEAM': u'LAC', u'3PM-3PA': u'0.0-0.0', 'POSITION': u'C', u'PTS': u'1.3', u'3P%': u'.000'}, {u'FGM-FGA': u'0.1-1.3', u'MPG': u'6.1', u'FTM-FTA': u'1.0-1.1', u'FG%': u'.111', u'GP': u'7', u'PLAYER': u'Anthony Bennett', u'FT%': u'.875', u'TEAM': u'TOR', u'3PM-3PA': u'0.0-0.7', 'POSITION': u'PF', u'PTS': u'1.3', u'3P%': u'.000'}, {u'FGM-FGA': u'0.6-1.1', u'MPG': u'4.4', u'FTM-FTA': u'0.0-0.0', u'FG%': u'.556', u'GP': u'8', u'PLAYER': u'Ray McCallum', u'FT%': u'.000', u'TEAM': u'SA', u'3PM-3PA': u'0.0-0.0', 'POSITION': u'PG', u'PTS': u'1.3', u'3P%': u'.000'}, {u'FGM-FGA': u'0.6-2.8', u'MPG': u'6.9', u'FTM-FTA': u'0.0-0.0', u'FG%': u'.227', u'GP': u'8', u'PLAYER': u'Norman Powell', u'FT%': u'.000', u'TEAM': u'TOR', u'3PM-3PA': u'0.0-0.4', 'POSITION': u'SG', u'PTS': u'1.3', u'3P%': u'.000'}, {u'FGM-FGA': u'0.5-2.8', u'MPG': u'8.5', u'FTM-FTA': u'0.3-0.5', u'FG%': u'.182', u'GP': u'4', u'PLAYER': u'DeJuan Blair', u'FT%': u'.500', u'TEAM': u'WSH', u'3PM-3PA': u'0.0-0.0', 'POSITION': u'C', u'PTS': u'1.3', u'3P%': u'.000'}, {u'FGM-FGA': u'0.3-1.0', u'MPG': u'2.0', u'FTM-FTA': u'0.5-0.5', u'FG%': u'.250', u'GP': u'4', u'PLAYER': u'Pat Connaughton', u'FT%': u'1.000', u'TEAM': u'POR', u'3PM-3PA': u'0.3-0.3', 'POSITION': u'SG', u'PTS': u'1.3', u'3P%': u'1.000'}, {u'FGM-FGA': u'0.4-3.2', u'MPG': u'11.6', u'FTM-FTA': u'0.0-0.0', u'FG%': u'.125', u'GP': u'5', u'PLAYER': u'Pablo Prigioni', u'FT%': u'.000', u'TEAM': u'LAC', u'3PM-3PA': u'0.4-2.4', 'POSITION': u'PG', u'PTS': u'1.2', u'3P%': u'.167'}, {u'FGM-FGA': u'0.4-1.4', u'MPG': u'9.1', u'FTM-FTA': u'0.4-0.6', u'FG%': u'.273', u'GP': u'8', u'PLAYER': u'Sonny Weems', u'FT%': u'.600', u'TEAM': u'PHX', u'3PM-3PA': u'0.0-0.4', 'POSITION': u'SG', u'PTS': u'1.1', u'3P%': u'.000'}, {u'FGM-FGA': u'0.4-1.1', u'MPG': u'4.9', u'FTM-FTA': u'0.2-0.2', u'FG%': u'.364', u'GP': u'10', u'PLAYER': u'Luc Richard Mbah a Moute', u'FT%': u'1.000', u'TEAM': u'LAC', u'3PM-3PA': u'0.1-0.1', 'POSITION': u'PF', u'PTS': u'1.1', u'3P%': u'1.000'}, {u'FGM-FGA': u'0.5-1.0', u'MPG': u'3.3', u'FTM-FTA': u'0.0-0.0', u'FG%': u'.500', u'GP': u'4', u'PLAYER': u'Tibor Pleiss', u'FT%': u'.000', u'TEAM': u'UTAH', u'3PM-3PA': u'0.0-0.0', 'POSITION': u'C', u'PTS': u'1.0', u'3P%': u'.000'}, {u'FGM-FGA': u'0.5-2.5', u'MPG': u'8.5', u'FTM-FTA': u'0.0-0.0', u'FG%': u'.200', u'GP': u'2', u'PLAYER': u'Jodie Meeks', u'FT%': u'.000', u'TEAM': u'DET', u'3PM-3PA': u'0.0-0.0', 'POSITION': u'SG', u'PTS': u'1.0', u'3P%': u'.000'}, {u'FGM-FGA': u'0.0-2.5', u'MPG': u'10.0', u'FTM-FTA': u'1.0-1.0', u'FG%': u'.000', u'GP': u'2', u'PLAYER': u'Donald Sloan', u'FT%': u'1.000', u'TEAM': u'BKN', u'3PM-3PA': u'0.0-0.0', 'POSITION': u'PG', u'PTS': u'1.0', u'3P%': u'.000'}, {u'FGM-FGA': u'0.5-2.0', u'MPG': u'5.0', u'FTM-FTA': u'0.0-0.0', u'FG%': u'.250', u'GP': u'2', u'PLAYER': u'Cameron Bairstow', u'FT%': u'.000', u'TEAM': u'CHI', u'3PM-3PA': u'0.0-1.0', 'POSITION': u'PF', u'PTS': u'1.0', u'3P%': u'.000'}, {u'FGM-FGA': u'0.0-0.5', u'MPG': u'6.0', u'FTM-FTA': u'1.0-1.0', u'FG%': u'.000', u'GP': u'2', u'PLAYER': u'Jonathon Simmons', u'FT%': u'1.000', u'TEAM': u'SA', u'3PM-3PA': u'0.0-0.0', 'POSITION': u'SG', u'PTS': u'1.0', u'3P%': u'.000'}, {u'FGM-FGA': u'0.3-0.7', u'MPG': u'4.8', u'FTM-FTA': u'0.0-0.0', u'FG%': u'.500', u'GP': u'6', u'PLAYER': u'Damjan Rudez', u'FT%': u'.000', u'TEAM': u'MIN', u'3PM-3PA': u'0.2-0.5', 'POSITION': u'SF', u'PTS': u'0.8', u'3P%': u'.333'}, {u'FGM-FGA': u'0.3-1.2', u'MPG': u'4.0', u'FTM-FTA': u'0.0-0.0', u'FG%': u'.286', u'GP': u'6', u'PLAYER': u'Cameron Payne', u'FT%': u'.000', u'TEAM': u'OKC', u'3PM-3PA': u'0.2-0.7', 'POSITION': u'PG', u'PTS': u'0.8', u'3P%': u'.250'}, {u'FGM-FGA': u'0.3-0.8', u'MPG': u'3.5', u'FTM-FTA': u'0.0-0.0', u'FG%': u'.333', u'GP': u'4', u'PLAYER': u'Joe Harris', u'FT%': u'.000', u'TEAM': u'CLE', u'3PM-3PA': u'0.3-0.8', 'POSITION': u'SG', u'PTS': u'0.8', u'3P%': u'.333'}, {u'FGM-FGA': u'0.3-0.7', u'MPG': u'3.7', u'FTM-FTA': u'0.0-0.7', u'FG%': u'.500', u'GP': u'3', u'PLAYER': u'Eric Moreland', u'FT%': u'.000', u'TEAM': u'SAC', u'3PM-3PA': u'0.0-0.0', 'POSITION': u'PF', u'PTS': u'0.7', u'3P%': u'.000'}, {u'FGM-FGA': u'0.1-1.9', u'MPG': u'7.3', u'FTM-FTA': u'0.1-0.1', u'FG%': u'.067', u'GP': u'8', u'PLAYER': u'Reggie Bullock', u'FT%': u'1.000', u'TEAM': u'DET', u'3PM-3PA': u'0.1-1.0', 'POSITION': u'SF', u'PTS': u'0.5', u'3P%': u'.125'}, {u'FGM-FGA': u'0.3-1.0', u'MPG': u'3.3', u'FTM-FTA': u'0.0-0.0', u'FG%': u'.250', u'GP': u'4', u'PLAYER': u'Jimmer Fredette', u'FT%': u'.000', u'TEAM': u'NO', u'3PM-3PA': u'0.0-0.3', 'POSITION': u'PG', u'PTS': u'0.5', u'3P%': u'.000'}, {u'FGM-FGA': u'0.0-0.0', u'MPG': u'1.0', u'FTM-FTA': u'0.5-1.0', u'FG%': u'.000', u'GP': u'2', u'PLAYER': u'Walter Tavares', u'FT%': u'.500', u'TEAM': u'ATL', u'3PM-3PA': u'0.0-0.0', 'POSITION': u'C', u'PTS': u'0.5', u'3P%': u'.000'}, {u'FGM-FGA': u'0.0-2.5', u'MPG': u'7.0', u'FTM-FTA': u'0.5-1.0', u'FG%': u'.000', u'GP': u'2', u'PLAYER': u'Tyus Jones', u'FT%': u'.500', u'TEAM': u'MIN', u'3PM-3PA': u'0.0-0.5', 'POSITION': u'PG', u'PTS': u'0.5', u'3P%': u'.000'}, {u'FGM-FGA': u'0.0-0.0', u'MPG': u'0.3', u'FTM-FTA': u'0.3-0.7', u'FG%': u'.000', u'GP': u'3', u'PLAYER': u'Matt Bonner', u'FT%': u'.500', u'TEAM': u'SA', u'3PM-3PA': u'0.0-0.0', 'POSITION': u'C', u'PTS': u'0.3', u'3P%': u'.000'}, {u'FGM-FGA': u'0.0-0.5', u'MPG': u'11.5', u'FTM-FTA': u'0.0-0.0', u'FG%': u'.000', u'GP': u'2', u'PLAYER': u'Nate Robinson', u'FT%': u'.000', u'TEAM': u'NO', u'3PM-3PA': u'0.0-0.5', 'POSITION': u'PG', u'PTS': u'0.0', u'3P%': u'.000'}, {u'FGM-FGA': u'0.0-0.0', u'MPG': u'3.0', u'FTM-FTA': u'0.0-0.0', u'FG%': u'.000', u'GP': u'3', u'PLAYER': u'Sasha Kaun', u'FT%': u'.000', u'TEAM': u'CLE', u'3PM-3PA': u'0.0-0.0', 'POSITION': u'C', u'PTS': u'0.0', u'3P%': u'.000'}, {u'FGM-FGA': u'0.0-0.3', u'MPG': u'2.3', u'FTM-FTA': u'0.0-0.0', u'FG%': u'.000', u'GP': u'3', u'PLAYER': u'Erick Green', u'FT%': u'.000', u'TEAM': u'DEN', u'3PM-3PA': u'0.0-0.3', 'POSITION': u'PG', u'PTS': u'0.0', u'3P%': u'.000'}, {u'FGM-FGA': u'0.0-0.3', u'MPG': u'2.7', u'FTM-FTA': u'0.0-0.0', u'FG%': u'.000', u'GP': u'7', u'PLAYER': u'Tim Frazier', u'FT%': u'.000', u'TEAM': u'POR', u'3PM-3PA': u'0.0-0.0', 'POSITION': u'PG', u'PTS': u'0.0', u'3P%': u'.000'}, {u'FGM-FGA': u'0.0-0.0', u'MPG': u'2.0', u'FTM-FTA': u'0.0-0.0', u'FG%': u'.000', u'GP': u'1', u'PLAYER': u'Shayne Whittington', u'FT%': u'.000', u'TEAM': u'IND', u'3PM-3PA': u'0.0-0.0', 'POSITION': u'PF', u'PTS': u'0.0', u'3P%': u'.000'}, {u'FGM-FGA': u'0.0-2.0', u'MPG': u'3.5', u'FTM-FTA': u'0.0-0.0', u'FG%': u'.000', u'GP': u'2', u'PLAYER': u'Devyn Marble', u'FT%': u'.000', u'TEAM': u'ORL', u'3PM-3PA': u'0.0-1.0', 'POSITION': u'SF', u'PTS': u'0.0', u'3P%': u'.000'}, {u'FGM-FGA': u'0.0-0.3', u'MPG': u'2.0', u'FTM-FTA': u'0.0-0.0', u'FG%': u'.000', u'GP': u'4', u'PLAYER': u'James Ennis', u'FT%': u'.000', u'TEAM': u'MIA/MEM', u'3PM-3PA': u'0.0-0.3', 'POSITION': u'SF', u'PTS': u'0.0', u'3P%': u'.000'}, {u'FGM-FGA': u'0.0-0.0', u'MPG': u'2.0', u'FTM-FTA': u'0.0-0.0', u'FG%': u'.000', u'GP': u'2', u'PLAYER': u'Jarnell Stokes', u'FT%': u'.000', u'TEAM': u'MEM', u'3PM-3PA': u'0.0-0.0', 'POSITION': u'PF', u'PTS': u'0.0', u'3P%': u'.000'}, {u'FGM-FGA': u'0.0-0.2', u'MPG': u'4.0', u'FTM-FTA': u'0.0-0.0', u'FG%': u'.000', u'GP': u'5', u'PLAYER': u'Salah Mejri', u'FT%': u'.000', u'TEAM': u'DAL', u'3PM-3PA': u'0.0-0.0', 'POSITION': u'C', u'PTS': u'0.0', u'3P%': u'.000'}, {u'FGM-FGA': u'0.0-0.0', u'MPG': u'2.0', u'FTM-FTA': u'0.0-0.0', u'FG%': u'.000', u'GP': u'3', u'PLAYER': u'Sam Dekker', u'FT%': u'.000', u'TEAM': u'HOU', u'3PM-3PA': u'0.0-0.0', 'POSITION': u'SF', u'PTS': u'0.0', u'3P%': u'.000'}, {u'FGM-FGA': u'0.0-1.0', u'MPG': u'2.5', u'FTM-FTA': u'0.0-0.0', u'FG%': u'.000', u'GP': u'4', u'PLAYER': u'Delon Wright', u'FT%': u'.000', u'TEAM': u'TOR', u'3PM-3PA': u'0.0-0.3', 'POSITION': u'PG', u'PTS': u'0.0', u'3P%': u'.000'}, {u'FGM-FGA': u'0.0-0.0', u'MPG': u'1.0', u'FTM-FTA': u'0.0-0.0', u'FG%': u'.000', u'GP': u'1', u'PLAYER': u'James Young', u'FT%': u'.000', u'TEAM': u'BOS', u'3PM-3PA': u'0.0-0.0', 'POSITION': u'SG', u'PTS': u'0.0', u'3P%': u'.000'}, {u'FGM-FGA': u'0.0-0.0', u'MPG': u'2.0', u'FTM-FTA': u'0.0-0.0', u'FG%': u'.000', u'GP': u'1', u'PLAYER': u'Aaron Harrison', u'FT%': u'.000', u'TEAM': u'CHA', u'3PM-3PA': u'0.0-0.0', 'POSITION': u'SG', u'PTS': u'0.0', u'3P%': u'.000'}, {u'FGM-FGA': u'0.0-1.0', u'MPG': u'1.0', u'FTM-FTA': u'0.0-0.0', u'FG%': u'.000', u'GP': u'1', u'PLAYER': u'Bruno Caboclo', u'FT%': u'.000', u'TEAM': u'TOR', u'3PM-3PA': u'0.0-0.0', 'POSITION': u'SF', u'PTS': u'0.0', u'3P%': u'.000'}, {u'FGM-FGA': u'0.0-0.0', u'MPG': u'1.0', u'FTM-FTA': u'0.0-0.0', u'FG%': u'.000', u'GP': u'1', u'PLAYER': u'Cristiano Felicio', u'FT%': u'.000', u'TEAM': u'CHI', u'3PM-3PA': u'0.0-0.0', 'POSITION': u'PF', u'PTS': u'0.0', u'3P%': u'.000'}]\n"
     ]
    }
   ],
   "source": [
    "#See what the dictionary looks like.\n",
    "print players_stats_dicts"
   ]
  },
  {
   "cell_type": "code",
   "execution_count": 23,
   "metadata": {
    "collapsed": false
   },
   "outputs": [
    {
     "data": {
      "text/html": [
       "<div>\n",
       "<table border=\"1\" class=\"dataframe\">\n",
       "  <thead>\n",
       "    <tr style=\"text-align: right;\">\n",
       "      <th></th>\n",
       "      <th>3P%</th>\n",
       "      <th>3PM-3PA</th>\n",
       "      <th>FG%</th>\n",
       "      <th>FGM-FGA</th>\n",
       "      <th>FT%</th>\n",
       "      <th>FTM-FTA</th>\n",
       "      <th>GP</th>\n",
       "      <th>MPG</th>\n",
       "      <th>PLAYER</th>\n",
       "      <th>POSITION</th>\n",
       "      <th>PTS</th>\n",
       "      <th>TEAM</th>\n",
       "    </tr>\n",
       "  </thead>\n",
       "  <tbody>\n",
       "    <tr>\n",
       "      <th>0</th>\n",
       "      <td>.441</td>\n",
       "      <td>5.1-11.5</td>\n",
       "      <td>.515</td>\n",
       "      <td>11.1-21.5</td>\n",
       "      <td>.938</td>\n",
       "      <td>6.4-6.9</td>\n",
       "      <td>14</td>\n",
       "      <td>35.6</td>\n",
       "      <td>Stephen Curry</td>\n",
       "      <td>PG</td>\n",
       "      <td>33.6</td>\n",
       "      <td>GS</td>\n",
       "    </tr>\n",
       "    <tr>\n",
       "      <th>1</th>\n",
       "      <td>.329</td>\n",
       "      <td>1.9-5.8</td>\n",
       "      <td>.459</td>\n",
       "      <td>9.8-21.5</td>\n",
       "      <td>.811</td>\n",
       "      <td>6.9-8.5</td>\n",
       "      <td>13</td>\n",
       "      <td>35.2</td>\n",
       "      <td>Russell Westbrook</td>\n",
       "      <td>PG</td>\n",
       "      <td>28.5</td>\n",
       "      <td>OKC</td>\n",
       "    </tr>\n",
       "    <tr>\n",
       "      <th>2</th>\n",
       "      <td>.447</td>\n",
       "      <td>2.6-5.9</td>\n",
       "      <td>.503</td>\n",
       "      <td>9.6-19.1</td>\n",
       "      <td>.893</td>\n",
       "      <td>6.3-7.0</td>\n",
       "      <td>8</td>\n",
       "      <td>34.8</td>\n",
       "      <td>Kevin Durant</td>\n",
       "      <td>SF</td>\n",
       "      <td>28.1</td>\n",
       "      <td>OKC</td>\n",
       "    </tr>\n",
       "    <tr>\n",
       "      <th>3</th>\n",
       "      <td>.271</td>\n",
       "      <td>2.5-9.2</td>\n",
       "      <td>.380</td>\n",
       "      <td>7.8-20.5</td>\n",
       "      <td>.885</td>\n",
       "      <td>9.9-11.1</td>\n",
       "      <td>14</td>\n",
       "      <td>38.9</td>\n",
       "      <td>James Harden</td>\n",
       "      <td>SG</td>\n",
       "      <td>27.9</td>\n",
       "      <td>HOU</td>\n",
       "    </tr>\n",
       "    <tr>\n",
       "      <th>4</th>\n",
       "      <td>.389</td>\n",
       "      <td>1.6-4.0</td>\n",
       "      <td>.430</td>\n",
       "      <td>8.6-19.9</td>\n",
       "      <td>.779</td>\n",
       "      <td>9.0-11.6</td>\n",
       "      <td>9</td>\n",
       "      <td>33.1</td>\n",
       "      <td>DeMarcus Cousins</td>\n",
       "      <td>PF</td>\n",
       "      <td>27.7</td>\n",
       "      <td>SAC</td>\n",
       "    </tr>\n",
       "  </tbody>\n",
       "</table>\n",
       "</div>"
      ],
      "text/plain": [
       "    3P%   3PM-3PA   FG%    FGM-FGA   FT%   FTM-FTA  GP   MPG  \\\n",
       "0  .441  5.1-11.5  .515  11.1-21.5  .938   6.4-6.9  14  35.6   \n",
       "1  .329   1.9-5.8  .459   9.8-21.5  .811   6.9-8.5  13  35.2   \n",
       "2  .447   2.6-5.9  .503   9.6-19.1  .893   6.3-7.0   8  34.8   \n",
       "3  .271   2.5-9.2  .380   7.8-20.5  .885  9.9-11.1  14  38.9   \n",
       "4  .389   1.6-4.0  .430   8.6-19.9  .779  9.0-11.6   9  33.1   \n",
       "\n",
       "              PLAYER POSITION   PTS TEAM  \n",
       "0      Stephen Curry       PG  33.6   GS  \n",
       "1  Russell Westbrook       PG  28.5  OKC  \n",
       "2       Kevin Durant       SF  28.1  OKC  \n",
       "3       James Harden       SG  27.9  HOU  \n",
       "4   DeMarcus Cousins       PF  27.7  SAC  "
      ]
     },
     "execution_count": 23,
     "metadata": {},
     "output_type": "execute_result"
    }
   ],
   "source": [
    "#Import the dictionary into a pandas dataframe.\n",
    "import pandas as pd\n",
    "import numpy as np\n",
    "\n",
    "df = pd.DataFrame.from_dict(players_stats_dicts)\n",
    "df.head()\n"
   ]
  },
  {
   "cell_type": "code",
   "execution_count": 24,
   "metadata": {
    "collapsed": false
   },
   "outputs": [
    {
     "name": "stdout",
     "output_type": "stream",
     "text": [
      "[u'PLAYER', 'POSITION', u'TEAM', u'GP', u'MPG', u'AST', u'APG', u'TO', u'TOPG', u'AP48M', u'AST/TO']\n"
     ]
    }
   ],
   "source": [
    "#Now repeat with the assists table, using the get_cols function.\n",
    "cols = []\n",
    "url = 'http://espn.go.com/nba/statistics/player/_/stat/assists/qualified/false'\n",
    "get_cols(url)"
   ]
  },
  {
   "cell_type": "code",
   "execution_count": 25,
   "metadata": {
    "collapsed": false
   },
   "outputs": [],
   "source": [
    "#Run through all assists URLs (40 players per page) and append data to a dictionary using get_data function.\n",
    "#Should I give this dictionary a different name or can I just clear the old one now that my other data is in df?\n",
    "players_stats_dicts = []\n",
    "\n",
    "for x in range(1, 402):\n",
    "    if x % 40 == 1:\n",
    "        url_no = str(x)\n",
    "        url = 'http://espn.go.com/nba/statistics/player/_/stat/assists/sort/avgAssists/qualified/false/count/' + url_no \n",
    "        get_data(url)"
   ]
  },
  {
   "cell_type": "code",
   "execution_count": 26,
   "metadata": {
    "collapsed": false
   },
   "outputs": [
    {
     "name": "stdout",
     "output_type": "stream",
     "text": [
      "[{u'MPG': u'35.2', u'GP': u'13', u'AST': u'132', u'PLAYER': u'Russell Westbrook', u'TO': u'64', u'AP48M': u'13.9', u'TEAM': u'OKC', u'TOPG': u'4.9', 'POSITION': u'PG', u'APG': u'10.2', u'AST/TO': u'2.06'}, {u'MPG': u'36.0', u'GP': u'14', u'AST': u'142', u'PLAYER': u'Rajon Rondo', u'TO': u'54', u'AP48M': u'13.5', u'TEAM': u'SAC', u'TOPG': u'3.9', 'POSITION': u'PG', u'APG': u'10.1', u'AST/TO': u'2.63'}, {u'MPG': u'30.8', u'GP': u'9', u'AST': u'76', u'PLAYER': u'Ricky Rubio', u'TO': u'19', u'AP48M': u'13.2', u'TEAM': u'MIN', u'TOPG': u'2.1', 'POSITION': u'PG', u'APG': u'8.4', u'AST/TO': u'4.00'}, {u'MPG': u'32.7', u'GP': u'10', u'AST': u'84', u'PLAYER': u'John Wall', u'TO': u'41', u'AP48M': u'12.3', u'TEAM': u'WSH', u'TOPG': u'4.1', 'POSITION': u'PG', u'APG': u'8.4', u'AST/TO': u'2.05'}, {u'MPG': u'32.0', u'GP': u'9', u'AST': u'72', u'PLAYER': u'Chris Paul', u'TO': u'24', u'AP48M': u'12.0', u'TEAM': u'LAC', u'TOPG': u'2.7', 'POSITION': u'PG', u'APG': u'8.0', u'AST/TO': u'3.00'}, {u'MPG': u'28.8', u'GP': u'13', u'AST': u'103', u'PLAYER': u'Ish Smith', u'TO': u'28', u'AP48M': u'13.2', u'TEAM': u'NO', u'TOPG': u'2.2', 'POSITION': u'PG', u'APG': u'7.9', u'AST/TO': u'3.68'}, {u'MPG': u'32.3', u'GP': u'12', u'AST': u'88', u'PLAYER': u'Jarrett Jack', u'TO': u'34', u'AP48M': u'10.9', u'TEAM': u'BKN', u'TOPG': u'2.8', 'POSITION': u'PG', u'APG': u'7.3', u'AST/TO': u'2.59'}, {u'MPG': u'33.8', u'GP': u'14', u'AST': u'97', u'PLAYER': u'Draymond Green', u'TO': u'36', u'AP48M': u'9.8', u'TEAM': u'GS', u'TOPG': u'2.6', 'POSITION': u'SF', u'APG': u'6.9', u'AST/TO': u'2.69'}, {u'MPG': u'37.6', u'GP': u'14', u'AST': u'94', u'PLAYER': u'Damian Lillard', u'TO': u'53', u'AP48M': u'8.6', u'TEAM': u'POR', u'TOPG': u'3.8', 'POSITION': u'PG', u'APG': u'6.7', u'AST/TO': u'1.77'}, {u'MPG': u'31.9', u'GP': u'14', u'AST': u'92', u'PLAYER': u'Mike Conley', u'TO': u'24', u'AP48M': u'9.9', u'TEAM': u'MEM', u'TOPG': u'1.7', 'POSITION': u'PG', u'APG': u'6.6', u'AST/TO': u'3.83'}, {u'MPG': u'30.2', u'GP': u'12', u'AST': u'78', u'PLAYER': u'Isaiah Thomas', u'TO': u'31', u'AP48M': u'10.3', u'TEAM': u'BOS', u'TOPG': u'2.6', 'POSITION': u'PG', u'APG': u'6.5', u'AST/TO': u'2.52'}, {u'MPG': u'38.9', u'GP': u'14', u'AST': u'90', u'PLAYER': u'James Harden', u'TO': u'67', u'AP48M': u'7.9', u'TEAM': u'HOU', u'TOPG': u'4.8', 'POSITION': u'SG', u'APG': u'6.4', u'AST/TO': u'1.34'}, {u'MPG': u'28.8', u'GP': u'14', u'AST': u'90', u'PLAYER': u'T.J. McConnell', u'TO': u'39', u'AP48M': u'10.7', u'TEAM': u'PHI', u'TOPG': u'2.8', 'POSITION': u'PG', u'APG': u'6.4', u'AST/TO': u'2.31'}, {u'MPG': u'30.4', u'GP': u'12', u'AST': u'76', u'PLAYER': u'Jeff Teague', u'TO': u'35', u'AP48M': u'10.0', u'TEAM': u'ATL', u'TOPG': u'2.9', 'POSITION': u'PG', u'APG': u'6.3', u'AST/TO': u'2.17'}, {u'MPG': u'30.2', u'GP': u'13', u'AST': u'82', u'PLAYER': u'Emmanuel Mudiay', u'TO': u'57', u'AP48M': u'10.0', u'TEAM': u'DEN', u'TOPG': u'4.4', 'POSITION': u'PG', u'APG': u'6.3', u'AST/TO': u'1.44'}, {u'MPG': u'36.2', u'GP': u'13', u'AST': u'81', u'PLAYER': u'LeBron James', u'TO': u'44', u'AP48M': u'8.3', u'TEAM': u'CLE', u'TOPG': u'3.4', 'POSITION': u'SF', u'APG': u'6.2', u'AST/TO': u'1.84'}, {u'MPG': u'32.3', u'GP': u'13', u'AST': u'81', u'PLAYER': u'Elfrid Payton', u'TO': u'37', u'AP48M': u'9.3', u'TEAM': u'ORL', u'TOPG': u'2.8', 'POSITION': u'PG', u'APG': u'6.2', u'AST/TO': u'2.19'}, {u'MPG': u'35.2', u'GP': u'14', u'AST': u'87', u'PLAYER': u'Kyle Lowry', u'TO': u'44', u'AP48M': u'8.5', u'TEAM': u'TOR', u'TOPG': u'3.1', 'POSITION': u'PG', u'APG': u'6.2', u'AST/TO': u'1.98'}, {u'MPG': u'32.4', u'GP': u'10', u'AST': u'60', u'PLAYER': u'Derrick Rose', u'TO': u'26', u'AP48M': u'8.9', u'TEAM': u'CHI', u'TOPG': u'2.6', 'POSITION': u'PG', u'APG': u'6.0', u'AST/TO': u'2.31'}, {u'MPG': u'31.8', u'GP': u'13', u'AST': u'76', u'PLAYER': u'Reggie Jackson', u'TO': u'51', u'AP48M': u'8.8', u'TEAM': u'DET', u'TOPG': u'3.9', 'POSITION': u'PG', u'APG': u'5.8', u'AST/TO': u'1.49'}, {u'MPG': u'34.3', u'GP': u'12', u'AST': u'69', u'PLAYER': u'Eric Bledsoe', u'TO': u'42', u'AP48M': u'8.1', u'TEAM': u'PHX', u'TOPG': u'3.5', 'POSITION': u'PG', u'APG': u'5.8', u'AST/TO': u'1.64'}, {u'MPG': u'27.1', u'GP': u'13', u'AST': u'74', u'PLAYER': u'Matthew Dellavedova', u'TO': u'19', u'AP48M': u'10.1', u'TEAM': u'CLE', u'TOPG': u'1.5', 'POSITION': u'SG', u'APG': u'5.7', u'AST/TO': u'3.89'}, {u'MPG': u'35.6', u'GP': u'14', u'AST': u'79', u'PLAYER': u'Stephen Curry', u'TO': u'54', u'AP48M': u'7.6', u'TEAM': u'GS', u'TOPG': u'3.9', 'POSITION': u'PG', u'APG': u'5.6', u'AST/TO': u'1.46'}, {u'MPG': u'31.1', u'GP': u'12', u'AST': u'67', u'PLAYER': u'Deron Williams', u'TO': u'20', u'AP48M': u'8.6', u'TEAM': u'DAL', u'TOPG': u'1.7', 'POSITION': u'PG', u'APG': u'5.6', u'AST/TO': u'3.35'}, {u'MPG': u'33.0', u'GP': u'13', u'AST': u'69', u'PLAYER': u'Monta Ellis', u'TO': u'36', u'AP48M': u'7.7', u'TEAM': u'IND', u'TOPG': u'2.8', 'POSITION': u'PG', u'APG': u'5.3', u'AST/TO': u'1.92'}, {u'MPG': u'31.3', u'GP': u'11', u'AST': u'58', u'PLAYER': u'Mo Williams', u'TO': u'24', u'AP48M': u'8.1', u'TEAM': u'CLE', u'TOPG': u'2.2', 'POSITION': u'PG', u'APG': u'5.3', u'AST/TO': u'2.42'}, {u'MPG': u'32.5', u'GP': u'13', u'AST': u'68', u'PLAYER': u'Kemba Walker', u'TO': u'23', u'AP48M': u'7.7', u'TEAM': u'CHA', u'TOPG': u'1.8', 'POSITION': u'PG', u'APG': u'5.2', u'AST/TO': u'2.96'}, {u'MPG': u'34.8', u'GP': u'12', u'AST': u'60', u'PLAYER': u'Brandon Knight', u'TO': u'40', u'AP48M': u'6.9', u'TEAM': u'PHX', u'TOPG': u'3.3', 'POSITION': u'PG', u'APG': u'5.0', u'AST/TO': u'1.50'}, {u'MPG': u'22.4', u'GP': u'9', u'AST': u'45', u'PLAYER': u'Jrue Holiday', u'TO': u'24', u'AP48M': u'10.7', u'TEAM': u'NO', u'TOPG': u'2.7', 'POSITION': u'PG', u'APG': u'5.0', u'AST/TO': u'1.88'}, {u'MPG': u'32.2', u'GP': u'14', u'AST': u'69', u'PLAYER': u'Ty Lawson', u'TO': u'35', u'AP48M': u'7.3', u'TEAM': u'HOU', u'TOPG': u'2.5', 'POSITION': u'PG', u'APG': u'4.9', u'AST/TO': u'1.97'}, {u'MPG': u'29.9', u'GP': u'8', u'AST': u'39', u'PLAYER': u'Michael Carter-Williams', u'TO': u'29', u'AP48M': u'7.8', u'TEAM': u'MIL', u'TOPG': u'3.6', 'POSITION': u'PG', u'APG': u'4.9', u'AST/TO': u'1.34'}, {u'MPG': u'35.5', u'GP': u'13', u'AST': u'63', u'PLAYER': u'Paul George', u'TO': u'46', u'AP48M': u'6.5', u'TEAM': u'IND', u'TOPG': u'3.5', 'POSITION': u'SF', u'APG': u'4.8', u'AST/TO': u'1.37'}, {u'MPG': u'24.3', u'GP': u'15', u'AST': u'72', u'PLAYER': u'Dennis Schroder', u'TO': u'27', u'AP48M': u'9.5', u'TEAM': u'ATL', u'TOPG': u'1.8', 'POSITION': u'PG', u'APG': u'4.8', u'AST/TO': u'2.67'}, {u'MPG': u'23.8', u'GP': u'13', u'AST': u'61', u'PLAYER': u'Greivis Vasquez', u'TO': u'25', u'AP48M': u'9.4', u'TEAM': u'MIL', u'TOPG': u'1.9', 'POSITION': u'PG', u'APG': u'4.7', u'AST/TO': u'2.44'}, {u'MPG': u'29.9', u'GP': u'11', u'AST': u'51', u'PLAYER': u'Dwyane Wade', u'TO': u'23', u'AP48M': u'7.4', u'TEAM': u'MIA', u'TOPG': u'2.1', 'POSITION': u'SG', u'APG': u'4.6', u'AST/TO': u'2.22'}, {u'MPG': u'24.5', u'GP': u'11', u'AST': u'51', u'PLAYER': u'Jameer Nelson', u'TO': u'18', u'AP48M': u'9.1', u'TEAM': u'DEN', u'TOPG': u'1.6', 'POSITION': u'PG', u'APG': u'4.6', u'AST/TO': u'2.83'}, {u'MPG': u'30.8', u'GP': u'12', u'AST': u'55', u'PLAYER': u'Goran Dragic', u'TO': u'26', u'AP48M': u'7.2', u'TEAM': u'MIA', u'TOPG': u'2.2', 'POSITION': u'SG', u'APG': u'4.6', u'AST/TO': u'2.12'}, {u'MPG': u'34.3', u'GP': u'12', u'AST': u'55', u'PLAYER': u'Blake Griffin', u'TO': u'23', u'AP48M': u'6.4', u'TEAM': u'LAC', u'TOPG': u'1.9', 'POSITION': u'PF', u'APG': u'4.6', u'AST/TO': u'2.39'}, {u'MPG': u'34.1', u'GP': u'13', u'AST': u'57', u'PLAYER': u'Joe Johnson', u'TO': u'17', u'AP48M': u'6.2', u'TEAM': u'BKN', u'TOPG': u'1.3', 'POSITION': u'SF', u'APG': u'4.4', u'AST/TO': u'3.35'}, {u'MPG': u'33.5', u'GP': u'14', u'AST': u'61', u'PLAYER': u'Marc Gasol', u'TO': u'33', u'AP48M': u'6.2', u'TEAM': u'MEM', u'TOPG': u'2.4', 'POSITION': u'C', u'APG': u'4.4', u'AST/TO': u'1.85'}, {u'MPG': u'20.2', u'GP': u'13', u'AST': u'56', u'PLAYER': u'J.J. Barea', u'TO': u'25', u'AP48M': u'10.2', u'TEAM': u'DAL', u'TOPG': u'1.9', 'POSITION': u'PG', u'APG': u'4.3', u'AST/TO': u'2.24'}, {u'MPG': u'35.5', u'GP': u'14', u'AST': u'60', u'PLAYER': u'DeMar DeRozan', u'TO': u'36', u'AP48M': u'5.8', u'TEAM': u'TOR', u'TOPG': u'2.6', 'POSITION': u'SG', u'APG': u'4.3', u'AST/TO': u'1.67'}, {u'MPG': u'27.8', u'GP': u'13', u'AST': u'55', u'PLAYER': u'Tony Parker', u'TO': u'24', u'AP48M': u'7.3', u'TEAM': u'SA', u'TOPG': u'1.8', 'POSITION': u'PG', u'APG': u'4.2', u'AST/TO': u'2.29'}, {u'MPG': u'29.8', u'GP': u'9', u'AST': u'38', u'PLAYER': u'Darren Collison', u'TO': u'18', u'AP48M': u'6.8', u'TEAM': u'SAC', u'TOPG': u'2.0', 'POSITION': u'PG', u'APG': u'4.2', u'AST/TO': u'2.11'}, {u'MPG': u'29.1', u'GP': u'14', u'AST': u'59', u'PLAYER': u'Andre Iguodala', u'TO': u'16', u'AP48M': u'6.9', u'TEAM': u'GS', u'TOPG': u'1.1', 'POSITION': u'SG', u'APG': u'4.2', u'AST/TO': u'3.69'}, {u'MPG': u'34.6', u'GP': u'13', u'AST': u'49', u'PLAYER': u'Nicolas Batum', u'TO': u'37', u'AP48M': u'5.2', u'TEAM': u'CHA', u'TOPG': u'2.8', 'POSITION': u'SG', u'APG': u'3.8', u'AST/TO': u'1.32'}, {u'MPG': u'32.8', u'GP': u'11', u'AST': u'41', u'PLAYER': u'Victor Oladipo', u'TO': u'17', u'AP48M': u'5.5', u'TEAM': u'ORL', u'TOPG': u'1.5', 'POSITION': u'SG', u'APG': u'3.7', u'AST/TO': u'2.41'}, {u'MPG': u'36.9', u'GP': u'10', u'AST': u'37', u'PLAYER': u'George Hill', u'TO': u'20', u'AP48M': u'4.8', u'TEAM': u'IND', u'TOPG': u'2.0', 'POSITION': u'PG', u'APG': u'3.7', u'AST/TO': u'1.85'}, {u'MPG': u'24.1', u'GP': u'13', u'AST': u'48', u'PLAYER': u'Zach LaVine', u'TO': u'31', u'AP48M': u'7.4', u'TEAM': u'MIN', u'TOPG': u'2.4', 'POSITION': u'PG', u'APG': u'3.7', u'AST/TO': u'1.55'}, {u'MPG': u'34.3', u'GP': u'15', u'AST': u'55', u'PLAYER': u'Paul Millsap', u'TO': u'40', u'AP48M': u'5.1', u'TEAM': u'ATL', u'TOPG': u'2.7', 'POSITION': u'PF', u'APG': u'3.7', u'AST/TO': u'1.38'}, {u'MPG': u'31.1', u'GP': u'9', u'AST': u'33', u'PLAYER': u'Kobe Bryant', u'TO': u'22', u'AP48M': u'5.7', u'TEAM': u'LAL', u'TOPG': u'2.4', 'POSITION': u'SF', u'APG': u'3.7', u'AST/TO': u'1.50'}, {u'MPG': u'25.4', u'GP': u'14', u'AST': u'49', u'PLAYER': u'Jose Calderon', u'TO': u'16', u'AP48M': u'6.6', u'TEAM': u'NY', u'TOPG': u'1.1', 'POSITION': u'PG', u'APG': u'3.5', u'AST/TO': u'3.06'}, {u'MPG': u'20.7', u'GP': u'10', u'AST': u'35', u'PLAYER': u'Manu Ginobili', u'TO': u'14', u'AP48M': u'8.1', u'TEAM': u'SA', u'TOPG': u'1.4', 'POSITION': u'SG', u'APG': u'3.5', u'AST/TO': u'2.50'}, {u'MPG': u'30.3', u'GP': u'13', u'AST': u'45', u'PLAYER': u'Jerryd Bayless', u'TO': u'25', u'AP48M': u'5.5', u'TEAM': u'MIL', u'TOPG': u'1.9', 'POSITION': u'PG', u'APG': u'3.5', u'AST/TO': u'1.80'}, {u'MPG': u'20.5', u'GP': u'11', u'AST': u'38', u'PLAYER': u'Joakim Noah', u'TO': u'22', u'AP48M': u'8.1', u'TEAM': u'CHI', u'TOPG': u'2.0', 'POSITION': u'C', u'APG': u'3.5', u'AST/TO': u'1.73'}, {u'MPG': u'11.6', u'GP': u'9', u'AST': u'31', u'PLAYER': u'Phil Pressey', u'TO': u'11', u'AP48M': u'14.3', u'TEAM': u'PHI', u'TOPG': u'1.2', 'POSITION': u'PG', u'APG': u'3.4', u'AST/TO': u'2.82'}, {u'MPG': u'24.5', u'GP': u'12', u'AST': u'40', u'PLAYER': u'Evan Turner', u'TO': u'24', u'AP48M': u'6.5', u'TEAM': u'BOS', u'TOPG': u'2.0', 'POSITION': u'SG', u'APG': u'3.3', u'AST/TO': u'1.67'}, {u'MPG': u'36.5', u'GP': u'12', u'AST': u'40', u'PLAYER': u'Jimmy Butler', u'TO': u'18', u'AP48M': u'4.4', u'TEAM': u'CHI', u'TOPG': u'1.5', 'POSITION': u'SG', u'APG': u'3.3', u'AST/TO': u'2.22'}, {u'MPG': u'18.9', u'GP': u'13', u'AST': u'43', u'PLAYER': u'Boris Diaw', u'TO': u'13', u'AP48M': u'8.4', u'TEAM': u'SA', u'TOPG': u'1.0', 'POSITION': u'C', u'APG': u'3.3', u'AST/TO': u'3.31'}, {u'MPG': u'34.1', u'GP': u'14', u'AST': u'46', u'PLAYER': u'Carmelo Anthony', u'TO': u'29', u'AP48M': u'4.6', u'TEAM': u'NY', u'TOPG': u'2.1', 'POSITION': u'SF', u'APG': u'3.3', u'AST/TO': u'1.59'}, {u'MPG': u'24.8', u'GP': u'14', u'AST': u'46', u'PLAYER': u'Cory Joseph', u'TO': u'15', u'AP48M': u'6.4', u'TEAM': u'TOR', u'TOPG': u'1.1', 'POSITION': u'PG', u'APG': u'3.3', u'AST/TO': u'3.07'}, {u'MPG': u'29.1', u'GP': u'9', u'AST': u'29', u'PLAYER': u'Marcus Smart', u'TO': u'15', u'AP48M': u'5.3', u'TEAM': u'BOS', u'TOPG': u'1.7', 'POSITION': u'PG', u'APG': u'3.2', u'AST/TO': u'1.93'}, {u'MPG': u'15.0', u'GP': u'6', u'AST': u'19', u'PLAYER': u'Andre Miller', u'TO': u'8', u'AP48M': u'10.1', u'TEAM': u'MIN', u'TOPG': u'1.3', 'POSITION': u'PG', u'APG': u'3.2', u'AST/TO': u'2.38'}, {u'MPG': u'35.9', u'GP': u'13', u'AST': u'41', u'PLAYER': u'Eric Gordon', u'TO': u'20', u'AP48M': u'4.2', u'TEAM': u'NO', u'TOPG': u'1.5', 'POSITION': u'SG', u'APG': u'3.2', u'AST/TO': u'2.05'}, {u'MPG': u'19.5', u'GP': u'8', u'AST': u'25', u'PLAYER': u'C.J. Watson', u'TO': u'6', u'AP48M': u'7.7', u'TEAM': u'ORL', u'TOPG': u'0.8', 'POSITION': u'PG', u'APG': u'3.1', u'AST/TO': u'4.17'}, {u'MPG': u'14.9', u'GP': u'9', u'AST': u'28', u'PLAYER': u'Steve Blake', u'TO': u'15', u'AP48M': u'10.0', u'TEAM': u'DET', u'TOPG': u'1.7', 'POSITION': u'PG', u'APG': u'3.1', u'AST/TO': u'1.87'}, {u'MPG': u'18.0', u'GP': u'10', u'AST': u'31', u'PLAYER': u'Ramon Sessions', u'TO': u'12', u'AP48M': u'8.3', u'TEAM': u'WSH', u'TOPG': u'1.2', 'POSITION': u'PG', u'APG': u'3.1', u'AST/TO': u'2.58'}, {u'MPG': u'30.3', u'GP': u'11', u'AST': u'34', u'PLAYER': u'Rodney Hood', u'TO': u'20', u'AP48M': u'4.9', u'TEAM': u'UTAH', u'TOPG': u'1.8', 'POSITION': u'SG', u'APG': u'3.1', u'AST/TO': u'1.70'}, {u'MPG': u'19.5', u'GP': u'14', u'AST': u'43', u'PLAYER': u'Jerian Grant', u'TO': u'18', u'AP48M': u'7.6', u'TEAM': u'NY', u'TOPG': u'1.3', 'POSITION': u'PG', u'APG': u'3.1', u'AST/TO': u'2.39'}, {u'MPG': u'31.9', u'GP': u'15', u'AST': u'46', u'PLAYER': u'Al Horford', u'TO': u'23', u'AP48M': u'4.6', u'TEAM': u'ATL', u'TOPG': u'1.5', 'POSITION': u'C', u'APG': u'3.1', u'AST/TO': u'2.00'}, {u'MPG': u'34.9', u'GP': u'14', u'AST': u'42', u'PLAYER': u'C.J. McCollum', u'TO': u'32', u'AP48M': u'4.1', u'TEAM': u'POR', u'TOPG': u'2.3', 'POSITION': u'SG', u'APG': u'3.0', u'AST/TO': u'1.31'}, {u'MPG': u'27.2', u'GP': u'13', u'AST': u'39', u'PLAYER': u'Tim Duncan', u'TO': u'26', u'AP48M': u'5.3', u'TEAM': u'SA', u'TOPG': u'2.0', 'POSITION': u'C', u'APG': u'3.0', u'AST/TO': u'1.50'}, {u'MPG': u'32.5', u'GP': u'13', u'AST': u'39', u'PLAYER': u'Greg Monroe', u'TO': u'26', u'AP48M': u'4.4', u'TEAM': u'MIL', u'TOPG': u'2.0', 'POSITION': u'C', u'APG': u'3.0', u'AST/TO': u'1.50'}, {u'MPG': u'19.8', u'GP': u'11', u'AST': u'33', u'PLAYER': u'Mario Chalmers', u'TO': u'15', u'AP48M': u'7.3', u'TEAM': u'MIA/MEM', u'TOPG': u'1.4', 'POSITION': u'PG', u'APG': u'3.0', u'AST/TO': u'2.20'}, {u'MPG': u'34.8', u'GP': u'8', u'AST': u'24', u'PLAYER': u'Kevin Durant', u'TO': u'18', u'AP48M': u'4.1', u'TEAM': u'OKC', u'TOPG': u'2.3', 'POSITION': u'SF', u'APG': u'3.0', u'AST/TO': u'1.33'}, {u'MPG': u'12.9', u'GP': u'7', u'AST': u'21', u'PLAYER': u'Marcelo Huertas', u'TO': u'10', u'AP48M': u'11.2', u'TEAM': u'LAL', u'TOPG': u'1.4', 'POSITION': u'PG', u'APG': u'3.0', u'AST/TO': u'2.10'}, {u'MPG': u'23.4', u'GP': u'13', u'AST': u'38', u'PLAYER': u'Jeremy Lin', u'TO': u'22', u'AP48M': u'6.0', u'TEAM': u'CHA', u'TOPG': u'1.7', 'POSITION': u'PG', u'APG': u'2.9', u'AST/TO': u'1.73'}, {u'MPG': u'38.2', u'GP': u'13', u'AST': u'38', u'PLAYER': u'Evan Fournier', u'TO': u'24', u'AP48M': u'3.7', u'TEAM': u'ORL', u'TOPG': u'1.8', 'POSITION': u'SF', u'APG': u'2.9', u'AST/TO': u'1.58'}, {u'MPG': u'17.5', u'GP': u'13', u'AST': u'37', u'PLAYER': u'Shane Larkin', u'TO': u'20', u'AP48M': u'7.8', u'TEAM': u'BKN', u'TOPG': u'1.5', 'POSITION': u'PG', u'APG': u'2.8', u'AST/TO': u'1.85'}, {u'MPG': u'25.1', u'GP': u'12', u'AST': u'34', u'PLAYER': u'Louis Williams', u'TO': u'18', u'AP48M': u'5.4', u'TEAM': u'LAL', u'TOPG': u'1.5', 'POSITION': u'SG', u'APG': u'2.8', u'AST/TO': u'1.89'}, {u'MPG': u'34.7', u'GP': u'12', u'AST': u'34', u'PLAYER': u'Gordon Hayward', u'TO': u'27', u'AP48M': u'3.9', u'TEAM': u'UTAH', u'TOPG': u'2.3', 'POSITION': u'SF', u'APG': u'2.8', u'AST/TO': u'1.26'}, {u'MPG': u'14.3', u'GP': u'10', u'AST': u'27', u'PLAYER': u'Beno Udrih', u'TO': u'13', u'AP48M': u'9.1', u'TEAM': u'MIA/MEM', u'TOPG': u'1.3', 'POSITION': u'PG', u'APG': u'2.7', u'AST/TO': u'2.08'}, {u'MPG': u'31.6', u'GP': u'12', u'AST': u'32', u'PLAYER': u'Rudy Gay', u'TO': u'25', u'AP48M': u'4.1', u'TEAM': u'SAC', u'TOPG': u'2.1', 'POSITION': u'SF', u'APG': u'2.7', u'AST/TO': u'1.28'}, {u'MPG': u'25.5', u'GP': u'12', u'AST': u'32', u'PLAYER': u\"D'Angelo Russell\", u'TO': u'19', u'AP48M': u'5.0', u'TEAM': u'LAL', u'TOPG': u'1.6', 'POSITION': u'PG', u'APG': u'2.7', u'AST/TO': u'1.68'}, {u'MPG': u'33.1', u'GP': u'9', u'AST': u'24', u'PLAYER': u'DeMarcus Cousins', u'TO': u'29', u'AP48M': u'3.9', u'TEAM': u'SAC', u'TOPG': u'3.2', 'POSITION': u'PF', u'APG': u'2.7', u'AST/TO': u'0.83'}, {u'MPG': u'29.0', u'GP': u'12', u'AST': u'31', u'PLAYER': u'Kent Bazemore', u'TO': u'22', u'AP48M': u'4.3', u'TEAM': u'ATL', u'TOPG': u'1.8', 'POSITION': u'SF', u'APG': u'2.6', u'AST/TO': u'1.41'}, {u'MPG': u'27.6', u'GP': u'14', u'AST': u'36', u'PLAYER': u'Marco Belinelli', u'TO': u'22', u'AP48M': u'4.5', u'TEAM': u'SAC', u'TOPG': u'1.6', 'POSITION': u'SG', u'APG': u'2.6', u'AST/TO': u'1.64'}, {u'MPG': u'17.6', u'GP': u'13', u'AST': u'33', u'PLAYER': u'D.J. Augustin', u'TO': u'22', u'AP48M': u'6.9', u'TEAM': u'OKC', u'TOPG': u'1.7', 'POSITION': u'PG', u'APG': u'2.5', u'AST/TO': u'1.50'}, {u'MPG': u'33.9', u'GP': u'13', u'AST': u'33', u'PLAYER': u'Danilo Gallinari', u'TO': u'16', u'AP48M': u'3.6', u'TEAM': u'DEN', u'TOPG': u'1.2', 'POSITION': u'SF', u'APG': u'2.5', u'AST/TO': u'2.06'}, {u'MPG': u'21.4', u'GP': u'13', u'AST': u'33', u'PLAYER': u'Patty Mills', u'TO': u'15', u'AP48M': u'5.7', u'TEAM': u'SA', u'TOPG': u'1.2', 'POSITION': u'PG', u'APG': u'2.5', u'AST/TO': u'2.20'}, {u'MPG': u'28.1', u'GP': u'14', u'AST': u'35', u'PLAYER': u'Mason Plumlee', u'TO': u'28', u'AP48M': u'4.3', u'TEAM': u'POR', u'TOPG': u'2.0', 'POSITION': u'C', u'APG': u'2.5', u'AST/TO': u'1.25'}, {u'MPG': u'22.9', u'GP': u'12', u'AST': u'30', u'PLAYER': u'Trey Burke', u'TO': u'19', u'AP48M': u'5.2', u'TEAM': u'UTAH', u'TOPG': u'1.6', 'POSITION': u'PG', u'APG': u'2.5', u'AST/TO': u'1.58'}, {u'MPG': u'35.3', u'GP': u'12', u'AST': u'30', u'PLAYER': u'Giannis Antetokounmpo', u'TO': u'32', u'AP48M': u'3.4', u'TEAM': u'MIL', u'TOPG': u'2.7', 'POSITION': u'SF', u'APG': u'2.5', u'AST/TO': u'0.94'}, {u'MPG': u'28.7', u'GP': u'12', u'AST': u'30', u'PLAYER': u'Julius Randle', u'TO': u'26', u'AP48M': u'4.2', u'TEAM': u'LAL', u'TOPG': u'2.2', 'POSITION': u'PF', u'APG': u'2.5', u'AST/TO': u'1.15'}, {u'MPG': u'20.3', u'GP': u'8', u'AST': u'20', u'PLAYER': u'Andrew Bogut', u'TO': u'10', u'AP48M': u'5.9', u'TEAM': u'GS', u'TOPG': u'1.3', 'POSITION': u'C', u'APG': u'2.5', u'AST/TO': u'2.00'}, {u'MPG': u'22.0', u'GP': u'8', u'AST': u'20', u'PLAYER': u'Rodney Stuckey', u'TO': u'10', u'AP48M': u'5.5', u'TEAM': u'IND', u'TOPG': u'1.3', 'POSITION': u'PG', u'APG': u'2.5', u'AST/TO': u'2.00'}, {u'MPG': u'34.5', u'GP': u'13', u'AST': u'32', u'PLAYER': u'Kevin Love', u'TO': u'33', u'AP48M': u'3.4', u'TEAM': u'CLE', u'TOPG': u'2.5', 'POSITION': u'PF', u'APG': u'2.5', u'AST/TO': u'0.97'}, {u'MPG': u'32.0', u'GP': u'13', u'AST': u'32', u'PLAYER': u'Klay Thompson', u'TO': u'29', u'AP48M': u'3.7', u'TEAM': u'GS', u'TOPG': u'2.2', 'POSITION': u'SG', u'APG': u'2.5', u'AST/TO': u'1.10'}, {u'MPG': u'24.3', u'GP': u'12', u'AST': u'29', u'PLAYER': u'Jared Sullinger', u'TO': u'15', u'AP48M': u'4.8', u'TEAM': u'BOS', u'TOPG': u'1.3', 'POSITION': u'C', u'APG': u'2.4', u'AST/TO': u'1.93'}, {u'MPG': u'32.9', u'GP': u'10', u'AST': u'24', u'PLAYER': u'Otto Porter Jr.', u'TO': u'13', u'AP48M': u'3.5', u'TEAM': u'WSH', u'TOPG': u'1.3', 'POSITION': u'SF', u'APG': u'2.4', u'AST/TO': u'1.85'}, {u'MPG': u'28.6', u'GP': u'13', u'AST': u'31', u'PLAYER': u'Danny Green', u'TO': u'19', u'AP48M': u'4.0', u'TEAM': u'SA', u'TOPG': u'1.5', 'POSITION': u'SG', u'APG': u'2.4', u'AST/TO': u'1.63'}, {u'MPG': u'35.2', u'GP': u'13', u'AST': u'30', u'PLAYER': u'Khris Middleton', u'TO': u'17', u'AP48M': u'3.1', u'TEAM': u'MIL', u'TOPG': u'1.3', 'POSITION': u'SG', u'APG': u'2.3', u'AST/TO': u'1.76'}, {u'MPG': u'15.6', u'GP': u'10', u'AST': u'23', u'PLAYER': u'Aaron Brooks', u'TO': u'8', u'AP48M': u'7.1', u'TEAM': u'CHI', u'TOPG': u'0.8', 'POSITION': u'PG', u'APG': u'2.3', u'AST/TO': u'2.88'}, {u'MPG': u'27.5', u'GP': u'10', u'AST': u'23', u'PLAYER': u'Avery Bradley', u'TO': u'13', u'AP48M': u'4.0', u'TEAM': u'BOS', u'TOPG': u'1.3', 'POSITION': u'PG', u'APG': u'2.3', u'AST/TO': u'1.77'}, {u'MPG': u'33.9', u'GP': u'7', u'AST': u'16', u'PLAYER': u'Bradley Beal', u'TO': u'21', u'AP48M': u'3.2', u'TEAM': u'WSH', u'TOPG': u'3.0', 'POSITION': u'SG', u'APG': u'2.3', u'AST/TO': u'0.76'}, {u'MPG': u'18.0', u'GP': u'11', u'AST': u'25', u'PLAYER': u'Toney Douglas', u'TO': u'14', u'AP48M': u'6.1', u'TEAM': u'NO', u'TOPG': u'1.3', 'POSITION': u'PG', u'APG': u'2.3', u'AST/TO': u'1.79'}, {u'MPG': u'29.3', u'GP': u'12', u'AST': u'27', u'PLAYER': u'Pau Gasol', u'TO': u'17', u'AP48M': u'3.7', u'TEAM': u'CHI', u'TOPG': u'1.4', 'POSITION': u'C', u'APG': u'2.3', u'AST/TO': u'1.59'}, {u'MPG': u'17.0', u'GP': u'12', u'AST': u'27', u'PLAYER': u'Raul Neto', u'TO': u'14', u'AP48M': u'6.4', u'TEAM': u'UTAH', u'TOPG': u'1.2', 'POSITION': u'PG', u'APG': u'2.3', u'AST/TO': u'1.93'}, {u'MPG': u'24.8', u'GP': u'13', u'AST': u'29', u'PLAYER': u'Raymond Felton', u'TO': u'19', u'AP48M': u'4.3', u'TEAM': u'DAL', u'TOPG': u'1.5', 'POSITION': u'PG', u'APG': u'2.2', u'AST/TO': u'1.53'}, {u'MPG': u'27.8', u'GP': u'13', u'AST': u'29', u'PLAYER': u'Nik Stauskas', u'TO': u'18', u'AP48M': u'3.8', u'TEAM': u'PHI', u'TOPG': u'1.4', 'POSITION': u'SG', u'APG': u'2.2', u'AST/TO': u'1.61'}, {u'MPG': u'29.0', u'GP': u'10', u'AST': u'22', u'PLAYER': u'Nikola Vucevic', u'TO': u'15', u'AP48M': u'3.6', u'TEAM': u'ORL', u'TOPG': u'1.5', 'POSITION': u'C', u'APG': u'2.2', u'AST/TO': u'1.47'}, {u'MPG': u'25.6', u'GP': u'12', u'AST': u'26', u'PLAYER': u'Jamal Crawford', u'TO': u'17', u'AP48M': u'4.1', u'TEAM': u'LAC', u'TOPG': u'1.4', 'POSITION': u'SG', u'APG': u'2.2', u'AST/TO': u'1.53'}, {u'MPG': u'26.5', u'GP': u'12', u'AST': u'26', u'PLAYER': u'Nemanja Bjelica', u'TO': u'11', u'AP48M': u'3.9', u'TEAM': u'MIN', u'TOPG': u'0.9', 'POSITION': u'PF', u'APG': u'2.2', u'AST/TO': u'2.36'}, {u'MPG': u'31.4', u'GP': u'13', u'AST': u'28', u'PLAYER': u'Kyle Korver', u'TO': u'17', u'AP48M': u'3.3', u'TEAM': u'ATL', u'TOPG': u'1.3', 'POSITION': u'SG', u'APG': u'2.2', u'AST/TO': u'1.65'}, {u'MPG': u'22.4', u'GP': u'13', u'AST': u'28', u'PLAYER': u'Devin Harris', u'TO': u'12', u'AP48M': u'4.6', u'TEAM': u'DAL', u'TOPG': u'0.9', 'POSITION': u'PG', u'APG': u'2.2', u'AST/TO': u'2.33'}, {u'MPG': u'17.6', u'GP': u'13', u'AST': u'28', u'PLAYER': u'Spencer Hawes', u'TO': u'13', u'AP48M': u'5.9', u'TEAM': u'CHA', u'TOPG': u'1.0', 'POSITION': u'PF', u'APG': u'2.2', u'AST/TO': u'2.15'}, {u'MPG': u'26.3', u'GP': u'14', u'AST': u'30', u'PLAYER': u'Langston Galloway', u'TO': u'9', u'AP48M': u'3.9', u'TEAM': u'NY', u'TOPG': u'0.6', 'POSITION': u'PG', u'APG': u'2.1', u'AST/TO': u'3.33'}, {u'MPG': u'30.4', u'GP': u'10', u'AST': u'21', u'PLAYER': u'J.R. Smith', u'TO': u'13', u'AP48M': u'3.3', u'TEAM': u'CLE', u'TOPG': u'1.3', 'POSITION': u'SG', u'APG': u'2.1', u'AST/TO': u'1.62'}, {u'MPG': u'33.4', u'GP': u'10', u'AST': u'21', u'PLAYER': u'Anthony Davis', u'TO': u'23', u'AP48M': u'3.0', u'TEAM': u'NO', u'TOPG': u'2.3', 'POSITION': u'PF', u'APG': u'2.1', u'AST/TO': u'0.91'}, {u'MPG': u'19.5', u'GP': u'12', u'AST': u'25', u'PLAYER': u'Shaun Livingston', u'TO': u'10', u'AP48M': u'5.1', u'TEAM': u'GS', u'TOPG': u'0.8', 'POSITION': u'PG', u'APG': u'2.1', u'AST/TO': u'2.50'}, {u'MPG': u'28.2', u'GP': u'12', u'AST': u'25', u'PLAYER': u'Alec Burks', u'TO': u'22', u'AP48M': u'3.6', u'TEAM': u'UTAH', u'TOPG': u'1.8', 'POSITION': u'SG', u'APG': u'2.1', u'AST/TO': u'1.14'}, {u'MPG': u'30.8', u'GP': u'12', u'AST': u'25', u'PLAYER': u'Jordan Clarkson', u'TO': u'22', u'AP48M': u'3.3', u'TEAM': u'LAL', u'TOPG': u'1.8', 'POSITION': u'PG', u'APG': u'2.1', u'AST/TO': u'1.14'}, {u'MPG': u'15.4', u'GP': u'13', u'AST': u'27', u'PLAYER': u'David West', u'TO': u'19', u'AP48M': u'6.5', u'TEAM': u'SA', u'TOPG': u'1.5', 'POSITION': u'PF', u'APG': u'2.1', u'AST/TO': u'1.42'}, {u'MPG': u'37.5', u'GP': u'13', u'AST': u'27', u'PLAYER': u'Marcus Morris', u'TO': u'21', u'AP48M': u'2.7', u'TEAM': u'DET', u'TOPG': u'1.6', 'POSITION': u'PF', u'APG': u'2.1', u'AST/TO': u'1.29'}, {u'MPG': u'31.1', u'GP': u'14', u'AST': u'28', u'PLAYER': u'Harrison Barnes', u'TO': u'14', u'AP48M': u'3.1', u'TEAM': u'GS', u'TOPG': u'1.0', 'POSITION': u'SF', u'APG': u'2.0', u'AST/TO': u'2.00'}, {u'MPG': u'28.2', u'GP': u'13', u'AST': u'26', u'PLAYER': u'Zaza Pachulia', u'TO': u'21', u'AP48M': u'3.4', u'TEAM': u'DAL', u'TOPG': u'1.6', 'POSITION': u'C', u'APG': u'2.0', u'AST/TO': u'1.24'}, {u'MPG': u'33.2', u'GP': u'13', u'AST': u'26', u'PLAYER': u'Tobias Harris', u'TO': u'26', u'AP48M': u'2.9', u'TEAM': u'ORL', u'TOPG': u'2.0', 'POSITION': u'SF', u'APG': u'2.0', u'AST/TO': u'1.00'}, {u'MPG': u'18.6', u'GP': u'9', u'AST': u'18', u'PLAYER': u'Nene Hilario', u'TO': u'10', u'AP48M': u'5.2', u'TEAM': u'WSH', u'TOPG': u'1.1', 'POSITION': u'PF', u'APG': u'2.0', u'AST/TO': u'1.80'}, {u'MPG': u'30.7', u'GP': u'6', u'AST': u'12', u'PLAYER': u'Arron Afflalo', u'TO': u'5', u'AP48M': u'3.1', u'TEAM': u'NY', u'TOPG': u'0.8', 'POSITION': u'SG', u'APG': u'2.0', u'AST/TO': u'2.40'}, {u'MPG': u'17.0', u'GP': u'5', u'AST': u'10', u'PLAYER': u'Kirk Hinrich', u'TO': u'4', u'AP48M': u'5.6', u'TEAM': u'CHI', u'TOPG': u'0.8', 'POSITION': u'SG', u'APG': u'2.0', u'AST/TO': u'2.50'}, {u'MPG': u'19.0', u'GP': u'3', u'AST': u'6', u'PLAYER': u'Joffrey Lauvergne', u'TO': u'2', u'AP48M': u'5.1', u'TEAM': u'DEN', u'TOPG': u'0.7', 'POSITION': u'C', u'APG': u'2.0', u'AST/TO': u'3.00'}, {u'MPG': u'11.5', u'GP': u'2', u'AST': u'4', u'PLAYER': u'Nate Robinson', u'TO': u'0', u'AP48M': u'8.3', u'TEAM': u'NO', u'TOPG': u'0.0', 'POSITION': u'PG', u'APG': u'2.0', u'AST/TO': u'0.00'}, {u'MPG': u'35.3', u'GP': u'14', u'AST': u'27', u'PLAYER': u'Trevor Ariza', u'TO': u'24', u'AP48M': u'2.6', u'TEAM': u'HOU', u'TOPG': u'1.7', 'POSITION': u'SF', u'APG': u'1.9', u'AST/TO': u'1.13'}, {u'MPG': u'25.7', u'GP': u'14', u'AST': u'27', u'PLAYER': u'Robin Lopez', u'TO': u'30', u'AP48M': u'3.6', u'TEAM': u'NY', u'TOPG': u'2.1', 'POSITION': u'C', u'APG': u'1.9', u'AST/TO': u'0.90'}, {u'MPG': u'27.4', u'GP': u'13', u'AST': u'25', u'PLAYER': u'Al Jefferson', u'TO': u'9', u'AP48M': u'3.4', u'TEAM': u'CHA', u'TOPG': u'0.7', 'POSITION': u'C', u'APG': u'1.9', u'AST/TO': u'2.78'}, {u'MPG': u'26.6', u'GP': u'13', u'AST': u'25', u'PLAYER': u'Will Barton', u'TO': u'9', u'AP48M': u'3.5', u'TEAM': u'DEN', u'TOPG': u'0.7', 'POSITION': u'SF', u'APG': u'1.9', u'AST/TO': u'2.78'}, {u'MPG': u'34.5', u'GP': u'12', u'AST': u'23', u'PLAYER': u'Andrew Wiggins', u'TO': u'26', u'AP48M': u'2.7', u'TEAM': u'MIN', u'TOPG': u'2.2', 'POSITION': u'SG', u'APG': u'1.9', u'AST/TO': u'0.88'}, {u'MPG': u'34.7', u'GP': u'10', u'AST': u'19', u'PLAYER': u'Rudy Gobert', u'TO': u'23', u'AP48M': u'2.6', u'TEAM': u'UTAH', u'TOPG': u'2.3', 'POSITION': u'C', u'APG': u'1.9', u'AST/TO': u'0.83'}, {u'MPG': u'31.9', u'GP': u'9', u'AST': u'17', u'PLAYER': u'Dwight Howard', u'TO': u'28', u'AP48M': u'2.8', u'TEAM': u'HOU', u'TOPG': u'3.1', 'POSITION': u'C', u'APG': u'1.9', u'AST/TO': u'0.61'}, {u'MPG': u'33.1', u'GP': u'14', u'AST': u'26', u'PLAYER': u'Al-Farouq Aminu', u'TO': u'27', u'AP48M': u'2.7', u'TEAM': u'POR', u'TOPG': u'1.9', 'POSITION': u'SF', u'APG': u'1.9', u'AST/TO': u'0.96'}, {u'MPG': u'25.5', u'GP': u'13', u'AST': u'24', u'PLAYER': u'Gary Harris', u'TO': u'18', u'AP48M': u'3.5', u'TEAM': u'DEN', u'TOPG': u'1.4', 'POSITION': u'SG', u'APG': u'1.8', u'AST/TO': u'1.33'}, {u'MPG': u'31.1', u'GP': u'12', u'AST': u'22', u'PLAYER': u'LaMarcus Aldridge', u'TO': u'19', u'AP48M': u'2.8', u'TEAM': u'SA', u'TOPG': u'1.6', 'POSITION': u'PF', u'APG': u'1.8', u'AST/TO': u'1.16'}, {u'MPG': u'26.8', u'GP': u'12', u'AST': u'22', u'PLAYER': u'Roy Hibbert', u'TO': u'21', u'AP48M': u'3.3', u'TEAM': u'LAL', u'TOPG': u'1.8', 'POSITION': u'C', u'APG': u'1.8', u'AST/TO': u'1.05'}, {u'MPG': u'34.3', u'GP': u'12', u'AST': u'22', u'PLAYER': u'Kawhi Leonard', u'TO': u'13', u'AP48M': u'2.6', u'TEAM': u'SA', u'TOPG': u'1.1', 'POSITION': u'SF', u'APG': u'1.8', u'AST/TO': u'1.69'}, {u'MPG': u'10.5', u'GP': u'6', u'AST': u'11', u'PLAYER': u'Shelvin Mack', u'TO': u'5', u'AP48M': u'8.4', u'TEAM': u'ATL', u'TOPG': u'0.8', 'POSITION': u'PG', u'APG': u'1.8', u'AST/TO': u'2.20'}, {u'MPG': u'14.2', u'GP': u'11', u'AST': u'20', u'PLAYER': u'Leandro Barbosa', u'TO': u'10', u'AP48M': u'6.2', u'TEAM': u'GS', u'TOPG': u'0.9', 'POSITION': u'SG', u'APG': u'1.8', u'AST/TO': u'2.00'}, {u'MPG': u'19.9', u'GP': u'11', u'AST': u'20', u'PLAYER': u'Lance Stephenson', u'TO': u'16', u'AP48M': u'4.4', u'TEAM': u'LAC', u'TOPG': u'1.5', 'POSITION': u'SF', u'APG': u'1.8', u'AST/TO': u'1.25'}, {u'MPG': u'20.8', u'GP': u'11', u'AST': u'20', u'PLAYER': u'Tyler Johnson', u'TO': u'12', u'AP48M': u'4.2', u'TEAM': u'MIA', u'TOPG': u'1.1', 'POSITION': u'SG', u'APG': u'1.8', u'AST/TO': u'1.67'}, {u'MPG': u'16.2', u'GP': u'5', u'AST': u'9', u'PLAYER': u'Spencer Dinwiddie', u'TO': u'4', u'AP48M': u'5.3', u'TEAM': u'DET', u'TOPG': u'0.8', 'POSITION': u'PG', u'APG': u'1.8', u'AST/TO': u'2.25'}, {u'MPG': u'30.4', u'GP': u'12', u'AST': u'21', u'PLAYER': u'Zach Randolph', u'TO': u'27', u'AP48M': u'2.8', u'TEAM': u'MEM', u'TOPG': u'2.3', 'POSITION': u'PF', u'APG': u'1.8', u'AST/TO': u'0.78'}, {u'MPG': u'14.5', u'GP': u'12', u'AST': u'21', u'PLAYER': u'Josh McRoberts', u'TO': u'11', u'AP48M': u'5.8', u'TEAM': u'MIA', u'TOPG': u'0.9', 'POSITION': u'PF', u'APG': u'1.8', u'AST/TO': u'1.91'}, {u'MPG': u'26.3', u'GP': u'12', u'AST': u'21', u'PLAYER': u'Marcus Thornton', u'TO': u'7', u'AP48M': u'3.2', u'TEAM': u'HOU', u'TOPG': u'0.6', 'POSITION': u'SF', u'APG': u'1.8', u'AST/TO': u'3.00'}, {u'MPG': u'30.5', u'GP': u'12', u'AST': u'21', u'PLAYER': u'Jae Crowder', u'TO': u'23', u'AP48M': u'2.8', u'TEAM': u'BOS', u'TOPG': u'1.9', 'POSITION': u'SF', u'APG': u'1.8', u'AST/TO': u'0.91'}, {u'MPG': u'32.8', u'GP': u'12', u'AST': u'20', u'PLAYER': u'Chris Bosh', u'TO': u'12', u'AP48M': u'2.4', u'TEAM': u'MIA', u'TOPG': u'1.0', 'POSITION': u'PF', u'APG': u'1.7', u'AST/TO': u'1.67'}, {u'MPG': u'21.5', u'GP': u'12', u'AST': u'20', u'PLAYER': u'Lavoy Allen', u'TO': u'10', u'AP48M': u'3.7', u'TEAM': u'IND', u'TOPG': u'0.8', 'POSITION': u'PF', u'APG': u'1.7', u'AST/TO': u'2.00'}, {u'MPG': u'27.7', u'GP': u'9', u'AST': u'15', u'PLAYER': u'J.J. Redick', u'TO': u'12', u'AP48M': u'2.9', u'TEAM': u'LAC', u'TOPG': u'1.3', 'POSITION': u'SG', u'APG': u'1.7', u'AST/TO': u'1.25'}, {u'MPG': u'26.3', u'GP': u'9', u'AST': u'15', u'PLAYER': u'Meyers Leonard', u'TO': u'8', u'AP48M': u'3.0', u'TEAM': u'POR', u'TOPG': u'0.9', 'POSITION': u'PF', u'APG': u'1.7', u'AST/TO': u'1.88'}, {u'MPG': u'24.6', u'GP': u'14', u'AST': u'23', u'PLAYER': u'Isaiah Canaan', u'TO': u'18', u'AP48M': u'3.2', u'TEAM': u'PHI', u'TOPG': u'1.3', 'POSITION': u'PG', u'APG': u'1.6', u'AST/TO': u'1.28'}, {u'MPG': u'22.7', u'GP': u'11', u'AST': u'18', u'PLAYER': u'Paul Pierce', u'TO': u'7', u'AP48M': u'3.5', u'TEAM': u'LAC', u'TOPG': u'0.6', 'POSITION': u'SF', u'APG': u'1.6', u'AST/TO': u'2.57'}, {u'MPG': u'18.0', u'GP': u'11', u'AST': u'18', u'PLAYER': u'Sasha Vujacic', u'TO': u'11', u'AP48M': u'4.4', u'TEAM': u'NY', u'TOPG': u'1.0', 'POSITION': u'SG', u'APG': u'1.6', u'AST/TO': u'1.64'}, {u'MPG': u'27.8', u'GP': u'13', u'AST': u'21', u'PLAYER': u'Dion Waiters', u'TO': u'23', u'AP48M': u'2.8', u'TEAM': u'OKC', u'TOPG': u'1.8', 'POSITION': u'SG', u'APG': u'1.6', u'AST/TO': u'0.91'}, {u'MPG': u'25.0', u'GP': u'12', u'AST': u'19', u'PLAYER': u'Kevin Martin', u'TO': u'15', u'AP48M': u'3.0', u'TEAM': u'MIN', u'TOPG': u'1.3', 'POSITION': u'SG', u'APG': u'1.6', u'AST/TO': u'1.27'}, {u'MPG': u'23.4', u'GP': u'12', u'AST': u'19', u'PLAYER': u'Amir Johnson', u'TO': u'17', u'AP48M': u'3.2', u'TEAM': u'BOS', u'TOPG': u'1.4', 'POSITION': u'PF', u'APG': u'1.6', u'AST/TO': u'1.12'}, {u'MPG': u'15.8', u'GP': u'12', u'AST': u'19', u'PLAYER': u'David Lee', u'TO': u'16', u'AP48M': u'4.8', u'TEAM': u'BOS', u'TOPG': u'1.3', 'POSITION': u'PF', u'APG': u'1.6', u'AST/TO': u'1.19'}, {u'MPG': u'27.5', u'GP': u'14', u'AST': u'22', u'PLAYER': u'Hollis Thompson', u'TO': u'26', u'AP48M': u'2.7', u'TEAM': u'PHI', u'TOPG': u'1.9', 'POSITION': u'SG', u'APG': u'1.6', u'AST/TO': u'0.85'}, {u'MPG': u'15.1', u'GP': u'9', u'AST': u'14', u'PLAYER': u'Lamar Patterson', u'TO': u'5', u'AP48M': u'4.9', u'TEAM': u'ATL', u'TOPG': u'0.6', 'POSITION': u'SG', u'APG': u'1.6', u'AST/TO': u'2.80'}, {u'MPG': u'28.0', u'GP': u'11', u'AST': u'17', u'PLAYER': u'Wesley Matthews', u'TO': u'12', u'AP48M': u'2.6', u'TEAM': u'DAL', u'TOPG': u'1.1', 'POSITION': u'SG', u'APG': u'1.5', u'AST/TO': u'1.42'}, {u'MPG': u'17.5', u'GP': u'11', u'AST': u'17', u'PLAYER': u'Kelly Olynyk', u'TO': u'18', u'AP48M': u'4.2', u'TEAM': u'BOS', u'TOPG': u'1.6', 'POSITION': u'C', u'APG': u'1.5', u'AST/TO': u'0.94'}, {u'MPG': u'32.2', u'GP': u'13', u'AST': u'20', u'PLAYER': u'Marvin Williams', u'TO': u'12', u'AP48M': u'2.3', u'TEAM': u'CHA', u'TOPG': u'0.9', 'POSITION': u'PF', u'APG': u'1.5', u'AST/TO': u'1.67'}, {u'MPG': u'34.0', u'GP': u'13', u'AST': u'20', u'PLAYER': u'Brook Lopez', u'TO': u'26', u'AP48M': u'2.2', u'TEAM': u'BKN', u'TOPG': u'2.0', 'POSITION': u'C', u'APG': u'1.5', u'AST/TO': u'0.77'}, {u'MPG': u'25.5', u'GP': u'14', u'AST': u'21', u'PLAYER': u'Jeff Green', u'TO': u'18', u'AP48M': u'2.8', u'TEAM': u'MEM', u'TOPG': u'1.3', 'POSITION': u'SF', u'APG': u'1.5', u'AST/TO': u'1.17'}, {u'MPG': u'28.9', u'GP': u'12', u'AST': u'18', u'PLAYER': u'Dirk Nowitzki', u'TO': u'13', u'AP48M': u'2.5', u'TEAM': u'DAL', u'TOPG': u'1.1', 'POSITION': u'PF', u'APG': u'1.5', u'AST/TO': u'1.38'}, {u'MPG': u'28.3', u'GP': u'12', u'AST': u'18', u'PLAYER': u'Luol Deng', u'TO': u'9', u'AP48M': u'2.5', u'TEAM': u'MIA', u'TOPG': u'0.8', 'POSITION': u'SF', u'APG': u'1.5', u'AST/TO': u'2.00'}, {u'MPG': u'30.8', u'GP': u'12', u'AST': u'18', u'PLAYER': u'Derrick Favors', u'TO': u'20', u'AP48M': u'2.3', u'TEAM': u'UTAH', u'TOPG': u'1.7', 'POSITION': u'PF', u'APG': u'1.5', u'AST/TO': u'0.90'}, {u'MPG': u'12.3', u'GP': u'12', u'AST': u'18', u'PLAYER': u'Shabazz Napier', u'TO': u'14', u'AP48M': u'5.9', u'TEAM': u'ORL', u'TOPG': u'1.2', 'POSITION': u'PG', u'APG': u'1.5', u'AST/TO': u'1.29'}, {u'MPG': u'27.5', u'GP': u'10', u'AST': u'15', u'PLAYER': u'Marcin Gortat', u'TO': u'21', u'AP48M': u'2.6', u'TEAM': u'WSH', u'TOPG': u'2.1', 'POSITION': u'C', u'APG': u'1.5', u'AST/TO': u'0.71'}, {u'MPG': u'14.7', u'GP': u'6', u'AST': u'9', u'PLAYER': u'Tyler Ennis', u'TO': u'7', u'AP48M': u'4.9', u'TEAM': u'MIL', u'TOPG': u'1.2', 'POSITION': u'PG', u'APG': u'1.5', u'AST/TO': u'1.29'}, {u'MPG': u'7.5', u'GP': u'2', u'AST': u'3', u'PLAYER': u'Jordan Adams', u'TO': u'2', u'AP48M': u'9.6', u'TEAM': u'MEM', u'TOPG': u'1.0', 'POSITION': u'SG', u'APG': u'1.5', u'AST/TO': u'1.50'}, {u'MPG': u'18.0', u'GP': u'13', u'AST': u'19', u'PLAYER': u'Randy Foye', u'TO': u'13', u'AP48M': u'3.9', u'TEAM': u'DEN', u'TOPG': u'1.0', 'POSITION': u'SG', u'APG': u'1.5', u'AST/TO': u'1.46'}, {u'MPG': u'30.9', u'GP': u'13', u'AST': u'19', u'PLAYER': u'Thaddeus Young', u'TO': u'21', u'AP48M': u'2.3', u'TEAM': u'BKN', u'TOPG': u'1.6', 'POSITION': u'SF', u'APG': u'1.5', u'AST/TO': u'0.90'}, {u'MPG': u'18.2', u'GP': u'13', u'AST': u'19', u'PLAYER': u'Chase Budinger', u'TO': u'9', u'AP48M': u'3.8', u'TEAM': u'IND', u'TOPG': u'0.7', 'POSITION': u'SF', u'APG': u'1.5', u'AST/TO': u'2.11'}, {u'MPG': u'37.6', u'GP': u'13', u'AST': u'19', u'PLAYER': u'Kentavious Caldwell-Pope', u'TO': u'15', u'AP48M': u'1.9', u'TEAM': u'DET', u'TOPG': u'1.2', 'POSITION': u'SG', u'APG': u'1.5', u'AST/TO': u'1.27'}, {u'MPG': u'20.6', u'GP': u'13', u'AST': u'19', u'PLAYER': u'Rondae Hollis-Jefferson', u'TO': u'18', u'AP48M': u'3.4', u'TEAM': u'BKN', u'TOPG': u'1.4', 'POSITION': u'SG', u'APG': u'1.5', u'AST/TO': u'1.06'}, {u'MPG': u'24.0', u'GP': u'12', u'AST': u'17', u'PLAYER': u'Jordan Hill', u'TO': u'18', u'AP48M': u'2.8', u'TEAM': u'IND', u'TOPG': u'1.5', 'POSITION': u'C', u'APG': u'1.4', u'AST/TO': u'0.94'}, {u'MPG': u'23.9', u'GP': u'12', u'AST': u'17', u'PLAYER': u'Jeremy Lamb', u'TO': u'9', u'AP48M': u'2.8', u'TEAM': u'CHA', u'TOPG': u'0.8', 'POSITION': u'SG', u'APG': u'1.4', u'AST/TO': u'1.89'}, {u'MPG': u'12.6', u'GP': u'10', u'AST': u'14', u'PLAYER': u'Ronnie Price', u'TO': u'7', u'AP48M': u'5.3', u'TEAM': u'PHX', u'TOPG': u'0.7', 'POSITION': u'PG', u'APG': u'1.4', u'AST/TO': u'2.00'}, {u'MPG': u'15.6', u'GP': u'11', u'AST': u'15', u'PLAYER': u'Kevin Garnett', u'TO': u'4', u'AP48M': u'4.2', u'TEAM': u'MIN', u'TOPG': u'0.4', 'POSITION': u'PF', u'APG': u'1.4', u'AST/TO': u'3.75'}, {u'MPG': u'35.6', u'GP': u'11', u'AST': u'15', u'PLAYER': u'DeMarre Carroll', u'TO': u'17', u'AP48M': u'1.8', u'TEAM': u'TOR', u'TOPG': u'1.5', 'POSITION': u'SF', u'APG': u'1.4', u'AST/TO': u'0.88'}, {u'MPG': u'22.0', u'GP': u'14', u'AST': u'19', u'PLAYER': u'Corey Brewer', u'TO': u'11', u'AP48M': u'3.0', u'TEAM': u'HOU', u'TOPG': u'0.8', 'POSITION': u'SG', u'APG': u'1.4', u'AST/TO': u'1.73'}, {u'MPG': u'14.8', u'GP': u'12', u'AST': u'16', u'PLAYER': u'Josh Smith', u'TO': u'17', u'AP48M': u'4.3', u'TEAM': u'LAC', u'TOPG': u'1.4', 'POSITION': u'SF', u'APG': u'1.3', u'AST/TO': u'0.94'}, {u'MPG': u'21.9', u'GP': u'12', u'AST': u'16', u'PLAYER': u'Taj Gibson', u'TO': u'14', u'AP48M': u'2.9', u'TEAM': u'CHI', u'TOPG': u'1.2', 'POSITION': u'PF', u'APG': u'1.3', u'AST/TO': u'1.14'}, {u'MPG': u'25.3', u'GP': u'12', u'AST': u'16', u'PLAYER': u'Nikola Mirotic', u'TO': u'25', u'AP48M': u'2.5', u'TEAM': u'CHI', u'TOPG': u'2.1', 'POSITION': u'PF', u'APG': u'1.3', u'AST/TO': u'0.64'}, {u'MPG': u'31.4', u'GP': u'12', u'AST': u'16', u'PLAYER': u'Nerlens Noel', u'TO': u'37', u'AP48M': u'2.0', u'TEAM': u'PHI', u'TOPG': u'3.1', 'POSITION': u'PF', u'APG': u'1.3', u'AST/TO': u'0.43'}, {u'MPG': u'28.1', u'GP': u'12', u'AST': u'16', u'PLAYER': u'Justise Winslow', u'TO': u'22', u'AP48M': u'2.3', u'TEAM': u'MIA', u'TOPG': u'1.8', 'POSITION': u'SF', u'APG': u'1.3', u'AST/TO': u'0.73'}, {u'MPG': u'15.7', u'GP': u'3', u'AST': u'4', u'PLAYER': u'Chris Kaman', u'TO': u'3', u'AP48M': u'4.1', u'TEAM': u'POR', u'TOPG': u'1.0', 'POSITION': u'C', u'APG': u'1.3', u'AST/TO': u'1.33'}, {u'MPG': u'22.2', u'GP': u'13', u'AST': u'17', u'PLAYER': u'Dwight Powell', u'TO': u'11', u'AP48M': u'2.8', u'TEAM': u'DAL', u'TOPG': u'0.8', 'POSITION': u'PF', u'APG': u'1.3', u'AST/TO': u'1.55'}, {u'MPG': u'19.8', u'GP': u'13', u'AST': u'17', u'PLAYER': u'Aaron Gordon', u'TO': u'13', u'AP48M': u'3.2', u'TEAM': u'ORL', u'TOPG': u'1.0', 'POSITION': u'PF', u'APG': u'1.3', u'AST/TO': u'1.31'}, {u'MPG': u'27.1', u'GP': u'10', u'AST': u'13', u'PLAYER': u'C.J. Miles', u'TO': u'18', u'AP48M': u'2.3', u'TEAM': u'IND', u'TOPG': u'1.8', 'POSITION': u'SF', u'APG': u'1.3', u'AST/TO': u'0.72'}, {u'MPG': u'24.9', u'GP': u'10', u'AST': u'13', u'PLAYER': u'Markieff Morris', u'TO': u'20', u'AP48M': u'2.5', u'TEAM': u'PHX', u'TOPG': u'2.0', 'POSITION': u'PF', u'APG': u'1.3', u'AST/TO': u'0.65'}, {u'MPG': u'20.3', u'GP': u'14', u'AST': u'18', u'PLAYER': u'Festus Ezeli', u'TO': u'14', u'AP48M': u'3.0', u'TEAM': u'GS', u'TOPG': u'1.0', 'POSITION': u'C', u'APG': u'1.3', u'AST/TO': u'1.29'}, {u'MPG': u'33.4', u'GP': u'14', u'AST': u'18', u'PLAYER': u'Jahlil Okafor', u'TO': u'42', u'AP48M': u'1.9', u'TEAM': u'PHI', u'TOPG': u'3.0', 'POSITION': u'C', u'APG': u'1.3', u'AST/TO': u'0.43'}, {u'MPG': u'16.8', u'GP': u'12', u'AST': u'15', u'PLAYER': u'Jason Terry', u'TO': u'12', u'AP48M': u'3.6', u'TEAM': u'HOU', u'TOPG': u'1.0', 'POSITION': u'SG', u'APG': u'1.3', u'AST/TO': u'1.25'}, {u'MPG': u'22.2', u'GP': u'12', u'AST': u'15', u'PLAYER': u'Thabo Sefolosha', u'TO': u'12', u'AP48M': u'2.7', u'TEAM': u'ATL', u'TOPG': u'1.0', 'POSITION': u'SG', u'APG': u'1.3', u'AST/TO': u'1.25'}, {u'MPG': u'25.3', u'GP': u'12', u'AST': u'15', u'PLAYER': u'P.J. Tucker', u'TO': u'9', u'AP48M': u'2.4', u'TEAM': u'PHX', u'TOPG': u'0.8', 'POSITION': u'SF', u'APG': u'1.3', u'AST/TO': u'1.67'}, {u'MPG': u'25.6', u'GP': u'13', u'AST': u'16', u'PLAYER': u'Ersan Ilyasova', u'TO': u'15', u'AP48M': u'2.3', u'TEAM': u'DET', u'TOPG': u'1.2', 'POSITION': u'PF', u'APG': u'1.2', u'AST/TO': u'1.07'}, {u'MPG': u'33.3', u'GP': u'13', u'AST': u'16', u'PLAYER': u'Serge Ibaka', u'TO': u'16', u'AP48M': u'1.8', u'TEAM': u'OKC', u'TOPG': u'1.2', 'POSITION': u'PF', u'APG': u'1.2', u'AST/TO': u'1.00'}, {u'MPG': u'27.7', u'GP': u'9', u'AST': u'11', u'PLAYER': u'Terrence Jones', u'TO': u'10', u'AP48M': u'2.1', u'TEAM': u'HOU', u'TOPG': u'1.1', 'POSITION': u'PF', u'APG': u'1.2', u'AST/TO': u'1.10'}, {u'MPG': u'28.9', u'GP': u'14', u'AST': u'17', u'PLAYER': u'Courtney Lee', u'TO': u'13', u'AP48M': u'2.0', u'TEAM': u'MEM', u'TOPG': u'0.9', 'POSITION': u'SG', u'APG': u'1.2', u'AST/TO': u'1.31'}, {u'MPG': u'19.4', u'GP': u'14', u'AST': u'17', u'PLAYER': u'Ben McLemore', u'TO': u'22', u'AP48M': u'3.0', u'TEAM': u'SAC', u'TOPG': u'1.6', 'POSITION': u'SG', u'APG': u'1.2', u'AST/TO': u'0.77'}, {u'MPG': u'13.7', u'GP': u'10', u'AST': u'12', u'PLAYER': u'Nick Collison', u'TO': u'12', u'AP48M': u'4.2', u'TEAM': u'OKC', u'TOPG': u'1.2', 'POSITION': u'PF', u'APG': u'1.2', u'AST/TO': u'1.00'}, {u'MPG': u'11.6', u'GP': u'5', u'AST': u'6', u'PLAYER': u'Pablo Prigioni', u'TO': u'4', u'AP48M': u'5.0', u'TEAM': u'LAC', u'TOPG': u'0.8', 'POSITION': u'PG', u'APG': u'1.2', u'AST/TO': u'1.50'}, {u'MPG': u'24.2', u'GP': u'5', u'AST': u'6', u'PLAYER': u'Robert Covington', u'TO': u'15', u'AP48M': u'2.4', u'TEAM': u'PHI', u'TOPG': u'3.0', 'POSITION': u'SF', u'APG': u'1.2', u'AST/TO': u'0.40'}, {u'MPG': u'24.3', u'GP': u'12', u'AST': u'14', u'PLAYER': u'Ian Mahinmi', u'TO': u'10', u'AP48M': u'2.3', u'TEAM': u'IND', u'TOPG': u'0.8', 'POSITION': u'C', u'APG': u'1.2', u'AST/TO': u'1.40'}, {u'MPG': u'13.3', u'GP': u'12', u'AST': u'14', u'PLAYER': u'Mirza Teletovic', u'TO': u'5', u'AP48M': u'4.2', u'TEAM': u'PHX', u'TOPG': u'0.4', 'POSITION': u'PF', u'APG': u'1.2', u'AST/TO': u'2.80'}, {u'MPG': u'16.7', u'GP': u'12', u'AST': u'14', u'PLAYER': u'Jon Leuer', u'TO': u'7', u'AP48M': u'3.4', u'TEAM': u'PHX', u'TOPG': u'0.6', 'POSITION': u'PF', u'APG': u'1.2', u'AST/TO': u'2.00'}, {u'MPG': u'13.8', u'GP': u'12', u'AST': u'14', u'PLAYER': u\"Kyle O'Quinn\", u'TO': u'12', u'AP48M': u'4.0', u'TEAM': u'NY', u'TOPG': u'1.0', 'POSITION': u'PF', u'APG': u'1.2', u'AST/TO': u'1.17'}, {u'MPG': u'23.7', u'GP': u'12', u'AST': u'14', u'PLAYER': u'Tony Snell', u'TO': u'13', u'AP48M': u'2.4', u'TEAM': u'CHI', u'TOPG': u'1.1', 'POSITION': u'SF', u'APG': u'1.2', u'AST/TO': u'1.08'}, {u'MPG': u'32.5', u'GP': u'13', u'AST': u'15', u'PLAYER': u'Ryan Anderson', u'TO': u'23', u'AP48M': u'1.7', u'TEAM': u'NO', u'TOPG': u'1.8', 'POSITION': u'PF', u'APG': u'1.2', u'AST/TO': u'0.65'}, {u'MPG': u'20.3', u'GP': u'13', u'AST': u'15', u'PLAYER': u'Stanley Johnson', u'TO': u'16', u'AP48M': u'2.7', u'TEAM': u'DET', u'TOPG': u'1.2', 'POSITION': u'SF', u'APG': u'1.2', u'AST/TO': u'0.94'}, {u'MPG': u'25.6', u'GP': u'14', u'AST': u'16', u'PLAYER': u'Omri Casspi', u'TO': u'26', u'AP48M': u'2.1', u'TEAM': u'SAC', u'TOPG': u'1.9', 'POSITION': u'SF', u'APG': u'1.1', u'AST/TO': u'0.62'}, {u'MPG': u'22.6', u'GP': u'14', u'AST': u'16', u'PLAYER': u'Allen Crabbe', u'TO': u'11', u'AP48M': u'2.4', u'TEAM': u'POR', u'TOPG': u'0.8', 'POSITION': u'SF', u'APG': u'1.1', u'AST/TO': u'1.45'}, {u'MPG': u'27.1', u'GP': u'14', u'AST': u'16', u'PLAYER': u'Jerami Grant', u'TO': u'17', u'AP48M': u'2.0', u'TEAM': u'PHI', u'TOPG': u'1.2', 'POSITION': u'SF', u'APG': u'1.1', u'AST/TO': u'0.94'}, {u'MPG': u'16.0', u'GP': u'7', u'AST': u'8', u'PLAYER': u'Patrick Beverley', u'TO': u'10', u'AP48M': u'3.4', u'TEAM': u'HOU', u'TOPG': u'1.4', 'POSITION': u'PG', u'APG': u'1.1', u'AST/TO': u'0.80'}, {u'MPG': u'12.4', u'GP': u'7', u'AST': u'8', u'PLAYER': u'Markel Brown', u'TO': u'4', u'AP48M': u'4.4', u'TEAM': u'BKN', u'TOPG': u'0.6', 'POSITION': u'SG', u'APG': u'1.1', u'AST/TO': u'2.00'}, {u'MPG': u'15.0', u'GP': u'10', u'AST': u'11', u'PLAYER': u'James Johnson', u'TO': u'15', u'AP48M': u'3.5', u'TEAM': u'TOR', u'TOPG': u'1.5', 'POSITION': u'PF', u'APG': u'1.1', u'AST/TO': u'0.73'}, {u'MPG': u'5.4', u'GP': u'10', u'AST': u'11', u'PLAYER': u'Ian Clark', u'TO': u'5', u'AP48M': u'9.8', u'TEAM': u'GS', u'TOPG': u'0.5', 'POSITION': u'SG', u'APG': u'1.1', u'AST/TO': u'2.20'}, {u'MPG': u'17.0', u'GP': u'12', u'AST': u'13', u'PLAYER': u'Darrell Arthur', u'TO': u'4', u'AP48M': u'3.1', u'TEAM': u'DEN', u'TOPG': u'0.3', 'POSITION': u'PF', u'APG': u'1.1', u'AST/TO': u'3.25'}, {u'MPG': u'32.5', u'GP': u'12', u'AST': u'13', u'PLAYER': u'DeAndre Jordan', u'TO': u'17', u'AP48M': u'1.6', u'TEAM': u'LAC', u'TOPG': u'1.4', 'POSITION': u'C', u'APG': u'1.1', u'AST/TO': u'0.76'}, {u'MPG': u'18.4', u'GP': u'12', u'AST': u'13', u'PLAYER': u\"E'Twaun Moore\", u'TO': u'8', u'AP48M': u'2.8', u'TEAM': u'CHI', u'TOPG': u'0.7', 'POSITION': u'SG', u'APG': u'1.1', u'AST/TO': u'1.63'}, {u'MPG': u'25.0', u'GP': u'12', u'AST': u'13', u'PLAYER': u'Austin Rivers', u'TO': u'10', u'AP48M': u'2.1', u'TEAM': u'LAC', u'TOPG': u'0.8', 'POSITION': u'SG', u'APG': u'1.1', u'AST/TO': u'1.30'}, {u'MPG': u'13.2', u'GP': u'12', u'AST': u'13', u'PLAYER': u'Frank Kaminsky III', u'TO': u'4', u'AP48M': u'3.9', u'TEAM': u'CHA', u'TOPG': u'0.3', 'POSITION': u'C', u'APG': u'1.1', u'AST/TO': u'3.25'}, {u'MPG': u'27.0', u'GP': u'13', u'AST': u'14', u'PLAYER': u'Kenneth Faried', u'TO': u'20', u'AP48M': u'1.9', u'TEAM': u'DEN', u'TOPG': u'1.5', 'POSITION': u'PF', u'APG': u'1.1', u'AST/TO': u'0.70'}, {u'MPG': u'10.9', u'GP': u'13', u'AST': u'14', u'PLAYER': u'Mike Scott', u'TO': u'5', u'AP48M': u'4.7', u'TEAM': u'ATL', u'TOPG': u'0.4', 'POSITION': u'PF', u'APG': u'1.1', u'AST/TO': u'2.80'}, {u'MPG': u'29.5', u'GP': u'13', u'AST': u'14', u'PLAYER': u'Karl-Anthony Towns', u'TO': u'30', u'AP48M': u'1.8', u'TEAM': u'MIN', u'TOPG': u'2.3', 'POSITION': u'C', u'APG': u'1.1', u'AST/TO': u'0.47'}, {u'MPG': u'19.8', u'GP': u'14', u'AST': u'15', u'PLAYER': u'Maurice Harkless', u'TO': u'16', u'AP48M': u'2.6', u'TEAM': u'POR', u'TOPG': u'1.1', 'POSITION': u'SF', u'APG': u'1.1', u'AST/TO': u'0.94'}, {u'MPG': u'21.8', u'GP': u'14', u'AST': u'14', u'PLAYER': u'Tony Allen', u'TO': u'12', u'AP48M': u'2.2', u'TEAM': u'MEM', u'TOPG': u'0.9', 'POSITION': u'SF', u'APG': u'1.0', u'AST/TO': u'1.17'}, {u'MPG': u'20.9', u'GP': u'14', u'AST': u'14', u'PLAYER': u'Ed Davis', u'TO': u'13', u'AP48M': u'2.3', u'TEAM': u'POR', u'TOPG': u'0.9', 'POSITION': u'PF', u'APG': u'1.0', u'AST/TO': u'1.08'}, {u'MPG': u'20.9', u'GP': u'14', u'AST': u'14', u'PLAYER': u'Patrick Patterson', u'TO': u'15', u'AP48M': u'2.3', u'TEAM': u'TOR', u'TOPG': u'1.1', 'POSITION': u'PF', u'APG': u'1.0', u'AST/TO': u'0.93'}, {u'MPG': u'24.4', u'GP': u'13', u'AST': u'13', u'PLAYER': u'Richard Jefferson', u'TO': u'14', u'AP48M': u'2.0', u'TEAM': u'CLE', u'TOPG': u'1.1', 'POSITION': u'SF', u'APG': u'1.0', u'AST/TO': u'0.93'}, {u'MPG': u'26.0', u'GP': u'13', u'AST': u'13', u'PLAYER': u'Bojan Bogdanovic', u'TO': u'20', u'AP48M': u'1.8', u'TEAM': u'BKN', u'TOPG': u'1.5', 'POSITION': u'SG', u'APG': u'1.0', u'AST/TO': u'0.65'}, {u'MPG': u'13.1', u'GP': u'12', u'AST': u'12', u'PLAYER': u'Joe Ingles', u'TO': u'5', u'AP48M': u'3.7', u'TEAM': u'UTAH', u'TOPG': u'0.4', 'POSITION': u'SF', u'APG': u'1.0', u'AST/TO': u'2.40'}, {u'MPG': u'17.7', u'GP': u'11', u'AST': u'11', u'PLAYER': u'J.J. Hickson', u'TO': u'9', u'AP48M': u'2.7', u'TEAM': u'DEN', u'TOPG': u'0.8', 'POSITION': u'PF', u'APG': u'1.0', u'AST/TO': u'1.22'}, {u'MPG': u'18.7', u'GP': u'10', u'AST': u'10', u'PLAYER': u'Gary Neal', u'TO': u'7', u'AP48M': u'2.6', u'TEAM': u'WSH', u'TOPG': u'0.7', 'POSITION': u'PG', u'APG': u'1.0', u'AST/TO': u'1.43'}, {u'MPG': u'9.1', u'GP': u'8', u'AST': u'8', u'PLAYER': u'Sonny Weems', u'TO': u'10', u'AP48M': u'5.3', u'TEAM': u'PHX', u'TOPG': u'1.3', 'POSITION': u'SG', u'APG': u'1.0', u'AST/TO': u'0.80'}, {u'MPG': u'15.4', u'GP': u'8', u'AST': u'8', u'PLAYER': u'Garrett Temple', u'TO': u'3', u'AP48M': u'3.1', u'TEAM': u'WSH', u'TOPG': u'0.4', 'POSITION': u'SG', u'APG': u'1.0', u'AST/TO': u'2.67'}, {u'MPG': u'6.0', u'GP': u'6', u'AST': u'6', u'PLAYER': u'Seth Curry', u'TO': u'0', u'AP48M': u'8.0', u'TEAM': u'SAC', u'TOPG': u'0.0', 'POSITION': u'SG', u'APG': u'1.0', u'AST/TO': u'0.00'}, {u'MPG': u'15.0', u'GP': u'5', u'AST': u'5', u'PLAYER': u'Ryan Kelly', u'TO': u'3', u'AP48M': u'3.2', u'TEAM': u'LAL', u'TOPG': u'0.6', 'POSITION': u'PF', u'APG': u'1.0', u'AST/TO': u'1.67'}, {u'MPG': u'13.8', u'GP': u'4', u'AST': u'4', u'PLAYER': u'John Jenkins', u'TO': u'3', u'AP48M': u'3.5', u'TEAM': u'DAL', u'TOPG': u'0.8', 'POSITION': u'SG', u'APG': u'1.0', u'AST/TO': u'1.33'}, {u'MPG': u'12.0', u'GP': u'2', u'AST': u'2', u'PLAYER': u'Chuck Hayes', u'TO': u'3', u'AP48M': u'4.0', u'TEAM': u'HOU', u'TOPG': u'1.5', 'POSITION': u'PF', u'APG': u'1.0', u'AST/TO': u'0.67'}, {u'MPG': u'18.5', u'GP': u'2', u'AST': u'2', u'PLAYER': u'O.J. Mayo', u'TO': u'2', u'AP48M': u'2.6', u'TEAM': u'MIL', u'TOPG': u'1.0', 'POSITION': u'SG', u'APG': u'1.0', u'AST/TO': u'1.00'}, {u'MPG': u'6.0', u'GP': u'2', u'AST': u'2', u'PLAYER': u'Jonathon Simmons', u'TO': u'0', u'AP48M': u'8.0', u'TEAM': u'SA', u'TOPG': u'0.0', 'POSITION': u'SG', u'APG': u'1.0', u'AST/TO': u'0.00'}, {u'MPG': u'1.0', u'GP': u'1', u'AST': u'1', u'PLAYER': u'Cristiano Felicio', u'TO': u'0', u'AP48M': u'48.0', u'TEAM': u'CHI', u'TOPG': u'0.0', 'POSITION': u'PF', u'APG': u'1.0', u'AST/TO': u'0.00'}, {u'MPG': u'22.1', u'GP': u'14', u'AST': u'13', u'PLAYER': u'Matt Barnes', u'TO': u'9', u'AP48M': u'2.0', u'TEAM': u'MEM', u'TOPG': u'0.6', 'POSITION': u'SF', u'APG': u'0.9', u'AST/TO': u'1.44'}, {u'MPG': u'22.9', u'GP': u'14', u'AST': u'13', u'PLAYER': u'Luis Scola', u'TO': u'14', u'AP48M': u'1.9', u'TEAM': u'TOR', u'TOPG': u'1.0', 'POSITION': u'PF', u'APG': u'0.9', u'AST/TO': u'0.93'}, {u'MPG': u'25.9', u'GP': u'13', u'AST': u'12', u'PLAYER': u'Tristan Thompson', u'TO': u'10', u'AP48M': u'1.7', u'TEAM': u'CLE', u'TOPG': u'0.8', 'POSITION': u'C', u'APG': u'0.9', u'AST/TO': u'1.20'}, {u'MPG': u'36.7', u'GP': u'13', u'AST': u'12', u'PLAYER': u'Andre Drummond', u'TO': u'35', u'AP48M': u'1.2', u'TEAM': u'DET', u'TOPG': u'2.7', 'POSITION': u'C', u'APG': u'0.9', u'AST/TO': u'0.34'}, {u'MPG': u'13.3', u'GP': u'12', u'AST': u'11', u'PLAYER': u'Jonas Jerebko', u'TO': u'10', u'AP48M': u'3.3', u'TEAM': u'BOS', u'TOPG': u'0.8', 'POSITION': u'PF', u'APG': u'0.9', u'AST/TO': u'1.10'}, {u'MPG': u'15.6', u'GP': u'11', u'AST': u'10', u'PLAYER': u'Brandon Bass', u'TO': u'13', u'AP48M': u'2.8', u'TEAM': u'LAL', u'TOPG': u'1.2', 'POSITION': u'PF', u'APG': u'0.9', u'AST/TO': u'0.77'}, {u'MPG': u'23.8', u'GP': u'10', u'AST': u'9', u'PLAYER': u'Luke Babbitt', u'TO': u'5', u'AP48M': u'1.8', u'TEAM': u'NO', u'TOPG': u'0.5', 'POSITION': u'SF', u'APG': u'0.9', u'AST/TO': u'1.80'}, {u'MPG': u'9.0', u'GP': u'10', u'AST': u'9', u'PLAYER': u'Kevin Seraphin', u'TO': u'8', u'AP48M': u'4.8', u'TEAM': u'NY', u'TOPG': u'0.8', 'POSITION': u'PF', u'APG': u'0.9', u'AST/TO': u'1.13'}, {u'MPG': u'21.7', u'GP': u'9', u'AST': u'8', u'PLAYER': u'Jared Dudley', u'TO': u'7', u'AP48M': u'2.0', u'TEAM': u'WSH', u'TOPG': u'0.8', 'POSITION': u'SG', u'APG': u'0.9', u'AST/TO': u'1.14'}, {u'MPG': u'17.1', u'GP': u'9', u'AST': u'8', u'PLAYER': u'Chandler Parsons', u'TO': u'11', u'AP48M': u'2.5', u'TEAM': u'DAL', u'TOPG': u'1.2', 'POSITION': u'SF', u'APG': u'0.9', u'AST/TO': u'0.73'}, {u'MPG': u'23.4', u'GP': u'7', u'AST': u'6', u'PLAYER': u'Jabari Parker', u'TO': u'6', u'AP48M': u'1.8', u'TEAM': u'MIL', u'TOPG': u'0.9', 'POSITION': u'SF', u'APG': u'0.9', u'AST/TO': u'1.00'}, {u'MPG': u'22.2', u'GP': u'13', u'AST': u'11', u'PLAYER': u'Tayshaun Prince', u'TO': u'6', u'AP48M': u'1.8', u'TEAM': u'MIN', u'TOPG': u'0.5', 'POSITION': u'SF', u'APG': u'0.8', u'AST/TO': u'1.83'}, {u'MPG': u'21.7', u'GP': u'13', u'AST': u'11', u'PLAYER': u'Enes Kanter', u'TO': u'20', u'AP48M': u'1.9', u'TEAM': u'OKC', u'TOPG': u'1.5', 'POSITION': u'C', u'APG': u'0.8', u'AST/TO': u'0.55'}, {u'MPG': u'17.8', u'GP': u'13', u'AST': u'11', u'PLAYER': u\"Johnny O'Bryant III\", u'TO': u'5', u'AP48M': u'2.3', u'TEAM': u'MIL', u'TOPG': u'0.4', 'POSITION': u'PF', u'APG': u'0.8', u'AST/TO': u'2.20'}, {u'MPG': u'24.1', u'GP': u'13', u'AST': u'11', u'PLAYER': u'Steven Adams', u'TO': u'13', u'AP48M': u'1.7', u'TEAM': u'OKC', u'TOPG': u'1.0', 'POSITION': u'C', u'APG': u'0.8', u'AST/TO': u'0.85'}, {u'MPG': u'10.0', u'GP': u'13', u'AST': u'11', u'PLAYER': u'Kyle Anderson', u'TO': u'3', u'AP48M': u'4.1', u'TEAM': u'SA', u'TOPG': u'0.2', 'POSITION': u'SF', u'APG': u'0.8', u'AST/TO': u'3.67'}, {u'MPG': u'10.3', u'GP': u'12', u'AST': u'10', u'PLAYER': u'Rasual Butler', u'TO': u'4', u'AP48M': u'3.9', u'TEAM': u'SA', u'TOPG': u'0.3', 'POSITION': u'SF', u'APG': u'0.8', u'AST/TO': u'2.50'}, {u'MPG': u'4.0', u'GP': u'6', u'AST': u'5', u'PLAYER': u'Cameron Payne', u'TO': u'2', u'AP48M': u'10.0', u'TEAM': u'OKC', u'TOPG': u'0.3', 'POSITION': u'PG', u'APG': u'0.8', u'AST/TO': u'2.50'}, {u'MPG': u'8.3', u'GP': u'6', u'AST': u'5', u'PLAYER': u'Terry Rozier', u'TO': u'3', u'AP48M': u'4.8', u'TEAM': u'BOS', u'TOPG': u'0.5', 'POSITION': u'PG', u'APG': u'0.8', u'AST/TO': u'1.67'}, {u'MPG': u'19.7', u'GP': u'11', u'AST': u'9', u'PLAYER': u'Trevor Booker', u'TO': u'9', u'AP48M': u'2.0', u'TEAM': u'UTAH', u'TOPG': u'0.8', 'POSITION': u'PF', u'APG': u'0.8', u'AST/TO': u'1.00'}, {u'MPG': u'21.1', u'GP': u'11', u'AST': u'9', u'PLAYER': u'Cody Zeller', u'TO': u'8', u'AP48M': u'1.9', u'TEAM': u'CHA', u'TOPG': u'0.7', 'POSITION': u'PF', u'APG': u'0.8', u'AST/TO': u'1.13'}, {u'MPG': u'12.7', u'GP': u'14', u'AST': u'11', u'PLAYER': u'Derrick Williams', u'TO': u'10', u'AP48M': u'3.0', u'TEAM': u'NY', u'TOPG': u'0.7', 'POSITION': u'PF', u'APG': u'0.8', u'AST/TO': u'1.10'}, {u'MPG': u'26.1', u'GP': u'14', u'AST': u'11', u'PLAYER': u'Kristaps Porzingis', u'TO': u'24', u'AP48M': u'1.4', u'TEAM': u'NY', u'TOPG': u'1.7', 'POSITION': u'PF', u'APG': u'0.8', u'AST/TO': u'0.46'}, {u'MPG': u'14.2', u'GP': u'9', u'AST': u'7', u'PLAYER': u'John Henson', u'TO': u'9', u'AP48M': u'2.6', u'TEAM': u'MIL', u'TOPG': u'1.0', 'POSITION': u'PF', u'APG': u'0.8', u'AST/TO': u'0.78'}, {u'MPG': u'12.2', u'GP': u'9', u'AST': u'7', u'PLAYER': u'Archie Goodwin', u'TO': u'10', u'AP48M': u'3.1', u'TEAM': u'PHX', u'TOPG': u'1.1', 'POSITION': u'SG', u'APG': u'0.8', u'AST/TO': u'0.70'}, {u'MPG': u'14.5', u'GP': u'13', u'AST': u'10', u'PLAYER': u'Mario Hezonja', u'TO': u'18', u'AP48M': u'2.5', u'TEAM': u'ORL', u'TOPG': u'1.4', 'POSITION': u'SG', u'APG': u'0.8', u'AST/TO': u'0.56'}, {u'MPG': u'20.0', u'GP': u'12', u'AST': u'9', u'PLAYER': u'Anthony Tolliver', u'TO': u'2', u'AP48M': u'1.8', u'TEAM': u'DET', u'TOPG': u'0.2', 'POSITION': u'PF', u'APG': u'0.8', u'AST/TO': u'4.50'}, {u'MPG': u'14.8', u'GP': u'12', u'AST': u'9', u'PLAYER': u'Justin Holiday', u'TO': u'9', u'AP48M': u'2.4', u'TEAM': u'ATL', u'TOPG': u'0.8', 'POSITION': u'SG', u'APG': u'0.8', u'AST/TO': u'1.00'}, {u'MPG': u'22.3', u'GP': u'12', u'AST': u'9', u'PLAYER': u'Andre Roberson', u'TO': u'5', u'AP48M': u'1.6', u'TEAM': u'OKC', u'TOPG': u'0.4', 'POSITION': u'SG', u'APG': u'0.8', u'AST/TO': u'1.80'}, {u'MPG': u'18.8', u'GP': u'8', u'AST': u'6', u'PLAYER': u'Metta World Peace', u'TO': u'2', u'AP48M': u'1.9', u'TEAM': u'LAL', u'TOPG': u'0.3', 'POSITION': u'SF', u'APG': u'0.8', u'AST/TO': u'3.00'}, {u'MPG': u'8.5', u'GP': u'4', u'AST': u'3', u'PLAYER': u'DeJuan Blair', u'TO': u'6', u'AP48M': u'4.2', u'TEAM': u'WSH', u'TOPG': u'1.5', 'POSITION': u'C', u'APG': u'0.8', u'AST/TO': u'0.50'}, {u'MPG': u'9.3', u'GP': u'4', u'AST': u'3', u'PLAYER': u'Joe Young', u'TO': u'3', u'AP48M': u'3.9', u'TEAM': u'IND', u'TOPG': u'0.8', 'POSITION': u'PG', u'APG': u'0.8', u'AST/TO': u'1.00'}, {u'MPG': u'11.5', u'GP': u'11', u'AST': u'8', u'PLAYER': u'Jared Cunningham', u'TO': u'6', u'AP48M': u'3.0', u'TEAM': u'CLE', u'TOPG': u'0.5', 'POSITION': u'SG', u'APG': u'0.7', u'AST/TO': u'1.33'}, {u'MPG': u'17.3', u'GP': u'14', u'AST': u'10', u'PLAYER': u'Tiago Splitter', u'TO': u'12', u'AP48M': u'2.0', u'TEAM': u'ATL', u'TOPG': u'0.9', 'POSITION': u'PF', u'APG': u'0.7', u'AST/TO': u'0.83'}, {u'MPG': u'11.0', u'GP': u'7', u'AST': u'5', u'PLAYER': u'Quincy Acy', u'TO': u'3', u'AP48M': u'3.1', u'TEAM': u'SAC', u'TOPG': u'0.4', 'POSITION': u'SF', u'APG': u'0.7', u'AST/TO': u'1.67'}, {u'MPG': u'7.3', u'GP': u'7', u'AST': u'5', u'PLAYER': u'Brian Roberts', u'TO': u'1', u'AP48M': u'4.7', u'TEAM': u'CHA', u'TOPG': u'0.1', 'POSITION': u'PG', u'APG': u'0.7', u'AST/TO': u'5.00'}, {u'MPG': u'2.7', u'GP': u'7', u'AST': u'5', u'PLAYER': u'Tim Frazier', u'TO': u'2', u'AP48M': u'12.6', u'TEAM': u'POR', u'TOPG': u'0.3', 'POSITION': u'PG', u'APG': u'0.7', u'AST/TO': u'2.50'}, {u'MPG': u'20.8', u'GP': u'10', u'AST': u'7', u'PLAYER': u'Kris Humphries', u'TO': u'8', u'AP48M': u'1.6', u'TEAM': u'WSH', u'TOPG': u'0.8', 'POSITION': u'PF', u'APG': u'0.7', u'AST/TO': u'0.88'}, {u'MPG': u'23.8', u'GP': u'13', u'AST': u'9', u'PLAYER': u'Dante Cunningham', u'TO': u'5', u'AP48M': u'1.4', u'TEAM': u'NO', u'TOPG': u'0.4', 'POSITION': u'PF', u'APG': u'0.7', u'AST/TO': u'1.80'}, {u'MPG': u'13.8', u'GP': u'13', u'AST': u'9', u'PLAYER': u'Wayne Ellington', u'TO': u'1', u'AP48M': u'2.4', u'TEAM': u'BKN', u'TOPG': u'0.1', 'POSITION': u'SG', u'APG': u'0.7', u'AST/TO': u'9.00'}, {u'MPG': u'20.7', u'GP': u'12', u'AST': u'8', u'PLAYER': u'Doug McDermott', u'TO': u'7', u'AP48M': u'1.5', u'TEAM': u'CHI', u'TOPG': u'0.6', 'POSITION': u'SF', u'APG': u'0.7', u'AST/TO': u'1.14'}, {u'MPG': u'15.5', u'GP': u'12', u'AST': u'8', u'PLAYER': u'Nikola Jokic', u'TO': u'10', u'AP48M': u'2.1', u'TEAM': u'DEN', u'TOPG': u'0.8', 'POSITION': u'C', u'APG': u'0.7', u'AST/TO': u'0.80'}, {u'MPG': u'10.6', u'GP': u'9', u'AST': u'6', u'PLAYER': u'Mike Muscala', u'TO': u'4', u'AP48M': u'3.0', u'TEAM': u'ATL', u'TOPG': u'0.4', 'POSITION': u'PF', u'APG': u'0.7', u'AST/TO': u'1.50'}, {u'MPG': u'9.3', u'GP': u'3', u'AST': u'2', u'PLAYER': u'Kendrick Perkins', u'TO': u'0', u'AP48M': u'3.4', u'TEAM': u'NO', u'TOPG': u'0.0', 'POSITION': u'C', u'APG': u'0.7', u'AST/TO': u'0.00'}, {u'MPG': u'17.0', u'GP': u'8', u'AST': u'5', u'PLAYER': u'Terrence Ross', u'TO': u'6', u'AP48M': u'1.8', u'TEAM': u'TOR', u'TOPG': u'0.8', 'POSITION': u'SF', u'APG': u'0.6', u'AST/TO': u'0.83'}, {u'MPG': u'8.9', u'GP': u'8', u'AST': u'5', u'PLAYER': u'Tyler Zeller', u'TO': u'5', u'AP48M': u'3.4', u'TEAM': u'BOS', u'TOPG': u'0.6', 'POSITION': u'C', u'APG': u'0.6', u'AST/TO': u'1.00'}, {u'MPG': u'17.5', u'GP': u'10', u'AST': u'6', u'PLAYER': u'P.J. Hairston', u'TO': u'3', u'AP48M': u'1.6', u'TEAM': u'CHA', u'TOPG': u'0.3', 'POSITION': u'SF', u'APG': u'0.6', u'AST/TO': u'2.00'}, {u'MPG': u'18.7', u'GP': u'14', u'AST': u'8', u'PLAYER': u'Lance Thomas', u'TO': u'11', u'AP48M': u'1.5', u'TEAM': u'NY', u'TOPG': u'0.8', 'POSITION': u'SF', u'APG': u'0.6', u'AST/TO': u'0.73'}, {u'MPG': u'17.1', u'GP': u'7', u'AST': u'4', u'PLAYER': u'Brandan Wright', u'TO': u'4', u'AP48M': u'1.6', u'TEAM': u'MEM', u'TOPG': u'0.6', 'POSITION': u'PF', u'APG': u'0.6', u'AST/TO': u'1.00'}, {u'MPG': u'8.6', u'GP': u'7', u'AST': u'4', u'PLAYER': u'Brandon Rush', u'TO': u'2', u'AP48M': u'3.2', u'TEAM': u'GS', u'TOPG': u'0.3', 'POSITION': u'SG', u'APG': u'0.6', u'AST/TO': u'2.00'}, {u'MPG': u'14.4', u'GP': u'7', u'AST': u'4', u'PLAYER': u'Richaun Holmes', u'TO': u'3', u'AP48M': u'1.9', u'TEAM': u'PHI', u'TOPG': u'0.4', 'POSITION': u'PF', u'APG': u'0.6', u'AST/TO': u'1.33'}, {u'MPG': u'11.0', u'GP': u'9', u'AST': u'5', u'PLAYER': u'James Anderson', u'TO': u'8', u'AP48M': u'2.4', u'TEAM': u'SAC', u'TOPG': u'0.9', 'POSITION': u'SG', u'APG': u'0.6', u'AST/TO': u'0.63'}, {u'MPG': u'14.3', u'GP': u'11', u'AST': u'6', u'PLAYER': u'Charlie Villanueva', u'TO': u'6', u'AP48M': u'1.8', u'TEAM': u'DAL', u'TOPG': u'0.5', 'POSITION': u'PF', u'APG': u'0.5', u'AST/TO': u'1.00'}, {u'MPG': u'10.5', u'GP': u'11', u'AST': u'6', u'PLAYER': u'Marreese Speights', u'TO': u'13', u'AP48M': u'2.5', u'TEAM': u'GS', u'TOPG': u'1.2', 'POSITION': u'C', u'APG': u'0.5', u'AST/TO': u'0.46'}, {u'MPG': u'20.5', u'GP': u'11', u'AST': u'6', u'PLAYER': u'T.J. Warren', u'TO': u'10', u'AP48M': u'1.3', u'TEAM': u'PHX', u'TOPG': u'0.9', 'POSITION': u'SF', u'APG': u'0.5', u'AST/TO': u'0.60'}, {u'MPG': u'18.0', u'GP': u'14', u'AST': u'7', u'PLAYER': u'Clint Capela', u'TO': u'10', u'AP48M': u'1.3', u'TEAM': u'HOU', u'TOPG': u'0.7', 'POSITION': u'C', u'APG': u'0.5', u'AST/TO': u'0.70'}, {u'MPG': u'26.8', u'GP': u'12', u'AST': u'6', u'PLAYER': u'Tyson Chandler', u'TO': u'14', u'AP48M': u'0.9', u'TEAM': u'PHX', u'TOPG': u'1.2', 'POSITION': u'C', u'APG': u'0.5', u'AST/TO': u'0.43'}, {u'MPG': u'20.8', u'GP': u'12', u'AST': u'6', u'PLAYER': u'Timofey Mozgov', u'TO': u'14', u'AP48M': u'1.2', u'TEAM': u'CLE', u'TOPG': u'1.2', 'POSITION': u'C', u'APG': u'0.5', u'AST/TO': u'0.43'}, {u'MPG': u'9.4', u'GP': u'10', u'AST': u'5', u'PLAYER': u'Chris Copeland', u'TO': u'3', u'AP48M': u'2.6', u'TEAM': u'MIL', u'TOPG': u'0.3', 'POSITION': u'SF', u'APG': u'0.5', u'AST/TO': u'1.67'}, {u'MPG': u'14.9', u'GP': u'8', u'AST': u'4', u'PLAYER': u'Channing Frye', u'TO': u'4', u'AP48M': u'1.6', u'TEAM': u'ORL', u'TOPG': u'0.5', 'POSITION': u'PF', u'APG': u'0.5', u'AST/TO': u'1.00'}, {u'MPG': u'11.9', u'GP': u'8', u'AST': u'4', u'PLAYER': u'Adreian Payne', u'TO': u'9', u'AP48M': u'2.0', u'TEAM': u'MIN', u'TOPG': u'1.1', 'POSITION': u'PF', u'APG': u'0.5', u'AST/TO': u'0.44'}, {u'MPG': u'17.9', u'GP': u'8', u'AST': u'4', u'PLAYER': u'Larry Nance Jr.', u'TO': u'4', u'AP48M': u'1.3', u'TEAM': u'LAL', u'TOPG': u'0.5', 'POSITION': u'PF', u'APG': u'0.5', u'AST/TO': u'1.00'}, {u'MPG': u'12.8', u'GP': u'6', u'AST': u'3', u'PLAYER': u'Drew Gooden', u'TO': u'3', u'AP48M': u'1.9', u'TEAM': u'WSH', u'TOPG': u'0.5', 'POSITION': u'PF', u'APG': u'0.5', u'AST/TO': u'1.00'}, {u'MPG': u'19.3', u'GP': u'6', u'AST': u'3', u'PLAYER': u'Gerald Green', u'TO': u'4', u'AP48M': u'1.2', u'TEAM': u'MIA', u'TOPG': u'0.7', 'POSITION': u'SG', u'APG': u'0.5', u'AST/TO': u'0.75'}, {u'MPG': u'10.8', u'GP': u'6', u'AST': u'3', u'PLAYER': u'Lou Amundson', u'TO': u'2', u'AP48M': u'2.2', u'TEAM': u'NY', u'TOPG': u'0.3', 'POSITION': u'PF', u'APG': u'0.5', u'AST/TO': u'1.50'}, {u'MPG': u'3.5', u'GP': u'4', u'AST': u'2', u'PLAYER': u'Joe Harris', u'TO': u'0', u'AP48M': u'6.9', u'TEAM': u'CLE', u'TOPG': u'0.0', 'POSITION': u'SG', u'APG': u'0.5', u'AST/TO': u'0.00'}, {u'MPG': u'11.8', u'GP': u'4', u'AST': u'2', u'PLAYER': u'Josh Richardson', u'TO': u'2', u'AP48M': u'2.0', u'TEAM': u'MIA', u'TOPG': u'0.5', 'POSITION': u'SG', u'APG': u'0.5', u'AST/TO': u'1.00'}, {u'MPG': u'10.0', u'GP': u'2', u'AST': u'1', u'PLAYER': u\"Amar'e Stoudemire\", u'TO': u'1', u'AP48M': u'2.4', u'TEAM': u'MIA', u'TOPG': u'0.5', 'POSITION': u'PF', u'APG': u'0.5', u'AST/TO': u'1.00'}, {u'MPG': u'10.0', u'GP': u'2', u'AST': u'1', u'PLAYER': u'Bobby Portis', u'TO': u'2', u'AP48M': u'2.4', u'TEAM': u'CHI', u'TOPG': u'1.0', 'POSITION': u'PF', u'APG': u'0.5', u'AST/TO': u'0.50'}, {u'MPG': u'2.5', u'GP': u'2', u'AST': u'1', u'PLAYER': u'Jordan Mickey', u'TO': u'0', u'AP48M': u'9.6', u'TEAM': u'BOS', u'TOPG': u'0.0', 'POSITION': u'PF', u'APG': u'0.5', u'AST/TO': u'0.00'}, {u'MPG': u'7.0', u'GP': u'2', u'AST': u'1', u'PLAYER': u'Tyus Jones', u'TO': u'0', u'AP48M': u'3.4', u'TEAM': u'MIN', u'TOPG': u'0.0', 'POSITION': u'PG', u'APG': u'0.5', u'AST/TO': u'0.00'}, {u'MPG': u'19.8', u'GP': u'13', u'AST': u'6', u'PLAYER': u'Alonzo Gee', u'TO': u'14', u'AP48M': u'1.1', u'TEAM': u'NO', u'TOPG': u'1.1', 'POSITION': u'SF', u'APG': u'0.5', u'AST/TO': u'0.43'}, {u'MPG': u'9.0', u'GP': u'11', u'AST': u'5', u'PLAYER': u'Anderson Varejao', u'TO': u'6', u'AP48M': u'2.4', u'TEAM': u'CLE', u'TOPG': u'0.5', 'POSITION': u'PF', u'APG': u'0.5', u'AST/TO': u'0.83'}, {u'MPG': u'5.0', u'GP': u'11', u'AST': u'5', u'PLAYER': u'James Michael McAdoo', u'TO': u'4', u'AP48M': u'4.4', u'TEAM': u'GS', u'TOPG': u'0.4', 'POSITION': u'SF', u'APG': u'0.5', u'AST/TO': u'1.25'}, {u'MPG': u'16.0', u'GP': u'9', u'AST': u'4', u'PLAYER': u'Glenn Robinson III', u'TO': u'5', u'AP48M': u'1.3', u'TEAM': u'IND', u'TOPG': u'0.6', 'POSITION': u'SG', u'APG': u'0.4', u'AST/TO': u'0.80'}, {u'MPG': u'27.3', u'GP': u'14', u'AST': u'6', u'PLAYER': u'Jonas Valanciunas', u'TO': u'22', u'AP48M': u'0.8', u'TEAM': u'TOR', u'TOPG': u'1.6', 'POSITION': u'C', u'APG': u'0.4', u'AST/TO': u'0.27'}, {u'MPG': u'18.4', u'GP': u'14', u'AST': u'6', u'PLAYER': u'JaMychal Green', u'TO': u'16', u'AP48M': u'1.1', u'TEAM': u'MEM', u'TOPG': u'1.1', 'POSITION': u'PF', u'APG': u'0.4', u'AST/TO': u'0.38'}, {u'MPG': u'15.4', u'GP': u'14', u'AST': u'6', u'PLAYER': u'JaKarr Sampson', u'TO': u'20', u'AP48M': u'1.3', u'TEAM': u'PHI', u'TOPG': u'1.4', 'POSITION': u'SG', u'APG': u'0.4', u'AST/TO': u'0.30'}, {u'MPG': u'6.4', u'GP': u'7', u'AST': u'3', u'PLAYER': u'Elijah Millsap', u'TO': u'2', u'AP48M': u'3.2', u'TEAM': u'UTAH', u'TOPG': u'0.3', 'POSITION': u'SG', u'APG': u'0.4', u'AST/TO': u'1.50'}, {u'MPG': u'19.8', u'GP': u'12', u'AST': u'5', u'PLAYER': u'Nick Young', u'TO': u'9', u'AP48M': u'1.0', u'TEAM': u'LAL', u'TOPG': u'0.8', 'POSITION': u'SF', u'APG': u'0.4', u'AST/TO': u'0.56'}, {u'MPG': u'6.2', u'GP': u'5', u'AST': u'2', u'PLAYER': u'Mitch McGary', u'TO': u'5', u'AP48M': u'3.1', u'TEAM': u'OKC', u'TOPG': u'1.0', 'POSITION': u'PF', u'APG': u'0.4', u'AST/TO': u'0.40'}, {u'MPG': u'7.0', u'GP': u'5', u'AST': u'2', u'PLAYER': u'Damien Inglis', u'TO': u'3', u'AP48M': u'2.7', u'TEAM': u'MIL', u'TOPG': u'0.6', 'POSITION': u'SF', u'APG': u'0.4', u'AST/TO': u'0.67'}, {u'MPG': u'18.9', u'GP': u'13', u'AST': u'5', u'PLAYER': u'Gorgui Dieng', u'TO': u'19', u'AP48M': u'1.0', u'TEAM': u'MIN', u'TOPG': u'1.5', 'POSITION': u'C', u'APG': u'0.4', u'AST/TO': u'0.26'}, {u'MPG': u'11.6', u'GP': u'13', u'AST': u'5', u'PLAYER': u'Aron Baynes', u'TO': u'10', u'AP48M': u'1.6', u'TEAM': u'DET', u'TOPG': u'0.8', 'POSITION': u'PF', u'APG': u'0.4', u'AST/TO': u'0.50'}, {u'MPG': u'17.7', u'GP': u'13', u'AST': u'5', u'PLAYER': u'Shabazz Muhammad', u'TO': u'12', u'AP48M': u'1.0', u'TEAM': u'MIN', u'TOPG': u'0.9', 'POSITION': u'SF', u'APG': u'0.4', u'AST/TO': u'0.42'}, {u'MPG': u'13.4', u'GP': u'8', u'AST': u'3', u'PLAYER': u'Jason Smith', u'TO': u'6', u'AP48M': u'1.3', u'TEAM': u'ORL', u'TOPG': u'0.8', 'POSITION': u'PF', u'APG': u'0.4', u'AST/TO': u'0.50'}, {u'MPG': u'14.2', u'GP': u'14', u'AST': u'5', u'PLAYER': u'Noah Vonleh', u'TO': u'12', u'AP48M': u'1.2', u'TEAM': u'POR', u'TOPG': u'0.9', 'POSITION': u'PF', u'APG': u'0.4', u'AST/TO': u'0.42'}, {u'MPG': u'15.4', u'GP': u'12', u'AST': u'4', u'PLAYER': u'Anthony Morrow', u'TO': u'4', u'AP48M': u'1.0', u'TEAM': u'OKC', u'TOPG': u'0.3', 'POSITION': u'SG', u'APG': u'0.3', u'AST/TO': u'1.00'}, {u'MPG': u'13.9', u'GP': u'12', u'AST': u'4', u'PLAYER': u'Wesley Johnson', u'TO': u'3', u'AP48M': u'1.1', u'TEAM': u'LAC', u'TOPG': u'0.3', 'POSITION': u'SG', u'APG': u'0.3', u'AST/TO': u'1.33'}, {u'MPG': u'9.2', u'GP': u'9', u'AST': u'3', u'PLAYER': u'Devin Booker', u'TO': u'5', u'AP48M': u'1.7', u'TEAM': u'PHX', u'TOPG': u'0.6', 'POSITION': u'SG', u'APG': u'0.3', u'AST/TO': u'0.60'}, {u'MPG': u'5.7', u'GP': u'6', u'AST': u'2', u'PLAYER': u'Jason Thompson', u'TO': u'3', u'AP48M': u'2.8', u'TEAM': u'GS', u'TOPG': u'0.5', 'POSITION': u'PF', u'APG': u'0.3', u'AST/TO': u'0.67'}, {u'MPG': u'14.3', u'GP': u'6', u'AST': u'2', u'PLAYER': u'Gerald Henderson', u'TO': u'6', u'AP48M': u'1.1', u'TEAM': u'POR', u'TOPG': u'1.0', 'POSITION': u'SG', u'APG': u'0.3', u'AST/TO': u'0.33'}, {u'MPG': u'10.0', u'GP': u'6', u'AST': u'2', u'PLAYER': u'Kelly Oubre Jr.', u'TO': u'3', u'AP48M': u'1.6', u'TEAM': u'WSH', u'TOPG': u'0.5', 'POSITION': u'SF', u'APG': u'0.3', u'AST/TO': u'0.67'}, {u'MPG': u'5.0', u'GP': u'3', u'AST': u'1', u'PLAYER': u'Udonis Haslem', u'TO': u'1', u'AP48M': u'3.2', u'TEAM': u'MIA', u'TOPG': u'0.3', 'POSITION': u'PF', u'APG': u'0.3', u'AST/TO': u'1.00'}, {u'MPG': u'3.0', u'GP': u'3', u'AST': u'1', u'PLAYER': u'Sasha Kaun', u'TO': u'1', u'AP48M': u'5.3', u'TEAM': u'CLE', u'TOPG': u'0.3', 'POSITION': u'C', u'APG': u'0.3', u'AST/TO': u'1.00'}, {u'MPG': u'2.3', u'GP': u'3', u'AST': u'1', u'PLAYER': u'Erick Green', u'TO': u'0', u'AP48M': u'6.9', u'TEAM': u'DEN', u'TOPG': u'0.0', 'POSITION': u'PG', u'APG': u'0.3', u'AST/TO': u'0.00'}, {u'MPG': u'7.7', u'GP': u'13', u'AST': u'4', u'PLAYER': u'James Jones', u'TO': u'3', u'AP48M': u'1.9', u'TEAM': u'CLE', u'TOPG': u'0.2', 'POSITION': u'SG', u'APG': u'0.3', u'AST/TO': u'1.33'}, {u'MPG': u'12.2', u'GP': u'13', u'AST': u'4', u'PLAYER': u'Alexis Ajinca', u'TO': u'9', u'AP48M': u'1.2', u'TEAM': u'NO', u'TOPG': u'0.7', 'POSITION': u'C', u'APG': u'0.3', u'AST/TO': u'0.44'}, {u'MPG': u'8.3', u'GP': u'10', u'AST': u'3', u'PLAYER': u'Trey Lyles', u'TO': u'5', u'AP48M': u'1.7', u'TEAM': u'UTAH', u'TOPG': u'0.5', 'POSITION': u'PF', u'APG': u'0.3', u'AST/TO': u'0.60'}, {u'MPG': u'23.4', u'GP': u'14', u'AST': u'4', u'PLAYER': u'Kosta Koufos', u'TO': u'10', u'AP48M': u'0.6', u'TEAM': u'SAC', u'TOPG': u'0.7', 'POSITION': u'C', u'APG': u'0.3', u'AST/TO': u'0.40'}, {u'MPG': u'19.4', u'GP': u'14', u'AST': u'4', u'PLAYER': u'Willie Cauley-Stein', u'TO': u'12', u'AP48M': u'0.7', u'TEAM': u'SAC', u'TOPG': u'0.9', 'POSITION': u'C', u'APG': u'0.3', u'AST/TO': u'0.33'}, {u'MPG': u'10.3', u'GP': u'7', u'AST': u'2', u'PLAYER': u'Caron Butler', u'TO': u'2', u'AP48M': u'1.3', u'TEAM': u'SAC', u'TOPG': u'0.3', 'POSITION': u'SF', u'APG': u'0.3', u'AST/TO': u'1.00'}, {u'MPG': u'4.7', u'GP': u'7', u'AST': u'2', u'PLAYER': u'Russ Smith', u'TO': u'4', u'AP48M': u'2.9', u'TEAM': u'MEM', u'TOPG': u'0.6', 'POSITION': u'PG', u'APG': u'0.3', u'AST/TO': u'0.50'}, {u'MPG': u'7.2', u'GP': u'11', u'AST': u'3', u'PLAYER': u'Miles Plumlee', u'TO': u'8', u'AP48M': u'1.8', u'TEAM': u'MIL', u'TOPG': u'0.7', 'POSITION': u'C', u'APG': u'0.3', u'AST/TO': u'0.38'}, {u'MPG': u'9.2', u'GP': u'11', u'AST': u'3', u'PLAYER': u'Christian Wood', u'TO': u'2', u'AP48M': u'1.4', u'TEAM': u'PHI', u'TOPG': u'0.2', 'POSITION': u'PF', u'APG': u'0.3', u'AST/TO': u'1.50'}, {u'MPG': u'28.8', u'GP': u'12', u'AST': u'3', u'PLAYER': u'Hassan Whiteside', u'TO': u'27', u'AP48M': u'0.4', u'TEAM': u'MIA', u'TOPG': u'2.3', 'POSITION': u'C', u'APG': u'0.3', u'AST/TO': u'0.11'}, {u'MPG': u'16.3', u'GP': u'12', u'AST': u'3', u'PLAYER': u'Alex Len', u'TO': u'17', u'AP48M': u'0.7', u'TEAM': u'PHX', u'TOPG': u'1.4', 'POSITION': u'C', u'APG': u'0.3', u'AST/TO': u'0.18'}, {u'MPG': u'4.0', u'GP': u'4', u'AST': u'1', u'PLAYER': u'Tyler Hansbrough', u'TO': u'1', u'AP48M': u'3.0', u'TEAM': u'CHA', u'TOPG': u'0.3', 'POSITION': u'PF', u'APG': u'0.3', u'AST/TO': u'1.00'}, {u'MPG': u'3.3', u'GP': u'4', u'AST': u'1', u'PLAYER': u'Jimmer Fredette', u'TO': u'1', u'AP48M': u'3.7', u'TEAM': u'NO', u'TOPG': u'0.3', 'POSITION': u'PG', u'APG': u'0.3', u'AST/TO': u'1.00'}, {u'MPG': u'9.0', u'GP': u'4', u'AST': u'1', u'PLAYER': u'Andrew Nicholson', u'TO': u'1', u'AP48M': u'1.3', u'TEAM': u'ORL', u'TOPG': u'0.3', 'POSITION': u'PF', u'APG': u'0.3', u'AST/TO': u'1.00'}, {u'MPG': u'7.8', u'GP': u'4', u'AST': u'1', u'PLAYER': u'Solomon Hill', u'TO': u'3', u'AP48M': u'1.5', u'TEAM': u'IND', u'TOPG': u'0.8', 'POSITION': u'SF', u'APG': u'0.3', u'AST/TO': u'0.33'}, {u'MPG': u'2.0', u'GP': u'4', u'AST': u'1', u'PLAYER': u'James Ennis', u'TO': u'0', u'AP48M': u'6.0', u'TEAM': u'MIA/MEM', u'TOPG': u'0.0', 'POSITION': u'SF', u'APG': u'0.3', u'AST/TO': u'0.00'}, {u'MPG': u'7.5', u'GP': u'4', u'AST': u'1', u'PLAYER': u'Sergey Karasev', u'TO': u'2', u'AP48M': u'1.6', u'TEAM': u'BKN', u'TOPG': u'0.5', 'POSITION': u'SG', u'APG': u'0.3', u'AST/TO': u'0.50'}, {u'MPG': u'12.0', u'GP': u'13', u'AST': u'3', u'PLAYER': u'Thomas Robinson', u'TO': u'14', u'AP48M': u'0.9', u'TEAM': u'BKN', u'TOPG': u'1.1', 'POSITION': u'PF', u'APG': u'0.2', u'AST/TO': u'0.21'}, {u'MPG': u'4.1', u'GP': u'9', u'AST': u'2', u'PLAYER': u'Mike Miller', u'TO': u'1', u'AP48M': u'2.6', u'TEAM': u'DEN', u'TOPG': u'0.1', 'POSITION': u'SG', u'APG': u'0.2', u'AST/TO': u'2.00'}, {u'MPG': u'7.8', u'GP': u'9', u'AST': u'2', u'PLAYER': u'Kostas Papanikolaou', u'TO': u'3', u'AP48M': u'1.4', u'TEAM': u'DEN', u'TOPG': u'0.3', 'POSITION': u'SF', u'APG': u'0.2', u'AST/TO': u'0.67'}, {u'MPG': u'4.8', u'GP': u'9', u'AST': u'2', u'PLAYER': u'Chris Johnson', u'TO': u'2', u'AP48M': u'2.2', u'TEAM': u'UTAH', u'TOPG': u'0.2', 'POSITION': u'SF', u'APG': u'0.2', u'AST/TO': u'1.00'}, {u'MPG': u'16.9', u'GP': u'14', u'AST': u'3', u'PLAYER': u'Bismack Biyombo', u'TO': u'10', u'AP48M': u'0.6', u'TEAM': u'TOR', u'TOPG': u'0.7', 'POSITION': u'PF', u'APG': u'0.2', u'AST/TO': u'0.30'}, {u'MPG': u'7.4', u'GP': u'10', u'AST': u'2', u'PLAYER': u'Justin Anderson', u'TO': u'5', u'AP48M': u'1.3', u'TEAM': u'DAL', u'TOPG': u'0.5', 'POSITION': u'SG', u'APG': u'0.2', u'AST/TO': u'0.40'}, {u'MPG': u'3.4', u'GP': u'5', u'AST': u'1', u'PLAYER': u'Troy Daniels', u'TO': u'1', u'AP48M': u'2.8', u'TEAM': u'CHA', u'TOPG': u'0.2', 'POSITION': u'SG', u'APG': u'0.2', u'AST/TO': u'1.00'}, {u'MPG': u'6.0', u'GP': u'5', u'AST': u'1', u'PLAYER': u'K.J. McDaniels', u'TO': u'3', u'AP48M': u'1.6', u'TEAM': u'HOU', u'TOPG': u'0.6', 'POSITION': u'SG', u'APG': u'0.2', u'AST/TO': u'0.33'}, {u'MPG': u'3.6', u'GP': u'5', u'AST': u'1', u'PLAYER': u'Cleanthony Early', u'TO': u'0', u'AP48M': u'2.7', u'TEAM': u'NY', u'TOPG': u'0.0', 'POSITION': u'SF', u'APG': u'0.2', u'AST/TO': u'0.00'}, {u'MPG': u'17.0', u'GP': u'12', u'AST': u'2', u'PLAYER': u'Dewayne Dedmon', u'TO': u'9', u'AP48M': u'0.5', u'TEAM': u'ORL', u'TOPG': u'0.8', 'POSITION': u'C', u'APG': u'0.2', u'AST/TO': u'0.22'}, {u'MPG': u'2.8', u'GP': u'6', u'AST': u'1', u'PLAYER': u'Boban Marjanovic', u'TO': u'3', u'AP48M': u'2.8', u'TEAM': u'SA', u'TOPG': u'0.5', 'POSITION': u'C', u'APG': u'0.2', u'AST/TO': u'0.33'}, {u'MPG': u'4.8', u'GP': u'6', u'AST': u'1', u'PLAYER': u'Damjan Rudez', u'TO': u'1', u'AP48M': u'1.7', u'TEAM': u'MIN', u'TOPG': u'0.2', 'POSITION': u'SF', u'APG': u'0.2', u'AST/TO': u'1.00'}, {u'MPG': u'12.8', u'GP': u'13', u'AST': u'2', u'PLAYER': u'Andrea Bargnani', u'TO': u'9', u'AP48M': u'0.6', u'TEAM': u'BKN', u'TOPG': u'0.7', 'POSITION': u'C', u'APG': u'0.2', u'AST/TO': u'0.22'}, {u'MPG': u'10.3', u'GP': u'13', u'AST': u'2', u'PLAYER': u'Montrezl Harrell', u'TO': u'8', u'AP48M': u'0.7', u'TEAM': u'HOU', u'TOPG': u'0.6', 'POSITION': u'PF', u'APG': u'0.2', u'AST/TO': u'0.25'}, {u'MPG': u'11.3', u'GP': u'7', u'AST': u'1', u'PLAYER': u'Tarik Black', u'TO': u'5', u'AP48M': u'0.6', u'TEAM': u'LAL', u'TOPG': u'0.7', 'POSITION': u'C', u'APG': u'0.1', u'AST/TO': u'0.20'}, {u'MPG': u'11.4', u'GP': u'7', u'AST': u'1', u'PLAYER': u'R.J. Hunter', u'TO': u'3', u'AP48M': u'0.6', u'TEAM': u'BOS', u'TOPG': u'0.4', 'POSITION': u'SG', u'APG': u'0.1', u'AST/TO': u'0.33'}, {u'MPG': u'4.4', u'GP': u'8', u'AST': u'1', u'PLAYER': u'Ray McCallum', u'TO': u'3', u'AP48M': u'1.4', u'TEAM': u'SA', u'TOPG': u'0.4', 'POSITION': u'PG', u'APG': u'0.1', u'AST/TO': u'0.33'}, {u'MPG': u'7.3', u'GP': u'8', u'AST': u'1', u'PLAYER': u'Reggie Bullock', u'TO': u'2', u'AP48M': u'0.8', u'TEAM': u'DET', u'TOPG': u'0.3', 'POSITION': u'SF', u'APG': u'0.1', u'AST/TO': u'0.50'}, {u'MPG': u'6.9', u'GP': u'8', u'AST': u'1', u'PLAYER': u'Norman Powell', u'TO': u'3', u'AP48M': u'0.9', u'TEAM': u'TOR', u'TOPG': u'0.4', 'POSITION': u'SG', u'APG': u'0.1', u'AST/TO': u'0.33'}, {u'MPG': u'15.9', u'GP': u'8', u'AST': u'1', u'PLAYER': u'Myles Turner', u'TO': u'6', u'AP48M': u'0.4', u'TEAM': u'IND', u'TOPG': u'0.8', 'POSITION': u'PF', u'APG': u'0.1', u'AST/TO': u'0.17'}, {u'MPG': u'8.4', u'GP': u'8', u'AST': u'1', u'PLAYER': u'Rashad Vaughn', u'TO': u'4', u'AP48M': u'0.7', u'TEAM': u'MIL', u'TOPG': u'0.5', 'POSITION': u'SG', u'APG': u'0.1', u'AST/TO': u'0.25'}, {u'MPG': u'4.9', u'GP': u'10', u'AST': u'1', u'PLAYER': u'Luc Richard Mbah a Moute', u'TO': u'1', u'AP48M': u'1.0', u'TEAM': u'LAC', u'TOPG': u'0.1', 'POSITION': u'PF', u'APG': u'0.1', u'AST/TO': u'1.00'}, {u'MPG': u'9.5', u'GP': u'11', u'AST': u'1', u'PLAYER': u'Jeremy Evans', u'TO': u'5', u'AP48M': u'0.5', u'TEAM': u'DAL', u'TOPG': u'0.5', 'POSITION': u'SF', u'APG': u'0.1', u'AST/TO': u'0.20'}, {u'MPG': u'17.7', u'GP': u'3', u'AST': u'0', u'PLAYER': u'Vince Carter', u'TO': u'4', u'AP48M': u'0.0', u'TEAM': u'MEM', u'TOPG': u'1.3', 'POSITION': u'SG', u'APG': u'0.0', u'AST/TO': u'0.00'}, {u'MPG': u'6.5', u'GP': u'2', u'AST': u'0', u'PLAYER': u'Chris Andersen', u'TO': u'2', u'AP48M': u'0.0', u'TEAM': u'MIA', u'TOPG': u'1.0', 'POSITION': u'PF', u'APG': u'0.0', u'AST/TO': u'0.00'}, {u'MPG': u'0.3', u'GP': u'3', u'AST': u'0', u'PLAYER': u'Matt Bonner', u'TO': u'0', u'AP48M': u'0.0', u'TEAM': u'SA', u'TOPG': u'0.0', 'POSITION': u'C', u'APG': u'0.0', u'AST/TO': u'0.00'}, {u'MPG': u'1.0', u'GP': u'1', u'AST': u'0', u'PLAYER': u'Steve Novak', u'TO': u'0', u'AP48M': u'0.0', u'TEAM': u'OKC', u'TOPG': u'0.0', 'POSITION': u'SF', u'APG': u'0.0', u'AST/TO': u'0.00'}, {u'MPG': u'16.0', u'GP': u'6', u'AST': u'0', u'PLAYER': u'Omer Asik', u'TO': u'7', u'AP48M': u'0.0', u'TEAM': u'NO', u'TOPG': u'1.2', 'POSITION': u'C', u'APG': u'0.0', u'AST/TO': u'0.00'}, {u'MPG': u'8.5', u'GP': u'2', u'AST': u'0', u'PLAYER': u'Jodie Meeks', u'TO': u'1', u'AP48M': u'0.0', u'TEAM': u'DET', u'TOPG': u'0.5', 'POSITION': u'SG', u'APG': u'0.0', u'AST/TO': u'0.00'}, {u'MPG': u'4.7', u'GP': u'3', u'AST': u'0', u'PLAYER': u'Cole Aldrich', u'TO': u'1', u'AP48M': u'0.0', u'TEAM': u'LAC', u'TOPG': u'0.3', 'POSITION': u'C', u'APG': u'0.0', u'AST/TO': u'0.00'}, {u'MPG': u'3.3', u'GP': u'4', u'AST': u'0', u'PLAYER': u'Tibor Pleiss', u'TO': u'1', u'AP48M': u'0.0', u'TEAM': u'UTAH', u'TOPG': u'0.3', 'POSITION': u'C', u'APG': u'0.0', u'AST/TO': u'0.00'}, {u'MPG': u'10.0', u'GP': u'2', u'AST': u'0', u'PLAYER': u'Donald Sloan', u'TO': u'1', u'AP48M': u'0.0', u'TEAM': u'BKN', u'TOPG': u'0.5', 'POSITION': u'PG', u'APG': u'0.0', u'AST/TO': u'0.00'}, {u'MPG': u'14.4', u'GP': u'12', u'AST': u'0', u'PLAYER': u'Kyle Singler', u'TO': u'11', u'AP48M': u'0.0', u'TEAM': u'OKC', u'TOPG': u'0.9', 'POSITION': u'SF', u'APG': u'0.0', u'AST/TO': u'0.00'}, {u'MPG': u'4.0', u'GP': u'1', u'AST': u'0', u'PLAYER': u'Robert Sacre', u'TO': u'1', u'AP48M': u'0.0', u'TEAM': u'LAL', u'TOPG': u'1.0', 'POSITION': u'C', u'APG': u'0.0', u'AST/TO': u'0.00'}, {u'MPG': u'8.4', u'GP': u'5', u'AST': u'0', u'PLAYER': u'Jeff Withey', u'TO': u'1', u'AP48M': u'0.0', u'TEAM': u'UTAH', u'TOPG': u'0.2', 'POSITION': u'C', u'APG': u'0.0', u'AST/TO': u'0.00'}, {u'MPG': u'5.0', u'GP': u'1', u'AST': u'0', u'PLAYER': u'Cory Jefferson', u'TO': u'0', u'AP48M': u'0.0', u'TEAM': u'PHX', u'TOPG': u'0.0', 'POSITION': u'PF', u'APG': u'0.0', u'AST/TO': u'0.00'}, {u'MPG': u'2.0', u'GP': u'1', u'AST': u'0', u'PLAYER': u'Shayne Whittington', u'TO': u'2', u'AP48M': u'0.0', u'TEAM': u'IND', u'TOPG': u'2.0', 'POSITION': u'PF', u'APG': u'0.0', u'AST/TO': u'0.00'}, {u'MPG': u'3.5', u'GP': u'2', u'AST': u'0', u'PLAYER': u'Devyn Marble', u'TO': u'0', u'AP48M': u'0.0', u'TEAM': u'ORL', u'TOPG': u'0.0', 'POSITION': u'SF', u'APG': u'0.0', u'AST/TO': u'0.00'}, {u'MPG': u'5.0', u'GP': u'2', u'AST': u'0', u'PLAYER': u'Cameron Bairstow', u'TO': u'0', u'AP48M': u'0.0', u'TEAM': u'CHI', u'TOPG': u'0.0', 'POSITION': u'PF', u'APG': u'0.0', u'AST/TO': u'0.00'}, {u'MPG': u'3.7', u'GP': u'3', u'AST': u'0', u'PLAYER': u'Eric Moreland', u'TO': u'0', u'AP48M': u'0.0', u'TEAM': u'SAC', u'TOPG': u'0.0', 'POSITION': u'PF', u'APG': u'0.0', u'AST/TO': u'0.00'}, {u'MPG': u'3.0', u'GP': u'3', u'AST': u'0', u'PLAYER': u'Anthony Brown', u'TO': u'0', u'AP48M': u'0.0', u'TEAM': u'LAL', u'TOPG': u'0.0', 'POSITION': u'SF', u'APG': u'0.0', u'AST/TO': u'0.00'}, {u'MPG': u'2.0', u'GP': u'4', u'AST': u'0', u'PLAYER': u'Pat Connaughton', u'TO': u'1', u'AP48M': u'0.0', u'TEAM': u'POR', u'TOPG': u'0.3', 'POSITION': u'SG', u'APG': u'0.0', u'AST/TO': u'0.00'}, {u'MPG': u'2.0', u'GP': u'2', u'AST': u'0', u'PLAYER': u'Jarnell Stokes', u'TO': u'0', u'AP48M': u'0.0', u'TEAM': u'MEM', u'TOPG': u'0.0', 'POSITION': u'PF', u'APG': u'0.0', u'AST/TO': u'0.00'}, {u'MPG': u'4.0', u'GP': u'5', u'AST': u'0', u'PLAYER': u'Salah Mejri', u'TO': u'1', u'AP48M': u'0.0', u'TEAM': u'DAL', u'TOPG': u'0.2', 'POSITION': u'C', u'APG': u'0.0', u'AST/TO': u'0.00'}, {u'MPG': u'2.0', u'GP': u'3', u'AST': u'0', u'PLAYER': u'Sam Dekker', u'TO': u'0', u'AP48M': u'0.0', u'TEAM': u'HOU', u'TOPG': u'0.0', 'POSITION': u'SF', u'APG': u'0.0', u'AST/TO': u'0.00'}, {u'MPG': u'6.1', u'GP': u'7', u'AST': u'0', u'PLAYER': u'Anthony Bennett', u'TO': u'4', u'AP48M': u'0.0', u'TEAM': u'TOR', u'TOPG': u'0.6', 'POSITION': u'PF', u'APG': u'0.0', u'AST/TO': u'0.00'}, {u'MPG': u'2.5', u'GP': u'2', u'AST': u'0', u'PLAYER': u'Lucas Nogueira', u'TO': u'0', u'AP48M': u'0.0', u'TEAM': u'TOR', u'TOPG': u'0.0', 'POSITION': u'C', u'APG': u'0.0', u'AST/TO': u'0.00'}, {u'MPG': u'1.0', u'GP': u'2', u'AST': u'0', u'PLAYER': u'Walter Tavares', u'TO': u'0', u'AP48M': u'0.0', u'TEAM': u'ATL', u'TOPG': u'0.0', 'POSITION': u'C', u'APG': u'0.0', u'AST/TO': u'0.00'}, {u'MPG': u'2.5', u'GP': u'4', u'AST': u'0', u'PLAYER': u'Delon Wright', u'TO': u'1', u'AP48M': u'0.0', u'TEAM': u'TOR', u'TOPG': u'0.3', 'POSITION': u'PG', u'APG': u'0.0', u'AST/TO': u'0.00'}, {u'MPG': u'1.0', u'GP': u'1', u'AST': u'0', u'PLAYER': u'James Young', u'TO': u'0', u'AP48M': u'0.0', u'TEAM': u'BOS', u'TOPG': u'0.0', 'POSITION': u'SG', u'APG': u'0.0', u'AST/TO': u'0.00'}, {u'MPG': u'2.0', u'GP': u'1', u'AST': u'0', u'PLAYER': u'Aaron Harrison', u'TO': u'0', u'AP48M': u'0.0', u'TEAM': u'CHA', u'TOPG': u'0.0', 'POSITION': u'SG', u'APG': u'0.0', u'AST/TO': u'0.00'}, {u'MPG': u'1.0', u'GP': u'1', u'AST': u'0', u'PLAYER': u'Bruno Caboclo', u'TO': u'0', u'AP48M': u'0.0', u'TEAM': u'TOR', u'TOPG': u'0.0', 'POSITION': u'SF', u'APG': u'0.0', u'AST/TO': u'0.00'}, {u'MPG': u'6.8', u'GP': u'4', u'AST': u'0', u'PLAYER': u'Cliff Alexander', u'TO': u'0', u'AP48M': u'0.0', u'TEAM': u'POR', u'TOPG': u'0.0', 'POSITION': u'PF', u'APG': u'0.0', u'AST/TO': u'0.00'}, {u'MPG': u'3.0', u'GP': u'2', u'AST': u'0', u'PLAYER': u'Luis Montero', u'TO': u'1', u'AP48M': u'0.0', u'TEAM': u'POR', u'TOPG': u'0.5', 'POSITION': u'SG', u'APG': u'0.0', u'AST/TO': u'0.00'}]\n"
     ]
    }
   ],
   "source": [
    "#See what the new dictionary looks like.\n",
    "print players_stats_dicts"
   ]
  },
  {
   "cell_type": "code",
   "execution_count": 27,
   "metadata": {
    "collapsed": false
   },
   "outputs": [
    {
     "data": {
      "text/html": [
       "<div>\n",
       "<table border=\"1\" class=\"dataframe\">\n",
       "  <thead>\n",
       "    <tr style=\"text-align: right;\">\n",
       "      <th></th>\n",
       "      <th>AP48M</th>\n",
       "      <th>APG</th>\n",
       "      <th>AST</th>\n",
       "      <th>AST/TO</th>\n",
       "      <th>GP</th>\n",
       "      <th>MPG</th>\n",
       "      <th>PLAYER</th>\n",
       "      <th>POSITION</th>\n",
       "      <th>TEAM</th>\n",
       "      <th>TO</th>\n",
       "      <th>TOPG</th>\n",
       "    </tr>\n",
       "  </thead>\n",
       "  <tbody>\n",
       "    <tr>\n",
       "      <th>0</th>\n",
       "      <td>13.9</td>\n",
       "      <td>10.2</td>\n",
       "      <td>132</td>\n",
       "      <td>2.06</td>\n",
       "      <td>13</td>\n",
       "      <td>35.2</td>\n",
       "      <td>Russell Westbrook</td>\n",
       "      <td>PG</td>\n",
       "      <td>OKC</td>\n",
       "      <td>64</td>\n",
       "      <td>4.9</td>\n",
       "    </tr>\n",
       "    <tr>\n",
       "      <th>1</th>\n",
       "      <td>13.5</td>\n",
       "      <td>10.1</td>\n",
       "      <td>142</td>\n",
       "      <td>2.63</td>\n",
       "      <td>14</td>\n",
       "      <td>36.0</td>\n",
       "      <td>Rajon Rondo</td>\n",
       "      <td>PG</td>\n",
       "      <td>SAC</td>\n",
       "      <td>54</td>\n",
       "      <td>3.9</td>\n",
       "    </tr>\n",
       "    <tr>\n",
       "      <th>2</th>\n",
       "      <td>13.2</td>\n",
       "      <td>8.4</td>\n",
       "      <td>76</td>\n",
       "      <td>4.00</td>\n",
       "      <td>9</td>\n",
       "      <td>30.8</td>\n",
       "      <td>Ricky Rubio</td>\n",
       "      <td>PG</td>\n",
       "      <td>MIN</td>\n",
       "      <td>19</td>\n",
       "      <td>2.1</td>\n",
       "    </tr>\n",
       "    <tr>\n",
       "      <th>3</th>\n",
       "      <td>12.3</td>\n",
       "      <td>8.4</td>\n",
       "      <td>84</td>\n",
       "      <td>2.05</td>\n",
       "      <td>10</td>\n",
       "      <td>32.7</td>\n",
       "      <td>John Wall</td>\n",
       "      <td>PG</td>\n",
       "      <td>WSH</td>\n",
       "      <td>41</td>\n",
       "      <td>4.1</td>\n",
       "    </tr>\n",
       "    <tr>\n",
       "      <th>4</th>\n",
       "      <td>12.0</td>\n",
       "      <td>8.0</td>\n",
       "      <td>72</td>\n",
       "      <td>3.00</td>\n",
       "      <td>9</td>\n",
       "      <td>32.0</td>\n",
       "      <td>Chris Paul</td>\n",
       "      <td>PG</td>\n",
       "      <td>LAC</td>\n",
       "      <td>24</td>\n",
       "      <td>2.7</td>\n",
       "    </tr>\n",
       "  </tbody>\n",
       "</table>\n",
       "</div>"
      ],
      "text/plain": [
       "  AP48M   APG  AST AST/TO  GP   MPG             PLAYER POSITION TEAM  TO TOPG\n",
       "0  13.9  10.2  132   2.06  13  35.2  Russell Westbrook       PG  OKC  64  4.9\n",
       "1  13.5  10.1  142   2.63  14  36.0        Rajon Rondo       PG  SAC  54  3.9\n",
       "2  13.2   8.4   76   4.00   9  30.8        Ricky Rubio       PG  MIN  19  2.1\n",
       "3  12.3   8.4   84   2.05  10  32.7          John Wall       PG  WSH  41  4.1\n",
       "4  12.0   8.0   72   3.00   9  32.0         Chris Paul       PG  LAC  24  2.7"
      ]
     },
     "execution_count": 27,
     "metadata": {},
     "output_type": "execute_result"
    }
   ],
   "source": [
    "#Create a second dataframe with assist stats\n",
    "df2 = pd.DataFrame.from_dict(players_stats_dicts)\n",
    "df2.head()"
   ]
  },
  {
   "cell_type": "code",
   "execution_count": 30,
   "metadata": {
    "collapsed": false
   },
   "outputs": [
    {
     "data": {
      "text/html": [
       "<div>\n",
       "<table border=\"1\" class=\"dataframe\">\n",
       "  <thead>\n",
       "    <tr style=\"text-align: right;\">\n",
       "      <th></th>\n",
       "      <th>3P%</th>\n",
       "      <th>3PM-3PA</th>\n",
       "      <th>FG%</th>\n",
       "      <th>FGM-FGA</th>\n",
       "      <th>FT%</th>\n",
       "      <th>FTM-FTA</th>\n",
       "      <th>GP_x</th>\n",
       "      <th>MPG_x</th>\n",
       "      <th>PLAYER</th>\n",
       "      <th>POSITION</th>\n",
       "      <th>...</th>\n",
       "      <th>TEAM_x</th>\n",
       "      <th>AP48M</th>\n",
       "      <th>APG</th>\n",
       "      <th>AST</th>\n",
       "      <th>AST/TO</th>\n",
       "      <th>GP_y</th>\n",
       "      <th>MPG_y</th>\n",
       "      <th>TEAM_y</th>\n",
       "      <th>TO</th>\n",
       "      <th>TOPG</th>\n",
       "    </tr>\n",
       "  </thead>\n",
       "  <tbody>\n",
       "    <tr>\n",
       "      <th>0</th>\n",
       "      <td>.441</td>\n",
       "      <td>5.1-11.5</td>\n",
       "      <td>.515</td>\n",
       "      <td>11.1-21.5</td>\n",
       "      <td>.938</td>\n",
       "      <td>6.4-6.9</td>\n",
       "      <td>14</td>\n",
       "      <td>35.6</td>\n",
       "      <td>Stephen Curry</td>\n",
       "      <td>PG</td>\n",
       "      <td>...</td>\n",
       "      <td>GS</td>\n",
       "      <td>7.6</td>\n",
       "      <td>5.6</td>\n",
       "      <td>79</td>\n",
       "      <td>1.46</td>\n",
       "      <td>14</td>\n",
       "      <td>35.6</td>\n",
       "      <td>GS</td>\n",
       "      <td>54</td>\n",
       "      <td>3.9</td>\n",
       "    </tr>\n",
       "    <tr>\n",
       "      <th>1</th>\n",
       "      <td>.329</td>\n",
       "      <td>1.9-5.8</td>\n",
       "      <td>.459</td>\n",
       "      <td>9.8-21.5</td>\n",
       "      <td>.811</td>\n",
       "      <td>6.9-8.5</td>\n",
       "      <td>13</td>\n",
       "      <td>35.2</td>\n",
       "      <td>Russell Westbrook</td>\n",
       "      <td>PG</td>\n",
       "      <td>...</td>\n",
       "      <td>OKC</td>\n",
       "      <td>13.9</td>\n",
       "      <td>10.2</td>\n",
       "      <td>132</td>\n",
       "      <td>2.06</td>\n",
       "      <td>13</td>\n",
       "      <td>35.2</td>\n",
       "      <td>OKC</td>\n",
       "      <td>64</td>\n",
       "      <td>4.9</td>\n",
       "    </tr>\n",
       "    <tr>\n",
       "      <th>2</th>\n",
       "      <td>.447</td>\n",
       "      <td>2.6-5.9</td>\n",
       "      <td>.503</td>\n",
       "      <td>9.6-19.1</td>\n",
       "      <td>.893</td>\n",
       "      <td>6.3-7.0</td>\n",
       "      <td>8</td>\n",
       "      <td>34.8</td>\n",
       "      <td>Kevin Durant</td>\n",
       "      <td>SF</td>\n",
       "      <td>...</td>\n",
       "      <td>OKC</td>\n",
       "      <td>4.1</td>\n",
       "      <td>3.0</td>\n",
       "      <td>24</td>\n",
       "      <td>1.33</td>\n",
       "      <td>8</td>\n",
       "      <td>34.8</td>\n",
       "      <td>OKC</td>\n",
       "      <td>18</td>\n",
       "      <td>2.3</td>\n",
       "    </tr>\n",
       "    <tr>\n",
       "      <th>3</th>\n",
       "      <td>.271</td>\n",
       "      <td>2.5-9.2</td>\n",
       "      <td>.380</td>\n",
       "      <td>7.8-20.5</td>\n",
       "      <td>.885</td>\n",
       "      <td>9.9-11.1</td>\n",
       "      <td>14</td>\n",
       "      <td>38.9</td>\n",
       "      <td>James Harden</td>\n",
       "      <td>SG</td>\n",
       "      <td>...</td>\n",
       "      <td>HOU</td>\n",
       "      <td>7.9</td>\n",
       "      <td>6.4</td>\n",
       "      <td>90</td>\n",
       "      <td>1.34</td>\n",
       "      <td>14</td>\n",
       "      <td>38.9</td>\n",
       "      <td>HOU</td>\n",
       "      <td>67</td>\n",
       "      <td>4.8</td>\n",
       "    </tr>\n",
       "    <tr>\n",
       "      <th>4</th>\n",
       "      <td>.389</td>\n",
       "      <td>1.6-4.0</td>\n",
       "      <td>.430</td>\n",
       "      <td>8.6-19.9</td>\n",
       "      <td>.779</td>\n",
       "      <td>9.0-11.6</td>\n",
       "      <td>9</td>\n",
       "      <td>33.1</td>\n",
       "      <td>DeMarcus Cousins</td>\n",
       "      <td>PF</td>\n",
       "      <td>...</td>\n",
       "      <td>SAC</td>\n",
       "      <td>3.9</td>\n",
       "      <td>2.7</td>\n",
       "      <td>24</td>\n",
       "      <td>0.83</td>\n",
       "      <td>9</td>\n",
       "      <td>33.1</td>\n",
       "      <td>SAC</td>\n",
       "      <td>29</td>\n",
       "      <td>3.2</td>\n",
       "    </tr>\n",
       "  </tbody>\n",
       "</table>\n",
       "<p>5 rows × 21 columns</p>\n",
       "</div>"
      ],
      "text/plain": [
       "    3P%   3PM-3PA   FG%    FGM-FGA   FT%   FTM-FTA GP_x MPG_x  \\\n",
       "0  .441  5.1-11.5  .515  11.1-21.5  .938   6.4-6.9   14  35.6   \n",
       "1  .329   1.9-5.8  .459   9.8-21.5  .811   6.9-8.5   13  35.2   \n",
       "2  .447   2.6-5.9  .503   9.6-19.1  .893   6.3-7.0    8  34.8   \n",
       "3  .271   2.5-9.2  .380   7.8-20.5  .885  9.9-11.1   14  38.9   \n",
       "4  .389   1.6-4.0  .430   8.6-19.9  .779  9.0-11.6    9  33.1   \n",
       "\n",
       "              PLAYER POSITION ...  TEAM_x AP48M   APG  AST AST/TO GP_y MPG_y  \\\n",
       "0      Stephen Curry       PG ...      GS   7.6   5.6   79   1.46   14  35.6   \n",
       "1  Russell Westbrook       PG ...     OKC  13.9  10.2  132   2.06   13  35.2   \n",
       "2       Kevin Durant       SF ...     OKC   4.1   3.0   24   1.33    8  34.8   \n",
       "3       James Harden       SG ...     HOU   7.9   6.4   90   1.34   14  38.9   \n",
       "4   DeMarcus Cousins       PF ...     SAC   3.9   2.7   24   0.83    9  33.1   \n",
       "\n",
       "  TEAM_y  TO TOPG  \n",
       "0     GS  54  3.9  \n",
       "1    OKC  64  4.9  \n",
       "2    OKC  18  2.3  \n",
       "3    HOU  67  4.8  \n",
       "4    SAC  29  3.2  \n",
       "\n",
       "[5 rows x 21 columns]"
      ]
     },
     "execution_count": 30,
     "metadata": {},
     "output_type": "execute_result"
    }
   ],
   "source": [
    "#Merge data frames\n",
    "df3 = pd.DataFrame.merge(df, df2, on=['PLAYER', 'POSITION'], how='inner')\n",
    "df3.head()"
   ]
  },
  {
   "cell_type": "code",
   "execution_count": null,
   "metadata": {
    "collapsed": true
   },
   "outputs": [],
   "source": []
  }
 ],
 "metadata": {
  "kernelspec": {
   "display_name": "Python 2",
   "language": "python",
   "name": "python2"
  },
  "language_info": {
   "codemirror_mode": {
    "name": "ipython",
    "version": 2
   },
   "file_extension": ".py",
   "mimetype": "text/x-python",
   "name": "python",
   "nbconvert_exporter": "python",
   "pygments_lexer": "ipython2",
   "version": "2.7.10"
  }
 },
 "nbformat": 4,
 "nbformat_minor": 0
}
