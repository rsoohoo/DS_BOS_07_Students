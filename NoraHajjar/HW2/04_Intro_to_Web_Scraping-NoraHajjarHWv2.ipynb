{
 "cells": [
  {
   "cell_type": "markdown",
   "metadata": {},
   "source": [
    "# Web Scraping with Beautiful Soup\n",
    "\n",
    "This tutorial will provide a very basic introduction to using the Beautiful Soup package to scrape text data from the web. \n",
    "\n",
    "## Installation\n",
    "\n",
    "In a terminal, install Beautiful Soup if necessary by running <pre><code>conda install beautiful-soup</code></pre>\n",
    "\n",
    "## Retrieving HTML\n",
    "\n",
    "The general idea behind web scraping is to retrieve data that exists on a website, and convert it into a format that is usable for analysis. Webpages are rendered by the brower from HTML and CSS code, but much of the information included in the HTML underlying any website is not interesting to us.\n",
    "\n",
    "We begin by reading in the source code for a given web page and creating a Beautiful Soup object with the BeautifulSoup function.\n",
    "\n",
    "### urllib2\n",
    "urllib2 is a module for working with urls, we will use it to open connections to urls and retrieve the webpage source."
   ]
  },
  {
   "cell_type": "code",
   "execution_count": 2,
   "metadata": {
    "collapsed": false
   },
   "outputs": [
    {
     "name": "stdout",
     "output_type": "stream",
     "text": [
      "<class 'bs4.BeautifulSoup'>\n"
     ]
    }
   ],
   "source": [
    "from bs4 import BeautifulSoup\n",
    "import urllib2\n",
    "page = urllib2.urlopen('http://espn.go.com/nba/statistics/player/_/stat/scoring-per-game/sort/avgPoints/qualified/false').read()\n",
    "soup = BeautifulSoup(page)\n",
    "print type(soup)"
   ]
  },
  {
   "cell_type": "markdown",
   "metadata": {},
   "source": [
    "The soup object contains all of the HTML in the original document."
   ]
  },
  {
   "cell_type": "code",
   "execution_count": 3,
   "metadata": {
    "collapsed": false
   },
   "outputs": [
    {
     "data": {
      "text/plain": [
       "u'<!DOCTYPE html>\\n<html xmlns:fb=\"http://www.facebook.com/2008/fbml\">\\n <head>\\n  <script src=\"http://sports-ak.espn.go.com/sports/optimizely.js\">\\n  </script>\\n  <meta charset=\"utf-8\"/>\\n  <meta content=\"IE=edge,chrome=1\" http-equiv=\"X-UA-Compatible\"/>\\n  <link href=\"http://a.espncdn.com/prod/assets/icons/E.svg\" mask=\"\" rel=\"icon\" sizes=\"any\"/>\\n  <meta content=\"#CC0000\" name=\"theme-color\"/>\\n  <script type=\"text/javascript\">\\n   if(true && navigator && navigator.userAgent.toLowerCase().indexOf(\"teamstream\") >= 0) {\\n        window.location = \\'http://a.m.espn.go.com/mobilecache/general/apps/sc\\';\\n    }\\n  </script>\\n  <title>\\n   2015-16 Regular Season NBA Player Stats and League Leaders - Scoring Per Game - National Basketball Association - ESPN\\n  </title>\\n  <meta content=\"xuj1ODRluWa0frM-BjIr_aSHoUC7HB5C1MgmYAM_GkA\" name=\"google-site-verification\"/>\\n  <meta content=\"B1FEB7C682C46C8FCDA3130F3D18AC28\" name=\"msvalidate.01\"/>\\n  <meta content=\"noodp\" name=\"googlebot\"/>\\n  <meta content=\"index, follow\" na'"
      ]
     },
     "execution_count": 3,
     "metadata": {},
     "output_type": "execute_result"
    }
   ],
   "source": [
    "soup.prettify()[0:1000]"
   ]
  },
  {
   "cell_type": "markdown",
   "metadata": {},
   "source": [
    "## Parsing HTML\n",
    "\n",
    "By \"parsing HTML\", we mean pulling out only the relevant tags/attributes for our analysis.  What Beautiful Soup does is provide a handy bunch of methods for doing this efficiently.\n",
    "\n",
    "### find method\n",
    "\n",
    "The find method will search for and return the first tag matching your corresponding search criteria, if it exists.  You can specify tag and attribute info etc.  There is also a findAll method that will return a collection of tags matching your query."
   ]
  },
  {
   "cell_type": "code",
   "execution_count": 4,
   "metadata": {
    "collapsed": false
   },
   "outputs": [
    {
     "name": "stdout",
     "output_type": "stream",
     "text": [
      "<div class=\"col-main\" id=\"my-players-table\">\n",
      " <div class=\"mod-container mod-table\">\n",
      "  <div class=\"mod-header stathead\">\n",
      "   <h4>\n",
      "    Points Per Game Leaders - All Players\n",
      "   </h4>\n",
      "  </div>\n",
      "  <div class=\"mod-content\">\n",
      "   <table cellpadding=\"3\" cellspacing=\"1\" class=\"tablehead\">\n",
      "    <tr align=\"right\" class=\"colhead\">\n",
      "     <td align=\"left\" style=\"width:20px;\">\n",
      "      RK\n",
      "     </td>\n",
      "     <td align=\"left\">\n",
      "      PLAYER\n",
      "     </td>\n",
      "     <td align=\"left\">\n",
      "      TEAM\n",
      "     </td>\n",
      "     <td>\n",
      "      <a href=\"http://espn.go.com/nba/statistics/player/_/stat/scoring-per-game/sort/gamesPlayed/qualified/false\" title=\"Games Played\">\n",
      "       GP\n",
      "      </a>\n",
      "     </td>\n",
      "     <td>\n",
      "      <a href=\"http://espn.go.com/nba/statistics/player/_/stat/scoring-per-game/sort/avgMinutes/qualified/false\" title=\"Minutes Per Game\">\n",
      "       MPG\n",
      "      </a>\n",
      "     </td>\n",
      "     <td>\n",
      "      <a href=\"http://espn.go.com/nba/statistics/player/_/stat/scoring-per-game/sort/avgPoints/qualified/false/order/false\" title=\"Points Per Game\">\n",
      "       PTS\n",
      "      </a>\n",
      "     </td>\n",
      "     <td>\n",
      "      <span title=\"Field Goals Made-Attempted Per Game\">\n",
      "       FGM-FGA\n",
      "      </span>\n",
      "     </td>\n",
      "     <td>\n",
      "      <a href=\"http://espn.go.com/nba/statistics/player/_/stat/scoring-per-game/sort/fieldGoalPct/qualified/false\" title=\"Field Goal Percentage\">\n",
      "       FG%\n",
      "      </a>\n",
      "     </td>\n",
      "     <td>\n",
      "      <span title=\"3-Point Field Goals Made-Attempted Per Game\">\n",
      "       3PM-3PA\n",
      "      </span>\n",
      "     </td>\n",
      "     <td>\n",
      "      <a href=\"http://espn.go.com/nba/statistics/player/_/stat/scoring-per-game/sort/threePointFieldGoalPct/qualified/false\" title=\"3-Point Field Goal Percentage\">\n",
      "       3P%\n",
      "      </a>\n",
      "     </td>\n",
      "     <td>\n",
      "      <span title=\"Free Throws Made-Attempted Per Game\">\n",
      "       FTM-FTA\n",
      "      </span>\n",
      "     </td>\n",
      "     <td>\n",
      "      <a href=\"http://espn.go.com/nba/statistics/player/_/stat/scoring-per-game/sort/freeThrowPct/qualified/false\" title=\"Free Throws Percentage\">\n",
      "       FT%\n",
      "      </a>\n",
      "     </td>\n",
      "    </tr>\n",
      "    <tr align=\"right\" class=\"oddrow player-46-3975\">\n",
      "     <td align=\"left\">\n",
      "      1\n",
      "     </td>\n",
      "     <td align=\"left\">\n",
      "      <a href=\"http://espn.go.com/nba/player/_/id/3975/stephen-curry\">\n",
      "       Stephen Curry\n",
      "      </a>\n",
      "      , PG\n",
      "     </td>\n",
      "     <td align=\"left\">\n",
      "      GS\n",
      "     </td>\n",
      "     <td>\n",
      "      11\n",
      "     </td>\n",
      "     <td>\n",
      "      35.1\n",
      "     </td>\n",
      "     <td class=\"sortcell\">\n",
      "      33.4\n",
      "     </td>\n",
      "     <td>\n",
      "      11.1-21.5\n",
      "     </td>\n",
      "     <td>\n",
      "      .517\n",
      "     </td>\n",
      "     <td>\n",
      "      5.2-11.5\n",
      "     </td>\n",
      "     <td>\n",
      "      .452\n",
      "     </td>\n",
      "     <td>\n",
      "      6.0-6.5\n",
      "     </td>\n",
      "     <td>\n",
      "      .930\n",
      "     </td>\n",
      "    </tr>\n",
      "    <tr align=\"right\" class=\"evenrow player-46-3992\">\n",
      "     <td align=\"left\">\n",
      "      2\n",
      "     </td>\n",
      "     <td align=\"left\">\n",
      "      <a href=\"http://espn.go.com/nba/player/_/id/3992/james-harden\">\n",
      "       James Harden\n",
      "      </a>\n",
      "      , SG\n",
      "     </td>\n",
      "     <td align=\"left\">\n",
      "      HOU\n",
      "     </td>\n",
      "     <td>\n",
      "      10\n",
      "     </td>\n",
      "     <td>\n",
      "      39.4\n",
      "     </td>\n",
      "     <td class=\"sortcell\">\n",
      "      28.4\n",
      "     </td>\n",
      "     <td>\n",
      "      7.9-21.3\n",
      "     </td>\n",
      "     <td>\n",
      "      .371\n",
      "     </td>\n",
      "     <td>\n",
      "      2.3-9.6\n",
      "     </td>\n",
      "     <td>\n",
      "      .240\n",
      "     </td>\n",
      "     <td>\n",
      "      10.3-11.9\n",
      "     </td>\n",
      "     <td>\n",
      "      .866\n",
      "     </td>\n",
      "    </tr>\n",
      "    <tr align=\"right\" class=\"oddrow player-46-3202\">\n",
      "     <td align=\"left\">\n",
      "      3\n",
      "     </td>\n",
      "     <td align=\"left\">\n",
      "      <a href=\"http://espn.go.com/nba/player/_/id/3202/kevin-durant\">\n",
      "       Kevin Durant\n",
      "      </a>\n",
      "      , SF\n",
      "     </td>\n",
      "     <td align=\"left\">\n",
      "      OKC\n",
      "     </td>\n",
      "     <td>\n",
      "      8\n",
      "     </td>\n",
      "     <td>\n",
      "      34.8\n",
      "     </td>\n",
      "     <td class=\"sortcell\">\n",
      "      28.1\n",
      "     </td>\n",
      "     <td>\n",
      "      9.6-19.1\n",
      "     </td>\n",
      "     <td>\n",
      "      .503\n",
      "     </td>\n",
      "     <td>\n",
      "      2.6-5.9\n",
      "     </td>\n",
      "     <td>\n",
      "      .447\n",
      "     </td>\n",
      "     <td>\n",
      "      6.3-7.0\n",
      "     </td>\n",
      "     <td>\n",
      "      .893\n",
      "     </td>\n",
      "    </tr>\n",
      "    <tr align=\"right\" class=\"evenrow player-46-1966\">\n",
      "     <td align=\"left\">\n",
      "      4\n",
      "     </td>\n",
      "     <td align=\"left\">\n",
      "      <a href=\"http://espn.go.com/nba/player/_/id/1966/lebron-james\">\n",
      "       LeBron James\n",
      "      </a>\n",
      "   \n"
     ]
    }
   ],
   "source": [
    "table_div = soup.find(id='my-players-table')\n",
    "print table_div.prettify()[0:4000]"
   ]
  },
  {
   "cell_type": "markdown",
   "metadata": {},
   "source": [
    "Notice that the object returned by the find method is just another inner HTML structure, which we can step through just like we would have with the original soup object.  We've gone to the location in the webpage where the table that we seek starts, now we can use find again to get to the table data."
   ]
  },
  {
   "cell_type": "code",
   "execution_count": 5,
   "metadata": {
    "collapsed": false
   },
   "outputs": [
    {
     "name": "stdout",
     "output_type": "stream",
     "text": [
      "<table cellpadding=\"3\" cellspacing=\"1\" class=\"tablehead\">\n",
      "<tr align=\"right\" class=\"colhead\"><td align=\"left\" style=\"width:20px;\">RK</td><td align=\"left\">PLAYER</td><td align=\"left\">TEAM</td><td><a href=\"http://espn.go.com/nba/statistics/player/_/stat/scoring-per-game/sort/gamesPlayed/qualified/false\" title=\"Games Played\">GP</a></td><td><a href=\"http://espn.go.com/nba/statistics/player/_/stat/scoring-per-game/sort/avgMinutes/qualified/false\" title=\"Minutes Per Game\">MPG</a></td><td><a href=\"http://espn.go.com/nba/statistics/player/_/stat/scoring-per-game/sort/avgPoints/qualified/false/order/false\" title=\"Points Per Game\">PTS</a></td><td><span title=\"Field Goals Made-Attempted Per Game\">FGM-FGA</span></td><td><a href=\"http://espn.go.com/nba/statistics/player/_/stat/scoring-per-game/sort/fieldGoalPct/qualified/false\" title=\"Field Goal Percentage\">FG%</a></td><td><span title=\"3-Point Field Goals Made-Attempted Per Game\">3PM-3PA</span></td><td><a href=\"http://espn.go.com/nba/statistics/player/_/stat/scoring-per-game/sort/threePointFieldGoalPct/qualified/false\" title=\"3-Point Field Goal Percentage\">3P%</a></td><td><span title=\"Free Throws Made-Attempted Per Game\">FTM-FTA</span></td><td><a href=\"http://espn.go.com/nba/statistics/player/_/stat/scoring-per-game/sort/freeThrowPct/qualified/false\" title=\"Free Throws Percentage\">FT%</a></td></tr><tr align=\"right\" class=\"oddrow player-46-3975\"><td align=\"left\">1</td><td align=\"left\"><a href=\"http://espn.go.com/nba/player/_/id/3975/stephen-curry\">Stephen Curry</a>, PG</td><td align=\"left\">GS</td><td>11</td><td>35.1</td><td class=\"sortcell\">33.4</td><td>11.1-21.5</td><td>.517</td><td>5.2-11.5</td><td>.452</td><td>6.0-6.5</td><td>.930</td></tr><tr align=\"right\" class=\"evenrow player-46-3992\"><td align=\"left\">2</td><td align=\"left\"><a href=\"http://espn.go.com/nba/player/_/id/3992/james-harden\">James Harden</a>, SG</td><td align=\"left\">HOU</td><td>10</td><td>39.4</td><td class=\"sortcell\">28.4</td><td>7.9-21.3</td><td>.371</td><td>2.3-9.6</td><td>.240</td><td>10.3-11.9</td><td>.866</td></tr><tr align=\"right\" class=\"oddrow player-46-3202\"><td align=\"left\">3</td><td align=\"left\"><a href=\"http://espn.go.com/nba/player/_/id/3202/kevin-durant\">Kevin Durant</a>, SF</td><td align=\"left\">OKC</td><td>8</td><td>34.8</td><td class=\"sortcell\">28.1</td><td>9.6-19.1</td><td>.503</td><td>2.6-5.9</td><td>.447</td><td>6.3-7.0</td><td>.893</td></tr><tr align=\"right\" class=\"evenrow player-46-1966\"><td align=\"left\">4</td><td align=\"left\"><a href=\"http://espn.go.com/nba/player/_/id/1966/lebron-james\">LeBron James</a>, SF</td><td align=\"left\">CLE</td><td>10</td><td>36.3</td><td class=\"sortcell\">27.0</td><td>10.5-20.8</td><td>.505</td><td>1.1-4.2</td><td>.262</td><td>4.9-8.1</td><td>.605</td></tr><tr align=\"right\" class=\"oddrow player-46-4258\"><td align=\"left\">5</td><td align=\"left\"><a href=\"http://espn.go.com/nba/player/_/id/4258/demarcus-cousins\">DeMarcus Cousins</a>, PF</td><td align=\"left\">SAC</td><td>6</td><td>30.3</td><td class=\"sortcell\">26.7</td><td>8.3-19.7</td><td>.424</td><td>1.7-3.8</td><td>.435</td><td>8.3-11.0</td><td>.758</td></tr><tr align=\"right\" class=\"evenrow player-46-3989\"><td align=\"left\">6</td><td align=\"left\"><a href=\"http://espn.go.com/nba/player/_/id/3989/blake-griffin\">Blake Griffin</a>, PF</td><td align=\"left\">LAC</td><td>10</td><td>34.1</td><td class=\"sortcell\">26.6</td><td>10.6-19.0</td><td>.558</td><td>0.0-0.3</td><td>.000</td><td>5.4-7.1</td><td>.761</td></tr><tr align=\"right\" class=\"oddrow player-46-6606\"><td align=\"left\">7</td><td align=\"left\"><a href=\"http://espn.go.com/nba/player/_/id/6606/damian-lillard\">Damian Lillard</a>, PG</td><td align=\"left\">POR</td><td>10</td><td>36.8</td><td class=\"sortcell\">25.3</td><td>8.9-19.9</td><td>.447</td><td>3.5-8.3</td><td>.422</td><td>4.0-4.9</td><td>.816</td></tr><tr align=\"right\" class=\"evenrow player-46-3468\"><td align=\"left\">8</td><td align=\"left\"><a href=\"http://espn.go.com/nba/player/_/id/3468/russell-westbrook\">Russell Westbrook</a>, PG</td><td align=\"left\">OKC</td><td>9</td><td>34.7</td><td class=\"sortcell\">25.2</td><td>9.4-20.7</td><td>.457</td><td>1.8-5.0</td><td>.356</td><td>4.6-5.4</td><td>.837</td></tr><tr align=\"right\" class=\"oddrow player-46-4251\"><td align=\"left\">9</td><td align=\"left\"><a href=\"http://espn.go.com/nba/player/_/id/4251/paul-george\">Paul George</a>, SF</td><td align=\"left\">IND</td><td>10</td><td>36.2</td><td class=\"sortcell\">24.3</td><td>7.8-18.2</td><td>.429</td><td>2.3-6.0</td><td>.383</td><td>6.4-7.4</td><td>.865</td></tr><tr align=\"right\" class=\"evenrow player-46-6583\"><td align=\"left\">10</td><td align=\"left\"><a href=\"http://espn.go.com/nba/player/_/id/6583/anthony-davis\">Anthony Davis</a>, PF</td><td align=\"left\">NO</td><td>7</td><td>35.4</td><td class=\"sortcell\">24.0</td><td>8.3-17.4</td><td>.475</td><td>0.7-2.1</td><td>.333</td><td>6.7-9.3</td><td>.723</td></tr><tr align=\"right\" class=\"colhead\"><td align=\"left\" style=\"width:20px;\">RK</td><td align=\"left\">PLAYER</td><td align=\"left\">TEAM</td><td><a href=\"http://espn.go.com/nba/statistics/player/_/stat/scoring-per-game/sort/gamesPlayed/qualified/false\" title=\"Games Played\">GP</a></td><td><a href=\"http://espn.go.com/nba/statistics/player/_/stat/scoring-per-game/sort/avgMinutes/qualified/false\" title=\"Minutes Per Game\">MPG</a></td><td><a href=\"http://espn.go.com/nba/statistics/player/_/stat/scoring-per-game/sort/avgPoints/qualified/false/order/false\" title=\"Points Per Game\">PTS</a></td><td><span title=\"Field Goals Made-Attempted Per Game\">FGM-FGA</span></td><td><a href=\"http://espn.go.com/nba/statistics/player/_/stat/scoring-per-game/sort/fieldGoalPct/qualified/false\" title=\"Field Goal Percentage\">FG%</a></td><td><span title=\"3-Point Field Goals Made-Attempted Per Game\">3PM-3PA</span></td><td><a href=\"http://espn.go.com/nba/statistics/player/_/stat/scoring-per-game/sort/threePointFieldGoalPct/qualified/false\" title=\"3-Point Field Goal Percentage\">3P%</a></td><td><span title=\"Free Throws Made-Attempted Per Game\">FTM-FTA</span></td><td><a href=\"http://espn.go.com/nba/statistics/player/_/stat/scoring-per-game/sort/freeThrowPct/qualified/false\" title=\"Free Throws Percentage\">FT%</a></td></tr><tr align=\"right\" class=\"oddrow player-46-4238\"><td align=\"left\">11</td><td align=\"left\"><a href=\"http://espn.go.com/nba/player/_/id/4238/eric-bledsoe\">Eric Bledsoe</a>, PG</td><td align=\"left\">PHX</td><td>9</td><td>34.0</td><td class=\"sortcell\">23.2</td><td>8.3-16.8</td><td>.497</td><td>1.6-3.9</td><td>.400</td><td>5.0-6.2</td><td>.804</td></tr><tr align=\"right\" class=\"evenrow player-46-1975\"><td align=\"left\">12</td><td align=\"left\"><a href=\"http://espn.go.com/nba/player/_/id/1975/carmelo-anthony\">Carmelo Anthony</a>, SF</td><td align=\"left\">NY</td><td>10</td><td>34.1</td><td class=\"sortcell\">23.0</td><td>8.0-20.0</td><td>.400</td><td>2.0-5.4</td><td>.370</td><td>5.0-5.6</td><td>.893</td></tr><tr align=\"right\" class=\"oddrow player-46-6580\"><td align=\"left\">13</td><td align=\"left\"><a href=\"http://espn.go.com/nba/player/_/id/6580/bradley-beal\">Bradley Beal</a>, SG</td><td align=\"left\">WSH</td><td>6</td><td>34.7</td><td class=\"sortcell\">22.7</td><td>8.7-17.8</td><td>.486</td><td>2.7-5.7</td><td>.471</td><td>2.7-3.3</td><td>.800</td></tr><tr align=\"right\" class=\"evenrow player-46-6450\"><td align=\"left\">14</td><td align=\"left\"><a href=\"http://espn.go.com/nba/player/_/id/6450/kawhi-leonard\">Kawhi Leonard</a>, SF</td><td align=\"left\">SA</td><td>8</td><td>33.4</td><td class=\"sortcell\">21.9</td><td>9.0-17.1</td><td>.526</td><td>1.3-3.6</td><td>.345</td><td>2.6-2.9</td><td>.913</td></tr><tr align=\"right\" class=\"oddrow player-46-6443\"><td align=\"left\">15</td><td align=\"left\"><a href=\"http://espn.go.com/nba/player/_/id/6443/reggie-jackson\">Reggie Jackson</a>, PG</td><td align=\"left\">DET</td><td>9</td><td>32.9</td><td class=\"sortcell\">21.7</td><td>7.8-17.9</td><td>.435</td><td>1.6-4.4</td><td>.350</td><td>4.6-5.7</td><td>.804</td></tr><tr align=\"right\" class=\"evenrow player-46-2490149\"><td align=\"left\">16</td><td align=\"left\"><a href=\"http://espn.go.com/nba/player/_/id/2490149/c.j.-mccollum\">C.J. McCollum</a>, SG</td><td align=\"left\">POR</td><td>10</td><td>34.8</td><td class=\"sortcell\">21.4</td><td>8.1-17.5</td><td>.463</td><td>2.3-5.7</td><td>.404</td><td>2.9-3.2</td><td>.906</td></tr><tr align=\"right\" class=\"oddrow player-46-6472\"><td align=\"left\">17</td><td align=\"left\"><a href=\"http://espn.go.com/nba/player/_/id/6472/isaiah-thomas\">Isaiah Thomas</a>, PG</td><td align=\"left\">BOS</td><td>8</td><td>30.5</td><td class=\"sortcell\">20.9</td><td>6.6-17.3</td><td>.384</td><td>1.8-6.0</td><td>.292</td><td>5.9-6.8</td><td>.870</td></tr><tr align=\"right\" class=\"evenrow player-46-3978\"><td align=\"left\">18</td><td align=\"left\"><a href=\"http://espn.go.com/nba/player/_/id/3978/demar-derozan\">DeMar DeRozan</a>, SG</td><td align=\"left\">TOR</td><td>10</td><td>35.3</td><td class=\"sortcell\">20.8</td><td>6.4-14.9</td><td>.430</td><td>0.3-1.4</td><td>.214</td><td>7.7-9.4</td><td>.819</td></tr><tr align=\"right\" class=\"oddrow player-46-3059319\"><td align=\"left\">19</td><td align=\"left\"><a href=\"http://espn.go.com/nba/player/_/id/3059319/andrew-wiggins\">Andrew Wiggins</a>, SG</td><td align=\"left\">MIN</td><td>8</td><td>33.6</td><td class=\"sortcell\">20.5</td><td>7.5-17.9</td><td>.420</td><td>1.0-2.8</td><td>.364</td><td>4.5-6.4</td><td>.706</td></tr><tr align=\"right\" class=\"evenrow player-46-3431\"><td align=\"left\">20</td><td align=\"left\"><a href=\"http://espn.go.com/nba/player/_/id/3431/eric-gordon\">Eric Gordon</a>, SG</td><td align=\"left\">NO</td><td>9</td><td>35.4</td><td class=\"sortcell\">20.0</td><td>7.0-16.8</td><td>.417</td><td>3.3-8.6</td><td>.390</td><td>2.7-3.2</td><td>.828</td></tr><tr align=\"right\" class=\"colhead\"><td align=\"left\" style=\"width:20px;\">RK</td><td align=\"left\">PLAYER</td><td align=\"left\">TEAM</td><td><a href=\"http://espn.go.com/nba/statistics/player/_/stat/scoring-per-game/sort/gamesPlayed/qualified/false\" title=\"Games Played\">GP</a></td><td><a href=\"http://espn.go.com/nba/statistics/player/_/stat/scoring-per-game/sort/avgMinutes/qualified/false\" title=\"Minutes Per Game\">MPG</a></td><td><a href=\"http://espn.go.com/nba/statistics/player/_/stat/scoring-per-game/sort/avgPoints/qualified/false/order/false\" title=\"Points Per Game\">PTS</a></td><td><span title=\"Field Goals Made-Attempted Per Game\">FGM-FGA</span></td><td><a href=\"http://espn.go.com/nba/statistics/player/_/stat/scoring-per-game/sort/fieldGoalPct/qualified/false\" title=\"Field Goal Percentage\">FG%</a></td><td><span title=\"3-Point Field Goals Made-Attempted Per Game\">3PM-3PA</span></td><td><a href=\"http://espn.go.com/nba/statistics/player/_/stat/scoring-per-game/sort/threePointFieldGoalPct/qualified/false\" title=\"3-Point Field Goal Percentage\">3P%</a></td><td><span title=\"Free Throws Made-Attempted Per Game\">FTM-FTA</span></td><td><a href=\"http://espn.go.com/nba/statistics/player/_/stat/scoring-per-game/sort/freeThrowPct/qualified/false\" title=\"Free Throws Percentage\">FT%</a></td></tr><tr align=\"right\" class=\"oddrow player-46-6430\"><td align=\"left\">21</td><td align=\"left\"><a href=\"http://espn.go.com/nba/player/_/id/6430/jimmy-butler\">Jimmy Butler</a>, SG</td><td align=\"left\">CHI</td><td>9</td><td>35.6</td><td class=\"sortcell\">19.4</td><td>6.2-14.1</td><td>.441</td><td>1.4-3.9</td><td>.371</td><td>5.6-7.0</td><td>.794</td></tr><tr align=\"right\" class=\"evenrow player-46-3012\"><td align=\"left\"> </td><td align=\"left\"><a href=\"http://espn.go.com/nba/player/_/id/3012/kyle-lowry\">Kyle Lowry</a>, PG</td><td align=\"left\">TOR</td><td>10</td><td>34.2</td><td class=\"sortcell\">19.4</td><td>5.8-14.2</td><td>.408</td><td>2.3-5.7</td><td>.404</td><td>5.5-6.5</td><td>.846</td></tr><tr align=\"right\" class=\"oddrow player-46-3448\"><td align=\"left\">23</td><td align=\"left\"><a href=\"http://espn.go.com/nba/player/_/id/3448/brook-lopez\">Brook Lopez</a>, C</td><td align=\"left\">BKN</td><td>10</td><td>34.5</td><td class=\"sortcell\">19.2</td><td>7.3-15.4</td><td>.474</td><td>0.0-0.3</td><td>.000</td><td>4.6-5.5</td><td>.836</td></tr><tr align=\"right\" class=\"evenrow player-46-3135048\"><td align=\"left\"> </td><td align=\"left\"><a href=\"http://espn.go.com/nba/player/_/id/3135048/jahlil-okafor\">Jahlil Okafor</a>, C</td><td align=\"left\">PHI</td><td>10</td><td>33.8</td><td class=\"sortcell\">19.2</td><td>8.3-17.5</td><td>.474</td><td>0.0-0.0</td><td>.000</td><td>2.6-4.2</td><td>.619</td></tr><tr align=\"right\" class=\"oddrow player-46-6448\"><td align=\"left\">25</td><td align=\"left\"><a href=\"http://espn.go.com/nba/player/_/id/6448/brandon-knight\">Brandon Knight</a>, PG</td><td align=\"left\">PHX</td><td>9</td><td>33.7</td><td class=\"sortcell\">19.1</td><td>7.3-16.6</td><td>.443</td><td>2.6-6.7</td><td>.383</td><td>1.9-2.2</td><td>.850</td></tr><tr align=\"right\" class=\"evenrow player-46-1977\"><td align=\"left\">26</td><td align=\"left\"><a href=\"http://espn.go.com/nba/player/_/id/1977/chris-bosh\">Chris Bosh</a>, PF</td><td align=\"left\">MIA</td><td>9</td><td>32.4</td><td class=\"sortcell\">19.0</td><td>6.4-14.2</td><td>.453</td><td>1.8-4.6</td><td>.390</td><td>4.3-5.4</td><td>.796</td></tr><tr align=\"right\" class=\"oddrow player-46-6588\"><td align=\"left\">27</td><td align=\"left\"><a href=\"http://espn.go.com/nba/player/_/id/6588/evan-fournier\">Evan Fournier</a>, SF</td><td align=\"left\">ORL</td><td>11</td><td>38.0</td><td class=\"sortcell\">18.8</td><td>7.0-15.3</td><td>.458</td><td>2.2-6.1</td><td>.358</td><td>2.6-3.3</td><td>.806</td></tr><tr align=\"right\" class=\"evenrow player-46-6585\"><td align=\"left\">28</td><td align=\"left\"><a href=\"http://espn.go.com/nba/player/_/id/6585/andre-drummond\">Andre Drummond</a>, C</td><td align=\"left\">DET</td><td>9</td><td>36.8</td><td class=\"sortcell\">18.7</td><td>7.8-14.8</td><td>.526</td><td>0.0-0.0</td><td>.000</td><td>3.1-7.8</td><td>.400</td></tr><tr align=\"right\" class=\"oddrow player-46-1987\"><td align=\"left\">29</td><td align=\"left\"><a href=\"http://espn.go.com/nba/player/_/id/1987/dwyane-wade\">Dwyane Wade</a>, SG</td><td align=\"left\">MIA</td><td>8</td><td>28.8</td><td class=\"sortcell\">18.0</td><td>6.6-15.4</td><td>.431</td><td>0.8-2.0</td><td>.375</td><td>4.0-5.0</td><td>.800</td></tr><tr align=\"right\" class=\"evenrow player-46-3428\"><td align=\"left\">30</td><td align=\"left\"><a href=\"http://espn.go.com/nba/player/_/id/3428/danilo-gallinari\">Danilo Gallinari</a>, SF</td><td align=\"left\">DEN</td><td>10</td><td>33.5</td><td class=\"sortcell\">17.8</td><td>5.1-12.6</td><td>.405</td><td>1.5-4.1</td><td>.366</td><td>6.1-6.6</td><td>.924</td></tr><tr align=\"right\" class=\"colhead\"><td align=\"left\" style=\"width:20px;\">RK</td><td align=\"left\">PLAYER</td><td align=\"left\">TEAM</td><td><a href=\"http://espn.go.com/nba/statistics/player/_/stat/scoring-per-game/sort/gamesPlayed/qualified/false\" title=\"Games Played\">GP</a></td><td><a href=\"http://espn.go.com/nba/statistics/player/_/stat/scoring-per-game/sort/avgMinutes/qualified/false\" title=\"Minutes Per Game\">MPG</a></td><td><a href=\"http://espn.go.com/nba/statistics/player/_/stat/scoring-per-game/sort/avgPoints/qualified/false/order/false\" title=\"Points Per Game\">PTS</a></td><td><span title=\"Field Goals Made-Attempted Per Game\">FGM-FGA</span></td><td><a href=\"http://espn.go.com/nba/statistics/player/_/stat/scoring-per-game/sort/fieldGoalPct/qualified/false\" title=\"Field Goal Percentage\">FG%</a></td><td><span title=\"3-Point Field Goals Made-Attempted Per Game\">3PM-3PA</span></td><td><a href=\"http://espn.go.com/nba/statistics/player/_/stat/scoring-per-game/sort/threePointFieldGoalPct/qualified/false\" title=\"3-Point Field Goal Percentage\">3P%</a></td><td><span title=\"Free Throws Made-Attempted Per Game\">FTM-FTA</span></td><td><a href=\"http://espn.go.com/nba/statistics/player/_/stat/scoring-per-game/sort/freeThrowPct/qualified/false\" title=\"Free Throws Percentage\">FT%</a></td></tr><tr align=\"right\" class=\"oddrow player-46-4260\"><td align=\"left\"> </td><td align=\"left\"><a href=\"http://espn.go.com/nba/player/_/id/4260/greg-monroe\">Greg Monroe</a>, C</td><td align=\"left\">MIL</td><td>10</td><td>34.0</td><td class=\"sortcell\">17.8</td><td>7.4-13.5</td><td>.548</td><td>0.0-0.0</td><td>.000</td><td>3.0-3.8</td><td>.789</td></tr><tr align=\"right\" class=\"evenrow player-46-609\"><td align=\"left\"> </td><td align=\"left\"><a href=\"http://espn.go.com/nba/player/_/id/609/dirk-nowitzki\">Dirk Nowitzki</a>, PF</td><td align=\"left\">DAL</td><td>9</td><td>27.8</td><td class=\"sortcell\">17.8</td><td>6.8-12.9</td><td>.526</td><td>1.9-3.8</td><td>.500</td><td>2.3-2.7</td><td>.875</td></tr><tr align=\"right\" class=\"oddrow player-46-3032977\"><td align=\"left\"> </td><td align=\"left\"><a href=\"http://espn.go.com/nba/player/_/id/3032977/giannis-antetokounmpo\">Giannis Antetokounmpo</a>, SF</td><td align=\"left\">MIL</td><td>9</td><td>35.6</td><td class=\"sortcell\">17.8</td><td>6.8-13.1</td><td>.517</td><td>0.7-2.1</td><td>.316</td><td>3.6-4.1</td><td>.865</td></tr><tr align=\"right\" class=\"evenrow player-46-4237\"><td align=\"left\">34</td><td align=\"left\"><a href=\"http://espn.go.com/nba/player/_/id/4237/john-wall\">John Wall</a>, PG</td><td align=\"left\">WSH</td><td>8</td><td>33.6</td><td class=\"sortcell\">17.4</td><td>6.0-15.1</td><td>.397</td><td>1.1-4.4</td><td>.257</td><td>4.3-5.6</td><td>.756</td></tr><tr align=\"right\" class=\"oddrow player-46-3005\"><td align=\"left\">35</td><td align=\"left\"><a href=\"http://espn.go.com/nba/player/_/id/3005/rudy-gay\">Rudy Gay</a>, SF</td><td align=\"left\">SAC</td><td>9</td><td>32.0</td><td class=\"sortcell\">17.2</td><td>7.1-16.7</td><td>.427</td><td>1.0-2.9</td><td>.346</td><td>2.0-2.7</td><td>.750</td></tr><tr align=\"right\" class=\"evenrow player-46-3449\"><td align=\"left\"> </td><td align=\"left\"><a href=\"http://espn.go.com/nba/player/_/id/3449/kevin-love\">Kevin Love</a>, PF</td><td align=\"left\">CLE</td><td>10</td><td>34.9</td><td class=\"sortcell\">17.2</td><td>6.0-15.1</td><td>.397</td><td>2.3-7.1</td><td>.324</td><td>2.9-3.4</td><td>.853</td></tr><tr align=\"right\" class=\"oddrow player-46-3213\"><td align=\"left\"> </td><td align=\"left\"><a href=\"http://espn.go.com/nba/player/_/id/3213/al-horford\">Al Horford</a>, C</td><td align=\"left\">ATL</td><td>11</td><td>31.7</td><td class=\"sortcell\">17.2</td><td>7.3-14.0</td><td>.519</td><td>1.2-3.5</td><td>.342</td><td>1.5-1.6</td><td>.889</td></tr><tr align=\"right\" class=\"evenrow player-46-4015\"><td align=\"left\">38</td><td align=\"left\"><a href=\"http://espn.go.com/nba/player/_/id/4015/jeff-teague\">Jeff Teague</a>, PG</td><td align=\"left\">ATL</td><td>11</td><td>30.8</td><td class=\"sortcell\">17.1</td><td>6.0-14.1</td><td>.426</td><td>0.9-2.8</td><td>.323</td><td>4.2-4.9</td><td>.852</td></tr><tr align=\"right\" class=\"oddrow player-46-3015\"><td align=\"left\">39</td><td align=\"left\"><a href=\"http://espn.go.com/nba/player/_/id/3015/paul-millsap\">Paul Millsap</a>, PF</td><td align=\"left\">ATL</td><td>11</td><td>34.3</td><td class=\"sortcell\">16.9</td><td>5.8-12.3</td><td>.474</td><td>1.4-3.8</td><td>.357</td><td>3.9-5.4</td><td>.729</td></tr><tr align=\"right\" class=\"evenrow player-46-110\"><td align=\"left\"> </td><td align=\"left\"><a href=\"http://espn.go.com/nba/player/_/id/110/kobe-bryant\">Kobe Bryant</a>, SF</td><td align=\"left\">LAL</td><td>7</td><td>29.6</td><td class=\"sortcell\">16.9</td><td>5.4-16.0</td><td>.339</td><td>1.9-8.0</td><td>.232</td><td>4.1-5.0</td><td>.829</td></tr>\n",
      "</table>\n"
     ]
    }
   ],
   "source": [
    "table = table_div.find(\"table\")\n",
    "print table"
   ]
  },
  {
   "cell_type": "markdown",
   "metadata": {},
   "source": [
    "### Searching by Attributes\n",
    "\n",
    "Now that we have the table object, we need to step through the rows.  First we'll find the header row so we can populate what the field names will be in our data.  Here we're searching for tags under the table tag whose class attritbute is \"colhead\".  "
   ]
  },
  {
   "cell_type": "code",
   "execution_count": 6,
   "metadata": {
    "collapsed": false
   },
   "outputs": [
    {
     "name": "stdout",
     "output_type": "stream",
     "text": [
      "<tr align=\"right\" class=\"colhead\">\n",
      " <td align=\"left\" style=\"width:20px;\">\n",
      "  RK\n",
      " </td>\n",
      " <td align=\"left\">\n",
      "  PLAYER\n",
      " </td>\n",
      " <td align=\"left\">\n",
      "  TEAM\n",
      " </td>\n",
      " <td>\n",
      "  <a href=\"http://espn.go.com/nba/statistics/player/_/stat/scoring-per-game/sort/gamesPlayed/qualified/false\" title=\"Games Played\">\n",
      "   GP\n",
      "  </a>\n",
      " </td>\n",
      " <td>\n",
      "  <a href=\"http://espn.go.com/nba/statistics/player/_/stat/scoring-per-game/sort/avgMinutes/qualified/false\" title=\"Minutes Per Game\">\n",
      "   MPG\n",
      "  </a>\n",
      " </td>\n",
      " <td>\n",
      "  <a href=\"http://espn.go.com/nba/statistics/player/_/stat/scoring-per-game/sort/avgPoints/qualified/false/order/false\" title=\"Points Per Game\">\n",
      "   PTS\n",
      "  </a>\n",
      " </td>\n",
      " <td>\n",
      "  <span title=\"Field Goals Made-Attempted Per Game\">\n",
      "   FGM-FGA\n",
      "  </span>\n",
      " </td>\n",
      " <td>\n",
      "  <a href=\"http://espn.go.com/nba/statistics/player/_/stat/scoring-per-game/sort/fieldGoalPct/qualified/false\" title=\"Field Goal Percentage\">\n",
      "   FG%\n",
      "  </a>\n",
      " </td>\n",
      " <td>\n",
      "  <span title=\"3-Point Field Goals Made-Attempted Per Game\">\n",
      "   3PM-3PA\n",
      "  </span>\n",
      " </td>\n",
      " <td>\n",
      "  <a href=\"http://espn.go.com/nba/statistics/player/_/stat/scoring-per-game/sort/threePointFieldGoalPct/qualified/false\" title=\"3-Point Field Goal Percentage\">\n",
      "   3P%\n",
      "  </a>\n",
      " </td>\n",
      " <td>\n",
      "  <span title=\"Free Throws Made-Attempted Per Game\">\n",
      "   FTM-FTA\n",
      "  </span>\n",
      " </td>\n",
      " <td>\n",
      "  <a href=\"http://espn.go.com/nba/statistics/player/_/stat/scoring-per-game/sort/freeThrowPct/qualified/false\" title=\"Free Throws Percentage\">\n",
      "   FT%\n",
      "  </a>\n",
      " </td>\n",
      "</tr>\n",
      "\n"
     ]
    }
   ],
   "source": [
    "table_head = table.find(attrs={\"class\":'colhead'})\n",
    "print table_head.prettify()"
   ]
  },
  {
   "cell_type": "markdown",
   "metadata": {},
   "source": [
    "Now we find the actual values by searching for the 'td' tags, which is the tag for table data."
   ]
  },
  {
   "cell_type": "code",
   "execution_count": 7,
   "metadata": {
    "collapsed": false
   },
   "outputs": [
    {
     "name": "stdout",
     "output_type": "stream",
     "text": [
      "[<td align=\"left\" style=\"width:20px;\">RK</td>, <td align=\"left\">PLAYER</td>, <td align=\"left\">TEAM</td>, <td><a href=\"http://espn.go.com/nba/statistics/player/_/stat/scoring-per-game/sort/gamesPlayed/qualified/false\" title=\"Games Played\">GP</a></td>, <td><a href=\"http://espn.go.com/nba/statistics/player/_/stat/scoring-per-game/sort/avgMinutes/qualified/false\" title=\"Minutes Per Game\">MPG</a></td>, <td><a href=\"http://espn.go.com/nba/statistics/player/_/stat/scoring-per-game/sort/avgPoints/qualified/false/order/false\" title=\"Points Per Game\">PTS</a></td>, <td><span title=\"Field Goals Made-Attempted Per Game\">FGM-FGA</span></td>, <td><a href=\"http://espn.go.com/nba/statistics/player/_/stat/scoring-per-game/sort/fieldGoalPct/qualified/false\" title=\"Field Goal Percentage\">FG%</a></td>, <td><span title=\"3-Point Field Goals Made-Attempted Per Game\">3PM-3PA</span></td>, <td><a href=\"http://espn.go.com/nba/statistics/player/_/stat/scoring-per-game/sort/threePointFieldGoalPct/qualified/false\" title=\"3-Point Field Goal Percentage\">3P%</a></td>, <td><span title=\"Free Throws Made-Attempted Per Game\">FTM-FTA</span></td>, <td><a href=\"http://espn.go.com/nba/statistics/player/_/stat/scoring-per-game/sort/freeThrowPct/qualified/false\" title=\"Free Throws Percentage\">FT%</a></td>]\n"
     ]
    }
   ],
   "source": [
    "header_cols = table_head.findAll('td')\n",
    "print header_cols"
   ]
  },
  {
   "cell_type": "markdown",
   "metadata": {},
   "source": [
    "Finally, we step through these columns and save them to a list to be used later.  We'll ignore the rank column (RK) because that doesn't give us anything we want later.  We also separate the **PLAYER** column into **PLAYER** and **POSITION**."
   ]
  },
  {
   "cell_type": "code",
   "execution_count": 8,
   "metadata": {
    "collapsed": false
   },
   "outputs": [
    {
     "name": "stdout",
     "output_type": "stream",
     "text": [
      "[u'PLAYER', 'POSITION', u'TEAM', u'GP', u'MPG', u'PTS', u'FGM-FGA', u'FG%', u'3PM-3PA', u'3P%', u'FTM-FTA', u'FT%']\n"
     ]
    }
   ],
   "source": [
    "cols = []\n",
    "for header_col in header_cols:\n",
    "    val = header_col.string\n",
    "    if val != 'RK':\n",
    "        cols.append(val)\n",
    "    if val == 'PLAYER':\n",
    "        cols.append('POSITION')\n",
    "print cols"
   ]
  },
  {
   "cell_type": "markdown",
   "metadata": {},
   "source": [
    "### Stepping Through a Table\n",
    "\n",
    "The table rows are indicated by the tag 'tr'.  Again we can find them all and iterate through them.  Within each row we iterate through the respective columns."
   ]
  },
  {
   "cell_type": "code",
   "execution_count": 9,
   "metadata": {
    "collapsed": false
   },
   "outputs": [
    {
     "name": "stdout",
     "output_type": "stream",
     "text": [
      "[<tr align=\"right\" class=\"colhead\"><td align=\"left\" style=\"width:20px;\">RK</td><td align=\"left\">PLAYER</td><td align=\"left\">TEAM</td><td><a href=\"http://espn.go.com/nba/statistics/player/_/stat/scoring-per-game/sort/gamesPlayed/qualified/false\" title=\"Games Played\">GP</a></td><td><a href=\"http://espn.go.com/nba/statistics/player/_/stat/scoring-per-game/sort/avgMinutes/qualified/false\" title=\"Minutes Per Game\">MPG</a></td><td><a href=\"http://espn.go.com/nba/statistics/player/_/stat/scoring-per-game/sort/avgPoints/qualified/false/order/false\" title=\"Points Per Game\">PTS</a></td><td><span title=\"Field Goals Made-Attempted Per Game\">FGM-FGA</span></td><td><a href=\"http://espn.go.com/nba/statistics/player/_/stat/scoring-per-game/sort/fieldGoalPct/qualified/false\" title=\"Field Goal Percentage\">FG%</a></td><td><span title=\"3-Point Field Goals Made-Attempted Per Game\">3PM-3PA</span></td><td><a href=\"http://espn.go.com/nba/statistics/player/_/stat/scoring-per-game/sort/threePointFieldGoalPct/qualified/false\" title=\"3-Point Field Goal Percentage\">3P%</a></td><td><span title=\"Free Throws Made-Attempted Per Game\">FTM-FTA</span></td><td><a href=\"http://espn.go.com/nba/statistics/player/_/stat/scoring-per-game/sort/freeThrowPct/qualified/false\" title=\"Free Throws Percentage\">FT%</a></td></tr>, <tr align=\"right\" class=\"oddrow player-46-3975\"><td align=\"left\">1</td><td align=\"left\"><a href=\"http://espn.go.com/nba/player/_/id/3975/stephen-curry\">Stephen Curry</a>, PG</td><td align=\"left\">GS</td><td>11</td><td>35.1</td><td class=\"sortcell\">33.4</td><td>11.1-21.5</td><td>.517</td><td>5.2-11.5</td><td>.452</td><td>6.0-6.5</td><td>.930</td></tr>, <tr align=\"right\" class=\"evenrow player-46-3992\"><td align=\"left\">2</td><td align=\"left\"><a href=\"http://espn.go.com/nba/player/_/id/3992/james-harden\">James Harden</a>, SG</td><td align=\"left\">HOU</td><td>10</td><td>39.4</td><td class=\"sortcell\">28.4</td><td>7.9-21.3</td><td>.371</td><td>2.3-9.6</td><td>.240</td><td>10.3-11.9</td><td>.866</td></tr>, <tr align=\"right\" class=\"oddrow player-46-3202\"><td align=\"left\">3</td><td align=\"left\"><a href=\"http://espn.go.com/nba/player/_/id/3202/kevin-durant\">Kevin Durant</a>, SF</td><td align=\"left\">OKC</td><td>8</td><td>34.8</td><td class=\"sortcell\">28.1</td><td>9.6-19.1</td><td>.503</td><td>2.6-5.9</td><td>.447</td><td>6.3-7.0</td><td>.893</td></tr>, <tr align=\"right\" class=\"evenrow player-46-1966\"><td align=\"left\">4</td><td align=\"left\"><a href=\"http://espn.go.com/nba/player/_/id/1966/lebron-james\">LeBron James</a>, SF</td><td align=\"left\">CLE</td><td>10</td><td>36.3</td><td class=\"sortcell\">27.0</td><td>10.5-20.8</td><td>.505</td><td>1.1-4.2</td><td>.262</td><td>4.9-8.1</td><td>.605</td></tr>, <tr align=\"right\" class=\"oddrow player-46-4258\"><td align=\"left\">5</td><td align=\"left\"><a href=\"http://espn.go.com/nba/player/_/id/4258/demarcus-cousins\">DeMarcus Cousins</a>, PF</td><td align=\"left\">SAC</td><td>6</td><td>30.3</td><td class=\"sortcell\">26.7</td><td>8.3-19.7</td><td>.424</td><td>1.7-3.8</td><td>.435</td><td>8.3-11.0</td><td>.758</td></tr>, <tr align=\"right\" class=\"evenrow player-46-3989\"><td align=\"left\">6</td><td align=\"left\"><a href=\"http://espn.go.com/nba/player/_/id/3989/blake-griffin\">Blake Griffin</a>, PF</td><td align=\"left\">LAC</td><td>10</td><td>34.1</td><td class=\"sortcell\">26.6</td><td>10.6-19.0</td><td>.558</td><td>0.0-0.3</td><td>.000</td><td>5.4-7.1</td><td>.761</td></tr>, <tr align=\"right\" class=\"oddrow player-46-6606\"><td align=\"left\">7</td><td align=\"left\"><a href=\"http://espn.go.com/nba/player/_/id/6606/damian-lillard\">Damian Lillard</a>, PG</td><td align=\"left\">POR</td><td>10</td><td>36.8</td><td class=\"sortcell\">25.3</td><td>8.9-19.9</td><td>.447</td><td>3.5-8.3</td><td>.422</td><td>4.0-4.9</td><td>.816</td></tr>, <tr align=\"right\" class=\"evenrow player-46-3468\"><td align=\"left\">8</td><td align=\"left\"><a href=\"http://espn.go.com/nba/player/_/id/3468/russell-westbrook\">Russell Westbrook</a>, PG</td><td align=\"left\">OKC</td><td>9</td><td>34.7</td><td class=\"sortcell\">25.2</td><td>9.4-20.7</td><td>.457</td><td>1.8-5.0</td><td>.356</td><td>4.6-5.4</td><td>.837</td></tr>, <tr align=\"right\" class=\"oddrow player-46-4251\"><td align=\"left\">9</td><td align=\"left\"><a href=\"http://espn.go.com/nba/player/_/id/4251/paul-george\">Paul George</a>, SF</td><td align=\"left\">IND</td><td>10</td><td>36.2</td><td class=\"sortcell\">24.3</td><td>7.8-18.2</td><td>.429</td><td>2.3-6.0</td><td>.383</td><td>6.4-7.4</td><td>.865</td></tr>, <tr align=\"right\" class=\"evenrow player-46-6583\"><td align=\"left\">10</td><td align=\"left\"><a href=\"http://espn.go.com/nba/player/_/id/6583/anthony-davis\">Anthony Davis</a>, PF</td><td align=\"left\">NO</td><td>7</td><td>35.4</td><td class=\"sortcell\">24.0</td><td>8.3-17.4</td><td>.475</td><td>0.7-2.1</td><td>.333</td><td>6.7-9.3</td><td>.723</td></tr>, <tr align=\"right\" class=\"colhead\"><td align=\"left\" style=\"width:20px;\">RK</td><td align=\"left\">PLAYER</td><td align=\"left\">TEAM</td><td><a href=\"http://espn.go.com/nba/statistics/player/_/stat/scoring-per-game/sort/gamesPlayed/qualified/false\" title=\"Games Played\">GP</a></td><td><a href=\"http://espn.go.com/nba/statistics/player/_/stat/scoring-per-game/sort/avgMinutes/qualified/false\" title=\"Minutes Per Game\">MPG</a></td><td><a href=\"http://espn.go.com/nba/statistics/player/_/stat/scoring-per-game/sort/avgPoints/qualified/false/order/false\" title=\"Points Per Game\">PTS</a></td><td><span title=\"Field Goals Made-Attempted Per Game\">FGM-FGA</span></td><td><a href=\"http://espn.go.com/nba/statistics/player/_/stat/scoring-per-game/sort/fieldGoalPct/qualified/false\" title=\"Field Goal Percentage\">FG%</a></td><td><span title=\"3-Point Field Goals Made-Attempted Per Game\">3PM-3PA</span></td><td><a href=\"http://espn.go.com/nba/statistics/player/_/stat/scoring-per-game/sort/threePointFieldGoalPct/qualified/false\" title=\"3-Point Field Goal Percentage\">3P%</a></td><td><span title=\"Free Throws Made-Attempted Per Game\">FTM-FTA</span></td><td><a href=\"http://espn.go.com/nba/statistics/player/_/stat/scoring-per-game/sort/freeThrowPct/qualified/false\" title=\"Free Throws Percentage\">FT%</a></td></tr>, <tr align=\"right\" class=\"oddrow player-46-4238\"><td align=\"left\">11</td><td align=\"left\"><a href=\"http://espn.go.com/nba/player/_/id/4238/eric-bledsoe\">Eric Bledsoe</a>, PG</td><td align=\"left\">PHX</td><td>9</td><td>34.0</td><td class=\"sortcell\">23.2</td><td>8.3-16.8</td><td>.497</td><td>1.6-3.9</td><td>.400</td><td>5.0-6.2</td><td>.804</td></tr>, <tr align=\"right\" class=\"evenrow player-46-1975\"><td align=\"left\">12</td><td align=\"left\"><a href=\"http://espn.go.com/nba/player/_/id/1975/carmelo-anthony\">Carmelo Anthony</a>, SF</td><td align=\"left\">NY</td><td>10</td><td>34.1</td><td class=\"sortcell\">23.0</td><td>8.0-20.0</td><td>.400</td><td>2.0-5.4</td><td>.370</td><td>5.0-5.6</td><td>.893</td></tr>, <tr align=\"right\" class=\"oddrow player-46-6580\"><td align=\"left\">13</td><td align=\"left\"><a href=\"http://espn.go.com/nba/player/_/id/6580/bradley-beal\">Bradley Beal</a>, SG</td><td align=\"left\">WSH</td><td>6</td><td>34.7</td><td class=\"sortcell\">22.7</td><td>8.7-17.8</td><td>.486</td><td>2.7-5.7</td><td>.471</td><td>2.7-3.3</td><td>.800</td></tr>, <tr align=\"right\" class=\"evenrow player-46-6450\"><td align=\"left\">14</td><td align=\"left\"><a href=\"http://espn.go.com/nba/player/_/id/6450/kawhi-leonard\">Kawhi Leonard</a>, SF</td><td align=\"left\">SA</td><td>8</td><td>33.4</td><td class=\"sortcell\">21.9</td><td>9.0-17.1</td><td>.526</td><td>1.3-3.6</td><td>.345</td><td>2.6-2.9</td><td>.913</td></tr>, <tr align=\"right\" class=\"oddrow player-46-6443\"><td align=\"left\">15</td><td align=\"left\"><a href=\"http://espn.go.com/nba/player/_/id/6443/reggie-jackson\">Reggie Jackson</a>, PG</td><td align=\"left\">DET</td><td>9</td><td>32.9</td><td class=\"sortcell\">21.7</td><td>7.8-17.9</td><td>.435</td><td>1.6-4.4</td><td>.350</td><td>4.6-5.7</td><td>.804</td></tr>, <tr align=\"right\" class=\"evenrow player-46-2490149\"><td align=\"left\">16</td><td align=\"left\"><a href=\"http://espn.go.com/nba/player/_/id/2490149/c.j.-mccollum\">C.J. McCollum</a>, SG</td><td align=\"left\">POR</td><td>10</td><td>34.8</td><td class=\"sortcell\">21.4</td><td>8.1-17.5</td><td>.463</td><td>2.3-5.7</td><td>.404</td><td>2.9-3.2</td><td>.906</td></tr>, <tr align=\"right\" class=\"oddrow player-46-6472\"><td align=\"left\">17</td><td align=\"left\"><a href=\"http://espn.go.com/nba/player/_/id/6472/isaiah-thomas\">Isaiah Thomas</a>, PG</td><td align=\"left\">BOS</td><td>8</td><td>30.5</td><td class=\"sortcell\">20.9</td><td>6.6-17.3</td><td>.384</td><td>1.8-6.0</td><td>.292</td><td>5.9-6.8</td><td>.870</td></tr>, <tr align=\"right\" class=\"evenrow player-46-3978\"><td align=\"left\">18</td><td align=\"left\"><a href=\"http://espn.go.com/nba/player/_/id/3978/demar-derozan\">DeMar DeRozan</a>, SG</td><td align=\"left\">TOR</td><td>10</td><td>35.3</td><td class=\"sortcell\">20.8</td><td>6.4-14.9</td><td>.430</td><td>0.3-1.4</td><td>.214</td><td>7.7-9.4</td><td>.819</td></tr>, <tr align=\"right\" class=\"oddrow player-46-3059319\"><td align=\"left\">19</td><td align=\"left\"><a href=\"http://espn.go.com/nba/player/_/id/3059319/andrew-wiggins\">Andrew Wiggins</a>, SG</td><td align=\"left\">MIN</td><td>8</td><td>33.6</td><td class=\"sortcell\">20.5</td><td>7.5-17.9</td><td>.420</td><td>1.0-2.8</td><td>.364</td><td>4.5-6.4</td><td>.706</td></tr>, <tr align=\"right\" class=\"evenrow player-46-3431\"><td align=\"left\">20</td><td align=\"left\"><a href=\"http://espn.go.com/nba/player/_/id/3431/eric-gordon\">Eric Gordon</a>, SG</td><td align=\"left\">NO</td><td>9</td><td>35.4</td><td class=\"sortcell\">20.0</td><td>7.0-16.8</td><td>.417</td><td>3.3-8.6</td><td>.390</td><td>2.7-3.2</td><td>.828</td></tr>, <tr align=\"right\" class=\"colhead\"><td align=\"left\" style=\"width:20px;\">RK</td><td align=\"left\">PLAYER</td><td align=\"left\">TEAM</td><td><a href=\"http://espn.go.com/nba/statistics/player/_/stat/scoring-per-game/sort/gamesPlayed/qualified/false\" title=\"Games Played\">GP</a></td><td><a href=\"http://espn.go.com/nba/statistics/player/_/stat/scoring-per-game/sort/avgMinutes/qualified/false\" title=\"Minutes Per Game\">MPG</a></td><td><a href=\"http://espn.go.com/nba/statistics/player/_/stat/scoring-per-game/sort/avgPoints/qualified/false/order/false\" title=\"Points Per Game\">PTS</a></td><td><span title=\"Field Goals Made-Attempted Per Game\">FGM-FGA</span></td><td><a href=\"http://espn.go.com/nba/statistics/player/_/stat/scoring-per-game/sort/fieldGoalPct/qualified/false\" title=\"Field Goal Percentage\">FG%</a></td><td><span title=\"3-Point Field Goals Made-Attempted Per Game\">3PM-3PA</span></td><td><a href=\"http://espn.go.com/nba/statistics/player/_/stat/scoring-per-game/sort/threePointFieldGoalPct/qualified/false\" title=\"3-Point Field Goal Percentage\">3P%</a></td><td><span title=\"Free Throws Made-Attempted Per Game\">FTM-FTA</span></td><td><a href=\"http://espn.go.com/nba/statistics/player/_/stat/scoring-per-game/sort/freeThrowPct/qualified/false\" title=\"Free Throws Percentage\">FT%</a></td></tr>, <tr align=\"right\" class=\"oddrow player-46-6430\"><td align=\"left\">21</td><td align=\"left\"><a href=\"http://espn.go.com/nba/player/_/id/6430/jimmy-butler\">Jimmy Butler</a>, SG</td><td align=\"left\">CHI</td><td>9</td><td>35.6</td><td class=\"sortcell\">19.4</td><td>6.2-14.1</td><td>.441</td><td>1.4-3.9</td><td>.371</td><td>5.6-7.0</td><td>.794</td></tr>, <tr align=\"right\" class=\"evenrow player-46-3012\"><td align=\"left\"> </td><td align=\"left\"><a href=\"http://espn.go.com/nba/player/_/id/3012/kyle-lowry\">Kyle Lowry</a>, PG</td><td align=\"left\">TOR</td><td>10</td><td>34.2</td><td class=\"sortcell\">19.4</td><td>5.8-14.2</td><td>.408</td><td>2.3-5.7</td><td>.404</td><td>5.5-6.5</td><td>.846</td></tr>, <tr align=\"right\" class=\"oddrow player-46-3448\"><td align=\"left\">23</td><td align=\"left\"><a href=\"http://espn.go.com/nba/player/_/id/3448/brook-lopez\">Brook Lopez</a>, C</td><td align=\"left\">BKN</td><td>10</td><td>34.5</td><td class=\"sortcell\">19.2</td><td>7.3-15.4</td><td>.474</td><td>0.0-0.3</td><td>.000</td><td>4.6-5.5</td><td>.836</td></tr>, <tr align=\"right\" class=\"evenrow player-46-3135048\"><td align=\"left\"> </td><td align=\"left\"><a href=\"http://espn.go.com/nba/player/_/id/3135048/jahlil-okafor\">Jahlil Okafor</a>, C</td><td align=\"left\">PHI</td><td>10</td><td>33.8</td><td class=\"sortcell\">19.2</td><td>8.3-17.5</td><td>.474</td><td>0.0-0.0</td><td>.000</td><td>2.6-4.2</td><td>.619</td></tr>, <tr align=\"right\" class=\"oddrow player-46-6448\"><td align=\"left\">25</td><td align=\"left\"><a href=\"http://espn.go.com/nba/player/_/id/6448/brandon-knight\">Brandon Knight</a>, PG</td><td align=\"left\">PHX</td><td>9</td><td>33.7</td><td class=\"sortcell\">19.1</td><td>7.3-16.6</td><td>.443</td><td>2.6-6.7</td><td>.383</td><td>1.9-2.2</td><td>.850</td></tr>, <tr align=\"right\" class=\"evenrow player-46-1977\"><td align=\"left\">26</td><td align=\"left\"><a href=\"http://espn.go.com/nba/player/_/id/1977/chris-bosh\">Chris Bosh</a>, PF</td><td align=\"left\">MIA</td><td>9</td><td>32.4</td><td class=\"sortcell\">19.0</td><td>6.4-14.2</td><td>.453</td><td>1.8-4.6</td><td>.390</td><td>4.3-5.4</td><td>.796</td></tr>, <tr align=\"right\" class=\"oddrow player-46-6588\"><td align=\"left\">27</td><td align=\"left\"><a href=\"http://espn.go.com/nba/player/_/id/6588/evan-fournier\">Evan Fournier</a>, SF</td><td align=\"left\">ORL</td><td>11</td><td>38.0</td><td class=\"sortcell\">18.8</td><td>7.0-15.3</td><td>.458</td><td>2.2-6.1</td><td>.358</td><td>2.6-3.3</td><td>.806</td></tr>, <tr align=\"right\" class=\"evenrow player-46-6585\"><td align=\"left\">28</td><td align=\"left\"><a href=\"http://espn.go.com/nba/player/_/id/6585/andre-drummond\">Andre Drummond</a>, C</td><td align=\"left\">DET</td><td>9</td><td>36.8</td><td class=\"sortcell\">18.7</td><td>7.8-14.8</td><td>.526</td><td>0.0-0.0</td><td>.000</td><td>3.1-7.8</td><td>.400</td></tr>, <tr align=\"right\" class=\"oddrow player-46-1987\"><td align=\"left\">29</td><td align=\"left\"><a href=\"http://espn.go.com/nba/player/_/id/1987/dwyane-wade\">Dwyane Wade</a>, SG</td><td align=\"left\">MIA</td><td>8</td><td>28.8</td><td class=\"sortcell\">18.0</td><td>6.6-15.4</td><td>.431</td><td>0.8-2.0</td><td>.375</td><td>4.0-5.0</td><td>.800</td></tr>, <tr align=\"right\" class=\"evenrow player-46-3428\"><td align=\"left\">30</td><td align=\"left\"><a href=\"http://espn.go.com/nba/player/_/id/3428/danilo-gallinari\">Danilo Gallinari</a>, SF</td><td align=\"left\">DEN</td><td>10</td><td>33.5</td><td class=\"sortcell\">17.8</td><td>5.1-12.6</td><td>.405</td><td>1.5-4.1</td><td>.366</td><td>6.1-6.6</td><td>.924</td></tr>, <tr align=\"right\" class=\"colhead\"><td align=\"left\" style=\"width:20px;\">RK</td><td align=\"left\">PLAYER</td><td align=\"left\">TEAM</td><td><a href=\"http://espn.go.com/nba/statistics/player/_/stat/scoring-per-game/sort/gamesPlayed/qualified/false\" title=\"Games Played\">GP</a></td><td><a href=\"http://espn.go.com/nba/statistics/player/_/stat/scoring-per-game/sort/avgMinutes/qualified/false\" title=\"Minutes Per Game\">MPG</a></td><td><a href=\"http://espn.go.com/nba/statistics/player/_/stat/scoring-per-game/sort/avgPoints/qualified/false/order/false\" title=\"Points Per Game\">PTS</a></td><td><span title=\"Field Goals Made-Attempted Per Game\">FGM-FGA</span></td><td><a href=\"http://espn.go.com/nba/statistics/player/_/stat/scoring-per-game/sort/fieldGoalPct/qualified/false\" title=\"Field Goal Percentage\">FG%</a></td><td><span title=\"3-Point Field Goals Made-Attempted Per Game\">3PM-3PA</span></td><td><a href=\"http://espn.go.com/nba/statistics/player/_/stat/scoring-per-game/sort/threePointFieldGoalPct/qualified/false\" title=\"3-Point Field Goal Percentage\">3P%</a></td><td><span title=\"Free Throws Made-Attempted Per Game\">FTM-FTA</span></td><td><a href=\"http://espn.go.com/nba/statistics/player/_/stat/scoring-per-game/sort/freeThrowPct/qualified/false\" title=\"Free Throws Percentage\">FT%</a></td></tr>, <tr align=\"right\" class=\"oddrow player-46-4260\"><td align=\"left\"> </td><td align=\"left\"><a href=\"http://espn.go.com/nba/player/_/id/4260/greg-monroe\">Greg Monroe</a>, C</td><td align=\"left\">MIL</td><td>10</td><td>34.0</td><td class=\"sortcell\">17.8</td><td>7.4-13.5</td><td>.548</td><td>0.0-0.0</td><td>.000</td><td>3.0-3.8</td><td>.789</td></tr>, <tr align=\"right\" class=\"evenrow player-46-609\"><td align=\"left\"> </td><td align=\"left\"><a href=\"http://espn.go.com/nba/player/_/id/609/dirk-nowitzki\">Dirk Nowitzki</a>, PF</td><td align=\"left\">DAL</td><td>9</td><td>27.8</td><td class=\"sortcell\">17.8</td><td>6.8-12.9</td><td>.526</td><td>1.9-3.8</td><td>.500</td><td>2.3-2.7</td><td>.875</td></tr>, <tr align=\"right\" class=\"oddrow player-46-3032977\"><td align=\"left\"> </td><td align=\"left\"><a href=\"http://espn.go.com/nba/player/_/id/3032977/giannis-antetokounmpo\">Giannis Antetokounmpo</a>, SF</td><td align=\"left\">MIL</td><td>9</td><td>35.6</td><td class=\"sortcell\">17.8</td><td>6.8-13.1</td><td>.517</td><td>0.7-2.1</td><td>.316</td><td>3.6-4.1</td><td>.865</td></tr>, <tr align=\"right\" class=\"evenrow player-46-4237\"><td align=\"left\">34</td><td align=\"left\"><a href=\"http://espn.go.com/nba/player/_/id/4237/john-wall\">John Wall</a>, PG</td><td align=\"left\">WSH</td><td>8</td><td>33.6</td><td class=\"sortcell\">17.4</td><td>6.0-15.1</td><td>.397</td><td>1.1-4.4</td><td>.257</td><td>4.3-5.6</td><td>.756</td></tr>, <tr align=\"right\" class=\"oddrow player-46-3005\"><td align=\"left\">35</td><td align=\"left\"><a href=\"http://espn.go.com/nba/player/_/id/3005/rudy-gay\">Rudy Gay</a>, SF</td><td align=\"left\">SAC</td><td>9</td><td>32.0</td><td class=\"sortcell\">17.2</td><td>7.1-16.7</td><td>.427</td><td>1.0-2.9</td><td>.346</td><td>2.0-2.7</td><td>.750</td></tr>, <tr align=\"right\" class=\"evenrow player-46-3449\"><td align=\"left\"> </td><td align=\"left\"><a href=\"http://espn.go.com/nba/player/_/id/3449/kevin-love\">Kevin Love</a>, PF</td><td align=\"left\">CLE</td><td>10</td><td>34.9</td><td class=\"sortcell\">17.2</td><td>6.0-15.1</td><td>.397</td><td>2.3-7.1</td><td>.324</td><td>2.9-3.4</td><td>.853</td></tr>, <tr align=\"right\" class=\"oddrow player-46-3213\"><td align=\"left\"> </td><td align=\"left\"><a href=\"http://espn.go.com/nba/player/_/id/3213/al-horford\">Al Horford</a>, C</td><td align=\"left\">ATL</td><td>11</td><td>31.7</td><td class=\"sortcell\">17.2</td><td>7.3-14.0</td><td>.519</td><td>1.2-3.5</td><td>.342</td><td>1.5-1.6</td><td>.889</td></tr>, <tr align=\"right\" class=\"evenrow player-46-4015\"><td align=\"left\">38</td><td align=\"left\"><a href=\"http://espn.go.com/nba/player/_/id/4015/jeff-teague\">Jeff Teague</a>, PG</td><td align=\"left\">ATL</td><td>11</td><td>30.8</td><td class=\"sortcell\">17.1</td><td>6.0-14.1</td><td>.426</td><td>0.9-2.8</td><td>.323</td><td>4.2-4.9</td><td>.852</td></tr>, <tr align=\"right\" class=\"oddrow player-46-3015\"><td align=\"left\">39</td><td align=\"left\"><a href=\"http://espn.go.com/nba/player/_/id/3015/paul-millsap\">Paul Millsap</a>, PF</td><td align=\"left\">ATL</td><td>11</td><td>34.3</td><td class=\"sortcell\">16.9</td><td>5.8-12.3</td><td>.474</td><td>1.4-3.8</td><td>.357</td><td>3.9-5.4</td><td>.729</td></tr>, <tr align=\"right\" class=\"evenrow player-46-110\"><td align=\"left\"> </td><td align=\"left\"><a href=\"http://espn.go.com/nba/player/_/id/110/kobe-bryant\">Kobe Bryant</a>, SF</td><td align=\"left\">LAL</td><td>7</td><td>29.6</td><td class=\"sortcell\">16.9</td><td>5.4-16.0</td><td>.339</td><td>1.9-8.0</td><td>.232</td><td>4.1-5.0</td><td>.829</td></tr>]\n"
     ]
    }
   ],
   "source": [
    "table_rows = table.findAll('tr')\n",
    "print table_rows"
   ]
  },
  {
   "cell_type": "markdown",
   "metadata": {},
   "source": [
    "We will save our results in 2 different ways to demonstrate how we can handle both.  The first will be a list of dicts where the key is the field name and the value is the field value.  The second will just be a list of lists of stats with no field name values (we've already defined them earlier)."
   ]
  },
  {
   "cell_type": "code",
   "execution_count": 10,
   "metadata": {
    "collapsed": false
   },
   "outputs": [
    {
     "name": "stdout",
     "output_type": "stream",
     "text": [
      "[{u'FGM-FGA': u'11.1-21.5', u'MPG': u'35.1', u'FTM-FTA': u'6.0-6.5', u'FG%': u'.517', u'GP': u'11', u'PLAYER': u'Stephen Curry', u'FT%': u'.930', u'TEAM': u'GS', u'3PM-3PA': u'5.2-11.5', 'POSITION': u'PG', u'PTS': u'33.4', u'3P%': u'.452'}, {u'FGM-FGA': u'7.9-21.3', u'MPG': u'39.4', u'FTM-FTA': u'10.3-11.9', u'FG%': u'.371', u'GP': u'10', u'PLAYER': u'James Harden', u'FT%': u'.866', u'TEAM': u'HOU', u'3PM-3PA': u'2.3-9.6', 'POSITION': u'SG', u'PTS': u'28.4', u'3P%': u'.240'}, {u'FGM-FGA': u'9.6-19.1', u'MPG': u'34.8', u'FTM-FTA': u'6.3-7.0', u'FG%': u'.503', u'GP': u'8', u'PLAYER': u'Kevin Durant', u'FT%': u'.893', u'TEAM': u'OKC', u'3PM-3PA': u'2.6-5.9', 'POSITION': u'SF', u'PTS': u'28.1', u'3P%': u'.447'}, {u'FGM-FGA': u'10.5-20.8', u'MPG': u'36.3', u'FTM-FTA': u'4.9-8.1', u'FG%': u'.505', u'GP': u'10', u'PLAYER': u'LeBron James', u'FT%': u'.605', u'TEAM': u'CLE', u'3PM-3PA': u'1.1-4.2', 'POSITION': u'SF', u'PTS': u'27.0', u'3P%': u'.262'}, {u'FGM-FGA': u'8.3-19.7', u'MPG': u'30.3', u'FTM-FTA': u'8.3-11.0', u'FG%': u'.424', u'GP': u'6', u'PLAYER': u'DeMarcus Cousins', u'FT%': u'.758', u'TEAM': u'SAC', u'3PM-3PA': u'1.7-3.8', 'POSITION': u'PF', u'PTS': u'26.7', u'3P%': u'.435'}]\n"
     ]
    }
   ],
   "source": [
    "players_stats_dicts = []\n",
    "players_stats_array = []\n",
    "for row in table_rows:\n",
    "    if row.attrs['class'][0]=='colhead':\n",
    "        continue\n",
    "    player_stats = []\n",
    "    row_cols = row.find_all('td')\n",
    "    col_vals = []\n",
    "    player_col = row_cols[1]\n",
    "    player_name = player_col.find('a').string\n",
    "    player_position = player_col.contents[1]\n",
    "    player_position = player_position.split(' ')[1]\n",
    "    player_stats.append(player_name)\n",
    "    player_stats.append(player_position)\n",
    "    for i in range(2, len(row_cols)):\n",
    "        stat = row_cols[i].string\n",
    "        player_stats.append(stat)\n",
    "    players_stats_array.append(player_stats)\n",
    "    player_stats = dict(zip(cols, player_stats))\n",
    "    players_stats_dicts.append(player_stats)\n",
    "print players_stats_dicts[0:5]        "
   ]
  },
  {
   "cell_type": "markdown",
   "metadata": {},
   "source": [
    "Here we've used the zip function to combine pairs of lists into tuples, and then transformed that into a dict to get a dictionary of FIELD --> VALUE for every player in the table.\n",
    "\n",
    "Beautiful Soup has many other features, including the ability to step up, down, and sideways in the HTML tree and basically search for any tags, attributes, or values.  For more, take a look at the [Documentation](http://www.crummy.com/software/BeautifulSoup/bs4/doc/)"
   ]
  },
  {
   "cell_type": "markdown",
   "metadata": {},
   "source": [
    "## Load into Pandas\n",
    "\n",
    "Let's load our scraped data into Pandas and take a look at it.  Here is the first way we can do it, simply directly from the dictionary we defined."
   ]
  },
  {
   "cell_type": "code",
   "execution_count": 11,
   "metadata": {
    "collapsed": false
   },
   "outputs": [
    {
     "data": {
      "text/html": [
       "<div>\n",
       "<table border=\"1\" class=\"dataframe\">\n",
       "  <thead>\n",
       "    <tr style=\"text-align: right;\">\n",
       "      <th></th>\n",
       "      <th>3P%</th>\n",
       "      <th>3PM-3PA</th>\n",
       "      <th>FG%</th>\n",
       "      <th>FGM-FGA</th>\n",
       "      <th>FT%</th>\n",
       "      <th>FTM-FTA</th>\n",
       "      <th>GP</th>\n",
       "      <th>MPG</th>\n",
       "      <th>PLAYER</th>\n",
       "      <th>POSITION</th>\n",
       "      <th>PTS</th>\n",
       "      <th>TEAM</th>\n",
       "    </tr>\n",
       "  </thead>\n",
       "  <tbody>\n",
       "    <tr>\n",
       "      <th>0</th>\n",
       "      <td>.452</td>\n",
       "      <td>5.2-11.5</td>\n",
       "      <td>.517</td>\n",
       "      <td>11.1-21.5</td>\n",
       "      <td>.930</td>\n",
       "      <td>6.0-6.5</td>\n",
       "      <td>11</td>\n",
       "      <td>35.1</td>\n",
       "      <td>Stephen Curry</td>\n",
       "      <td>PG</td>\n",
       "      <td>33.4</td>\n",
       "      <td>GS</td>\n",
       "    </tr>\n",
       "    <tr>\n",
       "      <th>1</th>\n",
       "      <td>.240</td>\n",
       "      <td>2.3-9.6</td>\n",
       "      <td>.371</td>\n",
       "      <td>7.9-21.3</td>\n",
       "      <td>.866</td>\n",
       "      <td>10.3-11.9</td>\n",
       "      <td>10</td>\n",
       "      <td>39.4</td>\n",
       "      <td>James Harden</td>\n",
       "      <td>SG</td>\n",
       "      <td>28.4</td>\n",
       "      <td>HOU</td>\n",
       "    </tr>\n",
       "    <tr>\n",
       "      <th>2</th>\n",
       "      <td>.447</td>\n",
       "      <td>2.6-5.9</td>\n",
       "      <td>.503</td>\n",
       "      <td>9.6-19.1</td>\n",
       "      <td>.893</td>\n",
       "      <td>6.3-7.0</td>\n",
       "      <td>8</td>\n",
       "      <td>34.8</td>\n",
       "      <td>Kevin Durant</td>\n",
       "      <td>SF</td>\n",
       "      <td>28.1</td>\n",
       "      <td>OKC</td>\n",
       "    </tr>\n",
       "    <tr>\n",
       "      <th>3</th>\n",
       "      <td>.262</td>\n",
       "      <td>1.1-4.2</td>\n",
       "      <td>.505</td>\n",
       "      <td>10.5-20.8</td>\n",
       "      <td>.605</td>\n",
       "      <td>4.9-8.1</td>\n",
       "      <td>10</td>\n",
       "      <td>36.3</td>\n",
       "      <td>LeBron James</td>\n",
       "      <td>SF</td>\n",
       "      <td>27.0</td>\n",
       "      <td>CLE</td>\n",
       "    </tr>\n",
       "    <tr>\n",
       "      <th>4</th>\n",
       "      <td>.435</td>\n",
       "      <td>1.7-3.8</td>\n",
       "      <td>.424</td>\n",
       "      <td>8.3-19.7</td>\n",
       "      <td>.758</td>\n",
       "      <td>8.3-11.0</td>\n",
       "      <td>6</td>\n",
       "      <td>30.3</td>\n",
       "      <td>DeMarcus Cousins</td>\n",
       "      <td>PF</td>\n",
       "      <td>26.7</td>\n",
       "      <td>SAC</td>\n",
       "    </tr>\n",
       "  </tbody>\n",
       "</table>\n",
       "</div>"
      ],
      "text/plain": [
       "    3P%   3PM-3PA   FG%    FGM-FGA   FT%    FTM-FTA  GP   MPG  \\\n",
       "0  .452  5.2-11.5  .517  11.1-21.5  .930    6.0-6.5  11  35.1   \n",
       "1  .240   2.3-9.6  .371   7.9-21.3  .866  10.3-11.9  10  39.4   \n",
       "2  .447   2.6-5.9  .503   9.6-19.1  .893    6.3-7.0   8  34.8   \n",
       "3  .262   1.1-4.2  .505  10.5-20.8  .605    4.9-8.1  10  36.3   \n",
       "4  .435   1.7-3.8  .424   8.3-19.7  .758   8.3-11.0   6  30.3   \n",
       "\n",
       "             PLAYER POSITION   PTS TEAM  \n",
       "0     Stephen Curry       PG  33.4   GS  \n",
       "1      James Harden       SG  28.4  HOU  \n",
       "2      Kevin Durant       SF  28.1  OKC  \n",
       "3      LeBron James       SF  27.0  CLE  \n",
       "4  DeMarcus Cousins       PF  26.7  SAC  "
      ]
     },
     "execution_count": 11,
     "metadata": {},
     "output_type": "execute_result"
    }
   ],
   "source": [
    "import pandas as pd\n",
    "import numpy as np\n",
    "\n",
    "df = pd.DataFrame.from_dict(players_stats_dicts)\n",
    "df.head()"
   ]
  },
  {
   "cell_type": "markdown",
   "metadata": {},
   "source": [
    "Now here is a 2nd way we can do it.  We convert the 2D stats array into a numpy array and create a Pandas dataframe from it along with the list of column headers we defined earlier."
   ]
  },
  {
   "cell_type": "code",
   "execution_count": 12,
   "metadata": {
    "collapsed": false
   },
   "outputs": [
    {
     "data": {
      "text/html": [
       "<div>\n",
       "<table border=\"1\" class=\"dataframe\">\n",
       "  <thead>\n",
       "    <tr style=\"text-align: right;\">\n",
       "      <th></th>\n",
       "      <th>PLAYER</th>\n",
       "      <th>POSITION</th>\n",
       "      <th>TEAM</th>\n",
       "      <th>GP</th>\n",
       "      <th>MPG</th>\n",
       "      <th>PTS</th>\n",
       "      <th>FGM-FGA</th>\n",
       "      <th>FG%</th>\n",
       "      <th>3PM-3PA</th>\n",
       "      <th>3P%</th>\n",
       "      <th>FTM-FTA</th>\n",
       "      <th>FT%</th>\n",
       "    </tr>\n",
       "  </thead>\n",
       "  <tbody>\n",
       "    <tr>\n",
       "      <th>0</th>\n",
       "      <td>Stephen Curry</td>\n",
       "      <td>PG</td>\n",
       "      <td>GS</td>\n",
       "      <td>11</td>\n",
       "      <td>35.1</td>\n",
       "      <td>33.4</td>\n",
       "      <td>11.1-21.5</td>\n",
       "      <td>.517</td>\n",
       "      <td>5.2-11.5</td>\n",
       "      <td>.452</td>\n",
       "      <td>6.0-6.5</td>\n",
       "      <td>.930</td>\n",
       "    </tr>\n",
       "    <tr>\n",
       "      <th>1</th>\n",
       "      <td>James Harden</td>\n",
       "      <td>SG</td>\n",
       "      <td>HOU</td>\n",
       "      <td>10</td>\n",
       "      <td>39.4</td>\n",
       "      <td>28.4</td>\n",
       "      <td>7.9-21.3</td>\n",
       "      <td>.371</td>\n",
       "      <td>2.3-9.6</td>\n",
       "      <td>.240</td>\n",
       "      <td>10.3-11.9</td>\n",
       "      <td>.866</td>\n",
       "    </tr>\n",
       "    <tr>\n",
       "      <th>2</th>\n",
       "      <td>Kevin Durant</td>\n",
       "      <td>SF</td>\n",
       "      <td>OKC</td>\n",
       "      <td>8</td>\n",
       "      <td>34.8</td>\n",
       "      <td>28.1</td>\n",
       "      <td>9.6-19.1</td>\n",
       "      <td>.503</td>\n",
       "      <td>2.6-5.9</td>\n",
       "      <td>.447</td>\n",
       "      <td>6.3-7.0</td>\n",
       "      <td>.893</td>\n",
       "    </tr>\n",
       "    <tr>\n",
       "      <th>3</th>\n",
       "      <td>LeBron James</td>\n",
       "      <td>SF</td>\n",
       "      <td>CLE</td>\n",
       "      <td>10</td>\n",
       "      <td>36.3</td>\n",
       "      <td>27.0</td>\n",
       "      <td>10.5-20.8</td>\n",
       "      <td>.505</td>\n",
       "      <td>1.1-4.2</td>\n",
       "      <td>.262</td>\n",
       "      <td>4.9-8.1</td>\n",
       "      <td>.605</td>\n",
       "    </tr>\n",
       "    <tr>\n",
       "      <th>4</th>\n",
       "      <td>DeMarcus Cousins</td>\n",
       "      <td>PF</td>\n",
       "      <td>SAC</td>\n",
       "      <td>6</td>\n",
       "      <td>30.3</td>\n",
       "      <td>26.7</td>\n",
       "      <td>8.3-19.7</td>\n",
       "      <td>.424</td>\n",
       "      <td>1.7-3.8</td>\n",
       "      <td>.435</td>\n",
       "      <td>8.3-11.0</td>\n",
       "      <td>.758</td>\n",
       "    </tr>\n",
       "  </tbody>\n",
       "</table>\n",
       "</div>"
      ],
      "text/plain": [
       "             PLAYER POSITION TEAM  GP   MPG   PTS    FGM-FGA   FG%   3PM-3PA  \\\n",
       "0     Stephen Curry       PG   GS  11  35.1  33.4  11.1-21.5  .517  5.2-11.5   \n",
       "1      James Harden       SG  HOU  10  39.4  28.4   7.9-21.3  .371   2.3-9.6   \n",
       "2      Kevin Durant       SF  OKC   8  34.8  28.1   9.6-19.1  .503   2.6-5.9   \n",
       "3      LeBron James       SF  CLE  10  36.3  27.0  10.5-20.8  .505   1.1-4.2   \n",
       "4  DeMarcus Cousins       PF  SAC   6  30.3  26.7   8.3-19.7  .424   1.7-3.8   \n",
       "\n",
       "    3P%    FTM-FTA   FT%  \n",
       "0  .452    6.0-6.5  .930  \n",
       "1  .240  10.3-11.9  .866  \n",
       "2  .447    6.3-7.0  .893  \n",
       "3  .262    4.9-8.1  .605  \n",
       "4  .435   8.3-11.0  .758  "
      ]
     },
     "execution_count": 12,
     "metadata": {},
     "output_type": "execute_result"
    }
   ],
   "source": [
    "np_array = np.array(players_stats_array)\n",
    "df = pd.DataFrame(np_array, columns=cols)\n",
    "df.head()"
   ]
  },
  {
   "cell_type": "markdown",
   "metadata": {},
   "source": [
    "## Exercise\n",
    "\n",
    "The goal of this exercise is to combine the scoring and assists statistics for every player in the NBA in 2014-2015.  The end result will have them in a pandas dataframe with the fields from both pages for every player.\n",
    "\n",
    "The general steps should be as follows:\n",
    "- Create a function get_cols that retrieves the names of the header columns given a table element (skip the ranks, split the positions)\n",
    "- Create a function get_data that retrieves the actual table data given a table element (skip the ranks, split the positions).  You can use either the dict approach or the numpy array approach.\n",
    "- Write a python loop to loop through the various pages and call these functions on the appropriate urls so that you can retrieve every player (rather than just the top few).\n",
    "- Repeat the above on both the scoring and assists URLs to get a pandas dataframe for both of them\n",
    "- Use the pandas.DataFrame.join() function to join your 2 pandas dataframes together and get a total result"
   ]
  },
  {
   "cell_type": "code",
   "execution_count": 13,
   "metadata": {
    "collapsed": false
   },
   "outputs": [
    {
     "name": "stdout",
     "output_type": "stream",
     "text": [
      "<class 'bs4.BeautifulSoup'>\n"
     ]
    }
   ],
   "source": [
    "from bs4 import BeautifulSoup\n",
    "import urllib2\n",
    "page = urllib2.urlopen('http://espn.go.com/nba/statistics/player/_/stat/assists/qualified/false').read()\n",
    "soup = BeautifulSoup(page)\n",
    "print type(soup)"
   ]
  },
  {
   "cell_type": "code",
   "execution_count": 14,
   "metadata": {
    "collapsed": false
   },
   "outputs": [
    {
     "data": {
      "text/plain": [
       "u'<!DOCTYPE html>\\n<html xmlns:fb=\"http://www.facebook.com/2008/fbml\">\\n <head>\\n  <script src=\"http://sports-ak.espn.go.com/sports/optimizely.js\">\\n  </script>\\n  <meta charset=\"utf-8\"/>\\n  <meta content=\"IE=edge,chrome=1\" http-equiv=\"X-UA-Compatible\"/>\\n  <link href=\"http://a.espncdn.com/prod/assets/icons/E.svg\" mask=\"\" rel=\"icon\" sizes=\"any\"/>\\n  <meta content=\"#CC0000\" name=\"theme-color\"/>\\n  <script type=\"text/javascript\">\\n   if(true && navigator && navigator.userAgent.toLowerCase().indexOf(\"teamstream\") >= 0) {\\n        window.location = \\'http://a.m.espn.go.com/mobilecache/general/apps/sc\\';\\n    }\\n  </script>\\n  <title>\\n   2015-16 Regular Season NBA Player Stats and League Leaders - Assists - National Basketball Association - ESPN\\n  </title>\\n  <meta content=\"xuj1ODRluWa0frM-BjIr_aSHoUC7HB5C1MgmYAM_GkA\" name=\"google-site-verification\"/>\\n  <meta content=\"B1FEB7C682C46C8FCDA3130F3D18AC28\" name=\"msvalidate.01\"/>\\n  <meta content=\"noodp\" name=\"googlebot\"/>\\n  <meta content=\"index, follow\" name=\"robot'"
      ]
     },
     "execution_count": 14,
     "metadata": {},
     "output_type": "execute_result"
    }
   ],
   "source": [
    "soup.prettify()[0:1000]"
   ]
  },
  {
   "cell_type": "code",
   "execution_count": 15,
   "metadata": {
    "collapsed": false
   },
   "outputs": [
    {
     "name": "stdout",
     "output_type": "stream",
     "text": [
      "<div class=\"col-main\" id=\"my-players-table\">\n",
      " <div class=\"mod-container mod-table\">\n",
      "  <div class=\"mod-header stathead\">\n",
      "   <h4>\n",
      "    Assists Per Game Leaders - All Players\n",
      "   </h4>\n",
      "  </div>\n",
      "  <div class=\"mod-content\">\n",
      "   <table cellpadding=\"3\" cellspacing=\"1\" class=\"tablehead\">\n",
      "    <tr align=\"right\" class=\"colhead\">\n",
      "     <td align=\"left\" style=\"width:20px;\">\n",
      "      RK\n",
      "     </td>\n",
      "     <td align=\"left\">\n",
      "      PLAYER\n",
      "     </td>\n",
      "     <td align=\"left\">\n",
      "      TEAM\n",
      "     </td>\n",
      "     <td>\n",
      "      <a href=\"http://espn.go.com/nba/statistics/player/_/stat/assists/sort/gamesPlayed/qualified/false\" title=\"Games Played\">\n",
      "       GP\n",
      "      </a>\n",
      "     </td>\n",
      "     <td>\n",
      "      <a href=\"http://espn.go.com/nba/statistics/player/_/stat/assists/sort/avgMinutes/qualified/false\" title=\"Minutes Per Game\">\n",
      "       MPG\n",
      "      </a>\n",
      "     </td>\n",
      "     <td>\n",
      "      <a href=\"http://espn.go.com/nba/statistics/player/_/stat/assists/sort/assists/qualified/false\" title=\"Assists\">\n",
      "       AST\n",
      "      </a>\n",
      "     </td>\n",
      "     <td>\n",
      "      <a href=\"http://espn.go.com/nba/statistics/player/_/stat/assists/sort/avgAssists/qualified/false/order/false\" title=\"Assists Per Game\">\n",
      "       APG\n",
      "      </a>\n",
      "     </td>\n",
      "     <td>\n",
      "      <a href=\"http://espn.go.com/nba/statistics/player/_/stat/assists/sort/turnovers/qualified/false\" title=\"Turnovers\">\n",
      "       TO\n",
      "      </a>\n",
      "     </td>\n",
      "     <td>\n",
      "      <a href=\"http://espn.go.com/nba/statistics/player/_/stat/assists/sort/avgTurnovers/qualified/false\" title=\"Turnovers Per Game\">\n",
      "       TOPG\n",
      "      </a>\n",
      "     </td>\n",
      "     <td>\n",
      "      <a href=\"http://espn.go.com/nba/statistics/player/_/stat/assists/sort/avg48Assists/qualified/false\" title=\"Assists Per 48 Minutes\">\n",
      "       AP48M\n",
      "      </a>\n",
      "     </td>\n",
      "     <td>\n",
      "      <a href=\"http://espn.go.com/nba/statistics/player/_/stat/assists/sort/assistTurnoverRatio/qualified/false\" title=\"Assists Per Turnover\">\n",
      "       AST/TO\n",
      "      </a>\n",
      "     </td>\n",
      "    </tr>\n",
      "    <tr align=\"right\" class=\"oddrow player-46-3468\">\n",
      "     <td align=\"left\">\n",
      "      1\n",
      "     </td>\n",
      "     <td align=\"left\">\n",
      "      <a href=\"http://espn.go.com/nba/player/_/id/3468/russell-westbrook\">\n",
      "       Russell Westbrook\n",
      "      </a>\n",
      "      , PG\n",
      "     </td>\n",
      "     <td align=\"left\">\n",
      "      OKC\n",
      "     </td>\n",
      "     <td>\n",
      "      9\n",
      "     </td>\n",
      "     <td>\n",
      "      34.7\n",
      "     </td>\n",
      "     <td>\n",
      "      98\n",
      "     </td>\n",
      "     <td class=\"sortcell\">\n",
      "      10.9\n",
      "     </td>\n",
      "     <td>\n",
      "      45\n",
      "     </td>\n",
      "     <td>\n",
      "      5.0\n",
      "     </td>\n",
      "     <td>\n",
      "      15.1\n",
      "     </td>\n",
      "     <td>\n",
      "      2.18\n",
      "     </td>\n",
      "    </tr>\n",
      "    <tr align=\"right\" class=\"evenrow player-46-3026\">\n",
      "     <td align=\"left\">\n",
      "      2\n",
      "     </td>\n",
      "     <td align=\"left\">\n",
      "      <a href=\"http://espn.go.com/nba/player/_/id/3026/rajon-rondo\">\n",
      "       Rajon Rondo\n",
      "      </a>\n",
      "      , PG\n",
      "     </td>\n",
      "     <td align=\"left\">\n",
      "      SAC\n",
      "     </td>\n",
      "     <td>\n",
      "      10\n",
      "     </td>\n",
      "     <td>\n",
      "      34.7\n",
      "     </td>\n",
      "     <td>\n",
      "      91\n",
      "     </td>\n",
      "     <td class=\"sortcell\">\n",
      "      9.1\n",
      "     </td>\n",
      "     <td>\n",
      "      36\n",
      "     </td>\n",
      "     <td>\n",
      "      3.6\n",
      "     </td>\n",
      "     <td>\n",
      "      12.6\n",
      "     </td>\n",
      "     <td>\n",
      "      2.53\n",
      "     </td>\n",
      "    </tr>\n",
      "    <tr align=\"right\" class=\"oddrow player-46-4011\">\n",
      "     <td align=\"left\">\n",
      "      3\n",
      "     </td>\n",
      "     <td align=\"left\">\n",
      "      <a href=\"http://espn.go.com/nba/player/_/id/4011/ricky-rubio\">\n",
      "       Ricky Rubio\n",
      "      </a>\n",
      "      , PG\n",
      "     </td>\n",
      "     <td align=\"left\">\n",
      "      MIN\n",
      "     </td>\n",
      "     <td>\n",
      "      6\n",
      "     </td>\n",
      "     <td>\n",
      "      30.8\n",
      "     </td>\n",
      "     <td>\n",
      "      54\n",
      "     </td>\n",
      "     <td class=\"sortcell\">\n",
      "      9.0\n",
      "     </td>\n",
      "     <td>\n",
      "      12\n",
      "     </td>\n",
      "     <td>\n",
      "      2.0\n",
      "     </td>\n",
      "     <td>\n",
      "      14.0\n",
      "     </td>\n",
      "     <td>\n",
      "      4.50\n",
      "     </td>\n",
      "    </tr>\n",
      "    <tr align=\"right\" class=\"evenrow player-46-4237\">\n",
      "     <td align=\"left\">\n",
      "      4\n",
      "     </td>\n",
      "     <td align=\"left\">\n",
      "      <a href=\"http://espn.go.com/nba/player/_/id/4237/john-wall\">\n",
      "       John Wall\n",
      "      </a>\n",
      "      , PG\n",
      "     </td>\n",
      "     <td align=\"left\">\n",
      "      WSH\n",
      "     </td>\n",
      "     <td>\n",
      "      8\n",
      "     </td>\n",
      "     <td>\n",
      "      33.6\n",
      "     </td>\n",
      "     <td>\n",
      "      68\n",
      "     </td>\n",
      "     <td class=\"sortcell\">\n",
      "      8.5\n",
      "     </td>\n",
      "     <td>\n",
      " \n"
     ]
    }
   ],
   "source": [
    "table_div = soup.find(id='my-players-table')\n",
    "print table_div.prettify()[0:4000]"
   ]
  },
  {
   "cell_type": "code",
   "execution_count": 16,
   "metadata": {
    "collapsed": false
   },
   "outputs": [
    {
     "name": "stdout",
     "output_type": "stream",
     "text": [
      "<table cellpadding=\"3\" cellspacing=\"1\" class=\"tablehead\">\n",
      "<tr align=\"right\" class=\"colhead\"><td align=\"left\" style=\"width:20px;\">RK</td><td align=\"left\">PLAYER</td><td align=\"left\">TEAM</td><td><a href=\"http://espn.go.com/nba/statistics/player/_/stat/assists/sort/gamesPlayed/qualified/false\" title=\"Games Played\">GP</a></td><td><a href=\"http://espn.go.com/nba/statistics/player/_/stat/assists/sort/avgMinutes/qualified/false\" title=\"Minutes Per Game\">MPG</a></td><td><a href=\"http://espn.go.com/nba/statistics/player/_/stat/assists/sort/assists/qualified/false\" title=\"Assists\">AST</a></td><td><a href=\"http://espn.go.com/nba/statistics/player/_/stat/assists/sort/avgAssists/qualified/false/order/false\" title=\"Assists Per Game\">APG</a></td><td><a href=\"http://espn.go.com/nba/statistics/player/_/stat/assists/sort/turnovers/qualified/false\" title=\"Turnovers\">TO</a></td><td><a href=\"http://espn.go.com/nba/statistics/player/_/stat/assists/sort/avgTurnovers/qualified/false\" title=\"Turnovers Per Game\">TOPG</a></td><td><a href=\"http://espn.go.com/nba/statistics/player/_/stat/assists/sort/avg48Assists/qualified/false\" title=\"Assists Per 48 Minutes\">AP48M</a></td><td><a href=\"http://espn.go.com/nba/statistics/player/_/stat/assists/sort/assistTurnoverRatio/qualified/false\" title=\"Assists Per Turnover\">AST/TO</a></td></tr><tr align=\"right\" class=\"oddrow player-46-3468\"><td align=\"left\">1</td><td align=\"left\"><a href=\"http://espn.go.com/nba/player/_/id/3468/russell-westbrook\">Russell Westbrook</a>, PG</td><td align=\"left\">OKC</td><td>9</td><td>34.7</td><td>98</td><td class=\"sortcell\">10.9</td><td>45</td><td>5.0</td><td>15.1</td><td>2.18</td></tr><tr align=\"right\" class=\"evenrow player-46-3026\"><td align=\"left\">2</td><td align=\"left\"><a href=\"http://espn.go.com/nba/player/_/id/3026/rajon-rondo\">Rajon Rondo</a>, PG</td><td align=\"left\">SAC</td><td>10</td><td>34.7</td><td>91</td><td class=\"sortcell\">9.1</td><td>36</td><td>3.6</td><td>12.6</td><td>2.53</td></tr><tr align=\"right\" class=\"oddrow player-46-4011\"><td align=\"left\">3</td><td align=\"left\"><a href=\"http://espn.go.com/nba/player/_/id/4011/ricky-rubio\">Ricky Rubio</a>, PG</td><td align=\"left\">MIN</td><td>6</td><td>30.8</td><td>54</td><td class=\"sortcell\">9.0</td><td>12</td><td>2.0</td><td>14.0</td><td>4.50</td></tr><tr align=\"right\" class=\"evenrow player-46-4237\"><td align=\"left\">4</td><td align=\"left\"><a href=\"http://espn.go.com/nba/player/_/id/4237/john-wall\">John Wall</a>, PG</td><td align=\"left\">WSH</td><td>8</td><td>33.6</td><td>68</td><td class=\"sortcell\">8.5</td><td>34</td><td>4.3</td><td>12.1</td><td>2.00</td></tr><tr align=\"right\" class=\"oddrow player-46-2779\"><td align=\"left\">5</td><td align=\"left\"><a href=\"http://espn.go.com/nba/player/_/id/2779/chris-paul\">Chris Paul</a>, PG</td><td align=\"left\">LAC</td><td>7</td><td>32.6</td><td>56</td><td class=\"sortcell\">8.0</td><td>20</td><td>2.9</td><td>11.8</td><td>2.80</td></tr><tr align=\"right\" class=\"evenrow player-46-4305\"><td align=\"left\">6</td><td align=\"left\"><a href=\"http://espn.go.com/nba/player/_/id/4305/ish-smith\">Ish Smith</a>, PG</td><td align=\"left\">NO</td><td>9</td><td>27.8</td><td>71</td><td class=\"sortcell\">7.9</td><td>19</td><td>2.1</td><td>13.6</td><td>3.74</td></tr><tr align=\"right\" class=\"oddrow player-46-6606\"><td align=\"left\">7</td><td align=\"left\"><a href=\"http://espn.go.com/nba/player/_/id/6606/damian-lillard\">Damian Lillard</a>, PG</td><td align=\"left\">POR</td><td>10</td><td>36.8</td><td>74</td><td class=\"sortcell\">7.4</td><td>35</td><td>3.5</td><td>9.7</td><td>2.11</td></tr><tr align=\"right\" class=\"evenrow player-46-2768\"><td align=\"left\">8</td><td align=\"left\"><a href=\"http://espn.go.com/nba/player/_/id/2768/jarrett-jack\">Jarrett Jack</a>, PG</td><td align=\"left\">BKN</td><td>9</td><td>32.9</td><td>66</td><td class=\"sortcell\">7.3</td><td>22</td><td>2.4</td><td>10.7</td><td>3.00</td></tr><tr align=\"right\" class=\"oddrow player-46-6589\"><td align=\"left\">9</td><td align=\"left\"><a href=\"http://espn.go.com/nba/player/_/id/6589/draymond-green\">Draymond Green</a>, SF</td><td align=\"left\">GS</td><td>11</td><td>33.9</td><td>78</td><td class=\"sortcell\">7.1</td><td>27</td><td>2.5</td><td>10.0</td><td>2.89</td></tr><tr align=\"right\" class=\"evenrow player-46-2530530\"><td align=\"left\">10</td><td align=\"left\"><a href=\"http://espn.go.com/nba/player/_/id/2530530/t.j.-mcconnell\">T.J. McConnell</a>, PG</td><td align=\"left\">PHI</td><td>10</td><td>29.2</td><td>70</td><td class=\"sortcell\">7.0</td><td>24</td><td>2.4</td><td>11.5</td><td>2.92</td></tr><tr align=\"right\" class=\"colhead\"><td align=\"left\" style=\"width:20px;\">RK</td><td align=\"left\">PLAYER</td><td align=\"left\">TEAM</td><td><a href=\"http://espn.go.com/nba/statistics/player/_/stat/assists/sort/gamesPlayed/qualified/false\" title=\"Games Played\">GP</a></td><td><a href=\"http://espn.go.com/nba/statistics/player/_/stat/assists/sort/avgMinutes/qualified/false\" title=\"Minutes Per Game\">MPG</a></td><td><a href=\"http://espn.go.com/nba/statistics/player/_/stat/assists/sort/assists/qualified/false\" title=\"Assists\">AST</a></td><td><a href=\"http://espn.go.com/nba/statistics/player/_/stat/assists/sort/avgAssists/qualified/false/order/false\" title=\"Assists Per Game\">APG</a></td><td><a href=\"http://espn.go.com/nba/statistics/player/_/stat/assists/sort/turnovers/qualified/false\" title=\"Turnovers\">TO</a></td><td><a href=\"http://espn.go.com/nba/statistics/player/_/stat/assists/sort/avgTurnovers/qualified/false\" title=\"Turnovers Per Game\">TOPG</a></td><td><a href=\"http://espn.go.com/nba/statistics/player/_/stat/assists/sort/avg48Assists/qualified/false\" title=\"Assists Per 48 Minutes\">AP48M</a></td><td><a href=\"http://espn.go.com/nba/statistics/player/_/stat/assists/sort/assistTurnoverRatio/qualified/false\" title=\"Assists Per Turnover\">AST/TO</a></td></tr><tr align=\"right\" class=\"oddrow player-46-3012\"><td align=\"left\">11</td><td align=\"left\"><a href=\"http://espn.go.com/nba/player/_/id/3012/kyle-lowry\">Kyle Lowry</a>, PG</td><td align=\"left\">TOR</td><td>10</td><td>34.2</td><td>66</td><td class=\"sortcell\">6.6</td><td>31</td><td>3.1</td><td>9.3</td><td>2.13</td></tr><tr align=\"right\" class=\"evenrow player-46-3195\"><td align=\"left\"> </td><td align=\"left\"><a href=\"http://espn.go.com/nba/player/_/id/3195/mike-conley\">Mike Conley</a>, PG</td><td align=\"left\">MEM</td><td>10</td><td>31.6</td><td>66</td><td class=\"sortcell\">6.6</td><td>20</td><td>2.0</td><td>10.0</td><td>3.30</td></tr><tr align=\"right\" class=\"oddrow player-46-4015\"><td align=\"left\">13</td><td align=\"left\"><a href=\"http://espn.go.com/nba/player/_/id/4015/jeff-teague\">Jeff Teague</a>, PG</td><td align=\"left\">ATL</td><td>11</td><td>30.8</td><td>72</td><td class=\"sortcell\">6.5</td><td>34</td><td>3.1</td><td>10.2</td><td>2.12</td></tr><tr align=\"right\" class=\"evenrow player-46-1966\"><td align=\"left\">14</td><td align=\"left\"><a href=\"http://espn.go.com/nba/player/_/id/1966/lebron-james\">LeBron James</a>, SF</td><td align=\"left\">CLE</td><td>10</td><td>36.3</td><td>64</td><td class=\"sortcell\">6.4</td><td>33</td><td>3.3</td><td>8.5</td><td>1.94</td></tr><tr align=\"right\" class=\"oddrow player-46-4238\"><td align=\"left\">15</td><td align=\"left\"><a href=\"http://espn.go.com/nba/player/_/id/4238/eric-bledsoe\">Eric Bledsoe</a>, PG</td><td align=\"left\">PHX</td><td>9</td><td>34.0</td><td>56</td><td class=\"sortcell\">6.2</td><td>31</td><td>3.4</td><td>8.8</td><td>1.81</td></tr><tr align=\"right\" class=\"evenrow player-46-3892818\"><td align=\"left\"> </td><td align=\"left\"><a href=\"http://espn.go.com/nba/player/_/id/3892818/emmanuel-mudiay\">Emmanuel Mudiay</a>, PG</td><td align=\"left\">DEN</td><td>10</td><td>30.4</td><td>62</td><td class=\"sortcell\">6.2</td><td>47</td><td>4.7</td><td>9.8</td><td>1.32</td></tr><tr align=\"right\" class=\"oddrow player-46-2596108\"><td align=\"left\"> </td><td align=\"left\"><a href=\"http://espn.go.com/nba/player/_/id/2596108/michael-carter-williams\">Michael Carter-Williams</a>, PG</td><td align=\"left\">MIL</td><td>5</td><td>33.0</td><td>31</td><td class=\"sortcell\">6.2</td><td>18</td><td>3.6</td><td>9.0</td><td>1.72</td></tr><tr align=\"right\" class=\"evenrow player-46-6472\"><td align=\"left\">18</td><td align=\"left\"><a href=\"http://espn.go.com/nba/player/_/id/6472/isaiah-thomas\">Isaiah Thomas</a>, PG</td><td align=\"left\">BOS</td><td>8</td><td>30.5</td><td>49</td><td class=\"sortcell\">6.1</td><td>23</td><td>2.9</td><td>9.6</td><td>2.13</td></tr><tr align=\"right\" class=\"oddrow player-46-3992\"><td align=\"left\"> </td><td align=\"left\"><a href=\"http://espn.go.com/nba/player/_/id/3992/james-harden\">James Harden</a>, SG</td><td align=\"left\">HOU</td><td>10</td><td>39.4</td><td>61</td><td class=\"sortcell\">6.1</td><td>49</td><td>4.9</td><td>7.4</td><td>1.24</td></tr><tr align=\"right\" class=\"evenrow player-46-2583639\"><td align=\"left\">20</td><td align=\"left\"><a href=\"http://espn.go.com/nba/player/_/id/2583639/elfrid-payton\">Elfrid Payton</a>, PG</td><td align=\"left\">ORL</td><td>11</td><td>31.0</td><td>66</td><td class=\"sortcell\">6.0</td><td>31</td><td>2.8</td><td>9.3</td><td>2.13</td></tr><tr align=\"right\" class=\"colhead\"><td align=\"left\" style=\"width:20px;\">RK</td><td align=\"left\">PLAYER</td><td align=\"left\">TEAM</td><td><a href=\"http://espn.go.com/nba/statistics/player/_/stat/assists/sort/gamesPlayed/qualified/false\" title=\"Games Played\">GP</a></td><td><a href=\"http://espn.go.com/nba/statistics/player/_/stat/assists/sort/avgMinutes/qualified/false\" title=\"Minutes Per Game\">MPG</a></td><td><a href=\"http://espn.go.com/nba/statistics/player/_/stat/assists/sort/assists/qualified/false\" title=\"Assists\">AST</a></td><td><a href=\"http://espn.go.com/nba/statistics/player/_/stat/assists/sort/avgAssists/qualified/false/order/false\" title=\"Assists Per Game\">APG</a></td><td><a href=\"http://espn.go.com/nba/statistics/player/_/stat/assists/sort/turnovers/qualified/false\" title=\"Turnovers\">TO</a></td><td><a href=\"http://espn.go.com/nba/statistics/player/_/stat/assists/sort/avgTurnovers/qualified/false\" title=\"Turnovers Per Game\">TOPG</a></td><td><a href=\"http://espn.go.com/nba/statistics/player/_/stat/assists/sort/avg48Assists/qualified/false\" title=\"Assists Per 48 Minutes\">AP48M</a></td><td><a href=\"http://espn.go.com/nba/statistics/player/_/stat/assists/sort/assistTurnoverRatio/qualified/false\" title=\"Assists Per Turnover\">AST/TO</a></td></tr><tr align=\"right\" class=\"oddrow player-46-3456\"><td align=\"left\"> </td><td align=\"left\"><a href=\"http://espn.go.com/nba/player/_/id/3456/derrick-rose\">Derrick Rose</a>, PG</td><td align=\"left\">CHI</td><td>9</td><td>32.2</td><td>54</td><td class=\"sortcell\">6.0</td><td>26</td><td>2.9</td><td>8.9</td><td>2.08</td></tr><tr align=\"right\" class=\"evenrow player-46-4000\"><td align=\"left\">22</td><td align=\"left\"><a href=\"http://espn.go.com/nba/player/_/id/4000/ty-lawson\">Ty Lawson</a>, PG</td><td align=\"left\">HOU</td><td>10</td><td>37.2</td><td>57</td><td class=\"sortcell\">5.7</td><td>24</td><td>2.4</td><td>7.4</td><td>2.38</td></tr><tr align=\"right\" class=\"oddrow player-46-3975\"><td align=\"left\">23</td><td align=\"left\"><a href=\"http://espn.go.com/nba/player/_/id/3975/stephen-curry\">Stephen Curry</a>, PG</td><td align=\"left\">GS</td><td>11</td><td>35.1</td><td>62</td><td class=\"sortcell\">5.6</td><td>34</td><td>3.1</td><td>7.7</td><td>1.82</td></tr><tr align=\"right\" class=\"evenrow player-46-6479\"><td align=\"left\">24</td><td align=\"left\"><a href=\"http://espn.go.com/nba/player/_/id/6479/kemba-walker\">Kemba Walker</a>, PG</td><td align=\"left\">CHA</td><td>9</td><td>31.7</td><td>48</td><td class=\"sortcell\">5.3</td><td>16</td><td>1.8</td><td>8.1</td><td>3.00</td></tr><tr align=\"right\" class=\"oddrow player-46-2489716\"><td align=\"left\"> </td><td align=\"left\"><a href=\"http://espn.go.com/nba/player/_/id/2489716/matthew-dellavedova\">Matthew Dellavedova</a>, SG</td><td align=\"left\">CLE</td><td>10</td><td>26.5</td><td>53</td><td class=\"sortcell\">5.3</td><td>15</td><td>1.5</td><td>9.6</td><td>3.53</td></tr><tr align=\"right\" class=\"evenrow player-46-2798\"><td align=\"left\">26</td><td align=\"left\"><a href=\"http://espn.go.com/nba/player/_/id/2798/deron-williams\">Deron Williams</a>, PG</td><td align=\"left\">DAL</td><td>9</td><td>29.7</td><td>47</td><td class=\"sortcell\">5.2</td><td>15</td><td>1.7</td><td>8.4</td><td>3.13</td></tr><tr align=\"right\" class=\"oddrow player-46-6443\"><td align=\"left\"> </td><td align=\"left\"><a href=\"http://espn.go.com/nba/player/_/id/6443/reggie-jackson\">Reggie Jackson</a>, PG</td><td align=\"left\">DET</td><td>9</td><td>32.9</td><td>47</td><td class=\"sortcell\">5.2</td><td>35</td><td>3.9</td><td>7.6</td><td>1.34</td></tr><tr align=\"right\" class=\"evenrow player-46-3973\"><td align=\"left\"> </td><td align=\"left\"><a href=\"http://espn.go.com/nba/player/_/id/3973/darren-collison\">Darren Collison</a>, PG</td><td align=\"left\">SAC</td><td>6</td><td>30.7</td><td>31</td><td class=\"sortcell\">5.2</td><td>12</td><td>2.0</td><td>8.1</td><td>2.58</td></tr><tr align=\"right\" class=\"oddrow player-46-2178\"><td align=\"left\">29</td><td align=\"left\"><a href=\"http://espn.go.com/nba/player/_/id/2178/mo-williams\">Mo Williams</a>, PG</td><td align=\"left\">CLE</td><td>10</td><td>31.5</td><td>51</td><td class=\"sortcell\">5.1</td><td>22</td><td>2.2</td><td>7.8</td><td>2.32</td></tr><tr align=\"right\" class=\"evenrow player-46-3055\"><td align=\"left\"> </td><td align=\"left\"><a href=\"http://espn.go.com/nba/player/_/id/3055/j.j.-barea\">J.J. Barea</a>, PG</td><td align=\"left\">DAL</td><td>10</td><td>21.0</td><td>51</td><td class=\"sortcell\">5.1</td><td>21</td><td>2.1</td><td>11.7</td><td>2.43</td></tr><tr align=\"right\" class=\"colhead\"><td align=\"left\" style=\"width:20px;\">RK</td><td align=\"left\">PLAYER</td><td align=\"left\">TEAM</td><td><a href=\"http://espn.go.com/nba/statistics/player/_/stat/assists/sort/gamesPlayed/qualified/false\" title=\"Games Played\">GP</a></td><td><a href=\"http://espn.go.com/nba/statistics/player/_/stat/assists/sort/avgMinutes/qualified/false\" title=\"Minutes Per Game\">MPG</a></td><td><a href=\"http://espn.go.com/nba/statistics/player/_/stat/assists/sort/assists/qualified/false\" title=\"Assists\">AST</a></td><td><a href=\"http://espn.go.com/nba/statistics/player/_/stat/assists/sort/avgAssists/qualified/false/order/false\" title=\"Assists Per Game\">APG</a></td><td><a href=\"http://espn.go.com/nba/statistics/player/_/stat/assists/sort/turnovers/qualified/false\" title=\"Turnovers\">TO</a></td><td><a href=\"http://espn.go.com/nba/statistics/player/_/stat/assists/sort/avgTurnovers/qualified/false\" title=\"Turnovers Per Game\">TOPG</a></td><td><a href=\"http://espn.go.com/nba/statistics/player/_/stat/assists/sort/avg48Assists/qualified/false\" title=\"Assists Per 48 Minutes\">AP48M</a></td><td><a href=\"http://espn.go.com/nba/statistics/player/_/stat/assists/sort/assistTurnoverRatio/qualified/false\" title=\"Assists Per Turnover\">AST/TO</a></td></tr><tr align=\"right\" class=\"oddrow player-46-4291\"><td align=\"left\">31</td><td align=\"left\"><a href=\"http://espn.go.com/nba/player/_/id/4291/greivis-vasquez\">Greivis Vasquez</a>, PG</td><td align=\"left\">MIL</td><td>10</td><td>25.4</td><td>50</td><td class=\"sortcell\">5.0</td><td>18</td><td>1.8</td><td>9.4</td><td>2.78</td></tr><tr align=\"right\" class=\"evenrow player-46-2751\"><td align=\"left\">32</td><td align=\"left\"><a href=\"http://espn.go.com/nba/player/_/id/2751/monta-ellis\">Monta Ellis</a>, PG</td><td align=\"left\">IND</td><td>10</td><td>33.6</td><td>49</td><td class=\"sortcell\">4.9</td><td>25</td><td>2.5</td><td>7.0</td><td>1.96</td></tr><tr align=\"right\" class=\"oddrow player-46-4251\"><td align=\"left\">33</td><td align=\"left\"><a href=\"http://espn.go.com/nba/player/_/id/4251/paul-george\">Paul George</a>, SF</td><td align=\"left\">IND</td><td>10</td><td>36.2</td><td>46</td><td class=\"sortcell\">4.6</td><td>37</td><td>3.7</td><td>6.1</td><td>1.24</td></tr><tr align=\"right\" class=\"evenrow player-46-2439\"><td align=\"left\">34</td><td align=\"left\"><a href=\"http://espn.go.com/nba/player/_/id/2439/jameer-nelson\">Jameer Nelson</a>, PG</td><td align=\"left\">DEN</td><td>8</td><td>24.6</td><td>36</td><td class=\"sortcell\">4.5</td><td>17</td><td>2.1</td><td>8.8</td><td>2.12</td></tr><tr align=\"right\" class=\"oddrow player-46-3995\"><td align=\"left\"> </td><td align=\"left\"><a href=\"http://espn.go.com/nba/player/_/id/3995/jrue-holiday\">Jrue Holiday</a>, PG</td><td align=\"left\">NO</td><td>6</td><td>21.8</td><td>27</td><td class=\"sortcell\">4.5</td><td>19</td><td>3.2</td><td>9.9</td><td>1.42</td></tr><tr align=\"right\" class=\"evenrow player-46-1007\"><td align=\"left\">36</td><td align=\"left\"><a href=\"http://espn.go.com/nba/player/_/id/1007/joe-johnson\">Joe Johnson</a>, SF</td><td align=\"left\">BKN</td><td>10</td><td>34.9</td><td>44</td><td class=\"sortcell\">4.4</td><td>15</td><td>1.5</td><td>6.1</td><td>2.93</td></tr><tr align=\"right\" class=\"oddrow player-46-1987\"><td align=\"left\"> </td><td align=\"left\"><a href=\"http://espn.go.com/nba/player/_/id/1987/dwyane-wade\">Dwyane Wade</a>, SG</td><td align=\"left\">MIA</td><td>8</td><td>28.8</td><td>35</td><td class=\"sortcell\">4.4</td><td>17</td><td>2.1</td><td>7.3</td><td>2.06</td></tr><tr align=\"right\" class=\"evenrow player-46-3989\"><td align=\"left\">38</td><td align=\"left\"><a href=\"http://espn.go.com/nba/player/_/id/3989/blake-griffin\">Blake Griffin</a>, PF</td><td align=\"left\">LAC</td><td>10</td><td>34.1</td><td>43</td><td class=\"sortcell\">4.3</td><td>17</td><td>1.7</td><td>6.1</td><td>2.53</td></tr><tr align=\"right\" class=\"oddrow player-46-3064440\"><td align=\"left\">39</td><td align=\"left\"><a href=\"http://espn.go.com/nba/player/_/id/3064440/zach-lavine\">Zach LaVine</a>, PG</td><td align=\"left\">MIN</td><td>9</td><td>23.4</td><td>37</td><td class=\"sortcell\">4.1</td><td>25</td><td>2.8</td><td>8.4</td><td>1.48</td></tr><tr align=\"right\" class=\"evenrow player-46-3978\"><td align=\"left\"> </td><td align=\"left\"><a href=\"http://espn.go.com/nba/player/_/id/3978/demar-derozan\">DeMar DeRozan</a>, SG</td><td align=\"left\">TOR</td><td>10</td><td>35.3</td><td>41</td><td class=\"sortcell\">4.1</td><td>22</td><td>2.2</td><td>5.6</td><td>1.86</td></tr>\n",
      "</table>\n"
     ]
    }
   ],
   "source": [
    "table = table_div.find(\"table\")\n",
    "print table"
   ]
  },
  {
   "cell_type": "code",
   "execution_count": 17,
   "metadata": {
    "collapsed": false
   },
   "outputs": [
    {
     "name": "stdout",
     "output_type": "stream",
     "text": [
      "<tr align=\"right\" class=\"colhead\">\n",
      " <td align=\"left\" style=\"width:20px;\">\n",
      "  RK\n",
      " </td>\n",
      " <td align=\"left\">\n",
      "  PLAYER\n",
      " </td>\n",
      " <td align=\"left\">\n",
      "  TEAM\n",
      " </td>\n",
      " <td>\n",
      "  <a href=\"http://espn.go.com/nba/statistics/player/_/stat/assists/sort/gamesPlayed/qualified/false\" title=\"Games Played\">\n",
      "   GP\n",
      "  </a>\n",
      " </td>\n",
      " <td>\n",
      "  <a href=\"http://espn.go.com/nba/statistics/player/_/stat/assists/sort/avgMinutes/qualified/false\" title=\"Minutes Per Game\">\n",
      "   MPG\n",
      "  </a>\n",
      " </td>\n",
      " <td>\n",
      "  <a href=\"http://espn.go.com/nba/statistics/player/_/stat/assists/sort/assists/qualified/false\" title=\"Assists\">\n",
      "   AST\n",
      "  </a>\n",
      " </td>\n",
      " <td>\n",
      "  <a href=\"http://espn.go.com/nba/statistics/player/_/stat/assists/sort/avgAssists/qualified/false/order/false\" title=\"Assists Per Game\">\n",
      "   APG\n",
      "  </a>\n",
      " </td>\n",
      " <td>\n",
      "  <a href=\"http://espn.go.com/nba/statistics/player/_/stat/assists/sort/turnovers/qualified/false\" title=\"Turnovers\">\n",
      "   TO\n",
      "  </a>\n",
      " </td>\n",
      " <td>\n",
      "  <a href=\"http://espn.go.com/nba/statistics/player/_/stat/assists/sort/avgTurnovers/qualified/false\" title=\"Turnovers Per Game\">\n",
      "   TOPG\n",
      "  </a>\n",
      " </td>\n",
      " <td>\n",
      "  <a href=\"http://espn.go.com/nba/statistics/player/_/stat/assists/sort/avg48Assists/qualified/false\" title=\"Assists Per 48 Minutes\">\n",
      "   AP48M\n",
      "  </a>\n",
      " </td>\n",
      " <td>\n",
      "  <a href=\"http://espn.go.com/nba/statistics/player/_/stat/assists/sort/assistTurnoverRatio/qualified/false\" title=\"Assists Per Turnover\">\n",
      "   AST/TO\n",
      "  </a>\n",
      " </td>\n",
      "</tr>\n",
      "\n"
     ]
    }
   ],
   "source": [
    "table_head = table.find(attrs={\"class\":'colhead'})\n",
    "print table_head.prettify()"
   ]
  },
  {
   "cell_type": "code",
   "execution_count": 18,
   "metadata": {
    "collapsed": false
   },
   "outputs": [
    {
     "name": "stdout",
     "output_type": "stream",
     "text": [
      "[<td align=\"left\" style=\"width:20px;\">RK</td>, <td align=\"left\">PLAYER</td>, <td align=\"left\">TEAM</td>, <td><a href=\"http://espn.go.com/nba/statistics/player/_/stat/assists/sort/gamesPlayed/qualified/false\" title=\"Games Played\">GP</a></td>, <td><a href=\"http://espn.go.com/nba/statistics/player/_/stat/assists/sort/avgMinutes/qualified/false\" title=\"Minutes Per Game\">MPG</a></td>, <td><a href=\"http://espn.go.com/nba/statistics/player/_/stat/assists/sort/assists/qualified/false\" title=\"Assists\">AST</a></td>, <td><a href=\"http://espn.go.com/nba/statistics/player/_/stat/assists/sort/avgAssists/qualified/false/order/false\" title=\"Assists Per Game\">APG</a></td>, <td><a href=\"http://espn.go.com/nba/statistics/player/_/stat/assists/sort/turnovers/qualified/false\" title=\"Turnovers\">TO</a></td>, <td><a href=\"http://espn.go.com/nba/statistics/player/_/stat/assists/sort/avgTurnovers/qualified/false\" title=\"Turnovers Per Game\">TOPG</a></td>, <td><a href=\"http://espn.go.com/nba/statistics/player/_/stat/assists/sort/avg48Assists/qualified/false\" title=\"Assists Per 48 Minutes\">AP48M</a></td>, <td><a href=\"http://espn.go.com/nba/statistics/player/_/stat/assists/sort/assistTurnoverRatio/qualified/false\" title=\"Assists Per Turnover\">AST/TO</a></td>]\n"
     ]
    }
   ],
   "source": [
    "header_cols = table_head.findAll('td')\n",
    "print header_cols"
   ]
  },
  {
   "cell_type": "code",
   "execution_count": 19,
   "metadata": {
    "collapsed": false
   },
   "outputs": [
    {
     "name": "stdout",
     "output_type": "stream",
     "text": [
      "[u'PLAYER', 'POSITION', u'TEAM', u'GP', u'MPG', u'AST', u'APG', u'TO', u'TOPG', u'AP48M', u'AST/TO']\n"
     ]
    }
   ],
   "source": [
    "cols = []\n",
    "for header_col in header_cols:\n",
    "    val = header_col.string\n",
    "    if val != 'RK':\n",
    "        cols.append(val)\n",
    "    if val == 'PLAYER':\n",
    "        cols.append('POSITION')\n",
    "print cols"
   ]
  },
  {
   "cell_type": "code",
   "execution_count": 20,
   "metadata": {
    "collapsed": false
   },
   "outputs": [
    {
     "name": "stdout",
     "output_type": "stream",
     "text": [
      "[<tr align=\"right\" class=\"colhead\"><td align=\"left\" style=\"width:20px;\">RK</td><td align=\"left\">PLAYER</td><td align=\"left\">TEAM</td><td><a href=\"http://espn.go.com/nba/statistics/player/_/stat/assists/sort/gamesPlayed/qualified/false\" title=\"Games Played\">GP</a></td><td><a href=\"http://espn.go.com/nba/statistics/player/_/stat/assists/sort/avgMinutes/qualified/false\" title=\"Minutes Per Game\">MPG</a></td><td><a href=\"http://espn.go.com/nba/statistics/player/_/stat/assists/sort/assists/qualified/false\" title=\"Assists\">AST</a></td><td><a href=\"http://espn.go.com/nba/statistics/player/_/stat/assists/sort/avgAssists/qualified/false/order/false\" title=\"Assists Per Game\">APG</a></td><td><a href=\"http://espn.go.com/nba/statistics/player/_/stat/assists/sort/turnovers/qualified/false\" title=\"Turnovers\">TO</a></td><td><a href=\"http://espn.go.com/nba/statistics/player/_/stat/assists/sort/avgTurnovers/qualified/false\" title=\"Turnovers Per Game\">TOPG</a></td><td><a href=\"http://espn.go.com/nba/statistics/player/_/stat/assists/sort/avg48Assists/qualified/false\" title=\"Assists Per 48 Minutes\">AP48M</a></td><td><a href=\"http://espn.go.com/nba/statistics/player/_/stat/assists/sort/assistTurnoverRatio/qualified/false\" title=\"Assists Per Turnover\">AST/TO</a></td></tr>, <tr align=\"right\" class=\"oddrow player-46-3468\"><td align=\"left\">1</td><td align=\"left\"><a href=\"http://espn.go.com/nba/player/_/id/3468/russell-westbrook\">Russell Westbrook</a>, PG</td><td align=\"left\">OKC</td><td>9</td><td>34.7</td><td>98</td><td class=\"sortcell\">10.9</td><td>45</td><td>5.0</td><td>15.1</td><td>2.18</td></tr>, <tr align=\"right\" class=\"evenrow player-46-3026\"><td align=\"left\">2</td><td align=\"left\"><a href=\"http://espn.go.com/nba/player/_/id/3026/rajon-rondo\">Rajon Rondo</a>, PG</td><td align=\"left\">SAC</td><td>10</td><td>34.7</td><td>91</td><td class=\"sortcell\">9.1</td><td>36</td><td>3.6</td><td>12.6</td><td>2.53</td></tr>, <tr align=\"right\" class=\"oddrow player-46-4011\"><td align=\"left\">3</td><td align=\"left\"><a href=\"http://espn.go.com/nba/player/_/id/4011/ricky-rubio\">Ricky Rubio</a>, PG</td><td align=\"left\">MIN</td><td>6</td><td>30.8</td><td>54</td><td class=\"sortcell\">9.0</td><td>12</td><td>2.0</td><td>14.0</td><td>4.50</td></tr>, <tr align=\"right\" class=\"evenrow player-46-4237\"><td align=\"left\">4</td><td align=\"left\"><a href=\"http://espn.go.com/nba/player/_/id/4237/john-wall\">John Wall</a>, PG</td><td align=\"left\">WSH</td><td>8</td><td>33.6</td><td>68</td><td class=\"sortcell\">8.5</td><td>34</td><td>4.3</td><td>12.1</td><td>2.00</td></tr>, <tr align=\"right\" class=\"oddrow player-46-2779\"><td align=\"left\">5</td><td align=\"left\"><a href=\"http://espn.go.com/nba/player/_/id/2779/chris-paul\">Chris Paul</a>, PG</td><td align=\"left\">LAC</td><td>7</td><td>32.6</td><td>56</td><td class=\"sortcell\">8.0</td><td>20</td><td>2.9</td><td>11.8</td><td>2.80</td></tr>, <tr align=\"right\" class=\"evenrow player-46-4305\"><td align=\"left\">6</td><td align=\"left\"><a href=\"http://espn.go.com/nba/player/_/id/4305/ish-smith\">Ish Smith</a>, PG</td><td align=\"left\">NO</td><td>9</td><td>27.8</td><td>71</td><td class=\"sortcell\">7.9</td><td>19</td><td>2.1</td><td>13.6</td><td>3.74</td></tr>, <tr align=\"right\" class=\"oddrow player-46-6606\"><td align=\"left\">7</td><td align=\"left\"><a href=\"http://espn.go.com/nba/player/_/id/6606/damian-lillard\">Damian Lillard</a>, PG</td><td align=\"left\">POR</td><td>10</td><td>36.8</td><td>74</td><td class=\"sortcell\">7.4</td><td>35</td><td>3.5</td><td>9.7</td><td>2.11</td></tr>, <tr align=\"right\" class=\"evenrow player-46-2768\"><td align=\"left\">8</td><td align=\"left\"><a href=\"http://espn.go.com/nba/player/_/id/2768/jarrett-jack\">Jarrett Jack</a>, PG</td><td align=\"left\">BKN</td><td>9</td><td>32.9</td><td>66</td><td class=\"sortcell\">7.3</td><td>22</td><td>2.4</td><td>10.7</td><td>3.00</td></tr>, <tr align=\"right\" class=\"oddrow player-46-6589\"><td align=\"left\">9</td><td align=\"left\"><a href=\"http://espn.go.com/nba/player/_/id/6589/draymond-green\">Draymond Green</a>, SF</td><td align=\"left\">GS</td><td>11</td><td>33.9</td><td>78</td><td class=\"sortcell\">7.1</td><td>27</td><td>2.5</td><td>10.0</td><td>2.89</td></tr>, <tr align=\"right\" class=\"evenrow player-46-2530530\"><td align=\"left\">10</td><td align=\"left\"><a href=\"http://espn.go.com/nba/player/_/id/2530530/t.j.-mcconnell\">T.J. McConnell</a>, PG</td><td align=\"left\">PHI</td><td>10</td><td>29.2</td><td>70</td><td class=\"sortcell\">7.0</td><td>24</td><td>2.4</td><td>11.5</td><td>2.92</td></tr>, <tr align=\"right\" class=\"colhead\"><td align=\"left\" style=\"width:20px;\">RK</td><td align=\"left\">PLAYER</td><td align=\"left\">TEAM</td><td><a href=\"http://espn.go.com/nba/statistics/player/_/stat/assists/sort/gamesPlayed/qualified/false\" title=\"Games Played\">GP</a></td><td><a href=\"http://espn.go.com/nba/statistics/player/_/stat/assists/sort/avgMinutes/qualified/false\" title=\"Minutes Per Game\">MPG</a></td><td><a href=\"http://espn.go.com/nba/statistics/player/_/stat/assists/sort/assists/qualified/false\" title=\"Assists\">AST</a></td><td><a href=\"http://espn.go.com/nba/statistics/player/_/stat/assists/sort/avgAssists/qualified/false/order/false\" title=\"Assists Per Game\">APG</a></td><td><a href=\"http://espn.go.com/nba/statistics/player/_/stat/assists/sort/turnovers/qualified/false\" title=\"Turnovers\">TO</a></td><td><a href=\"http://espn.go.com/nba/statistics/player/_/stat/assists/sort/avgTurnovers/qualified/false\" title=\"Turnovers Per Game\">TOPG</a></td><td><a href=\"http://espn.go.com/nba/statistics/player/_/stat/assists/sort/avg48Assists/qualified/false\" title=\"Assists Per 48 Minutes\">AP48M</a></td><td><a href=\"http://espn.go.com/nba/statistics/player/_/stat/assists/sort/assistTurnoverRatio/qualified/false\" title=\"Assists Per Turnover\">AST/TO</a></td></tr>, <tr align=\"right\" class=\"oddrow player-46-3012\"><td align=\"left\">11</td><td align=\"left\"><a href=\"http://espn.go.com/nba/player/_/id/3012/kyle-lowry\">Kyle Lowry</a>, PG</td><td align=\"left\">TOR</td><td>10</td><td>34.2</td><td>66</td><td class=\"sortcell\">6.6</td><td>31</td><td>3.1</td><td>9.3</td><td>2.13</td></tr>, <tr align=\"right\" class=\"evenrow player-46-3195\"><td align=\"left\"> </td><td align=\"left\"><a href=\"http://espn.go.com/nba/player/_/id/3195/mike-conley\">Mike Conley</a>, PG</td><td align=\"left\">MEM</td><td>10</td><td>31.6</td><td>66</td><td class=\"sortcell\">6.6</td><td>20</td><td>2.0</td><td>10.0</td><td>3.30</td></tr>, <tr align=\"right\" class=\"oddrow player-46-4015\"><td align=\"left\">13</td><td align=\"left\"><a href=\"http://espn.go.com/nba/player/_/id/4015/jeff-teague\">Jeff Teague</a>, PG</td><td align=\"left\">ATL</td><td>11</td><td>30.8</td><td>72</td><td class=\"sortcell\">6.5</td><td>34</td><td>3.1</td><td>10.2</td><td>2.12</td></tr>, <tr align=\"right\" class=\"evenrow player-46-1966\"><td align=\"left\">14</td><td align=\"left\"><a href=\"http://espn.go.com/nba/player/_/id/1966/lebron-james\">LeBron James</a>, SF</td><td align=\"left\">CLE</td><td>10</td><td>36.3</td><td>64</td><td class=\"sortcell\">6.4</td><td>33</td><td>3.3</td><td>8.5</td><td>1.94</td></tr>, <tr align=\"right\" class=\"oddrow player-46-4238\"><td align=\"left\">15</td><td align=\"left\"><a href=\"http://espn.go.com/nba/player/_/id/4238/eric-bledsoe\">Eric Bledsoe</a>, PG</td><td align=\"left\">PHX</td><td>9</td><td>34.0</td><td>56</td><td class=\"sortcell\">6.2</td><td>31</td><td>3.4</td><td>8.8</td><td>1.81</td></tr>, <tr align=\"right\" class=\"evenrow player-46-3892818\"><td align=\"left\"> </td><td align=\"left\"><a href=\"http://espn.go.com/nba/player/_/id/3892818/emmanuel-mudiay\">Emmanuel Mudiay</a>, PG</td><td align=\"left\">DEN</td><td>10</td><td>30.4</td><td>62</td><td class=\"sortcell\">6.2</td><td>47</td><td>4.7</td><td>9.8</td><td>1.32</td></tr>, <tr align=\"right\" class=\"oddrow player-46-2596108\"><td align=\"left\"> </td><td align=\"left\"><a href=\"http://espn.go.com/nba/player/_/id/2596108/michael-carter-williams\">Michael Carter-Williams</a>, PG</td><td align=\"left\">MIL</td><td>5</td><td>33.0</td><td>31</td><td class=\"sortcell\">6.2</td><td>18</td><td>3.6</td><td>9.0</td><td>1.72</td></tr>, <tr align=\"right\" class=\"evenrow player-46-6472\"><td align=\"left\">18</td><td align=\"left\"><a href=\"http://espn.go.com/nba/player/_/id/6472/isaiah-thomas\">Isaiah Thomas</a>, PG</td><td align=\"left\">BOS</td><td>8</td><td>30.5</td><td>49</td><td class=\"sortcell\">6.1</td><td>23</td><td>2.9</td><td>9.6</td><td>2.13</td></tr>, <tr align=\"right\" class=\"oddrow player-46-3992\"><td align=\"left\"> </td><td align=\"left\"><a href=\"http://espn.go.com/nba/player/_/id/3992/james-harden\">James Harden</a>, SG</td><td align=\"left\">HOU</td><td>10</td><td>39.4</td><td>61</td><td class=\"sortcell\">6.1</td><td>49</td><td>4.9</td><td>7.4</td><td>1.24</td></tr>, <tr align=\"right\" class=\"evenrow player-46-2583639\"><td align=\"left\">20</td><td align=\"left\"><a href=\"http://espn.go.com/nba/player/_/id/2583639/elfrid-payton\">Elfrid Payton</a>, PG</td><td align=\"left\">ORL</td><td>11</td><td>31.0</td><td>66</td><td class=\"sortcell\">6.0</td><td>31</td><td>2.8</td><td>9.3</td><td>2.13</td></tr>, <tr align=\"right\" class=\"colhead\"><td align=\"left\" style=\"width:20px;\">RK</td><td align=\"left\">PLAYER</td><td align=\"left\">TEAM</td><td><a href=\"http://espn.go.com/nba/statistics/player/_/stat/assists/sort/gamesPlayed/qualified/false\" title=\"Games Played\">GP</a></td><td><a href=\"http://espn.go.com/nba/statistics/player/_/stat/assists/sort/avgMinutes/qualified/false\" title=\"Minutes Per Game\">MPG</a></td><td><a href=\"http://espn.go.com/nba/statistics/player/_/stat/assists/sort/assists/qualified/false\" title=\"Assists\">AST</a></td><td><a href=\"http://espn.go.com/nba/statistics/player/_/stat/assists/sort/avgAssists/qualified/false/order/false\" title=\"Assists Per Game\">APG</a></td><td><a href=\"http://espn.go.com/nba/statistics/player/_/stat/assists/sort/turnovers/qualified/false\" title=\"Turnovers\">TO</a></td><td><a href=\"http://espn.go.com/nba/statistics/player/_/stat/assists/sort/avgTurnovers/qualified/false\" title=\"Turnovers Per Game\">TOPG</a></td><td><a href=\"http://espn.go.com/nba/statistics/player/_/stat/assists/sort/avg48Assists/qualified/false\" title=\"Assists Per 48 Minutes\">AP48M</a></td><td><a href=\"http://espn.go.com/nba/statistics/player/_/stat/assists/sort/assistTurnoverRatio/qualified/false\" title=\"Assists Per Turnover\">AST/TO</a></td></tr>, <tr align=\"right\" class=\"oddrow player-46-3456\"><td align=\"left\"> </td><td align=\"left\"><a href=\"http://espn.go.com/nba/player/_/id/3456/derrick-rose\">Derrick Rose</a>, PG</td><td align=\"left\">CHI</td><td>9</td><td>32.2</td><td>54</td><td class=\"sortcell\">6.0</td><td>26</td><td>2.9</td><td>8.9</td><td>2.08</td></tr>, <tr align=\"right\" class=\"evenrow player-46-4000\"><td align=\"left\">22</td><td align=\"left\"><a href=\"http://espn.go.com/nba/player/_/id/4000/ty-lawson\">Ty Lawson</a>, PG</td><td align=\"left\">HOU</td><td>10</td><td>37.2</td><td>57</td><td class=\"sortcell\">5.7</td><td>24</td><td>2.4</td><td>7.4</td><td>2.38</td></tr>, <tr align=\"right\" class=\"oddrow player-46-3975\"><td align=\"left\">23</td><td align=\"left\"><a href=\"http://espn.go.com/nba/player/_/id/3975/stephen-curry\">Stephen Curry</a>, PG</td><td align=\"left\">GS</td><td>11</td><td>35.1</td><td>62</td><td class=\"sortcell\">5.6</td><td>34</td><td>3.1</td><td>7.7</td><td>1.82</td></tr>, <tr align=\"right\" class=\"evenrow player-46-6479\"><td align=\"left\">24</td><td align=\"left\"><a href=\"http://espn.go.com/nba/player/_/id/6479/kemba-walker\">Kemba Walker</a>, PG</td><td align=\"left\">CHA</td><td>9</td><td>31.7</td><td>48</td><td class=\"sortcell\">5.3</td><td>16</td><td>1.8</td><td>8.1</td><td>3.00</td></tr>, <tr align=\"right\" class=\"oddrow player-46-2489716\"><td align=\"left\"> </td><td align=\"left\"><a href=\"http://espn.go.com/nba/player/_/id/2489716/matthew-dellavedova\">Matthew Dellavedova</a>, SG</td><td align=\"left\">CLE</td><td>10</td><td>26.5</td><td>53</td><td class=\"sortcell\">5.3</td><td>15</td><td>1.5</td><td>9.6</td><td>3.53</td></tr>, <tr align=\"right\" class=\"evenrow player-46-2798\"><td align=\"left\">26</td><td align=\"left\"><a href=\"http://espn.go.com/nba/player/_/id/2798/deron-williams\">Deron Williams</a>, PG</td><td align=\"left\">DAL</td><td>9</td><td>29.7</td><td>47</td><td class=\"sortcell\">5.2</td><td>15</td><td>1.7</td><td>8.4</td><td>3.13</td></tr>, <tr align=\"right\" class=\"oddrow player-46-6443\"><td align=\"left\"> </td><td align=\"left\"><a href=\"http://espn.go.com/nba/player/_/id/6443/reggie-jackson\">Reggie Jackson</a>, PG</td><td align=\"left\">DET</td><td>9</td><td>32.9</td><td>47</td><td class=\"sortcell\">5.2</td><td>35</td><td>3.9</td><td>7.6</td><td>1.34</td></tr>, <tr align=\"right\" class=\"evenrow player-46-3973\"><td align=\"left\"> </td><td align=\"left\"><a href=\"http://espn.go.com/nba/player/_/id/3973/darren-collison\">Darren Collison</a>, PG</td><td align=\"left\">SAC</td><td>6</td><td>30.7</td><td>31</td><td class=\"sortcell\">5.2</td><td>12</td><td>2.0</td><td>8.1</td><td>2.58</td></tr>, <tr align=\"right\" class=\"oddrow player-46-2178\"><td align=\"left\">29</td><td align=\"left\"><a href=\"http://espn.go.com/nba/player/_/id/2178/mo-williams\">Mo Williams</a>, PG</td><td align=\"left\">CLE</td><td>10</td><td>31.5</td><td>51</td><td class=\"sortcell\">5.1</td><td>22</td><td>2.2</td><td>7.8</td><td>2.32</td></tr>, <tr align=\"right\" class=\"evenrow player-46-3055\"><td align=\"left\"> </td><td align=\"left\"><a href=\"http://espn.go.com/nba/player/_/id/3055/j.j.-barea\">J.J. Barea</a>, PG</td><td align=\"left\">DAL</td><td>10</td><td>21.0</td><td>51</td><td class=\"sortcell\">5.1</td><td>21</td><td>2.1</td><td>11.7</td><td>2.43</td></tr>, <tr align=\"right\" class=\"colhead\"><td align=\"left\" style=\"width:20px;\">RK</td><td align=\"left\">PLAYER</td><td align=\"left\">TEAM</td><td><a href=\"http://espn.go.com/nba/statistics/player/_/stat/assists/sort/gamesPlayed/qualified/false\" title=\"Games Played\">GP</a></td><td><a href=\"http://espn.go.com/nba/statistics/player/_/stat/assists/sort/avgMinutes/qualified/false\" title=\"Minutes Per Game\">MPG</a></td><td><a href=\"http://espn.go.com/nba/statistics/player/_/stat/assists/sort/assists/qualified/false\" title=\"Assists\">AST</a></td><td><a href=\"http://espn.go.com/nba/statistics/player/_/stat/assists/sort/avgAssists/qualified/false/order/false\" title=\"Assists Per Game\">APG</a></td><td><a href=\"http://espn.go.com/nba/statistics/player/_/stat/assists/sort/turnovers/qualified/false\" title=\"Turnovers\">TO</a></td><td><a href=\"http://espn.go.com/nba/statistics/player/_/stat/assists/sort/avgTurnovers/qualified/false\" title=\"Turnovers Per Game\">TOPG</a></td><td><a href=\"http://espn.go.com/nba/statistics/player/_/stat/assists/sort/avg48Assists/qualified/false\" title=\"Assists Per 48 Minutes\">AP48M</a></td><td><a href=\"http://espn.go.com/nba/statistics/player/_/stat/assists/sort/assistTurnoverRatio/qualified/false\" title=\"Assists Per Turnover\">AST/TO</a></td></tr>, <tr align=\"right\" class=\"oddrow player-46-4291\"><td align=\"left\">31</td><td align=\"left\"><a href=\"http://espn.go.com/nba/player/_/id/4291/greivis-vasquez\">Greivis Vasquez</a>, PG</td><td align=\"left\">MIL</td><td>10</td><td>25.4</td><td>50</td><td class=\"sortcell\">5.0</td><td>18</td><td>1.8</td><td>9.4</td><td>2.78</td></tr>, <tr align=\"right\" class=\"evenrow player-46-2751\"><td align=\"left\">32</td><td align=\"left\"><a href=\"http://espn.go.com/nba/player/_/id/2751/monta-ellis\">Monta Ellis</a>, PG</td><td align=\"left\">IND</td><td>10</td><td>33.6</td><td>49</td><td class=\"sortcell\">4.9</td><td>25</td><td>2.5</td><td>7.0</td><td>1.96</td></tr>, <tr align=\"right\" class=\"oddrow player-46-4251\"><td align=\"left\">33</td><td align=\"left\"><a href=\"http://espn.go.com/nba/player/_/id/4251/paul-george\">Paul George</a>, SF</td><td align=\"left\">IND</td><td>10</td><td>36.2</td><td>46</td><td class=\"sortcell\">4.6</td><td>37</td><td>3.7</td><td>6.1</td><td>1.24</td></tr>, <tr align=\"right\" class=\"evenrow player-46-2439\"><td align=\"left\">34</td><td align=\"left\"><a href=\"http://espn.go.com/nba/player/_/id/2439/jameer-nelson\">Jameer Nelson</a>, PG</td><td align=\"left\">DEN</td><td>8</td><td>24.6</td><td>36</td><td class=\"sortcell\">4.5</td><td>17</td><td>2.1</td><td>8.8</td><td>2.12</td></tr>, <tr align=\"right\" class=\"oddrow player-46-3995\"><td align=\"left\"> </td><td align=\"left\"><a href=\"http://espn.go.com/nba/player/_/id/3995/jrue-holiday\">Jrue Holiday</a>, PG</td><td align=\"left\">NO</td><td>6</td><td>21.8</td><td>27</td><td class=\"sortcell\">4.5</td><td>19</td><td>3.2</td><td>9.9</td><td>1.42</td></tr>, <tr align=\"right\" class=\"evenrow player-46-1007\"><td align=\"left\">36</td><td align=\"left\"><a href=\"http://espn.go.com/nba/player/_/id/1007/joe-johnson\">Joe Johnson</a>, SF</td><td align=\"left\">BKN</td><td>10</td><td>34.9</td><td>44</td><td class=\"sortcell\">4.4</td><td>15</td><td>1.5</td><td>6.1</td><td>2.93</td></tr>, <tr align=\"right\" class=\"oddrow player-46-1987\"><td align=\"left\"> </td><td align=\"left\"><a href=\"http://espn.go.com/nba/player/_/id/1987/dwyane-wade\">Dwyane Wade</a>, SG</td><td align=\"left\">MIA</td><td>8</td><td>28.8</td><td>35</td><td class=\"sortcell\">4.4</td><td>17</td><td>2.1</td><td>7.3</td><td>2.06</td></tr>, <tr align=\"right\" class=\"evenrow player-46-3989\"><td align=\"left\">38</td><td align=\"left\"><a href=\"http://espn.go.com/nba/player/_/id/3989/blake-griffin\">Blake Griffin</a>, PF</td><td align=\"left\">LAC</td><td>10</td><td>34.1</td><td>43</td><td class=\"sortcell\">4.3</td><td>17</td><td>1.7</td><td>6.1</td><td>2.53</td></tr>, <tr align=\"right\" class=\"oddrow player-46-3064440\"><td align=\"left\">39</td><td align=\"left\"><a href=\"http://espn.go.com/nba/player/_/id/3064440/zach-lavine\">Zach LaVine</a>, PG</td><td align=\"left\">MIN</td><td>9</td><td>23.4</td><td>37</td><td class=\"sortcell\">4.1</td><td>25</td><td>2.8</td><td>8.4</td><td>1.48</td></tr>, <tr align=\"right\" class=\"evenrow player-46-3978\"><td align=\"left\"> </td><td align=\"left\"><a href=\"http://espn.go.com/nba/player/_/id/3978/demar-derozan\">DeMar DeRozan</a>, SG</td><td align=\"left\">TOR</td><td>10</td><td>35.3</td><td>41</td><td class=\"sortcell\">4.1</td><td>22</td><td>2.2</td><td>5.6</td><td>1.86</td></tr>]\n"
     ]
    }
   ],
   "source": [
    "table_rows = table.findAll('tr')\n",
    "print table_rows"
   ]
  },
  {
   "cell_type": "code",
   "execution_count": 21,
   "metadata": {
    "collapsed": false
   },
   "outputs": [
    {
     "name": "stdout",
     "output_type": "stream",
     "text": [
      "[{u'MPG': u'34.7', u'GP': u'9', u'AST': u'98', u'PLAYER': u'Russell Westbrook', u'TO': u'45', u'AP48M': u'15.1', u'TEAM': u'OKC', u'TOPG': u'5.0', 'POSITION': u'PG', u'APG': u'10.9', u'AST/TO': u'2.18'}, {u'MPG': u'34.7', u'GP': u'10', u'AST': u'91', u'PLAYER': u'Rajon Rondo', u'TO': u'36', u'AP48M': u'12.6', u'TEAM': u'SAC', u'TOPG': u'3.6', 'POSITION': u'PG', u'APG': u'9.1', u'AST/TO': u'2.53'}, {u'MPG': u'30.8', u'GP': u'6', u'AST': u'54', u'PLAYER': u'Ricky Rubio', u'TO': u'12', u'AP48M': u'14.0', u'TEAM': u'MIN', u'TOPG': u'2.0', 'POSITION': u'PG', u'APG': u'9.0', u'AST/TO': u'4.50'}, {u'MPG': u'33.6', u'GP': u'8', u'AST': u'68', u'PLAYER': u'John Wall', u'TO': u'34', u'AP48M': u'12.1', u'TEAM': u'WSH', u'TOPG': u'4.3', 'POSITION': u'PG', u'APG': u'8.5', u'AST/TO': u'2.00'}, {u'MPG': u'32.6', u'GP': u'7', u'AST': u'56', u'PLAYER': u'Chris Paul', u'TO': u'20', u'AP48M': u'11.8', u'TEAM': u'LAC', u'TOPG': u'2.9', 'POSITION': u'PG', u'APG': u'8.0', u'AST/TO': u'2.80'}]\n"
     ]
    }
   ],
   "source": [
    "players_assists_dicts = []\n",
    "players_assists_array = []\n",
    "for row in table_rows:\n",
    "    if row.attrs['class'][0]=='colhead':\n",
    "        continue\n",
    "    player_assists = []\n",
    "    row_cols = row.find_all('td')\n",
    "    col_vals = []\n",
    "    player_col = row_cols[1]\n",
    "    player_name = player_col.find('a').string\n",
    "    player_position = player_col.contents[1]\n",
    "    player_position = player_position.split(' ')[1]\n",
    "    player_assists.append(player_name)\n",
    "    player_assists.append(player_position)\n",
    "    for i in range(2, len(row_cols)):\n",
    "        stat = row_cols[i].string\n",
    "        player_assists.append(stat)\n",
    "    players_assists_array.append(player_assists)\n",
    "    player_assists = dict(zip(cols, player_assists))\n",
    "    players_assists_dicts.append(player_assists)\n",
    "print players_assists_dicts[0:5]   "
   ]
  },
  {
   "cell_type": "code",
   "execution_count": 22,
   "metadata": {
    "collapsed": false
   },
   "outputs": [
    {
     "data": {
      "text/html": [
       "<div>\n",
       "<table border=\"1\" class=\"dataframe\">\n",
       "  <thead>\n",
       "    <tr style=\"text-align: right;\">\n",
       "      <th></th>\n",
       "      <th>AP48M</th>\n",
       "      <th>APG</th>\n",
       "      <th>AST</th>\n",
       "      <th>AST/TO</th>\n",
       "      <th>GP</th>\n",
       "      <th>MPG</th>\n",
       "      <th>PLAYER</th>\n",
       "      <th>POSITION</th>\n",
       "      <th>TEAM</th>\n",
       "      <th>TO</th>\n",
       "      <th>TOPG</th>\n",
       "    </tr>\n",
       "  </thead>\n",
       "  <tbody>\n",
       "    <tr>\n",
       "      <th>0</th>\n",
       "      <td>15.1</td>\n",
       "      <td>10.9</td>\n",
       "      <td>98</td>\n",
       "      <td>2.18</td>\n",
       "      <td>9</td>\n",
       "      <td>34.7</td>\n",
       "      <td>Russell Westbrook</td>\n",
       "      <td>PG</td>\n",
       "      <td>OKC</td>\n",
       "      <td>45</td>\n",
       "      <td>5.0</td>\n",
       "    </tr>\n",
       "    <tr>\n",
       "      <th>1</th>\n",
       "      <td>12.6</td>\n",
       "      <td>9.1</td>\n",
       "      <td>91</td>\n",
       "      <td>2.53</td>\n",
       "      <td>10</td>\n",
       "      <td>34.7</td>\n",
       "      <td>Rajon Rondo</td>\n",
       "      <td>PG</td>\n",
       "      <td>SAC</td>\n",
       "      <td>36</td>\n",
       "      <td>3.6</td>\n",
       "    </tr>\n",
       "    <tr>\n",
       "      <th>2</th>\n",
       "      <td>14.0</td>\n",
       "      <td>9.0</td>\n",
       "      <td>54</td>\n",
       "      <td>4.50</td>\n",
       "      <td>6</td>\n",
       "      <td>30.8</td>\n",
       "      <td>Ricky Rubio</td>\n",
       "      <td>PG</td>\n",
       "      <td>MIN</td>\n",
       "      <td>12</td>\n",
       "      <td>2.0</td>\n",
       "    </tr>\n",
       "    <tr>\n",
       "      <th>3</th>\n",
       "      <td>12.1</td>\n",
       "      <td>8.5</td>\n",
       "      <td>68</td>\n",
       "      <td>2.00</td>\n",
       "      <td>8</td>\n",
       "      <td>33.6</td>\n",
       "      <td>John Wall</td>\n",
       "      <td>PG</td>\n",
       "      <td>WSH</td>\n",
       "      <td>34</td>\n",
       "      <td>4.3</td>\n",
       "    </tr>\n",
       "    <tr>\n",
       "      <th>4</th>\n",
       "      <td>11.8</td>\n",
       "      <td>8.0</td>\n",
       "      <td>56</td>\n",
       "      <td>2.80</td>\n",
       "      <td>7</td>\n",
       "      <td>32.6</td>\n",
       "      <td>Chris Paul</td>\n",
       "      <td>PG</td>\n",
       "      <td>LAC</td>\n",
       "      <td>20</td>\n",
       "      <td>2.9</td>\n",
       "    </tr>\n",
       "  </tbody>\n",
       "</table>\n",
       "</div>"
      ],
      "text/plain": [
       "  AP48M   APG AST AST/TO  GP   MPG             PLAYER POSITION TEAM  TO TOPG\n",
       "0  15.1  10.9  98   2.18   9  34.7  Russell Westbrook       PG  OKC  45  5.0\n",
       "1  12.6   9.1  91   2.53  10  34.7        Rajon Rondo       PG  SAC  36  3.6\n",
       "2  14.0   9.0  54   4.50   6  30.8        Ricky Rubio       PG  MIN  12  2.0\n",
       "3  12.1   8.5  68   2.00   8  33.6          John Wall       PG  WSH  34  4.3\n",
       "4  11.8   8.0  56   2.80   7  32.6         Chris Paul       PG  LAC  20  2.9"
      ]
     },
     "execution_count": 22,
     "metadata": {},
     "output_type": "execute_result"
    }
   ],
   "source": [
    "import pandas as pd\n",
    "import numpy as np\n",
    "\n",
    "df = pd.DataFrame.from_dict(players_assists_dicts)\n",
    "df.head()"
   ]
  },
  {
   "cell_type": "code",
   "execution_count": 25,
   "metadata": {
    "collapsed": false
   },
   "outputs": [
    {
     "ename": "TypeError",
     "evalue": "list indices must be integers, not str",
     "output_type": "error",
     "traceback": [
      "\u001b[0;31m---------------------------------------------------------------------------\u001b[0m",
      "\u001b[0;31mTypeError\u001b[0m                                 Traceback (most recent call last)",
      "\u001b[0;32m<ipython-input-25-ce0314d5596e>\u001b[0m in \u001b[0;36m<module>\u001b[0;34m()\u001b[0m\n\u001b[1;32m      1\u001b[0m \u001b[0;32mimport\u001b[0m \u001b[0mpandas\u001b[0m \u001b[0;32mas\u001b[0m \u001b[0mpd\u001b[0m\u001b[0;34m\u001b[0m\u001b[0m\n\u001b[0;32m----> 2\u001b[0;31m \u001b[0mpd\u001b[0m\u001b[0;34m.\u001b[0m\u001b[0mmerge\u001b[0m\u001b[0;34m(\u001b[0m\u001b[0mplayers_assists_dicts\u001b[0m\u001b[0;34m,\u001b[0m \u001b[0mplayers_stats_dicts\u001b[0m\u001b[0;34m,\u001b[0m \u001b[0mon\u001b[0m\u001b[0;34m=\u001b[0m\u001b[0;34m'player'\u001b[0m\u001b[0;34m,\u001b[0m \u001b[0mhow\u001b[0m\u001b[0;34m=\u001b[0m\u001b[0;34m'inner'\u001b[0m\u001b[0;34m)\u001b[0m\u001b[0;34m\u001b[0m\u001b[0m\n\u001b[0m",
      "\u001b[0;32m/Users/norahajjar/anaconda/lib/python2.7/site-packages/pandas/tools/merge.pyc\u001b[0m in \u001b[0;36mmerge\u001b[0;34m(left, right, how, on, left_on, right_on, left_index, right_index, sort, suffixes, copy, indicator)\u001b[0m\n\u001b[1;32m     32\u001b[0m                          \u001b[0mright_on\u001b[0m\u001b[0;34m=\u001b[0m\u001b[0mright_on\u001b[0m\u001b[0;34m,\u001b[0m \u001b[0mleft_index\u001b[0m\u001b[0;34m=\u001b[0m\u001b[0mleft_index\u001b[0m\u001b[0;34m,\u001b[0m\u001b[0;34m\u001b[0m\u001b[0m\n\u001b[1;32m     33\u001b[0m                          \u001b[0mright_index\u001b[0m\u001b[0;34m=\u001b[0m\u001b[0mright_index\u001b[0m\u001b[0;34m,\u001b[0m \u001b[0msort\u001b[0m\u001b[0;34m=\u001b[0m\u001b[0msort\u001b[0m\u001b[0;34m,\u001b[0m \u001b[0msuffixes\u001b[0m\u001b[0;34m=\u001b[0m\u001b[0msuffixes\u001b[0m\u001b[0;34m,\u001b[0m\u001b[0;34m\u001b[0m\u001b[0m\n\u001b[0;32m---> 34\u001b[0;31m                          copy=copy, indicator=indicator)\n\u001b[0m\u001b[1;32m     35\u001b[0m     \u001b[0;32mreturn\u001b[0m \u001b[0mop\u001b[0m\u001b[0;34m.\u001b[0m\u001b[0mget_result\u001b[0m\u001b[0;34m(\u001b[0m\u001b[0;34m)\u001b[0m\u001b[0;34m\u001b[0m\u001b[0m\n\u001b[1;32m     36\u001b[0m \u001b[0;32mif\u001b[0m \u001b[0m__debug__\u001b[0m\u001b[0;34m:\u001b[0m\u001b[0;34m\u001b[0m\u001b[0m\n",
      "\u001b[0;32m/Users/norahajjar/anaconda/lib/python2.7/site-packages/pandas/tools/merge.pyc\u001b[0m in \u001b[0;36m__init__\u001b[0;34m(self, left, right, how, on, left_on, right_on, axis, left_index, right_index, sort, suffixes, copy, indicator)\u001b[0m\n\u001b[1;32m    188\u001b[0m         (self.left_join_keys,\n\u001b[1;32m    189\u001b[0m          \u001b[0mself\u001b[0m\u001b[0;34m.\u001b[0m\u001b[0mright_join_keys\u001b[0m\u001b[0;34m,\u001b[0m\u001b[0;34m\u001b[0m\u001b[0m\n\u001b[0;32m--> 190\u001b[0;31m          self.join_names) = self._get_merge_keys()\n\u001b[0m\u001b[1;32m    191\u001b[0m \u001b[0;34m\u001b[0m\u001b[0m\n\u001b[1;32m    192\u001b[0m     \u001b[0;32mdef\u001b[0m \u001b[0mget_result\u001b[0m\u001b[0;34m(\u001b[0m\u001b[0mself\u001b[0m\u001b[0;34m)\u001b[0m\u001b[0;34m:\u001b[0m\u001b[0;34m\u001b[0m\u001b[0m\n",
      "\u001b[0;32m/Users/norahajjar/anaconda/lib/python2.7/site-packages/pandas/tools/merge.pyc\u001b[0m in \u001b[0;36m_get_merge_keys\u001b[0;34m(self)\u001b[0m\n\u001b[1;32m    401\u001b[0m                 \u001b[0;32melse\u001b[0m\u001b[0;34m:\u001b[0m\u001b[0;34m\u001b[0m\u001b[0m\n\u001b[1;32m    402\u001b[0m                     \u001b[0;32mif\u001b[0m \u001b[0;32mnot\u001b[0m \u001b[0mis_rkey\u001b[0m\u001b[0;34m(\u001b[0m\u001b[0mrk\u001b[0m\u001b[0;34m)\u001b[0m\u001b[0;34m:\u001b[0m\u001b[0;34m\u001b[0m\u001b[0m\n\u001b[0;32m--> 403\u001b[0;31m                         \u001b[0mright_keys\u001b[0m\u001b[0;34m.\u001b[0m\u001b[0mappend\u001b[0m\u001b[0;34m(\u001b[0m\u001b[0mright\u001b[0m\u001b[0;34m[\u001b[0m\u001b[0mrk\u001b[0m\u001b[0;34m]\u001b[0m\u001b[0;34m.\u001b[0m\u001b[0m_values\u001b[0m\u001b[0;34m)\u001b[0m\u001b[0;34m\u001b[0m\u001b[0m\n\u001b[0m\u001b[1;32m    404\u001b[0m                         \u001b[0;32mif\u001b[0m \u001b[0mlk\u001b[0m \u001b[0;34m==\u001b[0m \u001b[0mrk\u001b[0m\u001b[0;34m:\u001b[0m\u001b[0;34m\u001b[0m\u001b[0m\n\u001b[1;32m    405\u001b[0m                             \u001b[0;31m# avoid key upcast in corner case (length-0)\u001b[0m\u001b[0;34m\u001b[0m\u001b[0;34m\u001b[0m\u001b[0m\n",
      "\u001b[0;31mTypeError\u001b[0m: list indices must be integers, not str"
     ]
    }
   ],
   "source": [
    "import pandas as pd\n",
    "pd.merge(players_assists_dicts, players_stats_dicts, on='PLAYER', how='inner')"
   ]
  },
  {
   "cell_type": "code",
   "execution_count": 28,
   "metadata": {
    "collapsed": false
   },
   "outputs": [
    {
     "ename": "NameError",
     "evalue": "name 'players_assists_dataframe' is not defined",
     "output_type": "error",
     "traceback": [
      "\u001b[0;31m---------------------------------------------------------------------------\u001b[0m",
      "\u001b[0;31mNameError\u001b[0m                                 Traceback (most recent call last)",
      "\u001b[0;32m<ipython-input-28-866b9a3ee19f>\u001b[0m in \u001b[0;36m<module>\u001b[0;34m()\u001b[0m\n\u001b[1;32m      1\u001b[0m \u001b[0;32mimport\u001b[0m \u001b[0mpandas\u001b[0m \u001b[0;32mas\u001b[0m \u001b[0mpd\u001b[0m\u001b[0;34m\u001b[0m\u001b[0m\n\u001b[0;32m----> 2\u001b[0;31m \u001b[0mpd\u001b[0m\u001b[0;34m.\u001b[0m\u001b[0mmerge\u001b[0m\u001b[0;34m(\u001b[0m\u001b[0mplayers_assists_dataframe\u001b[0m\u001b[0;34m,\u001b[0m \u001b[0mplayers_stats\u001b[0m\u001b[0;34m,\u001b[0m \u001b[0mon\u001b[0m\u001b[0;34m=\u001b[0m\u001b[0;34m'PLAYER'\u001b[0m\u001b[0;34m,\u001b[0m \u001b[0mhow\u001b[0m\u001b[0;34m=\u001b[0m\u001b[0;34m'inner'\u001b[0m\u001b[0;34m)\u001b[0m\u001b[0;34m\u001b[0m\u001b[0m\n\u001b[0m",
      "\u001b[0;31mNameError\u001b[0m: name 'players_assists_dataframe' is not defined"
     ]
    }
   ],
   "source": [
    "import pandas as pd\n",
    "pd.merge(players_assists_dataframe, players_stats, on='PLAYER', how='inner')"
   ]
  },
  {
   "cell_type": "code",
   "execution_count": 30,
   "metadata": {
    "collapsed": false
   },
   "outputs": [
    {
     "data": {
      "text/html": [
       "<div>\n",
       "<table border=\"1\" class=\"dataframe\">\n",
       "  <thead>\n",
       "    <tr style=\"text-align: right;\">\n",
       "      <th></th>\n",
       "      <th>AP48M</th>\n",
       "      <th>APG</th>\n",
       "      <th>AST</th>\n",
       "      <th>AST/TO</th>\n",
       "      <th>GP</th>\n",
       "      <th>MPG</th>\n",
       "      <th>PLAYER</th>\n",
       "      <th>POSITION</th>\n",
       "      <th>TEAM</th>\n",
       "      <th>TO</th>\n",
       "      <th>TOPG</th>\n",
       "    </tr>\n",
       "  </thead>\n",
       "  <tbody>\n",
       "    <tr>\n",
       "      <th>0</th>\n",
       "      <td>15.1</td>\n",
       "      <td>10.9</td>\n",
       "      <td>98</td>\n",
       "      <td>2.18</td>\n",
       "      <td>9</td>\n",
       "      <td>34.7</td>\n",
       "      <td>Russell Westbrook</td>\n",
       "      <td>PG</td>\n",
       "      <td>OKC</td>\n",
       "      <td>45</td>\n",
       "      <td>5.0</td>\n",
       "    </tr>\n",
       "    <tr>\n",
       "      <th>1</th>\n",
       "      <td>12.6</td>\n",
       "      <td>9.1</td>\n",
       "      <td>91</td>\n",
       "      <td>2.53</td>\n",
       "      <td>10</td>\n",
       "      <td>34.7</td>\n",
       "      <td>Rajon Rondo</td>\n",
       "      <td>PG</td>\n",
       "      <td>SAC</td>\n",
       "      <td>36</td>\n",
       "      <td>3.6</td>\n",
       "    </tr>\n",
       "    <tr>\n",
       "      <th>2</th>\n",
       "      <td>14.0</td>\n",
       "      <td>9.0</td>\n",
       "      <td>54</td>\n",
       "      <td>4.50</td>\n",
       "      <td>6</td>\n",
       "      <td>30.8</td>\n",
       "      <td>Ricky Rubio</td>\n",
       "      <td>PG</td>\n",
       "      <td>MIN</td>\n",
       "      <td>12</td>\n",
       "      <td>2.0</td>\n",
       "    </tr>\n",
       "    <tr>\n",
       "      <th>3</th>\n",
       "      <td>12.1</td>\n",
       "      <td>8.5</td>\n",
       "      <td>68</td>\n",
       "      <td>2.00</td>\n",
       "      <td>8</td>\n",
       "      <td>33.6</td>\n",
       "      <td>John Wall</td>\n",
       "      <td>PG</td>\n",
       "      <td>WSH</td>\n",
       "      <td>34</td>\n",
       "      <td>4.3</td>\n",
       "    </tr>\n",
       "    <tr>\n",
       "      <th>4</th>\n",
       "      <td>11.8</td>\n",
       "      <td>8.0</td>\n",
       "      <td>56</td>\n",
       "      <td>2.80</td>\n",
       "      <td>7</td>\n",
       "      <td>32.6</td>\n",
       "      <td>Chris Paul</td>\n",
       "      <td>PG</td>\n",
       "      <td>LAC</td>\n",
       "      <td>20</td>\n",
       "      <td>2.9</td>\n",
       "    </tr>\n",
       "  </tbody>\n",
       "</table>\n",
       "</div>"
      ],
      "text/plain": [
       "  AP48M   APG AST AST/TO  GP   MPG             PLAYER POSITION TEAM  TO TOPG\n",
       "0  15.1  10.9  98   2.18   9  34.7  Russell Westbrook       PG  OKC  45  5.0\n",
       "1  12.6   9.1  91   2.53  10  34.7        Rajon Rondo       PG  SAC  36  3.6\n",
       "2  14.0   9.0  54   4.50   6  30.8        Ricky Rubio       PG  MIN  12  2.0\n",
       "3  12.1   8.5  68   2.00   8  33.6          John Wall       PG  WSH  34  4.3\n",
       "4  11.8   8.0  56   2.80   7  32.6         Chris Paul       PG  LAC  20  2.9"
      ]
     },
     "execution_count": 30,
     "metadata": {},
     "output_type": "execute_result"
    }
   ],
   "source": [
    "df = pd.DataFrame.from_dict(players_assists_dicts)\n",
    "df.head()"
   ]
  },
  {
   "cell_type": "code",
   "execution_count": 31,
   "metadata": {
    "collapsed": false
   },
   "outputs": [
    {
     "data": {
      "text/html": [
       "<div>\n",
       "<table border=\"1\" class=\"dataframe\">\n",
       "  <thead>\n",
       "    <tr style=\"text-align: right;\">\n",
       "      <th></th>\n",
       "      <th>3P%</th>\n",
       "      <th>3PM-3PA</th>\n",
       "      <th>FG%</th>\n",
       "      <th>FGM-FGA</th>\n",
       "      <th>FT%</th>\n",
       "      <th>FTM-FTA</th>\n",
       "      <th>GP</th>\n",
       "      <th>MPG</th>\n",
       "      <th>PLAYER</th>\n",
       "      <th>POSITION</th>\n",
       "      <th>PTS</th>\n",
       "      <th>TEAM</th>\n",
       "    </tr>\n",
       "  </thead>\n",
       "  <tbody>\n",
       "    <tr>\n",
       "      <th>0</th>\n",
       "      <td>.452</td>\n",
       "      <td>5.2-11.5</td>\n",
       "      <td>.517</td>\n",
       "      <td>11.1-21.5</td>\n",
       "      <td>.930</td>\n",
       "      <td>6.0-6.5</td>\n",
       "      <td>11</td>\n",
       "      <td>35.1</td>\n",
       "      <td>Stephen Curry</td>\n",
       "      <td>PG</td>\n",
       "      <td>33.4</td>\n",
       "      <td>GS</td>\n",
       "    </tr>\n",
       "    <tr>\n",
       "      <th>1</th>\n",
       "      <td>.240</td>\n",
       "      <td>2.3-9.6</td>\n",
       "      <td>.371</td>\n",
       "      <td>7.9-21.3</td>\n",
       "      <td>.866</td>\n",
       "      <td>10.3-11.9</td>\n",
       "      <td>10</td>\n",
       "      <td>39.4</td>\n",
       "      <td>James Harden</td>\n",
       "      <td>SG</td>\n",
       "      <td>28.4</td>\n",
       "      <td>HOU</td>\n",
       "    </tr>\n",
       "    <tr>\n",
       "      <th>2</th>\n",
       "      <td>.447</td>\n",
       "      <td>2.6-5.9</td>\n",
       "      <td>.503</td>\n",
       "      <td>9.6-19.1</td>\n",
       "      <td>.893</td>\n",
       "      <td>6.3-7.0</td>\n",
       "      <td>8</td>\n",
       "      <td>34.8</td>\n",
       "      <td>Kevin Durant</td>\n",
       "      <td>SF</td>\n",
       "      <td>28.1</td>\n",
       "      <td>OKC</td>\n",
       "    </tr>\n",
       "    <tr>\n",
       "      <th>3</th>\n",
       "      <td>.262</td>\n",
       "      <td>1.1-4.2</td>\n",
       "      <td>.505</td>\n",
       "      <td>10.5-20.8</td>\n",
       "      <td>.605</td>\n",
       "      <td>4.9-8.1</td>\n",
       "      <td>10</td>\n",
       "      <td>36.3</td>\n",
       "      <td>LeBron James</td>\n",
       "      <td>SF</td>\n",
       "      <td>27.0</td>\n",
       "      <td>CLE</td>\n",
       "    </tr>\n",
       "    <tr>\n",
       "      <th>4</th>\n",
       "      <td>.435</td>\n",
       "      <td>1.7-3.8</td>\n",
       "      <td>.424</td>\n",
       "      <td>8.3-19.7</td>\n",
       "      <td>.758</td>\n",
       "      <td>8.3-11.0</td>\n",
       "      <td>6</td>\n",
       "      <td>30.3</td>\n",
       "      <td>DeMarcus Cousins</td>\n",
       "      <td>PF</td>\n",
       "      <td>26.7</td>\n",
       "      <td>SAC</td>\n",
       "    </tr>\n",
       "  </tbody>\n",
       "</table>\n",
       "</div>"
      ],
      "text/plain": [
       "    3P%   3PM-3PA   FG%    FGM-FGA   FT%    FTM-FTA  GP   MPG  \\\n",
       "0  .452  5.2-11.5  .517  11.1-21.5  .930    6.0-6.5  11  35.1   \n",
       "1  .240   2.3-9.6  .371   7.9-21.3  .866  10.3-11.9  10  39.4   \n",
       "2  .447   2.6-5.9  .503   9.6-19.1  .893    6.3-7.0   8  34.8   \n",
       "3  .262   1.1-4.2  .505  10.5-20.8  .605    4.9-8.1  10  36.3   \n",
       "4  .435   1.7-3.8  .424   8.3-19.7  .758   8.3-11.0   6  30.3   \n",
       "\n",
       "             PLAYER POSITION   PTS TEAM  \n",
       "0     Stephen Curry       PG  33.4   GS  \n",
       "1      James Harden       SG  28.4  HOU  \n",
       "2      Kevin Durant       SF  28.1  OKC  \n",
       "3      LeBron James       SF  27.0  CLE  \n",
       "4  DeMarcus Cousins       PF  26.7  SAC  "
      ]
     },
     "execution_count": 31,
     "metadata": {},
     "output_type": "execute_result"
    }
   ],
   "source": [
    "df = pd.DataFrame.from_dict(players_stats_dicts)\n",
    "df.head()"
   ]
  },
  {
   "cell_type": "code",
   "execution_count": 32,
   "metadata": {
    "collapsed": true
   },
   "outputs": [],
   "source": [
    "#we want to join these two!! but how? realize that these are stil head lists (not full data) but still want to join"
   ]
  },
  {
   "cell_type": "code",
   "execution_count": 39,
   "metadata": {
    "collapsed": false
   },
   "outputs": [
    {
     "ename": "NameError",
     "evalue": "name 'pandas' is not defined",
     "output_type": "error",
     "traceback": [
      "\u001b[0;31m---------------------------------------------------------------------------\u001b[0m",
      "\u001b[0;31mNameError\u001b[0m                                 Traceback (most recent call last)",
      "\u001b[0;32m<ipython-input-39-f07a40d2ecc0>\u001b[0m in \u001b[0;36m<module>\u001b[0;34m()\u001b[0m\n\u001b[0;32m----> 1\u001b[0;31m \u001b[0mpandas\u001b[0m\u001b[0;34m.\u001b[0m\u001b[0mDataFrame\u001b[0m\u001b[0;34m.\u001b[0m\u001b[0mjoin\u001b[0m\u001b[0;34m(\u001b[0m\u001b[0mplayers_stats_dicts\u001b[0m\u001b[0;34m,\u001b[0m \u001b[0mplayers_assists_dicts\u001b[0m\u001b[0;34m)\u001b[0m\u001b[0;34m\u001b[0m\u001b[0m\n\u001b[0m",
      "\u001b[0;31mNameError\u001b[0m: name 'pandas' is not defined"
     ]
    }
   ],
   "source": [
    "pandas.DataFrame.join(players_stats_dicts, players_assists_dicts)"
   ]
  },
  {
   "cell_type": "code",
   "execution_count": 41,
   "metadata": {
    "collapsed": false
   },
   "outputs": [
    {
     "ename": "AttributeError",
     "evalue": "'list' object has no attribute 'join'",
     "output_type": "error",
     "traceback": [
      "\u001b[0;31m---------------------------------------------------------------------------\u001b[0m",
      "\u001b[0;31mAttributeError\u001b[0m                            Traceback (most recent call last)",
      "\u001b[0;32m<ipython-input-41-836cb5686fa2>\u001b[0m in \u001b[0;36m<module>\u001b[0;34m()\u001b[0m\n\u001b[0;32m----> 1\u001b[0;31m \u001b[0mplayers_stats_dicts\u001b[0m\u001b[0;34m.\u001b[0m\u001b[0mjoin\u001b[0m\u001b[0;34m(\u001b[0m\u001b[0mother\u001b[0m\u001b[0;34m=\u001b[0m\u001b[0mplayers_assists_dicts\u001b[0m\u001b[0;34m,\u001b[0m\u001b[0mon\u001b[0m\u001b[0;34m=\u001b[0m\u001b[0;34m'player'\u001b[0m\u001b[0;34m,\u001b[0m\u001b[0mhow\u001b[0m\u001b[0;34m=\u001b[0m\u001b[0;34m'inner'\u001b[0m\u001b[0;34m)\u001b[0m\u001b[0;34m\u001b[0m\u001b[0m\n\u001b[0m",
      "\u001b[0;31mAttributeError\u001b[0m: 'list' object has no attribute 'join'"
     ]
    }
   ],
   "source": [
    "players_stats_dicts.join(other=players_assists_dicts,on='player',how='inner')"
   ]
  },
  {
   "cell_type": "code",
   "execution_count": null,
   "metadata": {
    "collapsed": true
   },
   "outputs": [],
   "source": []
  }
 ],
 "metadata": {
  "kernelspec": {
   "display_name": "Python 2",
   "language": "python",
   "name": "python2"
  },
  "language_info": {
   "codemirror_mode": {
    "name": "ipython",
    "version": 2
   },
   "file_extension": ".py",
   "mimetype": "text/x-python",
   "name": "python",
   "nbconvert_exporter": "python",
   "pygments_lexer": "ipython2",
   "version": "2.7.10"
  }
 },
 "nbformat": 4,
 "nbformat_minor": 0
}
