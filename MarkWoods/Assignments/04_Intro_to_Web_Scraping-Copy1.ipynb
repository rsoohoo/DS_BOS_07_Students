{
 "cells": [
  {
   "cell_type": "markdown",
   "metadata": {},
   "source": [
    "# Web Scraping with Beautiful Soup\n",
    "\n",
    "This tutorial will provide a very basic introduction to using the Beautiful Soup package to scrape text data from the web. \n",
    "\n",
    "## Installation\n",
    "\n",
    "In a terminal, install Beautiful Soup if necessary by running <pre><code>conda install beautiful-soup</code></pre>\n",
    "\n",
    "## Retrieving HTML\n",
    "\n",
    "The general idea behind web scraping is to retrieve data that exists on a website, and convert it into a format that is usable for analysis. Webpages are rendered by the brower from HTML and CSS code, but much of the information included in the HTML underlying any website is not interesting to us.\n",
    "\n",
    "We begin by reading in the source code for a given web page and creating a Beautiful Soup object with the BeautifulSoup function.\n",
    "\n",
    "### urllib2\n",
    "urllib2 is a module for working with urls, we will use it to open connections to urls and retrieve the webpage source."
   ]
  },
  {
   "cell_type": "code",
   "execution_count": 3,
   "metadata": {
    "collapsed": false
   },
   "outputs": [
    {
     "name": "stdout",
     "output_type": "stream",
     "text": [
      "<class 'bs4.BeautifulSoup'>\n"
     ]
    }
   ],
   "source": [
    "from bs4 import BeautifulSoup\n",
    "import urllib2\n",
    "page = urllib2.urlopen('http://espn.go.com/nba/statistics/player/_/stat/scoring-per-game/sort/avgPoints/qualified/false').read()\n",
    "soup = BeautifulSoup(page)\n",
    "print type(soup)"
   ]
  },
  {
   "cell_type": "markdown",
   "metadata": {},
   "source": [
    "The soup object contains all of the HTML in the original document."
   ]
  },
  {
   "cell_type": "code",
   "execution_count": 7,
   "metadata": {
    "collapsed": false
   },
   "outputs": [
    {
     "data": {
      "text/plain": [
       "u'<!DOCTYPE html>\\n<html xmlns:fb=\"http://www.facebook.com/2008/fbml\">\\n <head>\\n  <script src=\"http://sports-ak.espn.go.com/sports/optimizely.js\">\\n  </script>\\n  <meta charset=\"utf-8\"/>\\n  <meta content=\"IE=edge,chrome=1\" http-equiv=\"X-UA-Compatible\"/>\\n  <link href=\"http://a.espncdn.com/prod/assets/icons/E.svg\" mask=\"\" rel=\"icon\" sizes=\"any\"/>\\n  <meta content=\"#CC0000\" name=\"theme-color\"/>\\n  <script type=\"text/javascript\">\\n   if(true && navigator && navigator.userAgent.toLowerCase().indexOf(\"teamstream\") >= 0) {\\n        window.location = \\'http://a.m.espn.go.com/mobilecache/general/apps/sc\\';\\n    }\\n  </script>\\n  <title>\\n   2015-16 Regular Season NBA Player Stats and League Leaders - Scoring Per Game - National Basketball Association - ESPN\\n  </title>\\n  <meta content=\"xuj1ODRluWa0frM-BjIr_aSHoUC7HB5C1MgmYAM_GkA\" name=\"google-site-verification\"/>\\n  <meta content=\"B1FEB7C682C46C8FCDA3130F3D18AC28\" name=\"msvalidate.01\"/>\\n  <meta content=\"noodp\" name=\"googlebot\"/>\\n  <meta content=\"index, follow\" na'"
      ]
     },
     "execution_count": 7,
     "metadata": {},
     "output_type": "execute_result"
    }
   ],
   "source": [
    "soup.prettify()[0:1000]"
   ]
  },
  {
   "cell_type": "markdown",
   "metadata": {},
   "source": [
    "## Parsing HTML\n",
    "\n",
    "By \"parsing HTML\", we mean pulling out only the relevant tags/attributes for our analysis.  What Beautiful Soup does is provide a handy bunch of methods for doing this efficiently.\n",
    "\n",
    "### find method\n",
    "\n",
    "The find method will search for and return the first tag matching your corresponding search criteria, if it exists.  You can specify tag and attribute info etc.  There is also a findAll method that will return a collection of tags matching your query."
   ]
  },
  {
   "cell_type": "code",
   "execution_count": 8,
   "metadata": {
    "collapsed": false
   },
   "outputs": [
    {
     "name": "stdout",
     "output_type": "stream",
     "text": [
      "<div class=\"col-main\" id=\"my-players-table\">\n",
      " <div class=\"mod-container mod-table\">\n",
      "  <div class=\"mod-header stathead\">\n",
      "   <h4>\n",
      "    Points Per Game Leaders - All Players\n",
      "   </h4>\n",
      "  </div>\n",
      "  <div class=\"mod-content\">\n",
      "   <table cellpadding=\"3\" cellspacing=\"1\" class=\"tablehead\">\n",
      "    <tr align=\"right\" class=\"colhead\">\n",
      "     <td align=\"left\" style=\"width:20px;\">\n",
      "      RK\n",
      "     </td>\n",
      "     <td align=\"left\">\n",
      "      PLAYER\n",
      "     </td>\n",
      "     <td align=\"left\">\n",
      "      TEAM\n",
      "     </td>\n",
      "     <td>\n",
      "      <a href=\"http://espn.go.com/nba/statistics/player/_/stat/scoring-per-game/sort/gamesPlayed/qualified/false\" title=\"Games Played\">\n",
      "       GP\n",
      "      </a>\n",
      "     </td>\n",
      "     <td>\n",
      "      <a href=\"http://espn.go.com/nba/statistics/player/_/stat/scoring-per-game/sort/avgMinutes/qualified/false\" title=\"Minutes Per Game\">\n",
      "       MPG\n",
      "      </a>\n",
      "     </td>\n",
      "     <td>\n",
      "      <a href=\"http://espn.go.com/nba/statistics/player/_/stat/scoring-per-game/sort/avgPoints/qualified/false/order/false\" title=\"Points Per Game\">\n",
      "       PTS\n",
      "      </a>\n",
      "     </td>\n",
      "     <td>\n",
      "      <span title=\"Field Goals Made-Attempted Per Game\">\n",
      "       FGM-FGA\n",
      "      </span>\n",
      "     </td>\n",
      "     <td>\n",
      "      <a href=\"http://espn.go.com/nba/statistics/player/_/stat/scoring-per-game/sort/fieldGoalPct/qualified/false\" title=\"Field Goal Percentage\">\n",
      "       FG%\n",
      "      </a>\n",
      "     </td>\n",
      "     <td>\n",
      "      <span title=\"3-Point Field Goals Made-Attempted Per Game\">\n",
      "       3PM-3PA\n",
      "      </span>\n",
      "     </td>\n",
      "     <td>\n",
      "      <a href=\"http://espn.go.com/nba/statistics/player/_/stat/scoring-per-game/sort/threePointFieldGoalPct/qualified/false\" title=\"3-Point Field Goal Percentage\">\n",
      "       3P%\n",
      "      </a>\n",
      "     </td>\n",
      "     <td>\n",
      "      <span title=\"Free Throws Made-Attempted Per Game\">\n",
      "       FTM-FTA\n",
      "      </span>\n",
      "     </td>\n",
      "     <td>\n",
      "      <a href=\"http://espn.go.com/nba/statistics/player/_/stat/scoring-per-game/sort/freeThrowPct/qualified/false\" title=\"Free Throws Percentage\">\n",
      "       FT%\n",
      "      </a>\n",
      "     </td>\n",
      "    </tr>\n",
      "    <tr align=\"right\" class=\"oddrow player-46-3975\">\n",
      "     <td align=\"left\">\n",
      "      1\n",
      "     </td>\n",
      "     <td align=\"left\">\n",
      "      <a href=\"http://espn.go.com/nba/player/_/id/3975/stephen-curry\">\n",
      "       Stephen Curry\n",
      "      </a>\n",
      "      , PG\n",
      "     </td>\n",
      "     <td align=\"left\">\n",
      "      GS\n",
      "     </td>\n",
      "     <td>\n",
      "      4\n",
      "     </td>\n",
      "     <td>\n",
      "      31.8\n",
      "     </td>\n",
      "     <td class=\"sortcell\">\n",
      "      37.0\n",
      "     </td>\n",
      "     <td>\n",
      "      12.5-21.0\n",
      "     </td>\n",
      "     <td>\n",
      "      .595\n",
      "     </td>\n",
      "     <td>\n",
      "      5.3-10.8\n",
      "     </td>\n",
      "     <td>\n",
      "      .488\n",
      "     </td>\n",
      "     <td>\n",
      "      6.8-7.0\n",
      "     </td>\n",
      "     <td>\n",
      "      .964\n",
      "     </td>\n",
      "    </tr>\n",
      "    <tr align=\"right\" class=\"evenrow player-46-3468\">\n",
      "     <td align=\"left\">\n",
      "      2\n",
      "     </td>\n",
      "     <td align=\"left\">\n",
      "      <a href=\"http://espn.go.com/nba/player/_/id/3468/russell-westbrook\">\n",
      "       Russell Westbrook\n",
      "      </a>\n",
      "      , PG\n",
      "     </td>\n",
      "     <td align=\"left\">\n",
      "      OKC\n",
      "     </td>\n",
      "     <td>\n",
      "      4\n",
      "     </td>\n",
      "     <td>\n",
      "      35.5\n",
      "     </td>\n",
      "     <td class=\"sortcell\">\n",
      "      30.3\n",
      "     </td>\n",
      "     <td>\n",
      "      11.5-22.0\n",
      "     </td>\n",
      "     <td>\n",
      "      .523\n",
      "     </td>\n",
      "     <td>\n",
      "      2.0-5.3\n",
      "     </td>\n",
      "     <td>\n",
      "      .381\n",
      "     </td>\n",
      "     <td>\n",
      "      5.3-6.3\n",
      "     </td>\n",
      "     <td>\n",
      "      .840\n",
      "     </td>\n",
      "    </tr>\n",
      "    <tr align=\"right\" class=\"oddrow player-46-3202\">\n",
      "     <td align=\"left\">\n",
      "      3\n",
      "     </td>\n",
      "     <td align=\"left\">\n",
      "      <a href=\"http://espn.go.com/nba/player/_/id/3202/kevin-durant\">\n",
      "       Kevin Durant\n",
      "      </a>\n",
      "      , SF\n",
      "     </td>\n",
      "     <td align=\"left\">\n",
      "      OKC\n",
      "     </td>\n",
      "     <td>\n",
      "      4\n",
      "     </td>\n",
      "     <td>\n",
      "      37.8\n",
      "     </td>\n",
      "     <td class=\"sortcell\">\n",
      "      29.8\n",
      "     </td>\n",
      "     <td>\n",
      "      9.5-19.8\n",
      "     </td>\n",
      "     <td>\n",
      "      .481\n",
      "     </td>\n",
      "     <td>\n",
      "      3.0-7.3\n",
      "     </td>\n",
      "     <td>\n",
      "      .414\n",
      "     </td>\n",
      "     <td>\n",
      "      7.8-8.5\n",
      "     </td>\n",
      "     <td>\n",
      "      .912\n",
      "     </td>\n",
      "    </tr>\n",
      "    <tr align=\"right\" class=\"evenrow player-46-3989\">\n",
      "     <td align=\"left\">\n",
      "      4\n",
      "     </td>\n",
      "     <td align=\"left\">\n",
      "      <a href=\"http://espn.go.com/nba/player/_/id/3989/blake-griffin\">\n",
      "       Blake Griffin\n",
      "     \n"
     ]
    }
   ],
   "source": [
    "table_div = soup.find(id='my-players-table')\n",
    "print table_div.prettify()[0:4000]"
   ]
  },
  {
   "cell_type": "markdown",
   "metadata": {},
   "source": [
    "Notice that the object returned by the find method is just another inner HTML structure, which we can step through just like we would have with the original soup object.  We've gone to the location in the webpage where the table that we seek starts, now we can use find again to get to the table data."
   ]
  },
  {
   "cell_type": "code",
   "execution_count": 9,
   "metadata": {
    "collapsed": false
   },
   "outputs": [
    {
     "name": "stdout",
     "output_type": "stream",
     "text": [
      "<table cellpadding=\"3\" cellspacing=\"1\" class=\"tablehead\">\n",
      "<tr align=\"right\" class=\"colhead\"><td align=\"left\" style=\"width:20px;\">RK</td><td align=\"left\">PLAYER</td><td align=\"left\">TEAM</td><td><a href=\"http://espn.go.com/nba/statistics/player/_/stat/scoring-per-game/sort/gamesPlayed/qualified/false\" title=\"Games Played\">GP</a></td><td><a href=\"http://espn.go.com/nba/statistics/player/_/stat/scoring-per-game/sort/avgMinutes/qualified/false\" title=\"Minutes Per Game\">MPG</a></td><td><a href=\"http://espn.go.com/nba/statistics/player/_/stat/scoring-per-game/sort/avgPoints/qualified/false/order/false\" title=\"Points Per Game\">PTS</a></td><td><span title=\"Field Goals Made-Attempted Per Game\">FGM-FGA</span></td><td><a href=\"http://espn.go.com/nba/statistics/player/_/stat/scoring-per-game/sort/fieldGoalPct/qualified/false\" title=\"Field Goal Percentage\">FG%</a></td><td><span title=\"3-Point Field Goals Made-Attempted Per Game\">3PM-3PA</span></td><td><a href=\"http://espn.go.com/nba/statistics/player/_/stat/scoring-per-game/sort/threePointFieldGoalPct/qualified/false\" title=\"3-Point Field Goal Percentage\">3P%</a></td><td><span title=\"Free Throws Made-Attempted Per Game\">FTM-FTA</span></td><td><a href=\"http://espn.go.com/nba/statistics/player/_/stat/scoring-per-game/sort/freeThrowPct/qualified/false\" title=\"Free Throws Percentage\">FT%</a></td></tr><tr align=\"right\" class=\"oddrow player-46-3975\"><td align=\"left\">1</td><td align=\"left\"><a href=\"http://espn.go.com/nba/player/_/id/3975/stephen-curry\">Stephen Curry</a>, PG</td><td align=\"left\">GS</td><td>4</td><td>31.8</td><td class=\"sortcell\">37.0</td><td>12.5-21.0</td><td>.595</td><td>5.3-10.8</td><td>.488</td><td>6.8-7.0</td><td>.964</td></tr><tr align=\"right\" class=\"evenrow player-46-3468\"><td align=\"left\">2</td><td align=\"left\"><a href=\"http://espn.go.com/nba/player/_/id/3468/russell-westbrook\">Russell Westbrook</a>, PG</td><td align=\"left\">OKC</td><td>4</td><td>35.5</td><td class=\"sortcell\">30.3</td><td>11.5-22.0</td><td>.523</td><td>2.0-5.3</td><td>.381</td><td>5.3-6.3</td><td>.840</td></tr><tr align=\"right\" class=\"oddrow player-46-3202\"><td align=\"left\">3</td><td align=\"left\"><a href=\"http://espn.go.com/nba/player/_/id/3202/kevin-durant\">Kevin Durant</a>, SF</td><td align=\"left\">OKC</td><td>4</td><td>37.8</td><td class=\"sortcell\">29.8</td><td>9.5-19.8</td><td>.481</td><td>3.0-7.3</td><td>.414</td><td>7.8-8.5</td><td>.912</td></tr><tr align=\"right\" class=\"evenrow player-46-3989\"><td align=\"left\">4</td><td align=\"left\"><a href=\"http://espn.go.com/nba/player/_/id/3989/blake-griffin\">Blake Griffin</a>, PF</td><td align=\"left\">LAC</td><td>4</td><td>33.8</td><td class=\"sortcell\">29.5</td><td>11.5-18.5</td><td>.622</td><td>0.0-0.0</td><td>.000</td><td>6.5-8.8</td><td>.743</td></tr><tr align=\"right\" class=\"oddrow player-46-6606\"><td align=\"left\">5</td><td align=\"left\"><a href=\"http://espn.go.com/nba/player/_/id/6606/damian-lillard\">Damian Lillard</a>, PG</td><td align=\"left\">POR</td><td>4</td><td>36.8</td><td class=\"sortcell\">25.5</td><td>9.3-20.8</td><td>.446</td><td>2.8-8.0</td><td>.344</td><td>4.3-5.0</td><td>.850</td></tr><tr align=\"right\" class=\"evenrow player-46-6580\"><td align=\"left\">6</td><td align=\"left\"><a href=\"http://espn.go.com/nba/player/_/id/6580/bradley-beal\">Bradley Beal</a>, SG</td><td align=\"left\">WSH</td><td>3</td><td>35.0</td><td class=\"sortcell\">25.3</td><td>9.0-19.3</td><td>.466</td><td>3.3-6.7</td><td>.500</td><td>4.0-5.3</td><td>.750</td></tr><tr align=\"right\" class=\"oddrow player-46-1975\"><td align=\"left\">7</td><td align=\"left\"><a href=\"http://espn.go.com/nba/player/_/id/1975/carmelo-anthony\">Carmelo Anthony</a>, SF</td><td align=\"left\">NY</td><td>4</td><td>33.0</td><td class=\"sortcell\">23.0</td><td>7.3-19.5</td><td>.372</td><td>1.5-5.0</td><td>.300</td><td>7.0-7.8</td><td>.903</td></tr><tr align=\"right\" class=\"evenrow player-46-3992\"><td align=\"left\">8</td><td align=\"left\"><a href=\"http://espn.go.com/nba/player/_/id/3992/james-harden\">James Harden</a>, SG</td><td align=\"left\">HOU</td><td>4</td><td>37.8</td><td class=\"sortcell\">22.8</td><td>6.0-20.0</td><td>.300</td><td>1.8-11.0</td><td>.159</td><td>9.0-10.5</td><td>.857</td></tr><tr align=\"right\" class=\"oddrow player-46-3032977\"><td align=\"left\">9</td><td align=\"left\"><a href=\"http://espn.go.com/nba/player/_/id/3032977/giannis-antetokounmpo\">Giannis Antetokounmpo</a>, SF</td><td align=\"left\">MIL</td><td>3</td><td>36.3</td><td class=\"sortcell\">22.7</td><td>8.3-14.3</td><td>.581</td><td>1.0-2.3</td><td>.429</td><td>5.0-6.0</td><td>.833</td></tr><tr align=\"right\" class=\"evenrow player-46-6472\"><td align=\"left\">10</td><td align=\"left\"><a href=\"http://espn.go.com/nba/player/_/id/6472/isaiah-thomas\">Isaiah Thomas</a>, PG</td><td align=\"left\">BOS</td><td>3</td><td>28.3</td><td class=\"sortcell\">22.3</td><td>7.0-17.7</td><td>.396</td><td>1.0-5.0</td><td>.200</td><td>7.3-8.0</td><td>.917</td></tr><tr align=\"right\" class=\"colhead\"><td align=\"left\" style=\"width:20px;\">RK</td><td align=\"left\">PLAYER</td><td align=\"left\">TEAM</td><td><a href=\"http://espn.go.com/nba/statistics/player/_/stat/scoring-per-game/sort/gamesPlayed/qualified/false\" title=\"Games Played\">GP</a></td><td><a href=\"http://espn.go.com/nba/statistics/player/_/stat/scoring-per-game/sort/avgMinutes/qualified/false\" title=\"Minutes Per Game\">MPG</a></td><td><a href=\"http://espn.go.com/nba/statistics/player/_/stat/scoring-per-game/sort/avgPoints/qualified/false/order/false\" title=\"Points Per Game\">PTS</a></td><td><span title=\"Field Goals Made-Attempted Per Game\">FGM-FGA</span></td><td><a href=\"http://espn.go.com/nba/statistics/player/_/stat/scoring-per-game/sort/fieldGoalPct/qualified/false\" title=\"Field Goal Percentage\">FG%</a></td><td><span title=\"3-Point Field Goals Made-Attempted Per Game\">3PM-3PA</span></td><td><a href=\"http://espn.go.com/nba/statistics/player/_/stat/scoring-per-game/sort/threePointFieldGoalPct/qualified/false\" title=\"3-Point Field Goal Percentage\">3P%</a></td><td><span title=\"Free Throws Made-Attempted Per Game\">FTM-FTA</span></td><td><a href=\"http://espn.go.com/nba/statistics/player/_/stat/scoring-per-game/sort/freeThrowPct/qualified/false\" title=\"Free Throws Percentage\">FT%</a></td></tr><tr align=\"right\" class=\"oddrow player-46-1966\"><td align=\"left\">11</td><td align=\"left\"><a href=\"http://espn.go.com/nba/player/_/id/1966/lebron-james\">LeBron James</a>, SF</td><td align=\"left\">CLE</td><td>4</td><td>33.5</td><td class=\"sortcell\">22.0</td><td>9.5-18.3</td><td>.521</td><td>0.3-3.3</td><td>.077</td><td>2.8-5.0</td><td>.550</td></tr><tr align=\"right\" class=\"evenrow player-46-4237\"><td align=\"left\"> </td><td align=\"left\"><a href=\"http://espn.go.com/nba/player/_/id/4237/john-wall\">John Wall</a>, PG</td><td align=\"left\">WSH</td><td>3</td><td>36.3</td><td class=\"sortcell\">22.0</td><td>7.0-15.0</td><td>.467</td><td>1.7-4.7</td><td>.357</td><td>6.3-9.0</td><td>.704</td></tr><tr align=\"right\" class=\"oddrow player-46-4258\"><td align=\"left\"> </td><td align=\"left\"><a href=\"http://espn.go.com/nba/player/_/id/4258/demarcus-cousins\">DeMarcus Cousins</a>, PF</td><td align=\"left\">SAC</td><td>3</td><td>26.0</td><td class=\"sortcell\">22.0</td><td>7.0-16.7</td><td>.420</td><td>1.3-3.3</td><td>.400</td><td>6.7-9.0</td><td>.741</td></tr><tr align=\"right\" class=\"evenrow player-46-1987\"><td align=\"left\">14</td><td align=\"left\"><a href=\"http://espn.go.com/nba/player/_/id/1987/dwyane-wade\">Dwyane Wade</a>, SG</td><td align=\"left\">MIA</td><td>4</td><td>29.8</td><td class=\"sortcell\">21.5</td><td>7.3-15.5</td><td>.468</td><td>1.0-2.0</td><td>.500</td><td>6.0-6.5</td><td>.923</td></tr><tr align=\"right\" class=\"oddrow player-46-2490149\"><td align=\"left\"> </td><td align=\"left\"><a href=\"http://espn.go.com/nba/player/_/id/2490149/c.j.-mccollum\">C.J. McCollum</a>, SG</td><td align=\"left\">POR</td><td>4</td><td>35.3</td><td class=\"sortcell\">21.5</td><td>8.5-19.3</td><td>.442</td><td>2.8-7.0</td><td>.393</td><td>1.8-1.8</td><td>1.000</td></tr><tr align=\"right\" class=\"evenrow player-46-4257\"><td align=\"left\">16</td><td align=\"left\"><a href=\"http://espn.go.com/nba/player/_/id/4257/derrick-favors\">Derrick Favors</a>, PF</td><td align=\"left\">UTAH</td><td>3</td><td>31.7</td><td class=\"sortcell\">21.3</td><td>8.3-16.0</td><td>.521</td><td>0.0-0.0</td><td>.000</td><td>4.7-6.3</td><td>.737</td></tr><tr align=\"right\" class=\"oddrow player-46-6450\"><td align=\"left\"> </td><td align=\"left\"><a href=\"http://espn.go.com/nba/player/_/id/6450/kawhi-leonard\">Kawhi Leonard</a>, SF</td><td align=\"left\">SA</td><td>4</td><td>32.8</td><td class=\"sortcell\">21.3</td><td>8.8-18.0</td><td>.486</td><td>0.8-3.0</td><td>.250</td><td>3.0-3.0</td><td>1.000</td></tr><tr align=\"right\" class=\"evenrow player-46-4238\"><td align=\"left\">18</td><td align=\"left\"><a href=\"http://espn.go.com/nba/player/_/id/4238/eric-bledsoe\">Eric Bledsoe</a>, PG</td><td align=\"left\">PHX</td><td>4</td><td>33.8</td><td class=\"sortcell\">21.0</td><td>7.0-16.5</td><td>.424</td><td>0.8-3.5</td><td>.214</td><td>6.3-7.8</td><td>.806</td></tr><tr align=\"right\" class=\"oddrow player-46-6430\"><td align=\"left\">19</td><td align=\"left\"><a href=\"http://espn.go.com/nba/player/_/id/6430/jimmy-butler\">Jimmy Butler</a>, SG</td><td align=\"left\">CHI</td><td>5</td><td>35.6</td><td class=\"sortcell\">20.8</td><td>6.8-14.0</td><td>.486</td><td>1.6-3.2</td><td>.500</td><td>5.6-7.0</td><td>.800</td></tr><tr align=\"right\" class=\"evenrow player-46-3978\"><td align=\"left\"> </td><td align=\"left\"><a href=\"http://espn.go.com/nba/player/_/id/3978/demar-derozan\">DeMar DeRozan</a>, SG</td><td align=\"left\">TOR</td><td>4</td><td>34.0</td><td class=\"sortcell\">20.8</td><td>6.3-14.5</td><td>.431</td><td>0.5-1.8</td><td>.286</td><td>7.8-10.0</td><td>.775</td></tr><tr align=\"right\" class=\"colhead\"><td align=\"left\" style=\"width:20px;\">RK</td><td align=\"left\">PLAYER</td><td align=\"left\">TEAM</td><td><a href=\"http://espn.go.com/nba/statistics/player/_/stat/scoring-per-game/sort/gamesPlayed/qualified/false\" title=\"Games Played\">GP</a></td><td><a href=\"http://espn.go.com/nba/statistics/player/_/stat/scoring-per-game/sort/avgMinutes/qualified/false\" title=\"Minutes Per Game\">MPG</a></td><td><a href=\"http://espn.go.com/nba/statistics/player/_/stat/scoring-per-game/sort/avgPoints/qualified/false/order/false\" title=\"Points Per Game\">PTS</a></td><td><span title=\"Field Goals Made-Attempted Per Game\">FGM-FGA</span></td><td><a href=\"http://espn.go.com/nba/statistics/player/_/stat/scoring-per-game/sort/fieldGoalPct/qualified/false\" title=\"Field Goal Percentage\">FG%</a></td><td><span title=\"3-Point Field Goals Made-Attempted Per Game\">3PM-3PA</span></td><td><a href=\"http://espn.go.com/nba/statistics/player/_/stat/scoring-per-game/sort/threePointFieldGoalPct/qualified/false\" title=\"3-Point Field Goal Percentage\">3P%</a></td><td><span title=\"Free Throws Made-Attempted Per Game\">FTM-FTA</span></td><td><a href=\"http://espn.go.com/nba/statistics/player/_/stat/scoring-per-game/sort/freeThrowPct/qualified/false\" title=\"Free Throws Percentage\">FT%</a></td></tr><tr align=\"right\" class=\"oddrow player-46-6583\"><td align=\"left\"> </td><td align=\"left\"><a href=\"http://espn.go.com/nba/player/_/id/6583/anthony-davis\">Anthony Davis</a>, PF</td><td align=\"left\">NO</td><td>4</td><td>37.3</td><td class=\"sortcell\">20.8</td><td>6.3-16.5</td><td>.379</td><td>1.0-2.8</td><td>.364</td><td>7.3-10.0</td><td>.725</td></tr><tr align=\"right\" class=\"evenrow player-46-2394\"><td align=\"left\">22</td><td align=\"left\"><a href=\"http://espn.go.com/nba/player/_/id/2394/kevin-martin\">Kevin Martin</a>, SG</td><td align=\"left\">MIN</td><td>3</td><td>28.3</td><td class=\"sortcell\">20.3</td><td>5.7-12.0</td><td>.472</td><td>1.0-3.7</td><td>.273</td><td>8.0-9.7</td><td>.828</td></tr><tr align=\"right\" class=\"oddrow player-46-4260\"><td align=\"left\"> </td><td align=\"left\"><a href=\"http://espn.go.com/nba/player/_/id/4260/greg-monroe\">Greg Monroe</a>, C</td><td align=\"left\">MIL</td><td>4</td><td>34.3</td><td class=\"sortcell\">20.3</td><td>8.0-13.0</td><td>.615</td><td>0.0-0.0</td><td>.000</td><td>4.3-5.3</td><td>.810</td></tr><tr align=\"right\" class=\"evenrow player-46-6585\"><td align=\"left\"> </td><td align=\"left\"><a href=\"http://espn.go.com/nba/player/_/id/6585/andre-drummond\">Andre Drummond</a>, C</td><td align=\"left\">DET</td><td>4</td><td>39.0</td><td class=\"sortcell\">20.3</td><td>7.8-15.8</td><td>.492</td><td>0.0-0.0</td><td>.000</td><td>4.8-8.3</td><td>.576</td></tr><tr align=\"right\" class=\"oddrow player-46-3135048\"><td align=\"left\">25</td><td align=\"left\"><a href=\"http://espn.go.com/nba/player/_/id/3135048/jahlil-okafor\">Jahlil Okafor</a>, C</td><td align=\"left\">PHI</td><td>3</td><td>33.7</td><td class=\"sortcell\">20.0</td><td>8.3-16.3</td><td>.510</td><td>0.0-0.0</td><td>.000</td><td>3.3-4.3</td><td>.769</td></tr><tr align=\"right\" class=\"evenrow player-46-4015\"><td align=\"left\">26</td><td align=\"left\"><a href=\"http://espn.go.com/nba/player/_/id/4015/jeff-teague\">Jeff Teague</a>, PG</td><td align=\"left\">ATL</td><td>5</td><td>32.4</td><td class=\"sortcell\">19.8</td><td>7.0-15.2</td><td>.461</td><td>1.0-3.0</td><td>.333</td><td>4.8-5.4</td><td>.889</td></tr><tr align=\"right\" class=\"oddrow player-46-3012\"><td align=\"left\"> </td><td align=\"left\"><a href=\"http://espn.go.com/nba/player/_/id/3012/kyle-lowry\">Kyle Lowry</a>, PG</td><td align=\"left\">TOR</td><td>4</td><td>34.8</td><td class=\"sortcell\">19.8</td><td>6.3-13.3</td><td>.472</td><td>1.8-3.8</td><td>.467</td><td>5.5-6.3</td><td>.880</td></tr><tr align=\"right\" class=\"evenrow player-46-6443\"><td align=\"left\">28</td><td align=\"left\"><a href=\"http://espn.go.com/nba/player/_/id/6443/reggie-jackson\">Reggie Jackson</a>, PG</td><td align=\"left\">DET</td><td>4</td><td>33.8</td><td class=\"sortcell\">19.0</td><td>7.0-17.0</td><td>.412</td><td>1.5-3.8</td><td>.400</td><td>3.5-4.5</td><td>.778</td></tr><tr align=\"right\" class=\"oddrow player-46-3005\"><td align=\"left\">29</td><td align=\"left\"><a href=\"http://espn.go.com/nba/player/_/id/3005/rudy-gay\">Rudy Gay</a>, SF</td><td align=\"left\">SAC</td><td>4</td><td>31.5</td><td class=\"sortcell\">18.5</td><td>7.5-17.0</td><td>.441</td><td>1.5-3.8</td><td>.400</td><td>2.0-2.5</td><td>.800</td></tr><tr align=\"right\" class=\"evenrow player-46-3449\"><td align=\"left\"> </td><td align=\"left\"><a href=\"http://espn.go.com/nba/player/_/id/3449/kevin-love\">Kevin Love</a>, PF</td><td align=\"left\">CLE</td><td>4</td><td>31.3</td><td class=\"sortcell\">18.5</td><td>6.5-15.0</td><td>.433</td><td>2.0-6.3</td><td>.320</td><td>3.5-3.5</td><td>1.000</td></tr><tr align=\"right\" class=\"colhead\"><td align=\"left\" style=\"width:20px;\">RK</td><td align=\"left\">PLAYER</td><td align=\"left\">TEAM</td><td><a href=\"http://espn.go.com/nba/statistics/player/_/stat/scoring-per-game/sort/gamesPlayed/qualified/false\" title=\"Games Played\">GP</a></td><td><a href=\"http://espn.go.com/nba/statistics/player/_/stat/scoring-per-game/sort/avgMinutes/qualified/false\" title=\"Minutes Per Game\">MPG</a></td><td><a href=\"http://espn.go.com/nba/statistics/player/_/stat/scoring-per-game/sort/avgPoints/qualified/false/order/false\" title=\"Points Per Game\">PTS</a></td><td><span title=\"Field Goals Made-Attempted Per Game\">FGM-FGA</span></td><td><a href=\"http://espn.go.com/nba/statistics/player/_/stat/scoring-per-game/sort/fieldGoalPct/qualified/false\" title=\"Field Goal Percentage\">FG%</a></td><td><span title=\"3-Point Field Goals Made-Attempted Per Game\">3PM-3PA</span></td><td><a href=\"http://espn.go.com/nba/statistics/player/_/stat/scoring-per-game/sort/threePointFieldGoalPct/qualified/false\" title=\"3-Point Field Goal Percentage\">3P%</a></td><td><span title=\"Free Throws Made-Attempted Per Game\">FTM-FTA</span></td><td><a href=\"http://espn.go.com/nba/statistics/player/_/stat/scoring-per-game/sort/freeThrowPct/qualified/false\" title=\"Free Throws Percentage\">FT%</a></td></tr><tr align=\"right\" class=\"oddrow player-46-6588\"><td align=\"left\"> </td><td align=\"left\"><a href=\"http://espn.go.com/nba/player/_/id/6588/evan-fournier\">Evan Fournier</a>, SF</td><td align=\"left\">ORL</td><td>4</td><td>37.5</td><td class=\"sortcell\">18.5</td><td>7.3-15.8</td><td>.460</td><td>2.0-6.0</td><td>.333</td><td>2.0-3.0</td><td>.667</td></tr><tr align=\"right\" class=\"evenrow player-46-3448\"><td align=\"left\">32</td><td align=\"left\"><a href=\"http://espn.go.com/nba/player/_/id/3448/brook-lopez\">Brook Lopez</a>, C</td><td align=\"left\">BKN</td><td>4</td><td>32.0</td><td class=\"sortcell\">18.3</td><td>6.5-12.3</td><td>.531</td><td>0.0-0.3</td><td>.000</td><td>5.3-6.5</td><td>.808</td></tr><tr align=\"right\" class=\"oddrow player-46-6478\"><td align=\"left\"> </td><td align=\"left\"><a href=\"http://espn.go.com/nba/player/_/id/6478/nikola-vucevic\">Nikola Vucevic</a>, C</td><td align=\"left\">ORL</td><td>4</td><td>35.5</td><td class=\"sortcell\">18.3</td><td>7.8-15.0</td><td>.517</td><td>0.0-0.0</td><td>.000</td><td>2.8-3.3</td><td>.846</td></tr><tr align=\"right\" class=\"evenrow player-46-2528426\"><td align=\"left\"> </td><td align=\"left\"><a href=\"http://espn.go.com/nba/player/_/id/2528426/jordan-clarkson\">Jordan Clarkson</a>, PG</td><td align=\"left\">LAL</td><td>4</td><td>31.3</td><td class=\"sortcell\">18.3</td><td>7.3-13.0</td><td>.558</td><td>1.8-3.8</td><td>.467</td><td>2.0-2.8</td><td>.727</td></tr><tr align=\"right\" class=\"oddrow player-46-6448\"><td align=\"left\">35</td><td align=\"left\"><a href=\"http://espn.go.com/nba/player/_/id/6448/brandon-knight\">Brandon Knight</a>, PG</td><td align=\"left\">PHX</td><td>4</td><td>35.8</td><td class=\"sortcell\">18.0</td><td>6.8-16.5</td><td>.409</td><td>2.0-6.5</td><td>.308</td><td>2.5-2.8</td><td>.909</td></tr><tr align=\"right\" class=\"evenrow player-46-3136195\"><td align=\"left\">36</td><td align=\"left\"><a href=\"http://espn.go.com/nba/player/_/id/3136195/karl-anthony-towns\">Karl-Anthony Towns</a>, C</td><td align=\"left\">MIN</td><td>3</td><td>30.7</td><td class=\"sortcell\">17.7</td><td>7.3-12.7</td><td>.579</td><td>0.3-0.7</td><td>.500</td><td>2.7-3.0</td><td>.889</td></tr><tr align=\"right\" class=\"oddrow player-46-609\"><td align=\"left\">37</td><td align=\"left\"><a href=\"http://espn.go.com/nba/player/_/id/609/dirk-nowitzki\">Dirk Nowitzki</a>, PF</td><td align=\"left\">DAL</td><td>4</td><td>27.8</td><td class=\"sortcell\">17.5</td><td>6.8-12.0</td><td>.563</td><td>2.0-3.3</td><td>.615</td><td>2.0-2.0</td><td>1.000</td></tr><tr align=\"right\" class=\"evenrow player-46-3213\"><td align=\"left\">38</td><td align=\"left\"><a href=\"http://espn.go.com/nba/player/_/id/3213/al-horford\">Al Horford</a>, PF</td><td align=\"left\">ATL</td><td>5</td><td>32.8</td><td class=\"sortcell\">17.4</td><td>7.6-15.0</td><td>.507</td><td>1.0-3.6</td><td>.278</td><td>1.2-1.6</td><td>.750</td></tr><tr align=\"right\" class=\"oddrow player-46-4011\"><td align=\"left\">39</td><td align=\"left\"><a href=\"http://espn.go.com/nba/player/_/id/4011/ricky-rubio\">Ricky Rubio</a>, PG</td><td align=\"left\">MIN</td><td>3</td><td>31.7</td><td class=\"sortcell\">17.3</td><td>5.3-11.7</td><td>.457</td><td>0.7-2.7</td><td>.250</td><td>6.0-6.7</td><td>.900</td></tr><tr align=\"right\" class=\"evenrow player-46-3428\"><td align=\"left\"> </td><td align=\"left\"><a href=\"http://espn.go.com/nba/player/_/id/3428/danilo-gallinari\">Danilo Gallinari</a>, SF</td><td align=\"left\">DEN</td><td>4</td><td>32.8</td><td class=\"sortcell\">17.3</td><td>5.0-13.3</td><td>.377</td><td>1.3-3.3</td><td>.385</td><td>6.0-6.5</td><td>.923</td></tr>\n",
      "</table>\n"
     ]
    }
   ],
   "source": [
    "table = table_div.find(\"table\")\n",
    "print table"
   ]
  },
  {
   "cell_type": "markdown",
   "metadata": {},
   "source": [
    "### Searching by Attributes\n",
    "\n",
    "Now that we have the table object, we need to step through the rows.  First we'll find the header row so we can populate what the field names will be in our data.  Here we're searching for tags under the table tag whose class attritbute is \"colhead\".  "
   ]
  },
  {
   "cell_type": "code",
   "execution_count": 10,
   "metadata": {
    "collapsed": false
   },
   "outputs": [
    {
     "name": "stdout",
     "output_type": "stream",
     "text": [
      "<tr align=\"right\" class=\"colhead\">\n",
      " <td align=\"left\" style=\"width:20px;\">\n",
      "  RK\n",
      " </td>\n",
      " <td align=\"left\">\n",
      "  PLAYER\n",
      " </td>\n",
      " <td align=\"left\">\n",
      "  TEAM\n",
      " </td>\n",
      " <td>\n",
      "  <a href=\"http://espn.go.com/nba/statistics/player/_/stat/scoring-per-game/sort/gamesPlayed/qualified/false\" title=\"Games Played\">\n",
      "   GP\n",
      "  </a>\n",
      " </td>\n",
      " <td>\n",
      "  <a href=\"http://espn.go.com/nba/statistics/player/_/stat/scoring-per-game/sort/avgMinutes/qualified/false\" title=\"Minutes Per Game\">\n",
      "   MPG\n",
      "  </a>\n",
      " </td>\n",
      " <td>\n",
      "  <a href=\"http://espn.go.com/nba/statistics/player/_/stat/scoring-per-game/sort/avgPoints/qualified/false/order/false\" title=\"Points Per Game\">\n",
      "   PTS\n",
      "  </a>\n",
      " </td>\n",
      " <td>\n",
      "  <span title=\"Field Goals Made-Attempted Per Game\">\n",
      "   FGM-FGA\n",
      "  </span>\n",
      " </td>\n",
      " <td>\n",
      "  <a href=\"http://espn.go.com/nba/statistics/player/_/stat/scoring-per-game/sort/fieldGoalPct/qualified/false\" title=\"Field Goal Percentage\">\n",
      "   FG%\n",
      "  </a>\n",
      " </td>\n",
      " <td>\n",
      "  <span title=\"3-Point Field Goals Made-Attempted Per Game\">\n",
      "   3PM-3PA\n",
      "  </span>\n",
      " </td>\n",
      " <td>\n",
      "  <a href=\"http://espn.go.com/nba/statistics/player/_/stat/scoring-per-game/sort/threePointFieldGoalPct/qualified/false\" title=\"3-Point Field Goal Percentage\">\n",
      "   3P%\n",
      "  </a>\n",
      " </td>\n",
      " <td>\n",
      "  <span title=\"Free Throws Made-Attempted Per Game\">\n",
      "   FTM-FTA\n",
      "  </span>\n",
      " </td>\n",
      " <td>\n",
      "  <a href=\"http://espn.go.com/nba/statistics/player/_/stat/scoring-per-game/sort/freeThrowPct/qualified/false\" title=\"Free Throws Percentage\">\n",
      "   FT%\n",
      "  </a>\n",
      " </td>\n",
      "</tr>\n",
      "\n"
     ]
    }
   ],
   "source": [
    "table_head = table.find(attrs={\"class\":'colhead'})\n",
    "print table_head.prettify()"
   ]
  },
  {
   "cell_type": "markdown",
   "metadata": {},
   "source": [
    "Now we find the actual values by searching for the 'td' tags, which is the tag for table data."
   ]
  },
  {
   "cell_type": "code",
   "execution_count": 11,
   "metadata": {
    "collapsed": false
   },
   "outputs": [
    {
     "name": "stdout",
     "output_type": "stream",
     "text": [
      "[<td align=\"left\" style=\"width:20px;\">RK</td>, <td align=\"left\">PLAYER</td>, <td align=\"left\">TEAM</td>, <td><a href=\"http://espn.go.com/nba/statistics/player/_/stat/scoring-per-game/sort/gamesPlayed/qualified/false\" title=\"Games Played\">GP</a></td>, <td><a href=\"http://espn.go.com/nba/statistics/player/_/stat/scoring-per-game/sort/avgMinutes/qualified/false\" title=\"Minutes Per Game\">MPG</a></td>, <td><a href=\"http://espn.go.com/nba/statistics/player/_/stat/scoring-per-game/sort/avgPoints/qualified/false/order/false\" title=\"Points Per Game\">PTS</a></td>, <td><span title=\"Field Goals Made-Attempted Per Game\">FGM-FGA</span></td>, <td><a href=\"http://espn.go.com/nba/statistics/player/_/stat/scoring-per-game/sort/fieldGoalPct/qualified/false\" title=\"Field Goal Percentage\">FG%</a></td>, <td><span title=\"3-Point Field Goals Made-Attempted Per Game\">3PM-3PA</span></td>, <td><a href=\"http://espn.go.com/nba/statistics/player/_/stat/scoring-per-game/sort/threePointFieldGoalPct/qualified/false\" title=\"3-Point Field Goal Percentage\">3P%</a></td>, <td><span title=\"Free Throws Made-Attempted Per Game\">FTM-FTA</span></td>, <td><a href=\"http://espn.go.com/nba/statistics/player/_/stat/scoring-per-game/sort/freeThrowPct/qualified/false\" title=\"Free Throws Percentage\">FT%</a></td>]\n"
     ]
    }
   ],
   "source": [
    "header_cols = table_head.findAll('td')\n",
    "print header_cols"
   ]
  },
  {
   "cell_type": "markdown",
   "metadata": {},
   "source": [
    "Finally, we step through these columns and save them to a list to be used later.  We'll ignore the rank column (RK) because that doesn't give us anything we want later.  We also separate the **PLAYER** column into **PLAYER** and **POSITION**."
   ]
  },
  {
   "cell_type": "code",
   "execution_count": 12,
   "metadata": {
    "collapsed": false
   },
   "outputs": [
    {
     "name": "stdout",
     "output_type": "stream",
     "text": [
      "[u'PLAYER', 'POSITION', u'TEAM', u'GP', u'MPG', u'PTS', u'FGM-FGA', u'FG%', u'3PM-3PA', u'3P%', u'FTM-FTA', u'FT%']\n"
     ]
    }
   ],
   "source": [
    "cols = []\n",
    "for header_col in header_cols:\n",
    "    val = header_col.string\n",
    "    if val != 'RK':\n",
    "        cols.append(val)\n",
    "    if val == 'PLAYER':\n",
    "        cols.append('POSITION')\n",
    "print cols"
   ]
  },
  {
   "cell_type": "markdown",
   "metadata": {},
   "source": [
    "### Stepping Through a Table\n",
    "\n",
    "The table rows are indicated by the tag 'tr'.  Again we can find them all and iterate through them.  Within each row we iterate through the respective columns."
   ]
  },
  {
   "cell_type": "code",
   "execution_count": 13,
   "metadata": {
    "collapsed": false
   },
   "outputs": [
    {
     "name": "stdout",
     "output_type": "stream",
     "text": [
      "[<tr align=\"right\" class=\"colhead\"><td align=\"left\" style=\"width:20px;\">RK</td><td align=\"left\">PLAYER</td><td align=\"left\">TEAM</td><td><a href=\"http://espn.go.com/nba/statistics/player/_/stat/scoring-per-game/sort/gamesPlayed/qualified/false\" title=\"Games Played\">GP</a></td><td><a href=\"http://espn.go.com/nba/statistics/player/_/stat/scoring-per-game/sort/avgMinutes/qualified/false\" title=\"Minutes Per Game\">MPG</a></td><td><a href=\"http://espn.go.com/nba/statistics/player/_/stat/scoring-per-game/sort/avgPoints/qualified/false/order/false\" title=\"Points Per Game\">PTS</a></td><td><span title=\"Field Goals Made-Attempted Per Game\">FGM-FGA</span></td><td><a href=\"http://espn.go.com/nba/statistics/player/_/stat/scoring-per-game/sort/fieldGoalPct/qualified/false\" title=\"Field Goal Percentage\">FG%</a></td><td><span title=\"3-Point Field Goals Made-Attempted Per Game\">3PM-3PA</span></td><td><a href=\"http://espn.go.com/nba/statistics/player/_/stat/scoring-per-game/sort/threePointFieldGoalPct/qualified/false\" title=\"3-Point Field Goal Percentage\">3P%</a></td><td><span title=\"Free Throws Made-Attempted Per Game\">FTM-FTA</span></td><td><a href=\"http://espn.go.com/nba/statistics/player/_/stat/scoring-per-game/sort/freeThrowPct/qualified/false\" title=\"Free Throws Percentage\">FT%</a></td></tr>, <tr align=\"right\" class=\"oddrow player-46-3975\"><td align=\"left\">1</td><td align=\"left\"><a href=\"http://espn.go.com/nba/player/_/id/3975/stephen-curry\">Stephen Curry</a>, PG</td><td align=\"left\">GS</td><td>4</td><td>31.8</td><td class=\"sortcell\">37.0</td><td>12.5-21.0</td><td>.595</td><td>5.3-10.8</td><td>.488</td><td>6.8-7.0</td><td>.964</td></tr>, <tr align=\"right\" class=\"evenrow player-46-3468\"><td align=\"left\">2</td><td align=\"left\"><a href=\"http://espn.go.com/nba/player/_/id/3468/russell-westbrook\">Russell Westbrook</a>, PG</td><td align=\"left\">OKC</td><td>4</td><td>35.5</td><td class=\"sortcell\">30.3</td><td>11.5-22.0</td><td>.523</td><td>2.0-5.3</td><td>.381</td><td>5.3-6.3</td><td>.840</td></tr>, <tr align=\"right\" class=\"oddrow player-46-3202\"><td align=\"left\">3</td><td align=\"left\"><a href=\"http://espn.go.com/nba/player/_/id/3202/kevin-durant\">Kevin Durant</a>, SF</td><td align=\"left\">OKC</td><td>4</td><td>37.8</td><td class=\"sortcell\">29.8</td><td>9.5-19.8</td><td>.481</td><td>3.0-7.3</td><td>.414</td><td>7.8-8.5</td><td>.912</td></tr>, <tr align=\"right\" class=\"evenrow player-46-3989\"><td align=\"left\">4</td><td align=\"left\"><a href=\"http://espn.go.com/nba/player/_/id/3989/blake-griffin\">Blake Griffin</a>, PF</td><td align=\"left\">LAC</td><td>4</td><td>33.8</td><td class=\"sortcell\">29.5</td><td>11.5-18.5</td><td>.622</td><td>0.0-0.0</td><td>.000</td><td>6.5-8.8</td><td>.743</td></tr>, <tr align=\"right\" class=\"oddrow player-46-6606\"><td align=\"left\">5</td><td align=\"left\"><a href=\"http://espn.go.com/nba/player/_/id/6606/damian-lillard\">Damian Lillard</a>, PG</td><td align=\"left\">POR</td><td>4</td><td>36.8</td><td class=\"sortcell\">25.5</td><td>9.3-20.8</td><td>.446</td><td>2.8-8.0</td><td>.344</td><td>4.3-5.0</td><td>.850</td></tr>, <tr align=\"right\" class=\"evenrow player-46-6580\"><td align=\"left\">6</td><td align=\"left\"><a href=\"http://espn.go.com/nba/player/_/id/6580/bradley-beal\">Bradley Beal</a>, SG</td><td align=\"left\">WSH</td><td>3</td><td>35.0</td><td class=\"sortcell\">25.3</td><td>9.0-19.3</td><td>.466</td><td>3.3-6.7</td><td>.500</td><td>4.0-5.3</td><td>.750</td></tr>, <tr align=\"right\" class=\"oddrow player-46-1975\"><td align=\"left\">7</td><td align=\"left\"><a href=\"http://espn.go.com/nba/player/_/id/1975/carmelo-anthony\">Carmelo Anthony</a>, SF</td><td align=\"left\">NY</td><td>4</td><td>33.0</td><td class=\"sortcell\">23.0</td><td>7.3-19.5</td><td>.372</td><td>1.5-5.0</td><td>.300</td><td>7.0-7.8</td><td>.903</td></tr>, <tr align=\"right\" class=\"evenrow player-46-3992\"><td align=\"left\">8</td><td align=\"left\"><a href=\"http://espn.go.com/nba/player/_/id/3992/james-harden\">James Harden</a>, SG</td><td align=\"left\">HOU</td><td>4</td><td>37.8</td><td class=\"sortcell\">22.8</td><td>6.0-20.0</td><td>.300</td><td>1.8-11.0</td><td>.159</td><td>9.0-10.5</td><td>.857</td></tr>, <tr align=\"right\" class=\"oddrow player-46-3032977\"><td align=\"left\">9</td><td align=\"left\"><a href=\"http://espn.go.com/nba/player/_/id/3032977/giannis-antetokounmpo\">Giannis Antetokounmpo</a>, SF</td><td align=\"left\">MIL</td><td>3</td><td>36.3</td><td class=\"sortcell\">22.7</td><td>8.3-14.3</td><td>.581</td><td>1.0-2.3</td><td>.429</td><td>5.0-6.0</td><td>.833</td></tr>, <tr align=\"right\" class=\"evenrow player-46-6472\"><td align=\"left\">10</td><td align=\"left\"><a href=\"http://espn.go.com/nba/player/_/id/6472/isaiah-thomas\">Isaiah Thomas</a>, PG</td><td align=\"left\">BOS</td><td>3</td><td>28.3</td><td class=\"sortcell\">22.3</td><td>7.0-17.7</td><td>.396</td><td>1.0-5.0</td><td>.200</td><td>7.3-8.0</td><td>.917</td></tr>, <tr align=\"right\" class=\"colhead\"><td align=\"left\" style=\"width:20px;\">RK</td><td align=\"left\">PLAYER</td><td align=\"left\">TEAM</td><td><a href=\"http://espn.go.com/nba/statistics/player/_/stat/scoring-per-game/sort/gamesPlayed/qualified/false\" title=\"Games Played\">GP</a></td><td><a href=\"http://espn.go.com/nba/statistics/player/_/stat/scoring-per-game/sort/avgMinutes/qualified/false\" title=\"Minutes Per Game\">MPG</a></td><td><a href=\"http://espn.go.com/nba/statistics/player/_/stat/scoring-per-game/sort/avgPoints/qualified/false/order/false\" title=\"Points Per Game\">PTS</a></td><td><span title=\"Field Goals Made-Attempted Per Game\">FGM-FGA</span></td><td><a href=\"http://espn.go.com/nba/statistics/player/_/stat/scoring-per-game/sort/fieldGoalPct/qualified/false\" title=\"Field Goal Percentage\">FG%</a></td><td><span title=\"3-Point Field Goals Made-Attempted Per Game\">3PM-3PA</span></td><td><a href=\"http://espn.go.com/nba/statistics/player/_/stat/scoring-per-game/sort/threePointFieldGoalPct/qualified/false\" title=\"3-Point Field Goal Percentage\">3P%</a></td><td><span title=\"Free Throws Made-Attempted Per Game\">FTM-FTA</span></td><td><a href=\"http://espn.go.com/nba/statistics/player/_/stat/scoring-per-game/sort/freeThrowPct/qualified/false\" title=\"Free Throws Percentage\">FT%</a></td></tr>, <tr align=\"right\" class=\"oddrow player-46-1966\"><td align=\"left\">11</td><td align=\"left\"><a href=\"http://espn.go.com/nba/player/_/id/1966/lebron-james\">LeBron James</a>, SF</td><td align=\"left\">CLE</td><td>4</td><td>33.5</td><td class=\"sortcell\">22.0</td><td>9.5-18.3</td><td>.521</td><td>0.3-3.3</td><td>.077</td><td>2.8-5.0</td><td>.550</td></tr>, <tr align=\"right\" class=\"evenrow player-46-4237\"><td align=\"left\"> </td><td align=\"left\"><a href=\"http://espn.go.com/nba/player/_/id/4237/john-wall\">John Wall</a>, PG</td><td align=\"left\">WSH</td><td>3</td><td>36.3</td><td class=\"sortcell\">22.0</td><td>7.0-15.0</td><td>.467</td><td>1.7-4.7</td><td>.357</td><td>6.3-9.0</td><td>.704</td></tr>, <tr align=\"right\" class=\"oddrow player-46-4258\"><td align=\"left\"> </td><td align=\"left\"><a href=\"http://espn.go.com/nba/player/_/id/4258/demarcus-cousins\">DeMarcus Cousins</a>, PF</td><td align=\"left\">SAC</td><td>3</td><td>26.0</td><td class=\"sortcell\">22.0</td><td>7.0-16.7</td><td>.420</td><td>1.3-3.3</td><td>.400</td><td>6.7-9.0</td><td>.741</td></tr>, <tr align=\"right\" class=\"evenrow player-46-1987\"><td align=\"left\">14</td><td align=\"left\"><a href=\"http://espn.go.com/nba/player/_/id/1987/dwyane-wade\">Dwyane Wade</a>, SG</td><td align=\"left\">MIA</td><td>4</td><td>29.8</td><td class=\"sortcell\">21.5</td><td>7.3-15.5</td><td>.468</td><td>1.0-2.0</td><td>.500</td><td>6.0-6.5</td><td>.923</td></tr>, <tr align=\"right\" class=\"oddrow player-46-2490149\"><td align=\"left\"> </td><td align=\"left\"><a href=\"http://espn.go.com/nba/player/_/id/2490149/c.j.-mccollum\">C.J. McCollum</a>, SG</td><td align=\"left\">POR</td><td>4</td><td>35.3</td><td class=\"sortcell\">21.5</td><td>8.5-19.3</td><td>.442</td><td>2.8-7.0</td><td>.393</td><td>1.8-1.8</td><td>1.000</td></tr>, <tr align=\"right\" class=\"evenrow player-46-4257\"><td align=\"left\">16</td><td align=\"left\"><a href=\"http://espn.go.com/nba/player/_/id/4257/derrick-favors\">Derrick Favors</a>, PF</td><td align=\"left\">UTAH</td><td>3</td><td>31.7</td><td class=\"sortcell\">21.3</td><td>8.3-16.0</td><td>.521</td><td>0.0-0.0</td><td>.000</td><td>4.7-6.3</td><td>.737</td></tr>, <tr align=\"right\" class=\"oddrow player-46-6450\"><td align=\"left\"> </td><td align=\"left\"><a href=\"http://espn.go.com/nba/player/_/id/6450/kawhi-leonard\">Kawhi Leonard</a>, SF</td><td align=\"left\">SA</td><td>4</td><td>32.8</td><td class=\"sortcell\">21.3</td><td>8.8-18.0</td><td>.486</td><td>0.8-3.0</td><td>.250</td><td>3.0-3.0</td><td>1.000</td></tr>, <tr align=\"right\" class=\"evenrow player-46-4238\"><td align=\"left\">18</td><td align=\"left\"><a href=\"http://espn.go.com/nba/player/_/id/4238/eric-bledsoe\">Eric Bledsoe</a>, PG</td><td align=\"left\">PHX</td><td>4</td><td>33.8</td><td class=\"sortcell\">21.0</td><td>7.0-16.5</td><td>.424</td><td>0.8-3.5</td><td>.214</td><td>6.3-7.8</td><td>.806</td></tr>, <tr align=\"right\" class=\"oddrow player-46-6430\"><td align=\"left\">19</td><td align=\"left\"><a href=\"http://espn.go.com/nba/player/_/id/6430/jimmy-butler\">Jimmy Butler</a>, SG</td><td align=\"left\">CHI</td><td>5</td><td>35.6</td><td class=\"sortcell\">20.8</td><td>6.8-14.0</td><td>.486</td><td>1.6-3.2</td><td>.500</td><td>5.6-7.0</td><td>.800</td></tr>, <tr align=\"right\" class=\"evenrow player-46-3978\"><td align=\"left\"> </td><td align=\"left\"><a href=\"http://espn.go.com/nba/player/_/id/3978/demar-derozan\">DeMar DeRozan</a>, SG</td><td align=\"left\">TOR</td><td>4</td><td>34.0</td><td class=\"sortcell\">20.8</td><td>6.3-14.5</td><td>.431</td><td>0.5-1.8</td><td>.286</td><td>7.8-10.0</td><td>.775</td></tr>, <tr align=\"right\" class=\"colhead\"><td align=\"left\" style=\"width:20px;\">RK</td><td align=\"left\">PLAYER</td><td align=\"left\">TEAM</td><td><a href=\"http://espn.go.com/nba/statistics/player/_/stat/scoring-per-game/sort/gamesPlayed/qualified/false\" title=\"Games Played\">GP</a></td><td><a href=\"http://espn.go.com/nba/statistics/player/_/stat/scoring-per-game/sort/avgMinutes/qualified/false\" title=\"Minutes Per Game\">MPG</a></td><td><a href=\"http://espn.go.com/nba/statistics/player/_/stat/scoring-per-game/sort/avgPoints/qualified/false/order/false\" title=\"Points Per Game\">PTS</a></td><td><span title=\"Field Goals Made-Attempted Per Game\">FGM-FGA</span></td><td><a href=\"http://espn.go.com/nba/statistics/player/_/stat/scoring-per-game/sort/fieldGoalPct/qualified/false\" title=\"Field Goal Percentage\">FG%</a></td><td><span title=\"3-Point Field Goals Made-Attempted Per Game\">3PM-3PA</span></td><td><a href=\"http://espn.go.com/nba/statistics/player/_/stat/scoring-per-game/sort/threePointFieldGoalPct/qualified/false\" title=\"3-Point Field Goal Percentage\">3P%</a></td><td><span title=\"Free Throws Made-Attempted Per Game\">FTM-FTA</span></td><td><a href=\"http://espn.go.com/nba/statistics/player/_/stat/scoring-per-game/sort/freeThrowPct/qualified/false\" title=\"Free Throws Percentage\">FT%</a></td></tr>, <tr align=\"right\" class=\"oddrow player-46-6583\"><td align=\"left\"> </td><td align=\"left\"><a href=\"http://espn.go.com/nba/player/_/id/6583/anthony-davis\">Anthony Davis</a>, PF</td><td align=\"left\">NO</td><td>4</td><td>37.3</td><td class=\"sortcell\">20.8</td><td>6.3-16.5</td><td>.379</td><td>1.0-2.8</td><td>.364</td><td>7.3-10.0</td><td>.725</td></tr>, <tr align=\"right\" class=\"evenrow player-46-2394\"><td align=\"left\">22</td><td align=\"left\"><a href=\"http://espn.go.com/nba/player/_/id/2394/kevin-martin\">Kevin Martin</a>, SG</td><td align=\"left\">MIN</td><td>3</td><td>28.3</td><td class=\"sortcell\">20.3</td><td>5.7-12.0</td><td>.472</td><td>1.0-3.7</td><td>.273</td><td>8.0-9.7</td><td>.828</td></tr>, <tr align=\"right\" class=\"oddrow player-46-4260\"><td align=\"left\"> </td><td align=\"left\"><a href=\"http://espn.go.com/nba/player/_/id/4260/greg-monroe\">Greg Monroe</a>, C</td><td align=\"left\">MIL</td><td>4</td><td>34.3</td><td class=\"sortcell\">20.3</td><td>8.0-13.0</td><td>.615</td><td>0.0-0.0</td><td>.000</td><td>4.3-5.3</td><td>.810</td></tr>, <tr align=\"right\" class=\"evenrow player-46-6585\"><td align=\"left\"> </td><td align=\"left\"><a href=\"http://espn.go.com/nba/player/_/id/6585/andre-drummond\">Andre Drummond</a>, C</td><td align=\"left\">DET</td><td>4</td><td>39.0</td><td class=\"sortcell\">20.3</td><td>7.8-15.8</td><td>.492</td><td>0.0-0.0</td><td>.000</td><td>4.8-8.3</td><td>.576</td></tr>, <tr align=\"right\" class=\"oddrow player-46-3135048\"><td align=\"left\">25</td><td align=\"left\"><a href=\"http://espn.go.com/nba/player/_/id/3135048/jahlil-okafor\">Jahlil Okafor</a>, C</td><td align=\"left\">PHI</td><td>3</td><td>33.7</td><td class=\"sortcell\">20.0</td><td>8.3-16.3</td><td>.510</td><td>0.0-0.0</td><td>.000</td><td>3.3-4.3</td><td>.769</td></tr>, <tr align=\"right\" class=\"evenrow player-46-4015\"><td align=\"left\">26</td><td align=\"left\"><a href=\"http://espn.go.com/nba/player/_/id/4015/jeff-teague\">Jeff Teague</a>, PG</td><td align=\"left\">ATL</td><td>5</td><td>32.4</td><td class=\"sortcell\">19.8</td><td>7.0-15.2</td><td>.461</td><td>1.0-3.0</td><td>.333</td><td>4.8-5.4</td><td>.889</td></tr>, <tr align=\"right\" class=\"oddrow player-46-3012\"><td align=\"left\"> </td><td align=\"left\"><a href=\"http://espn.go.com/nba/player/_/id/3012/kyle-lowry\">Kyle Lowry</a>, PG</td><td align=\"left\">TOR</td><td>4</td><td>34.8</td><td class=\"sortcell\">19.8</td><td>6.3-13.3</td><td>.472</td><td>1.8-3.8</td><td>.467</td><td>5.5-6.3</td><td>.880</td></tr>, <tr align=\"right\" class=\"evenrow player-46-6443\"><td align=\"left\">28</td><td align=\"left\"><a href=\"http://espn.go.com/nba/player/_/id/6443/reggie-jackson\">Reggie Jackson</a>, PG</td><td align=\"left\">DET</td><td>4</td><td>33.8</td><td class=\"sortcell\">19.0</td><td>7.0-17.0</td><td>.412</td><td>1.5-3.8</td><td>.400</td><td>3.5-4.5</td><td>.778</td></tr>, <tr align=\"right\" class=\"oddrow player-46-3005\"><td align=\"left\">29</td><td align=\"left\"><a href=\"http://espn.go.com/nba/player/_/id/3005/rudy-gay\">Rudy Gay</a>, SF</td><td align=\"left\">SAC</td><td>4</td><td>31.5</td><td class=\"sortcell\">18.5</td><td>7.5-17.0</td><td>.441</td><td>1.5-3.8</td><td>.400</td><td>2.0-2.5</td><td>.800</td></tr>, <tr align=\"right\" class=\"evenrow player-46-3449\"><td align=\"left\"> </td><td align=\"left\"><a href=\"http://espn.go.com/nba/player/_/id/3449/kevin-love\">Kevin Love</a>, PF</td><td align=\"left\">CLE</td><td>4</td><td>31.3</td><td class=\"sortcell\">18.5</td><td>6.5-15.0</td><td>.433</td><td>2.0-6.3</td><td>.320</td><td>3.5-3.5</td><td>1.000</td></tr>, <tr align=\"right\" class=\"colhead\"><td align=\"left\" style=\"width:20px;\">RK</td><td align=\"left\">PLAYER</td><td align=\"left\">TEAM</td><td><a href=\"http://espn.go.com/nba/statistics/player/_/stat/scoring-per-game/sort/gamesPlayed/qualified/false\" title=\"Games Played\">GP</a></td><td><a href=\"http://espn.go.com/nba/statistics/player/_/stat/scoring-per-game/sort/avgMinutes/qualified/false\" title=\"Minutes Per Game\">MPG</a></td><td><a href=\"http://espn.go.com/nba/statistics/player/_/stat/scoring-per-game/sort/avgPoints/qualified/false/order/false\" title=\"Points Per Game\">PTS</a></td><td><span title=\"Field Goals Made-Attempted Per Game\">FGM-FGA</span></td><td><a href=\"http://espn.go.com/nba/statistics/player/_/stat/scoring-per-game/sort/fieldGoalPct/qualified/false\" title=\"Field Goal Percentage\">FG%</a></td><td><span title=\"3-Point Field Goals Made-Attempted Per Game\">3PM-3PA</span></td><td><a href=\"http://espn.go.com/nba/statistics/player/_/stat/scoring-per-game/sort/threePointFieldGoalPct/qualified/false\" title=\"3-Point Field Goal Percentage\">3P%</a></td><td><span title=\"Free Throws Made-Attempted Per Game\">FTM-FTA</span></td><td><a href=\"http://espn.go.com/nba/statistics/player/_/stat/scoring-per-game/sort/freeThrowPct/qualified/false\" title=\"Free Throws Percentage\">FT%</a></td></tr>, <tr align=\"right\" class=\"oddrow player-46-6588\"><td align=\"left\"> </td><td align=\"left\"><a href=\"http://espn.go.com/nba/player/_/id/6588/evan-fournier\">Evan Fournier</a>, SF</td><td align=\"left\">ORL</td><td>4</td><td>37.5</td><td class=\"sortcell\">18.5</td><td>7.3-15.8</td><td>.460</td><td>2.0-6.0</td><td>.333</td><td>2.0-3.0</td><td>.667</td></tr>, <tr align=\"right\" class=\"evenrow player-46-3448\"><td align=\"left\">32</td><td align=\"left\"><a href=\"http://espn.go.com/nba/player/_/id/3448/brook-lopez\">Brook Lopez</a>, C</td><td align=\"left\">BKN</td><td>4</td><td>32.0</td><td class=\"sortcell\">18.3</td><td>6.5-12.3</td><td>.531</td><td>0.0-0.3</td><td>.000</td><td>5.3-6.5</td><td>.808</td></tr>, <tr align=\"right\" class=\"oddrow player-46-6478\"><td align=\"left\"> </td><td align=\"left\"><a href=\"http://espn.go.com/nba/player/_/id/6478/nikola-vucevic\">Nikola Vucevic</a>, C</td><td align=\"left\">ORL</td><td>4</td><td>35.5</td><td class=\"sortcell\">18.3</td><td>7.8-15.0</td><td>.517</td><td>0.0-0.0</td><td>.000</td><td>2.8-3.3</td><td>.846</td></tr>, <tr align=\"right\" class=\"evenrow player-46-2528426\"><td align=\"left\"> </td><td align=\"left\"><a href=\"http://espn.go.com/nba/player/_/id/2528426/jordan-clarkson\">Jordan Clarkson</a>, PG</td><td align=\"left\">LAL</td><td>4</td><td>31.3</td><td class=\"sortcell\">18.3</td><td>7.3-13.0</td><td>.558</td><td>1.8-3.8</td><td>.467</td><td>2.0-2.8</td><td>.727</td></tr>, <tr align=\"right\" class=\"oddrow player-46-6448\"><td align=\"left\">35</td><td align=\"left\"><a href=\"http://espn.go.com/nba/player/_/id/6448/brandon-knight\">Brandon Knight</a>, PG</td><td align=\"left\">PHX</td><td>4</td><td>35.8</td><td class=\"sortcell\">18.0</td><td>6.8-16.5</td><td>.409</td><td>2.0-6.5</td><td>.308</td><td>2.5-2.8</td><td>.909</td></tr>, <tr align=\"right\" class=\"evenrow player-46-3136195\"><td align=\"left\">36</td><td align=\"left\"><a href=\"http://espn.go.com/nba/player/_/id/3136195/karl-anthony-towns\">Karl-Anthony Towns</a>, C</td><td align=\"left\">MIN</td><td>3</td><td>30.7</td><td class=\"sortcell\">17.7</td><td>7.3-12.7</td><td>.579</td><td>0.3-0.7</td><td>.500</td><td>2.7-3.0</td><td>.889</td></tr>, <tr align=\"right\" class=\"oddrow player-46-609\"><td align=\"left\">37</td><td align=\"left\"><a href=\"http://espn.go.com/nba/player/_/id/609/dirk-nowitzki\">Dirk Nowitzki</a>, PF</td><td align=\"left\">DAL</td><td>4</td><td>27.8</td><td class=\"sortcell\">17.5</td><td>6.8-12.0</td><td>.563</td><td>2.0-3.3</td><td>.615</td><td>2.0-2.0</td><td>1.000</td></tr>, <tr align=\"right\" class=\"evenrow player-46-3213\"><td align=\"left\">38</td><td align=\"left\"><a href=\"http://espn.go.com/nba/player/_/id/3213/al-horford\">Al Horford</a>, PF</td><td align=\"left\">ATL</td><td>5</td><td>32.8</td><td class=\"sortcell\">17.4</td><td>7.6-15.0</td><td>.507</td><td>1.0-3.6</td><td>.278</td><td>1.2-1.6</td><td>.750</td></tr>, <tr align=\"right\" class=\"oddrow player-46-4011\"><td align=\"left\">39</td><td align=\"left\"><a href=\"http://espn.go.com/nba/player/_/id/4011/ricky-rubio\">Ricky Rubio</a>, PG</td><td align=\"left\">MIN</td><td>3</td><td>31.7</td><td class=\"sortcell\">17.3</td><td>5.3-11.7</td><td>.457</td><td>0.7-2.7</td><td>.250</td><td>6.0-6.7</td><td>.900</td></tr>, <tr align=\"right\" class=\"evenrow player-46-3428\"><td align=\"left\"> </td><td align=\"left\"><a href=\"http://espn.go.com/nba/player/_/id/3428/danilo-gallinari\">Danilo Gallinari</a>, SF</td><td align=\"left\">DEN</td><td>4</td><td>32.8</td><td class=\"sortcell\">17.3</td><td>5.0-13.3</td><td>.377</td><td>1.3-3.3</td><td>.385</td><td>6.0-6.5</td><td>.923</td></tr>]\n"
     ]
    }
   ],
   "source": [
    "table_rows = table.findAll('tr')\n",
    "print table_rows"
   ]
  },
  {
   "cell_type": "markdown",
   "metadata": {},
   "source": [
    "We will save our results in 2 different ways to demonstrate how we can handle both.  The first will be a list of dicts where the key is the field name and the value is the field value.  The second will just be a list of lists of stats with no field name values (we've already defined them earlier)."
   ]
  },
  {
   "cell_type": "code",
   "execution_count": 14,
   "metadata": {
    "collapsed": false
   },
   "outputs": [
    {
     "name": "stdout",
     "output_type": "stream",
     "text": [
      "[{u'FGM-FGA': u'12.5-21.0', u'MPG': u'31.8', u'FTM-FTA': u'6.8-7.0', u'FG%': u'.595', u'GP': u'4', u'PLAYER': u'Stephen Curry', u'FT%': u'.964', u'TEAM': u'GS', u'3PM-3PA': u'5.3-10.8', 'POSITION': u'PG', u'PTS': u'37.0', u'3P%': u'.488'}, {u'FGM-FGA': u'11.5-22.0', u'MPG': u'35.5', u'FTM-FTA': u'5.3-6.3', u'FG%': u'.523', u'GP': u'4', u'PLAYER': u'Russell Westbrook', u'FT%': u'.840', u'TEAM': u'OKC', u'3PM-3PA': u'2.0-5.3', 'POSITION': u'PG', u'PTS': u'30.3', u'3P%': u'.381'}, {u'FGM-FGA': u'9.5-19.8', u'MPG': u'37.8', u'FTM-FTA': u'7.8-8.5', u'FG%': u'.481', u'GP': u'4', u'PLAYER': u'Kevin Durant', u'FT%': u'.912', u'TEAM': u'OKC', u'3PM-3PA': u'3.0-7.3', 'POSITION': u'SF', u'PTS': u'29.8', u'3P%': u'.414'}, {u'FGM-FGA': u'11.5-18.5', u'MPG': u'33.8', u'FTM-FTA': u'6.5-8.8', u'FG%': u'.622', u'GP': u'4', u'PLAYER': u'Blake Griffin', u'FT%': u'.743', u'TEAM': u'LAC', u'3PM-3PA': u'0.0-0.0', 'POSITION': u'PF', u'PTS': u'29.5', u'3P%': u'.000'}, {u'FGM-FGA': u'9.3-20.8', u'MPG': u'36.8', u'FTM-FTA': u'4.3-5.0', u'FG%': u'.446', u'GP': u'4', u'PLAYER': u'Damian Lillard', u'FT%': u'.850', u'TEAM': u'POR', u'3PM-3PA': u'2.8-8.0', 'POSITION': u'PG', u'PTS': u'25.5', u'3P%': u'.344'}]\n"
     ]
    }
   ],
   "source": [
    "players_stats_dicts = []\n",
    "players_stats_array = []\n",
    "for row in table_rows:\n",
    "    if row.attrs['class'][0]=='colhead':\n",
    "        continue\n",
    "    player_stats = []\n",
    "    row_cols = row.find_all('td')\n",
    "    col_vals = []\n",
    "    player_col = row_cols[1]\n",
    "    player_name = player_col.find('a').string\n",
    "    player_position = player_col.contents[1]\n",
    "    player_position = player_position.split(' ')[1]\n",
    "    player_stats.append(player_name)\n",
    "    player_stats.append(player_position)\n",
    "    for i in range(2, len(row_cols)):\n",
    "        stat = row_cols[i].string\n",
    "        player_stats.append(stat)\n",
    "    players_stats_array.append(player_stats)\n",
    "    player_stats = dict(zip(cols, player_stats))\n",
    "    players_stats_dicts.append(player_stats)\n",
    "print players_stats_dicts[0:5]        "
   ]
  },
  {
   "cell_type": "markdown",
   "metadata": {},
   "source": [
    "Here we've used the zip function to combine pairs of lists into tuples, and then transformed that into a dict to get a dictionary of FIELD --> VALUE for every player in the table.\n",
    "\n",
    "Beautiful Soup has many other features, including the ability to step up, down, and sideways in the HTML tree and basically search for any tags, attributes, or values.  For more, take a look at the [Documentation](http://www.crummy.com/software/BeautifulSoup/bs4/doc/)"
   ]
  },
  {
   "cell_type": "markdown",
   "metadata": {},
   "source": [
    "## Load into Pandas\n",
    "\n",
    "Let's load our scraped data into Pandas and take a look at it.  Here is the first way we can do it, simply directly from the dictionary we defined."
   ]
  },
  {
   "cell_type": "code",
   "execution_count": 15,
   "metadata": {
    "collapsed": false
   },
   "outputs": [
    {
     "data": {
      "text/html": [
       "<div>\n",
       "<table border=\"1\" class=\"dataframe\">\n",
       "  <thead>\n",
       "    <tr style=\"text-align: right;\">\n",
       "      <th></th>\n",
       "      <th>3P%</th>\n",
       "      <th>3PM-3PA</th>\n",
       "      <th>FG%</th>\n",
       "      <th>FGM-FGA</th>\n",
       "      <th>FT%</th>\n",
       "      <th>FTM-FTA</th>\n",
       "      <th>GP</th>\n",
       "      <th>MPG</th>\n",
       "      <th>PLAYER</th>\n",
       "      <th>POSITION</th>\n",
       "      <th>PTS</th>\n",
       "      <th>TEAM</th>\n",
       "    </tr>\n",
       "  </thead>\n",
       "  <tbody>\n",
       "    <tr>\n",
       "      <th>0</th>\n",
       "      <td>.488</td>\n",
       "      <td>5.3-10.8</td>\n",
       "      <td>.595</td>\n",
       "      <td>12.5-21.0</td>\n",
       "      <td>.964</td>\n",
       "      <td>6.8-7.0</td>\n",
       "      <td>4</td>\n",
       "      <td>31.8</td>\n",
       "      <td>Stephen Curry</td>\n",
       "      <td>PG</td>\n",
       "      <td>37.0</td>\n",
       "      <td>GS</td>\n",
       "    </tr>\n",
       "    <tr>\n",
       "      <th>1</th>\n",
       "      <td>.381</td>\n",
       "      <td>2.0-5.3</td>\n",
       "      <td>.523</td>\n",
       "      <td>11.5-22.0</td>\n",
       "      <td>.840</td>\n",
       "      <td>5.3-6.3</td>\n",
       "      <td>4</td>\n",
       "      <td>35.5</td>\n",
       "      <td>Russell Westbrook</td>\n",
       "      <td>PG</td>\n",
       "      <td>30.3</td>\n",
       "      <td>OKC</td>\n",
       "    </tr>\n",
       "    <tr>\n",
       "      <th>2</th>\n",
       "      <td>.414</td>\n",
       "      <td>3.0-7.3</td>\n",
       "      <td>.481</td>\n",
       "      <td>9.5-19.8</td>\n",
       "      <td>.912</td>\n",
       "      <td>7.8-8.5</td>\n",
       "      <td>4</td>\n",
       "      <td>37.8</td>\n",
       "      <td>Kevin Durant</td>\n",
       "      <td>SF</td>\n",
       "      <td>29.8</td>\n",
       "      <td>OKC</td>\n",
       "    </tr>\n",
       "    <tr>\n",
       "      <th>3</th>\n",
       "      <td>.000</td>\n",
       "      <td>0.0-0.0</td>\n",
       "      <td>.622</td>\n",
       "      <td>11.5-18.5</td>\n",
       "      <td>.743</td>\n",
       "      <td>6.5-8.8</td>\n",
       "      <td>4</td>\n",
       "      <td>33.8</td>\n",
       "      <td>Blake Griffin</td>\n",
       "      <td>PF</td>\n",
       "      <td>29.5</td>\n",
       "      <td>LAC</td>\n",
       "    </tr>\n",
       "    <tr>\n",
       "      <th>4</th>\n",
       "      <td>.344</td>\n",
       "      <td>2.8-8.0</td>\n",
       "      <td>.446</td>\n",
       "      <td>9.3-20.8</td>\n",
       "      <td>.850</td>\n",
       "      <td>4.3-5.0</td>\n",
       "      <td>4</td>\n",
       "      <td>36.8</td>\n",
       "      <td>Damian Lillard</td>\n",
       "      <td>PG</td>\n",
       "      <td>25.5</td>\n",
       "      <td>POR</td>\n",
       "    </tr>\n",
       "  </tbody>\n",
       "</table>\n",
       "</div>"
      ],
      "text/plain": [
       "    3P%   3PM-3PA   FG%    FGM-FGA   FT%  FTM-FTA GP   MPG             PLAYER  \\\n",
       "0  .488  5.3-10.8  .595  12.5-21.0  .964  6.8-7.0  4  31.8      Stephen Curry   \n",
       "1  .381   2.0-5.3  .523  11.5-22.0  .840  5.3-6.3  4  35.5  Russell Westbrook   \n",
       "2  .414   3.0-7.3  .481   9.5-19.8  .912  7.8-8.5  4  37.8       Kevin Durant   \n",
       "3  .000   0.0-0.0  .622  11.5-18.5  .743  6.5-8.8  4  33.8      Blake Griffin   \n",
       "4  .344   2.8-8.0  .446   9.3-20.8  .850  4.3-5.0  4  36.8     Damian Lillard   \n",
       "\n",
       "  POSITION   PTS TEAM  \n",
       "0       PG  37.0   GS  \n",
       "1       PG  30.3  OKC  \n",
       "2       SF  29.8  OKC  \n",
       "3       PF  29.5  LAC  \n",
       "4       PG  25.5  POR  "
      ]
     },
     "execution_count": 15,
     "metadata": {},
     "output_type": "execute_result"
    }
   ],
   "source": [
    "import pandas as pd\n",
    "import numpy as np\n",
    "\n",
    "df = pd.DataFrame.from_dict(players_stats_dicts)\n",
    "df.head()"
   ]
  },
  {
   "cell_type": "markdown",
   "metadata": {},
   "source": [
    "Now here is a 2nd way we can do it.  We convert the 2D stats array into a numpy array and create a Pandas dataframe from it along with the list of column headers we defined earlier."
   ]
  },
  {
   "cell_type": "code",
   "execution_count": 16,
   "metadata": {
    "collapsed": false
   },
   "outputs": [
    {
     "data": {
      "text/html": [
       "<div>\n",
       "<table border=\"1\" class=\"dataframe\">\n",
       "  <thead>\n",
       "    <tr style=\"text-align: right;\">\n",
       "      <th></th>\n",
       "      <th>PLAYER</th>\n",
       "      <th>POSITION</th>\n",
       "      <th>TEAM</th>\n",
       "      <th>GP</th>\n",
       "      <th>MPG</th>\n",
       "      <th>PTS</th>\n",
       "      <th>FGM-FGA</th>\n",
       "      <th>FG%</th>\n",
       "      <th>3PM-3PA</th>\n",
       "      <th>3P%</th>\n",
       "      <th>FTM-FTA</th>\n",
       "      <th>FT%</th>\n",
       "    </tr>\n",
       "  </thead>\n",
       "  <tbody>\n",
       "    <tr>\n",
       "      <th>0</th>\n",
       "      <td>Stephen Curry</td>\n",
       "      <td>PG</td>\n",
       "      <td>GS</td>\n",
       "      <td>4</td>\n",
       "      <td>31.8</td>\n",
       "      <td>37.0</td>\n",
       "      <td>12.5-21.0</td>\n",
       "      <td>.595</td>\n",
       "      <td>5.3-10.8</td>\n",
       "      <td>.488</td>\n",
       "      <td>6.8-7.0</td>\n",
       "      <td>.964</td>\n",
       "    </tr>\n",
       "    <tr>\n",
       "      <th>1</th>\n",
       "      <td>Russell Westbrook</td>\n",
       "      <td>PG</td>\n",
       "      <td>OKC</td>\n",
       "      <td>4</td>\n",
       "      <td>35.5</td>\n",
       "      <td>30.3</td>\n",
       "      <td>11.5-22.0</td>\n",
       "      <td>.523</td>\n",
       "      <td>2.0-5.3</td>\n",
       "      <td>.381</td>\n",
       "      <td>5.3-6.3</td>\n",
       "      <td>.840</td>\n",
       "    </tr>\n",
       "    <tr>\n",
       "      <th>2</th>\n",
       "      <td>Kevin Durant</td>\n",
       "      <td>SF</td>\n",
       "      <td>OKC</td>\n",
       "      <td>4</td>\n",
       "      <td>37.8</td>\n",
       "      <td>29.8</td>\n",
       "      <td>9.5-19.8</td>\n",
       "      <td>.481</td>\n",
       "      <td>3.0-7.3</td>\n",
       "      <td>.414</td>\n",
       "      <td>7.8-8.5</td>\n",
       "      <td>.912</td>\n",
       "    </tr>\n",
       "    <tr>\n",
       "      <th>3</th>\n",
       "      <td>Blake Griffin</td>\n",
       "      <td>PF</td>\n",
       "      <td>LAC</td>\n",
       "      <td>4</td>\n",
       "      <td>33.8</td>\n",
       "      <td>29.5</td>\n",
       "      <td>11.5-18.5</td>\n",
       "      <td>.622</td>\n",
       "      <td>0.0-0.0</td>\n",
       "      <td>.000</td>\n",
       "      <td>6.5-8.8</td>\n",
       "      <td>.743</td>\n",
       "    </tr>\n",
       "    <tr>\n",
       "      <th>4</th>\n",
       "      <td>Damian Lillard</td>\n",
       "      <td>PG</td>\n",
       "      <td>POR</td>\n",
       "      <td>4</td>\n",
       "      <td>36.8</td>\n",
       "      <td>25.5</td>\n",
       "      <td>9.3-20.8</td>\n",
       "      <td>.446</td>\n",
       "      <td>2.8-8.0</td>\n",
       "      <td>.344</td>\n",
       "      <td>4.3-5.0</td>\n",
       "      <td>.850</td>\n",
       "    </tr>\n",
       "  </tbody>\n",
       "</table>\n",
       "</div>"
      ],
      "text/plain": [
       "              PLAYER POSITION TEAM GP   MPG   PTS    FGM-FGA   FG%   3PM-3PA  \\\n",
       "0      Stephen Curry       PG   GS  4  31.8  37.0  12.5-21.0  .595  5.3-10.8   \n",
       "1  Russell Westbrook       PG  OKC  4  35.5  30.3  11.5-22.0  .523   2.0-5.3   \n",
       "2       Kevin Durant       SF  OKC  4  37.8  29.8   9.5-19.8  .481   3.0-7.3   \n",
       "3      Blake Griffin       PF  LAC  4  33.8  29.5  11.5-18.5  .622   0.0-0.0   \n",
       "4     Damian Lillard       PG  POR  4  36.8  25.5   9.3-20.8  .446   2.8-8.0   \n",
       "\n",
       "    3P%  FTM-FTA   FT%  \n",
       "0  .488  6.8-7.0  .964  \n",
       "1  .381  5.3-6.3  .840  \n",
       "2  .414  7.8-8.5  .912  \n",
       "3  .000  6.5-8.8  .743  \n",
       "4  .344  4.3-5.0  .850  "
      ]
     },
     "execution_count": 16,
     "metadata": {},
     "output_type": "execute_result"
    }
   ],
   "source": [
    "np_array = np.array(players_stats_array)\n",
    "df = pd.DataFrame(np_array, columns=cols)\n",
    "df.head()"
   ]
  },
  {
   "cell_type": "markdown",
   "metadata": {},
   "source": [
    "## Exercise\n",
    "\n",
    "The goal of this exercise is to combine the scoring and assists statistics for every player in the NBA in 2014-2015.  The end result will have them in a pandas dataframe with the fields from both pages for every player.\n",
    "\n",
    "The general steps should be as follows:\n",
    "- Create a function get_cols that retrieves the names of the header columns given a table element (skip the ranks, split the positions)\n",
    "- Create a function get_data that retrieves the actual table data given a table element (skip the ranks, split the positions).  You can use either the dict approach or the numpy array approach.\n",
    "- Write a python loop to loop through the various pages and call these functions on the appropriate urls so that you can retrieve every player (rather than just the top few).\n",
    "- Repeat the above on both the scoring and assists URLs to get a pandas dataframe for both of them\n",
    "- Use the pandas.DataFrame.join() function to join your 2 pandas dataframes together and get a total result"
   ]
  },
  {
   "cell_type": "code",
   "execution_count": 1,
   "metadata": {
    "collapsed": false
   },
   "outputs": [
    {
     "name": "stderr",
     "output_type": "stream",
     "text": [
      "/home/miejuib/anaconda3/envs/py27/lib/python2.7/site-packages/bs4/__init__.py:166: UserWarning: No parser was explicitly specified, so I'm using the best available HTML parser for this system (\"html.parser\"). This usually isn't a problem, but if you run this code on another system, or in a different virtual environment, it may use a different parser and behave differently.\n",
      "\n",
      "To get rid of this warning, change this:\n",
      "\n",
      " BeautifulSoup([your markup])\n",
      "\n",
      "to this:\n",
      "\n",
      " BeautifulSoup([your markup], \"html.parser\")\n",
      "\n",
      "  markup_type=markup_type))\n"
     ]
    },
    {
     "data": {
      "text/html": [
       "<div>\n",
       "<table border=\"1\" class=\"dataframe\">\n",
       "  <thead>\n",
       "    <tr style=\"text-align: right;\">\n",
       "      <th></th>\n",
       "      <th>PLAYER</th>\n",
       "      <th>POSITION</th>\n",
       "      <th>TEAM</th>\n",
       "      <th>GP</th>\n",
       "      <th>MPG</th>\n",
       "      <th>PTS</th>\n",
       "      <th>FGM-FGA</th>\n",
       "      <th>FG%</th>\n",
       "      <th>3PM-3PA</th>\n",
       "      <th>3P%</th>\n",
       "      <th>FTM-FTA</th>\n",
       "      <th>FT%</th>\n",
       "      <th>AST</th>\n",
       "      <th>APG</th>\n",
       "      <th>TO</th>\n",
       "      <th>TOPG</th>\n",
       "      <th>AP48M</th>\n",
       "      <th>AST/TO</th>\n",
       "    </tr>\n",
       "  </thead>\n",
       "  <tbody>\n",
       "    <tr>\n",
       "      <th>0</th>\n",
       "      <td>Russell Westbrook</td>\n",
       "      <td>PG</td>\n",
       "      <td>OKC</td>\n",
       "      <td>67</td>\n",
       "      <td>34.4</td>\n",
       "      <td>28.1</td>\n",
       "      <td>9.4-22.0</td>\n",
       "      <td>.426</td>\n",
       "      <td>1.3-4.3</td>\n",
       "      <td>.299</td>\n",
       "      <td>8.1-9.8</td>\n",
       "      <td>.835</td>\n",
       "      <td>574</td>\n",
       "      <td>8.6</td>\n",
       "      <td>293</td>\n",
       "      <td>4.4</td>\n",
       "      <td>12.0</td>\n",
       "      <td>1.96</td>\n",
       "    </tr>\n",
       "    <tr>\n",
       "      <th>1</th>\n",
       "      <td>James Harden</td>\n",
       "      <td>SG</td>\n",
       "      <td>HOU</td>\n",
       "      <td>81</td>\n",
       "      <td>36.8</td>\n",
       "      <td>27.4</td>\n",
       "      <td>8.0-18.1</td>\n",
       "      <td>.440</td>\n",
       "      <td>2.6-6.9</td>\n",
       "      <td>.375</td>\n",
       "      <td>8.8-10.2</td>\n",
       "      <td>.868</td>\n",
       "      <td>565</td>\n",
       "      <td>7.0</td>\n",
       "      <td>321</td>\n",
       "      <td>4.0</td>\n",
       "      <td>9.1</td>\n",
       "      <td>1.76</td>\n",
       "    </tr>\n",
       "    <tr>\n",
       "      <th>2</th>\n",
       "      <td>Kevin Durant</td>\n",
       "      <td>SF</td>\n",
       "      <td>OKC</td>\n",
       "      <td>27</td>\n",
       "      <td>33.8</td>\n",
       "      <td>25.4</td>\n",
       "      <td>8.8-17.3</td>\n",
       "      <td>.510</td>\n",
       "      <td>2.4-5.9</td>\n",
       "      <td>.403</td>\n",
       "      <td>5.4-6.3</td>\n",
       "      <td>.854</td>\n",
       "      <td>110</td>\n",
       "      <td>4.1</td>\n",
       "      <td>74</td>\n",
       "      <td>2.7</td>\n",
       "      <td>5.8</td>\n",
       "      <td>1.49</td>\n",
       "    </tr>\n",
       "    <tr>\n",
       "      <th>3</th>\n",
       "      <td>LeBron James</td>\n",
       "      <td>SF</td>\n",
       "      <td>CLE</td>\n",
       "      <td>69</td>\n",
       "      <td>36.1</td>\n",
       "      <td>25.3</td>\n",
       "      <td>9.0-18.5</td>\n",
       "      <td>.488</td>\n",
       "      <td>1.7-4.9</td>\n",
       "      <td>.354</td>\n",
       "      <td>5.4-7.7</td>\n",
       "      <td>.710</td>\n",
       "      <td>511</td>\n",
       "      <td>7.4</td>\n",
       "      <td>272</td>\n",
       "      <td>3.9</td>\n",
       "      <td>9.8</td>\n",
       "      <td>1.88</td>\n",
       "    </tr>\n",
       "    <tr>\n",
       "      <th>4</th>\n",
       "      <td>Anthony Davis</td>\n",
       "      <td>PF</td>\n",
       "      <td>NO</td>\n",
       "      <td>68</td>\n",
       "      <td>36.1</td>\n",
       "      <td>24.4</td>\n",
       "      <td>9.4-17.6</td>\n",
       "      <td>.535</td>\n",
       "      <td>0.0-0.2</td>\n",
       "      <td>.083</td>\n",
       "      <td>5.5-6.8</td>\n",
       "      <td>.805</td>\n",
       "      <td>149</td>\n",
       "      <td>2.2</td>\n",
       "      <td>95</td>\n",
       "      <td>1.4</td>\n",
       "      <td>2.9</td>\n",
       "      <td>1.57</td>\n",
       "    </tr>\n",
       "  </tbody>\n",
       "</table>\n",
       "</div>"
      ],
      "text/plain": [
       "              PLAYER POSITION TEAM  GP   MPG   PTS   FGM-FGA   FG%  3PM-3PA  \\\n",
       "0  Russell Westbrook       PG  OKC  67  34.4  28.1  9.4-22.0  .426  1.3-4.3   \n",
       "1       James Harden       SG  HOU  81  36.8  27.4  8.0-18.1  .440  2.6-6.9   \n",
       "2       Kevin Durant       SF  OKC  27  33.8  25.4  8.8-17.3  .510  2.4-5.9   \n",
       "3       LeBron James       SF  CLE  69  36.1  25.3  9.0-18.5  .488  1.7-4.9   \n",
       "4      Anthony Davis       PF   NO  68  36.1  24.4  9.4-17.6  .535  0.0-0.2   \n",
       "\n",
       "    3P%   FTM-FTA   FT%  AST  APG   TO TOPG AP48M AST/TO  \n",
       "0  .299   8.1-9.8  .835  574  8.6  293  4.4  12.0   1.96  \n",
       "1  .375  8.8-10.2  .868  565  7.0  321  4.0   9.1   1.76  \n",
       "2  .403   5.4-6.3  .854  110  4.1   74  2.7   5.8   1.49  \n",
       "3  .354   5.4-7.7  .710  511  7.4  272  3.9   9.8   1.88  \n",
       "4  .083   5.5-6.8  .805  149  2.2   95  1.4   2.9   1.57  "
      ]
     },
     "execution_count": 1,
     "metadata": {},
     "output_type": "execute_result"
    }
   ],
   "source": [
    "from bs4 import BeautifulSoup\n",
    "import pandas as pd\n",
    "import numpy as np\n",
    "import urllib2\n",
    "\n",
    "def GetColumns(header_cols):\n",
    "    cols = []\n",
    "    for header_col in header_cols:\n",
    "        val = header_col.string\n",
    "        if val != 'RK':\n",
    "            cols.append(val)\n",
    "        if val == 'PLAYER':\n",
    "            cols.append('POSITION')\n",
    "    return cols\n",
    "\n",
    "def FillInTable(url):\n",
    "    players_stats_array = []\n",
    "    cols = 0\n",
    "    for pagenumber in range(0,13):\n",
    "        page = urllib2.urlopen(url+str(pagenumber*40+1))\n",
    "        soup = BeautifulSoup(page)\n",
    "        table_div = soup.find(id='my-players-table')\n",
    "        table = table_div.find(\"table\")\n",
    "        table_head = table.find(attrs={\"class\":'colhead'})\n",
    "        header_cols = table_head.findAll('td')\n",
    "        if pagenumber is 1:\n",
    "            cols = GetColumns(header_cols)\n",
    "        table_rows = table.findAll('tr')\n",
    "\n",
    "        for row in table_rows:\n",
    "            if row.attrs['class'][0]=='colhead':\n",
    "                continue\n",
    "            player_stats = []\n",
    "            row_cols = row.find_all('td')\n",
    "            col_vals = []\n",
    "            player_col = row_cols[1]\n",
    "            player_name = player_col.find('a').string\n",
    "            player_position = player_col.contents[1]\n",
    "            player_position = player_position.split(' ')[1]\n",
    "            player_stats.append(player_name)\n",
    "            player_stats.append(player_position)\n",
    "            for i in range(2, len(row_cols)):\n",
    "                stat = row_cols[i].string\n",
    "                player_stats.append(stat)\n",
    "            players_stats_array.append(player_stats)\n",
    "    return players_stats_array, cols\n",
    "    \n",
    "url1 = 'http://espn.go.com/nba/statistics/player/_/stat/scoring-per-game/sort/avgPoints/year/2015/qualified/false/count/'\n",
    "url2 = 'http://espn.go.com/nba/statistics/player/_/stat/assists/sort/avgAssists/year/2015/qualified/false/count/'\n",
    "\n",
    "np_array1, cols1 = FillInTable(url1)\n",
    "np_array2, cols2 = FillInTable(url2)\n",
    "df1 = pd.DataFrame(np_array1, columns = cols1)\n",
    "df2 = pd.DataFrame(np_array2, columns = cols2)\n",
    "\n",
    "df = pd.DataFrame.merge(df1, df2)\n",
    "\n",
    "df.head()\n"
   ]
  },
  {
   "cell_type": "code",
   "execution_count": null,
   "metadata": {
    "collapsed": true
   },
   "outputs": [],
   "source": []
  },
  {
   "cell_type": "code",
   "execution_count": null,
   "metadata": {
    "collapsed": true
   },
   "outputs": [],
   "source": []
  }
 ],
 "metadata": {
  "kernelspec": {
   "display_name": "Python 2",
   "language": "python",
   "name": "python2"
  },
  "language_info": {
   "codemirror_mode": {
    "name": "ipython",
    "version": 2
   },
   "file_extension": ".py",
   "mimetype": "text/x-python",
   "name": "python",
   "nbconvert_exporter": "python",
   "pygments_lexer": "ipython2",
   "version": "2.7.10"
  }
 },
 "nbformat": 4,
 "nbformat_minor": 0
}
