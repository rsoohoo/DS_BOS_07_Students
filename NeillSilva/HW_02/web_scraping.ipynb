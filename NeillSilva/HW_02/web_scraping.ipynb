{
 "cells": [
  {
   "cell_type": "markdown",
   "metadata": {},
   "source": [
    "# Web Scraping with Beautiful Soup\n",
    "\n",
    "This tutorial will provide a very basic introduction to using the Beautiful Soup package to scrape text data from the web. \n",
    "\n",
    "## Installation\n",
    "\n",
    "In a terminal, install Beautiful Soup if necessary by running <pre><code>conda install beautiful-soup</code></pre>\n",
    "\n",
    "## Retrieving HTML\n",
    "\n",
    "The general idea behind web scraping is to retrieve data that exists on a website, and convert it into a format that is usable for analysis. Webpages are rendered by the brower from HTML and CSS code, but much of the information included in the HTML underlying any website is not interesting to us.\n",
    "\n",
    "We begin by reading in the source code for a given web page and creating a Beautiful Soup object with the BeautifulSoup function.\n",
    "\n",
    "### urllib2\n",
    "urllib2 is a module for working with urls, we will use it to open connections to urls and retrieve the webpage source."
   ]
  },
  {
   "cell_type": "code",
   "execution_count": 5,
   "metadata": {
    "collapsed": false
   },
   "outputs": [
    {
     "name": "stdout",
     "output_type": "stream",
     "text": [
      "<class 'bs4.BeautifulSoup'>\n"
     ]
    }
   ],
   "source": [
    "from bs4 import BeautifulSoup\n",
    "import urllib2\n",
    "page = urllib2.urlopen('http://espn.go.com/nba/statistics/player/_/stat/scoring-per-game/sort/avgPoints/qualified/false').read()\n",
    "soup = BeautifulSoup(page, \"html.parser\")\n",
    "print type(soup)"
   ]
  },
  {
   "cell_type": "markdown",
   "metadata": {},
   "source": [
    "The soup object contains all of the HTML in the original document."
   ]
  },
  {
   "cell_type": "code",
   "execution_count": 6,
   "metadata": {
    "collapsed": false
   },
   "outputs": [
    {
     "name": "stdout",
     "output_type": "stream",
     "text": [
      "<!DOCTYPE html>\n",
      "<html xmlns:fb=\"http://www.facebook.com/2008/fbml\">\n",
      " <head>\n",
      "  <script src=\"http://sports-ak.espn.go.com/sports/optimizely.js\">\n",
      "  </script>\n",
      "  <meta charset=\"utf-8\">\n",
      "   <meta content=\"IE=edge,chrome=1\" http-equiv=\"X-UA-Compatible\">\n",
      "    <link href=\"http://a.espncdn.com/prod/assets/icons/E.svg\" mask=\"\" rel=\"icon\" sizes=\"any\">\n",
      "     <meta content=\"#CC0000\" name=\"theme-color\">\n",
      "      <script type=\"text/javascript\">\n",
      "       if(true && navigator && navigator.userAgent.toLowerCase().indexOf(\"teamstream\") >= 0) {\n",
      "        window.location = 'http://a.m.espn.go.com/mobilecache/general/apps/sc';\n",
      "    }\n",
      "      </script>\n",
      "      <title>\n",
      "       2015-16 Regular Season NBA Player Stats and League Leaders - Scoring Per Game - National Basketball Association - ESPN\n",
      "      </title>\n",
      "      <meta content=\"xuj1ODRluWa0frM-BjIr_aSHoUC7HB5C1MgmYAM_GkA\" name=\"google-site-verification\"/>\n",
      "      <meta content=\"B1FEB7C682C46C8FCDA3130F3D18AC28\" name=\"msvalidate.01\"/>\n",
      "      <meta content=\"noodp\" name=\"googlebot\n"
     ]
    }
   ],
   "source": [
    "print soup.prettify()[0:1000]"
   ]
  },
  {
   "cell_type": "markdown",
   "metadata": {},
   "source": [
    "## Parsing HTML\n",
    "\n",
    "By \"parsing HTML\", we mean pulling out only the relevant tags/attributes for our analysis.  What Beautiful Soup does is provide a handy bunch of methods for doing this efficiently.\n",
    "\n",
    "### find method\n",
    "\n",
    "The find method will search for and return the first tag matching your corresponding search criteria, if it exists.  You can specify tag and attribute info etc.  There is also a findAll method that will return a collection of tags matching your query."
   ]
  },
  {
   "cell_type": "code",
   "execution_count": 7,
   "metadata": {
    "collapsed": false
   },
   "outputs": [
    {
     "name": "stdout",
     "output_type": "stream",
     "text": [
      "<div class=\"col-main\" id=\"my-players-table\">\n",
      " <div class=\"mod-container mod-table\">\n",
      "  <div class=\"mod-header stathead\">\n",
      "   <h4>\n",
      "    Points Per Game Leaders - All Players\n",
      "   </h4>\n",
      "  </div>\n",
      "  <div class=\"mod-content\">\n",
      "   <table cellpadding=\"3\" cellspacing=\"1\" class=\"tablehead\">\n",
      "    <tr align=\"right\" class=\"colhead\">\n",
      "     <td align=\"left\" style=\"width:20px;\">\n",
      "      RK\n",
      "     </td>\n",
      "     <td align=\"left\">\n",
      "      PLAYER\n",
      "     </td>\n",
      "     <td align=\"left\">\n",
      "      TEAM\n",
      "     </td>\n",
      "     <td>\n",
      "      <a href=\"http://espn.go.com/nba/statistics/player/_/stat/scoring-per-game/sort/gamesPlayed/qualified/false\" title=\"Games Played\">\n",
      "       GP\n",
      "      </a>\n",
      "     </td>\n",
      "     <td>\n",
      "      <a href=\"http://espn.go.com/nba/statistics/player/_/stat/scoring-per-game/sort/avgMinutes/qualified/false\" title=\"Minutes Per Game\">\n",
      "       MPG\n",
      "      </a>\n",
      "     </td>\n",
      "     <td>\n",
      "      <a href=\"http://espn.go.com/nba/statistics/player/_/stat/scoring-per-game/sort/avgPoints/qualified/false/order/false\" title=\"Points Per Game\">\n",
      "       PTS\n",
      "      </a>\n",
      "     </td>\n",
      "     <td>\n",
      "      <span title=\"Field Goals Made-Attempted Per Game\">\n",
      "       FGM-FGA\n",
      "      </span>\n",
      "     </td>\n",
      "     <td>\n",
      "      <a href=\"http://espn.go.com/nba/statistics/player/_/stat/scoring-per-game/sort/fieldGoalPct/qualified/false\" title=\"Field Goal Percentage\">\n",
      "       FG%\n",
      "      </a>\n",
      "     </td>\n",
      "     <td>\n",
      "      <span title=\"3-Point Field Goals Made-Attempted Per Game\">\n",
      "       3PM-3PA\n",
      "      </span>\n",
      "     </td>\n",
      "     <td>\n",
      "      <a href=\"http://espn.go.com/nba/statistics/player/_/stat/scoring-per-game/sort/threePointFieldGoalPct/qualified/false\" title=\"3-Point Field Goal Percentage\">\n",
      "       3P%\n",
      "      </a>\n",
      "     </td>\n",
      "     <td>\n",
      "      <span title=\"Free Throws Made-Attempted Per Game\">\n",
      "       FTM-FTA\n",
      "      </span>\n",
      "     </td>\n",
      "     <td>\n",
      "      <a href=\"http://espn.go.com/nba/statistics/player/_/stat/scoring-per-game/sort/freeThrowPct/qualified/false\" title=\"Free Throws Percentage\">\n",
      "       FT%\n",
      "      </a>\n",
      "     </td>\n",
      "    </tr>\n",
      "    <tr align=\"right\" class=\"oddrow player-46-3975\">\n",
      "     <td align=\"left\">\n",
      "      1\n",
      "     </td>\n",
      "     <td align=\"left\">\n",
      "      <a href=\"http://espn.go.com/nba/player/_/id/3975/stephen-curry\">\n",
      "       Stephen Curry\n",
      "      </a>\n",
      "      , PG\n",
      "     </td>\n",
      "     <td align=\"left\">\n",
      "      GS\n",
      "     </td>\n",
      "     <td>\n",
      "      7\n",
      "     </td>\n",
      "     <td>\n",
      "      33.3\n",
      "     </td>\n",
      "     <td class=\"sortcell\">\n",
      "      33.9\n",
      "     </td>\n",
      "     <td>\n",
      "      11.1-20.1\n",
      "     </td>\n",
      "     <td>\n",
      "      .553\n",
      "     </td>\n",
      "     <td>\n",
      "      5.4-11.4\n",
      "     </td>\n",
      "     <td>\n",
      "      .475\n",
      "     </td>\n",
      "     <td>\n",
      "      6.1-6.7\n",
      "     </td>\n",
      "     <td>\n",
      "      .915\n",
      "     </td>\n",
      "    </tr>\n",
      "    <tr align=\"right\" class=\"evenrow player-46-3202\">\n",
      "     <td align=\"left\">\n",
      "      2\n",
      "     </td>\n",
      "     <td align=\"left\">\n",
      "      <a href=\"http://espn.go.com/nba/player/_/id/3202/kevin-durant\">\n",
      "       Kevin Durant\n",
      "      </a>\n",
      "      , SF\n",
      "     </td>\n",
      "     <td align=\"left\">\n",
      "      OKC\n",
      "     </td>\n",
      "     <td>\n",
      "      7\n",
      "     </td>\n",
      "     <td>\n",
      "      37.3\n",
      "     </td>\n",
      "     <td class=\"sortcell\">\n",
      "      30.1\n",
      "     </td>\n",
      "     <td>\n",
      "      10.4-20.7\n",
      "     </td>\n",
      "     <td>\n",
      "      .503\n",
      "     </td>\n",
      "     <td>\n",
      "      2.7-6.4\n",
      "     </td>\n",
      "     <td>\n",
      "      .422\n",
      "     </td>\n",
      "     <td>\n",
      "      6.6-7.4\n",
      "     </td>\n",
      "     <td>\n",
      "      .885\n",
      "     </td>\n",
      "    </tr>\n",
      "    <tr align=\"right\" class=\"oddrow player-46-3992\">\n",
      "     <td align=\"left\">\n",
      "      3\n",
      "     </td>\n",
      "     <td align=\"left\">\n",
      "      <a href=\"http://espn.go.com/nba/player/_/id/3992/james-harden\">\n",
      "       James Harden\n",
      "      </a>\n",
      "      , SG\n",
      "     </td>\n",
      "     <td align=\"left\">\n",
      "      HOU\n",
      "     </td>\n",
      "     <td>\n",
      "      7\n",
      "     </td>\n",
      "     <td>\n",
      "      39.4\n",
      "     </td>\n",
      "     <td class=\"sortcell\">\n",
      "      29.7\n",
      "     </td>\n",
      "     <td>\n",
      "      8.1-21.6\n",
      "     </td>\n",
      "     <td>\n",
      "      .377\n",
      "     </td>\n",
      "     <td>\n",
      "      2.6-10.7\n",
      "     </td>\n",
      "     <td>\n",
      "      .240\n",
      "     </td>\n",
      "     <td>\n",
      "      10.9-12.7\n",
      "     </td>\n",
      "     <td>\n",
      "      .854\n",
      "     </td>\n",
      "    </tr>\n",
      "    <tr align=\"right\" class=\"evenrow player-46-3989\">\n",
      "     <td align=\"left\">\n",
      "      4\n",
      "     </td>\n",
      "     <td align=\"left\">\n",
      "      <a href=\"http://espn.go.com/nba/player/_/id/3989/blake-griffin\">\n",
      "       Blake Griffin\n",
      "      </a>\n",
      " \n"
     ]
    }
   ],
   "source": [
    "table_div = soup.find(id='my-players-table')\n",
    "print table_div.prettify()[0:4000]"
   ]
  },
  {
   "cell_type": "markdown",
   "metadata": {},
   "source": [
    "Notice that the object returned by the find method is just another inner HTML structure, which we can step through just like we would have with the original soup object.  We've gone to the location in the webpage where the table that we seek starts, now we can use find again to get to the table data."
   ]
  },
  {
   "cell_type": "code",
   "execution_count": 10,
   "metadata": {
    "collapsed": false
   },
   "outputs": [
    {
     "name": "stdout",
     "output_type": "stream",
     "text": [
      "<table cellpadding=\"3\" cellspacing=\"1\" class=\"tablehead\">\n",
      "<tr align=\"right\" class=\"colhead\"><td align=\"left\" style=\"width:20px;\">RK</td><td align=\"left\">PLAYER</td><td align=\"left\">TEAM</td><td><a href=\"http://espn.go.com/nba/statistics/player/_/stat/scoring-per-game/sort/gamesPlayed/qualified/false\" title=\"Games Played\">GP</a></td><td><a href=\"http://espn.go.com/nba/statistics/player/_/stat/scoring-per-game/sort/avgMinutes/qualified/false\" title=\"Minutes Per Game\">MPG</a></td><td><a href=\"http://espn.go.com/nba/statistics/player/_/stat/scoring-per-game/sort/avgPoints/qualified/false/order/false\" title=\"Points Per Game\">PTS</a></td><td><span title=\"Field Goals Made-Attempted Per Game\">FGM-FGA</span></td><td><a href=\"http://espn.go.com/nba/statistics/player/_/stat/scoring-per-game/sort/fieldGoalPct/qualified/false\" title=\"Field Goal Percentage\">FG%</a></td><td><span title=\"3-Point Field Goals Made-Attempted Per Game\">3PM-3PA</span></td><td><a href=\"http://espn.go.com/nba/statistics/player/_/stat/scoring-per-game/sort/threePointFieldGoalPct/qualified/false\" title=\"3-Point Field Goal Percentage\">3P%</a></td><td><span title=\"Free Throws Made-Attempted Per Game\">FTM-FTA</span></td><td><a href=\"http://espn.go.com/nba/statistics/player/_/stat/scoring-per-game/sort/freeThrowPct/qualified/false\" title=\"Free Throws Percentage\">FT%</a></td></tr><tr align=\"right\" class=\"oddrow player-46-3975\"><td align=\"left\">1</td><td align=\"left\"><a href=\"http://espn.go.com/nba/player/_/id/3975/stephen-curry\">Stephen Curry</a>, PG</td><td align=\"left\">GS</td><td>7</td><td>33.3</td><td class=\"sortcell\">33.9</td><td>11.1-20.1</td><td>.553</td><td>5.4-11.4</td><td>.475</td><td>6.1-6.7</td><td>.915</td></tr><tr align=\"right\" class=\"evenrow player-46-3202\"><td align=\"left\">2</td><td align=\"left\"><a href=\"http://espn.go.com/nba/player/_/id/3202/kevin-durant\">Kevin Durant</a>, SF</td><td align=\"left\">OKC</td><td>7</td><td>37.3</td><td class=\"sortcell\">30.1</td><td>10.4-20.7</td><td>.503</td><td>2.7-6.4</td><td>.422</td><td>6.6-7.4</td><td>.885</td></tr><tr align=\"right\" class=\"oddrow player-46-3992\"><td align=\"left\">3</td><td align=\"left\"><a href=\"http://espn.go.com/nba/player/_/id/3992/james-harden\">James Harden</a>, SG</td><td align=\"left\">HOU</td><td>7</td><td>39.4</td><td class=\"sortcell\">29.7</td><td>8.1-21.6</td><td>.377</td><td>2.6-10.7</td><td>.240</td><td>10.9-12.7</td><td>.854</td></tr><tr align=\"right\" class=\"evenrow player-46-3989\"><td align=\"left\">4</td><td align=\"left\"><a href=\"http://espn.go.com/nba/player/_/id/3989/blake-griffin\">Blake Griffin</a>, PF</td><td align=\"left\">LAC</td><td>6</td><td>35.2</td><td class=\"sortcell\">29.3</td><td>11.7-19.5</td><td>.598</td><td>0.0-0.5</td><td>.000</td><td>6.0-7.7</td><td>.783</td></tr><tr align=\"right\" class=\"oddrow player-46-6606\"><td align=\"left\">5</td><td align=\"left\"><a href=\"http://espn.go.com/nba/player/_/id/6606/damian-lillard\">Damian Lillard</a>, PG</td><td align=\"left\">POR</td><td>7</td><td>36.4</td><td class=\"sortcell\">27.1</td><td>9.7-20.4</td><td>.476</td><td>3.9-9.0</td><td>.429</td><td>3.9-4.4</td><td>.871</td></tr><tr align=\"right\" class=\"evenrow player-46-3468\"><td align=\"left\">6</td><td align=\"left\"><a href=\"http://espn.go.com/nba/player/_/id/3468/russell-westbrook\">Russell Westbrook</a>, PG</td><td align=\"left\">OKC</td><td>7</td><td>35.7</td><td class=\"sortcell\">26.3</td><td>10.0-21.0</td><td>.476</td><td>1.6-5.0</td><td>.314</td><td>4.7-5.6</td><td>.846</td></tr><tr align=\"right\" class=\"oddrow player-46-6583\"><td align=\"left\">7</td><td align=\"left\"><a href=\"http://espn.go.com/nba/player/_/id/6583/anthony-davis\">Anthony Davis</a>, PF</td><td align=\"left\">NO</td><td>6</td><td>38.2</td><td class=\"sortcell\">25.2</td><td>8.3-18.0</td><td>.463</td><td>0.8-2.3</td><td>.357</td><td>7.7-10.2</td><td>.754</td></tr><tr align=\"right\" class=\"evenrow player-46-1966\"><td align=\"left\">8</td><td align=\"left\"><a href=\"http://espn.go.com/nba/player/_/id/1966/lebron-james\">LeBron James</a>, SF</td><td align=\"left\">CLE</td><td>7</td><td>34.4</td><td class=\"sortcell\">24.4</td><td>9.9-20.1</td><td>.489</td><td>0.7-3.7</td><td>.192</td><td>4.0-6.7</td><td>.596</td></tr><tr align=\"right\" class=\"oddrow player-46-6443\"><td align=\"left\">9</td><td align=\"left\"><a href=\"http://espn.go.com/nba/player/_/id/6443/reggie-jackson\">Reggie Jackson</a>, PG</td><td align=\"left\">DET</td><td>6</td><td>33.2</td><td class=\"sortcell\">23.2</td><td>8.5-18.7</td><td>.455</td><td>1.7-3.7</td><td>.455</td><td>4.5-5.7</td><td>.794</td></tr><tr align=\"right\" class=\"evenrow player-46-4251\"><td align=\"left\">10</td><td align=\"left\"><a href=\"http://espn.go.com/nba/player/_/id/4251/paul-george\">Paul George</a>, SF</td><td align=\"left\">IND</td><td>7</td><td>35.7</td><td class=\"sortcell\">23.0</td><td>7.6-18.0</td><td>.421</td><td>2.0-6.1</td><td>.326</td><td>5.9-6.9</td><td>.854</td></tr><tr align=\"right\" class=\"colhead\"><td align=\"left\" style=\"width:20px;\">RK</td><td align=\"left\">PLAYER</td><td align=\"left\">TEAM</td><td><a href=\"http://espn.go.com/nba/statistics/player/_/stat/scoring-per-game/sort/gamesPlayed/qualified/false\" title=\"Games Played\">GP</a></td><td><a href=\"http://espn.go.com/nba/statistics/player/_/stat/scoring-per-game/sort/avgMinutes/qualified/false\" title=\"Minutes Per Game\">MPG</a></td><td><a href=\"http://espn.go.com/nba/statistics/player/_/stat/scoring-per-game/sort/avgPoints/qualified/false/order/false\" title=\"Points Per Game\">PTS</a></td><td><span title=\"Field Goals Made-Attempted Per Game\">FGM-FGA</span></td><td><a href=\"http://espn.go.com/nba/statistics/player/_/stat/scoring-per-game/sort/fieldGoalPct/qualified/false\" title=\"Field Goal Percentage\">FG%</a></td><td><span title=\"3-Point Field Goals Made-Attempted Per Game\">3PM-3PA</span></td><td><a href=\"http://espn.go.com/nba/statistics/player/_/stat/scoring-per-game/sort/threePointFieldGoalPct/qualified/false\" title=\"3-Point Field Goal Percentage\">3P%</a></td><td><span title=\"Free Throws Made-Attempted Per Game\">FTM-FTA</span></td><td><a href=\"http://espn.go.com/nba/statistics/player/_/stat/scoring-per-game/sort/freeThrowPct/qualified/false\" title=\"Free Throws Percentage\">FT%</a></td></tr><tr align=\"right\" class=\"oddrow player-46-6580\"><td align=\"left\">11</td><td align=\"left\"><a href=\"http://espn.go.com/nba/player/_/id/6580/bradley-beal\">Bradley Beal</a>, SG</td><td align=\"left\">WSH</td><td>6</td><td>34.7</td><td class=\"sortcell\">22.7</td><td>8.7-17.8</td><td>.486</td><td>2.7-5.7</td><td>.471</td><td>2.7-3.3</td><td>.800</td></tr><tr align=\"right\" class=\"evenrow player-46-6472\"><td align=\"left\">12</td><td align=\"left\"><a href=\"http://espn.go.com/nba/player/_/id/6472/isaiah-thomas\">Isaiah Thomas</a>, PG</td><td align=\"left\">BOS</td><td>5</td><td>29.2</td><td class=\"sortcell\">22.0</td><td>7.0-17.4</td><td>.402</td><td>1.6-5.0</td><td>.320</td><td>6.4-7.0</td><td>.914</td></tr><tr align=\"right\" class=\"oddrow player-46-4258\"><td align=\"left\"> </td><td align=\"left\"><a href=\"http://espn.go.com/nba/player/_/id/4258/demarcus-cousins\">DeMarcus Cousins</a>, PF</td><td align=\"left\">SAC</td><td>3</td><td>26.0</td><td class=\"sortcell\">22.0</td><td>7.0-16.7</td><td>.420</td><td>1.3-3.3</td><td>.400</td><td>6.7-9.0</td><td>.741</td></tr><tr align=\"right\" class=\"evenrow player-46-4238\"><td align=\"left\">14</td><td align=\"left\"><a href=\"http://espn.go.com/nba/player/_/id/4238/eric-bledsoe\">Eric Bledsoe</a>, PG</td><td align=\"left\">PHX</td><td>7</td><td>34.4</td><td class=\"sortcell\">21.9</td><td>7.9-17.4</td><td>.451</td><td>1.3-3.7</td><td>.346</td><td>4.9-6.3</td><td>.773</td></tr><tr align=\"right\" class=\"oddrow player-46-6450\"><td align=\"left\">15</td><td align=\"left\"><a href=\"http://espn.go.com/nba/player/_/id/6450/kawhi-leonard\">Kawhi Leonard</a>, SF</td><td align=\"left\">SA</td><td>6</td><td>33.3</td><td class=\"sortcell\">21.8</td><td>9.2-18.3</td><td>.500</td><td>1.0-3.3</td><td>.300</td><td>2.5-2.7</td><td>.938</td></tr><tr align=\"right\" class=\"evenrow player-46-2490149\"><td align=\"left\">16</td><td align=\"left\"><a href=\"http://espn.go.com/nba/player/_/id/2490149/c.j.-mccollum\">C.J. McCollum</a>, SG</td><td align=\"left\">POR</td><td>7</td><td>34.3</td><td class=\"sortcell\">21.6</td><td>8.4-17.9</td><td>.472</td><td>2.6-6.1</td><td>.419</td><td>2.1-2.6</td><td>.833</td></tr><tr align=\"right\" class=\"oddrow player-46-1975\"><td align=\"left\">17</td><td align=\"left\"><a href=\"http://espn.go.com/nba/player/_/id/1975/carmelo-anthony\">Carmelo Anthony</a>, SF</td><td align=\"left\">NY</td><td>7</td><td>34.0</td><td class=\"sortcell\">21.4</td><td>7.0-18.9</td><td>.371</td><td>1.6-4.9</td><td>.324</td><td>5.9-6.4</td><td>.911</td></tr><tr align=\"right\" class=\"evenrow player-46-3978\"><td align=\"left\"> </td><td align=\"left\"><a href=\"http://espn.go.com/nba/player/_/id/3978/demar-derozan\">DeMar DeRozan</a>, SG</td><td align=\"left\">TOR</td><td>7</td><td>36.0</td><td class=\"sortcell\">21.4</td><td>6.3-15.0</td><td>.419</td><td>0.3-1.6</td><td>.182</td><td>8.6-10.4</td><td>.822</td></tr><tr align=\"right\" class=\"oddrow player-46-3448\"><td align=\"left\">19</td><td align=\"left\"><a href=\"http://espn.go.com/nba/player/_/id/3448/brook-lopez\">Brook Lopez</a>, C</td><td align=\"left\">BKN</td><td>7</td><td>33.1</td><td class=\"sortcell\">20.4</td><td>7.7-14.4</td><td>.535</td><td>0.0-0.3</td><td>.000</td><td>5.0-6.0</td><td>.833</td></tr><tr align=\"right\" class=\"evenrow player-46-6585\"><td align=\"left\">20</td><td align=\"left\"><a href=\"http://espn.go.com/nba/player/_/id/6585/andre-drummond\">Andre Drummond</a>, C</td><td align=\"left\">DET</td><td>6</td><td>38.0</td><td class=\"sortcell\">20.3</td><td>8.3-15.2</td><td>.549</td><td>0.0-0.0</td><td>.000</td><td>3.7-8.7</td><td>.423</td></tr><tr align=\"right\" class=\"colhead\"><td align=\"left\" style=\"width:20px;\">RK</td><td align=\"left\">PLAYER</td><td align=\"left\">TEAM</td><td><a href=\"http://espn.go.com/nba/statistics/player/_/stat/scoring-per-game/sort/gamesPlayed/qualified/false\" title=\"Games Played\">GP</a></td><td><a href=\"http://espn.go.com/nba/statistics/player/_/stat/scoring-per-game/sort/avgMinutes/qualified/false\" title=\"Minutes Per Game\">MPG</a></td><td><a href=\"http://espn.go.com/nba/statistics/player/_/stat/scoring-per-game/sort/avgPoints/qualified/false/order/false\" title=\"Points Per Game\">PTS</a></td><td><span title=\"Field Goals Made-Attempted Per Game\">FGM-FGA</span></td><td><a href=\"http://espn.go.com/nba/statistics/player/_/stat/scoring-per-game/sort/fieldGoalPct/qualified/false\" title=\"Field Goal Percentage\">FG%</a></td><td><span title=\"3-Point Field Goals Made-Attempted Per Game\">3PM-3PA</span></td><td><a href=\"http://espn.go.com/nba/statistics/player/_/stat/scoring-per-game/sort/threePointFieldGoalPct/qualified/false\" title=\"3-Point Field Goal Percentage\">3P%</a></td><td><span title=\"Free Throws Made-Attempted Per Game\">FTM-FTA</span></td><td><a href=\"http://espn.go.com/nba/statistics/player/_/stat/scoring-per-game/sort/freeThrowPct/qualified/false\" title=\"Free Throws Percentage\">FT%</a></td></tr><tr align=\"right\" class=\"oddrow player-46-6430\"><td align=\"left\">21</td><td align=\"left\"><a href=\"http://espn.go.com/nba/player/_/id/6430/jimmy-butler\">Jimmy Butler</a>, SG</td><td align=\"left\">CHI</td><td>7</td><td>36.7</td><td class=\"sortcell\">20.1</td><td>6.6-15.0</td><td>.438</td><td>1.7-4.0</td><td>.429</td><td>5.3-6.7</td><td>.787</td></tr><tr align=\"right\" class=\"evenrow player-46-3135048\"><td align=\"left\">22</td><td align=\"left\"><a href=\"http://espn.go.com/nba/player/_/id/3135048/jahlil-okafor\">Jahlil Okafor</a>, C</td><td align=\"left\">PHI</td><td>6</td><td>34.3</td><td class=\"sortcell\">19.7</td><td>8.2-15.5</td><td>.527</td><td>0.0-0.0</td><td>.000</td><td>3.3-4.8</td><td>.690</td></tr><tr align=\"right\" class=\"oddrow player-46-3032977\"><td align=\"left\">23</td><td align=\"left\"><a href=\"http://espn.go.com/nba/player/_/id/3032977/giannis-antetokounmpo\">Giannis Antetokounmpo</a>, SF</td><td align=\"left\">MIL</td><td>6</td><td>37.0</td><td class=\"sortcell\">19.3</td><td>7.2-12.5</td><td>.573</td><td>0.8-1.8</td><td>.455</td><td>4.2-4.8</td><td>.862</td></tr><tr align=\"right\" class=\"evenrow player-46-4237\"><td align=\"left\">24</td><td align=\"left\"><a href=\"http://espn.go.com/nba/player/_/id/4237/john-wall\">John Wall</a>, PG</td><td align=\"left\">WSH</td><td>6</td><td>34.8</td><td class=\"sortcell\">19.2</td><td>6.5-15.7</td><td>.415</td><td>1.3-4.7</td><td>.286</td><td>4.8-6.3</td><td>.763</td></tr><tr align=\"right\" class=\"oddrow player-46-1987\"><td align=\"left\">25</td><td align=\"left\"><a href=\"http://espn.go.com/nba/player/_/id/1987/dwyane-wade\">Dwyane Wade</a>, SG</td><td align=\"left\">MIA</td><td>7</td><td>29.3</td><td class=\"sortcell\">18.9</td><td>6.9-15.6</td><td>.440</td><td>0.9-2.1</td><td>.400</td><td>4.3-5.3</td><td>.811</td></tr><tr align=\"right\" class=\"evenrow player-46-2394\"><td align=\"left\">26</td><td align=\"left\"><a href=\"http://espn.go.com/nba/player/_/id/2394/kevin-martin\">Kevin Martin</a>, SG</td><td align=\"left\">MIN</td><td>4</td><td>28.0</td><td class=\"sortcell\">18.8</td><td>5.3-11.5</td><td>.457</td><td>0.8-3.3</td><td>.231</td><td>7.5-8.8</td><td>.857</td></tr><tr align=\"right\" class=\"oddrow player-46-6588\"><td align=\"left\">27</td><td align=\"left\"><a href=\"http://espn.go.com/nba/player/_/id/6588/evan-fournier\">Evan Fournier</a>, SF</td><td align=\"left\">ORL</td><td>7</td><td>37.6</td><td class=\"sortcell\">18.7</td><td>7.1-15.3</td><td>.467</td><td>2.1-5.7</td><td>.375</td><td>2.3-3.0</td><td>.762</td></tr><tr align=\"right\" class=\"evenrow player-46-3428\"><td align=\"left\"> </td><td align=\"left\"><a href=\"http://espn.go.com/nba/player/_/id/3428/danilo-gallinari\">Danilo Gallinari</a>, SF</td><td align=\"left\">DEN</td><td>6</td><td>33.7</td><td class=\"sortcell\">18.7</td><td>5.5-13.0</td><td>.423</td><td>1.2-3.2</td><td>.368</td><td>6.5-7.3</td><td>.886</td></tr><tr align=\"right\" class=\"oddrow player-46-3012\"><td align=\"left\">29</td><td align=\"left\"><a href=\"http://espn.go.com/nba/player/_/id/3012/kyle-lowry\">Kyle Lowry</a>, PG</td><td align=\"left\">TOR</td><td>7</td><td>34.6</td><td class=\"sortcell\">18.3</td><td>5.7-14.1</td><td>.404</td><td>2.1-5.4</td><td>.395</td><td>4.7-5.7</td><td>.825</td></tr><tr align=\"right\" class=\"evenrow player-46-4260\"><td align=\"left\">30</td><td align=\"left\"><a href=\"http://espn.go.com/nba/player/_/id/4260/greg-monroe\">Greg Monroe</a>, C</td><td align=\"left\">MIL</td><td>7</td><td>33.0</td><td class=\"sortcell\">18.1</td><td>7.1-13.4</td><td>.532</td><td>0.0-0.0</td><td>.000</td><td>3.9-4.7</td><td>.818</td></tr><tr align=\"right\" class=\"colhead\"><td align=\"left\" style=\"width:20px;\">RK</td><td align=\"left\">PLAYER</td><td align=\"left\">TEAM</td><td><a href=\"http://espn.go.com/nba/statistics/player/_/stat/scoring-per-game/sort/gamesPlayed/qualified/false\" title=\"Games Played\">GP</a></td><td><a href=\"http://espn.go.com/nba/statistics/player/_/stat/scoring-per-game/sort/avgMinutes/qualified/false\" title=\"Minutes Per Game\">MPG</a></td><td><a href=\"http://espn.go.com/nba/statistics/player/_/stat/scoring-per-game/sort/avgPoints/qualified/false/order/false\" title=\"Points Per Game\">PTS</a></td><td><span title=\"Field Goals Made-Attempted Per Game\">FGM-FGA</span></td><td><a href=\"http://espn.go.com/nba/statistics/player/_/stat/scoring-per-game/sort/fieldGoalPct/qualified/false\" title=\"Field Goal Percentage\">FG%</a></td><td><span title=\"3-Point Field Goals Made-Attempted Per Game\">3PM-3PA</span></td><td><a href=\"http://espn.go.com/nba/statistics/player/_/stat/scoring-per-game/sort/threePointFieldGoalPct/qualified/false\" title=\"3-Point Field Goal Percentage\">3P%</a></td><td><span title=\"Free Throws Made-Attempted Per Game\">FTM-FTA</span></td><td><a href=\"http://espn.go.com/nba/statistics/player/_/stat/scoring-per-game/sort/freeThrowPct/qualified/false\" title=\"Free Throws Percentage\">FT%</a></td></tr><tr align=\"right\" class=\"oddrow player-46-4015\"><td align=\"left\">31</td><td align=\"left\"><a href=\"http://espn.go.com/nba/player/_/id/4015/jeff-teague\">Jeff Teague</a>, PG</td><td align=\"left\">ATL</td><td>8</td><td>31.1</td><td class=\"sortcell\">18.0</td><td>6.0-14.5</td><td>.414</td><td>1.0-3.1</td><td>.320</td><td>5.0-5.9</td><td>.851</td></tr><tr align=\"right\" class=\"evenrow player-46-6448\"><td align=\"left\">32</td><td align=\"left\"><a href=\"http://espn.go.com/nba/player/_/id/6448/brandon-knight\">Brandon Knight</a>, PG</td><td align=\"left\">PHX</td><td>7</td><td>35.1</td><td class=\"sortcell\">17.9</td><td>6.9-16.4</td><td>.417</td><td>2.3-6.7</td><td>.340</td><td>1.9-2.1</td><td>.867</td></tr><tr align=\"right\" class=\"oddrow player-46-3431\"><td align=\"left\">33</td><td align=\"left\"><a href=\"http://espn.go.com/nba/player/_/id/3431/eric-gordon\">Eric Gordon</a>, SG</td><td align=\"left\">NO</td><td>6</td><td>36.2</td><td class=\"sortcell\">17.8</td><td>6.2-15.0</td><td>.411</td><td>3.0-7.8</td><td>.383</td><td>2.5-3.0</td><td>.833</td></tr><tr align=\"right\" class=\"evenrow player-46-3059319\"><td align=\"left\">34</td><td align=\"left\"><a href=\"http://espn.go.com/nba/player/_/id/3059319/andrew-wiggins\">Andrew Wiggins</a>, SG</td><td align=\"left\">MIN</td><td>5</td><td>31.2</td><td class=\"sortcell\">17.2</td><td>5.6-17.0</td><td>.329</td><td>1.0-2.8</td><td>.357</td><td>5.0-7.0</td><td>.714</td></tr><tr align=\"right\" class=\"oddrow player-46-6479\"><td align=\"left\"> </td><td align=\"left\"><a href=\"http://espn.go.com/nba/player/_/id/6479/kemba-walker\">Kemba Walker</a>, PG</td><td align=\"left\">CHA</td><td>6</td><td>31.0</td><td class=\"sortcell\">17.2</td><td>5.8-13.0</td><td>.449</td><td>1.3-3.5</td><td>.381</td><td>4.2-4.8</td><td>.862</td></tr><tr align=\"right\" class=\"evenrow player-46-3005\"><td align=\"left\">36</td><td align=\"left\"><a href=\"http://espn.go.com/nba/player/_/id/3005/rudy-gay\">Rudy Gay</a>, SF</td><td align=\"left\">SAC</td><td>7</td><td>30.9</td><td class=\"sortcell\">17.1</td><td>7.0-17.3</td><td>.405</td><td>1.1-3.1</td><td>.364</td><td>2.0-2.7</td><td>.737</td></tr><tr align=\"right\" class=\"oddrow player-46-3213\"><td align=\"left\">37</td><td align=\"left\"><a href=\"http://espn.go.com/nba/player/_/id/3213/al-horford\">Al Horford</a>, PF</td><td align=\"left\">ATL</td><td>8</td><td>31.6</td><td class=\"sortcell\">17.0</td><td>7.3-14.1</td><td>.513</td><td>0.8-3.1</td><td>.240</td><td>1.8-2.0</td><td>.875</td></tr><tr align=\"right\" class=\"evenrow player-46-3449\"><td align=\"left\"> </td><td align=\"left\"><a href=\"http://espn.go.com/nba/player/_/id/3449/kevin-love\">Kevin Love</a>, PF</td><td align=\"left\">CLE</td><td>7</td><td>33.0</td><td class=\"sortcell\">17.0</td><td>6.3-15.3</td><td>.411</td><td>2.0-6.7</td><td>.298</td><td>2.4-2.6</td><td>.944</td></tr><tr align=\"right\" class=\"oddrow player-46-609\"><td align=\"left\"> </td><td align=\"left\"><a href=\"http://espn.go.com/nba/player/_/id/609/dirk-nowitzki\">Dirk Nowitzki</a>, PF</td><td align=\"left\">DAL</td><td>6</td><td>28.0</td><td class=\"sortcell\">17.0</td><td>6.5-12.7</td><td>.513</td><td>1.7-3.3</td><td>.500</td><td>2.3-2.5</td><td>.933</td></tr><tr align=\"right\" class=\"evenrow player-46-6462\"><td align=\"left\"> </td><td align=\"left\"><a href=\"http://espn.go.com/nba/player/_/id/6462/marcus-morris\">Marcus Morris</a>, PF</td><td align=\"left\">DET</td><td>6</td><td>38.2</td><td class=\"sortcell\">17.0</td><td>6.0-14.5</td><td>.414</td><td>1.3-4.0</td><td>.333</td><td>3.7-5.0</td><td>.733</td></tr>\n",
      "</table>\n"
     ]
    }
   ],
   "source": [
    "table_div = soup.find(id='my-players-table')\n",
    "table = table_div.find(\"table\")\n",
    "print table"
   ]
  },
  {
   "cell_type": "markdown",
   "metadata": {},
   "source": [
    "### Searching by Attributes\n",
    "\n",
    "Now that we have the table object, we need to step through the rows.  First we'll find the header row so we can populate what the field names will be in our data.  Here we're searching for tags under the table tag whose class attritbute is \"colhead\".  "
   ]
  },
  {
   "cell_type": "code",
   "execution_count": 11,
   "metadata": {
    "collapsed": false
   },
   "outputs": [
    {
     "name": "stdout",
     "output_type": "stream",
     "text": [
      "<tr align=\"right\" class=\"colhead\">\n",
      " <td align=\"left\" style=\"width:20px;\">\n",
      "  RK\n",
      " </td>\n",
      " <td align=\"left\">\n",
      "  PLAYER\n",
      " </td>\n",
      " <td align=\"left\">\n",
      "  TEAM\n",
      " </td>\n",
      " <td>\n",
      "  <a href=\"http://espn.go.com/nba/statistics/player/_/stat/scoring-per-game/sort/gamesPlayed/qualified/false\" title=\"Games Played\">\n",
      "   GP\n",
      "  </a>\n",
      " </td>\n",
      " <td>\n",
      "  <a href=\"http://espn.go.com/nba/statistics/player/_/stat/scoring-per-game/sort/avgMinutes/qualified/false\" title=\"Minutes Per Game\">\n",
      "   MPG\n",
      "  </a>\n",
      " </td>\n",
      " <td>\n",
      "  <a href=\"http://espn.go.com/nba/statistics/player/_/stat/scoring-per-game/sort/avgPoints/qualified/false/order/false\" title=\"Points Per Game\">\n",
      "   PTS\n",
      "  </a>\n",
      " </td>\n",
      " <td>\n",
      "  <span title=\"Field Goals Made-Attempted Per Game\">\n",
      "   FGM-FGA\n",
      "  </span>\n",
      " </td>\n",
      " <td>\n",
      "  <a href=\"http://espn.go.com/nba/statistics/player/_/stat/scoring-per-game/sort/fieldGoalPct/qualified/false\" title=\"Field Goal Percentage\">\n",
      "   FG%\n",
      "  </a>\n",
      " </td>\n",
      " <td>\n",
      "  <span title=\"3-Point Field Goals Made-Attempted Per Game\">\n",
      "   3PM-3PA\n",
      "  </span>\n",
      " </td>\n",
      " <td>\n",
      "  <a href=\"http://espn.go.com/nba/statistics/player/_/stat/scoring-per-game/sort/threePointFieldGoalPct/qualified/false\" title=\"3-Point Field Goal Percentage\">\n",
      "   3P%\n",
      "  </a>\n",
      " </td>\n",
      " <td>\n",
      "  <span title=\"Free Throws Made-Attempted Per Game\">\n",
      "   FTM-FTA\n",
      "  </span>\n",
      " </td>\n",
      " <td>\n",
      "  <a href=\"http://espn.go.com/nba/statistics/player/_/stat/scoring-per-game/sort/freeThrowPct/qualified/false\" title=\"Free Throws Percentage\">\n",
      "   FT%\n",
      "  </a>\n",
      " </td>\n",
      "</tr>\n",
      "\n"
     ]
    }
   ],
   "source": [
    "table_head = table.find(attrs={\"class\":'colhead'})\n",
    "print table_head.prettify()"
   ]
  },
  {
   "cell_type": "markdown",
   "metadata": {},
   "source": [
    "Now we find the actual values by searching for the 'td' tags, which is the tag for table data."
   ]
  },
  {
   "cell_type": "code",
   "execution_count": 12,
   "metadata": {
    "collapsed": false
   },
   "outputs": [
    {
     "name": "stdout",
     "output_type": "stream",
     "text": [
      "[<td align=\"left\" style=\"width:20px;\">RK</td>, <td align=\"left\">PLAYER</td>, <td align=\"left\">TEAM</td>, <td><a href=\"http://espn.go.com/nba/statistics/player/_/stat/scoring-per-game/sort/gamesPlayed/qualified/false\" title=\"Games Played\">GP</a></td>, <td><a href=\"http://espn.go.com/nba/statistics/player/_/stat/scoring-per-game/sort/avgMinutes/qualified/false\" title=\"Minutes Per Game\">MPG</a></td>, <td><a href=\"http://espn.go.com/nba/statistics/player/_/stat/scoring-per-game/sort/avgPoints/qualified/false/order/false\" title=\"Points Per Game\">PTS</a></td>, <td><span title=\"Field Goals Made-Attempted Per Game\">FGM-FGA</span></td>, <td><a href=\"http://espn.go.com/nba/statistics/player/_/stat/scoring-per-game/sort/fieldGoalPct/qualified/false\" title=\"Field Goal Percentage\">FG%</a></td>, <td><span title=\"3-Point Field Goals Made-Attempted Per Game\">3PM-3PA</span></td>, <td><a href=\"http://espn.go.com/nba/statistics/player/_/stat/scoring-per-game/sort/threePointFieldGoalPct/qualified/false\" title=\"3-Point Field Goal Percentage\">3P%</a></td>, <td><span title=\"Free Throws Made-Attempted Per Game\">FTM-FTA</span></td>, <td><a href=\"http://espn.go.com/nba/statistics/player/_/stat/scoring-per-game/sort/freeThrowPct/qualified/false\" title=\"Free Throws Percentage\">FT%</a></td>]\n"
     ]
    }
   ],
   "source": [
    "table_head = table.find(attrs={\"class\":'colhead'})\n",
    "header_cols = table_head.findAll('td')\n",
    "print header_cols"
   ]
  },
  {
   "cell_type": "markdown",
   "metadata": {},
   "source": [
    "Finally, we step through these columns and save them to a list to be used later.  We'll ignore the rank column (RK) because that doesn't give us anything we want later.  We also separate the **PLAYER** column into **PLAYER** and **POSITION**."
   ]
  },
  {
   "cell_type": "code",
   "execution_count": null,
   "metadata": {
    "collapsed": false
   },
   "outputs": [],
   "source": [
    "cols = []\n",
    "for header_col in header_cols:\n",
    "    val = header_col.string\n",
    "    if val != 'RK':\n",
    "        cols.append(val)\n",
    "    if val == 'PLAYER':\n",
    "        cols.append('POSITION')\n",
    "print cols"
   ]
  },
  {
   "cell_type": "markdown",
   "metadata": {},
   "source": [
    "### Stepping Through a Table\n",
    "\n",
    "The table rows are indicated by the tag 'tr'.  Again we can find them all and iterate through them.  Within each row we iterate through the respective columns."
   ]
  },
  {
   "cell_type": "code",
   "execution_count": 14,
   "metadata": {
    "collapsed": false
   },
   "outputs": [
    {
     "name": "stdout",
     "output_type": "stream",
     "text": [
      "[<tr align=\"right\" class=\"colhead\"><td align=\"left\" style=\"width:20px;\">RK</td><td align=\"left\">PLAYER</td><td align=\"left\">TEAM</td><td><a href=\"http://espn.go.com/nba/statistics/player/_/stat/scoring-per-game/sort/gamesPlayed/qualified/false\" title=\"Games Played\">GP</a></td><td><a href=\"http://espn.go.com/nba/statistics/player/_/stat/scoring-per-game/sort/avgMinutes/qualified/false\" title=\"Minutes Per Game\">MPG</a></td><td><a href=\"http://espn.go.com/nba/statistics/player/_/stat/scoring-per-game/sort/avgPoints/qualified/false/order/false\" title=\"Points Per Game\">PTS</a></td><td><span title=\"Field Goals Made-Attempted Per Game\">FGM-FGA</span></td><td><a href=\"http://espn.go.com/nba/statistics/player/_/stat/scoring-per-game/sort/fieldGoalPct/qualified/false\" title=\"Field Goal Percentage\">FG%</a></td><td><span title=\"3-Point Field Goals Made-Attempted Per Game\">3PM-3PA</span></td><td><a href=\"http://espn.go.com/nba/statistics/player/_/stat/scoring-per-game/sort/threePointFieldGoalPct/qualified/false\" title=\"3-Point Field Goal Percentage\">3P%</a></td><td><span title=\"Free Throws Made-Attempted Per Game\">FTM-FTA</span></td><td><a href=\"http://espn.go.com/nba/statistics/player/_/stat/scoring-per-game/sort/freeThrowPct/qualified/false\" title=\"Free Throws Percentage\">FT%</a></td></tr>, <tr align=\"right\" class=\"oddrow player-46-3975\"><td align=\"left\">1</td><td align=\"left\"><a href=\"http://espn.go.com/nba/player/_/id/3975/stephen-curry\">Stephen Curry</a>, PG</td><td align=\"left\">GS</td><td>7</td><td>33.3</td><td class=\"sortcell\">33.9</td><td>11.1-20.1</td><td>.553</td><td>5.4-11.4</td><td>.475</td><td>6.1-6.7</td><td>.915</td></tr>, <tr align=\"right\" class=\"evenrow player-46-3202\"><td align=\"left\">2</td><td align=\"left\"><a href=\"http://espn.go.com/nba/player/_/id/3202/kevin-durant\">Kevin Durant</a>, SF</td><td align=\"left\">OKC</td><td>7</td><td>37.3</td><td class=\"sortcell\">30.1</td><td>10.4-20.7</td><td>.503</td><td>2.7-6.4</td><td>.422</td><td>6.6-7.4</td><td>.885</td></tr>, <tr align=\"right\" class=\"oddrow player-46-3992\"><td align=\"left\">3</td><td align=\"left\"><a href=\"http://espn.go.com/nba/player/_/id/3992/james-harden\">James Harden</a>, SG</td><td align=\"left\">HOU</td><td>7</td><td>39.4</td><td class=\"sortcell\">29.7</td><td>8.1-21.6</td><td>.377</td><td>2.6-10.7</td><td>.240</td><td>10.9-12.7</td><td>.854</td></tr>, <tr align=\"right\" class=\"evenrow player-46-3989\"><td align=\"left\">4</td><td align=\"left\"><a href=\"http://espn.go.com/nba/player/_/id/3989/blake-griffin\">Blake Griffin</a>, PF</td><td align=\"left\">LAC</td><td>6</td><td>35.2</td><td class=\"sortcell\">29.3</td><td>11.7-19.5</td><td>.598</td><td>0.0-0.5</td><td>.000</td><td>6.0-7.7</td><td>.783</td></tr>, <tr align=\"right\" class=\"oddrow player-46-6606\"><td align=\"left\">5</td><td align=\"left\"><a href=\"http://espn.go.com/nba/player/_/id/6606/damian-lillard\">Damian Lillard</a>, PG</td><td align=\"left\">POR</td><td>7</td><td>36.4</td><td class=\"sortcell\">27.1</td><td>9.7-20.4</td><td>.476</td><td>3.9-9.0</td><td>.429</td><td>3.9-4.4</td><td>.871</td></tr>, <tr align=\"right\" class=\"evenrow player-46-3468\"><td align=\"left\">6</td><td align=\"left\"><a href=\"http://espn.go.com/nba/player/_/id/3468/russell-westbrook\">Russell Westbrook</a>, PG</td><td align=\"left\">OKC</td><td>7</td><td>35.7</td><td class=\"sortcell\">26.3</td><td>10.0-21.0</td><td>.476</td><td>1.6-5.0</td><td>.314</td><td>4.7-5.6</td><td>.846</td></tr>, <tr align=\"right\" class=\"oddrow player-46-6583\"><td align=\"left\">7</td><td align=\"left\"><a href=\"http://espn.go.com/nba/player/_/id/6583/anthony-davis\">Anthony Davis</a>, PF</td><td align=\"left\">NO</td><td>6</td><td>38.2</td><td class=\"sortcell\">25.2</td><td>8.3-18.0</td><td>.463</td><td>0.8-2.3</td><td>.357</td><td>7.7-10.2</td><td>.754</td></tr>, <tr align=\"right\" class=\"evenrow player-46-1966\"><td align=\"left\">8</td><td align=\"left\"><a href=\"http://espn.go.com/nba/player/_/id/1966/lebron-james\">LeBron James</a>, SF</td><td align=\"left\">CLE</td><td>7</td><td>34.4</td><td class=\"sortcell\">24.4</td><td>9.9-20.1</td><td>.489</td><td>0.7-3.7</td><td>.192</td><td>4.0-6.7</td><td>.596</td></tr>, <tr align=\"right\" class=\"oddrow player-46-6443\"><td align=\"left\">9</td><td align=\"left\"><a href=\"http://espn.go.com/nba/player/_/id/6443/reggie-jackson\">Reggie Jackson</a>, PG</td><td align=\"left\">DET</td><td>6</td><td>33.2</td><td class=\"sortcell\">23.2</td><td>8.5-18.7</td><td>.455</td><td>1.7-3.7</td><td>.455</td><td>4.5-5.7</td><td>.794</td></tr>, <tr align=\"right\" class=\"evenrow player-46-4251\"><td align=\"left\">10</td><td align=\"left\"><a href=\"http://espn.go.com/nba/player/_/id/4251/paul-george\">Paul George</a>, SF</td><td align=\"left\">IND</td><td>7</td><td>35.7</td><td class=\"sortcell\">23.0</td><td>7.6-18.0</td><td>.421</td><td>2.0-6.1</td><td>.326</td><td>5.9-6.9</td><td>.854</td></tr>, <tr align=\"right\" class=\"colhead\"><td align=\"left\" style=\"width:20px;\">RK</td><td align=\"left\">PLAYER</td><td align=\"left\">TEAM</td><td><a href=\"http://espn.go.com/nba/statistics/player/_/stat/scoring-per-game/sort/gamesPlayed/qualified/false\" title=\"Games Played\">GP</a></td><td><a href=\"http://espn.go.com/nba/statistics/player/_/stat/scoring-per-game/sort/avgMinutes/qualified/false\" title=\"Minutes Per Game\">MPG</a></td><td><a href=\"http://espn.go.com/nba/statistics/player/_/stat/scoring-per-game/sort/avgPoints/qualified/false/order/false\" title=\"Points Per Game\">PTS</a></td><td><span title=\"Field Goals Made-Attempted Per Game\">FGM-FGA</span></td><td><a href=\"http://espn.go.com/nba/statistics/player/_/stat/scoring-per-game/sort/fieldGoalPct/qualified/false\" title=\"Field Goal Percentage\">FG%</a></td><td><span title=\"3-Point Field Goals Made-Attempted Per Game\">3PM-3PA</span></td><td><a href=\"http://espn.go.com/nba/statistics/player/_/stat/scoring-per-game/sort/threePointFieldGoalPct/qualified/false\" title=\"3-Point Field Goal Percentage\">3P%</a></td><td><span title=\"Free Throws Made-Attempted Per Game\">FTM-FTA</span></td><td><a href=\"http://espn.go.com/nba/statistics/player/_/stat/scoring-per-game/sort/freeThrowPct/qualified/false\" title=\"Free Throws Percentage\">FT%</a></td></tr>, <tr align=\"right\" class=\"oddrow player-46-6580\"><td align=\"left\">11</td><td align=\"left\"><a href=\"http://espn.go.com/nba/player/_/id/6580/bradley-beal\">Bradley Beal</a>, SG</td><td align=\"left\">WSH</td><td>6</td><td>34.7</td><td class=\"sortcell\">22.7</td><td>8.7-17.8</td><td>.486</td><td>2.7-5.7</td><td>.471</td><td>2.7-3.3</td><td>.800</td></tr>, <tr align=\"right\" class=\"evenrow player-46-6472\"><td align=\"left\">12</td><td align=\"left\"><a href=\"http://espn.go.com/nba/player/_/id/6472/isaiah-thomas\">Isaiah Thomas</a>, PG</td><td align=\"left\">BOS</td><td>5</td><td>29.2</td><td class=\"sortcell\">22.0</td><td>7.0-17.4</td><td>.402</td><td>1.6-5.0</td><td>.320</td><td>6.4-7.0</td><td>.914</td></tr>, <tr align=\"right\" class=\"oddrow player-46-4258\"><td align=\"left\">\\xa0</td><td align=\"left\"><a href=\"http://espn.go.com/nba/player/_/id/4258/demarcus-cousins\">DeMarcus Cousins</a>, PF</td><td align=\"left\">SAC</td><td>3</td><td>26.0</td><td class=\"sortcell\">22.0</td><td>7.0-16.7</td><td>.420</td><td>1.3-3.3</td><td>.400</td><td>6.7-9.0</td><td>.741</td></tr>, <tr align=\"right\" class=\"evenrow player-46-4238\"><td align=\"left\">14</td><td align=\"left\"><a href=\"http://espn.go.com/nba/player/_/id/4238/eric-bledsoe\">Eric Bledsoe</a>, PG</td><td align=\"left\">PHX</td><td>7</td><td>34.4</td><td class=\"sortcell\">21.9</td><td>7.9-17.4</td><td>.451</td><td>1.3-3.7</td><td>.346</td><td>4.9-6.3</td><td>.773</td></tr>, <tr align=\"right\" class=\"oddrow player-46-6450\"><td align=\"left\">15</td><td align=\"left\"><a href=\"http://espn.go.com/nba/player/_/id/6450/kawhi-leonard\">Kawhi Leonard</a>, SF</td><td align=\"left\">SA</td><td>6</td><td>33.3</td><td class=\"sortcell\">21.8</td><td>9.2-18.3</td><td>.500</td><td>1.0-3.3</td><td>.300</td><td>2.5-2.7</td><td>.938</td></tr>, <tr align=\"right\" class=\"evenrow player-46-2490149\"><td align=\"left\">16</td><td align=\"left\"><a href=\"http://espn.go.com/nba/player/_/id/2490149/c.j.-mccollum\">C.J. McCollum</a>, SG</td><td align=\"left\">POR</td><td>7</td><td>34.3</td><td class=\"sortcell\">21.6</td><td>8.4-17.9</td><td>.472</td><td>2.6-6.1</td><td>.419</td><td>2.1-2.6</td><td>.833</td></tr>, <tr align=\"right\" class=\"oddrow player-46-1975\"><td align=\"left\">17</td><td align=\"left\"><a href=\"http://espn.go.com/nba/player/_/id/1975/carmelo-anthony\">Carmelo Anthony</a>, SF</td><td align=\"left\">NY</td><td>7</td><td>34.0</td><td class=\"sortcell\">21.4</td><td>7.0-18.9</td><td>.371</td><td>1.6-4.9</td><td>.324</td><td>5.9-6.4</td><td>.911</td></tr>, <tr align=\"right\" class=\"evenrow player-46-3978\"><td align=\"left\">\\xa0</td><td align=\"left\"><a href=\"http://espn.go.com/nba/player/_/id/3978/demar-derozan\">DeMar DeRozan</a>, SG</td><td align=\"left\">TOR</td><td>7</td><td>36.0</td><td class=\"sortcell\">21.4</td><td>6.3-15.0</td><td>.419</td><td>0.3-1.6</td><td>.182</td><td>8.6-10.4</td><td>.822</td></tr>, <tr align=\"right\" class=\"oddrow player-46-3448\"><td align=\"left\">19</td><td align=\"left\"><a href=\"http://espn.go.com/nba/player/_/id/3448/brook-lopez\">Brook Lopez</a>, C</td><td align=\"left\">BKN</td><td>7</td><td>33.1</td><td class=\"sortcell\">20.4</td><td>7.7-14.4</td><td>.535</td><td>0.0-0.3</td><td>.000</td><td>5.0-6.0</td><td>.833</td></tr>, <tr align=\"right\" class=\"evenrow player-46-6585\"><td align=\"left\">20</td><td align=\"left\"><a href=\"http://espn.go.com/nba/player/_/id/6585/andre-drummond\">Andre Drummond</a>, C</td><td align=\"left\">DET</td><td>6</td><td>38.0</td><td class=\"sortcell\">20.3</td><td>8.3-15.2</td><td>.549</td><td>0.0-0.0</td><td>.000</td><td>3.7-8.7</td><td>.423</td></tr>, <tr align=\"right\" class=\"colhead\"><td align=\"left\" style=\"width:20px;\">RK</td><td align=\"left\">PLAYER</td><td align=\"left\">TEAM</td><td><a href=\"http://espn.go.com/nba/statistics/player/_/stat/scoring-per-game/sort/gamesPlayed/qualified/false\" title=\"Games Played\">GP</a></td><td><a href=\"http://espn.go.com/nba/statistics/player/_/stat/scoring-per-game/sort/avgMinutes/qualified/false\" title=\"Minutes Per Game\">MPG</a></td><td><a href=\"http://espn.go.com/nba/statistics/player/_/stat/scoring-per-game/sort/avgPoints/qualified/false/order/false\" title=\"Points Per Game\">PTS</a></td><td><span title=\"Field Goals Made-Attempted Per Game\">FGM-FGA</span></td><td><a href=\"http://espn.go.com/nba/statistics/player/_/stat/scoring-per-game/sort/fieldGoalPct/qualified/false\" title=\"Field Goal Percentage\">FG%</a></td><td><span title=\"3-Point Field Goals Made-Attempted Per Game\">3PM-3PA</span></td><td><a href=\"http://espn.go.com/nba/statistics/player/_/stat/scoring-per-game/sort/threePointFieldGoalPct/qualified/false\" title=\"3-Point Field Goal Percentage\">3P%</a></td><td><span title=\"Free Throws Made-Attempted Per Game\">FTM-FTA</span></td><td><a href=\"http://espn.go.com/nba/statistics/player/_/stat/scoring-per-game/sort/freeThrowPct/qualified/false\" title=\"Free Throws Percentage\">FT%</a></td></tr>, <tr align=\"right\" class=\"oddrow player-46-6430\"><td align=\"left\">21</td><td align=\"left\"><a href=\"http://espn.go.com/nba/player/_/id/6430/jimmy-butler\">Jimmy Butler</a>, SG</td><td align=\"left\">CHI</td><td>7</td><td>36.7</td><td class=\"sortcell\">20.1</td><td>6.6-15.0</td><td>.438</td><td>1.7-4.0</td><td>.429</td><td>5.3-6.7</td><td>.787</td></tr>, <tr align=\"right\" class=\"evenrow player-46-3135048\"><td align=\"left\">22</td><td align=\"left\"><a href=\"http://espn.go.com/nba/player/_/id/3135048/jahlil-okafor\">Jahlil Okafor</a>, C</td><td align=\"left\">PHI</td><td>6</td><td>34.3</td><td class=\"sortcell\">19.7</td><td>8.2-15.5</td><td>.527</td><td>0.0-0.0</td><td>.000</td><td>3.3-4.8</td><td>.690</td></tr>, <tr align=\"right\" class=\"oddrow player-46-3032977\"><td align=\"left\">23</td><td align=\"left\"><a href=\"http://espn.go.com/nba/player/_/id/3032977/giannis-antetokounmpo\">Giannis Antetokounmpo</a>, SF</td><td align=\"left\">MIL</td><td>6</td><td>37.0</td><td class=\"sortcell\">19.3</td><td>7.2-12.5</td><td>.573</td><td>0.8-1.8</td><td>.455</td><td>4.2-4.8</td><td>.862</td></tr>, <tr align=\"right\" class=\"evenrow player-46-4237\"><td align=\"left\">24</td><td align=\"left\"><a href=\"http://espn.go.com/nba/player/_/id/4237/john-wall\">John Wall</a>, PG</td><td align=\"left\">WSH</td><td>6</td><td>34.8</td><td class=\"sortcell\">19.2</td><td>6.5-15.7</td><td>.415</td><td>1.3-4.7</td><td>.286</td><td>4.8-6.3</td><td>.763</td></tr>, <tr align=\"right\" class=\"oddrow player-46-1987\"><td align=\"left\">25</td><td align=\"left\"><a href=\"http://espn.go.com/nba/player/_/id/1987/dwyane-wade\">Dwyane Wade</a>, SG</td><td align=\"left\">MIA</td><td>7</td><td>29.3</td><td class=\"sortcell\">18.9</td><td>6.9-15.6</td><td>.440</td><td>0.9-2.1</td><td>.400</td><td>4.3-5.3</td><td>.811</td></tr>, <tr align=\"right\" class=\"evenrow player-46-2394\"><td align=\"left\">26</td><td align=\"left\"><a href=\"http://espn.go.com/nba/player/_/id/2394/kevin-martin\">Kevin Martin</a>, SG</td><td align=\"left\">MIN</td><td>4</td><td>28.0</td><td class=\"sortcell\">18.8</td><td>5.3-11.5</td><td>.457</td><td>0.8-3.3</td><td>.231</td><td>7.5-8.8</td><td>.857</td></tr>, <tr align=\"right\" class=\"oddrow player-46-6588\"><td align=\"left\">27</td><td align=\"left\"><a href=\"http://espn.go.com/nba/player/_/id/6588/evan-fournier\">Evan Fournier</a>, SF</td><td align=\"left\">ORL</td><td>7</td><td>37.6</td><td class=\"sortcell\">18.7</td><td>7.1-15.3</td><td>.467</td><td>2.1-5.7</td><td>.375</td><td>2.3-3.0</td><td>.762</td></tr>, <tr align=\"right\" class=\"evenrow player-46-3428\"><td align=\"left\">\\xa0</td><td align=\"left\"><a href=\"http://espn.go.com/nba/player/_/id/3428/danilo-gallinari\">Danilo Gallinari</a>, SF</td><td align=\"left\">DEN</td><td>6</td><td>33.7</td><td class=\"sortcell\">18.7</td><td>5.5-13.0</td><td>.423</td><td>1.2-3.2</td><td>.368</td><td>6.5-7.3</td><td>.886</td></tr>, <tr align=\"right\" class=\"oddrow player-46-3012\"><td align=\"left\">29</td><td align=\"left\"><a href=\"http://espn.go.com/nba/player/_/id/3012/kyle-lowry\">Kyle Lowry</a>, PG</td><td align=\"left\">TOR</td><td>7</td><td>34.6</td><td class=\"sortcell\">18.3</td><td>5.7-14.1</td><td>.404</td><td>2.1-5.4</td><td>.395</td><td>4.7-5.7</td><td>.825</td></tr>, <tr align=\"right\" class=\"evenrow player-46-4260\"><td align=\"left\">30</td><td align=\"left\"><a href=\"http://espn.go.com/nba/player/_/id/4260/greg-monroe\">Greg Monroe</a>, C</td><td align=\"left\">MIL</td><td>7</td><td>33.0</td><td class=\"sortcell\">18.1</td><td>7.1-13.4</td><td>.532</td><td>0.0-0.0</td><td>.000</td><td>3.9-4.7</td><td>.818</td></tr>, <tr align=\"right\" class=\"colhead\"><td align=\"left\" style=\"width:20px;\">RK</td><td align=\"left\">PLAYER</td><td align=\"left\">TEAM</td><td><a href=\"http://espn.go.com/nba/statistics/player/_/stat/scoring-per-game/sort/gamesPlayed/qualified/false\" title=\"Games Played\">GP</a></td><td><a href=\"http://espn.go.com/nba/statistics/player/_/stat/scoring-per-game/sort/avgMinutes/qualified/false\" title=\"Minutes Per Game\">MPG</a></td><td><a href=\"http://espn.go.com/nba/statistics/player/_/stat/scoring-per-game/sort/avgPoints/qualified/false/order/false\" title=\"Points Per Game\">PTS</a></td><td><span title=\"Field Goals Made-Attempted Per Game\">FGM-FGA</span></td><td><a href=\"http://espn.go.com/nba/statistics/player/_/stat/scoring-per-game/sort/fieldGoalPct/qualified/false\" title=\"Field Goal Percentage\">FG%</a></td><td><span title=\"3-Point Field Goals Made-Attempted Per Game\">3PM-3PA</span></td><td><a href=\"http://espn.go.com/nba/statistics/player/_/stat/scoring-per-game/sort/threePointFieldGoalPct/qualified/false\" title=\"3-Point Field Goal Percentage\">3P%</a></td><td><span title=\"Free Throws Made-Attempted Per Game\">FTM-FTA</span></td><td><a href=\"http://espn.go.com/nba/statistics/player/_/stat/scoring-per-game/sort/freeThrowPct/qualified/false\" title=\"Free Throws Percentage\">FT%</a></td></tr>, <tr align=\"right\" class=\"oddrow player-46-4015\"><td align=\"left\">31</td><td align=\"left\"><a href=\"http://espn.go.com/nba/player/_/id/4015/jeff-teague\">Jeff Teague</a>, PG</td><td align=\"left\">ATL</td><td>8</td><td>31.1</td><td class=\"sortcell\">18.0</td><td>6.0-14.5</td><td>.414</td><td>1.0-3.1</td><td>.320</td><td>5.0-5.9</td><td>.851</td></tr>, <tr align=\"right\" class=\"evenrow player-46-6448\"><td align=\"left\">32</td><td align=\"left\"><a href=\"http://espn.go.com/nba/player/_/id/6448/brandon-knight\">Brandon Knight</a>, PG</td><td align=\"left\">PHX</td><td>7</td><td>35.1</td><td class=\"sortcell\">17.9</td><td>6.9-16.4</td><td>.417</td><td>2.3-6.7</td><td>.340</td><td>1.9-2.1</td><td>.867</td></tr>, <tr align=\"right\" class=\"oddrow player-46-3431\"><td align=\"left\">33</td><td align=\"left\"><a href=\"http://espn.go.com/nba/player/_/id/3431/eric-gordon\">Eric Gordon</a>, SG</td><td align=\"left\">NO</td><td>6</td><td>36.2</td><td class=\"sortcell\">17.8</td><td>6.2-15.0</td><td>.411</td><td>3.0-7.8</td><td>.383</td><td>2.5-3.0</td><td>.833</td></tr>, <tr align=\"right\" class=\"evenrow player-46-3059319\"><td align=\"left\">34</td><td align=\"left\"><a href=\"http://espn.go.com/nba/player/_/id/3059319/andrew-wiggins\">Andrew Wiggins</a>, SG</td><td align=\"left\">MIN</td><td>5</td><td>31.2</td><td class=\"sortcell\">17.2</td><td>5.6-17.0</td><td>.329</td><td>1.0-2.8</td><td>.357</td><td>5.0-7.0</td><td>.714</td></tr>, <tr align=\"right\" class=\"oddrow player-46-6479\"><td align=\"left\">\\xa0</td><td align=\"left\"><a href=\"http://espn.go.com/nba/player/_/id/6479/kemba-walker\">Kemba Walker</a>, PG</td><td align=\"left\">CHA</td><td>6</td><td>31.0</td><td class=\"sortcell\">17.2</td><td>5.8-13.0</td><td>.449</td><td>1.3-3.5</td><td>.381</td><td>4.2-4.8</td><td>.862</td></tr>, <tr align=\"right\" class=\"evenrow player-46-3005\"><td align=\"left\">36</td><td align=\"left\"><a href=\"http://espn.go.com/nba/player/_/id/3005/rudy-gay\">Rudy Gay</a>, SF</td><td align=\"left\">SAC</td><td>7</td><td>30.9</td><td class=\"sortcell\">17.1</td><td>7.0-17.3</td><td>.405</td><td>1.1-3.1</td><td>.364</td><td>2.0-2.7</td><td>.737</td></tr>, <tr align=\"right\" class=\"oddrow player-46-3213\"><td align=\"left\">37</td><td align=\"left\"><a href=\"http://espn.go.com/nba/player/_/id/3213/al-horford\">Al Horford</a>, PF</td><td align=\"left\">ATL</td><td>8</td><td>31.6</td><td class=\"sortcell\">17.0</td><td>7.3-14.1</td><td>.513</td><td>0.8-3.1</td><td>.240</td><td>1.8-2.0</td><td>.875</td></tr>, <tr align=\"right\" class=\"evenrow player-46-3449\"><td align=\"left\">\\xa0</td><td align=\"left\"><a href=\"http://espn.go.com/nba/player/_/id/3449/kevin-love\">Kevin Love</a>, PF</td><td align=\"left\">CLE</td><td>7</td><td>33.0</td><td class=\"sortcell\">17.0</td><td>6.3-15.3</td><td>.411</td><td>2.0-6.7</td><td>.298</td><td>2.4-2.6</td><td>.944</td></tr>, <tr align=\"right\" class=\"oddrow player-46-609\"><td align=\"left\">\\xa0</td><td align=\"left\"><a href=\"http://espn.go.com/nba/player/_/id/609/dirk-nowitzki\">Dirk Nowitzki</a>, PF</td><td align=\"left\">DAL</td><td>6</td><td>28.0</td><td class=\"sortcell\">17.0</td><td>6.5-12.7</td><td>.513</td><td>1.7-3.3</td><td>.500</td><td>2.3-2.5</td><td>.933</td></tr>, <tr align=\"right\" class=\"evenrow player-46-6462\"><td align=\"left\">\\xa0</td><td align=\"left\"><a href=\"http://espn.go.com/nba/player/_/id/6462/marcus-morris\">Marcus Morris</a>, PF</td><td align=\"left\">DET</td><td>6</td><td>38.2</td><td class=\"sortcell\">17.0</td><td>6.0-14.5</td><td>.414</td><td>1.3-4.0</td><td>.333</td><td>3.7-5.0</td><td>.733</td></tr>]\n"
     ]
    }
   ],
   "source": [
    "table_rows = table.findAll('tr')\n",
    "print table_rows"
   ]
  },
  {
   "cell_type": "markdown",
   "metadata": {},
   "source": [
    "We will save our results in 2 different ways to demonstrate how we can handle both.  The first will be a list of dicts where the key is the field name and the value is the field value.  The second will just be a list of lists of stats with no field name values (we've already defined them earlier)."
   ]
  },
  {
   "cell_type": "code",
   "execution_count": 15,
   "metadata": {
    "collapsed": false
   },
   "outputs": [
    {
     "ename": "NameError",
     "evalue": "name 'cols' is not defined",
     "output_type": "error",
     "traceback": [
      "\u001b[0;31m---------------------------------------------------------------------------\u001b[0m",
      "\u001b[0;31mNameError\u001b[0m                                 Traceback (most recent call last)",
      "\u001b[0;32m<ipython-input-15-62b001b1634c>\u001b[0m in \u001b[0;36m<module>\u001b[0;34m()\u001b[0m\n\u001b[1;32m     17\u001b[0m         \u001b[0mplayer_stats\u001b[0m\u001b[0;34m.\u001b[0m\u001b[0mappend\u001b[0m\u001b[0;34m(\u001b[0m\u001b[0mstat\u001b[0m\u001b[0;34m)\u001b[0m\u001b[0;34m\u001b[0m\u001b[0m\n\u001b[1;32m     18\u001b[0m     \u001b[0mplayers_stats_array\u001b[0m\u001b[0;34m.\u001b[0m\u001b[0mappend\u001b[0m\u001b[0;34m(\u001b[0m\u001b[0mplayer_stats\u001b[0m\u001b[0;34m)\u001b[0m\u001b[0;34m\u001b[0m\u001b[0m\n\u001b[0;32m---> 19\u001b[0;31m     \u001b[0mplayer_stats\u001b[0m \u001b[0;34m=\u001b[0m \u001b[0mdict\u001b[0m\u001b[0;34m(\u001b[0m\u001b[0mzip\u001b[0m\u001b[0;34m(\u001b[0m\u001b[0mcols\u001b[0m\u001b[0;34m,\u001b[0m \u001b[0mplayer_stats\u001b[0m\u001b[0;34m)\u001b[0m\u001b[0;34m)\u001b[0m\u001b[0;34m\u001b[0m\u001b[0m\n\u001b[0m\u001b[1;32m     20\u001b[0m     \u001b[0mplayers_stats_dicts\u001b[0m\u001b[0;34m.\u001b[0m\u001b[0mappend\u001b[0m\u001b[0;34m(\u001b[0m\u001b[0mplayer_stats\u001b[0m\u001b[0;34m)\u001b[0m\u001b[0;34m\u001b[0m\u001b[0m\n\u001b[1;32m     21\u001b[0m \u001b[0;32mprint\u001b[0m \u001b[0mplayers_stats_dicts\u001b[0m\u001b[0;34m[\u001b[0m\u001b[0;36m0\u001b[0m\u001b[0;34m:\u001b[0m\u001b[0;36m5\u001b[0m\u001b[0;34m]\u001b[0m\u001b[0;34m\u001b[0m\u001b[0m\n",
      "\u001b[0;31mNameError\u001b[0m: name 'cols' is not defined"
     ]
    }
   ],
   "source": [
    "players_stats_dicts = []\n",
    "players_stats_array = []\n",
    "for row in table_rows:\n",
    "    if row.attrs['class'][0]=='colhead':\n",
    "        continue\n",
    "    player_stats = []\n",
    "    row_cols = row.find_all('td')\n",
    "    col_vals = []\n",
    "    player_col = row_cols[1]\n",
    "    player_name = player_col.find('a').string\n",
    "    player_position = player_col.contents[1]\n",
    "    player_position = player_position.split(' ')[1]\n",
    "    player_stats.append(player_name)\n",
    "    player_stats.append(player_position)\n",
    "    for i in range(2, len(row_cols)):\n",
    "        stat = row_cols[i].string\n",
    "        player_stats.append(stat)\n",
    "    players_stats_array.append(player_stats)\n",
    "    player_stats = dict(zip(cols, player_stats))\n",
    "    players_stats_dicts.append(player_stats)\n",
    "print players_stats_dicts[0:5]        "
   ]
  },
  {
   "cell_type": "markdown",
   "metadata": {},
   "source": [
    "Here we've used the zip function to combine pairs of lists into tuples, and then transformed that into a dict to get a dictionary of FIELD --> VALUE for every player in the table.\n",
    "\n",
    "Beautiful Soup has many other features, including the ability to step up, down, and sideways in the HTML tree and basically search for any tags, attributes, or values.  For more, take a look at the [Documentation](http://www.crummy.com/software/BeautifulSoup/bs4/doc/)"
   ]
  },
  {
   "cell_type": "markdown",
   "metadata": {},
   "source": [
    "## Load into Pandas\n",
    "\n",
    "Let's load our scraped data into Pandas and take a look at it.  Here is the first way we can do it, simply directly from the dictionary we defined."
   ]
  },
  {
   "cell_type": "code",
   "execution_count": null,
   "metadata": {
    "collapsed": false
   },
   "outputs": [],
   "source": [
    "import pandas as pd\n",
    "import numpy as np\n",
    "\n",
    "df = pd.DataFrame.from_dict(players_stats_dicts)\n",
    "df.head()"
   ]
  },
  {
   "cell_type": "markdown",
   "metadata": {},
   "source": [
    "Now here is a 2nd way we can do it.  We convert the 2D stats array into a numpy array and create a Pandas dataframe from it along with the list of column headers we defined earlier."
   ]
  },
  {
   "cell_type": "code",
   "execution_count": null,
   "metadata": {
    "collapsed": false
   },
   "outputs": [],
   "source": [
    "np_array = np.array(players_stats_array)\n",
    "df = pd.DataFrame(np_array, columns=cols)\n",
    "df.head()"
   ]
  },
  {
   "cell_type": "markdown",
   "metadata": {},
   "source": [
    "## Exercise\n",
    "\n",
    "The goal of this exercise is to combine the scoring and assists statistics for every player in the NBA in 2014-2015.  The end result will have them in a pandas dataframe with the fields from both pages for every player.\n",
    "\n",
    "The general steps should be as follows:\n",
    "- Create a function get_cols that retrieves the names of the header columns given a table element (skip the ranks, split the positions)\n",
    "- Create a function get_data that retrieves the actual table data given a table element (skip the ranks, split the positions).  You can use either the dict approach or the numpy array approach.\n",
    "- Write a python loop to loop through the various pages and call these functions on the appropriate urls so that you can retrieve every player (rather than just the top few).\n",
    "- Repeat the above on both the scoring and assists URLs to get a pandas dataframe for both of them\n",
    "- Use the pandas.DataFrame.merge() function to join your 2 pandas dataframes together and get a total result"
   ]
  },
  {
   "cell_type": "code",
   "execution_count": 39,
   "metadata": {
    "collapsed": false
   },
   "outputs": [
    {
     "ename": "AttributeError",
     "evalue": "'NoneType' object has no attribute 'findAll'",
     "output_type": "error",
     "traceback": [
      "\u001b[0;31m---------------------------------------------------------------------------\u001b[0m",
      "\u001b[0;31mAttributeError\u001b[0m                            Traceback (most recent call last)",
      "\u001b[0;32m<ipython-input-39-298ecbe45443>\u001b[0m in \u001b[0;36m<module>\u001b[0;34m()\u001b[0m\n\u001b[1;32m     74\u001b[0m \u001b[0;34m\u001b[0m\u001b[0m\n\u001b[1;32m     75\u001b[0m \u001b[0;32mfor\u001b[0m \u001b[0murl\u001b[0m \u001b[0;32min\u001b[0m \u001b[0murls\u001b[0m\u001b[0;34m:\u001b[0m\u001b[0;34m\u001b[0m\u001b[0m\n\u001b[0;32m---> 76\u001b[0;31m     \u001b[0mmain_data\u001b[0m\u001b[0;34m.\u001b[0m\u001b[0mappend\u001b[0m\u001b[0;34m(\u001b[0m\u001b[0mloop_over_data_url\u001b[0m\u001b[0;34m(\u001b[0m\u001b[0murl\u001b[0m\u001b[0;34m)\u001b[0m\u001b[0;34m)\u001b[0m\u001b[0;34m\u001b[0m\u001b[0m\n\u001b[0m\u001b[1;32m     77\u001b[0m \u001b[0;34m\u001b[0m\u001b[0m\n\u001b[1;32m     78\u001b[0m \u001b[0;32mprint\u001b[0m \u001b[0;34m\"Scoring df:\"\u001b[0m\u001b[0;34m\u001b[0m\u001b[0m\n",
      "\u001b[0;32m<ipython-input-39-298ecbe45443>\u001b[0m in \u001b[0;36mloop_over_data_url\u001b[0;34m(url)\u001b[0m\n\u001b[1;32m     22\u001b[0m         \u001b[0mtable\u001b[0m \u001b[0;34m=\u001b[0m \u001b[0mtable_div\u001b[0m\u001b[0;34m.\u001b[0m\u001b[0mfind\u001b[0m\u001b[0;34m(\u001b[0m\u001b[0;34m\"table\"\u001b[0m\u001b[0;34m)\u001b[0m\u001b[0;34m\u001b[0m\u001b[0m\n\u001b[1;32m     23\u001b[0m \u001b[0;34m\u001b[0m\u001b[0m\n\u001b[0;32m---> 24\u001b[0;31m         \u001b[0mdata\u001b[0m\u001b[0;34m.\u001b[0m\u001b[0mappend\u001b[0m\u001b[0;34m(\u001b[0m\u001b[0mget_data\u001b[0m\u001b[0;34m(\u001b[0m\u001b[0mtable\u001b[0m\u001b[0;34m)\u001b[0m\u001b[0;34m)\u001b[0m\u001b[0;34m\u001b[0m\u001b[0m\n\u001b[0m\u001b[1;32m     25\u001b[0m \u001b[0;34m\u001b[0m\u001b[0m\n\u001b[1;32m     26\u001b[0m         \u001b[0mpagenum\u001b[0m \u001b[0;34m=\u001b[0m \u001b[0;34m(\u001b[0m\u001b[0mpagenum\u001b[0m \u001b[0;34m+\u001b[0m \u001b[0mpagenum_index\u001b[0m\u001b[0;34m)\u001b[0m\u001b[0;34m\u001b[0m\u001b[0m\n",
      "\u001b[0;32m<ipython-input-39-298ecbe45443>\u001b[0m in \u001b[0;36mget_data\u001b[0;34m(table)\u001b[0m\n\u001b[1;32m     46\u001b[0m \u001b[0;32mdef\u001b[0m \u001b[0mget_data\u001b[0m\u001b[0;34m(\u001b[0m\u001b[0mtable\u001b[0m\u001b[0;34m)\u001b[0m\u001b[0;34m:\u001b[0m\u001b[0;34m\u001b[0m\u001b[0m\n\u001b[1;32m     47\u001b[0m \u001b[0;34m\u001b[0m\u001b[0m\n\u001b[0;32m---> 48\u001b[0;31m     \u001b[0mcols\u001b[0m \u001b[0;34m=\u001b[0m \u001b[0mget_cols\u001b[0m\u001b[0;34m(\u001b[0m\u001b[0mtable\u001b[0m\u001b[0;34m)\u001b[0m\u001b[0;34m\u001b[0m\u001b[0m\n\u001b[0m\u001b[1;32m     49\u001b[0m \u001b[0;34m\u001b[0m\u001b[0m\n\u001b[1;32m     50\u001b[0m     \u001b[0mtable_rows\u001b[0m \u001b[0;34m=\u001b[0m \u001b[0mtable\u001b[0m\u001b[0;34m.\u001b[0m\u001b[0mfindAll\u001b[0m\u001b[0;34m(\u001b[0m\u001b[0;34m'tr'\u001b[0m\u001b[0;34m)\u001b[0m\u001b[0;34m\u001b[0m\u001b[0m\n",
      "\u001b[0;32m<ipython-input-39-298ecbe45443>\u001b[0m in \u001b[0;36mget_cols\u001b[0;34m(table)\u001b[0m\n\u001b[1;32m     33\u001b[0m \u001b[0;32mdef\u001b[0m \u001b[0mget_cols\u001b[0m\u001b[0;34m(\u001b[0m\u001b[0mtable\u001b[0m\u001b[0;34m)\u001b[0m\u001b[0;34m:\u001b[0m\u001b[0;34m\u001b[0m\u001b[0m\n\u001b[1;32m     34\u001b[0m     \u001b[0mtable_head\u001b[0m \u001b[0;34m=\u001b[0m \u001b[0mtable\u001b[0m\u001b[0;34m.\u001b[0m\u001b[0mfind\u001b[0m\u001b[0;34m(\u001b[0m\u001b[0mattrs\u001b[0m\u001b[0;34m=\u001b[0m\u001b[0;34m{\u001b[0m\u001b[0;34m\"class\"\u001b[0m\u001b[0;34m:\u001b[0m\u001b[0;34m'colhead'\u001b[0m\u001b[0;34m}\u001b[0m\u001b[0;34m)\u001b[0m\u001b[0;34m\u001b[0m\u001b[0m\n\u001b[0;32m---> 35\u001b[0;31m     \u001b[0mheader_cols\u001b[0m \u001b[0;34m=\u001b[0m \u001b[0mtable_head\u001b[0m\u001b[0;34m.\u001b[0m\u001b[0mfindAll\u001b[0m\u001b[0;34m(\u001b[0m\u001b[0;34m'td'\u001b[0m\u001b[0;34m)\u001b[0m\u001b[0;34m\u001b[0m\u001b[0m\n\u001b[0m\u001b[1;32m     36\u001b[0m \u001b[0;34m\u001b[0m\u001b[0m\n\u001b[1;32m     37\u001b[0m     \u001b[0mcols\u001b[0m \u001b[0;34m=\u001b[0m \u001b[0;34m[\u001b[0m\u001b[0;34m]\u001b[0m\u001b[0;34m\u001b[0m\u001b[0m\n",
      "\u001b[0;31mAttributeError\u001b[0m: 'NoneType' object has no attribute 'findAll'"
     ]
    }
   ],
   "source": [
    "from bs4 import BeautifulSoup\n",
    "import urllib2\n",
    "import pandas as pd\n",
    "import numpy as np\n",
    "\n",
    "pagenum_index = 41\n",
    "pagenum = 0\n",
    "main_data = []\n",
    "data = []\n",
    "scoring_url = 'http://espn.go.com/nba/statistics/player/_/stat/scoring-per-game/sort/avgPoints/qualified/false/count/'\n",
    "assist_url = 'http://espn.go.com/nba/statistics/player/_/stat/assists/sort/avgAssists/qualified/false/count/'\n",
    "urls = [scoring_url, assist_url]\n",
    "\n",
    "def loop_over_data_url(url):\n",
    "    pagenum = 0\n",
    "    \n",
    "    while True:\n",
    "        page = urllib2.urlopen(url + str(pagenum)).read()\n",
    "        soup = BeautifulSoup(page, \"html.parser\")\n",
    "\n",
    "        table_div = soup.find(id='my-players-table')\n",
    "        table = table_div.find(\"table\")\n",
    "\n",
    "        data.append(get_data(table))\n",
    "\n",
    "        pagenum = (pagenum + pagenum_index)\n",
    "\n",
    "        if pagenum == 401:\n",
    "            break\n",
    "            \n",
    "    return data\n",
    "\n",
    "def get_cols(table):\n",
    "    table_head = table.find(attrs={\"class\":'colhead'})\n",
    "    header_cols = table_head.findAll('td')\n",
    "    \n",
    "    cols = []\n",
    "    for header_col in header_cols:\n",
    "        val = header_col.string\n",
    "        if val != 'RK':\n",
    "            cols.append(val)\n",
    "        if val == 'PLAYER':\n",
    "            cols.append('POSITION')\n",
    "    return cols\n",
    "\n",
    "def get_data(table):\n",
    "    \n",
    "    cols = get_cols(table)\n",
    "    \n",
    "    table_rows = table.findAll('tr')\n",
    "    \n",
    "    players_stats_dicts = []\n",
    "    players_stats_array = []\n",
    "    for row in table_rows:\n",
    "        if row.attrs['class'][0] == 'colhead':\n",
    "            continue\n",
    "        player_stats = []\n",
    "        row_cols = row.find_all('td')\n",
    "        col_vals = []\n",
    "        player_col = row_cols[1]\n",
    "        player_name = player_col.find('a').string\n",
    "        player_position = player_col.contents[1]\n",
    "        player_position = player_position.split(' ')[1]\n",
    "        player_stats.append(player_name)\n",
    "        player_stats.append(player_position)\n",
    "        for i in range(2, len(row_cols)):\n",
    "            stat = row_cols[i].string\n",
    "            player_stats.append(stat)\n",
    "        players_stats_array.append(player_stats)\n",
    "        player_stats = dict(zip(cols, player_stats))\n",
    "        players_stats_dicts.append(player_stats)\n",
    "    return players_stats_dicts\n",
    "\n",
    "\n",
    "for url in urls:\n",
    "    main_data.append(loop_over_data_url(url))\n",
    "\n",
    "print \"Scoring df:\"\n",
    "df = pd.DataFrame.from_dict(main_data[0])\n",
    "df.head()\n",
    "\n",
    "print \"Assist df:\"\n",
    "df = pd.DataFrame.from_dict(main_data[1])\n",
    "df.head()\n"
   ]
  },
  {
   "cell_type": "code",
   "execution_count": null,
   "metadata": {
    "collapsed": true
   },
   "outputs": [],
   "source": []
  },
  {
   "cell_type": "code",
   "execution_count": null,
   "metadata": {
    "collapsed": true
   },
   "outputs": [],
   "source": []
  }
 ],
 "metadata": {
  "kernelspec": {
   "display_name": "Python 2",
   "language": "python",
   "name": "python2"
  },
  "language_info": {
   "codemirror_mode": {
    "name": "ipython",
    "version": 2
   },
   "file_extension": ".py",
   "mimetype": "text/x-python",
   "name": "python",
   "nbconvert_exporter": "python",
   "pygments_lexer": "ipython2",
   "version": "2.7.6"
  }
 },
 "nbformat": 4,
 "nbformat_minor": 0
}
