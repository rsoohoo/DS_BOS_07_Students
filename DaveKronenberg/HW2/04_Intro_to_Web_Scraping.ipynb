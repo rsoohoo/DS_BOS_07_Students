{
 "cells": [
  {
   "cell_type": "markdown",
   "metadata": {},
   "source": [
    "#Web Scraping with Beautiful Soup\n",
    "\n",
    "This tutorial will provide a very basic introduction to using the Beautiful Soup package to scrape text data from the web. \n",
    "\n",
    "##Installation\n",
    "\n",
    "In a terminal, install Beautiful Soup if necessary by running <pre><code>conda install beautiful-soup</code></pre>\n",
    "\n",
    "##Retrieving HTML\n",
    "\n",
    "The general idea behind web scraping is to retrieve data that exists on a website, and convert it into a format that is usable for analysis. Webpages are rendered by the brower from HTML and CSS code, but much of the information included in the HTML underlying any website is not interesting to us.\n",
    "\n",
    "We begin by reading in the source code for a given web page and creating a Beautiful Soup object with the BeautifulSoup function.\n",
    "\n",
    "###urllib2\n",
    "urllib2 is a module for working with urls, we will use it to open connections to urls and retrieve the webpage source."
   ]
  },
  {
   "cell_type": "code",
   "execution_count": 1,
   "metadata": {
    "collapsed": false
   },
   "outputs": [
    {
     "name": "stdout",
     "output_type": "stream",
     "text": [
      "<class 'bs4.BeautifulSoup'>\n"
     ]
    }
   ],
   "source": [
    "from bs4 import BeautifulSoup\n",
    "import urllib2\n",
    "page = urllib2.urlopen('http://espn.go.com/nba/statistics/player/_/stat/scoring-per-game/sort/avgPoints/qualified/false').read()\n",
    "soup = BeautifulSoup(page)\n",
    "print type(soup)"
   ]
  },
  {
   "cell_type": "markdown",
   "metadata": {},
   "source": [
    "The soup object contains all of the HTML in the original document."
   ]
  },
  {
   "cell_type": "code",
   "execution_count": 2,
   "metadata": {
    "collapsed": false
   },
   "outputs": [
    {
     "name": "stdout",
     "output_type": "stream",
     "text": [
      "<!DOCTYPE html>\n",
      "<html xmlns:fb=\"http://www.facebook.com/2008/fbml\">\n",
      " <head>\n",
      "  <script src=\"http://sports-ak.espn.go.com/sports/optimizely.js\">\n",
      "  </script>\n",
      "  <meta charset=\"utf-8\"/>\n",
      "  <meta content=\"IE=edge,chrome=1\" http-equiv=\"X-UA-Compatible\"/>\n",
      "  <link href=\"http://a.espncdn.com/prod/assets/icons/E.svg\" mask=\"\" rel=\"icon\" sizes=\"any\"/>\n",
      "  <meta content=\"#CC0000\" name=\"theme-color\"/>\n",
      "  <script type=\"text/javascript\">\n",
      "   if(true && navigator && navigator.userAgent.toLowerCase().indexOf(\"teamstream\") >= 0) {\n",
      "        window.location = 'http://a.m.espn.go.com/mobilecache/general/apps/sc';\n",
      "    }\n",
      "  </script>\n",
      "  <title>\n",
      "   2015-16 Regular Season NBA Player Stats and League Leaders - Scoring Per Game - National Basketball Association - ESPN\n",
      "  </title>\n",
      "  <meta content=\"xuj1ODRluWa0frM-BjIr_aSHoUC7HB5C1MgmYAM_GkA\" name=\"google-site-verification\"/>\n",
      "  <meta content=\"B1FEB7C682C46C8FCDA3130F3D18AC28\" name=\"msvalidate.01\"/>\n",
      "  <meta content=\"noodp\" name=\"googlebot\"/>\n",
      "  <meta content=\"index, follow\" na\n"
     ]
    }
   ],
   "source": [
    "print soup.prettify()[0:1000]"
   ]
  },
  {
   "cell_type": "markdown",
   "metadata": {},
   "source": [
    "##Parsing HTML\n",
    "\n",
    "By \"parsing HTML\", we mean pulling out only the relevant tags/attributes for our analysis.  What Beautiful Soup does is provide a handy bunch of methods for doing this efficiently.\n",
    "\n",
    "###find method\n",
    "\n",
    "The find method will search for and return the first tag matching your corresponding search criteria, if it exists.  You can specify tag and attribute info etc.  There is also a findAll method that will return a collection of tags matching your query."
   ]
  },
  {
   "cell_type": "code",
   "execution_count": 3,
   "metadata": {
    "collapsed": false
   },
   "outputs": [],
   "source": [
    "table_div = soup.find(id='my-players-table')\n",
    "#print table_div.prettify()[0:4000]"
   ]
  },
  {
   "cell_type": "markdown",
   "metadata": {},
   "source": [
    "Notice that the object returned by the find method is just another inner HTML structure, which we can step through just like we would have with the original soup object.  We've gone to the location in the webpage where the table that we seek starts, now we can use find again to get to the table data."
   ]
  },
  {
   "cell_type": "code",
   "execution_count": 4,
   "metadata": {
    "collapsed": false
   },
   "outputs": [],
   "source": [
    "table = table_div.find(\"table\")"
   ]
  },
  {
   "cell_type": "markdown",
   "metadata": {},
   "source": [
    "###Searching by Attributes\n",
    "\n",
    "Now that we have the table object, we need to step through the rows.  First we'll find the header row so we can populate what the field names will be in our data.  Here we're searching for tags under the table tag whose class attritbute is \"colhead\".  "
   ]
  },
  {
   "cell_type": "code",
   "execution_count": 5,
   "metadata": {
    "collapsed": false
   },
   "outputs": [
    {
     "name": "stdout",
     "output_type": "stream",
     "text": [
      "<tr align=\"right\" class=\"colhead\">\n",
      " <td align=\"left\" style=\"width:20px;\">\n",
      "  RK\n",
      " </td>\n",
      " <td align=\"left\">\n",
      "  PLAYER\n",
      " </td>\n",
      " <td align=\"left\">\n",
      "  TEAM\n",
      " </td>\n",
      " <td>\n",
      "  <a href=\"http://espn.go.com/nba/statistics/player/_/stat/scoring-per-game/sort/gamesPlayed/qualified/false\" title=\"Games Played\">\n",
      "   GP\n",
      "  </a>\n",
      " </td>\n",
      " <td>\n",
      "  <a href=\"http://espn.go.com/nba/statistics/player/_/stat/scoring-per-game/sort/avgMinutes/qualified/false\" title=\"Minutes Per Game\">\n",
      "   MPG\n",
      "  </a>\n",
      " </td>\n",
      " <td>\n",
      "  <a href=\"http://espn.go.com/nba/statistics/player/_/stat/scoring-per-game/sort/avgPoints/qualified/false/order/false\" title=\"Points Per Game\">\n",
      "   PTS\n",
      "  </a>\n",
      " </td>\n",
      " <td>\n",
      "  <span title=\"Field Goals Made-Attempted Per Game\">\n",
      "   FGM-FGA\n",
      "  </span>\n",
      " </td>\n",
      " <td>\n",
      "  <a href=\"http://espn.go.com/nba/statistics/player/_/stat/scoring-per-game/sort/fieldGoalPct/qualified/false\" title=\"Field Goal Percentage\">\n",
      "   FG%\n",
      "  </a>\n",
      " </td>\n",
      " <td>\n",
      "  <span title=\"3-Point Field Goals Made-Attempted Per Game\">\n",
      "   3PM-3PA\n",
      "  </span>\n",
      " </td>\n",
      " <td>\n",
      "  <a href=\"http://espn.go.com/nba/statistics/player/_/stat/scoring-per-game/sort/threePointFieldGoalPct/qualified/false\" title=\"3-Point Field Goal Percentage\">\n",
      "   3P%\n",
      "  </a>\n",
      " </td>\n",
      " <td>\n",
      "  <span title=\"Free Throws Made-Attempted Per Game\">\n",
      "   FTM-FTA\n",
      "  </span>\n",
      " </td>\n",
      " <td>\n",
      "  <a href=\"http://espn.go.com/nba/statistics/player/_/stat/scoring-per-game/sort/freeThrowPct/qualified/false\" title=\"Free Throws Percentage\">\n",
      "   FT%\n",
      "  </a>\n",
      " </td>\n",
      "</tr>\n",
      "\n"
     ]
    }
   ],
   "source": [
    "table_head = table.find(attrs={\"class\":'colhead'})\n",
    "print table_head.prettify()"
   ]
  },
  {
   "cell_type": "markdown",
   "metadata": {},
   "source": [
    "Now we find the actual values by searching for the 'td' tags, which is the tag for table data."
   ]
  },
  {
   "cell_type": "code",
   "execution_count": 6,
   "metadata": {
    "collapsed": false
   },
   "outputs": [
    {
     "name": "stdout",
     "output_type": "stream",
     "text": [
      "[<td align=\"left\" style=\"width:20px;\">RK</td>, <td align=\"left\">PLAYER</td>, <td align=\"left\">TEAM</td>, <td><a href=\"http://espn.go.com/nba/statistics/player/_/stat/scoring-per-game/sort/gamesPlayed/qualified/false\" title=\"Games Played\">GP</a></td>, <td><a href=\"http://espn.go.com/nba/statistics/player/_/stat/scoring-per-game/sort/avgMinutes/qualified/false\" title=\"Minutes Per Game\">MPG</a></td>, <td><a href=\"http://espn.go.com/nba/statistics/player/_/stat/scoring-per-game/sort/avgPoints/qualified/false/order/false\" title=\"Points Per Game\">PTS</a></td>, <td><span title=\"Field Goals Made-Attempted Per Game\">FGM-FGA</span></td>, <td><a href=\"http://espn.go.com/nba/statistics/player/_/stat/scoring-per-game/sort/fieldGoalPct/qualified/false\" title=\"Field Goal Percentage\">FG%</a></td>, <td><span title=\"3-Point Field Goals Made-Attempted Per Game\">3PM-3PA</span></td>, <td><a href=\"http://espn.go.com/nba/statistics/player/_/stat/scoring-per-game/sort/threePointFieldGoalPct/qualified/false\" title=\"3-Point Field Goal Percentage\">3P%</a></td>, <td><span title=\"Free Throws Made-Attempted Per Game\">FTM-FTA</span></td>, <td><a href=\"http://espn.go.com/nba/statistics/player/_/stat/scoring-per-game/sort/freeThrowPct/qualified/false\" title=\"Free Throws Percentage\">FT%</a></td>]\n"
     ]
    }
   ],
   "source": [
    "header_cols = table_head.findAll('td')\n",
    "print header_cols"
   ]
  },
  {
   "cell_type": "markdown",
   "metadata": {},
   "source": [
    "Finally, we step through these columns and save them to a list to be used later.  We'll ignore the rank column (RK) because that doesn't give us anything we want later.  We also separate the **PLAYER** column into **PLAYER** and **POSITION**."
   ]
  },
  {
   "cell_type": "code",
   "execution_count": 7,
   "metadata": {
    "collapsed": false
   },
   "outputs": [
    {
     "name": "stdout",
     "output_type": "stream",
     "text": [
      "[u'PLAYER', 'POSITION', u'TEAM', u'GP', u'MPG', u'PTS', u'FGM-FGA', u'FG%', u'3PM-3PA', u'3P%', u'FTM-FTA', u'FT%']\n"
     ]
    }
   ],
   "source": [
    "cols = []\n",
    "for header_col in header_cols:\n",
    "    val = header_col.string\n",
    "    if val != 'RK':\n",
    "        cols.append(val)\n",
    "    if val == 'PLAYER':\n",
    "        cols.append('POSITION')\n",
    "print cols"
   ]
  },
  {
   "cell_type": "markdown",
   "metadata": {},
   "source": [
    "###Stepping Through a Table\n",
    "\n",
    "The table rows are indicated by the tag 'tr'.  Again we can find them all and iterate through them.  Within each row we iterate through the respective columns."
   ]
  },
  {
   "cell_type": "code",
   "execution_count": 8,
   "metadata": {
    "collapsed": false
   },
   "outputs": [
    {
     "name": "stdout",
     "output_type": "stream",
     "text": [
      "[<tr align=\"right\" class=\"colhead\"><td align=\"left\" style=\"width:20px;\">RK</td><td align=\"left\">PLAYER</td><td align=\"left\">TEAM</td><td><a href=\"http://espn.go.com/nba/statistics/player/_/stat/scoring-per-game/sort/gamesPlayed/qualified/false\" title=\"Games Played\">GP</a></td><td><a href=\"http://espn.go.com/nba/statistics/player/_/stat/scoring-per-game/sort/avgMinutes/qualified/false\" title=\"Minutes Per Game\">MPG</a></td><td><a href=\"http://espn.go.com/nba/statistics/player/_/stat/scoring-per-game/sort/avgPoints/qualified/false/order/false\" title=\"Points Per Game\">PTS</a></td><td><span title=\"Field Goals Made-Attempted Per Game\">FGM-FGA</span></td><td><a href=\"http://espn.go.com/nba/statistics/player/_/stat/scoring-per-game/sort/fieldGoalPct/qualified/false\" title=\"Field Goal Percentage\">FG%</a></td><td><span title=\"3-Point Field Goals Made-Attempted Per Game\">3PM-3PA</span></td><td><a href=\"http://espn.go.com/nba/statistics/player/_/stat/scoring-per-game/sort/threePointFieldGoalPct/qualified/false\" title=\"3-Point Field Goal Percentage\">3P%</a></td><td><span title=\"Free Throws Made-Attempted Per Game\">FTM-FTA</span></td><td><a href=\"http://espn.go.com/nba/statistics/player/_/stat/scoring-per-game/sort/freeThrowPct/qualified/false\" title=\"Free Throws Percentage\">FT%</a></td></tr>, <tr align=\"right\" class=\"oddrow player-46-3975\"><td align=\"left\">1</td><td align=\"left\"><a href=\"http://espn.go.com/nba/player/_/id/3975/stephen-curry\">Stephen Curry</a>, PG</td><td align=\"left\">GS</td><td>5</td><td>32.0</td><td class=\"sortcell\">35.8</td><td>11.6-20.2</td><td>.574</td><td>5.6-10.8</td><td>.519</td><td>7.0-7.4</td><td>.946</td></tr>, <tr align=\"right\" class=\"evenrow player-46-3202\"><td align=\"left\">2</td><td align=\"left\"><a href=\"http://espn.go.com/nba/player/_/id/3202/kevin-durant\">Kevin Durant</a>, SF</td><td align=\"left\">OKC</td><td>6</td><td>38.2</td><td class=\"sortcell\">29.8</td><td>10.2-21.0</td><td>.484</td><td>2.8-6.7</td><td>.425</td><td>6.7-7.5</td><td>.889</td></tr>, <tr align=\"right\" class=\"oddrow player-46-3989\"><td align=\"left\">3</td><td align=\"left\"><a href=\"http://espn.go.com/nba/player/_/id/3989/blake-griffin\">Blake Griffin</a>, PF</td><td align=\"left\">LAC</td><td>5</td><td>34.6</td><td class=\"sortcell\">28.2</td><td>11.2-19.0</td><td>.589</td><td>0.0-0.4</td><td>.000</td><td>5.8-7.6</td><td>.763</td></tr>, <tr align=\"right\" class=\"evenrow player-46-6606\"><td align=\"left\">4</td><td align=\"left\"><a href=\"http://espn.go.com/nba/player/_/id/6606/damian-lillard\">Damian Lillard</a>, PG</td><td align=\"left\">POR</td><td>6</td><td>36.7</td><td class=\"sortcell\">27.3</td><td>10.0-21.3</td><td>.469</td><td>3.8-9.0</td><td>.426</td><td>3.5-4.0</td><td>.875</td></tr>, <tr align=\"right\" class=\"oddrow player-46-3468\"><td align=\"left\">5</td><td align=\"left\"><a href=\"http://espn.go.com/nba/player/_/id/3468/russell-westbrook\">Russell Westbrook</a>, PG</td><td align=\"left\">OKC</td><td>6</td><td>36.0</td><td class=\"sortcell\">27.2</td><td>10.2-21.2</td><td>.480</td><td>1.8-5.3</td><td>.344</td><td>5.0-5.8</td><td>.857</td></tr>, <tr align=\"right\" class=\"evenrow player-46-6580\"><td align=\"left\">6</td><td align=\"left\"><a href=\"http://espn.go.com/nba/player/_/id/6580/bradley-beal\">Bradley Beal</a>, SG</td><td align=\"left\">WSH</td><td>4</td><td>35.3</td><td class=\"sortcell\">25.3</td><td>9.5-20.0</td><td>.475</td><td>3.3-7.0</td><td>.464</td><td>3.0-4.0</td><td>.750</td></tr>, <tr align=\"right\" class=\"oddrow player-46-3992\"><td align=\"left\">7</td><td align=\"left\"><a href=\"http://espn.go.com/nba/player/_/id/3992/james-harden\">James Harden</a>, SG</td><td align=\"left\">HOU</td><td>5</td><td>39.0</td><td class=\"sortcell\">23.8</td><td>6.0-20.4</td><td>.294</td><td>1.8-11.0</td><td>.164</td><td>10.0-11.8</td><td>.847</td></tr>, <tr align=\"right\" class=\"evenrow player-46-6472\"><td align=\"left\">8</td><td align=\"left\"><a href=\"http://espn.go.com/nba/player/_/id/6472/isaiah-thomas\">Isaiah Thomas</a>, PG</td><td align=\"left\">BOS</td><td>4</td><td>30.3</td><td class=\"sortcell\">23.5</td><td>7.5-18.0</td><td>.417</td><td>1.8-5.5</td><td>.318</td><td>6.8-7.3</td><td>.931</td></tr>, <tr align=\"right\" class=\"oddrow player-46-1966\"><td align=\"left\">9</td><td align=\"left\"><a href=\"http://espn.go.com/nba/player/_/id/1966/lebron-james\">LeBron James</a>, SF</td><td align=\"left\">CLE</td><td>5</td><td>33.8</td><td class=\"sortcell\">22.2</td><td>9.4-19.2</td><td>.490</td><td>0.4-3.6</td><td>.111</td><td>3.0-5.4</td><td>.556</td></tr>, <tr align=\"right\" class=\"evenrow player-46-1987\"><td align=\"left\"> </td><td align=\"left\"><a href=\"http://espn.go.com/nba/player/_/id/1987/dwyane-wade\">Dwyane Wade</a>, SG</td><td align=\"left\">MIA</td><td>5</td><td>30.2</td><td class=\"sortcell\">22.2</td><td>8.0-16.2</td><td>.494</td><td>1.0-2.0</td><td>.500</td><td>5.2-6.2</td><td>.839</td></tr>, <tr align=\"right\" class=\"colhead\"><td align=\"left\" style=\"width:20px;\">RK</td><td align=\"left\">PLAYER</td><td align=\"left\">TEAM</td><td><a href=\"http://espn.go.com/nba/statistics/player/_/stat/scoring-per-game/sort/gamesPlayed/qualified/false\" title=\"Games Played\">GP</a></td><td><a href=\"http://espn.go.com/nba/statistics/player/_/stat/scoring-per-game/sort/avgMinutes/qualified/false\" title=\"Minutes Per Game\">MPG</a></td><td><a href=\"http://espn.go.com/nba/statistics/player/_/stat/scoring-per-game/sort/avgPoints/qualified/false/order/false\" title=\"Points Per Game\">PTS</a></td><td><span title=\"Field Goals Made-Attempted Per Game\">FGM-FGA</span></td><td><a href=\"http://espn.go.com/nba/statistics/player/_/stat/scoring-per-game/sort/fieldGoalPct/qualified/false\" title=\"Field Goal Percentage\">FG%</a></td><td><span title=\"3-Point Field Goals Made-Attempted Per Game\">3PM-3PA</span></td><td><a href=\"http://espn.go.com/nba/statistics/player/_/stat/scoring-per-game/sort/threePointFieldGoalPct/qualified/false\" title=\"3-Point Field Goal Percentage\">3P%</a></td><td><span title=\"Free Throws Made-Attempted Per Game\">FTM-FTA</span></td><td><a href=\"http://espn.go.com/nba/statistics/player/_/stat/scoring-per-game/sort/freeThrowPct/qualified/false\" title=\"Free Throws Percentage\">FT%</a></td></tr>, <tr align=\"right\" class=\"oddrow player-46-3978\"><td align=\"left\"> </td><td align=\"left\"><a href=\"http://espn.go.com/nba/player/_/id/3978/demar-derozan\">DeMar DeRozan</a>, SG</td><td align=\"left\">TOR</td><td>5</td><td>35.0</td><td class=\"sortcell\">22.2</td><td>6.4-15.2</td><td>.421</td><td>0.4-1.4</td><td>.286</td><td>9.0-11.0</td><td>.818</td></tr>, <tr align=\"right\" class=\"evenrow player-46-2490149\"><td align=\"left\"> </td><td align=\"left\"><a href=\"http://espn.go.com/nba/player/_/id/2490149/c.j.-mccollum\">C.J. McCollum</a>, SG</td><td align=\"left\">POR</td><td>6</td><td>34.3</td><td class=\"sortcell\">22.2</td><td>8.5-18.0</td><td>.472</td><td>3.0-6.5</td><td>.462</td><td>2.2-2.7</td><td>.813</td></tr>, <tr align=\"right\" class=\"oddrow player-46-4258\"><td align=\"left\">13</td><td align=\"left\"><a href=\"http://espn.go.com/nba/player/_/id/4258/demarcus-cousins\">DeMarcus Cousins</a>, PF</td><td align=\"left\">SAC</td><td>3</td><td>26.0</td><td class=\"sortcell\">22.0</td><td>7.0-16.7</td><td>.420</td><td>1.3-3.3</td><td>.400</td><td>6.7-9.0</td><td>.741</td></tr>, <tr align=\"right\" class=\"evenrow player-46-1975\"><td align=\"left\">14</td><td align=\"left\"><a href=\"http://espn.go.com/nba/player/_/id/1975/carmelo-anthony\">Carmelo Anthony</a>, SF</td><td align=\"left\">NY</td><td>5</td><td>33.8</td><td class=\"sortcell\">21.8</td><td>7.0-19.2</td><td>.365</td><td>1.6-5.0</td><td>.320</td><td>6.2-7.0</td><td>.886</td></tr>, <tr align=\"right\" class=\"oddrow player-46-6430\"><td align=\"left\">15</td><td align=\"left\"><a href=\"http://espn.go.com/nba/player/_/id/6430/jimmy-butler\">Jimmy Butler</a>, SG</td><td align=\"left\">CHI</td><td>6</td><td>36.0</td><td class=\"sortcell\">21.7</td><td>7.0-15.0</td><td>.467</td><td>2.0-3.5</td><td>.571</td><td>5.7-6.8</td><td>.829</td></tr>, <tr align=\"right\" class=\"evenrow player-46-6450\"><td align=\"left\">16</td><td align=\"left\"><a href=\"http://espn.go.com/nba/player/_/id/6450/kawhi-leonard\">Kawhi Leonard</a>, SF</td><td align=\"left\">SA</td><td>5</td><td>33.2</td><td class=\"sortcell\">21.6</td><td>9.0-18.8</td><td>.479</td><td>0.8-3.2</td><td>.250</td><td>2.8-2.8</td><td>1.000</td></tr>, <tr align=\"right\" class=\"oddrow player-46-3032977\"><td align=\"left\">17</td><td align=\"left\"><a href=\"http://espn.go.com/nba/player/_/id/3032977/giannis-antetokounmpo\">Giannis Antetokounmpo</a>, SF</td><td align=\"left\">MIL</td><td>4</td><td>37.5</td><td class=\"sortcell\">21.3</td><td>8.0-13.5</td><td>.593</td><td>1.0-2.0</td><td>.500</td><td>4.3-5.3</td><td>.810</td></tr>, <tr align=\"right\" class=\"evenrow player-46-4237\"><td align=\"left\">18</td><td align=\"left\"><a href=\"http://espn.go.com/nba/player/_/id/4237/john-wall\">John Wall</a>, PG</td><td align=\"left\">WSH</td><td>4</td><td>36.0</td><td class=\"sortcell\">20.8</td><td>6.8-15.3</td><td>.443</td><td>1.5-4.8</td><td>.316</td><td>5.8-8.0</td><td>.719</td></tr>, <tr align=\"right\" class=\"oddrow player-46-6583\"><td align=\"left\"> </td><td align=\"left\"><a href=\"http://espn.go.com/nba/player/_/id/6583/anthony-davis\">Anthony Davis</a>, PF</td><td align=\"left\">NO</td><td>4</td><td>37.3</td><td class=\"sortcell\">20.8</td><td>6.3-16.5</td><td>.379</td><td>1.0-2.8</td><td>.364</td><td>7.3-10.0</td><td>.725</td></tr>, <tr align=\"right\" class=\"evenrow player-46-4238\"><td align=\"left\">20</td><td align=\"left\"><a href=\"http://espn.go.com/nba/player/_/id/4238/eric-bledsoe\">Eric Bledsoe</a>, PG</td><td align=\"left\">PHX</td><td>5</td><td>33.4</td><td class=\"sortcell\">20.6</td><td>7.2-16.8</td><td>.429</td><td>1.0-3.6</td><td>.278</td><td>5.2-6.8</td><td>.765</td></tr>, <tr align=\"right\" class=\"colhead\"><td align=\"left\" style=\"width:20px;\">RK</td><td align=\"left\">PLAYER</td><td align=\"left\">TEAM</td><td><a href=\"http://espn.go.com/nba/statistics/player/_/stat/scoring-per-game/sort/gamesPlayed/qualified/false\" title=\"Games Played\">GP</a></td><td><a href=\"http://espn.go.com/nba/statistics/player/_/stat/scoring-per-game/sort/avgMinutes/qualified/false\" title=\"Minutes Per Game\">MPG</a></td><td><a href=\"http://espn.go.com/nba/statistics/player/_/stat/scoring-per-game/sort/avgPoints/qualified/false/order/false\" title=\"Points Per Game\">PTS</a></td><td><span title=\"Field Goals Made-Attempted Per Game\">FGM-FGA</span></td><td><a href=\"http://espn.go.com/nba/statistics/player/_/stat/scoring-per-game/sort/fieldGoalPct/qualified/false\" title=\"Field Goal Percentage\">FG%</a></td><td><span title=\"3-Point Field Goals Made-Attempted Per Game\">3PM-3PA</span></td><td><a href=\"http://espn.go.com/nba/statistics/player/_/stat/scoring-per-game/sort/threePointFieldGoalPct/qualified/false\" title=\"3-Point Field Goal Percentage\">3P%</a></td><td><span title=\"Free Throws Made-Attempted Per Game\">FTM-FTA</span></td><td><a href=\"http://espn.go.com/nba/statistics/player/_/stat/scoring-per-game/sort/freeThrowPct/qualified/false\" title=\"Free Throws Percentage\">FT%</a></td></tr>, <tr align=\"right\" class=\"oddrow player-46-6588\"><td align=\"left\"> </td><td align=\"left\"><a href=\"http://espn.go.com/nba/player/_/id/6588/evan-fournier\">Evan Fournier</a>, SF</td><td align=\"left\">ORL</td><td>5</td><td>39.0</td><td class=\"sortcell\">20.6</td><td>8.0-16.8</td><td>.476</td><td>2.2-6.4</td><td>.344</td><td>2.4-3.4</td><td>.706</td></tr>, <tr align=\"right\" class=\"evenrow player-46-6585\"><td align=\"left\">22</td><td align=\"left\"><a href=\"http://espn.go.com/nba/player/_/id/6585/andre-drummond\">Andre Drummond</a>, C</td><td align=\"left\">DET</td><td>4</td><td>39.0</td><td class=\"sortcell\">20.3</td><td>7.8-15.8</td><td>.492</td><td>0.0-0.0</td><td>.000</td><td>4.8-8.3</td><td>.576</td></tr>, <tr align=\"right\" class=\"oddrow player-46-3135048\"><td align=\"left\"> </td><td align=\"left\"><a href=\"http://espn.go.com/nba/player/_/id/3135048/jahlil-okafor\">Jahlil Okafor</a>, C</td><td align=\"left\">PHI</td><td>4</td><td>34.0</td><td class=\"sortcell\">20.3</td><td>8.5-15.5</td><td>.548</td><td>0.0-0.0</td><td>.000</td><td>3.3-4.0</td><td>.813</td></tr>, <tr align=\"right\" class=\"evenrow player-46-3448\"><td align=\"left\">24</td><td align=\"left\"><a href=\"http://espn.go.com/nba/player/_/id/3448/brook-lopez\">Brook Lopez</a>, C</td><td align=\"left\">BKN</td><td>5</td><td>32.8</td><td class=\"sortcell\">20.0</td><td>7.4-13.0</td><td>.569</td><td>0.0-0.2</td><td>.000</td><td>5.2-6.6</td><td>.788</td></tr>, <tr align=\"right\" class=\"oddrow player-46-4260\"><td align=\"left\">25</td><td align=\"left\"><a href=\"http://espn.go.com/nba/player/_/id/4260/greg-monroe\">Greg Monroe</a>, C</td><td align=\"left\">MIL</td><td>5</td><td>34.8</td><td class=\"sortcell\">19.8</td><td>7.8-13.2</td><td>.591</td><td>0.0-0.0</td><td>.000</td><td>4.2-5.2</td><td>.808</td></tr>, <tr align=\"right\" class=\"evenrow player-46-3012\"><td align=\"left\">26</td><td align=\"left\"><a href=\"http://espn.go.com/nba/player/_/id/3012/kyle-lowry\">Kyle Lowry</a>, PG</td><td align=\"left\">TOR</td><td>5</td><td>34.6</td><td class=\"sortcell\">19.2</td><td>6.0-13.4</td><td>.448</td><td>2.0-4.6</td><td>.435</td><td>5.2-6.2</td><td>.839</td></tr>, <tr align=\"right\" class=\"oddrow player-46-4015\"><td align=\"left\"> </td><td align=\"left\"><a href=\"http://espn.go.com/nba/player/_/id/4015/jeff-teague\">Jeff Teague</a>, PG</td><td align=\"left\">ATL</td><td>6</td><td>31.7</td><td class=\"sortcell\">19.2</td><td>6.5-14.0</td><td>.464</td><td>0.8-2.8</td><td>.294</td><td>5.3-6.2</td><td>.865</td></tr>, <tr align=\"right\" class=\"evenrow player-46-6443\"><td align=\"left\">28</td><td align=\"left\"><a href=\"http://espn.go.com/nba/player/_/id/6443/reggie-jackson\">Reggie Jackson</a>, PG</td><td align=\"left\">DET</td><td>4</td><td>33.8</td><td class=\"sortcell\">19.0</td><td>7.0-17.0</td><td>.412</td><td>1.5-3.8</td><td>.400</td><td>3.5-4.5</td><td>.778</td></tr>, <tr align=\"right\" class=\"oddrow player-46-2394\"><td align=\"left\">29</td><td align=\"left\"><a href=\"http://espn.go.com/nba/player/_/id/2394/kevin-martin\">Kevin Martin</a>, SG</td><td align=\"left\">MIN</td><td>4</td><td>28.0</td><td class=\"sortcell\">18.8</td><td>5.3-11.5</td><td>.457</td><td>0.8-3.3</td><td>.231</td><td>7.5-8.8</td><td>.857</td></tr>, <tr align=\"right\" class=\"evenrow player-46-4251\"><td align=\"left\">30</td><td align=\"left\"><a href=\"http://espn.go.com/nba/player/_/id/4251/paul-george\">Paul George</a>, SF</td><td align=\"left\">IND</td><td>5</td><td>34.8</td><td class=\"sortcell\">18.6</td><td>5.6-15.6</td><td>.359</td><td>1.8-6.2</td><td>.290</td><td>5.6-6.4</td><td>.875</td></tr>, <tr align=\"right\" class=\"colhead\"><td align=\"left\" style=\"width:20px;\">RK</td><td align=\"left\">PLAYER</td><td align=\"left\">TEAM</td><td><a href=\"http://espn.go.com/nba/statistics/player/_/stat/scoring-per-game/sort/gamesPlayed/qualified/false\" title=\"Games Played\">GP</a></td><td><a href=\"http://espn.go.com/nba/statistics/player/_/stat/scoring-per-game/sort/avgMinutes/qualified/false\" title=\"Minutes Per Game\">MPG</a></td><td><a href=\"http://espn.go.com/nba/statistics/player/_/stat/scoring-per-game/sort/avgPoints/qualified/false/order/false\" title=\"Points Per Game\">PTS</a></td><td><span title=\"Field Goals Made-Attempted Per Game\">FGM-FGA</span></td><td><a href=\"http://espn.go.com/nba/statistics/player/_/stat/scoring-per-game/sort/fieldGoalPct/qualified/false\" title=\"Field Goal Percentage\">FG%</a></td><td><span title=\"3-Point Field Goals Made-Attempted Per Game\">3PM-3PA</span></td><td><a href=\"http://espn.go.com/nba/statistics/player/_/stat/scoring-per-game/sort/threePointFieldGoalPct/qualified/false\" title=\"3-Point Field Goal Percentage\">3P%</a></td><td><span title=\"Free Throws Made-Attempted Per Game\">FTM-FTA</span></td><td><a href=\"http://espn.go.com/nba/statistics/player/_/stat/scoring-per-game/sort/freeThrowPct/qualified/false\" title=\"Free Throws Percentage\">FT%</a></td></tr>, <tr align=\"right\" class=\"oddrow player-46-2528426\"><td align=\"left\">31</td><td align=\"left\"><a href=\"http://espn.go.com/nba/player/_/id/2528426/jordan-clarkson\">Jordan Clarkson</a>, PG</td><td align=\"left\">LAL</td><td>4</td><td>31.3</td><td class=\"sortcell\">18.3</td><td>7.3-13.0</td><td>.558</td><td>1.8-3.8</td><td>.467</td><td>2.0-2.8</td><td>.727</td></tr>, <tr align=\"right\" class=\"evenrow player-46-3213\"><td align=\"left\">32</td><td align=\"left\"><a href=\"http://espn.go.com/nba/player/_/id/3213/al-horford\">Al Horford</a>, PF</td><td align=\"left\">ATL</td><td>6</td><td>32.3</td><td class=\"sortcell\">18.0</td><td>7.7-14.2</td><td>.541</td><td>1.0-3.2</td><td>.316</td><td>1.7-2.0</td><td>.833</td></tr>, <tr align=\"right\" class=\"oddrow player-46-6448\"><td align=\"left\">33</td><td align=\"left\"><a href=\"http://espn.go.com/nba/player/_/id/6448/brandon-knight\">Brandon Knight</a>, PG</td><td align=\"left\">PHX</td><td>5</td><td>35.0</td><td class=\"sortcell\">17.8</td><td>6.8-16.4</td><td>.415</td><td>2.2-6.4</td><td>.344</td><td>2.0-2.2</td><td>.909</td></tr>, <tr align=\"right\" class=\"evenrow player-46-3428\"><td align=\"left\">34</td><td align=\"left\"><a href=\"http://espn.go.com/nba/player/_/id/3428/danilo-gallinari\">Danilo Gallinari</a>, SF</td><td align=\"left\">DEN</td><td>5</td><td>33.6</td><td class=\"sortcell\">17.4</td><td>5.2-13.0</td><td>.400</td><td>1.0-3.0</td><td>.333</td><td>6.0-7.0</td><td>.857</td></tr>, <tr align=\"right\" class=\"oddrow player-46-6462\"><td align=\"left\">35</td><td align=\"left\"><a href=\"http://espn.go.com/nba/player/_/id/6462/marcus-morris\">Marcus Morris</a>, PF</td><td align=\"left\">DET</td><td>4</td><td>38.3</td><td class=\"sortcell\">17.3</td><td>6.0-13.8</td><td>.436</td><td>1.3-3.3</td><td>.385</td><td>4.0-5.5</td><td>.727</td></tr>, <tr align=\"right\" class=\"evenrow player-46-2779\"><td align=\"left\">36</td><td align=\"left\"><a href=\"http://espn.go.com/nba/player/_/id/2779/chris-paul\">Chris Paul</a>, PG</td><td align=\"left\">LAC</td><td>5</td><td>32.2</td><td class=\"sortcell\">17.0</td><td>6.0-13.0</td><td>.462</td><td>1.0-3.6</td><td>.278</td><td>4.0-5.0</td><td>.800</td></tr>, <tr align=\"right\" class=\"oddrow player-46-3449\"><td align=\"left\"> </td><td align=\"left\"><a href=\"http://espn.go.com/nba/player/_/id/3449/kevin-love\">Kevin Love</a>, PF</td><td align=\"left\">CLE</td><td>5</td><td>31.6</td><td class=\"sortcell\">17.0</td><td>6.0-14.6</td><td>.411</td><td>2.0-6.2</td><td>.323</td><td>3.0-3.2</td><td>.938</td></tr>, <tr align=\"right\" class=\"evenrow player-46-4017\"><td align=\"left\"> </td><td align=\"left\"><a href=\"http://espn.go.com/nba/player/_/id/4017/marcus-thornton\">Marcus Thornton</a>, SG</td><td align=\"left\">HOU</td><td>3</td><td>32.3</td><td class=\"sortcell\">17.0</td><td>7.0-14.7</td><td>.477</td><td>3.0-6.7</td><td>.450</td><td>0.0-0.0</td><td>.000</td></tr>, <tr align=\"right\" class=\"oddrow player-46-609\"><td align=\"left\">39</td><td align=\"left\"><a href=\"http://espn.go.com/nba/player/_/id/609/dirk-nowitzki\">Dirk Nowitzki</a>, PF</td><td align=\"left\">DAL</td><td>5</td><td>27.8</td><td class=\"sortcell\">16.8</td><td>6.2-12.0</td><td>.517</td><td>1.6-3.2</td><td>.500</td><td>2.8-2.8</td><td>1.000</td></tr>, <tr align=\"right\" class=\"evenrow player-46-3005\"><td align=\"left\">40</td><td align=\"left\"><a href=\"http://espn.go.com/nba/player/_/id/3005/rudy-gay\">Rudy Gay</a>, SF</td><td align=\"left\">SAC</td><td>5</td><td>31.2</td><td class=\"sortcell\">16.6</td><td>6.8-16.2</td><td>.420</td><td>1.2-3.2</td><td>.375</td><td>1.8-2.4</td><td>.750</td></tr>]\n"
     ]
    }
   ],
   "source": [
    "table_rows = table.findAll('tr')\n",
    "print table_rows"
   ]
  },
  {
   "cell_type": "markdown",
   "metadata": {},
   "source": [
    "We will save our results in 2 different ways to demonstrate how we can handle both.  The first will be a list of dicts where the key is the field name and the value is the field value.  The second will just be a list of lists of stats with no field name values (we've already defined them earlier)."
   ]
  },
  {
   "cell_type": "code",
   "execution_count": 9,
   "metadata": {
    "collapsed": false
   },
   "outputs": [
    {
     "name": "stdout",
     "output_type": "stream",
     "text": [
      "[{u'FGM-FGA': u'11.6-20.2', u'MPG': u'32.0', u'FTM-FTA': u'7.0-7.4', u'FG%': u'.574', u'GP': u'5', u'PLAYER': u'Stephen Curry', u'FT%': u'.946', u'TEAM': u'GS', u'3PM-3PA': u'5.6-10.8', 'POSITION': u'PG', u'PTS': u'35.8', u'3P%': u'.519'}, {u'FGM-FGA': u'10.2-21.0', u'MPG': u'38.2', u'FTM-FTA': u'6.7-7.5', u'FG%': u'.484', u'GP': u'6', u'PLAYER': u'Kevin Durant', u'FT%': u'.889', u'TEAM': u'OKC', u'3PM-3PA': u'2.8-6.7', 'POSITION': u'SF', u'PTS': u'29.8', u'3P%': u'.425'}, {u'FGM-FGA': u'11.2-19.0', u'MPG': u'34.6', u'FTM-FTA': u'5.8-7.6', u'FG%': u'.589', u'GP': u'5', u'PLAYER': u'Blake Griffin', u'FT%': u'.763', u'TEAM': u'LAC', u'3PM-3PA': u'0.0-0.4', 'POSITION': u'PF', u'PTS': u'28.2', u'3P%': u'.000'}, {u'FGM-FGA': u'10.0-21.3', u'MPG': u'36.7', u'FTM-FTA': u'3.5-4.0', u'FG%': u'.469', u'GP': u'6', u'PLAYER': u'Damian Lillard', u'FT%': u'.875', u'TEAM': u'POR', u'3PM-3PA': u'3.8-9.0', 'POSITION': u'PG', u'PTS': u'27.3', u'3P%': u'.426'}, {u'FGM-FGA': u'10.2-21.2', u'MPG': u'36.0', u'FTM-FTA': u'5.0-5.8', u'FG%': u'.480', u'GP': u'6', u'PLAYER': u'Russell Westbrook', u'FT%': u'.857', u'TEAM': u'OKC', u'3PM-3PA': u'1.8-5.3', 'POSITION': u'PG', u'PTS': u'27.2', u'3P%': u'.344'}]\n"
     ]
    }
   ],
   "source": [
    "players_stats_dicts = []\n",
    "players_stats_array = []\n",
    "for row in table_rows:\n",
    "    if row.attrs['class'][0]=='colhead':\n",
    "        continue\n",
    "    player_stats = []\n",
    "    row_cols = row.find_all('td')\n",
    "    col_vals = []\n",
    "    player_col = row_cols[1]\n",
    "    player_name = player_col.find('a').string\n",
    "    player_position = player_col.contents[1]\n",
    "    player_position = player_position.split(' ')[1]\n",
    "    player_stats.append(player_name)\n",
    "    player_stats.append(player_position)\n",
    "    for i in range(2, len(row_cols)):\n",
    "        stat = row_cols[i].string\n",
    "        player_stats.append(stat)\n",
    "    players_stats_array.append(player_stats)\n",
    "    player_stats = dict(zip(cols, player_stats))\n",
    "    players_stats_dicts.append(player_stats)\n",
    "print players_stats_dicts[0:5]        "
   ]
  },
  {
   "cell_type": "markdown",
   "metadata": {},
   "source": [
    "Here we've used the zip function to combine pairs of lists into tuples, and then transformed that into a dict to get a dictionary of FIELD --> VALUE for every player in the table.\n",
    "\n",
    "Beautiful Soup has many other features, including the ability to step up, down, and sideways in the HTML tree and basically search for any tags, attributes, or values.  For more, take a look at the [Documentation](http://www.crummy.com/software/BeautifulSoup/bs4/doc/)"
   ]
  },
  {
   "cell_type": "markdown",
   "metadata": {},
   "source": [
    "##Load into Pandas\n",
    "\n",
    "Let's load our scraped data into Pandas and take a look at it.  Here is the first way we can do it, simply directly from the dictionary we defined."
   ]
  },
  {
   "cell_type": "code",
   "execution_count": 10,
   "metadata": {
    "collapsed": false
   },
   "outputs": [
    {
     "data": {
      "text/html": [
       "<div>\n",
       "<table border=\"1\" class=\"dataframe\">\n",
       "  <thead>\n",
       "    <tr style=\"text-align: right;\">\n",
       "      <th></th>\n",
       "      <th>3P%</th>\n",
       "      <th>3PM-3PA</th>\n",
       "      <th>FG%</th>\n",
       "      <th>FGM-FGA</th>\n",
       "      <th>FT%</th>\n",
       "      <th>FTM-FTA</th>\n",
       "      <th>GP</th>\n",
       "      <th>MPG</th>\n",
       "      <th>PLAYER</th>\n",
       "      <th>POSITION</th>\n",
       "      <th>PTS</th>\n",
       "      <th>TEAM</th>\n",
       "    </tr>\n",
       "  </thead>\n",
       "  <tbody>\n",
       "    <tr>\n",
       "      <th>0</th>\n",
       "      <td>.519</td>\n",
       "      <td>5.6-10.8</td>\n",
       "      <td>.574</td>\n",
       "      <td>11.6-20.2</td>\n",
       "      <td>.946</td>\n",
       "      <td>7.0-7.4</td>\n",
       "      <td>5</td>\n",
       "      <td>32.0</td>\n",
       "      <td>Stephen Curry</td>\n",
       "      <td>PG</td>\n",
       "      <td>35.8</td>\n",
       "      <td>GS</td>\n",
       "    </tr>\n",
       "    <tr>\n",
       "      <th>1</th>\n",
       "      <td>.425</td>\n",
       "      <td>2.8-6.7</td>\n",
       "      <td>.484</td>\n",
       "      <td>10.2-21.0</td>\n",
       "      <td>.889</td>\n",
       "      <td>6.7-7.5</td>\n",
       "      <td>6</td>\n",
       "      <td>38.2</td>\n",
       "      <td>Kevin Durant</td>\n",
       "      <td>SF</td>\n",
       "      <td>29.8</td>\n",
       "      <td>OKC</td>\n",
       "    </tr>\n",
       "    <tr>\n",
       "      <th>2</th>\n",
       "      <td>.000</td>\n",
       "      <td>0.0-0.4</td>\n",
       "      <td>.589</td>\n",
       "      <td>11.2-19.0</td>\n",
       "      <td>.763</td>\n",
       "      <td>5.8-7.6</td>\n",
       "      <td>5</td>\n",
       "      <td>34.6</td>\n",
       "      <td>Blake Griffin</td>\n",
       "      <td>PF</td>\n",
       "      <td>28.2</td>\n",
       "      <td>LAC</td>\n",
       "    </tr>\n",
       "    <tr>\n",
       "      <th>3</th>\n",
       "      <td>.426</td>\n",
       "      <td>3.8-9.0</td>\n",
       "      <td>.469</td>\n",
       "      <td>10.0-21.3</td>\n",
       "      <td>.875</td>\n",
       "      <td>3.5-4.0</td>\n",
       "      <td>6</td>\n",
       "      <td>36.7</td>\n",
       "      <td>Damian Lillard</td>\n",
       "      <td>PG</td>\n",
       "      <td>27.3</td>\n",
       "      <td>POR</td>\n",
       "    </tr>\n",
       "    <tr>\n",
       "      <th>4</th>\n",
       "      <td>.344</td>\n",
       "      <td>1.8-5.3</td>\n",
       "      <td>.480</td>\n",
       "      <td>10.2-21.2</td>\n",
       "      <td>.857</td>\n",
       "      <td>5.0-5.8</td>\n",
       "      <td>6</td>\n",
       "      <td>36.0</td>\n",
       "      <td>Russell Westbrook</td>\n",
       "      <td>PG</td>\n",
       "      <td>27.2</td>\n",
       "      <td>OKC</td>\n",
       "    </tr>\n",
       "  </tbody>\n",
       "</table>\n",
       "</div>"
      ],
      "text/plain": [
       "    3P%   3PM-3PA   FG%    FGM-FGA   FT%  FTM-FTA GP   MPG             PLAYER  \\\n",
       "0  .519  5.6-10.8  .574  11.6-20.2  .946  7.0-7.4  5  32.0      Stephen Curry   \n",
       "1  .425   2.8-6.7  .484  10.2-21.0  .889  6.7-7.5  6  38.2       Kevin Durant   \n",
       "2  .000   0.0-0.4  .589  11.2-19.0  .763  5.8-7.6  5  34.6      Blake Griffin   \n",
       "3  .426   3.8-9.0  .469  10.0-21.3  .875  3.5-4.0  6  36.7     Damian Lillard   \n",
       "4  .344   1.8-5.3  .480  10.2-21.2  .857  5.0-5.8  6  36.0  Russell Westbrook   \n",
       "\n",
       "  POSITION   PTS TEAM  \n",
       "0       PG  35.8   GS  \n",
       "1       SF  29.8  OKC  \n",
       "2       PF  28.2  LAC  \n",
       "3       PG  27.3  POR  \n",
       "4       PG  27.2  OKC  "
      ]
     },
     "execution_count": 10,
     "metadata": {},
     "output_type": "execute_result"
    }
   ],
   "source": [
    "import pandas as pd\n",
    "import numpy as np\n",
    "\n",
    "df = pd.DataFrame.from_dict(players_stats_dicts)\n",
    "df.head()"
   ]
  },
  {
   "cell_type": "markdown",
   "metadata": {},
   "source": [
    "Now here is a 2nd way we can do it.  We convert the 2D stats array into a numpy array and create a Pandas dataframe from it along with the list of column headers we defined earlier."
   ]
  },
  {
   "cell_type": "code",
   "execution_count": 11,
   "metadata": {
    "collapsed": false
   },
   "outputs": [
    {
     "data": {
      "text/html": [
       "<div>\n",
       "<table border=\"1\" class=\"dataframe\">\n",
       "  <thead>\n",
       "    <tr style=\"text-align: right;\">\n",
       "      <th></th>\n",
       "      <th>PLAYER</th>\n",
       "      <th>POSITION</th>\n",
       "      <th>TEAM</th>\n",
       "      <th>GP</th>\n",
       "      <th>MPG</th>\n",
       "      <th>PTS</th>\n",
       "      <th>FGM-FGA</th>\n",
       "      <th>FG%</th>\n",
       "      <th>3PM-3PA</th>\n",
       "      <th>3P%</th>\n",
       "      <th>FTM-FTA</th>\n",
       "      <th>FT%</th>\n",
       "    </tr>\n",
       "  </thead>\n",
       "  <tbody>\n",
       "    <tr>\n",
       "      <th>0</th>\n",
       "      <td>Stephen Curry</td>\n",
       "      <td>PG</td>\n",
       "      <td>GS</td>\n",
       "      <td>5</td>\n",
       "      <td>32.0</td>\n",
       "      <td>35.8</td>\n",
       "      <td>11.6-20.2</td>\n",
       "      <td>.574</td>\n",
       "      <td>5.6-10.8</td>\n",
       "      <td>.519</td>\n",
       "      <td>7.0-7.4</td>\n",
       "      <td>.946</td>\n",
       "    </tr>\n",
       "    <tr>\n",
       "      <th>1</th>\n",
       "      <td>Kevin Durant</td>\n",
       "      <td>SF</td>\n",
       "      <td>OKC</td>\n",
       "      <td>6</td>\n",
       "      <td>38.2</td>\n",
       "      <td>29.8</td>\n",
       "      <td>10.2-21.0</td>\n",
       "      <td>.484</td>\n",
       "      <td>2.8-6.7</td>\n",
       "      <td>.425</td>\n",
       "      <td>6.7-7.5</td>\n",
       "      <td>.889</td>\n",
       "    </tr>\n",
       "    <tr>\n",
       "      <th>2</th>\n",
       "      <td>Blake Griffin</td>\n",
       "      <td>PF</td>\n",
       "      <td>LAC</td>\n",
       "      <td>5</td>\n",
       "      <td>34.6</td>\n",
       "      <td>28.2</td>\n",
       "      <td>11.2-19.0</td>\n",
       "      <td>.589</td>\n",
       "      <td>0.0-0.4</td>\n",
       "      <td>.000</td>\n",
       "      <td>5.8-7.6</td>\n",
       "      <td>.763</td>\n",
       "    </tr>\n",
       "    <tr>\n",
       "      <th>3</th>\n",
       "      <td>Damian Lillard</td>\n",
       "      <td>PG</td>\n",
       "      <td>POR</td>\n",
       "      <td>6</td>\n",
       "      <td>36.7</td>\n",
       "      <td>27.3</td>\n",
       "      <td>10.0-21.3</td>\n",
       "      <td>.469</td>\n",
       "      <td>3.8-9.0</td>\n",
       "      <td>.426</td>\n",
       "      <td>3.5-4.0</td>\n",
       "      <td>.875</td>\n",
       "    </tr>\n",
       "    <tr>\n",
       "      <th>4</th>\n",
       "      <td>Russell Westbrook</td>\n",
       "      <td>PG</td>\n",
       "      <td>OKC</td>\n",
       "      <td>6</td>\n",
       "      <td>36.0</td>\n",
       "      <td>27.2</td>\n",
       "      <td>10.2-21.2</td>\n",
       "      <td>.480</td>\n",
       "      <td>1.8-5.3</td>\n",
       "      <td>.344</td>\n",
       "      <td>5.0-5.8</td>\n",
       "      <td>.857</td>\n",
       "    </tr>\n",
       "  </tbody>\n",
       "</table>\n",
       "</div>"
      ],
      "text/plain": [
       "              PLAYER POSITION TEAM GP   MPG   PTS    FGM-FGA   FG%   3PM-3PA  \\\n",
       "0      Stephen Curry       PG   GS  5  32.0  35.8  11.6-20.2  .574  5.6-10.8   \n",
       "1       Kevin Durant       SF  OKC  6  38.2  29.8  10.2-21.0  .484   2.8-6.7   \n",
       "2      Blake Griffin       PF  LAC  5  34.6  28.2  11.2-19.0  .589   0.0-0.4   \n",
       "3     Damian Lillard       PG  POR  6  36.7  27.3  10.0-21.3  .469   3.8-9.0   \n",
       "4  Russell Westbrook       PG  OKC  6  36.0  27.2  10.2-21.2  .480   1.8-5.3   \n",
       "\n",
       "    3P%  FTM-FTA   FT%  \n",
       "0  .519  7.0-7.4  .946  \n",
       "1  .425  6.7-7.5  .889  \n",
       "2  .000  5.8-7.6  .763  \n",
       "3  .426  3.5-4.0  .875  \n",
       "4  .344  5.0-5.8  .857  "
      ]
     },
     "execution_count": 11,
     "metadata": {},
     "output_type": "execute_result"
    }
   ],
   "source": [
    "np_array = np.array(players_stats_array)\n",
    "df = pd.DataFrame(np_array, columns=cols)\n",
    "df.head()"
   ]
  },
  {
   "cell_type": "markdown",
   "metadata": {},
   "source": [
    "##Exercise\n",
    "\n",
    "The goal of this exercise is to combine the scoring and assists statistics for every player in the NBA in 2014-2015.  The end result will have them in a pandas dataframe with the fields from both pages for every player.\n",
    "\n",
    "The general steps should be as follows:\n",
    "- Create a function get_cols that retrieves the names of the header columns given a table element (skip the ranks, split the positions)\n",
    "- Create a function get_data that retrieves the actual table data given a table element (skip the ranks, split the positions).  You can use either the dict approach or the numpy array approach.\n",
    "- Write a python loop to loop through the various pages and call these functions on the appropriate urls so that you can retrieve every player (rather than just the top few).\n",
    "- Repeat the above on both the scoring and assists URLs to get a pandas dataframe for both of them\n",
    "- Use the pandas.DataFrame.join() function to join your 2 pandas dataframes together and get a total result"
   ]
  },
  {
   "cell_type": "code",
   "execution_count": 12,
   "metadata": {
    "collapsed": false
   },
   "outputs": [],
   "source": [
    "import pandas as pd\n",
    "import numpy as np\n",
    "import urllib2\n",
    "from bs4 import BeautifulSoup\n",
    "\n",
    "\n",
    "def get_cols(table):\n",
    "    table_head = table.find(attrs={\"class\":'colhead'})\n",
    "    header_cols = table_head.findAll('td')\n",
    "    \n",
    "    cols = []\n",
    "    for header_col in header_cols:\n",
    "        val = header_col.string\n",
    "        if val != 'RK':\n",
    "            cols.append(val)\n",
    "        if val == 'PLAYER':\n",
    "            cols.append('POSITION')\n",
    "           \n",
    "    return cols"
   ]
  },
  {
   "cell_type": "code",
   "execution_count": 13,
   "metadata": {
    "collapsed": true
   },
   "outputs": [],
   "source": [
    "#Take page URL and return the my-players-table \n",
    "def open_page_find_table(page):\n",
    "    page = urllib2.urlopen(page).read()\n",
    "    soup = BeautifulSoup(page)\n",
    "    table_div = soup.find(id='my-players-table')\n",
    "    table = table_div.find(\"table\")\n",
    "    return table"
   ]
  },
  {
   "cell_type": "code",
   "execution_count": 14,
   "metadata": {
    "collapsed": false
   },
   "outputs": [],
   "source": [
    "def get_data(table):\n",
    "    #Initialize the arrays and find all rows in the table\n",
    "    table_rows = table.findAll('tr')\n",
    "    players_stats_array = []\n",
    "    \n",
    "    #loop through the rows we found, Ignore the Column Header row\n",
    "    for row in table_rows:\n",
    "        if row.attrs['class'][0]=='colhead':\n",
    "            continue\n",
    "      \n",
    "        #Intialize the arrays for the players stats\n",
    "        player_stats = []\n",
    "        row_cols = row.find_all('td')\n",
    "        col_vals = []\n",
    "    \n",
    "        #Set the player column to the current row\n",
    "        player_col = row_cols[1]\n",
    "        #Element <a> contains the payer name, insdie the first <td> element\n",
    "        player_name = player_col.find('a').string \n",
    "        player_position = player_col.contents[1]\n",
    "        player_position = player_position.split(' ')[1]\n",
    "        player_stats.append(player_name)\n",
    "        player_stats.append(player_position)\n",
    "    \n",
    "        #Loop through the rest of the Columns and append the values to player_stats\n",
    "        for i in range(2, len(row_cols)):\n",
    "            stat = row_cols[i].string\n",
    "            player_stats.append(stat)\n",
    "        \n",
    "        #Add that player's stats to the player_stats_array   \n",
    "        players_stats_array.append(player_stats)\n",
    "            \n",
    "    return players_stats_array"
   ]
  },
  {
   "cell_type": "code",
   "execution_count": 15,
   "metadata": {
    "collapsed": false
   },
   "outputs": [],
   "source": [
    "page_URL = 'http://espn.go.com/nba/statistics/player/_/stat/scoring-per-game/sort/avgPoints/qualified/false'\n",
    "\n",
    "table = open_page_find_table(page_URL)\n",
    "cols = get_cols(table)\n",
    "players_stats_array = get_data(table)\n",
    "\n",
    "# we need to add to the stats_array and dict instead of reassigning them \n",
    "for i in range(1,5):\n",
    "    x = (i * 40) + 1\n",
    "    page_URL = 'http://espn.go.com/nba/statistics/player/_/stat/scoring-per-game/sort/avgPoints/qualified/false/count/' + str(x)\n",
    "    \n",
    "    table = open_page_find_table(page_URL)\n",
    "    players_stats_array.extend( get_data(table) )\n",
    "    \n",
    "#Now use NumPy array to create a Dataframe\n",
    "np_array = np.array(players_stats_array)\n",
    "points_df = pd.DataFrame(np_array, columns=cols)"
   ]
  },
  {
   "cell_type": "code",
   "execution_count": 16,
   "metadata": {
    "collapsed": false
   },
   "outputs": [],
   "source": [
    "# Now we need to do the same thing for Assists    \n",
    "page_URL = 'http://espn.go.com/nba/statistics/player/_/stat/assists/sort/avgAssists/qualified/false'\n",
    "\n",
    "table = open_page_find_table(page_URL)\n",
    "cols = get_cols(table)\n",
    "players_stats_array = get_data(table)\n",
    "\n",
    "# we need to add to the stats_array and dict instead of reassigning them \n",
    "for i in range(1,5):\n",
    "    x = (i * 40) + 1\n",
    "    page_URL = 'http://espn.go.com/nba/statistics/player/_/stat/assists/sort/avgAssists/qualified/false/count/' + str(x)\n",
    "    \n",
    "    table = open_page_find_table(page_URL)\n",
    "    players_stats_array.extend( get_data(table) )\n",
    "\n",
    "    \n",
    "#Now use NumPy array to create a Dataframe\n",
    "np_arr = np.array(players_stats_array)\n",
    "assists_df = pd.DataFrame(np_arr, columns=cols) "
   ]
  },
  {
   "cell_type": "code",
   "execution_count": 18,
   "metadata": {
    "collapsed": false
   },
   "outputs": [],
   "source": [
    "\n",
    "#Merge dataframes on player\n",
    "full_df = pd.merge(points_df, assists_df, on = ['PLAYER','POSITION','TEAM','GP','MPG'], how='outer')\n",
    "full_df.to_csv('HW2.csv')"
   ]
  },
  {
   "cell_type": "code",
   "execution_count": null,
   "metadata": {
    "collapsed": true
   },
   "outputs": [],
   "source": []
  }
 ],
 "metadata": {
  "kernelspec": {
   "display_name": "Python 2",
   "language": "python",
   "name": "python2"
  },
  "language_info": {
   "codemirror_mode": {
    "name": "ipython",
    "version": 2
   },
   "file_extension": ".py",
   "mimetype": "text/x-python",
   "name": "python",
   "nbconvert_exporter": "python",
   "pygments_lexer": "ipython2",
   "version": "2.7.10"
  }
 },
 "nbformat": 4,
 "nbformat_minor": 0
}
